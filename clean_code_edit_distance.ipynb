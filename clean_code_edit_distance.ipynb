{
 "cells": [
  {
   "cell_type": "markdown",
   "metadata": {},
   "source": [
    "# Import library"
   ]
  },
  {
   "cell_type": "code",
   "execution_count": 1,
   "metadata": {},
   "outputs": [],
   "source": [
    "from tqdm import tqdm # library to show progress bar\n",
    "import pickle # library to load/dump binary file\n",
    "import matplotlib.pyplot as plt"
   ]
  },
  {
   "cell_type": "markdown",
   "metadata": {},
   "source": [
    "# Global function"
   ]
  },
  {
   "cell_type": "code",
   "execution_count": 2,
   "metadata": {},
   "outputs": [],
   "source": [
    "def printPath(path):\n",
    "    for i in path:\n",
    "        print(f\"{i['eng']:<40}{i['thai']:<40}{i['choice']:<20}\")"
   ]
  },
  {
   "cell_type": "code",
   "execution_count": 3,
   "metadata": {},
   "outputs": [],
   "source": [
    "def readFile(filePath):\n",
    "    f = open(filePath, \"rb\") #สั่งเปิดไฟล์\n",
    "    file = pickle.load(f) # load ไฟล์\n",
    "    f.close() #สั่งปิดไฟล์\n",
    "    \n",
    "    return file"
   ]
  },
  {
   "cell_type": "markdown",
   "metadata": {},
   "source": [
    "# Import dictionary thai-english & english-thai"
   ]
  },
  {
   "cell_type": "code",
   "execution_count": 4,
   "metadata": {},
   "outputs": [],
   "source": [
    "thai_dic = readFile(\"./dictionary/thai_test_set_dictionary.pkl\") # อ่านไฟล์ thai dictionary\n",
    "eng_dic = readFile(\"./dictionary/eng_dictionary_new.pkl\") # อ่านไฟล์ english dictionary"
   ]
  },
  {
   "cell_type": "markdown",
   "metadata": {},
   "source": [
    "# Import sentences thai & english"
   ]
  },
  {
   "cell_type": "code",
   "execution_count": 5,
   "metadata": {},
   "outputs": [],
   "source": [
    "def readSentences(filePath, NER=False):\n",
    "\n",
    "    file = readFile(filePath)\n",
    "    \n",
    "    if NER: # case ที่ มี NER tag ในข้อมูลด้วย\n",
    "        sents = []\n",
    "        ners = []\n",
    "        for i in file:\n",
    "            sent = []\n",
    "            ner = []\n",
    "            for j in i:\n",
    "                sent.append(j[0])\n",
    "                ner.append(j[1])\n",
    "            sents.append(sent)\n",
    "            ners.append(ner)\n",
    "        return sents, ners\n",
    "    else: # case ที่ ไม่มี NER tag ในข้อมูลด้วย\n",
    "        return file"
   ]
  },
  {
   "cell_type": "markdown",
   "metadata": {},
   "source": [
    "# Edit distance"
   ]
  },
  {
   "cell_type": "markdown",
   "metadata": {},
   "source": [
    "### No NER case (case #0)"
   ]
  },
  {
   "cell_type": "code",
   "execution_count": 6,
   "metadata": {},
   "outputs": [],
   "source": [
    "def editDistDP(eng_sentence, thai_sentence, findPath=False): \n",
    "    \n",
    "    # initial variable\n",
    "    m = len(eng_sentence)\n",
    "    n = len(thai_sentence)\n",
    "    dp = [[0 for x in range(n + 1)] for x in range(m + 1)] # Create a table to store results of subproblems\n",
    "    if findPath: # ถ้าอยากดู path\n",
    "        path = [[[] for x in range(n + 1)] for x in range(m + 1)]\n",
    "    \n",
    "    # check empty sentence\n",
    "    if (not eng_sentence) or (not thai_sentence):\n",
    "        return 9999\n",
    "    \n",
    "    # local function\n",
    "    def PathFindding(m, n):\n",
    "        minimumPath = []\n",
    "        a, b = m, n\n",
    "        while a > 0 and b > 0:\n",
    "            minimumPath.insert(0, {'eng':eng_sentence[a-1], 'thai':thai_sentence[b-1], 'choice': path[a][b]})\n",
    "            choice = min(dp[a][b-1],        # Insert\n",
    "                        dp[a-1][b],         # Remove\n",
    "                        dp[a-1][b-1])       # Replace\n",
    "            if choice == dp[a][b-1]:\n",
    "                b = b-1\n",
    "            elif choice == dp[a-1][b]:\n",
    "                a = a-1\n",
    "            elif choice == dp[a-1][b-1]:\n",
    "                a = a-1\n",
    "                b = b-1\n",
    "            else:\n",
    "                a = a-1\n",
    "                b = b-1 \n",
    "        return minimumPath\n",
    "    \n",
    "    def scoring(i, j):\n",
    "        # initial variable\n",
    "        score = 0 # score ของความเหมือน (โดยยิ่งน้อยยิ่งเหมือน range = [0,1])\n",
    "        same_meaning = 0 # ตัวแปรเก็บจำนวนความเหมือนของความหมาย\n",
    "        num_thai_meaning = 0 # จำนวนความหมาย\n",
    "        num_english_meaning = 0 # จำนวนความหมาย\n",
    "\n",
    "        # if a word have meaning in dictionary\n",
    "        try:\n",
    "            # เก็บจำนวนความหมาย\n",
    "            num_english_meaning = len(eng_dic[eng_sentence[i-1].lower()])\n",
    "            num_thai_meaning = len(thai_dic[thai_sentence[j-1]])\n",
    "\n",
    "            # ถ้ามีความหมายตรงกันหมดให้คะแนนเต็มไปเลย\n",
    "            if thai_dic[thai_sentence[j-1]] == eng_dic[eng_sentence[i-1]]:\n",
    "                score = 0\n",
    "            # ถ้าไม่เหมือนหมดจะหาจำนวนความหมายที่เหมือนแล้วนำไปคิดคะแนนต่อไป\n",
    "            else:\n",
    "                for thai_meaning in thai_dic[thai_sentence[j-1]]:\n",
    "                    for eng_meaning in eng_dic[eng_sentence[i-1]]:\n",
    "                        if thai_meaning == eng_meaning:\n",
    "                            same_meaning += 1\n",
    "                            break\n",
    "\n",
    "                # ช่วงคิดคะแนน\n",
    "                # ไม่มีความหมายที่ตรงกันเลย\n",
    "                if same_meaning == 0:\n",
    "                    score = 1\n",
    "                # มีอย่างน้อย 1 ความหมายที่ตรงกัน\n",
    "                else:\n",
    "                    score = 0\n",
    "#                     score = 1 - (same_meaning / (same_meaning + (len(thai_dic[thai_sentence[j-1]]) - same_meaning) + (len(eng_dic[eng_sentence[i-1]]) - same_meaning)))\n",
    "\n",
    "        # if a word doesn't have meaning in dictionary       \n",
    "        # Note: ตรงนี้อาจจะต้องปรับแก้\n",
    "        except:\n",
    "            score = 1\n",
    "            return score, False\n",
    "        \n",
    "        return score, same_meaning != 0 # case แค่เหมือนตัวเดียวเอาเลย\n",
    "#         return score, (num_thai_meaning - same_meaning == 0 and num_english_meaning - same_meaning == 0)\n",
    "                \n",
    "    # Edit distance\n",
    "    for i in range(m + 1):\n",
    "        for j in range(n + 1):\n",
    " \n",
    "            # my score\n",
    "            score, copy_check = scoring(i, j)\n",
    "\n",
    "            # If first sentence is empty, only option is to\n",
    "            # insert all words of second sentence\n",
    "            if i == 0:\n",
    "                dp[i][j] = j   # Min. operations = j\n",
    " \n",
    "            # If second sentence is empty, only option is to\n",
    "            # remove all words of second sentence\n",
    "            elif j == 0:\n",
    "                dp[i][j] = i   # Min. operations = i\n",
    " \n",
    "            # If last word have same meaning, ignore last char\n",
    "            # and recur for remaining sentence\n",
    "            elif copy_check:\n",
    "                dp[i][j] = dp[i-1][j-1]\n",
    "                if findPath:\n",
    "                    path[i][j] = 'Copy'\n",
    " \n",
    "            # If last word are different meaning, consider all\n",
    "            # possibilities and find minimum\n",
    "            else:\n",
    "                choice = min(dp[i][j-1],        # Insert\n",
    "                             dp[i-1][j],        # Remove\n",
    "                             dp[i-1][j-1])      # Replace\n",
    "                dp[i][j] = score + choice\n",
    "                if findPath:\n",
    "                    if choice == dp[i][j-1]:\n",
    "                        path[i][j] = 'Insert'\n",
    "                    elif choice == dp[i-1][j]:\n",
    "                        path[i][j] = 'Remove'\n",
    "                    else:\n",
    "                        path[i][j] = 'Replace'\n",
    "                \n",
    "    if findPath:\n",
    "        return dp[m][n], PathFindding(m, n)\n",
    "    else:\n",
    "        return dp[m][n]"
   ]
  },
  {
   "cell_type": "markdown",
   "metadata": {},
   "source": [
    "### With NER case (case #1)"
   ]
  },
  {
   "cell_type": "code",
   "execution_count": 7,
   "metadata": {},
   "outputs": [],
   "source": [
    "def editDistDP_NER(eng_sentence, thai_sentence, eng_ner, thai_ner, findPath=False): \n",
    "    \n",
    "    # initial variable\n",
    "    m = len(eng_sentence)\n",
    "    n = len(thai_sentence)\n",
    "    dp = [[0 for x in range(n + 1)] for x in range(m + 1)] # Create a table to store results of subproblems\n",
    "    if findPath: # ถ้าอยากดู path\n",
    "        path = [['' for x in range(n + 1)] for x in range(m + 1)]\n",
    "    \n",
    "    # check empty sentence\n",
    "    if (not eng_sentence) or (not thai_sentence):\n",
    "        return 9999\n",
    "    \n",
    "    # local function\n",
    "    def PathFindding(m, n):\n",
    "        minimumPath = []\n",
    "        a, b = m, n\n",
    "        while a > 0 and b > 0:\n",
    "            minimumPath.insert(0, {'eng':eng_sentence[a-1], 'thai':thai_sentence[b-1], 'choice': path[a][b]})\n",
    "            choice = min(dp[a][b-1],        # Insert\n",
    "                        dp[a-1][b],         # Remove\n",
    "                        dp[a-1][b-1])       # Replace\n",
    "            if choice == dp[a][b-1]:\n",
    "                b = b-1\n",
    "            elif choice == dp[a-1][b]:\n",
    "                a = a-1\n",
    "            elif choice == dp[a-1][b-1]:\n",
    "                a = a-1\n",
    "                b = b-1\n",
    "            else:\n",
    "                a = a-1\n",
    "                b = b-1 \n",
    "        return minimumPath\n",
    "    \n",
    "    def scoring(i, j):\n",
    "        # initial variable\n",
    "        score = 0 # score ของความเหมือน (โดยยิ่งน้อยยิ่งเหมือน range = [0,1])\n",
    "        same_meaning = 0 # ตัวแปรเก็บจำนวนความเหมือนของความหมาย\n",
    "        num_thai_meaning = 0 # จำนวนความหมาย\n",
    "        num_english_meaning = 0 # จำนวนความหมาย\n",
    "\n",
    "        # if a word have meaning in dictionary\n",
    "        try:\n",
    "            # เก็บจำนวนความหมาย\n",
    "            num_english_meaning = len(eng_dic[eng_sentence[i-1].lower()])\n",
    "            num_thai_meaning = len(thai_dic[thai_sentence[j-1]])\n",
    "\n",
    "            # ถ้ามีความหมายตรงกันหมดให้คะแนนเต็มไปเลย\n",
    "            if thai_dic[thai_sentence[j-1]] == eng_dic[eng_sentence[i-1]]:\n",
    "                score = 0\n",
    "            # ถ้าไม่เหมือนหมดจะหาจำนวนความหมายที่เหมือนแล้วนำไปคิดคะแนนต่อไป\n",
    "            else:\n",
    "                for thai_meaning in thai_dic[thai_sentence[j-1]]:\n",
    "                    for eng_meaning in eng_dic[eng_sentence[i-1]]:\n",
    "                        if thai_meaning == eng_meaning:\n",
    "                            same_meaning += 1\n",
    "                            break\n",
    "\n",
    "                # ช่วงคิดคะแนน\n",
    "                # ไม่มีความหมายที่ตรงกันเลย\n",
    "                if same_meaning == 0:\n",
    "                    score = 1\n",
    "                # มีอย่างน้อย 1 ความหมายที่ตรงกัน\n",
    "                else:\n",
    "#                     if num_thai_meaning == same_meaning:\n",
    "                    score = 0\n",
    "#                     else:\n",
    "#                         alpha = 0.90\n",
    "#                     score = 1 - (same_meaning / (same_meaning + (alpha * (len(thai_dic[thai_sentence[j-1]]) - same_meaning)) + ((1 - alpha) * (len(eng_dic[eng_sentence[i-1]]) - same_meaning))))\n",
    "\n",
    "        # if a word doesn't have meaning in dictionary       \n",
    "        # Note: ตรงนี้อาจจะต้องปรับแก้\n",
    "        except:\n",
    "            if (eng_ner[i-1] == thai_ner[j-1]) and eng_ner[i-1] != 'O' and thai_ner[j-1] != 'O':\n",
    "                return 0, True\n",
    "            else:\n",
    "                return 1, False\n",
    "                \n",
    "        return score, same_meaning != 0 # case แค่เหมือนตัวเดียวเอาเลย\n",
    "#         return score, (num_thai_meaning - same_meaning == 0 and num_english_meaning - same_meaning == 0) # case ดูอัตราส่วน\n",
    "#         return score, num_thai_meaning == same_meaning # case ดูความหมายไทยเป็นหลัก\n",
    "                \n",
    "    # Edit distance\n",
    "    for i in range(m + 1):\n",
    "        for j in range(n + 1):\n",
    " \n",
    "            # my score\n",
    "            score, copy_check = scoring(i, j)\n",
    "\n",
    "            # If first sentence is empty, only option is to\n",
    "            # insert all words of second sentence\n",
    "            if i == 0:\n",
    "                dp[i][j] = j   # Min. operations = j\n",
    " \n",
    "            # If second sentence is empty, only option is to\n",
    "            # remove all words of second sentence\n",
    "            elif j == 0:\n",
    "                dp[i][j] = i   # Min. operations = i\n",
    " \n",
    "            # If last word have same meaning, ignore last char\n",
    "            # and recur for remaining sentence\n",
    "            elif copy_check:\n",
    "                dp[i][j] = dp[i-1][j-1]\n",
    "                if findPath:\n",
    "                    path[i][j] = 'Copy'\n",
    " \n",
    "            # If last word are different meaning, consider all\n",
    "            # possibilities and find minimum\n",
    "            else:\n",
    "                choice = min(dp[i][j-1],        # Insert\n",
    "                             dp[i-1][j],        # Remove\n",
    "                             dp[i-1][j-1])      # Replace\n",
    "                dp[i][j] = score + choice\n",
    "                    \n",
    "                if findPath:\n",
    "                    if choice == dp[i][j-1]:\n",
    "                        path[i][j] = 'Insert'\n",
    "                    elif choice == dp[i-1][j]:\n",
    "                        path[i][j] = 'Remove'\n",
    "                    else:\n",
    "                        path[i][j] = 'Replace'\n",
    "                \n",
    "    if findPath:\n",
    "        return dp[m][n], PathFindding(m, n)\n",
    "    else:\n",
    "        return dp[m][n]"
   ]
  },
  {
   "cell_type": "markdown",
   "metadata": {},
   "source": [
    "### NP Chunking (case #2)"
   ]
  },
  {
   "cell_type": "code",
   "execution_count": 8,
   "metadata": {},
   "outputs": [],
   "source": [
    "def editDistDP_NP(eng_sentence, thai_sentence, eng_ner, thai_ner, findPath=False): \n",
    "    \n",
    "    # initial variable\n",
    "    m = len(eng_sentence)\n",
    "    n = len(thai_sentence)\n",
    "    dp = [[0 for x in range(n + 1)] for x in range(m + 1)] # Create a table to store results of subproblems\n",
    "    if findPath: # ถ้าอยากดู path\n",
    "        path = [['' for x in range(n + 1)] for x in range(m + 1)]\n",
    "    \n",
    "    # check empty sentence\n",
    "    if (not eng_sentence) or (not thai_sentence):\n",
    "        return 9999\n",
    "    \n",
    "    # local function\n",
    "    def PathFindding(m, n):\n",
    "        minimumPath = []\n",
    "        a, b = m, n\n",
    "        while a > 0 and b > 0:\n",
    "            minimumPath.insert(0, {'eng':eng_sentence[a-1], 'thai':thai_sentence[b-1], 'choice': path[a][b]})\n",
    "            choice = min(dp[a][b-1],        # Insert\n",
    "                        dp[a-1][b],         # Remove\n",
    "                        dp[a-1][b-1])       # Replace\n",
    "            if choice == dp[a][b-1]:\n",
    "                b = b-1\n",
    "            elif choice == dp[a-1][b]:\n",
    "                a = a-1\n",
    "            elif choice == dp[a-1][b-1]:\n",
    "                a = a-1\n",
    "                b = b-1\n",
    "            else:\n",
    "                a = a-1\n",
    "                b = b-1 \n",
    "        return minimumPath\n",
    "    \n",
    "    def scoring(i, j):\n",
    "        # initial variable\n",
    "        score = 0 # score ของความเหมือน (โดยยิ่งน้อยยิ่งเหมือน range = [0,1])\n",
    "        same_meaning = 0 # ตัวแปรเก็บจำนวนความเหมือนของความหมาย\n",
    "        num_thai_meaning = 0 # จำนวนความหมาย\n",
    "        num_english_meaning = 0 # จำนวนความหมาย\n",
    "\n",
    "        # if a word have meaning in dictionary\n",
    "        try:\n",
    "            # เก็บจำนวนความหมาย\n",
    "            num_english_meaning = len(eng_dic[eng_sentence[i-1].lower()])\n",
    "            num_thai_meaning = len(thai_dic[thai_sentence[j-1]])\n",
    "\n",
    "            # ถ้ามีความหมายตรงกันหมดให้คะแนนเต็มไปเลย\n",
    "            if thai_dic[thai_sentence[j-1]] == eng_dic[eng_sentence[i-1]]:\n",
    "                score = 0\n",
    "            # ถ้าไม่เหมือนหมดจะหาจำนวนความหมายที่เหมือนแล้วนำไปคิดคะแนนต่อไป\n",
    "            else:\n",
    "                for thai_meaning in thai_dic[thai_sentence[j-1]]:\n",
    "                    for eng_meaning in eng_dic[eng_sentence[i-1]]:\n",
    "                        if thai_meaning == eng_meaning:\n",
    "                            same_meaning += 1\n",
    "                            break\n",
    "\n",
    "                # ช่วงคิดคะแนน\n",
    "                # ไม่มีความหมายที่ตรงกันเลย\n",
    "                if same_meaning == 0:\n",
    "                    score = 1\n",
    "                # มีอย่างน้อย 1 ความหมายที่ตรงกัน\n",
    "                else:\n",
    "                    score = 0\n",
    "#                     score = 1 - (same_meaning / (same_meaning + (len(thai_dic[thai_sentence[j-1]]) - same_meaning) + (len(eng_dic[eng_sentence[i-1]]) - same_meaning)))\n",
    "\n",
    "        # if a word doesn't have meaning in dictionary       \n",
    "        # Note: ตรงนี้อาจจะต้องปรับแก้\n",
    "        except:\n",
    "            if eng_ner[i-1] != 'O' and thai_ner[j-1] != 'O':\n",
    "                for ttype in ['DATE', 'TIME', 'LEN', 'PERSON', 'Money', 'LAW']:\n",
    "                    if ttype in set(eng_ner[i-1]).intersection(set(thai_ner[j-1])):\n",
    "                        score = 0\n",
    "                        return score, True\n",
    "            else:\n",
    "                score = 1\n",
    "                return score, False\n",
    "            \n",
    "        return score, same_meaning != 0\n",
    "#         return score, (num_thai_meaning - same_meaning == 0 and num_english_meaning - same_meaning == 0)\n",
    "                \n",
    "    # Edit distance\n",
    "    for i in range(m + 1):\n",
    "        for j in range(n + 1):\n",
    " \n",
    "            # my score\n",
    "            score, copy_check = scoring(i, j)\n",
    "\n",
    "            # If first sentence is empty, only option is to\n",
    "            # insert all words of second sentence\n",
    "            if i == 0:\n",
    "                dp[i][j] = j   # Min. operations = j\n",
    " \n",
    "            # If second sentence is empty, only option is to\n",
    "            # remove all words of second sentence\n",
    "            elif j == 0:\n",
    "                dp[i][j] = i   # Min. operations = i\n",
    " \n",
    "            # If last word have same meaning, ignore last char\n",
    "            # and recur for remaining sentence\n",
    "            elif copy_check:\n",
    "                dp[i][j] = dp[i-1][j-1]\n",
    "                if findPath:\n",
    "                    path[i][j] = 'Copy'\n",
    " \n",
    "            # If last word are different meaning, consider all\n",
    "            # possibilities and find minimum\n",
    "            else:\n",
    "                choice = min(dp[i][j-1],        # Insert\n",
    "                             dp[i-1][j],        # Remove\n",
    "                             dp[i-1][j-1])      # Replace\n",
    "                dp[i][j] = score + choice\n",
    "                if findPath:\n",
    "                    if choice == dp[i][j-1]:\n",
    "                        path[i][j] = 'Insert'\n",
    "                    elif choice == dp[i-1][j]:\n",
    "                        path[i][j] = 'Remove'\n",
    "                    else:\n",
    "                        path[i][j] = 'Replace'\n",
    "                \n",
    "    if findPath:\n",
    "        return dp[m][n], PathFindding(m, n)\n",
    "    else:\n",
    "        return dp[m][n]"
   ]
  },
  {
   "cell_type": "markdown",
   "metadata": {},
   "source": [
    "# Main program"
   ]
  },
  {
   "cell_type": "code",
   "execution_count": 9,
   "metadata": {},
   "outputs": [],
   "source": [
    "read_ner = True"
   ]
  },
  {
   "cell_type": "code",
   "execution_count": 10,
   "metadata": {},
   "outputs": [],
   "source": [
    "thai_file_path = \"./data/thai_sent_NER.data\"\n",
    "if read_ner:\n",
    "    thai_sents, thai_ners = readSentences(thai_file_path, read_ner)\n",
    "else:\n",
    "    thai_sents = readSentences(thai_file_path, read_ner)"
   ]
  },
  {
   "cell_type": "code",
   "execution_count": 11,
   "metadata": {},
   "outputs": [],
   "source": [
    "eng_file_path = \"./data/eng_sent_stanfordNER.data\"\n",
    "if read_ner:\n",
    "    eng_sents, eng_ners = readSentences(eng_file_path, read_ner)\n",
    "else:\n",
    "    eng_sents = readSentences(eng_file_path, read_ner)"
   ]
  },
  {
   "cell_type": "code",
   "execution_count": 12,
   "metadata": {},
   "outputs": [
    {
     "data": {
      "text/plain": [
       "33"
      ]
     },
     "execution_count": 12,
     "metadata": {},
     "output_type": "execute_result"
    }
   ],
   "source": [
    "num = 0\n",
    "thai_sentence = thai_sents[num]\n",
    "eng_sentence = eng_sents[num]\n",
    "\n",
    "score, path = editDistDP(eng_sentence, thai_sentence, True)\n",
    "score"
   ]
  },
  {
   "cell_type": "code",
   "execution_count": 13,
   "metadata": {},
   "outputs": [
    {
     "name": "stdout",
     "output_type": "stream",
     "text": [
      "far                                     ซ้าย                                    Replace             \n",
      "left                                    ซ้าย                                    Copy                \n",
      "indonesian national police              สุด                                     Replace             \n",
      "chief                                   นายติโต คาร์นาเวียน                     Replace             \n",
      "tito karnavian                          ผู้บัญชาการ                             Replace             \n",
      "from                                    ตำรวจแห่งชาติอินโดนีเซีย                Replace             \n",
      "left                                    จาก                                     Replace             \n",
      "left                                    ซ้าย                                    Copy                \n",
      "philippine national police              นายโรนัลด์ เดลา โรซา                    Replace             \n",
      "chief                                   ผู้บัญชาการ                             Replace             \n",
      "ronald dela rosa                        ตำรวจแห่งชาติฟิลิปปินส์                 Replace             \n",
      "and                                     และ                                     Replace             \n",
      "royal                                   นายคาลิด อาบู บาการ์                    Replace             \n",
      "malaysian                               ผู้บัญชาการ                             Replace             \n",
      "police                                  ตํารวจแห่งชาติมาเลเซีย                  Replace             \n",
      "inspector                               ไขว้                                    Replace             \n",
      "general                                 แขน                                     Replace             \n",
      "khalid abu bakar                        กัน                                     Replace             \n",
      "link                                    ก่อน                                    Replace             \n",
      "arm                                     เริ่ม                                   Replace             \n",
      "before                                  การประชุม                               Replace             \n",
      "the                                     ความมั่นคง                              Replace             \n",
      "trilateral security meeting             ไตรภาคี                                 Replace             \n",
      "in                                      ใน                                      Replace             \n",
      "pasay                                   เมืองปาเซย์                             Replace             \n",
      "city                                    ซึ่ง                                    Replace             \n",
      "southeast                               อยู่                                    Replace             \n",
      "southeast                               ทาง                                     Insert              \n",
      "southeast                               ตะวันออกเฉียงใต้                        Copy                \n",
      "of                                      ของ                                     Replace             \n",
      "manila                                  กรุงมะนิลา                              Replace             \n",
      "philippine                              ประเทศฟิลิปปินส์                        Replace             \n",
      "in                                      ใน                                      Replace             \n",
      "june 2017                               เดือน                                   Replace             \n",
      "the                                     มิถุนายน พศ 2560                        Replace             \n",
      "associated                              ดิแอสโซซิเอทเต็ด                        Replace             \n",
      "press                                   เพรส                                    Replace             \n"
     ]
    }
   ],
   "source": [
    "printPath(path)"
   ]
  },
  {
   "cell_type": "code",
   "execution_count": 14,
   "metadata": {},
   "outputs": [
    {
     "data": {
      "text/plain": [
       "31"
      ]
     },
     "execution_count": 14,
     "metadata": {},
     "output_type": "execute_result"
    }
   ],
   "source": [
    "num = 0\n",
    "thai_sentence = thai_sents[num]\n",
    "thai_ner = thai_ners[num]\n",
    "eng_sentence = eng_sents[num]\n",
    "eng_ner = eng_ners[num]\n",
    "\n",
    "score, path =  editDistDP_NER(eng_sentence, thai_sentence, eng_ner, thai_ner, True)\n",
    "\n",
    "score"
   ]
  },
  {
   "cell_type": "code",
   "execution_count": 15,
   "metadata": {},
   "outputs": [
    {
     "name": "stdout",
     "output_type": "stream",
     "text": [
      "far                                     ซ้าย                                    Replace             \n",
      "left                                    ซ้าย                                    Copy                \n",
      "indonesian national police              สุด                                     Replace             \n",
      "chief                                   นายติโต คาร์นาเวียน                     Replace             \n",
      "tito karnavian                          นายติโต คาร์นาเวียน                     Copy                \n",
      "from                                    ผู้บัญชาการ                             Replace             \n",
      "left                                    ตำรวจแห่งชาติอินโดนีเซีย                Replace             \n",
      "philippine national police              ตำรวจแห่งชาติอินโดนีเซีย                Copy                \n",
      "chief                                   จาก                                     Replace             \n",
      "ronald dela rosa                        ซ้าย                                    Replace             \n",
      "ronald dela rosa                        นายโรนัลด์ เดลา โรซา                    Copy                \n",
      "and                                     ผู้บัญชาการ                             Replace             \n",
      "royal                                   ตำรวจแห่งชาติฟิลิปปินส์                 Replace             \n",
      "malaysian                               และ                                     Replace             \n",
      "police                                  นายคาลิด อาบู บาการ์                    Replace             \n",
      "inspector                               ผู้บัญชาการ                             Replace             \n",
      "general                                 ตํารวจแห่งชาติมาเลเซีย                  Replace             \n",
      "khalid abu bakar                        ไขว้                                    Replace             \n",
      "link                                    แขน                                     Replace             \n",
      "arm                                     แขน                                     Copy                \n",
      "before                                  กัน                                     Replace             \n",
      "before                                  ก่อน                                    Copy                \n",
      "the                                     เริ่ม                                   Replace             \n",
      "trilateral security meeting             การประชุม                               Replace             \n",
      "in                                      ความมั่นคง                              Replace             \n",
      "pasay                                   ไตรภาคี                                 Replace             \n",
      "pasay                                   ใน                                      Insert              \n",
      "pasay                                   เมืองปาเซย์                             Copy                \n",
      "city                                    ซึ่ง                                    Replace             \n",
      "southeast                               อยู่                                    Replace             \n",
      "southeast                               ทาง                                     Insert              \n",
      "southeast                               ตะวันออกเฉียงใต้                        Copy                \n",
      "of                                      ของ                                     Replace             \n",
      "manila                                  กรุงมะนิลา                              Replace             \n",
      "philippine                              ประเทศฟิลิปปินส์                        Replace             \n",
      "in                                      ใน                                      Replace             \n",
      "june 2017                               เดือน                                   Replace             \n",
      "june 2017                               มิถุนายน พศ 2560                        Copy                \n",
      "the                                     ดิแอสโซซิเอทเต็ด                        Replace             \n",
      "associated                              เพรส                                    Replace             \n",
      "press                                   เพรส                                    Remove              \n"
     ]
    }
   ],
   "source": [
    "printPath(path)"
   ]
  },
  {
   "cell_type": "markdown",
   "metadata": {},
   "source": [
    "# Evaluate"
   ]
  },
  {
   "cell_type": "code",
   "execution_count": 16,
   "metadata": {},
   "outputs": [],
   "source": [
    "import random"
   ]
  },
  {
   "cell_type": "code",
   "execution_count": 17,
   "metadata": {},
   "outputs": [],
   "source": [
    "# กำหนด seed เพื่อสุ่ม 1000 ประโยคภาษาอังกฤษ\n",
    "N = 1000 # จำนวนประโยคภาษาไทยที่จะสุ่ม\n",
    "\n",
    "seed = [x for x in range(N)] \n",
    "\n",
    "random.seed(1999)\n",
    "thai_sents_sample = random.sample(range(len(thai_sents)), N)"
   ]
  },
  {
   "cell_type": "code",
   "execution_count": 18,
   "metadata": {},
   "outputs": [],
   "source": [
    "eng_sents_sample = []\n",
    "for i in range(N):\n",
    "    random.seed(i)\n",
    "    eng_index = random.sample(range(len(eng_sents)), 1000)\n",
    "    eng_index.append(thai_sents_sample[i])\n",
    "    eng_index = list(set(eng_index))\n",
    "    if len(eng_index) > 1000:\n",
    "        if eng_index[0] == thai_sents_sample[i]:\n",
    "            eng_index.pop(1)\n",
    "        else:\n",
    "            eng_index.pop(0)\n",
    "    eng_sents_sample.append(eng_index)"
   ]
  },
  {
   "cell_type": "code",
   "execution_count": 19,
   "metadata": {},
   "outputs": [
    {
     "data": {
      "text/plain": [
       "1000"
      ]
     },
     "execution_count": 19,
     "metadata": {},
     "output_type": "execute_result"
    }
   ],
   "source": [
    "# Check\n",
    "total = 0\n",
    "for i, j in zip(thai_sents_sample, eng_sents_sample):\n",
    "    if i in j:\n",
    "        total += 1\n",
    "total "
   ]
  },
  {
   "cell_type": "code",
   "execution_count": 24,
   "metadata": {},
   "outputs": [],
   "source": [
    "def evaluate(case=0):\n",
    "    count = {} # เอาไว้วัด acc\n",
    "    for eng_index, thai_index in tqdm(zip(eng_sents_sample, thai_sents_sample)):\n",
    "        similarity = {}\n",
    "        key_min = ''\n",
    "        if case == 0:\n",
    "            for index in eng_index: # index = one of eng_index\n",
    "                similarity[index] = editDistDP(eng_sents[index],\n",
    "                                               thai_sents[thai_index],\n",
    "                                              )\n",
    "        elif case == 1:\n",
    "            for index in eng_index: # index = one of eng_index\n",
    "                if abs(len(eng_sents[index]) - len(thai_sents[thai_index])) < round(len(thai_sents[thai_index])*(2/3)):\n",
    "                    similarity[index] = editDistDP_NER(eng_sents[index],\n",
    "                                                       thai_sents[thai_index],\n",
    "                                                       eng_ners[index],\n",
    "                                                       thai_ners[thai_index]\n",
    "                                                      )\n",
    "                else:\n",
    "                    similarity[index] = len(eng_sents[index]) + len(thai_sents[thai_index])\n",
    "        elif case == 2:\n",
    "            for index in eng_index: # index = one of eng_index\n",
    "                similarity[index] = editDistDP_NP( eng_sents[index],\n",
    "                                                   thai_sents[thai_index],\n",
    "                                                   eng_ners[index],\n",
    "                                                   thai_ners[thai_index]\n",
    "                                                  )\n",
    "\n",
    "        sorted_tuples = sorted(similarity.items(), key=lambda item: item[1])\n",
    "        sorted_similarity = {}\n",
    "        prev = 0\n",
    "        rank = 0\n",
    "        for i, v in enumerate(sorted_tuples):\n",
    "            if v[1] != prev:\n",
    "                sorted_similarity[v[0]] = (i, v[1])\n",
    "                rank = i\n",
    "            else:\n",
    "                sorted_similarity[v[0]] = (rank, v[1])\n",
    "            prev = v[1]\n",
    "\n",
    "        print(\"Index ประโยคภาษาไทย: \" + str(thai_index))\n",
    "        print(\"ประโยค: \" + ''.join(thai_sents[thai_index]))\n",
    "\n",
    "        print(\"Same index: \" + str(thai_index) + \" Value: \" + str(sorted_similarity[thai_index][1]))\n",
    "        print(\"Sentence: \" + ' '.join(eng_sents[thai_index]))\n",
    "\n",
    "        print(\"Minimum index: \" + str(list(sorted_similarity)[0]) + \" Value: \" + str(sorted_similarity[list(sorted_similarity)[0]][1]))\n",
    "        print(\"Sentence: \" + ' '.join(eng_sents[list(sorted_similarity)[0]]))\n",
    "        print(\"========================================\")\n",
    "\n",
    "        pos = sorted_similarity[thai_index][0]\n",
    "        if pos in count:\n",
    "            count[pos] += 1\n",
    "        else:\n",
    "            count[pos] = 1\n",
    "    return count"
   ]
  },
  {
   "cell_type": "code",
   "execution_count": 25,
   "metadata": {},
   "outputs": [
    {
     "name": "stderr",
     "output_type": "stream",
     "text": [
      "\n",
      "0it [00:00, ?it/s]\u001b[A"
     ]
    },
    {
     "name": "stdout",
     "output_type": "stream",
     "text": [
      "Index ประโยคภาษาไทย: 122618\n",
      "ประโยค: จะแนะนำของนี่ค่ะ\n",
      "Same index: 122618 Value: 5\n",
      "Sentence: i would recommend this item\n",
      "Minimum index: 636936 Value: 5\n",
      "Sentence: yes that should good\n",
      "========================================\n"
     ]
    },
    {
     "name": "stderr",
     "output_type": "stream",
     "text": [
      "\n",
      "2it [00:00,  3.22it/s]\u001b[A\n",
      "4it [00:00,  4.27it/s]\u001b[A"
     ]
    },
    {
     "name": "stdout",
     "output_type": "stream",
     "text": [
      "Index ประโยคภาษาไทย: 371094\n",
      "ประโยค: คุณไม่มีทางเลือกหลังจากนั้นเว้นแต่คุณจะเป็นหนึ่งในศิลปินที่ไม่รู้จักที่ยิ่งใหญ่ที่มาพร้อมกับคุณ\n",
      "Same index: 371094 Value: 22\n",
      "Sentence: you really have no choice after that unless it 's from one of those great unknown artist that come along and hook you\n",
      "Minimum index: 356814 Value: 17\n",
      "Sentence: i 'm so disapointed because she did not complete her book\n",
      "========================================\n",
      "Index ประโยคภาษาไทย: 149231\n",
      "ประโยค: ต้องซื้ออันใหม่เพราะลูกสาวเราอยากได้\n",
      "Same index: 149231 Value: 8\n",
      "Sentence: had to get a new one because our daughter wanted it\n",
      "Minimum index: 522259 Value: 7\n",
      "Sentence: i bought newspaper already already\n",
      "========================================\n",
      "Index ประโยคภาษาไทย: 760404\n",
      "ประโยค: ขอพิซซาสมีทเลิฟเวอร์ แล้วก็บรอคโคลีพิเศษชีสค่ะ\n",
      "Same index: 760404 Value: 18\n",
      "Sentence: can i get a meat lover and a broccoli pizza with extra cheese\n",
      "Minimum index: 728937 Value: 4\n",
      "Sentence: with something extra\n",
      "========================================\n"
     ]
    },
    {
     "name": "stderr",
     "output_type": "stream",
     "text": [
      "\n",
      "5it [00:00,  4.19it/s]\u001b[A\n",
      "6it [00:01,  4.86it/s]\u001b[A"
     ]
    },
    {
     "name": "stdout",
     "output_type": "stream",
     "text": [
      "Index ประโยคภาษาไทย: 593846\n",
      "ประโยค: การขนส่งสินค้าชีวภาพทางบกถูกห้ามในประเทศจีนประกาศณวันที่20 ธันวาคม 2562\n",
      "Same index: 593846 Value: 14\n",
      "Sentence: biological commodity prohibited from transiting china on road posted on december 20 , 2019 created with sketch\n",
      "Minimum index: 518298 Value: 11\n",
      "Sentence: in march 67 percent connected through cable up from 63 percent a year earlier\n",
      "========================================\n",
      "Index ประโยคภาษาไทย: 521957\n",
      "ประโยค: ได้ยังไงกันฝนยังตกอยู่อีกหรอ\n",
      "Same index: 521957 Value: 8\n",
      "Sentence: how izzit still raining\n",
      "Minimum index: 485426 Value: 8\n",
      "Sentence: okay i will not be concerned\n",
      "========================================\n"
     ]
    },
    {
     "ename": "KeyboardInterrupt",
     "evalue": "",
     "output_type": "error",
     "traceback": [
      "\u001b[1;31m---------------------------------------------------------------------------\u001b[0m",
      "\u001b[1;31mKeyboardInterrupt\u001b[0m                         Traceback (most recent call last)",
      "\u001b[1;32m<ipython-input-25-fdefcf9c0e66>\u001b[0m in \u001b[0;36m<module>\u001b[1;34m\u001b[0m\n\u001b[1;32m----> 1\u001b[1;33m \u001b[0mcount\u001b[0m \u001b[1;33m=\u001b[0m \u001b[0mevaluate\u001b[0m\u001b[1;33m(\u001b[0m\u001b[1;36m1\u001b[0m\u001b[1;33m)\u001b[0m\u001b[1;33m\u001b[0m\u001b[1;33m\u001b[0m\u001b[0m\n\u001b[0m",
      "\u001b[1;32m<ipython-input-24-284eb260a618>\u001b[0m in \u001b[0;36mevaluate\u001b[1;34m(case)\u001b[0m\n\u001b[0;32m     36\u001b[0m                                         \u001b[1;32mif\u001b[0m \u001b[0mi\u001b[0m \u001b[1;33m==\u001b[0m \u001b[0mj\u001b[0m\u001b[1;33m:\u001b[0m\u001b[1;33m\u001b[0m\u001b[1;33m\u001b[0m\u001b[0m\n\u001b[0;32m     37\u001b[0m                                             \u001b[0mnum_same_tran_eng\u001b[0m \u001b[1;33m+=\u001b[0m \u001b[1;36m1\u001b[0m\u001b[1;33m\u001b[0m\u001b[1;33m\u001b[0m\u001b[0m\n\u001b[1;32m---> 38\u001b[1;33m                                             \u001b[1;32mbreak\u001b[0m\u001b[1;33m\u001b[0m\u001b[1;33m\u001b[0m\u001b[0m\n\u001b[0m\u001b[0;32m     39\u001b[0m \u001b[1;33m\u001b[0m\u001b[0m\n\u001b[0;32m     40\u001b[0m                     \u001b[1;32mif\u001b[0m \u001b[0mnum_same_tran_eng\u001b[0m \u001b[1;33m>\u001b[0m \u001b[0mnum_tran_thai\u001b[0m\u001b[1;33m/\u001b[0m\u001b[1;36m2\u001b[0m\u001b[1;33m:\u001b[0m\u001b[1;33m\u001b[0m\u001b[1;33m\u001b[0m\u001b[0m\n",
      "\u001b[1;31mKeyboardInterrupt\u001b[0m: "
     ]
    }
   ],
   "source": [
    "count = evaluate(1)"
   ]
  },
  {
   "cell_type": "code",
   "execution_count": 41,
   "metadata": {},
   "outputs": [
    {
     "name": "stdout",
     "output_type": "stream",
     "text": [
      "far                                     ซ้าย                                    Replace             \n",
      "left                                    ซ้าย                                    Copy                \n",
      "indonesian national police              สุด                                     Replace             \n",
      "chief                                   นายติโต คาร์นาเวียน                     Replace             \n",
      "tito karnavian                          นายติโต คาร์นาเวียน                     Copy                \n",
      "from                                    ผู้บัญชาการ                             Replace             \n",
      "left                                    ตำรวจแห่งชาติอินโดนีเซีย                Replace             \n",
      "philippine national police              ตำรวจแห่งชาติอินโดนีเซีย                Copy                \n",
      "chief                                   จาก                                     Replace             \n",
      "ronald dela rosa                        ซ้าย                                    Replace             \n",
      "ronald dela rosa                        นายโรนัลด์ เดลา โรซา                    Copy                \n",
      "and                                     ผู้บัญชาการ                             Replace             \n",
      "royal                                   ตำรวจแห่งชาติฟิลิปปินส์                 Replace             \n",
      "malaysian                               และ                                     Replace             \n",
      "police                                  นายคาลิด อาบู บาการ์                    Replace             \n",
      "inspector                               ผู้บัญชาการ                             Replace             \n",
      "general                                 ตํารวจแห่งชาติมาเลเซีย                  Replace             \n",
      "khalid abu bakar                        ไขว้                                    Replace             \n",
      "link                                    แขน                                     Replace             \n",
      "arm                                     แขน                                     Copy                \n",
      "before                                  กัน                                     Replace             \n",
      "before                                  ก่อน                                    Copy                \n",
      "the                                     เริ่ม                                   Replace             \n",
      "trilateral security meeting             การประชุม                               Replace             \n",
      "in                                      ความมั่นคง                              Replace             \n",
      "pasay                                   ไตรภาคี                                 Replace             \n",
      "pasay                                   ใน                                      Insert              \n",
      "pasay                                   เมืองปาเซย์                             Copy                \n",
      "city                                    ซึ่ง                                    Replace             \n",
      "southeast                               อยู่                                    Replace             \n",
      "southeast                               ทาง                                     Insert              \n",
      "southeast                               ตะวันออกเฉียงใต้                        Copy                \n",
      "of                                      ของ                                     Replace             \n",
      "manila                                  กรุงมะนิลา                              Replace             \n",
      "philippine                              ประเทศฟิลิปปินส์                        Replace             \n",
      "in                                      ใน                                      Replace             \n",
      "june 2017                               เดือน                                   Replace             \n",
      "june 2017                               มิถุนายน พศ 2560                        Copy                \n",
      "the                                     ดิแอสโซซิเอทเต็ด                        Replace             \n",
      "associated                              เพรส                                    Replace             \n",
      "press                                   เพรส                                    Remove              \n"
     ]
    }
   ],
   "source": [
    "num = 0     \n",
    "com = 0          \n",
    "thai_sentence = thai_sents[num]\n",
    "thai_ner = thai_ners[num]\n",
    "eng_sentence = eng_sents[com]\n",
    "eng_ner = eng_ners[com]\n",
    "\n",
    "score, path =  editDistDP_NER(eng_sentence, thai_sentence, eng_ner, thai_ner, True)\n",
    "\n",
    "printPath(path)"
   ]
  },
  {
   "cell_type": "code",
   "execution_count": 42,
   "metadata": {},
   "outputs": [
    {
     "data": {
      "text/plain": [
       "['arm']"
      ]
     },
     "execution_count": 42,
     "metadata": {},
     "output_type": "execute_result"
    }
   ],
   "source": [
    "thai_dic['แขน']"
   ]
  },
  {
   "cell_type": "code",
   "execution_count": 43,
   "metadata": {},
   "outputs": [
    {
     "data": {
      "text/plain": [
       "['weapon', 'sleeve', 'branch', 'arm']"
      ]
     },
     "execution_count": 43,
     "metadata": {},
     "output_type": "execute_result"
    }
   ],
   "source": [
    "eng_dic['arm']"
   ]
  },
  {
   "cell_type": "code",
   "execution_count": 60,
   "metadata": {},
   "outputs": [],
   "source": [
    "sorted_tuples = sorted(count.items(), key=lambda item: item[0])\n",
    "sorted_count = {k: v for k, v in sorted_tuples}"
   ]
  },
  {
   "cell_type": "code",
   "execution_count": 61,
   "metadata": {},
   "outputs": [],
   "source": [
    "import matplotlib.pyplot as plt"
   ]
  },
  {
   "cell_type": "code",
   "execution_count": 62,
   "metadata": {},
   "outputs": [
    {
     "data": {
      "text/plain": [
       "Text(0, 0.5, 'Amount')"
      ]
     },
     "execution_count": 62,
     "metadata": {},
     "output_type": "execute_result"
    },
    {
     "data": {
      "image/png": "[encoded data removed]",
      "text/plain": [
       "<Figure size 432x288 with 1 Axes>"
      ]
     },
     "metadata": {
      "needs_background": "light"
     },
     "output_type": "display_data"
    }
   ],
   "source": [
    "plt.bar(list(sorted_count.keys())[0:20], list(sorted_count.values())[0:20])\n",
    "plt.xlabel('Rank')\n",
    "plt.ylabel('Amount')"
   ]
  },
  {
   "cell_type": "code",
   "execution_count": 63,
   "metadata": {},
   "outputs": [
    {
     "name": "stdout",
     "output_type": "stream",
     "text": [
      "Top1:     43.30 %\n",
      "Top2-5:   11.40 %\n",
      "Top5-10:  3.60 %\n",
      "Top11-20: 5.30 %\n"
     ]
    }
   ],
   "source": [
    "range0 = 0\n",
    "range1_4 = 0\n",
    "range5_9 = 0\n",
    "range10_19 = 0\n",
    "for i, v in list(sorted_count.items())[0:19]:\n",
    "    if i == 0:\n",
    "        range0 += v\n",
    "    elif i>=1 and i<=4:\n",
    "        range1_4 += v\n",
    "    elif i>=5 and i<=9:\n",
    "        range5_9 += v\n",
    "    else:\n",
    "        range10_19 += v\n",
    "        \n",
    "print(f\"Top1:     {(range0 / N)*100:.2f} %\")\n",
    "print(f\"Top2-5:   {(range1_4 / N)*100:.2f} %\")\n",
    "print(f\"Top5-10:  {(range5_9 / N)*100:.2f} %\")\n",
    "print(f\"Top11-20: {(range10_19 / N)*100:.2f} %\")"
   ]
  },
  {
   "cell_type": "code",
   "execution_count": null,
   "metadata": {},
   "outputs": [],
   "source": []
  }
 ],
 "metadata": {
  "kernelspec": {
   "display_name": "Python 3",
   "language": "python",
   "name": "python3"
  },
  "language_info": {
   "codemirror_mode": {
    "name": "ipython",
    "version": 3
   },
   "file_extension": ".py",
   "mimetype": "text/x-python",
   "name": "python",
   "nbconvert_exporter": "python",
   "pygments_lexer": "ipython3",
   "version": "3.7.6"
  }
 },
 "nbformat": 4,
 "nbformat_minor": 4
}
