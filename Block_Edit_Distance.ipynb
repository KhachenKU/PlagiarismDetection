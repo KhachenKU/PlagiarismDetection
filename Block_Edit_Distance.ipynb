{
 "cells": [
  {
   "cell_type": "markdown",
   "metadata": {},
   "source": [
    "# Import library"
   ]
  },
  {
   "cell_type": "code",
   "execution_count": 1,
   "metadata": {},
   "outputs": [],
   "source": [
    "from tqdm import tqdm # library to show progress bar\n",
    "import pickle # library to load/dump binary file\n",
    "import matplotlib.pyplot as plt\n",
    "from itertools import permutations  "
   ]
  },
  {
   "cell_type": "markdown",
   "metadata": {},
   "source": [
    "# Global function"
   ]
  },
  {
   "cell_type": "code",
   "execution_count": 2,
   "metadata": {},
   "outputs": [],
   "source": [
    "def printPath(path):\n",
    "    for i in path:\n",
    "        print(f\"{i['eng']:<40}{i['thai']:<40}{i['choice']:<20}\")"
   ]
  },
  {
   "cell_type": "code",
   "execution_count": 3,
   "metadata": {},
   "outputs": [],
   "source": [
    "def readFile(filePath):\n",
    "    f = open(filePath, \"rb\") #สั่งเปิดไฟล์\n",
    "    file = pickle.load(f) # load ไฟล์\n",
    "    f.close() #สั่งปิดไฟล์\n",
    "    \n",
    "    return file"
   ]
  },
  {
   "cell_type": "markdown",
   "metadata": {},
   "source": [
    "# Import dictionary thai-english & english-thai"
   ]
  },
  {
   "cell_type": "code",
   "execution_count": 4,
   "metadata": {},
   "outputs": [],
   "source": [
    "thai_dic = readFile(\"./dictionary/thai_test_set_dictionary.pkl\") # อ่านไฟล์ thai dictionary\n",
    "eng_dic = readFile(\"./dictionary/eng_dictionary_new.pkl\") # อ่านไฟล์ english dictionary"
   ]
  },
  {
   "cell_type": "markdown",
   "metadata": {},
   "source": [
    "# Import sentences thai & english"
   ]
  },
  {
   "cell_type": "code",
   "execution_count": 5,
   "metadata": {},
   "outputs": [],
   "source": [
    "def readSentences(filePath, NER=False):\n",
    "\n",
    "    file = readFile(filePath)\n",
    "    \n",
    "    if NER: # case ที่ มี NER tag ในข้อมูลด้วย\n",
    "        sents = []\n",
    "        ners = []\n",
    "        for i in file:\n",
    "            sent = []\n",
    "            ner = []\n",
    "            for j in i:\n",
    "                sent.append(j[0])\n",
    "                ner.append(j[1])\n",
    "            sents.append(sent)\n",
    "            ners.append(ner)\n",
    "        return sents, ners\n",
    "    else: # case ที่ ไม่มี NER tag ในข้อมูลด้วย\n",
    "        return file"
   ]
  },
  {
   "cell_type": "markdown",
   "metadata": {},
   "source": [
    "# Edit distance"
   ]
  },
  {
   "cell_type": "markdown",
   "metadata": {},
   "source": [
    "### With NER case (case #1)"
   ]
  },
  {
   "cell_type": "code",
   "execution_count": 33,
   "metadata": {},
   "outputs": [],
   "source": [
    "def editDistDP_NER(eng_sentence, thai_sentence, eng_ner, thai_ner, block_size=1, findPath=False): \n",
    "    # initial variable\n",
    "    m = len(eng_sentence)\n",
    "    n = len(thai_sentence)\n",
    "    dp = [[0 for x in range(int(n/block_size) + 1)] for x in range(int(m/block_size) + 1)] # Create a table to store results of subproblems\n",
    "    if findPath: # ถ้าอยากดู path\n",
    "        path = [['' for x in range(int(n/block_size) + 1)] for x in range(int(m/block_size) + 1)]  \n",
    "    same_meaning_matrix = [[1 for x in range(n)] for x in range(m)]\n",
    "    for i in range(m):\n",
    "        for j in range(n):\n",
    "            try:\n",
    "                if set(eng_dic[eng_sentence[i]]).intersection(set(thai_dic[thai_sentence[j]])):\n",
    "                    same_meaning_matrix[i][j] = 0\n",
    "            except:\n",
    "                if eng_ner[i] != 'O' and eng_ner[i] != '*' and (thai_ner[j] == eng_ner[i]):\n",
    "                    same_meaning_matrix[i][j] = 0\n",
    "                \n",
    "    \n",
    "    # check empty sentence\n",
    "    if (not eng_sentence) or (not thai_sentence):\n",
    "        return 9999\n",
    "    \n",
    "    def check_score(thai, perms):\n",
    "        all_per = {}\n",
    "        for per in perms:\n",
    "            total = 0\n",
    "            for pe, th in zip(per, thai): \n",
    "                if same_meaning_matrix[pe][th] != 0:\n",
    "                    total += 1\n",
    "            all_per[''.join([str(a) for a in per])] = total\n",
    "        key_min = min(all_per.keys(), key=(lambda k: all_per[k]))\n",
    "        \n",
    "        return key_min, all_per[key_min]\n",
    "                \n",
    "    # Edit distance\n",
    "    for i in range(int(m/block_size) + 1):\n",
    "        for j in range(int(n/block_size) + 1):\n",
    "            \n",
    "            if i != 0 and j != 0:\n",
    "                thai = [x for x in range((j-1)*block_size, (j-1)*block_size+block_size)]\n",
    "                perms = permutations([x for x in range((i-1)*block_size, (i-1)*block_size+block_size)])\n",
    "                min_path, score = check_score(thai, perms)\n",
    "\n",
    "            # If first sentence is empty, only option is to\n",
    "            # insert all words of second sentence\n",
    "            if i == 0:\n",
    "                dp[i][j] = j*block_size   # Min. operations = j\n",
    " \n",
    "            # If second sentence is empty, only option is to\n",
    "            # remove all words of second sentence\n",
    "            elif j == 0:\n",
    "                dp[i][j] = i*block_size   # Min. operations = i\n",
    "\n",
    "            # If last word are different meaning, consider all\n",
    "            # possibilities and find minimum\n",
    "            else:\n",
    "                choice = min(dp[i][j-1],        # Insert\n",
    "                             dp[i-1][j],        # Remove\n",
    "                             dp[i-1][j-1])      # Replace\n",
    "                dp[i][j] = score + choice\n",
    "                    \n",
    "                if findPath:\n",
    "                    if choice == dp[i][j-1]:\n",
    "                        path[i][j] = 'Insert'\n",
    "                    elif choice == dp[i-1][j]:\n",
    "                        path[i][j] = 'Remove'\n",
    "                    else:\n",
    "                        path[i][j] = 'Replace'\n",
    "                \n",
    "#     if findPath:\n",
    "#         return dp[int(m/block_size)][int(n/block_size)], PathFindding(m/block_size, n/block_size)\n",
    "#     else:\n",
    "    return dp[int(m/block_size)][int(n/block_size)]"
   ]
  },
  {
   "cell_type": "markdown",
   "metadata": {},
   "source": [
    "# Main program"
   ]
  },
  {
   "cell_type": "code",
   "execution_count": null,
   "metadata": {},
   "outputs": [],
   "source": [
    "read_ner = True"
   ]
  },
  {
   "cell_type": "code",
   "execution_count": 20,
   "metadata": {},
   "outputs": [],
   "source": [
    "thai_file_path = \"./data/thai_sent_NER.data\"\n",
    "if read_ner:\n",
    "    thai_sents, thai_ners = readSentences(thai_file_path, read_ner)\n",
    "else:\n",
    "    thai_sents = readSentences(thai_file_path, read_ner)"
   ]
  },
  {
   "cell_type": "code",
   "execution_count": 21,
   "metadata": {},
   "outputs": [],
   "source": [
    "eng_file_path = \"./data/eng_sent_stanfordNER.data\"\n",
    "if read_ner:\n",
    "    eng_sents, eng_ners = readSentences(eng_file_path, read_ner)\n",
    "else:\n",
    "    eng_sents = readSentences(eng_file_path, read_ner)"
   ]
  },
  {
   "cell_type": "code",
   "execution_count": 22,
   "metadata": {},
   "outputs": [],
   "source": [
    "block_size = 7"
   ]
  },
  {
   "cell_type": "code",
   "execution_count": 23,
   "metadata": {},
   "outputs": [],
   "source": [
    "# for i in tqdm(range(len(thai_sents))):\n",
    "#     while len(thai_sents[i]) > len(eng_sents[i]):\n",
    "#         eng_sents[i].append('*')\n",
    "#     while len(thai_sents[i]) < len(eng_sents[i]):\n",
    "#         thai_sents[i].append('*')"
   ]
  },
  {
   "cell_type": "code",
   "execution_count": 24,
   "metadata": {},
   "outputs": [],
   "source": [
    "for index in range(len(thai_sents)):\n",
    "    while len(thai_sents[index]) % block_size != 0:\n",
    "        thai_sents[index].append('*')\n",
    "        thai_ners[index].append('*')"
   ]
  },
  {
   "cell_type": "code",
   "execution_count": 31,
   "metadata": {},
   "outputs": [
    {
     "data": {
      "text/plain": [
       "77"
      ]
     },
     "execution_count": 31,
     "metadata": {},
     "output_type": "execute_result"
    }
   ],
   "source": [
    "len(thai_sents[1])"
   ]
  },
  {
   "cell_type": "code",
   "execution_count": 26,
   "metadata": {},
   "outputs": [],
   "source": [
    "for index in range(len(eng_sents)):\n",
    "    while len(eng_sents[index]) % block_size != 0:\n",
    "        eng_sents[index].append('*')\n",
    "        eng_ners[index].append('*')    "
   ]
  },
  {
   "cell_type": "code",
   "execution_count": 32,
   "metadata": {},
   "outputs": [
    {
     "data": {
      "text/plain": [
       "63"
      ]
     },
     "execution_count": 32,
     "metadata": {},
     "output_type": "execute_result"
    }
   ],
   "source": [
    "len(eng_sents[1])"
   ]
  },
  {
   "cell_type": "code",
   "execution_count": 34,
   "metadata": {},
   "outputs": [
    {
     "data": {
      "text/plain": [
       "59"
      ]
     },
     "execution_count": 34,
     "metadata": {},
     "output_type": "execute_result"
    }
   ],
   "source": [
    "num = 0\n",
    "alt_num = 1\n",
    "thai_sentence = thai_sents[num]\n",
    "thai_ner = thai_ners[num]\n",
    "eng_sentence = eng_sents[alt_num]\n",
    "eng_ner = eng_ners[alt_num]\n",
    "\n",
    "score = editDistDP_NER(eng_sentence, thai_sentence, eng_ner, thai_ner, block_size, True)\n",
    "\n",
    "score"
   ]
  },
  {
   "cell_type": "markdown",
   "metadata": {},
   "source": [
    "# Evaluate"
   ]
  },
  {
   "cell_type": "code",
   "execution_count": 35,
   "metadata": {},
   "outputs": [],
   "source": [
    "import random"
   ]
  },
  {
   "cell_type": "code",
   "execution_count": 36,
   "metadata": {},
   "outputs": [],
   "source": [
    "# กำหนด seed เพื่อสุ่ม 1000 ประโยคภาษาอังกฤษ\n",
    "N = 1000 # จำนวนประโยคภาษาไทยที่จะสุ่ม\n",
    "\n",
    "seed = [x for x in range(N)] \n",
    "\n",
    "random.seed(1999)\n",
    "thai_sents_sample = random.sample(range(len(thai_sents)), N)"
   ]
  },
  {
   "cell_type": "code",
   "execution_count": 37,
   "metadata": {},
   "outputs": [],
   "source": [
    "eng_sents_sample = []\n",
    "for i in range(N):\n",
    "    random.seed(i)\n",
    "    eng_index = random.sample(range(len(eng_sents)), 1000)\n",
    "    eng_index.append(thai_sents_sample[i])\n",
    "    eng_index = list(set(eng_index))\n",
    "    if len(eng_index) > 1000:\n",
    "        if eng_index[0] == thai_sents_sample[i]:\n",
    "            eng_index.pop(1)\n",
    "        else:\n",
    "            eng_index.pop(0)\n",
    "    eng_sents_sample.append(eng_index)"
   ]
  },
  {
   "cell_type": "code",
   "execution_count": 38,
   "metadata": {},
   "outputs": [
    {
     "data": {
      "text/plain": [
       "1000"
      ]
     },
     "execution_count": 38,
     "metadata": {},
     "output_type": "execute_result"
    }
   ],
   "source": [
    "# Check\n",
    "total = 0\n",
    "for i, j in zip(thai_sents_sample, eng_sents_sample):\n",
    "    if i in j:\n",
    "        total += 1\n",
    "total "
   ]
  },
  {
   "cell_type": "code",
   "execution_count": 39,
   "metadata": {},
   "outputs": [],
   "source": [
    "def evaluate(case=1):\n",
    "    count = {} # เอาไว้วัด acc\n",
    "    length = {}\n",
    "    for eng_index, thai_index in tqdm(zip(eng_sents_sample, thai_sents_sample)):\n",
    "        similarity = {}\n",
    "        key_min = ''\n",
    "        if case == 0:\n",
    "            for index in eng_index: # index = one of eng_index\n",
    "                similarity[index] = editDistDP(eng_sents[index],\n",
    "                                               thai_sents[thai_index],\n",
    "                                              )\n",
    "        elif case == 1:\n",
    "            for index in eng_index: # index = one of eng_index\n",
    "                similarity[index] = editDistDP_NER(eng_sents[index],\n",
    "                                                   thai_sents[thai_index],\n",
    "                                                   eng_ners[index],\n",
    "                                                   thai_ners[thai_index]\n",
    "                                                  )\n",
    "        elif case == 2:\n",
    "            for index in eng_index: # index = one of eng_index\n",
    "                similarity[index] = editDistDP_NP( eng_sents[index],\n",
    "                                                   thai_sents[thai_index],\n",
    "                                                   eng_ners[index],\n",
    "                                                   thai_ners[thai_index]\n",
    "                                                  )\n",
    "\n",
    "        sorted_tuples = sorted(similarity.items(), key=lambda item: item[1])\n",
    "        sorted_similarity = {}\n",
    "        prev = 0\n",
    "        rank = 0\n",
    "        for i, v in enumerate(sorted_tuples):\n",
    "            if v[1] != prev:\n",
    "                sorted_similarity[v[0]] = (i, v[1])\n",
    "                rank = i\n",
    "            else:\n",
    "                sorted_similarity[v[0]] = (rank, v[1])\n",
    "            prev = v[1]\n",
    "\n",
    "        if (sorted_similarity[thai_index][0] not in length) :\n",
    "            length[sorted_similarity[thai_index][0]] = [len(eng_sents[thai_index])]\n",
    "        else:\n",
    "            length[sorted_similarity[thai_index][0]].append(len(eng_sents[thai_index]))\n",
    "        print(\"Index ประโยคภาษาไทย: \" + str(thai_index))\n",
    "        print(\"ประโยค: \" + ''.join(thai_sents[thai_index]))\n",
    "\n",
    "        print(\"Same index: \" + str(thai_index) + \" Value: \" + str(sorted_similarity[thai_index][1]) + \" Rank: \" + str(sorted_similarity[thai_index][0]))\n",
    "        print(\"Sentence: \" + ' '.join(eng_sents[thai_index]))\n",
    "\n",
    "        print(\"Minimum index: \" + str(list(sorted_similarity)[0]) + \" Value: \" + str(sorted_similarity[list(sorted_similarity)[0]][1]))\n",
    "        print(\"Sentence: \" + ' '.join(eng_sents[list(sorted_similarity)[0]]))\n",
    "        print(\"========================================\")\n",
    "\n",
    "        pos = sorted_similarity[thai_index][0]\n",
    "        if pos in count:\n",
    "            count[pos] += 1\n",
    "        else:\n",
    "            count[pos] = 1\n",
    "    return count, length"
   ]
  },
  {
   "cell_type": "code",
   "execution_count": 40,
   "metadata": {},
   "outputs": [
    {
     "name": "stderr",
     "output_type": "stream",
     "text": [
      "1it [00:00,  1.39it/s]"
     ]
    },
    {
     "name": "stdout",
     "output_type": "stream",
     "text": [
      "Index ประโยคภาษาไทย: 122618\n",
      "ประโยค: จะแนะนำของนี่ค่ะ**\n",
      "Same index: 122618 Value: 5 Rank: 0\n",
      "Sentence: i would recommend this item * *\n",
      "Minimum index: 636936 Value: 5\n",
      "Sentence: yes that should good * * *\n",
      "========================================\n"
     ]
    },
    {
     "name": "stderr",
     "output_type": "stream",
     "text": [
      "\r",
      "2it [00:02,  1.09s/it]"
     ]
    },
    {
     "name": "stdout",
     "output_type": "stream",
     "text": [
      "Index ประโยคภาษาไทย: 371094\n",
      "ประโยค: คุณไม่มีทางเลือกหลังจากนั้นเว้นแต่คุณจะเป็นหนึ่งในศิลปินที่ไม่รู้จักที่ยิ่งใหญ่ที่มาพร้อมกับคุณ**\n",
      "Same index: 371094 Value: 22 Rank: 739\n",
      "Sentence: you really have no choice after that unless it 's from one of those great unknown artist that come along and hook you * * * * *\n",
      "Minimum index: 661596 Value: 17\n",
      "Sentence: no use the visa card * *\n",
      "========================================\n"
     ]
    },
    {
     "name": "stderr",
     "output_type": "stream",
     "text": [
      "\r",
      "3it [00:03,  1.12s/it]"
     ]
    },
    {
     "name": "stdout",
     "output_type": "stream",
     "text": [
      "Index ประโยคภาษาไทย: 149231\n",
      "ประโยค: ต้องซื้ออันใหม่เพราะลูกสาวเราอยากได้******\n",
      "Same index: 149231 Value: 8 Rank: 15\n",
      "Sentence: had to get a new one because our daughter wanted it * * *\n",
      "Minimum index: 522259 Value: 7\n",
      "Sentence: i bought newspaper already already * *\n",
      "========================================\n"
     ]
    },
    {
     "name": "stderr",
     "output_type": "stream",
     "text": [
      "\r",
      "4it [00:04,  1.01it/s]"
     ]
    },
    {
     "name": "stdout",
     "output_type": "stream",
     "text": [
      "Index ประโยคภาษาไทย: 760404\n",
      "ประโยค: ขอพิซซาสมีทเลิฟเวอร์ แล้วก็บรอคโคลีพิเศษชีสค่ะ**\n",
      "Same index: 760404 Value: 12 Rank: 446\n",
      "Sentence: can i get a meat lover and a broccoli pizza with extra cheese *\n",
      "Minimum index: 794932 Value: 4\n",
      "Sentence: gary shamblin * * * * * *\n",
      "========================================\n"
     ]
    },
    {
     "name": "stderr",
     "output_type": "stream",
     "text": [
      "\r",
      "5it [00:05,  1.08s/it]"
     ]
    },
    {
     "name": "stdout",
     "output_type": "stream",
     "text": [
      "Index ประโยคภาษาไทย: 593846\n",
      "ประโยค: การขนส่งสินค้าชีวภาพทางบกถูกห้ามในประเทศจีนประกาศณวันที่20 ธันวาคม 2562**\n",
      "Same index: 593846 Value: 14 Rank: 472\n",
      "Sentence: biological commodity prohibited from transiting china on road posted on december 20 , 2019 created with sketch\n",
      "Minimum index: 518298 Value: 11\n",
      "Sentence: in march 67 percent connected through cable up from 63 percent a year earlier * *\n",
      "========================================\n"
     ]
    },
    {
     "name": "stderr",
     "output_type": "stream",
     "text": [
      "\r",
      "6it [00:07,  1.13s/it]"
     ]
    },
    {
     "name": "stdout",
     "output_type": "stream",
     "text": [
      "Index ประโยคภาษาไทย: 521957\n",
      "ประโยค: ได้ยังไงกันฝนยังตกอยู่อีกหรอ*****\n",
      "Same index: 521957 Value: 8 Rank: 0\n",
      "Sentence: how izzit still raining * * *\n",
      "Minimum index: 485426 Value: 8\n",
      "Sentence: okay i will not be concerned *\n",
      "========================================\n"
     ]
    },
    {
     "name": "stderr",
     "output_type": "stream",
     "text": [
      "\r",
      "7it [00:17,  3.85s/it]"
     ]
    },
    {
     "name": "stdout",
     "output_type": "stream",
     "text": [
      "Index ประโยคภาษาไทย: 967499\n",
      "ประโยค: ประเภทINEARสีBLACKอื่นๆพลังเสียงไดนามิกแบบไดรเวอร์คู่คมชัดโดยPOWERBEATS3WIRELESSเชื่อมต่อกับอุปกรณ์ด้วยCLASS1BLUETOOTHอิสระในการออกกำลังกายแบบไร้สายแบตเตอรี่ใช้งานได้นานสูงสุด12 ชมช่วยให้สามารถออกกำลังกายได้หลายกิจกรรมแบบไม่มีสะดุดเมื่อแบตเตอรี่ใกล้หมดคุณสมบัติFASTFUELจะทำให้การชาร์จเพียง5 นาทีสามารถฟังเพลงได้นานถึง1 ชั่วโมงคุณสมบัติการทนเหงื่อและน้ำช่วยรับมือกับการฝึกซ้อมที่หนักหน่วงได้เป็นอย่างดีขาคล้องหลังใบหูที่สามารถปรับให้กระชับแน่นพอดีช่วยเพิ่มความมั่นคงและความสบายในการสวมใส่ได้อย่างสูงสุดพลังเสียงไดนามิกประสิทธิภาพสูงที่จะผลักดันคุณให้ก้าวขึ้นไปอีกขั้นรับสายควบคุมเพลงและเปิดใช้งานSIRIได้ด้วยREMOTETALK\n",
      "Same index: 967499 Value: 107 Rank: 1\n",
      "Sentence: type in-ear• color black• others powerbeats3 wireless dual-mode dynamic sound driver connected to the device with the class 1 bluetooth wireless freedom for exercise up to 12 hour of battery life and many more the fast fuel feature 5 minute of charging time up to 1 hour of music sweat and water handle with a heavy workout a well the back of the ear can be adjusted to fit tight enough to enhance the stability and comfort of wearing the maximum high-performance dynamic sound that will push you to the next level get control of your music and activate siri with remote talk * *\n",
      "Minimum index: 462687 Value: 106\n",
      "Sentence: set in rural england it present all sort of people during each episode some just living their life or perhaps making new one others becoming involved with other people and so on * * *\n",
      "========================================\n"
     ]
    },
    {
     "name": "stderr",
     "output_type": "stream",
     "text": [
      "\r",
      "8it [00:19,  3.40s/it]"
     ]
    },
    {
     "name": "stdout",
     "output_type": "stream",
     "text": [
      "Index ประโยคภาษาไทย: 267660\n",
      "ประโยค: ในขณะที่คำอธิบายบางส่วนของเขาถูกดึงออกมาได้ดีพวกเขาก็กลายเป็นคนที่ซ้ำซากราวกับว่าเราเคยเห็นฉากเหล่านี้มาก่อน*****\n",
      "Same index: 267660 Value: 21 Rank: 0\n",
      "Sentence: while some of his description were well drawn out they also became very repetitive a if we had all seen these scene before * * * * *\n",
      "Minimum index: 827468 Value: 21\n",
      "Sentence: i 'm looking to get a grande iced caffe americano * * * *\n",
      "========================================\n"
     ]
    },
    {
     "name": "stderr",
     "output_type": "stream",
     "text": [
      "\r",
      "9it [00:20,  2.74s/it]"
     ]
    },
    {
     "name": "stdout",
     "output_type": "stream",
     "text": [
      "Index ประโยคภาษาไทย: 653025\n",
      "ประโยค: มีอะไรให้ฉันช่วยอีกมั้ยคะ******\n",
      "Same index: 653025 Value: 9 Rank: 236\n",
      "Sentence: is there anything else i can help you with * * * * *\n",
      "Minimum index: 325687 Value: 7\n",
      "Sentence: keep the keyboard safe from scratch *\n",
      "========================================\n"
     ]
    },
    {
     "name": "stderr",
     "output_type": "stream",
     "text": [
      "\r",
      "10it [00:22,  2.28s/it]"
     ]
    },
    {
     "name": "stdout",
     "output_type": "stream",
     "text": [
      "Index ประโยคภาษาไทย: 593451\n",
      "ประโยค: ลูกค้าของเราได้รับการจัดอันดับแอฟริกาใต้รถเช่าที่มีค่าเฉลี่ย***\n",
      "Same index: 593451 Value: 14 Rank: 497\n",
      "Sentence: our customer rated south africa car rental with an average of 9.00 based on 8 rating * * * * * *\n",
      "Minimum index: 443114 Value: 9\n",
      "Sentence: you wo n't find better value for your money * * * * *\n",
      "========================================\n"
     ]
    },
    {
     "name": "stderr",
     "output_type": "stream",
     "text": [
      "\r",
      "11it [00:24,  2.32s/it]"
     ]
    },
    {
     "name": "stdout",
     "output_type": "stream",
     "text": [
      "Index ประโยคภาษาไทย: 205918\n",
      "ประโยค: การออกแบบน่ารักเหมือนนรกโดยเฉพาะถ้าคุณรักแมวและไม่ใช่ของปลอมเหล่านั้นหรือเหมือนกับแมวที่แพงมากๆ******\n",
      "Same index: 205918 Value: 18 Rank: 0\n",
      "Sentence: the design is cute a hell especially if you love cat and not one of those fake one or just like really nice expensive cat * * *\n",
      "Minimum index: 205918 Value: 18\n",
      "Sentence: the design is cute a hell especially if you love cat and not one of those fake one or just like really nice expensive cat * * *\n",
      "========================================\n"
     ]
    },
    {
     "name": "stderr",
     "output_type": "stream",
     "text": [
      "\r",
      "12it [00:25,  2.02s/it]"
     ]
    },
    {
     "name": "stdout",
     "output_type": "stream",
     "text": [
      "Index ประโยคภาษาไทย: 180055\n",
      "ประโยค: ด้วยเหตุผลเพียงอย่างเดียวฉันจะบอกว่าฉันซื้อหนังสือเล่มนี้\n",
      "Same index: 180055 Value: 13 Rank: 1\n",
      "Sentence: for that reason alone i 'd say buy this book * * * *\n",
      "Minimum index: 288627 Value: 12\n",
      "Sentence: this might just have been an anomaly\n",
      "========================================\n"
     ]
    },
    {
     "name": "stderr",
     "output_type": "stream",
     "text": [
      "\r",
      "13it [00:28,  2.12s/it]"
     ]
    },
    {
     "name": "stdout",
     "output_type": "stream",
     "text": [
      "Index ประโยคภาษาไทย: 627273\n",
      "ประโยค: สั่งเครื่องดื่มจากสตาร์บัคส์สาขาเบย์วิวเรียบร้อยแล้วค่ะอีกเดี๋ยวไปรับได้เลยนะคะส่งใบเสร็จไปให้ทางโทรศัพท์ผ่านข้อความแล้วค่ะ**\n",
      "Same index: 627273 Value: 27 Rank: 732\n",
      "Sentence: i placed your order at the bayview starbucks it will be ready for pick up shortly and the receipt ha been sent to your phone via text message message * * * * * *\n",
      "Minimum index: 718865 Value: 22\n",
      "Sentence: hello i need to take my car to get it repaired * * *\n",
      "========================================\n"
     ]
    },
    {
     "name": "stderr",
     "output_type": "stream",
     "text": [
      "\r",
      "14it [00:29,  1.86s/it]"
     ]
    },
    {
     "name": "stdout",
     "output_type": "stream",
     "text": [
      "Index ประโยคภาษาไทย: 832146\n",
      "ประโยค: ได้ค่ะตั๋วผู้ใหญ่3ใบสักครู่นะคะ******\n",
      "Same index: 832146 Value: 9 Rank: 229\n",
      "Sentence: got it i 'll get you 3 adult ticket one moment * * *\n",
      "Minimum index: 633077 Value: 7\n",
      "Sentence: got it and what is your phone number * * * * * *\n",
      "========================================\n"
     ]
    },
    {
     "name": "stderr",
     "output_type": "stream",
     "text": [
      "\r",
      "15it [00:30,  1.68s/it]"
     ]
    },
    {
     "name": "stdout",
     "output_type": "stream",
     "text": [
      "Index ประโยคภาษาไทย: 960337\n",
      "ประโยค: แฟ้มโชว์เอกสารA4เขียว40 ซองตราช้างN401***\n",
      "Same index: 960337 Value: 9 Rank: 0\n",
      "Sentence: view binder a4 green 40 sheet elephant n401 n401 * * * * *\n",
      "Minimum index: 960337 Value: 9\n",
      "Sentence: view binder a4 green 40 sheet elephant n401 n401 * * * * *\n",
      "========================================\n"
     ]
    },
    {
     "name": "stderr",
     "output_type": "stream",
     "text": [
      "\r",
      "16it [00:37,  3.30s/it]"
     ]
    },
    {
     "name": "stdout",
     "output_type": "stream",
     "text": [
      "Index ประโยคภาษาไทย: 876259\n",
      "ประโยค: ขับเคลื่อนทุกการเรียนรู้สนุกไปกับการเสริมสร้างจิตนาการด้วยDICKIETOYSรถแวนส์ที่มาให้คุณหนูๆได้เล่นอย่างสมจริงรถแวนส์SurferVanมาพร้อมสติ๊กเกอร์สำหรับให้คุณหนูๆตกแต่งรถประตูสามารถเปิดปิดได้มาในอัตราส่วน114ขนาด32 ซมกว้างxยาวxสูง4145  405 ซมเหมาะสำหรับเด็กอายุ35ปีหมายเหตุสีของผลิตภัณฑ์ที่แสดงบนเว็บไซต์อาจมีความแตกต่างกันจากการตั้งค่าการแสดงผลของแต่ละหน้าจอ****\n",
      "Same index: 876259 Value: 74 Rank: 0\n",
      "Sentence: dickie toy surfer van friction-driven toy van opening door two removable surfboard sticker licence vw scale 01:14 size 32 cm width x length x height 41 45 40.5 cm recommended age 3 5 year caution in term of item color it may be slightly different from each monitor display and specification * * * * *\n",
      "Minimum index: 876259 Value: 74\n",
      "Sentence: dickie toy surfer van friction-driven toy van opening door two removable surfboard sticker licence vw scale 01:14 size 32 cm width x length x height 41 45 40.5 cm recommended age 3 5 year caution in term of item color it may be slightly different from each monitor display and specification * * * * *\n",
      "========================================\n"
     ]
    },
    {
     "name": "stderr",
     "output_type": "stream",
     "text": [
      "\r",
      "17it [00:38,  2.50s/it]"
     ]
    },
    {
     "name": "stdout",
     "output_type": "stream",
     "text": [
      "Index ประโยคภาษาไทย: 216581\n",
      "ประโยค: ฉันเป็นเจ้าของสุนัขสองตัว**\n",
      "Same index: 216581 Value: 3 Rank: 0\n",
      "Sentence: i own two dog * * *\n",
      "Minimum index: 216581 Value: 3\n",
      "Sentence: i own two dog * * *\n",
      "========================================\n"
     ]
    },
    {
     "name": "stderr",
     "output_type": "stream",
     "text": [
      "\r",
      "18it [00:39,  2.11s/it]"
     ]
    },
    {
     "name": "stdout",
     "output_type": "stream",
     "text": [
      "Index ประโยคภาษาไทย: 677303\n",
      "ประโยค: ดูเหมือนว่าท่อน้ำมันจะย้อนกลับมาที่ตัวรถค่ะ****\n",
      "Same index: 677303 Value: 12 Rank: 385\n",
      "Sentence: my car 's gas pipe seems to be redirecting back into the car *\n",
      "Minimum index: 574221 Value: 9\n",
      "Sentence: you had better to ask the individual graduate school * * * * *\n",
      "========================================\n"
     ]
    },
    {
     "name": "stderr",
     "output_type": "stream",
     "text": [
      "\r",
      "19it [00:40,  1.67s/it]"
     ]
    },
    {
     "name": "stdout",
     "output_type": "stream",
     "text": [
      "Index ประโยคภาษาไทย: 888651\n",
      "ประโยค: ความถี่50Hzถึง60 Hz เฟสเดียว**\n",
      "Same index: 888651 Value: 7 Rank: 175\n",
      "Sentence: frequency 50 hz to 60 hz single phase phase * * * * *\n",
      "Minimum index: 747521 Value: 5\n",
      "Sentence: hello becky * * * * * *\n",
      "========================================\n"
     ]
    },
    {
     "name": "stderr",
     "output_type": "stream",
     "text": [
      "\r",
      "20it [00:41,  1.52s/it]"
     ]
    },
    {
     "name": "stdout",
     "output_type": "stream",
     "text": [
      "Index ประโยคภาษาไทย: 49740\n",
      "ประโยค: อาจจะเป็นวันที่ดีฉันแน่ใจดีใจที่คุณได้รับชื่อของคุณกลับมาแล้ว\n",
      "Same index: 49740 Value: 13 Rank: 8\n",
      "Sentence: might be great one day i 'm sure glad u got your name back\n",
      "Minimum index: 661756 Value: 12\n",
      "Sentence: you are welcome enjoy your coffee coffee\n",
      "========================================\n"
     ]
    },
    {
     "name": "stderr",
     "output_type": "stream",
     "text": [
      "\r",
      "21it [00:42,  1.27s/it]"
     ]
    },
    {
     "name": "stdout",
     "output_type": "stream",
     "text": [
      "Index ประโยคภาษาไทย: 424159\n",
      "ประโยค: ข้างในมีกระเป๋ามากมาย***\n",
      "Same index: 424159 Value: 3 Rank: 0\n",
      "Sentence: plenty of pocket inside * * *\n",
      "Minimum index: 424159 Value: 3\n",
      "Sentence: plenty of pocket inside * * *\n",
      "========================================\n"
     ]
    },
    {
     "name": "stderr",
     "output_type": "stream",
     "text": [
      "\r",
      "22it [00:43,  1.27s/it]"
     ]
    },
    {
     "name": "stdout",
     "output_type": "stream",
     "text": [
      "Index ประโยคภาษาไทย: 414751\n",
      "ประโยค: ทุกคนที่ใช้แท็บเล็ตมีความต้องการของรายการนี้*****\n",
      "Same index: 414751 Value: 9 Rank: 50\n",
      "Sentence: everyone that us a tablet ha need of this item * * * *\n",
      "Minimum index: 159046 Value: 6\n",
      "Sentence: this strap take care of that *\n",
      "========================================\n"
     ]
    },
    {
     "name": "stderr",
     "output_type": "stream",
     "text": [
      "\r",
      "23it [00:45,  1.59s/it]"
     ]
    },
    {
     "name": "stdout",
     "output_type": "stream",
     "text": [
      "Index ประโยคภาษาไทย: 98062\n",
      "ประโยค: จะแนะนำแน่นอนแต่ระวังด้วยใส่ของบนหัวของสัตว์เลี้ยงของคุณอย่างใกลเกินไปแล้วมันอาจจะคันมากๆเอาได้***\n",
      "Same index: 98062 Value: 23 Rank: 3\n",
      "Sentence: would definitely recommend but be careful putting something on your pet 's head too close a it will get them very itchy * * * * * *\n",
      "Minimum index: 706652 Value: 21\n",
      "Sentence: sure thing what type of car do you want * * * * *\n",
      "========================================\n"
     ]
    },
    {
     "name": "stderr",
     "output_type": "stream",
     "text": [
      "\r",
      "24it [00:46,  1.47s/it]"
     ]
    },
    {
     "name": "stdout",
     "output_type": "stream",
     "text": [
      "Index ประโยคภาษาไทย: 649319\n",
      "ประโยค: โชคไม่ดีเลยค่ะวันอาทิตย์รอบยังคงเป็น6 โมงครึ่งและ3 ทุ่มค่ะ***\n",
      "Same index: 649319 Value: 10 Rank: 2\n",
      "Sentence: unfortunately on sunday the showtime are still 6:30pm and 9:00pm 9:00pm * * *\n",
      "Minimum index: 153742 Value: 9\n",
      "Sentence: they have comfortable grip while still being light weight * * * * *\n",
      "========================================\n"
     ]
    },
    {
     "name": "stderr",
     "output_type": "stream",
     "text": [
      "\r",
      "25it [00:47,  1.22s/it]"
     ]
    },
    {
     "name": "stdout",
     "output_type": "stream",
     "text": [
      "Index ประโยคภาษาไทย: 55690\n",
      "ประโยค: มันแข็งแรงเกินไปสำหรับผู้หญิงโดยเฉลี่ย*\n",
      "Same index: 55690 Value: 7 Rank: 179\n",
      "Sentence: it 's just too strong on an average woman * * * * *\n",
      "Minimum index: 714763 Value: 6\n",
      "Sentence: okay when * * * * *\n",
      "========================================\n"
     ]
    },
    {
     "name": "stderr",
     "output_type": "stream",
     "text": [
      "\r",
      "26it [00:48,  1.24s/it]"
     ]
    },
    {
     "name": "stdout",
     "output_type": "stream",
     "text": [
      "Index ประโยคภาษาไทย: 154146\n",
      "ประโยค: สำหรับฉันมันรู้สึกเหมือน45ดาวมากกว่า******\n",
      "Same index: 154146 Value: 7 Rank: 0\n",
      "Sentence: for me that mean more like 4.5 star actually * * * * *\n",
      "Minimum index: 350375 Value: 7\n",
      "Sentence: but you get what u pay *\n",
      "========================================\n"
     ]
    },
    {
     "name": "stderr",
     "output_type": "stream",
     "text": [
      "\r",
      "27it [00:50,  1.25s/it]"
     ]
    },
    {
     "name": "stdout",
     "output_type": "stream",
     "text": [
      "Index ประโยคภาษาไทย: 774422\n",
      "ประโยค: ค่ะดีเลยค่ะมีรอบประมาณ1 ทุ่มหรือ2 ทุ่มมั้ยคะ**\n",
      "Same index: 774422 Value: 11 Rank: 1\n",
      "Sentence: all right sound great is there a showing around 7:00 or 8:00 * *\n",
      "Minimum index: 765640 Value: 10\n",
      "Sentence: that sound good doe it have a lot of caffeine * * * *\n",
      "========================================\n"
     ]
    },
    {
     "name": "stderr",
     "output_type": "stream",
     "text": [
      "\r",
      "28it [00:50,  1.05s/it]"
     ]
    },
    {
     "name": "stdout",
     "output_type": "stream",
     "text": [
      "Index ประโยคภาษาไทย: 294415\n",
      "ประโยค: ยินดีเป็นอย่างยิ่งทุกรอบ**\n",
      "Same index: 294415 Value: 5 Rank: 14\n",
      "Sentence: very pleased all around * * *\n",
      "Minimum index: 83124 Value: 3\n",
      "Sentence: this is a terrible case * *\n",
      "========================================\n"
     ]
    },
    {
     "name": "stderr",
     "output_type": "stream",
     "text": [
      "\r",
      "29it [00:52,  1.32s/it]"
     ]
    },
    {
     "name": "stdout",
     "output_type": "stream",
     "text": [
      "Index ประโยคภาษาไทย: 64404\n",
      "ประโยค: อย่างที่สามแพคเกจดูสวยมากเหมือนของฉันยกเว้นของฉันมี3แท่งที่พิมพ์อยู่ด้านหน้าแทน*\n",
      "Same index: 64404 Value: 15 Rank: 0\n",
      "Sentence: third thing the package looked pretty much like mine except mine had 3 bar printed across the front instead of *\n",
      "Minimum index: 64404 Value: 15\n",
      "Sentence: third thing the package looked pretty much like mine except mine had 3 bar printed across the front instead of *\n",
      "========================================\n"
     ]
    },
    {
     "name": "stderr",
     "output_type": "stream",
     "text": [
      "\r",
      "30it [00:53,  1.30s/it]"
     ]
    },
    {
     "name": "stdout",
     "output_type": "stream",
     "text": [
      "Index ประโยคภาษาไทย: 743560\n",
      "ประโยค: ใช่แล้วมีร้านสตาร์บัคในตึกมันดีแบบนี้นี่แหละ***\n",
      "Same index: 743560 Value: 11 Rank: 31\n",
      "Sentence: yes best thing about having a starbucks in your building * * * *\n",
      "Minimum index: 651339 Value: 10\n",
      "Sentence: i 'll take the 10:30pm 10:30pm *\n",
      "========================================\n"
     ]
    },
    {
     "name": "stderr",
     "output_type": "stream",
     "text": [
      "\r",
      "31it [00:54,  1.11s/it]"
     ]
    },
    {
     "name": "stdout",
     "output_type": "stream",
     "text": [
      "Index ประโยคภาษาไทย: 184626\n",
      "ประโยค: แต่ว่าสั้นไป****\n",
      "Same index: 184626 Value: 4 Rank: 38\n",
      "Sentence: it 's too short * * *\n",
      "Minimum index: 144702 Value: 2\n",
      "Sentence: very well made * * * *\n",
      "========================================\n"
     ]
    },
    {
     "name": "stderr",
     "output_type": "stream",
     "text": [
      "\r",
      "32it [00:55,  1.04it/s]"
     ]
    },
    {
     "name": "stdout",
     "output_type": "stream",
     "text": [
      "Index ประโยคภาษาไทย: 383178\n",
      "ประโยค: มันไม่คุ้มที่จะคืนสิ่งเหล่านี้\n",
      "Same index: 383178 Value: 6 Rank: 0\n",
      "Sentence: it wa n't worth returning these *\n",
      "Minimum index: 383178 Value: 6\n",
      "Sentence: it wa n't worth returning these *\n",
      "========================================\n"
     ]
    },
    {
     "name": "stderr",
     "output_type": "stream",
     "text": [
      "\r",
      "33it [00:56,  1.05s/it]"
     ]
    },
    {
     "name": "stdout",
     "output_type": "stream",
     "text": [
      "Index ประโยคภาษาไทย: 540089\n",
      "ประโยค: 鏂板勾蹇箰锛涓囦簨濡傛剰锛韬綋寤哄悍锛鎭枩鍙戣储ขอให้เธอและครอบครัวมีความสุขในปีกระต่ายนะ*\n",
      "Same index: 540089 Value: 11 Rank: 0\n",
      "Sentence: 鏂板勾蹇箰锛� 涓囦簨濡傛剰锛� 韬綋寤哄悍锛� 鎭枩鍙戣储 may you and family have a blessed rabbit year *\n",
      "Minimum index: 540089 Value: 11\n",
      "Sentence: 鏂板勾蹇箰锛� 涓囦簨濡傛剰锛� 韬綋寤哄悍锛� 鎭枩鍙戣储 may you and family have a blessed rabbit year *\n",
      "========================================\n"
     ]
    },
    {
     "name": "stderr",
     "output_type": "stream",
     "text": [
      "\r",
      "34it [00:57,  1.07it/s]"
     ]
    },
    {
     "name": "stdout",
     "output_type": "stream",
     "text": [
      "Index ประโยคภาษาไทย: 547527\n",
      "ประโยค: ฉันทีหลังไปถอนเจฟมีไหมอ่ะ**\n",
      "Same index: 547527 Value: 5 Rank: 5\n",
      "Sentence: i later go withdraw eh jeff got\n",
      "Minimum index: 102629 Value: 4\n",
      "Sentence: read if on vacation * * *\n",
      "========================================\n"
     ]
    },
    {
     "name": "stderr",
     "output_type": "stream",
     "text": [
      "\r",
      "35it [01:03,  2.74s/it]"
     ]
    },
    {
     "name": "stdout",
     "output_type": "stream",
     "text": [
      "Index ประโยคภาษาไทย: 912087\n",
      "ประโยค: ตู้เอกสาร5ชั้นผลิตจากพลาสติกหนาพิเศษทนทานสวยงามมีป้ายสำหรับเขียนเพื่อความสะดวกในการจัดเก็บให้เป็นหมวดหมู่ใช้เก็บและแยกประเภทของเอกสารเพื่อความสะดวกในการใช้งานชนิด5ชั้นสีโครงดำลิ้นชักดำขนาดลิ้นชักกว้างxยาวxสูง255x34x4ซมชั้นขนาดสินค้ากว้างxยาวxสูง261x345x275 ซมน้ำหนักสินค้า246กกจำนวน1ตู้*****\n",
      "Same index: 912087 Value: 65 Rank: 0\n",
      "Sentence: made of special durable thick plastic look hardly breakable index sticker for writing the file classification search into the file quickly ideal for collecting and classifying the document increase better convenience in use type 5 shelf colour black structure with black drawer product dimension width x length x height 26.1 x 34.5 x 27.5 cm product weight 2.46 kg number of item 1 cabinet cabinet * * * * *\n",
      "Minimum index: 912087 Value: 65\n",
      "Sentence: made of special durable thick plastic look hardly breakable index sticker for writing the file classification search into the file quickly ideal for collecting and classifying the document increase better convenience in use type 5 shelf colour black structure with black drawer product dimension width x length x height 26.1 x 34.5 x 27.5 cm product weight 2.46 kg number of item 1 cabinet cabinet * * * * *\n",
      "========================================\n"
     ]
    },
    {
     "name": "stderr",
     "output_type": "stream",
     "text": [
      "\r",
      "36it [01:05,  2.28s/it]"
     ]
    },
    {
     "name": "stdout",
     "output_type": "stream",
     "text": [
      "Index ประโยคภาษาไทย: 150621\n",
      "ประโยค: ภรรยาของฉันสั่งสิ่งนี้เมื่อเราเห็นมัน****\n",
      "Same index: 150621 Value: 8 Rank: 0\n",
      "Sentence: my wife ordered this when we saw it * * * * * *\n",
      "Minimum index: 150621 Value: 8\n",
      "Sentence: my wife ordered this when we saw it * * * * * *\n",
      "========================================\n"
     ]
    },
    {
     "name": "stderr",
     "output_type": "stream",
     "text": [
      "\r",
      "37it [01:06,  1.97s/it]"
     ]
    },
    {
     "name": "stdout",
     "output_type": "stream",
     "text": [
      "Index ประโยคภาษาไทย: 906975\n",
      "ประโยค: หมึกสีดำอ่อนอ่อนขนาดปริมาณน้ำหมึก350มล ใช้กับพริ้นเตอร์ EpsonStylusPro7900 9900 78909890รับประกัน1 ปี**\n",
      "Same index: 906975 Value: 17 Rank: 624\n",
      "Sentence: light light black ink cartridge capacity 350 ml compatible epson model stylus pro 7900 9900 7890 9890 waranty 1 year year * * * *\n",
      "Minimum index: 684043 Value: 11\n",
      "Sentence: you are welcome the fare cost is 302.26 for an uberx * * *\n",
      "========================================\n"
     ]
    },
    {
     "name": "stderr",
     "output_type": "stream",
     "text": [
      "\r",
      "38it [01:09,  2.29s/it]"
     ]
    },
    {
     "name": "stdout",
     "output_type": "stream",
     "text": [
      "Index ประโยคภาษาไทย: 39839\n",
      "ประโยค: ฉันซื้อสิ่งนี้เพื่อใช้สำหรับเดล ลาทิทูด เอ็ม90ของฉันในทริปและขณะที่สินค้านั้นมีรูปร่างที่ดีมันหยุดทำงานหลังจาก3ใน10ของการใช้งาน******\n",
      "Same index: 39839 Value: 29 Rank: 347\n",
      "Sentence: i bought this to use for my dell latitude m90 on a trip and while the product wa in great shape it stopped working after 3 of 10 us\n",
      "Minimum index: 682062 Value: 25\n",
      "Sentence: it making a very deep gouging noise when i hit the break break *\n",
      "========================================\n"
     ]
    },
    {
     "name": "stderr",
     "output_type": "stream",
     "text": [
      "\r",
      "39it [01:10,  1.96s/it]"
     ]
    },
    {
     "name": "stdout",
     "output_type": "stream",
     "text": [
      "Index ประโยคภาษาไทย: 66688\n",
      "ประโยค: ขอร้องนะอย่าให้เรื่องนี้ทำให้คุณรู้สึกแย่เลย***\n",
      "Same index: 66688 Value: 11 Rank: 65\n",
      "Sentence: so please do n't let this discourage you * * * * * *\n",
      "Minimum index: 387368 Value: 9\n",
      "Sentence: that being said it must have been defective * * * * * *\n",
      "========================================\n"
     ]
    },
    {
     "name": "stderr",
     "output_type": "stream",
     "text": [
      "\r",
      "40it [01:12,  1.94s/it]"
     ]
    },
    {
     "name": "stdout",
     "output_type": "stream",
     "text": [
      "Index ประโยคภาษาไทย: 563640\n",
      "ประโยค: ฮะฮะฮ๋าฉันเพิ่งเห็นสิ่งนั้นและคิดว่านั่นมันธรรมดาอ่ะหัวเราะ*****\n",
      "Same index: 563640 Value: 13 Rank: 0\n",
      "Sentence: hahaha i just saw that and thought that basically lol lol * * *\n",
      "Minimum index: 563640 Value: 13\n",
      "Sentence: hahaha i just saw that and thought that basically lol lol * * *\n",
      "========================================\n"
     ]
    },
    {
     "name": "stderr",
     "output_type": "stream",
     "text": [
      "\r",
      "41it [01:13,  1.56s/it]"
     ]
    },
    {
     "name": "stdout",
     "output_type": "stream",
     "text": [
      "Index ประโยคภาษาไทย: 551426\n",
      "ประโยค: ฮะฮ่าโอเคขอบคุณนะ**\n",
      "Same index: 551426 Value: 3 Rank: 0\n",
      "Sentence: haha okay thanks thanks * * *\n",
      "Minimum index: 551426 Value: 3\n",
      "Sentence: haha okay thanks thanks * * *\n",
      "========================================\n"
     ]
    },
    {
     "name": "stderr",
     "output_type": "stream",
     "text": [
      "\r",
      "42it [01:15,  1.64s/it]"
     ]
    },
    {
     "name": "stdout",
     "output_type": "stream",
     "text": [
      "Index ประโยคภาษาไทย: 150635\n",
      "ประโยค: ถ้วยเหล่านี้มีความสวยงามน้ำหนักเบาทนทานการออกแบบที่ดีใส่ได้ตั้งแต่7ถึง9ออนซ์***\n",
      "Same index: 150635 Value: 13 Rank: 0\n",
      "Sentence: these cup were absolutely beautiful light weight durable good design just right to hold from 7 till 9 oz * *\n",
      "Minimum index: 150635 Value: 13\n",
      "Sentence: these cup were absolutely beautiful light weight durable good design just right to hold from 7 till 9 oz * *\n",
      "========================================\n"
     ]
    },
    {
     "name": "stderr",
     "output_type": "stream",
     "text": [
      "\r",
      "43it [01:16,  1.72s/it]"
     ]
    },
    {
     "name": "stdout",
     "output_type": "stream",
     "text": [
      "Index ประโยคภาษาไทย: 61617\n",
      "ประโยค: ฉันไม่เข้าใจว่าทำไมถึงมีคนออกแบบแบบนี้น่าขายหน้าอัปเดตฉันได้รู้ว่าหน่วยความจำUSBส่วนใหญ่ฉันใช้ได้\n",
      "Same index: 61617 Value: 33 Rank: 815\n",
      "Sentence: i do n't understand why someone would design something like this shame on them update i 've learned that most usb memory stick go in just fine for me * * * * * *\n",
      "Minimum index: 46228 Value: 17\n",
      "Sentence: not all issue may be experienced however\n",
      "========================================\n"
     ]
    },
    {
     "name": "stderr",
     "output_type": "stream",
     "text": [
      "\r",
      "44it [01:17,  1.40s/it]"
     ]
    },
    {
     "name": "stdout",
     "output_type": "stream",
     "text": [
      "Index ประโยคภาษาไทย: 248733\n",
      "ประโยค: ผลิตภัณฑ์ใช้งานได้ดีในราคาที่ดีมาก\n",
      "Same index: 248733 Value: 12 Rank: 254\n",
      "Sentence: the product work great for a very good price * * * * *\n",
      "Minimum index: 704519 Value: 7\n",
      "Sentence: can you book an appointment with intelligent auto solution\n",
      "========================================\n"
     ]
    },
    {
     "name": "stderr",
     "output_type": "stream",
     "text": [
      "\r",
      "45it [01:20,  1.71s/it]"
     ]
    },
    {
     "name": "stdout",
     "output_type": "stream",
     "text": [
      "Index ประโยคภาษาไทย: 604858\n",
      "ประโยค: นิวซีแลนด์มีพิพิธภัณฑ์เกียรติด้วยสำคัญเตปาป้าTongarewaรายละเอียดประวัติของประเทศนี้นอกเหนือจากพิพิธภัณฑ์และศูนย์ศิลปะหนึ่งสามารถเลือกชมสถานและชายหาด***\n",
      "Same index: 604858 Value: 24 Rank: 5\n",
      "Sentence: museum new zealand ha a number of respectable museum with the foremost being te papa tongarewa that detail the history of this country *\n",
      "Minimum index: 479837 Value: 22\n",
      "Sentence: we have lived plainly enough here phil and i * * * * *\n",
      "========================================\n"
     ]
    },
    {
     "name": "stderr",
     "output_type": "stream",
     "text": [
      "\r",
      "46it [01:22,  1.98s/it]"
     ]
    },
    {
     "name": "stdout",
     "output_type": "stream",
     "text": [
      "Index ประโยคภาษาไทย: 863465\n",
      "ประโยค: BumperforiPhone55sสีดำสำหลับiPhone55sวัสดุพลาสติกswarovskielementsป้องกันรอยขีดข่วนรับประกันตลอดอายุการใช้งาน***\n",
      "Same index: 863465 Value: 19 Rank: 0\n",
      "Sentence: bumper for i phone 5 5 black i phone 5 5 plastic material swarovski element anti scratch lifetime warranty warranty *\n",
      "Minimum index: 863465 Value: 19\n",
      "Sentence: bumper for i phone 5 5 black i phone 5 5 plastic material swarovski element anti scratch lifetime warranty warranty *\n",
      "========================================\n"
     ]
    },
    {
     "name": "stderr",
     "output_type": "stream",
     "text": [
      "\r",
      "47it [01:23,  1.58s/it]"
     ]
    },
    {
     "name": "stdout",
     "output_type": "stream",
     "text": [
      "Index ประโยคภาษาไทย: 281639\n",
      "ประโยค: ขออภัยฉันใช้เงินกับสิ่งนี้\n",
      "Same index: 281639 Value: 5 Rank: 0\n",
      "Sentence: sorry i spent money on this one\n",
      "Minimum index: 281639 Value: 5\n",
      "Sentence: sorry i spent money on this one\n",
      "========================================\n"
     ]
    },
    {
     "name": "stderr",
     "output_type": "stream",
     "text": [
      "\r",
      "48it [01:31,  3.49s/it]"
     ]
    },
    {
     "name": "stdout",
     "output_type": "stream",
     "text": [
      "Index ประโยคภาษาไทย: 26539\n",
      "ประโยค: ดังนั้นการฟื้นตัวของเศรษฐกิจโลกและการส่งออกที่มีแนวโน้มชัดเจนมากขึ้นในช่วงครึ่งปีหลังคาดว่าจะส่งผลให้อัตราการขยายตัวทางเศรษฐกิจเมื่อเทียบกับไตรมาสก่อนหน้าปรับตัวดีขึ้นตามลำดับ2การดำเนินการตามกรอบการรักษาเสถียรภาพเศรษฐกิจไทยในปี2556ที่คณะรัฐมนตรีได้ให้ความเห็นชอบเมื่อวันที่28 พฤษภาคม 2556และการดำเนินมาตรการสนับสนุนการขยายตัวทางเศรษฐกิจอย่างมีเสถียรภาพตามมติคณะรัฐมนตรีเมื่อวันที่6 สิงหาคม 2556ซึ่งจะช่วยสนับสนุนการขยายตัวเศรษฐกิจในครึ่งหลังของปี**\n",
      "Same index: 26539 Value: 77 Rank: 1\n",
      "Sentence: with the clearer sign of global economic recovery thai economy in the second half is expected to improve from the first half of 2013 2 the implementation of economic stability framework for 2 0 1 3 approved by the cabinet on 28th may 2013 and economic stability stimulus measure approved by the cabinet on 6th august 2013 will be the key driver to support economic growth in the second half * * * * * *\n",
      "Minimum index: 669024 Value: 76\n",
      "Sentence: of course happy to help * *\n",
      "========================================\n"
     ]
    },
    {
     "name": "stderr",
     "output_type": "stream",
     "text": [
      "\r",
      "49it [01:33,  3.00s/it]"
     ]
    },
    {
     "name": "stdout",
     "output_type": "stream",
     "text": [
      "Index ประโยคภาษาไทย: 552312\n",
      "ประโยค: ฉันได้แบบฟอร์มแล้วขอบคุณนะฉันจะออกไปเที่ยววันนี้และจะส่งไออาร์บีในวันพรุ่งนี้****\n",
      "Same index: 552312 Value: 14 Rank: 1\n",
      "Sentence: i got your form thanks i 'm heading out for the day and willhave to submit the irb tomorrow * *\n",
      "Minimum index: 253709 Value: 13\n",
      "Sentence: this make an excellent gift * *\n",
      "========================================\n"
     ]
    },
    {
     "name": "stderr",
     "output_type": "stream",
     "text": [
      "\r",
      "50it [01:36,  3.15s/it]"
     ]
    },
    {
     "name": "stdout",
     "output_type": "stream",
     "text": [
      "Index ประโยคภาษาไทย: 453929\n",
      "ประโยค: หากไม่มีอะไรอื่นในหนึ่งปีมันจะคุ้มค่าแต่ความจริงที่ว่ามันไม่ทํางานเช่นกันมีรีวิวครั้งแรกของฉันดังนั้นหลังจากผ่านไประยะหนึ่งฉันต้องยอมรับฉันค่อนข้างผิดหวัง******\n",
      "Same index: 453929 Value: 34 Rank: 122\n",
      "Sentence: if nothing else in one year it would have been worth it but the fact that it 's not working a well ha my first review so now after some time i got ta admit i 'm pretty disappointed * * *\n",
      "Minimum index: 508338 Value: 31\n",
      "Sentence: you have a couch * * *\n",
      "========================================\n"
     ]
    },
    {
     "name": "stderr",
     "output_type": "stream",
     "text": [
      "\r",
      "51it [01:38,  2.76s/it]"
     ]
    },
    {
     "name": "stdout",
     "output_type": "stream",
     "text": [
      "Index ประโยคภาษาไทย: 317173\n",
      "ประโยค: หากคุณอยู่ห่างจากบ้านหรือถ้าคุณใช้โทรศัพท์ตลอดเวลาคุณจะต้องใช้มันแน่นอน***\n",
      "Same index: 317173 Value: 17 Rank: 43\n",
      "Sentence: if you live away from home or if you 're always on the phone then you 'll definitely need it *\n",
      "Minimum index: 121155 Value: 15\n",
      "Sentence: you are going to have fun *\n",
      "========================================\n"
     ]
    },
    {
     "name": "stderr",
     "output_type": "stream",
     "text": [
      "\r",
      "52it [01:39,  2.31s/it]"
     ]
    },
    {
     "name": "stdout",
     "output_type": "stream",
     "text": [
      "Index ประโยคภาษาไทย: 777843\n",
      "ประโยค: โอเคค่ะร้านโซล ฟู้ด ซิตี้เวลา1 ทุ่มสำหรับ5ท่านไม่สามารถจองได้ค่ะ*\n",
      "Same index: 777843 Value: 14 Rank: 491\n",
      "Sentence: ok. soul food city at 7pm for 5 people with indoor seating is not available * * * * * *\n",
      "Minimum index: 176140 Value: 12\n",
      "Sentence: you have to drink two pill each time you take this * * *\n",
      "========================================\n"
     ]
    },
    {
     "name": "stderr",
     "output_type": "stream",
     "text": [
      "\r",
      "53it [01:44,  3.09s/it]"
     ]
    },
    {
     "name": "stdout",
     "output_type": "stream",
     "text": [
      "Index ประโยคภาษาไทย: 882904\n",
      "ประโยค: สนุกและเพลิดเพลินกับการใช้งานชุดคลิ๊ปที่มาพร้อมลวดลายสุดโปรดที่ไม่เหมือนใครในคาแรคเตอร์จากแบรนด์SANRIOชุดคลิ๊ป3ชิ้นวัสดุพลาสติกความกว้าง15 ซมความสูง10 ซมความลึก1 ซมคาแรคเตอร์MyMelodyหมายเหตุสีของผลิตภัณฑ์ที่แสดงบนเว็บไซต์อาจมีความแตกต่างกันจากการตั้งค่าการแสดงผลของแต่ละหน้าจอ******\n",
      "Same index: 882904 Value: 54 Rank: 3\n",
      "Sentence: enjoy to usability about clip ha designed one of the cartoon character to a favorite to unique from sanrio brand name three piece of costume d-cut clip material plastic width 15 cm height 10 cm depth 1 cm character my melody caution in term of item color it may be slightly different from each monitor display and specification * * * * *\n",
      "Minimum index: 104084 Value: 53\n",
      "Sentence: i like this product for how light and it doe n't take up so much space * * * * *\n",
      "========================================\n"
     ]
    },
    {
     "name": "stderr",
     "output_type": "stream",
     "text": [
      "\r",
      "54it [01:47,  2.88s/it]"
     ]
    },
    {
     "name": "stdout",
     "output_type": "stream",
     "text": [
      "Index ประโยคภาษาไทย: 36565\n",
      "ประโยค: มาตรา 1243บริษัทใหม่นี้ย่อมได้ไปทั้งสิทธิและความรับผิดบรรดามีอยู่แก่บริษัทเดิมอันได้มาควบเข้ากันนั้นทั้งสิ้น*****\n",
      "Same index: 36565 Value: 22 Rank: 98\n",
      "Sentence: section 1243 the new company is entitled to the right and subject to the liability of the amalgamated company * *\n",
      "Minimum index: 182793 Value: 20\n",
      "Sentence: i 'd never have finished it had it been le than 200 page *\n",
      "========================================\n"
     ]
    },
    {
     "name": "stderr",
     "output_type": "stream",
     "text": [
      "\r",
      "55it [01:48,  2.41s/it]"
     ]
    },
    {
     "name": "stdout",
     "output_type": "stream",
     "text": [
      "Index ประโยคภาษาไทย: 172983\n",
      "ประโยค: หนังสือน่ารักๆมีสูตรอาหารและคำแนะนำในเล่ม****\n",
      "Same index: 172983 Value: 11 Rank: 324\n",
      "Sentence: this is a cute book with some interesting recipe and suggestion * * *\n",
      "Minimum index: 678481 Value: 8\n",
      "Sentence: oh doe latour have outside table *\n",
      "========================================\n"
     ]
    },
    {
     "name": "stderr",
     "output_type": "stream",
     "text": [
      "\r",
      "56it [01:50,  2.19s/it]"
     ]
    },
    {
     "name": "stdout",
     "output_type": "stream",
     "text": [
      "Index ประโยคภาษาไทย: 326973\n",
      "ประโยค: อย่างไรก็ตามหลังจากผ่านไปเพียงฤดูกาลเดียวการเคลือบผิวที่ชัดเจนของพวกเขาก็เริ่มปรากฏเป็นชิ้นใหญ่**\n",
      "Same index: 326973 Value: 17 Rank: 2\n",
      "Sentence: however after just one season the clear coating on them started to come off in big chunk * * * *\n",
      "Minimum index: 437352 Value: 15\n",
      "Sentence: also you had to keep changing the setting every time if your video got choppy * * * * * *\n",
      "========================================\n"
     ]
    },
    {
     "name": "stderr",
     "output_type": "stream",
     "text": [
      "\r",
      "57it [01:51,  1.94s/it]"
     ]
    },
    {
     "name": "stdout",
     "output_type": "stream",
     "text": [
      "Index ประโยคภาษาไทย: 53497\n",
      "ประโยค: แค่โทรศัพท์ธรรมดาไม่แน่ใจว่าฉันะพูดอะไรอีก****\n",
      "Same index: 53497 Value: 10 Rank: 20\n",
      "Sentence: just a regular phone so not sure what more i can say * *\n",
      "Minimum index: 188804 Value: 9\n",
      "Sentence: oops did not realize these were so small * * * * * *\n",
      "========================================\n"
     ]
    },
    {
     "name": "stderr",
     "output_type": "stream",
     "text": [
      "\r",
      "58it [01:52,  1.75s/it]"
     ]
    },
    {
     "name": "stdout",
     "output_type": "stream",
     "text": [
      "Index ประโยคภาษาไทย: 129963\n",
      "ประโยค: ดึงความสนใจเขาและทำให้ฉันได้พักหายใจบ้าง****\n",
      "Same index: 129963 Value: 9 Rank: 15\n",
      "Sentence: keep him occupied and give me peace of mind * * * * *\n",
      "Minimum index: 186555 Value: 8\n",
      "Sentence: at least they did n't make him sound british * * * * *\n",
      "========================================\n"
     ]
    },
    {
     "name": "stderr",
     "output_type": "stream",
     "text": [
      "\r",
      "59it [01:53,  1.59s/it]"
     ]
    },
    {
     "name": "stdout",
     "output_type": "stream",
     "text": [
      "Index ประโยคภาษาไทย: 801008\n",
      "ประโยค: โอเคค่ะแล้วเรื่องโฮล์มสแอนด์วัตสันล่ะคะ****\n",
      "Same index: 801008 Value: 9 Rank: 0\n",
      "Sentence: okay how about holmes & watson * * *\n",
      "Minimum index: 729157 Value: 9\n",
      "Sentence: okay how many * * * *\n",
      "========================================\n"
     ]
    },
    {
     "name": "stderr",
     "output_type": "stream",
     "text": [
      "\r",
      "60it [01:54,  1.31s/it]"
     ]
    },
    {
     "name": "stdout",
     "output_type": "stream",
     "text": [
      "Index ประโยคภาษาไทย: 498201\n",
      "ประโยค: ฉันขโมยอย่างเงียบในระหว่างการขับขี่\n",
      "Same index: 498201 Value: 6 Rank: 0\n",
      "Sentence: i stole quietly along the drive *\n",
      "Minimum index: 498201 Value: 6\n",
      "Sentence: i stole quietly along the drive *\n",
      "========================================\n"
     ]
    },
    {
     "name": "stderr",
     "output_type": "stream",
     "text": [
      "\r",
      "61it [01:55,  1.29s/it]"
     ]
    },
    {
     "name": "stdout",
     "output_type": "stream",
     "text": [
      "Index ประโยคภาษาไทย: 499313\n",
      "ประโยค: คำพูดเหล่านั้นเป็นสิ่งที่นักแสดงจะต้องจากไป*****\n",
      "Same index: 499313 Value: 9 Rank: 47\n",
      "Sentence: those word were the cue for the actor to leave * * * *\n",
      "Minimum index: 698414 Value: 8\n",
      "Sentence: what kind do they have * *\n",
      "========================================\n"
     ]
    },
    {
     "name": "stderr",
     "output_type": "stream",
     "text": [
      "\r",
      "62it [01:56,  1.09s/it]"
     ]
    },
    {
     "name": "stdout",
     "output_type": "stream",
     "text": [
      "Index ประโยคภาษาไทย: 625557\n",
      "ประโยค: เหมือนเดิมเขากำลังเตรียมกล่องพิซซ่าแล้ว\n",
      "Same index: 625557 Value: 12 Rank: 251\n",
      "Sentence: same time they are preparing the pizza box now * * * * *\n",
      "Minimum index: 107482 Value: 6\n",
      "Sentence: it work great open box with ease\n",
      "========================================\n"
     ]
    },
    {
     "name": "stderr",
     "output_type": "stream",
     "text": [
      "\r",
      "63it [01:57,  1.06it/s]"
     ]
    },
    {
     "name": "stdout",
     "output_type": "stream",
     "text": [
      "Index ประโยคภาษาไทย: 750256\n",
      "ประโยค: 3 ทุ่ม45ค่ะ****\n",
      "Same index: 750256 Value: 3 Rank: 0\n",
      "Sentence: 9:45pm * * * * * *\n",
      "Minimum index: 722996 Value: 3\n",
      "Sentence: papa john 's * * * *\n",
      "========================================\n"
     ]
    },
    {
     "name": "stderr",
     "output_type": "stream",
     "text": [
      "\r",
      "64it [02:00,  1.59s/it]"
     ]
    },
    {
     "name": "stdout",
     "output_type": "stream",
     "text": [
      "Index ประโยคภาษาไทย: 613460\n",
      "ประโยค: สำหรับกิจกรรมกลางแจ้งอื่นๆไม่ควรพลาดสวนสัตว์ทามะในบริเวณใกล้เคียงกันนอกจากนั้นสวนสัตว์ในอำเภอฮิโนะทางทิศตะวันตกก็มีสัตว์จากทวีปเอเชียแอฟริกาและออสเตรเลียให้ชมท่ามกลางสภาพแวดล้อมทางธรรมชาติอีกด้วย*\n",
      "Same index: 613460 Value: 34 Rank: 243\n",
      "Sentence: for additional outdoor fun consider a trip to nearby tama zoological park located further west in the town of hino this zoo showcase animal in their natural habitat with specie from asia africa and australia\n",
      "Minimum index: 827942 Value: 31\n",
      "Sentence: cool your drink will be ready at the starbucks near the university of houston in 7 minute enjoy * * *\n",
      "========================================\n"
     ]
    },
    {
     "name": "stderr",
     "output_type": "stream",
     "text": [
      "\r",
      "65it [02:03,  2.02s/it]"
     ]
    },
    {
     "name": "stdout",
     "output_type": "stream",
     "text": [
      "Index ประโยคภาษาไทย: 122434\n",
      "ประโยค: ใช้ลำโพงตัวนี้เล่นกับเครื่องเล่นmp3ที่ออฟฟิศจะได้ไม่ต้องใช้หูฟังคนละข้างของโต๊ะค่ะถ้าดังกว่านี้จะเพอร์เฟกต์เลยค่ะ****\n",
      "Same index: 122434 Value: 30 Rank: 119\n",
      "Sentence: we used the speaker to play an mp3 player in our office so we could get away from a pair of headphone on each side of cubicle *\n",
      "Minimum index: 183043 Value: 28\n",
      "Sentence: took my husband several hour with electric tool to open it * * *\n",
      "========================================\n"
     ]
    },
    {
     "name": "stderr",
     "output_type": "stream",
     "text": [
      "\r",
      "66it [02:04,  1.97s/it]"
     ]
    },
    {
     "name": "stdout",
     "output_type": "stream",
     "text": [
      "Index ประโยคภาษาไทย: 371474\n",
      "ประโยค: มันสามารถยืนอยู่คนเดียวเป็นชิ้นสร้างแรงบันดาลใจแต่อย่างน้อยในบริบทนี้มันสั้น****\n",
      "Same index: 371474 Value: 14 Rank: 0\n",
      "Sentence: it could stand alone a an inspirational piece but at least in this context it fall short * * * *\n",
      "Minimum index: 543190 Value: 14\n",
      "Sentence: aunty i will be a little late.. near orchard now now * * *\n",
      "========================================\n"
     ]
    },
    {
     "name": "stderr",
     "output_type": "stream",
     "text": [
      "\r",
      "67it [02:05,  1.57s/it]"
     ]
    },
    {
     "name": "stdout",
     "output_type": "stream",
     "text": [
      "Index ประโยคภาษาไทย: 758070\n",
      "ประโยค: จ้ะเราพร้อมแล้ว***\n",
      "Same index: 758070 Value: 4 Rank: 0\n",
      "Sentence: yeah we 're ready now * *\n",
      "Minimum index: 335905 Value: 4\n",
      "Sentence: not really my thing * * *\n",
      "========================================\n"
     ]
    },
    {
     "name": "stderr",
     "output_type": "stream",
     "text": [
      "\r",
      "68it [02:16,  4.28s/it]"
     ]
    },
    {
     "name": "stdout",
     "output_type": "stream",
     "text": [
      "Index ประโยคภาษาไทย: 14373\n",
      "ประโยค: เมื่อวันที่๑๑ มิย ๒๕๖๒นายณัฐพล ขันธหิรัญเอกอัครราชทูตณกรุงโดฮาเป็นเจ้าภาพจัดงานเลี้ยงอาหารค่ำเอกอัครราชทูตภูมิภาคเอเชียประจำรัฐกาตาร์ที่ห้องอาหารIsaanโรงแรมGrandHyattDohaโดยมีเอกอัครราชทูตและอุปทูตจากประเทศในภูมิภาคเอเชียที่มีถิ่นพำนักในกรุงโดฮาจำนวน๑๙ประเทศพร้อมด้วยคู่สมรสเข้าร่วมการจัดงานเลี้ยงดังกล่าวเป็นธรรมเนียมปฏิบัติของกลุ่มเอกอัครราชทูตภูมิภาคเอเชียประจำรัฐกาตาร์ที่จัดขึ้นเป็นประจำทุกเดือนโดยแต่ละประเทศผลัดเปลี่ยนหมุนเวียนกันเป็นเจ้าภาพโดยมีวัตถุประสงค์เพื่อเปิดโอกาสให้คณะทูตจากประเทศต่าง ๆในเอเชียได้พบปะหารือและแลกเปลี่ยนความเห็นในประเด็นที่มีความสนใจร่วมกันของภูมิภาคและสร้างเครือข่ายในการประสานงานระหว่างกันโดยสถานเอกอัครราชทูตณกรุงโดฮาได้มอบของที่ระลึกให้แก่ผู้เข้าร่วมงานโดยเป็นโอกาสในการเผยแพร่วัฒนธรรมอาหารไทย สินค้าไทยและการท่องเที่ยวไทยต่อคณะทูตต่างประเทศและคู่สมรสด้วย**\n",
      "Same index: 14373 Value: 112 Rank: 30\n",
      "Sentence: on 11 june 2019 h.e mr. nathapol khantahiran ambassador of thailand to the state of qatar hosted the asian ambassador monthly dinner at isaan restaurant grand hyatt doha hotel the dinner wa attended by ambassador and charge d'affaires a.i from 19 asian country including spouse the dinner is a monthly event held by the group of asian ambassador in doha with each participating country rotating a a host the event serf a a forum to exchange view and information on topic of common interest in the region and create network among asian ambassador the royal thai embassy in doha also took this opportunity to promote thai food thai product and thai tourism to the participating ambassador and spouse * * * * *\n",
      "Minimum index: 51336 Value: 110\n",
      "Sentence: in all honesty i threw away more money than that what a total waste do n't get scared -it 's not worth it * * * * *\n",
      "========================================\n"
     ]
    },
    {
     "name": "stderr",
     "output_type": "stream",
     "text": [
      "\r",
      "69it [02:17,  3.37s/it]"
     ]
    },
    {
     "name": "stdout",
     "output_type": "stream",
     "text": [
      "Index ประโยคภาษาไทย: 385731\n",
      "ประโยค: การตั้งค่าค่อนข้างสมจริงLAตามที่เห็นอยู่ในปัจจุบัน****\n",
      "Same index: 385731 Value: 10 Rank: 38\n",
      "Sentence: the setting is pretty realistic la a it 's currently seen * * *\n",
      "Minimum index: 780395 Value: 9\n",
      "Sentence: im sorry almond milk is unavailable *\n",
      "========================================\n"
     ]
    },
    {
     "name": "stderr",
     "output_type": "stream",
     "text": [
      "\r",
      "70it [02:18,  2.54s/it]"
     ]
    },
    {
     "name": "stdout",
     "output_type": "stream",
     "text": [
      "Index ประโยคภาษาไทย: 539973\n",
      "ประโยค: เยอะเลยละได้ทั้งหมดหัวเราะ*\n",
      "Same index: 539973 Value: 6 Rank: 5\n",
      "Sentence: alot lah got in total haha *\n",
      "Minimum index: 716865 Value: 5\n",
      "Sentence: do you have any reward * *\n",
      "========================================\n"
     ]
    },
    {
     "name": "stderr",
     "output_type": "stream",
     "text": [
      "\r",
      "71it [02:18,  1.97s/it]"
     ]
    },
    {
     "name": "stdout",
     "output_type": "stream",
     "text": [
      "Index ประโยคภาษาไทย: 771796\n",
      "ประโยค: 2 ทุ่มคืนนี้ค่ะ****\n",
      "Same index: 771796 Value: 1 Rank: 0\n",
      "Sentence: eight this evening * * * * * *\n",
      "Minimum index: 771796 Value: 1\n",
      "Sentence: eight this evening * * * * * *\n",
      "========================================\n"
     ]
    },
    {
     "name": "stderr",
     "output_type": "stream",
     "text": [
      "\r",
      "72it [02:19,  1.76s/it]"
     ]
    },
    {
     "name": "stdout",
     "output_type": "stream",
     "text": [
      "Index ประโยคภาษาไทย: 583704\n",
      "ประโยค: ข้อมูลนี้จะมีอยู่เป็นสาธารณะโดยเกี่ยวข้องกับโปรไฟล์ของคุณ*\n",
      "Same index: 583704 Value: 11 Rank: 5\n",
      "Sentence: this information will also be publicly available in connection with your profile * *\n",
      "Minimum index: 303598 Value: 10\n",
      "Sentence: this book could have been good but the writing ruined it * * *\n",
      "========================================\n"
     ]
    },
    {
     "name": "stderr",
     "output_type": "stream",
     "text": [
      "\r",
      "73it [02:23,  2.31s/it]"
     ]
    },
    {
     "name": "stdout",
     "output_type": "stream",
     "text": [
      "Index ประโยคภาษาไทย: 912458\n",
      "ประโยค: ผลิตจากไม้ParticleBoardเคลือบผิวด้วยMelamineท็อปโต๊ะหนา25มมขาเหล็กทำสีสีขาวสีขาวขนาดสินค้ากว้างxลึกxสูง100x60x75 ซมตัวน้ำหนัก10กกจำนวน1ตัว*\n",
      "Same index: 912458 Value: 36 Rank: 0\n",
      "Sentence: made with particle board coated with melamine table top is 25 mm thick white steel leg product dimension width x depth x height 100 x 60 x 75 cm product color white product weight 10 kg number of item 1 pc *\n",
      "Minimum index: 647182 Value: 36\n",
      "Sentence: do you have their number * *\n",
      "========================================\n"
     ]
    },
    {
     "name": "stderr",
     "output_type": "stream",
     "text": [
      "\r",
      "74it [02:31,  3.92s/it]"
     ]
    },
    {
     "name": "stdout",
     "output_type": "stream",
     "text": [
      "Index ประโยคภาษาไทย: 852916\n",
      "ประโยค: รองเท้าลำลองแบบสวมที่ใส่ได้ทุกวันให้ความเบาสวมใส่สบายดีไซน์ลุคสปอร์ตอัปเปอร์ทำจากผ้าตาข่ายระบายอากาศได้ดีพื้นรองเท้าชั้นในและนอกซัพพอร์ทเท้าและรองรับการกระแทกได้ดีอัปเปอร์ทำจากผ้าตาข่ายและออกแบบทรงSocklikeออกแบบมาแบบสวมสวมง่ายใส่สบายน้ำหนักเบาและรองรับการกระแทกได้ดีไซส์US8สีชมพูหมายเหตุสีของผลิตภัณฑ์ที่แสดงบนเว็บไซต์อาจมีความแตกต่างกันจากการตั้งค่าการแสดงผลของแต่ละหน้าจอ*\n",
      "Same index: 852916 Value: 93 Rank: 952\n",
      "Sentence: a new footwear collection combining lifestyle and wellness versatile active comfort style and flexibility with the you uplift by skechers® shoe designed to be worn soft woven mesh fabric and super flexible knit fabric upper in a slip on sporty walking and comfort athletic shoe with stitching detail comfort insole and midsole design feature high-rebound cushioning with responsive feedback soft woven mesh fabric and socklike knit fabric upper slip-on sporty casual walking and fitness sneaker design size us8 color pink note in term of item color it may be slightly different from each monitor display and specification *\n",
      "Minimum index: 579926 Value: 76\n",
      "Sentence: these feature make scala ideal for developing application like web service * * *\n",
      "========================================\n"
     ]
    },
    {
     "name": "stderr",
     "output_type": "stream",
     "text": [
      "\r",
      "75it [02:33,  3.47s/it]"
     ]
    },
    {
     "name": "stdout",
     "output_type": "stream",
     "text": [
      "Index ประโยคภาษาไทย: 147398\n",
      "ประโยค: มันดูไม่แย่ในแสงไฟแต่ฉันเห็นมันได้ชัดเจนในแสงไฟปกติว่ามันมีแสงที่ออกจากตัวเคลือบแปลกๆ***\n",
      "Same index: 147398 Value: 27 Rank: 696\n",
      "Sentence: it 's not terribly obvious in some light but i can definitely see it with regular lighting that there is an odd sort of light coating around the bowl * * * * * *\n",
      "Minimum index: 327682 Value: 22\n",
      "Sentence: look better than having your camera out in the rain * * * *\n",
      "========================================\n"
     ]
    },
    {
     "name": "stderr",
     "output_type": "stream",
     "text": [
      "\r",
      "76it [02:35,  2.95s/it]"
     ]
    },
    {
     "name": "stdout",
     "output_type": "stream",
     "text": [
      "Index ประโยคภาษาไทย: 861401\n",
      "ประโยค: หมึกสีดำ ใช้กับพริ้นเตอร์ ฟูจิซีร็อกซ์ Phaser4600N4620DNปริมาณการพิมพ์5บนกระดาษขนาดA4พริ้นเอกสารได้40000หน้า\n",
      "Same index: 861401 Value: 27 Rank: 742\n",
      "Sentence: black toner cartridge compatible fuji xerox model phaser 4600 n4620 dn page yield of 40 000 page at 5 percent coverage based on letter size paper paper * * * * * *\n",
      "Minimum index: 38946 Value: 19\n",
      "Sentence: it like they were made to be able to withstand a lot more moisture\n",
      "========================================\n"
     ]
    },
    {
     "name": "stderr",
     "output_type": "stream",
     "text": [
      "\r",
      "77it [02:36,  2.26s/it]"
     ]
    },
    {
     "name": "stdout",
     "output_type": "stream",
     "text": [
      "Index ประโยคภาษาไทย: 474700\n",
      "ประโยค: อีกสองคนได้รับความเสียหายอย่างชัดเจน\n",
      "Same index: 474700 Value: 6 Rank: 0\n",
      "Sentence: the other 2 are clearly damaged *\n",
      "Minimum index: 198938 Value: 6\n",
      "Sentence: my wife really enjoys jim carey movie *\n",
      "========================================\n"
     ]
    },
    {
     "name": "stderr",
     "output_type": "stream",
     "text": [
      "\r",
      "78it [02:36,  1.79s/it]"
     ]
    },
    {
     "name": "stdout",
     "output_type": "stream",
     "text": [
      "Index ประโยคภาษาไทย: 843772\n",
      "ประโยค: ร้านไหนคะ****\n",
      "Same index: 843772 Value: 3 Rank: 0\n",
      "Sentence: which one * * * * *\n",
      "Minimum index: 129139 Value: 3\n",
      "Sentence: it arrived promptly * * * *\n",
      "========================================\n"
     ]
    },
    {
     "name": "stderr",
     "output_type": "stream",
     "text": [
      "\r",
      "79it [02:37,  1.61s/it]"
     ]
    },
    {
     "name": "stdout",
     "output_type": "stream",
     "text": [
      "Index ประโยคภาษาไทย: 278255\n",
      "ประโยค: คุณภาพการพิมพ์ก็ไม่ได้คุณภาพเหมือนกัน******\n",
      "Same index: 278255 Value: 7 Rank: 2\n",
      "Sentence: the quality of printing wa n't top notch either * * * * *\n",
      "Minimum index: 482237 Value: 6\n",
      "Sentence: the issued affidavit wa received * *\n",
      "========================================\n"
     ]
    },
    {
     "name": "stderr",
     "output_type": "stream",
     "text": [
      "\r",
      "80it [02:39,  1.69s/it]"
     ]
    },
    {
     "name": "stdout",
     "output_type": "stream",
     "text": [
      "Index ประโยคภาษาไทย: 311783\n",
      "ประโยค: พวกเขาไม่มีเหตุผลใดๆและคุณจะต้องย้อนกลับไปสองสามหน้าเพื่อคิดว่าเกิดอะไรขึ้น*\n",
      "Same index: 311783 Value: 22 Rank: 748\n",
      "Sentence: they did n't make any sense and you would have to go back on a couple of page just to figure out what wa happening * * *\n",
      "Minimum index: 661543 Value: 18\n",
      "Sentence: no that will do it have a good evening * * * * *\n",
      "========================================\n"
     ]
    },
    {
     "name": "stderr",
     "output_type": "stream",
     "text": [
      "\r",
      "81it [02:41,  1.54s/it]"
     ]
    },
    {
     "name": "stdout",
     "output_type": "stream",
     "text": [
      "Index ประโยคภาษาไทย: 81797\n",
      "ประโยค: หนังสือนี้มีจุดที่ผิดและพิมพ์ผิดเต็มไปหมด****\n",
      "Same index: 81797 Value: 10 Rank: 26\n",
      "Sentence: this book is full of error and misprint * * * * * *\n",
      "Minimum index: 315441 Value: 9\n",
      "Sentence: will buy more if written * *\n",
      "========================================\n"
     ]
    },
    {
     "name": "stderr",
     "output_type": "stream",
     "text": [
      "\r",
      "82it [02:42,  1.61s/it]"
     ]
    },
    {
     "name": "stdout",
     "output_type": "stream",
     "text": [
      "Index ประโยคภาษาไทย: 453837\n",
      "ประโยค: สิ่งที่พวกเขาเพิ่มคือแถบยางที่ผูกเงื่อนและคุณอาจซื้อของจากAmazonก็ได้***\n",
      "Same index: 453837 Value: 17 Rank: 15\n",
      "Sentence: all they add is a rubber band to tie in a knot and you probably could have bought something from amazon too * * * * * *\n",
      "Minimum index: 197924 Value: 15\n",
      "Sentence: this make carrying your olympus digital camera easy *\n",
      "========================================\n"
     ]
    },
    {
     "name": "stderr",
     "output_type": "stream",
     "text": [
      "\r",
      "83it [02:44,  1.51s/it]"
     ]
    },
    {
     "name": "stdout",
     "output_type": "stream",
     "text": [
      "Index ประโยคภาษาไทย: 980169\n",
      "ประโยค: นอกจากนี้ยังมีชาวไทยอยู่อีกราว5060คนอาศัยอยู่ในมุมไบ Sectionนักเรียน นักศึกษา*\n",
      "Same index: 980169 Value: 13 Rank: 96\n",
      "Sentence: there are also about 50 to 60 thai residing in mumbai section :international student\n",
      "Minimum index: 727125 Value: 11\n",
      "Sentence: where are you leaving from and where are you going * * * *\n",
      "========================================\n"
     ]
    },
    {
     "name": "stderr",
     "output_type": "stream",
     "text": [
      "\r",
      "84it [02:45,  1.41s/it]"
     ]
    },
    {
     "name": "stdout",
     "output_type": "stream",
     "text": [
      "Index ประโยคภาษาไทย: 156976\n",
      "ประโยค: ฉันพอใจกับการซื้อในครั้งนี้มาก******\n",
      "Same index: 156976 Value: 14 Rank: 501\n",
      "Sentence: i am completely satisfied with this purchase\n",
      "Minimum index: 731434 Value: 7\n",
      "Sentence: what can i get you today *\n",
      "========================================\n"
     ]
    },
    {
     "name": "stderr",
     "output_type": "stream",
     "text": [
      "\r",
      "85it [02:45,  1.19s/it]"
     ]
    },
    {
     "name": "stdout",
     "output_type": "stream",
     "text": [
      "Index ประโยคภาษาไทย: 743643\n",
      "ประโยค: คุณยุ่งอยู่มั้ย****\n",
      "Same index: 743643 Value: 3 Rank: 1\n",
      "Sentence: you busy * * * * *\n",
      "Minimum index: 687174 Value: 2\n",
      "Sentence: who is michael symon * * * *\n",
      "========================================\n"
     ]
    },
    {
     "name": "stderr",
     "output_type": "stream",
     "text": [
      "\r",
      "86it [02:47,  1.19s/it]"
     ]
    },
    {
     "name": "stdout",
     "output_type": "stream",
     "text": [
      "Index ประโยคภาษาไทย: 221065\n",
      "ประโยค: มีรุ่นอื่นออกมีซึ่งมีวิธีจับพลาสติกที่ทนทานกว่า*\n",
      "Same index: 221065 Value: 11 Rank: 11\n",
      "Sentence: there are other model out there which have way more sturdy plastic handle *\n",
      "Minimum index: 522463 Value: 9\n",
      "Sentence: got le pple izit * * *\n",
      "========================================\n"
     ]
    },
    {
     "name": "stderr",
     "output_type": "stream",
     "text": [
      "\r",
      "87it [03:05,  6.43s/it]"
     ]
    },
    {
     "name": "stdout",
     "output_type": "stream",
     "text": [
      "Index ประโยคภาษาไทย: 864646\n",
      "ประโยค: โชว์ทักษะอย่างเหนือชั้นควบคุมบอลได้ดั่งใจด้วยรองเท้าฟุตบอลรุ่นTiempoLegend7ProFGจากNIKEหนึ่งในรุ่นคลาสสิคตลอดกาลมาพร้อมกับเทคโนโลยีใหม่ที่ผสมผสานเส้นใยแบบFlyknitรวมเข้ากับหนังจิงโจ้ระดับพรีเมี่ยมให้คุณได้พบกับความยืดหยุ่นและสัมผัสที่เหนือชั้นกว่าที่เคยรหัสสินค้าAH7241077สีดำอัปเปอร์เลือกใช้หนังจิงโจ้หุ้มFlyknitเพื่อการสัมผัสลูกฟุตบอลอย่างไม่มีใครเทียบซับในFitmeshช่วยคงสภาพรูปทรงของรองเท้าช่วยให้หนังไม่ยืดออกเมื่อผ่านการใช้งานเป็นเวลานานโครงสร้างFlyknitที่ลิ้นรองเท้าและส้นเท้าเพื่อความกระชับและพอดีราวกับผิวชั้นที่2พร้อมความยืดหยุ่นและการรองรับในบริเวณที่คุณต้องการมากที่สุดHyperstabilityแผ่นรองไนลอนแบบอัดขึ้นรูปพร้อมส่วนหุ้มชั้นนอกจากวัสดุPebaxช่วยเพิ่มการทรงตัวให้รองเท้าสตั๊ดพร้อมทั้งลดน้ำหนักล็อคกระชับด้วยFlywireเชือกเบาและแข็งแรงพิเศษโอบรับส่วนกลางเท้าพร้อมทั้งผสานอยู่ในเชือกรองเท้าเพื่อการล็อคกระชับเมื่อคุณเปลี่ยนทิศและวิ่งเต็มฝีเท้าเทคโนโลยีNIKEGRIPช่วยไม่ให้เท้าของคุณเลื่อนหลุดจากรองเท้าสตั๊ดแผ่นรองพื้นรองเท้าแบบกว้างบางลดแรงกระแทกปุ่มสตั๊ดสำหรับพื้นสนามทั่วไปFGเพื่อใช้บนพื้นสนามหญ้าสั้นที่เปียกแฉะเล็กน้อย*****\n",
      "Same index: 864646 Value: 204 Rank: 202\n",
      "Sentence: classic touch locked down fit men s nike legend 7 pro fg firm-ground football boot combine the classic touch of kangaroo leather with a knit heel and the durable fit of an internal mesh liner that prevents overstretching a the leather season model ah7241-077 color black flyknit constructed heel and tongue add breathability stretch and support where you need it most premium kangaroo leather with interior quilting provides cushioned touch flywire cable integrate with the lace to lock down the foot stability pod inside the collar cup your ankle for support molded sockliner reduces stud pressure and enhances comfort hyperstability plate provides lightweight traction sockliner for low-profile cushioning firm-ground fg cleat for use on slightly wet short-grass field field\n",
      "Minimum index: 436789 Value: 199\n",
      "Sentence: this is one of those movie that will make you laugh have a few tear and also just plain get your attention all in the same time *\n",
      "========================================\n"
     ]
    },
    {
     "name": "stderr",
     "output_type": "stream",
     "text": [
      "\r",
      "88it [03:07,  4.88s/it]"
     ]
    },
    {
     "name": "stdout",
     "output_type": "stream",
     "text": [
      "Index ประโยคภาษาไทย: 294105\n",
      "ประโยค: สามีของฉันก็ลองทำดูเขาก็โอเค****\n",
      "Same index: 294105 Value: 9 Rank: 0\n",
      "Sentence: my husband also tried it his wa fine * * * * * *\n",
      "Minimum index: 669791 Value: 9\n",
      "Sentence: alright what need done * * *\n",
      "========================================\n"
     ]
    },
    {
     "name": "stderr",
     "output_type": "stream",
     "text": [
      "\r",
      "89it [03:08,  3.79s/it]"
     ]
    },
    {
     "name": "stdout",
     "output_type": "stream",
     "text": [
      "Index ประโยคภาษาไทย: 653007\n",
      "ประโยค: นี่ผู้ช่วยฉันต้องการจองมื้อเที่ยงหน่อย******\n",
      "Same index: 653007 Value: 12 Rank: 376\n",
      "Sentence: hey assistant i need a lunch reservation\n",
      "Minimum index: 778298 Value: 7\n",
      "Sentence: let me book that * * *\n",
      "========================================\n"
     ]
    },
    {
     "name": "stderr",
     "output_type": "stream",
     "text": [
      "\r",
      "90it [03:10,  3.21s/it]"
     ]
    },
    {
     "name": "stdout",
     "output_type": "stream",
     "text": [
      "Index ประโยคภาษาไทย: 639615\n",
      "ประโยค: แย่แล้วค่ะพวกเขาไม่ว่างตอน11 โมง 45 นาทีแล้วฉันจองตอนเที่ยงไว้ให้แล้วนะคะขอโทษด้วยนะคะ**\n",
      "Same index: 639615 Value: 24 Rank: 759\n",
      "Sentence: well they do not have the 11:45 open now but i had them put you at 12 noon sorry about all the change mam * * * *\n",
      "Minimum index: 391333 Value: 17\n",
      "Sentence: most people may not spend time figuring out what each chapter offer * *\n",
      "========================================\n"
     ]
    },
    {
     "name": "stderr",
     "output_type": "stream",
     "text": [
      "\r",
      "91it [03:16,  4.13s/it]"
     ]
    },
    {
     "name": "stdout",
     "output_type": "stream",
     "text": [
      "Index ประโยคภาษาไทย: 961579\n",
      "ประโยค: ชะล้างคราบมันกลิ่นคาวคราบอาหารบนภาชนะได้หมดจดโดยไม่ทิ้งสารเคมีตกค้างได้ด้วยน้ำยาล้างจานกลิ่นซิตรัสจากแบรนด์PIPPERSTANDARDกลิ่นหอมจากน้ำมันหอมระเหยธรรมชาติผ่านการทดสอบการระคายเคืองไม่ทำให้มือแห้งย่อยสลายได้ตามธรรมชาติสีเขียวความกว้าง10 ซมความสูง16 ซมความลึก6 ซมน้ำหนักก ก1136หมายเหตุสีของผลิตภัณฑ์ที่แสดงบนเว็บไซต์อาจมีความแตกต่างกันจากการตั้งค่าการแสดงผลสีของแต่ละหน้าจอ***\n",
      "Same index: 961579 Value: 93 Rank: 970\n",
      "Sentence: wash the stain fishy smell food stain on dish with dish washing liquid citrus scent by pipper standard cut through grease and grime with pineapple enzyme for a sparkling natural clean with pi pper standard dish wash liquid it non-irritation certification mean that our dish wash liquid wo n't dry out your hand or make them itchy or stripped one wash will leave your dish spot free color green width 10 cm height 16 cm depth 6 cm weight kg 1.136 caution in term of item color it may be slightly different from each monitor display and specification\n",
      "Minimum index: 629801 Value: 66\n",
      "Sentence: oh shoot i have an appointment at 7:30 a.m. and do n't think i can make it there that soon i 'm sorry i forgot * * * *\n",
      "========================================\n"
     ]
    },
    {
     "name": "stderr",
     "output_type": "stream",
     "text": [
      "\r",
      "92it [03:17,  3.26s/it]"
     ]
    },
    {
     "name": "stdout",
     "output_type": "stream",
     "text": [
      "Index ประโยคภาษาไทย: 223147\n",
      "ประโยค: ไม่สามารถแม้แต่จะได้ยินสิ่งที่พวกเขาร้องเพลง*****\n",
      "Same index: 223147 Value: 7 Rank: 0\n",
      "Sentence: could n't even hear what they were singing * * * * * *\n",
      "Minimum index: 223147 Value: 7\n",
      "Sentence: could n't even hear what they were singing * * * * * *\n",
      "========================================\n"
     ]
    },
    {
     "name": "stderr",
     "output_type": "stream",
     "text": [
      "\r",
      "93it [03:18,  2.48s/it]"
     ]
    },
    {
     "name": "stdout",
     "output_type": "stream",
     "text": [
      "Index ประโยคภาษาไทย: 698989\n",
      "ประโยค: เพิ่มรสอะไรไหมคะ**\n",
      "Same index: 698989 Value: 6 Rank: 113\n",
      "Sentence: would you like any added flavor *\n",
      "Minimum index: 191425 Value: 4\n",
      "Sentence: clear explanation * * * * *\n",
      "========================================\n"
     ]
    },
    {
     "name": "stderr",
     "output_type": "stream",
     "text": [
      "\r",
      "94it [03:19,  2.12s/it]"
     ]
    },
    {
     "name": "stdout",
     "output_type": "stream",
     "text": [
      "Index ประโยคภาษาไทย: 488657\n",
      "ประโยค: เขาเอามันออกจากหัวไม่ได้เลย******\n",
      "Same index: 488657 Value: 9 Rank: 258\n",
      "Sentence: he can not get it out of his head * * * * *\n",
      "Minimum index: 750350 Value: 6\n",
      "Sentence: awesome take care * * * *\n",
      "========================================\n"
     ]
    },
    {
     "name": "stderr",
     "output_type": "stream",
     "text": [
      "\r",
      "95it [03:20,  1.87s/it]"
     ]
    },
    {
     "name": "stdout",
     "output_type": "stream",
     "text": [
      "Index ประโยคภาษาไทย: 220811\n",
      "ประโยค: เขาต้องการให้ฉันทุกเช้าเมื่อเขาลุกขึ้นสำหรับวันที่เขาอ่าน*\n",
      "Same index: 220811 Value: 13 Rank: 15\n",
      "Sentence: he want me every morning when he get up for his day of reading\n",
      "Minimum index: 133379 Value: 12\n",
      "Sentence: i love the quality of what it make * * * * * *\n",
      "========================================\n"
     ]
    },
    {
     "name": "stderr",
     "output_type": "stream",
     "text": [
      "\r",
      "96it [03:32,  4.76s/it]"
     ]
    },
    {
     "name": "stdout",
     "output_type": "stream",
     "text": [
      "Index ประโยคภาษาไทย: 883510\n",
      "ประโยค: มอบความสบายให้แก่เท้าของคุณในทุก ๆวันด้วยรองเท้าลำลองSKECHERSรุ่นGowalk4Exceedอัปเปอร์ทำจากผ้าตาข่ายที่ยืดขยายได้ตามรูปเท้าและระบายอากาศได้ดีพร้อมเทคโนโลยีGogaMaxบริเวณพื้นรองเท้าด้านในที่ให้ความนุ่มเด้งและสัมผัสที่สบายในทุกก้าวเดินUpperทำจากผ้าตาข่ายและผ้าถักยืดหยุ่นได้ตามรูปเท้าเทคโนโลยี5GENที่ช่วยรองรับแรงกระแทกได้อย่างดีเยี่ยมพื้นรองเท้าเทคโนโลยีGogaPillarsพื้นรองเท้าด้านในเทคโนโลยีGogaMaxโฉมใหม่มอบความนุ่มเด้งน้ำหนักเบาพื้นรองเท้าใช้Bamboolinedเพื่อแอนตี้แบคทีเรียและป้องกันการเกิดกลิ่นอันไม่พึงประสงค์สวมใส่สบายสีกรมท่าขาวไซส์US10หมายเหตุสีของผลิตภัณฑ์ที่แสดงบนเว็บไซต์อาจมีความแตกต่างกันจากการตั้งค่าการแสดงผลของแต่ละหน้าจอ**\n",
      "Same index: 883510 Value: 132 Rank: 203\n",
      "Sentence: every day is a choice choose greatness with the skechers g owalk 4™ exceed feature innovative 5 gen® midsole design and an advanced knit fabric upper with new skechers goga max® insole for the most advanced walking experience ever innovative and highly responsive 5 gen® midsole cushioning mesh upper engineered to naturally expand with your foot while you walk nearly seamless construction for comfortable fit bamboo lined footbed for anti bacterial odor control goga pillars® on outsole evolved into a more streamlined design new skechers goga max® insole for next generation cushioning and support color navy-white size us10 note in term of item color it may be slightly different from each monitor display and specification * * * * * *\n",
      "Minimum index: 860229 Value: 127\n",
      "Sentence: bath mat from esquire for your clean and convenience made of premium cotton that will gentle softness and well-absorbing bath mat avenue esquire for cleaning and wiping thick fabric good absorbing made from cotton 100 dimension 20 30 inch 42.5 70 cm color brown caution in term of item color it may be slightly different from each monitor display and specification * *\n",
      "========================================\n"
     ]
    },
    {
     "name": "stderr",
     "output_type": "stream",
     "text": [
      "\r",
      "97it [03:33,  3.71s/it]"
     ]
    },
    {
     "name": "stdout",
     "output_type": "stream",
     "text": [
      "Index ประโยคภาษาไทย: 80611\n",
      "ประโยค: นอกจากนี้มันไม่จำเป็นต้องมีเรื่องเพศซึ่งก็ไม่ค่อยจะสมบูรณ์เท่าไหร่ก็ได้*\n",
      "Same index: 80611 Value: 13 Rank: 25\n",
      "Sentence: in addition it could do without all the sex which wa also lacking *\n",
      "Minimum index: 327862 Value: 12\n",
      "Sentence: not totally impressed * * * *\n",
      "========================================\n"
     ]
    },
    {
     "name": "stderr",
     "output_type": "stream",
     "text": [
      "\r",
      "98it [03:36,  3.37s/it]"
     ]
    },
    {
     "name": "stdout",
     "output_type": "stream",
     "text": [
      "Index ประโยคภาษาไทย: 512975\n",
      "ประโยค: ทั้งผู้ก่อกบฏและกองกำลังของรัฐบาลรวมถึงผู้ภักดีต่อเทย์เลอร์ถูกกล่าวหาว่าปล้นสะดมหมู่บ้านในชนบทของไลบีเรียแม้จะมีข้อตกลงสันติภาพก็ตาม*\n",
      "Same index: 512975 Value: 24 Rank: 0\n",
      "Sentence: both rebel and government force including those loyald to taylor have been accused of pillaging village in liberia 's countryside despite a peace deal * * * *\n",
      "Minimum index: 512975 Value: 24\n",
      "Sentence: both rebel and government force including those loyald to taylor have been accused of pillaging village in liberia 's countryside despite a peace deal * * * *\n",
      "========================================\n"
     ]
    },
    {
     "name": "stderr",
     "output_type": "stream",
     "text": [
      "\r",
      "99it [03:39,  3.46s/it]"
     ]
    },
    {
     "name": "stdout",
     "output_type": "stream",
     "text": [
      "Index ประโยคภาษาไทย: 314192\n",
      "ประโยค: ปัญหาสองอย่างที่ฉันมีคือ1บางครั้งเมื่อชั่งน้ําหนักเป็นกรัมมันบอกว่า00กรัมและไม่เปลี่ยนแปลงดังนั้นคุณจึงมีหนึ่งกรัมตรงนั้นไม่มีทางรู้ว่ามันปิดหรือไม่*****\n",
      "Same index: 314192 Value: 27 Rank: 0\n",
      "Sentence: the two issue i am having are 1 sometimes when weighing in gram it say 0.0 g and doe n't change so you just have one gram right there no way of knowing if it off or not * * * *\n",
      "Minimum index: 314192 Value: 27\n",
      "Sentence: the two issue i am having are 1 sometimes when weighing in gram it say 0.0 g and doe n't change so you just have one gram right there no way of knowing if it off or not * * * *\n",
      "========================================\n"
     ]
    },
    {
     "name": "stderr",
     "output_type": "stream",
     "text": [
      "\r",
      "100it [03:41,  2.78s/it]"
     ]
    },
    {
     "name": "stdout",
     "output_type": "stream",
     "text": [
      "Index ประโยคภาษาไทย: 581236\n",
      "ประโยค: เก้าอี้เดิมในสไตล์อาร์ตเดโคในกรอบกระจก****\n",
      "Same index: 581236 Value: 9 Rank: 0\n",
      "Sentence: the original chair in art deco style in the mirror frame frame * * *\n",
      "Minimum index: 581236 Value: 9\n",
      "Sentence: the original chair in art deco style in the mirror frame frame * * *\n",
      "========================================\n"
     ]
    },
    {
     "name": "stderr",
     "output_type": "stream",
     "text": [
      "\r",
      "101it [03:41,  2.13s/it]"
     ]
    },
    {
     "name": "stdout",
     "output_type": "stream",
     "text": [
      "Index ประโยคภาษาไทย: 306015\n",
      "ประโยค: คุณควรซื้อถ้าคุณมีอารมณ์ขัน\n",
      "Same index: 306015 Value: 11 Rank: 275\n",
      "Sentence: you should buy one if you have a sense of humor * * *\n",
      "Minimum index: 811074 Value: 6\n",
      "Sentence: did i get that right * *\n",
      "========================================\n"
     ]
    },
    {
     "name": "stderr",
     "output_type": "stream",
     "text": [
      "\r",
      "102it [03:48,  3.57s/it]"
     ]
    },
    {
     "name": "stdout",
     "output_type": "stream",
     "text": [
      "Index ประโยคภาษาไทย: 891543\n",
      "ประโยค: รองเท้าวิ่งCUSHStreetRunพร้อมซัพพอร์ทการเร่งสปีดตลอดเส้นทางรองรับแรงกระแทกอย่างนุ่มนวลตอบสนองแต่ละก้าวอย่างมีประสิทธิภาพรูปแบบไซส์ของสินค้าUSอัปเปอร์เป็นผ้าตาข่ายและวัสดุสังเคราะห์โครงสร้างแบบบูทมอบความกระชับเท้าเทคโนโลยีCushทำให้รองเท้ามีน้ำหนักเบาพร้อมรองรับแรงกระแทกอย่างมีประสิทธิภาพพื้นรองเท้าด้านนอกทำจากยางที่ทนทานและยึดเกาะได้ดีรหัสสินค้าMSTRNLS1สีขาวมาตรฐานไซส์US*****\n",
      "Same index: 891543 Value: 71 Rank: 407\n",
      "Sentence: get ready to hit the pavement in the cush+ street run the mesh upper keep the fit breathable while cush+ midsole foam offer unparalleled softness underfoot plus the rubber outsole feature rubber pod for unbeatable traction on urban terrain size system u mesh and synthetic upper bootie construction for a snug feel cush+ technology midsole for superior comfort and shock absorption durable traction rubber outsole model mstrnls1 color white size standard u u * * * * *\n",
      "Minimum index: 397423 Value: 64\n",
      "Sentence: and numerous grammatical error that make it hard to read at time * *\n",
      "========================================\n"
     ]
    },
    {
     "name": "stderr",
     "output_type": "stream",
     "text": [
      "\r",
      "103it [03:53,  3.82s/it]"
     ]
    },
    {
     "name": "stdout",
     "output_type": "stream",
     "text": [
      "Index ประโยคภาษาไทย: 853811\n",
      "ประโยค: ADIDASCreatorผลิตจากผ้าฝ้ายออกแบบด้วยทรงหลวมพอดีเพื่อให้เกิดความนุ่มสบายขณะสวมใส่ดีไซน์คอกลมดูคลาสสิคพร้อมเติมความเท่ด้วยกราฟฟิคที่ด้านหลังรหัสสินค้าDV3060สีดำผ้าฝ้าย100ทรงหลวมพอดีด้านหน้าตกแต่งโลโก้ADIDASพร้อมลายกราฟฟิคที่ด้านหลัง***\n",
      "Same index: 853811 Value: 42 Rank: 0\n",
      "Sentence: adidas creator made of cotton fabric with regular fit to provides soft and comfortable ribbed crewneck for classic style while insert cool design graphic at back model dv3060 color black 100 cotton regular fit adidas badge of sport on front and screen printed graphic at back back * *\n",
      "Minimum index: 853811 Value: 42\n",
      "Sentence: adidas creator made of cotton fabric with regular fit to provides soft and comfortable ribbed crewneck for classic style while insert cool design graphic at back model dv3060 color black 100 cotton regular fit adidas badge of sport on front and screen printed graphic at back back * *\n",
      "========================================\n"
     ]
    },
    {
     "name": "stderr",
     "output_type": "stream",
     "text": [
      "\r",
      "104it [03:56,  3.77s/it]"
     ]
    },
    {
     "name": "stdout",
     "output_type": "stream",
     "text": [
      "Index ประโยคภาษาไทย: 611894\n",
      "ประโยค: ไฟล์Cookieจะถูกเก็บไว้ในเว็บบราวเซอร์ของคุณทำให้เว็บไซต์นี้และบุคคลที่สามสามารถจดจำคุณได้และทำให้คุณมาเยี่ยมชมเว็บไซต์ในครั้งถัดไปได้ง่ายยิ่งขึ้นรวมถึงทำให้เว็บไซต์นี้เป็นประโยชน์กับคุณมากยิ่งขึ้นด้วย*\n",
      "Same index: 611894 Value: 35 Rank: 0\n",
      "Sentence: a cookie file is stored in your web browser and allows the service or a third-party to recognize you and make your next visit easier and the service more useful to you * * *\n",
      "Minimum index: 237581 Value: 35\n",
      "Sentence: this book start a little slow but it doe get better * * *\n",
      "========================================\n"
     ]
    },
    {
     "name": "stderr",
     "output_type": "stream",
     "text": [
      "\r",
      "105it [03:57,  3.03s/it]"
     ]
    },
    {
     "name": "stdout",
     "output_type": "stream",
     "text": [
      "Index ประโยคภาษาไทย: 135882\n",
      "ประโยค: เพลงใหม่ของวงนี้มีจังหวะดีและทำนองไพเราะ***\n",
      "Same index: 135882 Value: 13 Rank: 424\n",
      "Sentence: the new song by this group ha a nice beat and an upbeat melody\n",
      "Minimum index: 358314 Value: 9\n",
      "Sentence: over time though the cost have risen considerably * * * * * *\n",
      "========================================\n"
     ]
    },
    {
     "name": "stderr",
     "output_type": "stream",
     "text": [
      "\r",
      "106it [04:01,  3.04s/it]"
     ]
    },
    {
     "name": "stdout",
     "output_type": "stream",
     "text": [
      "Index ประโยคภาษาไทย: 614799\n",
      "ประโยค: Samosaมักจะหมายถึงประเภทของขนมอบหรือทอดที่อัดแน่นด้วยไส้เผ็ดและทำเป็นรูปสามเหลี่ยมหรือรูปร่างtetrahedralที่ไม่ซ้ำกันสามารถทำหน้าที่เป็นอาหารจานหลักของว่างหรืออาหารริมถนน***\n",
      "Same index: 614799 Value: 35 Rank: 772\n",
      "Sentence: about samosa samosa usually refers to a type of baked or deep-fried pastry that 's stuffed with savory filling and made into triangular or a unique tetrahedral shape can be served a a main course snack or street food * * *\n",
      "Minimum index: 700488 Value: 29\n",
      "Sentence: yes of course what kind of cheese do you want * * * *\n",
      "========================================\n"
     ]
    },
    {
     "name": "stderr",
     "output_type": "stream",
     "text": [
      "\r",
      "107it [04:02,  2.64s/it]"
     ]
    },
    {
     "name": "stdout",
     "output_type": "stream",
     "text": [
      "Index ประโยคภาษาไทย: 350134\n",
      "ประโยค: และในที่สุดเนื่องจากไม่มีรีวิวใดๆสิ่งนี้จึงจําเป็นต้องมี******\n",
      "Same index: 350134 Value: 14 Rank: 10\n",
      "Sentence: and finally since there were no review this need one * * * *\n",
      "Minimum index: 532506 Value: 13\n",
      "Sentence: no problem how are you doing *\n",
      "========================================\n"
     ]
    },
    {
     "name": "stderr",
     "output_type": "stream",
     "text": [
      "\r",
      "108it [04:03,  2.04s/it]"
     ]
    },
    {
     "name": "stdout",
     "output_type": "stream",
     "text": [
      "Index ประโยคภาษาไทย: 300375\n",
      "ประโยค: ใช้งานได้แต่ดูแปลก ๆ**\n",
      "Same index: 300375 Value: 3 Rank: 0\n",
      "Sentence: work but look weird * * *\n",
      "Minimum index: 300375 Value: 3\n",
      "Sentence: work but look weird * * *\n",
      "========================================\n"
     ]
    },
    {
     "name": "stderr",
     "output_type": "stream",
     "text": [
      "\r",
      "109it [04:04,  1.81s/it]"
     ]
    },
    {
     "name": "stdout",
     "output_type": "stream",
     "text": [
      "Index ประโยคภาษาไทย: 242191\n",
      "ประโยค: พวกเขาอาจจะเก่าไปหน่อยแต่พวกเขาก็ค่อนข้างดีเสมอ***\n",
      "Same index: 242191 Value: 13 Rank: 431\n",
      "Sentence: they may be a bit dated but they have always been pretty good *\n",
      "Minimum index: 774303 Value: 9\n",
      "Sentence: have a nice meal * * *\n",
      "========================================\n"
     ]
    },
    {
     "name": "stderr",
     "output_type": "stream",
     "text": [
      "\r",
      "110it [04:11,  3.26s/it]"
     ]
    },
    {
     "name": "stdout",
     "output_type": "stream",
     "text": [
      "Index ประโยคภาษาไทย: 882947\n",
      "ประโยค: สนุกกับการขีดเขียนด้วยปากกาลายสุดน่ารักจากSANRIOแต่งแต้มตัวการ์ตูนตัวโปรดของคุณลงบนตัวปากกา สีสันสดใส แฟนคลับ Sanrio ห้ามพลาดปากกาลูกลื่น The Little Twin Stars Candy สำหรับขีดเขียนด้ามจับถนัดมือเขียนง่ายปุ่มกดด้านบนเป็นรูปCandymascotผลิตจากวัสดุABSคุณภาพดีดีไซน์น่ารักหมึกสีดำขนาดกว้างxยาวxสูง35213ซมสีชมพูหมายเหตุสีของผลิตภัณฑ์ที่แสดงอาจจะแตกต่างกันเนื่องจากรูปภาพที่แสดงและการกำหนดค่าการแสดงผลของแต่ละหน้าจอ****\n",
      "Same index: 882947 Value: 61 Rank: 0\n",
      "Sentence: enjoy writing more than ever with this sanrio pen which is adorably designed with little twin star sanrio ballpoint pen little twin star candy design for writing easy to use with a candy shaped mascot made of high quality ab adorably designed ink color black size 3.5 2 13 cm color pink caution color of the product shown on the website may be different due to the different display setting of each screen * * *\n",
      "Minimum index: 882947 Value: 61\n",
      "Sentence: enjoy writing more than ever with this sanrio pen which is adorably designed with little twin star sanrio ballpoint pen little twin star candy design for writing easy to use with a candy shaped mascot made of high quality ab adorably designed ink color black size 3.5 2 13 cm color pink caution color of the product shown on the website may be different due to the different display setting of each screen * * *\n",
      "========================================\n"
     ]
    },
    {
     "name": "stderr",
     "output_type": "stream",
     "text": [
      "\r",
      "111it [04:17,  4.07s/it]"
     ]
    },
    {
     "name": "stdout",
     "output_type": "stream",
     "text": [
      "Index ประโยคภาษาไทย: 854054\n",
      "ประโยค: ออกกำลังกายสบายๆไปกับกางเกงADIDASSpeedbreakerHypeIconด้วยคุณสมบัติพิเศษช่วยดูดซับเหงื่อจึงรู้สึกแห้งสบายไม่เหนอะหนะโพลีเอสเตอร์91และอีลาสเตน9เทคโนโลยีClimaliteช่วยดูดซับเหงื่อกระเป๋าด้านข้างเอวยางยืดแบบเรียบพร้อมเชือกผูกหมายเหตุสีของผลิตภัณฑ์ที่แสดงบนเว็บไซต์อาจมีความแตกต่างกันจากการตั้งค่าการแสดงผลสีของแต่ละหน้าจอ******\n",
      "Same index: 854054 Value: 60 Rank: 0\n",
      "Sentence: adidas speedbreaker hype icon keep you in comfort all time manage your perspirartion with climalite technology so you can training without gooey 91 polyester and 9 elastane single jersey climalite technology help to sweat wicking side slip-in pocket drawcord on flat-knit elastic waist caution in term of item color it may be slightly different from each monitor display and specification * * * * * *\n",
      "Minimum index: 854054 Value: 60\n",
      "Sentence: adidas speedbreaker hype icon keep you in comfort all time manage your perspirartion with climalite technology so you can training without gooey 91 polyester and 9 elastane single jersey climalite technology help to sweat wicking side slip-in pocket drawcord on flat-knit elastic waist caution in term of item color it may be slightly different from each monitor display and specification * * * * * *\n",
      "========================================\n"
     ]
    },
    {
     "name": "stderr",
     "output_type": "stream",
     "text": [
      "\r",
      "112it [04:17,  3.05s/it]"
     ]
    },
    {
     "name": "stdout",
     "output_type": "stream",
     "text": [
      "Index ประโยคภาษาไทย: 798082\n",
      "ประโยค: โอเคค่ะงั้นเป็นน้ำมันรั่วนะคะ\n",
      "Same index: 798082 Value: 3 Rank: 0\n",
      "Sentence: ok would that be oil leaking *\n",
      "Minimum index: 798082 Value: 3\n",
      "Sentence: ok would that be oil leaking *\n",
      "========================================\n"
     ]
    },
    {
     "name": "stderr",
     "output_type": "stream",
     "text": [
      "\r",
      "113it [04:19,  2.50s/it]"
     ]
    },
    {
     "name": "stdout",
     "output_type": "stream",
     "text": [
      "Index ประโยคภาษาไทย: 360831\n",
      "ประโยค: แล้วคุณจะไม่ได้ดูหนังสือเล่มนี้อีกเลย****\n",
      "Same index: 360831 Value: 10 Rank: 44\n",
      "Sentence: then you 'll never look at this book again * * * * *\n",
      "Minimum index: 507911 Value: 9\n",
      "Sentence: here richard take my child for goodness sake * * * * * *\n",
      "========================================\n"
     ]
    },
    {
     "name": "stderr",
     "output_type": "stream",
     "text": [
      "\r",
      "114it [04:20,  2.12s/it]"
     ]
    },
    {
     "name": "stdout",
     "output_type": "stream",
     "text": [
      "Index ประโยคภาษาไทย: 587048\n",
      "ประโยค: 3เลือกรถอย่างน้อย1คันที่คุณต้องการกาหนดบัตรบริษัท\n",
      "Same index: 587048 Value: 14 Rank: 59\n",
      "Sentence: select one or several vehicle that you wish to assign a company card *\n",
      "Minimum index: 73736 Value: 13\n",
      "Sentence: still one of my favorite song however\n",
      "========================================\n"
     ]
    },
    {
     "name": "stderr",
     "output_type": "stream",
     "text": [
      "\r",
      "115it [04:23,  2.35s/it]"
     ]
    },
    {
     "name": "stdout",
     "output_type": "stream",
     "text": [
      "Index ประโยคภาษาไทย: 51855\n",
      "ประโยค: เมื่อฉันวางเคสนี้บนIPadของฉันมันเหมือนกับการยืนเป็นแผ่นกระดาษและเมื่อคุณพยายามที่จะย้ายIpadมือของคุณก็จะฉีกขาด******\n",
      "Same index: 51855 Value: 25 Rank: 0\n",
      "Sentence: when i put this case on my ipad it wa like standing a sheet of paper and when you tried to move the ipad your hand were going to tear up * * * *\n",
      "Minimum index: 51855 Value: 25\n",
      "Sentence: when i put this case on my ipad it wa like standing a sheet of paper and when you tried to move the ipad your hand were going to tear up * * * *\n",
      "========================================\n"
     ]
    },
    {
     "name": "stderr",
     "output_type": "stream",
     "text": [
      "\r",
      "116it [04:24,  2.05s/it]"
     ]
    },
    {
     "name": "stdout",
     "output_type": "stream",
     "text": [
      "Index ประโยคภาษาไทย: 694084\n",
      "ประโยค: โอเค ดูเหมือนร้านเพดาเลอร์ผับที่ถนนตรงข้ามเดอะฟอร์ดมีโต๊ะปราศจากสารก่อภูมิแพ้ว่างให้คุณสี่คนวันเสาร์นี้ตอนหกโมง***\n",
      "Same index: 694084 Value: 28 Rank: 783\n",
      "Sentence: okay it look like pedaler 's pub across the street from the forge can seat your party of four on saturday at 6pm with an allergy free table table * * * * * *\n",
      "Minimum index: 397394 Value: 10\n",
      "Sentence: it lack specific about day trip or longer hike * * * * *\n",
      "========================================\n"
     ]
    },
    {
     "name": "stderr",
     "output_type": "stream",
     "text": [
      "\r",
      "117it [04:27,  2.17s/it]"
     ]
    },
    {
     "name": "stdout",
     "output_type": "stream",
     "text": [
      "Index ประโยคภาษาไทย: 39710\n",
      "ประโยค: ครั้งแรกมันยากเจ็บปวดแม้ในบางครั้งพยายามกลืนชิ้นเล็กๆที่พวกเราเติบโตขึ้นมาเมื่อบรรพบุรุษของเราทำงานในโรงงานหรือเหมืองถ่านหิน*\n",
      "Same index: 39710 Value: 23 Rank: 0\n",
      "Sentence: first it 's hard even painful at time -trying to swallow those little bit with which we all grew up when our father worked in mill or coal mine * * * * * *\n",
      "Minimum index: 39710 Value: 23\n",
      "Sentence: first it 's hard even painful at time -trying to swallow those little bit with which we all grew up when our father worked in mill or coal mine * * * * * *\n",
      "========================================\n"
     ]
    },
    {
     "name": "stderr",
     "output_type": "stream",
     "text": [
      "\r",
      "118it [04:27,  1.71s/it]"
     ]
    },
    {
     "name": "stdout",
     "output_type": "stream",
     "text": [
      "Index ประโยคภาษาไทย: 805048\n",
      "ประโยค: ฮ่าฮ่าโอเคค่ะ***\n",
      "Same index: 805048 Value: 4 Rank: 7\n",
      "Sentence: haha great * * * * *\n",
      "Minimum index: 963012 Value: 3\n",
      "Sentence: win name badge vertical asst color 50pack 50pack * * *\n",
      "========================================\n"
     ]
    },
    {
     "name": "stderr",
     "output_type": "stream",
     "text": [
      "\r",
      "119it [04:30,  1.96s/it]"
     ]
    },
    {
     "name": "stdout",
     "output_type": "stream",
     "text": [
      "Index ประโยคภาษาไทย: 311106\n",
      "ประโยค: ในฐานะที่เป็นคนที่ชอบนอนหลับด้วยแสงไฟในขณะที่ฉันนอนหลับและชอบเสียงของเสียงสีขาวในตอนกลางคืนที่นี่ยอดเยี่ยมมาก***\n",
      "Same index: 311106 Value: 22 Rank: 0\n",
      "Sentence: a someone who prefers to sleep with a light on while i sleep and like the sound of white noise at night this is great * * *\n",
      "Minimum index: 329999 Value: 22\n",
      "Sentence: the case is beautiful but it doe not fit the phone * * *\n",
      "========================================\n"
     ]
    },
    {
     "name": "stderr",
     "output_type": "stream",
     "text": [
      "\r",
      "120it [04:30,  1.57s/it]"
     ]
    },
    {
     "name": "stdout",
     "output_type": "stream",
     "text": [
      "Index ประโยคภาษาไทย: 287422\n",
      "ประโยค: มันอาจจะเลวร้ายลง***\n",
      "Same index: 287422 Value: 4 Rank: 1\n",
      "Sentence: it could have been worse * *\n",
      "Minimum index: 545246 Value: 3\n",
      "Sentence: today no meeting rite * * *\n",
      "========================================\n"
     ]
    },
    {
     "name": "stderr",
     "output_type": "stream",
     "text": [
      "\r",
      "121it [04:32,  1.64s/it]"
     ]
    },
    {
     "name": "stdout",
     "output_type": "stream",
     "text": [
      "Index ประโยคภาษาไทย: 396765\n",
      "ประโยค: ดังนั้นโปรดระวังที่จะทําตามคําแนะนําพวกเขาหมายความว่ามันอัพเดท112213 สุนัขของฉันตอนนี้เป็นลูกสุนัข\n",
      "Same index: 396765 Value: 19 Rank: 0\n",
      "Sentence: so be careful to follow direction they mean it update 112213 .my dog is a puppy now * * * *\n",
      "Minimum index: 812264 Value: 19\n",
      "Sentence: so 2 medium thick crust pizza one with macaroni and cheese and a hawaiian extra cheese on both is this correct\n",
      "========================================\n"
     ]
    },
    {
     "name": "stderr",
     "output_type": "stream",
     "text": [
      "\r",
      "122it [04:34,  1.71s/it]"
     ]
    },
    {
     "name": "stdout",
     "output_type": "stream",
     "text": [
      "Index ประโยคภาษาไทย: 155589\n",
      "ประโยค: ไม่แน่ใจว่าวิธีนี้จะเห็นผลไหมแต่กับส่วนใหญ่ฉันคิดว่ามันคุ้มเลย****\n",
      "Same index: 155589 Value: 15 Rank: 0\n",
      "Sentence: not sure how effective this treatment is but for the most part i think it 's worth it * * *\n",
      "Minimum index: 155589 Value: 15\n",
      "Sentence: not sure how effective this treatment is but for the most part i think it 's worth it * * *\n",
      "========================================\n"
     ]
    },
    {
     "name": "stderr",
     "output_type": "stream",
     "text": [
      "\r",
      "123it [04:36,  1.72s/it]"
     ]
    },
    {
     "name": "stdout",
     "output_type": "stream",
     "text": [
      "Index ประโยคภาษาไทย: 612279\n",
      "ประโยค: แผ่นหมุนฟรีถ้ามีคนพยายามเปิดล็อคด้วยเครื่องมือหรือกระทะพวกเขาสามารถเปิดแผ่นดิสก์หมุนได้ฟรี\n",
      "Same index: 612279 Value: 28 Rank: 800\n",
      "Sentence: high security free turn disc if someone try to open the lock by a tool or a pan they can only turn the free turn disc but could n't break the cylinder * * *\n",
      "Minimum index: 492246 Value: 18\n",
      "Sentence: somebody had written up a list of number plate on the noticeboard noticeboard *\n",
      "========================================\n"
     ]
    },
    {
     "name": "stderr",
     "output_type": "stream",
     "text": [
      "\r",
      "124it [04:36,  1.40s/it]"
     ]
    },
    {
     "name": "stdout",
     "output_type": "stream",
     "text": [
      "Index ประโยคภาษาไทย: 659645\n",
      "ประโยค: ค่ะมีอะไรอีกไหมคะ*\n",
      "Same index: 659645 Value: 6 Rank: 11\n",
      "Sentence: sure anything else * * * *\n",
      "Minimum index: 546927 Value: 5\n",
      "Sentence: tpy got buffet * * * *\n",
      "========================================\n"
     ]
    },
    {
     "name": "stderr",
     "output_type": "stream",
     "text": [
      "\r",
      "125it [04:37,  1.17s/it]"
     ]
    },
    {
     "name": "stdout",
     "output_type": "stream",
     "text": [
      "Index ประโยคภาษาไทย: 703924\n",
      "ประโยค: ได้สิไปทัน***\n",
      "Same index: 703924 Value: 4 Rank: 4\n",
      "Sentence: yes i can * * * *\n",
      "Minimum index: 798793 Value: 3\n",
      "Sentence: any preference on row * * *\n",
      "========================================\n"
     ]
    },
    {
     "name": "stderr",
     "output_type": "stream",
     "text": [
      "\r",
      "126it [04:41,  1.84s/it]"
     ]
    },
    {
     "name": "stdout",
     "output_type": "stream",
     "text": [
      "Index ประโยคภาษาไทย: 847918\n",
      "ประโยค: ONLYCENTRALสีเทาโอกาสที่สวมใส่ลำลองทำงานเหมาะกับกิจกรรมทั่วไปไซส์8USFemaleหมายเหตุสีของผลิตภัณฑ์ที่แสดงบนเว็บไซต์อาจมีความแตกต่างกันจากการตั้งค่าการแสดงผลสีของแต่ละหน้าจอ******\n",
      "Same index: 847918 Value: 28 Rank: 0\n",
      "Sentence: only central color grey occasion casual workwear activity general size 8 us-female caution in term of item color it may be slightly different from each monitor display and specification * * * * * *\n",
      "Minimum index: 847918 Value: 28\n",
      "Sentence: only central color grey occasion casual workwear activity general size 8 us-female caution in term of item color it may be slightly different from each monitor display and specification * * * * * *\n",
      "========================================\n"
     ]
    },
    {
     "name": "stderr",
     "output_type": "stream",
     "text": [
      "\r",
      "127it [04:42,  1.65s/it]"
     ]
    },
    {
     "name": "stdout",
     "output_type": "stream",
     "text": [
      "Index ประโยคภาษาไทย: 738699\n",
      "ประโยค: ฮัลโหลฉันอยากสั่งคาราเมลบูเล่ลาเต้แบบกลับบ้านหน่อยนะ***\n",
      "Same index: 738699 Value: 10 Rank: 4\n",
      "Sentence: hello i would like to order a caramel brulée latte for pick up *\n",
      "Minimum index: 676466 Value: 9\n",
      "Sentence: would you like to use intelligent auto solution *\n",
      "========================================\n"
     ]
    },
    {
     "name": "stderr",
     "output_type": "stream",
     "text": [
      "\r",
      "128it [04:44,  1.71s/it]"
     ]
    },
    {
     "name": "stdout",
     "output_type": "stream",
     "text": [
      "Index ประโยคภาษาไทย: 519438\n",
      "ประโยค: กระทรวงต่างประเทศของจีนกล่าวว่าเราหวังว่าทุกฝ่ายจะพยายามต่อไปและดำเนินการเจรจาต่อไป******\n",
      "Same index: 519438 Value: 18 Rank: 551\n",
      "Sentence: china 's foreign ministry said we hope all party will continue to make effort and continue the process of dialogue *\n",
      "Minimum index: 647178 Value: 14\n",
      "Sentence: yum seafood sound good where do you think you 'll go * * *\n",
      "========================================\n"
     ]
    },
    {
     "name": "stderr",
     "output_type": "stream",
     "text": [
      "\r",
      "129it [04:45,  1.56s/it]"
     ]
    },
    {
     "name": "stdout",
     "output_type": "stream",
     "text": [
      "Index ประโยคภาษาไทย: 144452\n",
      "ประโยค: ใช้ง่ายมากๆแค่อยากตัดสายให้สั้นไป***\n",
      "Same index: 144452 Value: 13 Rank: 475\n",
      "Sentence: very easy to use just do n't cut the cord too short it will kink it * * * * *\n",
      "Minimum index: 751735 Value: 9\n",
      "Sentence: where do you want to go *\n",
      "========================================\n"
     ]
    },
    {
     "name": "stderr",
     "output_type": "stream",
     "text": [
      "\r",
      "130it [04:47,  1.64s/it]"
     ]
    },
    {
     "name": "stdout",
     "output_type": "stream",
     "text": [
      "Index ประโยคภาษาไทย: 387521\n",
      "ประโยค: ทุกคนในครอบครัวของฉันรักมันและฉันดีใจที่ได้รับใช้พวกเขาเป็นทางเลือกสําหรับลูกชายของฉัน\n",
      "Same index: 387521 Value: 20 Rank: 34\n",
      "Sentence: my whole family love it i 'm glad to serve them a an alternative for my son * * * *\n",
      "Minimum index: 133379 Value: 18\n",
      "Sentence: i love the quality of what it make * * * * * *\n",
      "========================================\n"
     ]
    },
    {
     "name": "stderr",
     "output_type": "stream",
     "text": [
      "\r",
      "131it [04:48,  1.70s/it]"
     ]
    },
    {
     "name": "stdout",
     "output_type": "stream",
     "text": [
      "Index ประโยคภาษาไทย: 535550\n",
      "ประโยค: ใช่ฉันจินตนาการว่าเขาจะอ่อนโยนจริงๆไม่เหมือนหมอคนอื่นที่รักษาคนไข้ของพวกเขาเหมือนไก่**\n",
      "Same index: 535550 Value: 16 Rank: 0\n",
      "Sentence: yeah i imagine he would be really gentle unlike the other doc who treat their patient like turkey * * *\n",
      "Minimum index: 535550 Value: 16\n",
      "Sentence: yeah i imagine he would be really gentle unlike the other doc who treat their patient like turkey * * *\n",
      "========================================\n"
     ]
    },
    {
     "name": "stderr",
     "output_type": "stream",
     "text": [
      "\r",
      "132it [04:50,  1.73s/it]"
     ]
    },
    {
     "name": "stdout",
     "output_type": "stream",
     "text": [
      "Index ประโยคภาษาไทย: 218503\n",
      "ประโยค: มันมีอะไรมากมายเกี่ยวกับแมวและสุนัขซึ่งไม่ใช่สิ่งที่ฉันตั้งใจจะได้เมื่อซื้อ**\n",
      "Same index: 218503 Value: 15 Rank: 0\n",
      "Sentence: it ha a lot about cat and dog which wa n't what i intended to get when i bought it *\n",
      "Minimum index: 218503 Value: 15\n",
      "Sentence: it ha a lot about cat and dog which wa n't what i intended to get when i bought it *\n",
      "========================================\n"
     ]
    },
    {
     "name": "stderr",
     "output_type": "stream",
     "text": [
      "\r",
      "133it [04:51,  1.58s/it]"
     ]
    },
    {
     "name": "stdout",
     "output_type": "stream",
     "text": [
      "Index ประโยคภาษาไทย: 470421\n",
      "ประโยค: ผลิตภัณฑ์นี้เป็นสิ่งที่ฉันคาดว่าจะได้รับ****\n",
      "Same index: 470421 Value: 9 Rank: 0\n",
      "Sentence: this product wa exactly what i expected to receive * * * * *\n",
      "Minimum index: 743446 Value: 9\n",
      "Sentence: what other kind of non-dairy milk do they have * * * * *\n",
      "========================================\n"
     ]
    },
    {
     "name": "stderr",
     "output_type": "stream",
     "text": [
      "\r",
      "134it [04:54,  2.00s/it]"
     ]
    },
    {
     "name": "stdout",
     "output_type": "stream",
     "text": [
      "Index ประโยคภาษาไทย: 27155\n",
      "ประโยค: 3สถานการณ์ภัยแล้งยังเป็นปัจจัยเสี่ยงสําคัญต่อการขยายตัวของการผลิตในภาคเกษตรซึ่งอาจส่งผลกระทบต่อรายได้เกษตรกรการบริโภคภาคเอกชนและการขยายตัวทางเศรษฐกิจโดยภาพรวม YoY 2556 GDP Negative เกษตร Negative อุตสาหกรรม Negative ก่อสร้าง Neutral ค้าส่งค้าปลีก Positive โรงแรมและภัตตาคาร Negative ขนส่งและสื่อสาร Positive การเงิน Positive GDE Negative****\n",
      "Same index: 27155 Value: 43 Rank: 868\n",
      "Sentence: moreover the fluctuation in exchange rate should be monitored closely a it could delay the business and economic decision yoy 2013 gdp negative agriculture negative manufacturing negative construction neutral wholesale positive hotel and restaurant negative transportation and communication positive banking positive gde negative consumption positive investment positive export negative import positive 3 ) drought remains a downside risk towards the agricultural production this can affect the farm income private consumption and overall economic growth * * * * *\n",
      "Minimum index: 166528 Value: 27\n",
      "Sentence: however once in use is take about 2 minute to fill every time *\n",
      "========================================\n"
     ]
    },
    {
     "name": "stderr",
     "output_type": "stream",
     "text": [
      "\r",
      "135it [04:55,  1.59s/it]"
     ]
    },
    {
     "name": "stdout",
     "output_type": "stream",
     "text": [
      "Index ประโยคภาษาไทย: 941167\n",
      "ประโยค: รูปีศรีลังกาLKR****\n",
      "Same index: 941167 Value: 4 Rank: 44\n",
      "Sentence: sri lanka rupee lkr * * *\n",
      "Minimum index: 626704 Value: 3\n",
      "Sentence: okay awesome * * * * *\n",
      "========================================\n"
     ]
    },
    {
     "name": "stderr",
     "output_type": "stream",
     "text": [
      "\r",
      "136it [04:57,  1.63s/it]"
     ]
    },
    {
     "name": "stdout",
     "output_type": "stream",
     "text": [
      "Index ประโยคภาษาไทย: 522778\n",
      "ประโยค: ฉันกำลังไปแต่ลืมเอาใบคะแนนมาละหวังว่าวันนี้คงยังไม่เสร็จกันนะ***\n",
      "Same index: 522778 Value: 16 Rank: 2\n",
      "Sentence: m goin but forgot to bring e marking sheet hopefully wont finish today *\n",
      "Minimum index: 78506 Value: 15\n",
      "Sentence: i have many memory that can not be recovered * * * * *\n",
      "========================================\n"
     ]
    },
    {
     "name": "stderr",
     "output_type": "stream",
     "text": [
      "\r",
      "137it [04:57,  1.33s/it]"
     ]
    },
    {
     "name": "stdout",
     "output_type": "stream",
     "text": [
      "Index ประโยคภาษาไทย: 798845\n",
      "ประโยค: มีอะไรเพิ่มเติมเป็นพิเศษมั้ยคะ*\n",
      "Same index: 798845 Value: 5 Rank: 0\n",
      "Sentence: any other special instruction * * *\n",
      "Minimum index: 798845 Value: 5\n",
      "Sentence: any other special instruction * * *\n",
      "========================================\n"
     ]
    },
    {
     "name": "stderr",
     "output_type": "stream",
     "text": [
      "\r",
      "138it [05:02,  2.30s/it]"
     ]
    },
    {
     "name": "stdout",
     "output_type": "stream",
     "text": [
      "Index ประโยคภาษาไทย: 917795\n",
      "ประโยค: เสื้อยืดจากNIKEสามารถใช้ได้เป็นทั้งชุดลำลองหรือชุดออกกำลังกายตัวเสื้อผลิตจากผ้าคอตตอนบริสุทธิ์เพื่อความสบายตลอดวันและใช้งานทนทานยาวนานแขนสั้นผลิตจากคอตตอน100สกรีนลายบอลลูนไซส์ Lสีขาวหมายเหตุสีของผลิตภัณฑ์ที่แสดงบนเว็บไซต์อาจมีความแตกต่างกันจากการตั้งค่าการแสดงผลสีของแต่ละหน้าจอ**\n",
      "Same index: 917795 Value: 55 Rank: 811\n",
      "Sentence: nike men s t-shirt is a comfortable classic perfect for everyday wear it combine a crew-neck design with short sleeve for a nonrestrictive fit 100 cotton short sleeve air baloon graphic in screenprint and wide yarn stitch embroidery size l white caution in term of item color it may be slightly different from each monitor display and specification *\n",
      "Minimum index: 733771 Value: 48\n",
      "Sentence: sure i know they make those fresh fresh * * * * * *\n",
      "========================================\n"
     ]
    },
    {
     "name": "stderr",
     "output_type": "stream",
     "text": [
      "\r",
      "139it [05:03,  1.82s/it]"
     ]
    },
    {
     "name": "stdout",
     "output_type": "stream",
     "text": [
      "Index ประโยคภาษาไทย: 700872\n",
      "ประโยค: ถูกแล้วค่ะ****\n",
      "Same index: 700872 Value: 4 Rank: 38\n",
      "Sentence: yes that is correct * * *\n",
      "Minimum index: 815297 Value: 3\n",
      "Sentence: 6:30pm * * * * * *\n",
      "========================================\n"
     ]
    },
    {
     "name": "stderr",
     "output_type": "stream",
     "text": [
      "\r",
      "140it [05:04,  1.65s/it]"
     ]
    },
    {
     "name": "stdout",
     "output_type": "stream",
     "text": [
      "Index ประโยคภาษาไทย: 110483\n",
      "ประโยค: แค่อยากให้ไม่ยืดมากขนาดนั้นจนตอนนี้หลวมแล้วค่ะ*\n",
      "Same index: 110483 Value: 12 Rank: 8\n",
      "Sentence: only wish they had n't stretched out so much that they 're now loose\n",
      "Minimum index: 416006 Value: 11\n",
      "Sentence: the packaging wa not sufficient in size nor weight a noted above * *\n",
      "========================================\n"
     ]
    },
    {
     "name": "stderr",
     "output_type": "stream",
     "text": [
      "\r",
      "141it [05:05,  1.49s/it]"
     ]
    },
    {
     "name": "stdout",
     "output_type": "stream",
     "text": [
      "Index ประโยคภาษาไทย: 83495\n",
      "ประโยค: ฉันใช้เราเตอร์ไร้สายเบลกิ้นอายุการใช้งานประมาณ35 ปี*****\n",
      "Same index: 83495 Value: 12 Rank: 439\n",
      "Sentence: i have been using belkin wireless router ranging in age from three to five year * * * * * *\n",
      "Minimum index: 667681 Value: 8\n",
      "Sentence: do they have a booth at that time * * * * * *\n",
      "========================================\n"
     ]
    },
    {
     "name": "stderr",
     "output_type": "stream",
     "text": [
      "\r",
      "142it [05:09,  2.31s/it]"
     ]
    },
    {
     "name": "stdout",
     "output_type": "stream",
     "text": [
      "Index ประโยคภาษาไทย: 20676\n",
      "ประโยค: สัดส่วนของตําแหน่งงานว่างทั้งประเทศต่อผู้สมัครงานใหม่เท่ากับ07ทรงตัวเมื่อเทียบกับไตรมาสก่อนหน้าแสดงให้เห็นว่าสถานการณ์ตึงตัวของตลาดแรงงานปรับตัวดีขึ้นเมื่อเทียบกับช่วงไตรมาสแรกและไตรมาสสองที่มีสัดส่วนร้อยละ 10และ08ตามลําดับ***\n",
      "Same index: 20676 Value: 49 Rank: 842\n",
      "Sentence: the unemployment rate wa at 0.6 percent the ratio of vacancy over new registered application wa at 0.7 remained stable compared to the prior quarter this reflects an improvement of tension in labor market compared to the first and the second quarter which recorded at 1.0 and 0.8 percent consecutively\n",
      "Minimum index: 778437 Value: 42\n",
      "Sentence: you 're all set 2 ticket for aquaman at 7 p.m. at amc newport centre 11 * *\n",
      "========================================\n"
     ]
    },
    {
     "name": "stderr",
     "output_type": "stream",
     "text": [
      "\r",
      "143it [05:11,  2.00s/it]"
     ]
    },
    {
     "name": "stdout",
     "output_type": "stream",
     "text": [
      "Index ประโยคภาษาไทย: 751288\n",
      "ประโยค: ค่ะดาราคนไหนแสดงเรื่องนี้เหรอคะ*****\n",
      "Same index: 751288 Value: 9 Rank: 11\n",
      "Sentence: yeah it is in the movie *\n",
      "Minimum index: 475262 Value: 8\n",
      "Sentence: very clear picture nice color color *\n",
      "========================================\n"
     ]
    },
    {
     "name": "stderr",
     "output_type": "stream",
     "text": [
      "\r",
      "144it [05:14,  2.48s/it]"
     ]
    },
    {
     "name": "stdout",
     "output_type": "stream",
     "text": [
      "Index ประโยคภาษาไทย: 939300\n",
      "ประโยค: ปากกาลูกลื่นแบบปลอกเส้นเล็กเขียนลื่นหมึกไหลสม่ำเสมอมีคลิปหนีบเพิ่มความสะดวกในการพกพาด้ามลายริ้วจับกระชับมือหมึกสีดำขนาดหัวปากกา05มมบรรจุ6ด้ามแพ็ค******\n",
      "Same index: 939300 Value: 29 Rank: 0\n",
      "Sentence: small writing line smooth writing and continuous flowing ink stripe handle fitted to the hand point type 0.5 mm black ink contained 6 pcs.pack * * * *\n",
      "Minimum index: 939300 Value: 29\n",
      "Sentence: small writing line smooth writing and continuous flowing ink stripe handle fitted to the hand point type 0.5 mm black ink contained 6 pcs.pack * * * *\n",
      "========================================\n"
     ]
    },
    {
     "name": "stderr",
     "output_type": "stream",
     "text": [
      "\r",
      "145it [05:15,  2.07s/it]"
     ]
    },
    {
     "name": "stdout",
     "output_type": "stream",
     "text": [
      "Index ประโยคภาษาไทย: 256513\n",
      "ประโยค: 3 เดือนแล้วตั้งแต่เรามีสิ่งเหล่านี้และทุกอย่างทำงานได้ดี***\n",
      "Same index: 256513 Value: 14 Rank: 502\n",
      "Sentence: it 's been 3 month now since we 've had these and everything is working fine * * * * *\n",
      "Minimum index: 310737 Value: 9\n",
      "Sentence: worked perfectly for getting my machine working again * * * * * *\n",
      "========================================\n"
     ]
    },
    {
     "name": "stderr",
     "output_type": "stream",
     "text": [
      "\r",
      "146it [05:18,  2.35s/it]"
     ]
    },
    {
     "name": "stdout",
     "output_type": "stream",
     "text": [
      "Index ประโยคภาษาไทย: 177053\n",
      "ประโยค: ผู้รีวิวคนนึงพูดว่าเธออ่านมันไม่จบสิ่งที่เธอได้จากหนังสือเล่มนี้ทั้งหมดเลยคือที่ว่าคนทุกคนบนโลกควรทำตัวดีกับคนอื่นขนาดไหนค่ะ*\n",
      "Same index: 177053 Value: 32 Rank: 37\n",
      "Sentence: one reviewer said they could n't finish it that all she took away from the book wa how great everyone on earth should treat each other * *\n",
      "Minimum index: 104255 Value: 29\n",
      "Sentence: i have not finished making it yet but i can not wait to get started on it * * * *\n",
      "========================================\n"
     ]
    },
    {
     "name": "stderr",
     "output_type": "stream",
     "text": [
      "\r",
      "147it [05:20,  2.01s/it]"
     ]
    },
    {
     "name": "stdout",
     "output_type": "stream",
     "text": [
      "Index ประโยคภาษาไทย: 394432\n",
      "ประโยค: แต่มันจะเข้าไปในสถานที่ที่คุณไม่สามารถไปได้**\n",
      "Same index: 394432 Value: 12 Rank: 31\n",
      "Sentence: but it really get into those place that you ca n't get to *\n",
      "Minimum index: 143775 Value: 10\n",
      "Sentence: well what great music they make *\n",
      "========================================\n"
     ]
    },
    {
     "name": "stderr",
     "output_type": "stream",
     "text": [
      "\r",
      "148it [05:21,  1.94s/it]"
     ]
    },
    {
     "name": "stdout",
     "output_type": "stream",
     "text": [
      "Index ประโยคภาษาไทย: 258955\n",
      "ประโยค: คุณต้องเข้าถึงให้ได้นานเพื่อที่จะได้สิ่งของเล็กๆน้อยๆจากก้นกระทะ******\n",
      "Same index: 258955 Value: 15 Rank: 60\n",
      "Sentence: you need to have a long reach to be able to get even small stuff from bottom of pan * *\n",
      "Minimum index: 625333 Value: 13\n",
      "Sentence: they have stadium seating with reclining seat seat * * * * * *\n",
      "========================================\n"
     ]
    },
    {
     "name": "stderr",
     "output_type": "stream",
     "text": [
      "\r",
      "149it [05:22,  1.54s/it]"
     ]
    },
    {
     "name": "stdout",
     "output_type": "stream",
     "text": [
      "Index ประโยคภาษาไทย: 566133\n",
      "ประโยค: สิ่งที่คาดหวังในเซนต์Barth*\n",
      "Same index: 566133 Value: 5 Rank: 0\n",
      "Sentence: what to expect in st. barth * *\n",
      "Minimum index: 566133 Value: 5\n",
      "Sentence: what to expect in st. barth * *\n",
      "========================================\n"
     ]
    },
    {
     "name": "stderr",
     "output_type": "stream",
     "text": [
      "\r",
      "150it [05:23,  1.46s/it]"
     ]
    },
    {
     "name": "stdout",
     "output_type": "stream",
     "text": [
      "Index ประโยคภาษาไทย: 347545\n",
      "ประโยค: แต่สําหรับตอนนี้พวกเขายังอุ่นหูอยู่*****\n",
      "Same index: 347545 Value: 7 Rank: 0\n",
      "Sentence: but for now they keep their ear warm * * * * * *\n",
      "Minimum index: 347545 Value: 7\n",
      "Sentence: but for now they keep their ear warm * * * * * *\n",
      "========================================\n"
     ]
    },
    {
     "name": "stderr",
     "output_type": "stream",
     "text": [
      "\r",
      "151it [05:26,  1.90s/it]"
     ]
    },
    {
     "name": "stdout",
     "output_type": "stream",
     "text": [
      "Index ประโยคภาษาไทย: 144619\n",
      "ประโยค: ข้อด้อยเดียวที่เจอคือถ้าเปิดทิ้งไว้บนตู้เย็นนานๆอาจจะหดและเปิดยากค่ะยกเว้นว่าเปิดไว้แล้วอย่างนั้นแล้วก็ยังไม่แน่ใจว่าทำไมรี่ลดจาก999*\n",
      "Same index: 144619 Value: 55 Rank: 902\n",
      "Sentence: the only drawback that i 've found is if you leave them on top of your fridge for long period they may shrink and become more difficult to open unless it 's opened.that said i 'm still not sure why these came down from 9.99 a month ago so i 'll be very interested just which flavor becomes available at amazon * *\n",
      "Minimum index: 712986 Value: 30\n",
      "Sentence: very well your ride is on the way and you can check the status on the phone * * * *\n",
      "========================================\n"
     ]
    },
    {
     "name": "stderr",
     "output_type": "stream",
     "text": [
      "\r",
      "152it [05:27,  1.53s/it]"
     ]
    },
    {
     "name": "stdout",
     "output_type": "stream",
     "text": [
      "Index ประโยคภาษาไทย: 105644\n",
      "ประโยค: มันพรากความสนุกของฉันไป*\n",
      "Same index: 105644 Value: 6 Rank: 4\n",
      "Sentence: it took away from my enjoyment *\n",
      "Minimum index: 707240 Value: 5\n",
      "Sentence: what size do they have * *\n",
      "========================================\n"
     ]
    },
    {
     "name": "stderr",
     "output_type": "stream",
     "text": [
      "\r",
      "153it [05:28,  1.45s/it]"
     ]
    },
    {
     "name": "stdout",
     "output_type": "stream",
     "text": [
      "Index ประโยคภาษาไทย: 914601\n",
      "ประโยค: หน้าปัดนาฬิกาเมริเดียนแสดงอุณหภูมิสภาพอากาศดัชนีรังสีUVฝนและลม**\n",
      "Same index: 914601 Value: 9 Rank: 0\n",
      "Sentence: meridian watch face with weather temperature uv index rain wind wind * * *\n",
      "Minimum index: 914601 Value: 9\n",
      "Sentence: meridian watch face with weather temperature uv index rain wind wind * * *\n",
      "========================================\n"
     ]
    },
    {
     "name": "stderr",
     "output_type": "stream",
     "text": [
      "\r",
      "154it [05:29,  1.21s/it]"
     ]
    },
    {
     "name": "stdout",
     "output_type": "stream",
     "text": [
      "Index ประโยคภาษาไทย: 683004\n",
      "ประโยค: ดิฉันช่วยคุณได้ค่ะอยู่เมืองไหนคะ\n",
      "Same index: 683004 Value: 7 Rank: 7\n",
      "Sentence: i can help you what city *\n",
      "Minimum index: 842276 Value: 6\n",
      "Sentence: alright do they have any tall cup\n",
      "========================================\n"
     ]
    },
    {
     "name": "stderr",
     "output_type": "stream",
     "text": [
      "\r",
      "155it [05:31,  1.56s/it]"
     ]
    },
    {
     "name": "stdout",
     "output_type": "stream",
     "text": [
      "Index ประโยคภาษาไทย: 43573\n",
      "ประโยค: หนังสือเล่มนี้เป็นความพยายามที่จะช่วยผู้หญิงที่มีวัยเด็กที่น่ากลัวมากและตอนนี้ต้องการความสุขที่สิ้นสุดที่พวกเราหลายคนต้องการ***\n",
      "Same index: 43573 Value: 18 Rank: 0\n",
      "Sentence: this book is an attempt to help those woman who have had a really horrific childhood and now want the happy ending many of u want * *\n",
      "Minimum index: 43573 Value: 18\n",
      "Sentence: this book is an attempt to help those woman who have had a really horrific childhood and now want the happy ending many of u want * *\n",
      "========================================\n"
     ]
    },
    {
     "name": "stderr",
     "output_type": "stream",
     "text": [
      "\r",
      "156it [05:32,  1.29s/it]"
     ]
    },
    {
     "name": "stdout",
     "output_type": "stream",
     "text": [
      "Index ประโยคภาษาไทย: 750504\n",
      "ประโยค: ทั้งหมด3920ค่ะ****\n",
      "Same index: 750504 Value: 5 Rank: 69\n",
      "Sentence: 39.20 will be your total * *\n",
      "Minimum index: 553162 Value: 3\n",
      "Sentence: bbq at mac * * * *\n",
      "========================================\n"
     ]
    },
    {
     "name": "stderr",
     "output_type": "stream",
     "text": [
      "\r",
      "157it [05:33,  1.28s/it]"
     ]
    },
    {
     "name": "stdout",
     "output_type": "stream",
     "text": [
      "Index ประโยคภาษาไทย: 211075\n",
      "ประโยค: ฉันซื้อหนังสือเล่มนี้เพราะราคาถูก******\n",
      "Same index: 211075 Value: 7 Rank: 0\n",
      "Sentence: i bought this book because of the low price * * * * *\n",
      "Minimum index: 749628 Value: 7\n",
      "Sentence: got it one moment * * *\n",
      "========================================\n"
     ]
    },
    {
     "name": "stderr",
     "output_type": "stream",
     "text": [
      "\r",
      "158it [05:35,  1.62s/it]"
     ]
    },
    {
     "name": "stdout",
     "output_type": "stream",
     "text": [
      "Index ประโยคภาษาไทย: 217861\n",
      "ประโยค: ฉันยังไม่ได้สัมผัสกับเรื่องราวทั้งหมดในนวนิยายเรื่องนี้แต่ฉันพบว่ามันขาดไปเมื่อเทียบกับนวนิยายเรื่องแรกของเธอ*\n",
      "Same index: 217861 Value: 23 Rank: 0\n",
      "Sentence: i have not yet been exposed to the full story in this novel but i found it lacking compared with her first novel * * * * *\n",
      "Minimum index: 217861 Value: 23\n",
      "Sentence: i have not yet been exposed to the full story in this novel but i found it lacking compared with her first novel * * * * *\n",
      "========================================\n"
     ]
    },
    {
     "name": "stderr",
     "output_type": "stream",
     "text": [
      "\r",
      "159it [05:38,  2.03s/it]"
     ]
    },
    {
     "name": "stdout",
     "output_type": "stream",
     "text": [
      "Index ประโยคภาษาไทย: 871755\n",
      "ประโยค: สีPlumMixโอกาสที่สวมใส่ลำลองเหมาะกับกิจกรรมทั่วไปไซส์16หมายเหตุสีของผลิตภัณฑ์ที่แสดงบนเว็บไซต์อาจมีความแตกต่างกันจากการตั้งค่าการแสดงผลสีของแต่ละหน้าจอ**\n",
      "Same index: 871755 Value: 26 Rank: 0\n",
      "Sentence: color plum mix occasion casual activity general size 16 caution in term of item color it may be slightly different from each monitor display and specification * *\n",
      "Minimum index: 871755 Value: 26\n",
      "Sentence: color plum mix occasion casual activity general size 16 caution in term of item color it may be slightly different from each monitor display and specification * *\n",
      "========================================\n"
     ]
    },
    {
     "name": "stderr",
     "output_type": "stream",
     "text": [
      "\r",
      "160it [05:40,  1.79s/it]"
     ]
    },
    {
     "name": "stdout",
     "output_type": "stream",
     "text": [
      "Index ประโยคภาษาไทย: 525628\n",
      "ประโยค: เอ๊ฉันไม่รู้สิต้องถามซูฮุย*****\n",
      "Same index: 525628 Value: 8 Rank: 0\n",
      "Sentence: eh i dunno must ask xuhui *\n",
      "Minimum index: 555082 Value: 8\n",
      "Sentence: tell u tonight tonight * * *\n",
      "========================================\n"
     ]
    },
    {
     "name": "stderr",
     "output_type": "stream",
     "text": [
      "\r",
      "161it [05:41,  1.61s/it]"
     ]
    },
    {
     "name": "stdout",
     "output_type": "stream",
     "text": [
      "Index ประโยคภาษาไทย: 797378\n",
      "ประโยค: บางทีอาจเบาเสียงลงหน่อยจะได้ยินเสียงฉันชัดขึ้นค่ะ*\n",
      "Same index: 797378 Value: 11 Rank: 0\n",
      "Sentence: maybe turn down the volume to help me hear you better * * *\n",
      "Minimum index: 790963 Value: 11\n",
      "Sentence: all right sound good * * *\n",
      "========================================\n"
     ]
    },
    {
     "name": "stderr",
     "output_type": "stream",
     "text": [
      "\r",
      "162it [05:43,  1.70s/it]"
     ]
    },
    {
     "name": "stdout",
     "output_type": "stream",
     "text": [
      "Index ประโยคภาษาไทย: 373716\n",
      "ประโยค: อย่างไรก็ตามคุณวู้ดเวิร์ดทําให้ฉันรู้สึกไม่พอใจและไม่มีทางออกจริง*****\n",
      "Same index: 373716 Value: 13 Rank: 0\n",
      "Sentence: however mr. woodward left me feeling just a unsatisfied and with no real way out * * * * * *\n",
      "Minimum index: 152035 Value: 13\n",
      "Sentence: it work fine and i 've had no problem what-so-ever * * * *\n",
      "========================================\n"
     ]
    },
    {
     "name": "stderr",
     "output_type": "stream",
     "text": [
      "\r",
      "163it [05:44,  1.57s/it]"
     ]
    },
    {
     "name": "stdout",
     "output_type": "stream",
     "text": [
      "Index ประโยคภาษาไทย: 374858\n",
      "ประโยค: คุณอาจต้องใช้แว่นขยายเพื่ออ่านสิ่งนี้*****\n",
      "Same index: 374858 Value: 9 Rank: 33\n",
      "Sentence: you may need a magnifying glass to read this * * * * *\n",
      "Minimum index: 127586 Value: 7\n",
      "Sentence: work everywhere we take it * *\n",
      "========================================\n"
     ]
    },
    {
     "name": "stderr",
     "output_type": "stream",
     "text": [
      "\r",
      "164it [05:45,  1.47s/it]"
     ]
    },
    {
     "name": "stdout",
     "output_type": "stream",
     "text": [
      "Index ประโยคภาษาไทย: 270593\n",
      "ประโยค: ถ้าลูกชายของฉันต้องการเอาของฉันพวกเขาทั้งคู่ก็ออกไปข้างนอก\n",
      "Same index: 270593 Value: 11 Rank: 0\n",
      "Sentence: if my son want to take mine they are both going out * *\n",
      "Minimum index: 270593 Value: 11\n",
      "Sentence: if my son want to take mine they are both going out * *\n",
      "========================================\n"
     ]
    },
    {
     "name": "stderr",
     "output_type": "stream",
     "text": [
      "\r",
      "165it [05:49,  2.11s/it]"
     ]
    },
    {
     "name": "stdout",
     "output_type": "stream",
     "text": [
      "Index ประโยคภาษาไทย: 38190\n",
      "ประโยค: ถ้าคณะกรรมการของสมาคมไม่เรียกประชุมภายในระยะเวลาตามวรรคสามสมาชิกที่เป็นผู้ร้องขอให้เรียกประชุมหรือสมาชิกอื่นรวมกันมีจำนวนไม่น้อยกว่าจำนวนสมาชิกที่กำหนดตามวรรคสองจะเรียกประชุมเองก็ได้**\n",
      "Same index: 38190 Value: 39 Rank: 152\n",
      "Sentence: if the meeting is not summoned within the period of time under paragraph three the member who have made the requisition for summoning such extraordinary meeting or other member of not le that the number set forth in paragraph to may summon the meeting by themselves * * *\n",
      "Minimum index: 999944 Value: 36\n",
      "Sentence: the following list event that happened during 2014 in switzerland * * * *\n",
      "========================================\n"
     ]
    },
    {
     "name": "stderr",
     "output_type": "stream",
     "text": [
      "\r",
      "166it [05:49,  1.68s/it]"
     ]
    },
    {
     "name": "stdout",
     "output_type": "stream",
     "text": [
      "Index ประโยคภาษาไทย: 896683\n",
      "ประโยค: โต๊ะบาร์สูง ท็อปโต๊ะเคลือบผิว Melamine ขาเหล็กชุบโครเมียม สีขาว ขนาด 80x80x110 ซมจำนวน1ตัว***\n",
      "Same index: 896683 Value: 24 Rank: 747\n",
      "Sentence: high bar table table top coated melamine chromium coated steel leg product dimension 80 x 80 x 110 cm product color white number of item 1 pc *\n",
      "Minimum index: 106508 Value: 4\n",
      "Sentence: well done * * * * *\n",
      "========================================\n"
     ]
    },
    {
     "name": "stderr",
     "output_type": "stream",
     "text": [
      "\r",
      "167it [05:51,  1.55s/it]"
     ]
    },
    {
     "name": "stdout",
     "output_type": "stream",
     "text": [
      "Index ประโยคภาษาไทย: 490818\n",
      "ประโยค: ฉันรู้สึกเสียใจอย่างแท้จริงสำหรับเหตุการณ์ที่เกิดขึ้น*****\n",
      "Same index: 490818 Value: 13 Rank: 442\n",
      "Sentence: i genuinely am sorry for what happened\n",
      "Minimum index: 499884 Value: 8\n",
      "Sentence: have you met peter ? * * *\n",
      "========================================\n"
     ]
    },
    {
     "name": "stderr",
     "output_type": "stream",
     "text": [
      "\r",
      "168it [05:51,  1.29s/it]"
     ]
    },
    {
     "name": "stdout",
     "output_type": "stream",
     "text": [
      "Index ประโยคภาษาไทย: 413947\n",
      "ประโยค: ฉันไม่ชอบรายการทีวีประเภทนี้\n",
      "Same index: 413947 Value: 12 Rank: 227\n",
      "Sentence: i do n't love these kind of tv show * * * * *\n",
      "Minimum index: 631623 Value: 6\n",
      "Sentence: would you like an inspection * *\n",
      "========================================\n"
     ]
    },
    {
     "name": "stderr",
     "output_type": "stream",
     "text": [
      "\r",
      "169it [05:53,  1.29s/it]"
     ]
    },
    {
     "name": "stdout",
     "output_type": "stream",
     "text": [
      "Index ประโยคภาษาไทย: 655689\n",
      "ประโยค: ได้ยินว่าที่นั่นสุดยอดมากจะไปจากไหน*****\n",
      "Same index: 655689 Value: 10 Rank: 310\n",
      "Sentence: i heard that place is amazing where are you heading from * * *\n",
      "Minimum index: 731247 Value: 8\n",
      "Sentence: ok thank you so much * *\n",
      "========================================\n"
     ]
    },
    {
     "name": "stderr",
     "output_type": "stream",
     "text": [
      "\r",
      "170it [06:16,  7.75s/it]"
     ]
    },
    {
     "name": "stdout",
     "output_type": "stream",
     "text": [
      "Index ประโยคภาษาไทย: 878046\n",
      "ประโยค: ส้อมจิ้มเนื้อจากZWILLINGอุปกรณ์เครื่องใช้ภายในครัวที่คุณมั่นใจทุกการใช้งานทนทานด้วยวัสดุคุณภาพสูงหลากหลายเครื่องไม้เครื่องมือที่ควรมีไว้ติดครัวแต่ละชิ้นเหมาะกับการใช้งานในครัวได้อย่างถูกต้องมีการดีไซน์โดยนักดีไซน์เนอร์ชาวอิตาลีซึ่งมีการดีไซน์ที่เด่นในเรื่องฟังก์ชั่นการใช้งานและมีดีไซน์ที่สวยงามผลิตจากสแตนเลสสตีล1810เกรดพรีเมี่ยมและซิลิโคนที่เป็นฟู้ดเกรดมือจับซาตินที่โดดเด่นและมีความเงางามมือจับสามารถแขวนได้ง่ายต่อการจัดเก็บสามารถใช้กับเครื่องล้างจานได้การรับประกันสินค้าผลิตภัณฑ์ประเภทมีดอื่นๆบริษัทสวิลลิ่งมีการรับประกันสินค้าในกรณีที่สินค้ามีข้อบกพร่องที่เกิดจากตัววัสดุและหรือเกิดจากการผลิตเท่านั้นการรับประกันไม่ครอบคลุมถึงผลิตภัณฑ์ที่ทำจากไม้ทุกชนิดรวมถึงด้ามมีดผลิตภัณฑ์ที่ทำจากพลาสติกหรือซิลิโคนทุกชนิดรวมถึงกรรไกรตัดเล็บและตะหลิวซิลิโคนความเสียหายของผลิตภัณฑ์ที่เกิดจากการใช้งานอย่างผิดวัตถุประสงค์ผลิตภัณฑ์ประเภทเครื่องครัวผลิตภัณฑ์ประเภทเครื่องครัวมีการรับประกันตลอดอายุการใช้งานเมื่อสินค้าใช้งานอย่างถูกต้องตามคำแนะนำการรับประกันไม่ครอบคลุมดังนี้กรณีที่เกิดจากการใช้งานผิดวัตถุประสงค์หรือเกิดอุบัติเหตุรวมทั้งการใช้ความร้อนสูงหรือต่ำเกินไปการใช้อุปกรณ์การทำอาหารที่ไม่ได้เหมาะกับเครื่องครัวเช่นพลาสติกเป็นต้นรอยขีดข่วนที่เกิดขึ้นจากการใช้งานทั้งภายในหรือภายนอกของผลิตภัณฑ์ที่ไม่ถือว่าเป็นข้อบกพร่องการผลิตระยะเวลาในการตรวจสอบสินค้าคือ4 6 อาทิตย์สินค้าจะได้รับการซ่อมแซมหรือเปลี่ยนใหม่ด้วยสินค้าประเภทเดียวกันหรือใกล้เคียงกันเท่านั้นทั้งนี้ขึ้นอยู่กับดุลยพินิจของบริษัทสีเงินประเทศเจ้าของแบรนด์Germanyหมายเหตุสีของผลิตภัณฑ์ที่แสดงบนเว็บไซต์อาจมีความแตกต่างกันจากการตั้งค่าการแสดงผลสีของแต่ละหน้าจอ\n",
      "Same index: 878046 Value: 251 Rank: 92\n",
      "Sentence: dipping fork from zwilling kitchen appliance that you are confident in every use durable with high quality material variety of woodwork tool that should be placed in the kitchen each tool provides the right solution for every kitchen task minimalist italian design is equally elegant and functional made from premium corrosion resistant 1810 stainless steel and food-safe silicone distinctive satin finish handle with mirror polished function part handle have convenient hanging loop for easy storage dishwasher safe warranty knife and other you will be pleased to know that all of our product are fully guaranteed against defect in material and or craftsmanship the warranty doe not cover wood product including wood handle knife a wood is a natural element and thus can not be guaranteed plastic silicone product including plastic nail clipper and silicone spatula can not be guaranteed any damage resulting from use other than the intended purpose of the item cookware full lifetime warrantyzwilling cookware ha a lifetime warranty against manufacturer s defect when used accordingly with our care instruction the warranty doe not cover the consequence of improper use or accident including overheating dropping the use of unapproved utensil scratch to the inside or outside of the product are not considered production defect please allow 4-6 week for the inspection process and return delivery of your item color silver brand owner germany caution in term of item color it may be slightly different from each monitor display and specification * * * *\n",
      "Minimum index: 180334 Value: 246\n",
      "Sentence: my son love these but they are made really cheap.as i bought them for a birthday gift he did n't return them * * * * * *\n",
      "========================================\n"
     ]
    },
    {
     "name": "stderr",
     "output_type": "stream",
     "text": [
      "\r",
      "171it [06:16,  5.62s/it]"
     ]
    },
    {
     "name": "stdout",
     "output_type": "stream",
     "text": [
      "Index ประโยคภาษาไทย: 810818\n",
      "ประโยค: ได้เลยเดี๋ยวจัดการให้นะคะ*\n",
      "Same index: 810818 Value: 7 Rank: 200\n",
      "Sentence: sure let me see what i can do * * * * * *\n",
      "Minimum index: 645272 Value: 5\n",
      "Sentence: have a good evening * * *\n",
      "========================================\n"
     ]
    },
    {
     "name": "stderr",
     "output_type": "stream",
     "text": [
      "\r",
      "172it [06:17,  4.14s/it]"
     ]
    },
    {
     "name": "stdout",
     "output_type": "stream",
     "text": [
      "Index ประโยคภาษาไทย: 477468\n",
      "ประโยค: เธอยืนพิงเสาอยู่**\n",
      "Same index: 477468 Value: 6 Rank: 135\n",
      "Sentence: she pressed herself against the pillar *\n",
      "Minimum index: 821288 Value: 5\n",
      "Sentence: that is perfect * * * *\n",
      "========================================\n"
     ]
    },
    {
     "name": "stderr",
     "output_type": "stream",
     "text": [
      "\r",
      "173it [06:21,  4.02s/it]"
     ]
    },
    {
     "name": "stdout",
     "output_type": "stream",
     "text": [
      "Index ประโยคภาษาไทย: 12622\n",
      "ประโยค: อย่างไรก็ตามการเคลื่อนไหวในครั้งนี้ยังมีความสำคัญเชิงยุทธศาสตร์ในวงกว้างยิ่งขึ้นเมื่อเทียบกับการเคลื่อนไหวด้านอื่นๆนายปรเมศวรันเขียนยกตัวอย่างเช่นกิจกรรมด้านกลาโหมระหว่างรัฐบาลสหรัฐฯและรัฐบาลเวียดนามได้เพิ่มขึ้นในหลายปีให้หลังมานี้****\n",
      "Same index: 12622 Value: 31 Rank: 0\n",
      "Sentence: but the development also carry broader strategic significance when viewed alongside other development a well parameswaran wrote for example defense-related activity between washington and hanoi have increased in recent year * * * * *\n",
      "Minimum index: 12622 Value: 31\n",
      "Sentence: but the development also carry broader strategic significance when viewed alongside other development a well parameswaran wrote for example defense-related activity between washington and hanoi have increased in recent year * * * * *\n",
      "========================================\n"
     ]
    },
    {
     "name": "stderr",
     "output_type": "stream",
     "text": [
      "\r",
      "174it [06:22,  3.19s/it]"
     ]
    },
    {
     "name": "stdout",
     "output_type": "stream",
     "text": [
      "Index ประโยคภาษาไทย: 529796\n",
      "ประโยค: ที่รักดูแลตัวเองนะฉันพึ่งถึงบ้านละรักเธอมากนะ**\n",
      "Same index: 529796 Value: 11 Rank: 1\n",
      "Sentence: dear take care i am just reaching home.love u a lot * * *\n",
      "Minimum index: 129518 Value: 10\n",
      "Sentence: love em * * * * *\n",
      "========================================\n"
     ]
    },
    {
     "name": "stderr",
     "output_type": "stream",
     "text": [
      "\r",
      "175it [06:23,  2.43s/it]"
     ]
    },
    {
     "name": "stdout",
     "output_type": "stream",
     "text": [
      "Index ประโยคภาษาไทย: 806905\n",
      "ประโยค: ทั้งหมด4458 เหรียญนะคะ*****\n",
      "Same index: 806905 Value: 5 Rank: 60\n",
      "Sentence: the total is 44.58 44.58 * *\n",
      "Minimum index: 796927 Value: 2\n",
      "Sentence: some starbucks * * * * *\n",
      "========================================\n"
     ]
    },
    {
     "name": "stderr",
     "output_type": "stream",
     "text": [
      "\r",
      "176it [06:24,  2.08s/it]"
     ]
    },
    {
     "name": "stdout",
     "output_type": "stream",
     "text": [
      "Index ประโยคภาษาไทย: 168962\n",
      "ประโยค: ฉันซื้อเจ้านี่มาเพราะรีวิวเพ้อเจ้อหลายๆรีวิวบนอะเมซอน*\n",
      "Same index: 168962 Value: 12 Rank: 0\n",
      "Sentence: i bought this because of the rave review on amazon * * * *\n",
      "Minimum index: 139389 Value: 12\n",
      "Sentence: we have a new pup that came from the pound * * * *\n",
      "========================================\n"
     ]
    },
    {
     "name": "stderr",
     "output_type": "stream",
     "text": [
      "\r",
      "177it [06:33,  4.10s/it]"
     ]
    },
    {
     "name": "stdout",
     "output_type": "stream",
     "text": [
      "Index ประโยคภาษาไทย: 851942\n",
      "ประโยค: ลิปสติกที่เพิ่มดีกรีความชัดของเนื้อสีด้วยเนื้อสัมผัสแบบซาตินที่ให้ความนุ่มเนียนไปกับเรียวปากให้สีจริงและชัดด้วยพิกเม้นท์ของสีที่แน่นที่สุดMACลิปสติกรุ่นLiptensity สีน้ำตาล Clouds In My Coffee 36 g012 OZ สี Clouds In My Coffeeขนาด36กรัม012ออนซ์เนื้อซาตินเม็ดสีแน่นชัดหมายเหตุสีของผลิตภัณฑ์ที่แสดงบนเว็บไซต์อาจมีความแตกต่างกันจากการตั้งค่าการแสดงผลสีของแต่ละหน้าจอสีCloudsInMyCoffeeปริมาณสุทธิ36กรัมFinishLookซาตินหมายเหตุสีของผลิตภัณฑ์ที่แสดงบนเว็บไซต์อาจมีความแตกต่างกันจากการตั้งค่าการแสดงผลสีของแต่ละหน้าจอ***\n",
      "Same index: 851942 Value: 96 Rank: 33\n",
      "Sentence: a lipstick with enhanced amount of pigment for extreme colour intensity mac lipstick liptensity brown cloud in my coffee net weight 3.6 g0.12 oz finish look satin pigmented satin finish caution in term of item color it may be slightly different from each monitor display and specification * * * * *\n",
      "Minimum index: 784854 Value: 93\n",
      "Sentence: okay pick up at 9:00 p.m. tonight * *\n",
      "========================================\n"
     ]
    },
    {
     "name": "stderr",
     "output_type": "stream",
     "text": [
      "\r",
      "178it [06:34,  3.26s/it]"
     ]
    },
    {
     "name": "stdout",
     "output_type": "stream",
     "text": [
      "Index ประโยคภาษาไทย: 662107\n",
      "ประโยค: โอเคค่ะจะดูตอนบ่ายหรือตอนเย็นคะ******\n",
      "Same index: 662107 Value: 6 Rank: 0\n",
      "Sentence: ok now do you want afternoon or evening time * * * * *\n",
      "Minimum index: 662107 Value: 6\n",
      "Sentence: ok now do you want afternoon or evening time * * * * *\n",
      "========================================\n"
     ]
    },
    {
     "name": "stderr",
     "output_type": "stream",
     "text": [
      "\r",
      "179it [06:35,  2.48s/it]"
     ]
    },
    {
     "name": "stdout",
     "output_type": "stream",
     "text": [
      "Index ประโยคภาษาไทย: 567443\n",
      "ประโยค: 30ส่วนลดกับเรื่องนี้Airbnbคูปอง\n",
      "Same index: 567443 Value: 4 Rank: 0\n",
      "Sentence: 30 discount with this airbnb coupon coupon\n",
      "Minimum index: 567443 Value: 4\n",
      "Sentence: 30 discount with this airbnb coupon coupon\n",
      "========================================\n"
     ]
    },
    {
     "name": "stderr",
     "output_type": "stream",
     "text": [
      "\r",
      "180it [06:36,  2.11s/it]"
     ]
    },
    {
     "name": "stdout",
     "output_type": "stream",
     "text": [
      "Index ประโยคภาษาไทย: 259121\n",
      "ประโยค: ข้อตกลงที่ดีที่สุดที่คุณจะพบทางออนไลน์****\n",
      "Same index: 259121 Value: 11 Rank: 362\n",
      "Sentence: the best deal you 'll find online\n",
      "Minimum index: 409985 Value: 9\n",
      "Sentence: the best coffee maker i have ever had * * * * * *\n",
      "========================================\n"
     ]
    },
    {
     "name": "stderr",
     "output_type": "stream",
     "text": [
      "\r",
      "181it [06:38,  2.05s/it]"
     ]
    },
    {
     "name": "stdout",
     "output_type": "stream",
     "text": [
      "Index ประโยคภาษาไทย: 14926\n",
      "ประโยค: 3มาตรการด้านรถสนับส นุ น ใ ห้ ใ ช้ NGVเฉพาะในกลุ่มรถโดยสารสาธารณะและรถบรรทุก******\n",
      "Same index: 14926 Value: 13 Rank: 0\n",
      "Sentence: car measure encourage the use of ngv in the bus and truck * *\n",
      "Minimum index: 14926 Value: 13\n",
      "Sentence: car measure encourage the use of ngv in the bus and truck * *\n",
      "========================================\n"
     ]
    },
    {
     "name": "stderr",
     "output_type": "stream",
     "text": [
      "\r",
      "182it [06:47,  4.21s/it]"
     ]
    },
    {
     "name": "stdout",
     "output_type": "stream",
     "text": [
      "Index ประโยคภาษาไทย: 862235\n",
      "ประโยค: เติมเต็มวันทำงานของคุณด้วยชุดเดรสแขนกุดจากแบรนด์NEXTPHASEด้วยดีไซน์ผูกโบว์น่ารักๆด้านข้างแต่งคอวีมาพร้อมการตัดเย็บอย่างประณีตดูดีอยู่เสมอนับเป็นอีกไอเทมที่สาวๆไม่ควรพลาดตัดเย็บจาก88POLYESTER12POLYURETHANEONLYCENTRALสีขาวไซส์Lรอบอก39นิ้วรอบเอว34นิ้วความยาว505นิ้ววัสดุใยสังเคราะห์แขนเสื้อแขนกุดวิธีดูแลรักษาซักมือมาตรฐานไซส์USFemaleเพศผู้หญิงอายุผู้ใหญ่หมายเหตุสีของผลิตภัณฑ์ที่แสดงบนเว็บไซต์อาจมีความแตกต่างกันจากการตั้งค่าการแสดงผลสีของแต่ละหน้าจอ*\n",
      "Same index: 862235 Value: 86 Rank: 0\n",
      "Sentence: boost your confidence by wearing this dress from next phase with it sleeveless design this is the perfect dress for your classic look comfortable to wear suitable for multiple occasion only central color white size l bust 39 in waist 34 in length 50.5 in material polyester sleeve level sleeveless care instruction hand wash size standard us-female gender woman age adult caution in term of item color it may be slightly different from each monitor display and specification * * * * * *\n",
      "Minimum index: 862235 Value: 86\n",
      "Sentence: boost your confidence by wearing this dress from next phase with it sleeveless design this is the perfect dress for your classic look comfortable to wear suitable for multiple occasion only central color white size l bust 39 in waist 34 in length 50.5 in material polyester sleeve level sleeveless care instruction hand wash size standard us-female gender woman age adult caution in term of item color it may be slightly different from each monitor display and specification * * * * * *\n",
      "========================================\n"
     ]
    },
    {
     "name": "stderr",
     "output_type": "stream",
     "text": [
      "\r",
      "183it [06:48,  3.14s/it]"
     ]
    },
    {
     "name": "stdout",
     "output_type": "stream",
     "text": [
      "Index ประโยคภาษาไทย: 496193\n",
      "ประโยค: คุณได้กลิ่นอะไรเหม็นๆมั้ย*\n",
      "Same index: 496193 Value: 7 Rank: 180\n",
      "Sentence: can you smell a really horrible odour\n",
      "Minimum index: 569357 Value: 6\n",
      "Sentence: post review of micron polyester filter bag * * *\n",
      "========================================\n"
     ]
    },
    {
     "name": "stderr",
     "output_type": "stream",
     "text": [
      "\r",
      "184it [06:49,  2.57s/it]"
     ]
    },
    {
     "name": "stdout",
     "output_type": "stream",
     "text": [
      "Index ประโยคภาษาไทย: 496367\n",
      "ประโยค: ระบบย่อยอาหารของเขาดูแตกต่างนั้นทำให้ดูน่าเลื่อมใส***\n",
      "Same index: 496367 Value: 11 Rank: 46\n",
      "Sentence: his digestion is impaired which is highly respectable * * * * * *\n",
      "Minimum index: 298230 Value: 9\n",
      "Sentence: this product seems to be working *\n",
      "========================================\n"
     ]
    },
    {
     "name": "stderr",
     "output_type": "stream",
     "text": [
      "\r",
      "185it [06:50,  2.15s/it]"
     ]
    },
    {
     "name": "stdout",
     "output_type": "stream",
     "text": [
      "Index ประโยคภาษาไทย: 183636\n",
      "ประโยค: มีอะไหล่สำรองให้ซื้อนะแต่เครื่องรับประกันแค่9 เดือน***\n",
      "Same index: 183636 Value: 11 Rank: 54\n",
      "Sentence: they have replacement part available but the warranty last only 9 month * *\n",
      "Minimum index: 679214 Value: 9\n",
      "Sentence: have a good time * * *\n",
      "========================================\n"
     ]
    },
    {
     "name": "stderr",
     "output_type": "stream",
     "text": [
      "\r",
      "186it [06:51,  1.86s/it]"
     ]
    },
    {
     "name": "stdout",
     "output_type": "stream",
     "text": [
      "Index ประโยคภาษาไทย: 287867\n",
      "ประโยค: ให้แน่ใจว่าคุณมีที่ว่างสำหรับสิ่งนี้*****\n",
      "Same index: 287867 Value: 12 Rank: 424\n",
      "Sentence: be sure you have space for this\n",
      "Minimum index: 501819 Value: 8\n",
      "Sentence: she had said the wrong thing *\n",
      "========================================\n"
     ]
    },
    {
     "name": "stderr",
     "output_type": "stream",
     "text": [
      "\r",
      "187it [06:54,  2.02s/it]"
     ]
    },
    {
     "name": "stdout",
     "output_type": "stream",
     "text": [
      "Index ประโยคภาษาไทย: 386974\n",
      "ประโยค: เพลงบางเพลงลวงที่ฉันเคยได้ยินมาก่อนเพลงอื่นๆที่คุณอาจไม่เคยได้ยินแต่ก็โอเค******\n",
      "Same index: 386974 Value: 18 Rank: 0\n",
      "Sentence: the song were catchy some that i had heard before others you might have not heard but that 's ok *\n",
      "Minimum index: 386974 Value: 18\n",
      "Sentence: the song were catchy some that i had heard before others you might have not heard but that 's ok *\n",
      "========================================\n"
     ]
    },
    {
     "name": "stderr",
     "output_type": "stream",
     "text": [
      "\r",
      "188it [06:55,  1.77s/it]"
     ]
    },
    {
     "name": "stdout",
     "output_type": "stream",
     "text": [
      "Index ประโยคภาษาไทย: 282917\n",
      "ประโยค: มันไม่ใช่ความผิดของพวกเขาเนื่องจากมีการปกปิดอยู่มากมาย**\n",
      "Same index: 282917 Value: 14 Rank: 506\n",
      "Sentence: it 's no fault to them since there were already many cover out there\n",
      "Minimum index: 757890 Value: 10\n",
      "Sentence: no i think we covered it all thank you very much * * *\n",
      "========================================\n"
     ]
    },
    {
     "name": "stderr",
     "output_type": "stream",
     "text": [
      "\r",
      "189it [06:56,  1.62s/it]"
     ]
    },
    {
     "name": "stdout",
     "output_type": "stream",
     "text": [
      "Index ประโยคภาษาไทย: 424869\n",
      "ประโยค: เมื่อเราถอดโทรศัพท์ลูกสาวของเธอออกมา******\n",
      "Same index: 424869 Value: 9 Rank: 247\n",
      "Sentence: when we took off my daughter phone she dropped it * * * *\n",
      "Minimum index: 840220 Value: 6\n",
      "Sentence: what is your phone number * *\n",
      "========================================\n"
     ]
    },
    {
     "name": "stderr",
     "output_type": "stream",
     "text": [
      "\r",
      "190it [06:58,  1.65s/it]"
     ]
    },
    {
     "name": "stdout",
     "output_type": "stream",
     "text": [
      "Index ประโยคภาษาไทย: 441374\n",
      "ประโยค: แต่หลังจากนั้นไม่นานตัวส่งสัญญาณUSBก็เริ่มล้มเหลวโดยไม่มีเหตุผลที่ชัดเจน******\n",
      "Same index: 441374 Value: 17 Rank: 548\n",
      "Sentence: but then after some time the usb transmitter started failing for no apparent reason\n",
      "Minimum index: 166116 Value: 13\n",
      "Sentence: not worth the effort * * *\n",
      "========================================\n"
     ]
    },
    {
     "name": "stderr",
     "output_type": "stream",
     "text": [
      "\r",
      "191it [07:13,  5.71s/it]"
     ]
    },
    {
     "name": "stdout",
     "output_type": "stream",
     "text": [
      "Index ประโยคภาษาไทย: 885612\n",
      "ประโยค: การชาร์จแบบไร้สายที่เร็วที่สุดด้วยที่ชาร์จไร้สายBelkinรุ่นF7U050JAWHTการชาร์จไร้สายที่เร็วที่สุดสำหรับอุปกรณ์ที่ใช้งานQiของคุณได้มาถึงแล้วBOOSTUPBoldWirelessChargingPadให้พลังชาร์จ10วัตต์เพื่อการชาร์จที่เร็วที่สุดและให้การชาร์จแบบไร้สายที่ดีที่สุดสำหรับiPhone8และรุ่นที่ใหม่กว่าได้แก่iPhoneXSXSMaxและXRSamsungLGSonyและอุปกรณ์อื่นๆที่เปิดใช้งานQiคุณสมบัติประเภทที่ชาร์จไร้สายวัสดุของสายพลาสติกสำหรับชาร์จอุปกรณ์ที่รองรับเทคโนโลยีWIRELESSCHARGERความยาวสายเมตร15กำลังไฟวัตต์10ข้อมูลการถ่ายโอนรองรับรองรับFASTCHARGEรองรับสีWHITEรับประกันปี2ช้อปสินค้าคุณภาพจากที่คุณไว้วางใจด้วยราคาที่คุณชื่นชอบสินค้าได้รับการออกให้ได้มาตรฐานมีความทนทานคุ้มค่าต่อการใช้งานคุณสามารถเลือกซื้อสินค้าได้ตามไลฟ์สไตล์ที่คุณชื่นชอบและเหมาะสมกับการใช้งานที่หลากหลายตามความต้องการในราคาโดนใจได้ที่Powerbuy**\n",
      "Same index: 885612 Value: 136 Rank: 0\n",
      "Sentence: fastest wireless charging belkin wireless charger model f7 u050 jawht the fastest wireless charging for your qi-enabled device ha arrived boost up bold wireless charging pad provides 10-watt charging power for fastest charging and the best wireless charging for i phone 8 and later is the i phone x x max and xr samsung lg sony and other qi-enabled device product feature type wireless charger material of plastic plastic for charge device that support wireless charger technology line length meter 1.5 power supply watt 10 transfer data support fast charge support color white warranty year 2 shop for best quality product from your trust with your favorite price the product ha been certified to be durable and you can shop for your favorite lifestyle at powerbuy powerbuy * * * *\n",
      "Minimum index: 885612 Value: 136\n",
      "Sentence: fastest wireless charging belkin wireless charger model f7 u050 jawht the fastest wireless charging for your qi-enabled device ha arrived boost up bold wireless charging pad provides 10-watt charging power for fastest charging and the best wireless charging for i phone 8 and later is the i phone x x max and xr samsung lg sony and other qi-enabled device product feature type wireless charger material of plastic plastic for charge device that support wireless charger technology line length meter 1.5 power supply watt 10 transfer data support fast charge support color white warranty year 2 shop for best quality product from your trust with your favorite price the product ha been certified to be durable and you can shop for your favorite lifestyle at powerbuy powerbuy * * * *\n",
      "========================================\n"
     ]
    },
    {
     "name": "stderr",
     "output_type": "stream",
     "text": [
      "\r",
      "192it [07:14,  4.19s/it]"
     ]
    },
    {
     "name": "stdout",
     "output_type": "stream",
     "text": [
      "Index ประโยคภาษาไทย: 977276\n",
      "ประโยค: ประเทศเบลเยียมในโอลิมปิกฤดูร้อน2004*****\n",
      "Same index: 977276 Value: 6 Rank: 124\n",
      "Sentence: belgium at the 2004 summer olympics olympics\n",
      "Minimum index: 776988 Value: 1\n",
      "Sentence: allentown pennsylvania * * * * *\n",
      "========================================\n"
     ]
    },
    {
     "name": "stderr",
     "output_type": "stream",
     "text": [
      "\r",
      "193it [07:17,  3.97s/it]"
     ]
    },
    {
     "name": "stdout",
     "output_type": "stream",
     "text": [
      "Index ประโยคภาษาไทย: 607247\n",
      "ประโยค: ทำให้ผู้คนมาเป็นสิ่งหนึ่งที่ไม่vBETทำให้ผู้คนที่เข้าพักเป็นหนึ่งvBETสนับสนุนชุมชนหลายภาษาดังนั้นตอนนี้คุณจะได้รับเป็นคนที่ผู้ใช้ที่ไม่ใช้ภาษาเริ่มต้นของคุณฟอรั่ม******\n",
      "Same index: 607247 Value: 26 Rank: 0\n",
      "Sentence: making people stay is another one vbet support multi language community so now you will get a user people who do n't use your forum default language *\n",
      "Minimum index: 607247 Value: 26\n",
      "Sentence: making people stay is another one vbet support multi language community so now you will get a user people who do n't use your forum default language *\n",
      "========================================\n"
     ]
    },
    {
     "name": "stderr",
     "output_type": "stream",
     "text": [
      "\r",
      "194it [07:19,  3.49s/it]"
     ]
    },
    {
     "name": "stdout",
     "output_type": "stream",
     "text": [
      "Index ประโยคภาษาไทย: 331029\n",
      "ประโยค: ข้อร้องเรียนเพียงอย่างเดียวของฉันคือคุณไม่สามารถปิดเสียงของคุณเพื่อพูดด้วยเสียงปกติแต่ควรมีเสียงคอมพิวเตอร์****\n",
      "Same index: 331029 Value: 22 Rank: 2\n",
      "Sentence: my only complaint is you can not turn off your voice to speak in a normal voice but rather have a computerized voice * * * * *\n",
      "Minimum index: 709283 Value: 21\n",
      "Sentence: my name is suzy q and my phone number is 555 555-5555 555-5555 *\n",
      "========================================\n"
     ]
    },
    {
     "name": "stderr",
     "output_type": "stream",
     "text": [
      "\r",
      "195it [07:22,  3.16s/it]"
     ]
    },
    {
     "name": "stdout",
     "output_type": "stream",
     "text": [
      "Index ประโยคภาษาไทย: 65677\n",
      "ประโยค: ซื้อมาจากอเมซอนเมื่อเดือนมกราค่ะแล้วมาพังเอาวันนี้ก็ดูไม่มีอะไรผิดปกตินะคะ******\n",
      "Same index: 65677 Value: 27 Rank: 712\n",
      "Sentence: i bought this from amazon in january and it broke down on me today\n",
      "Minimum index: 554678 Value: 19\n",
      "Sentence: got attendance attendance * * * *\n",
      "========================================\n"
     ]
    },
    {
     "name": "stderr",
     "output_type": "stream",
     "text": [
      "\r",
      "196it [07:23,  2.60s/it]"
     ]
    },
    {
     "name": "stdout",
     "output_type": "stream",
     "text": [
      "Index ประโยคภาษาไทย: 116770\n",
      "ประโยค: ฉันมีกระเป๋านี้มา3 ปีแล้วและมันก็ยังทนดี**\n",
      "Same index: 116770 Value: 13 Rank: 440\n",
      "Sentence: i have had this bag for three year and it 's still going strong\n",
      "Minimum index: 59458 Value: 11\n",
      "Sentence: i have no idea what all of these people are saying * * *\n",
      "========================================\n"
     ]
    },
    {
     "name": "stderr",
     "output_type": "stream",
     "text": [
      "\r",
      "197it [07:24,  2.19s/it]"
     ]
    },
    {
     "name": "stdout",
     "output_type": "stream",
     "text": [
      "Index ประโยคภาษาไทย: 90182\n",
      "ประโยค: แคดดี้นี้ไม่พอดีกับครัวเล็กๆของฉัน****\n",
      "Same index: 90182 Value: 10 Rank: 13\n",
      "Sentence: the caddy did n't fit in my tiny kitchen * * * * *\n",
      "Minimum index: 256043 Value: 9\n",
      "Sentence: it wa not what we were looking for * * * * * *\n",
      "========================================\n"
     ]
    },
    {
     "name": "stderr",
     "output_type": "stream",
     "text": [
      "\r",
      "198it [07:33,  4.13s/it]"
     ]
    },
    {
     "name": "stdout",
     "output_type": "stream",
     "text": [
      "Index ประโยคภาษาไทย: 984287\n",
      "ประโยค: ขั้นตอนแรกสำหรับการตั้งค่าเครื่องบินจำลองให้ผู้เล่นหลายคนเข้ามาเล่นในเวลาเดียวกันและเสมือนอยู่ในโลกเดียวกันโดยผ่านระบบเครือข่ายคอมพิวเตอร์ขนาดใหญ่และผู้เล่นแต่ละคนจะสวมบทบาทเป็นตัวละครตัวหนึ่งในโลกนั้นด้วยMMORGได้ดำเนินการโดยJason กรูมส์ James WillanJoeJureckaและMartyBochaneในกลางปี1990เมื่อพวกเขาสร้างโปรแกรมSquawkBoxMicrosoftFlightSimulator51pluginและProControllerจราจรอากาศควบคุมเรดาร์หน้าจอจำลองทั้งสองโปรแกรมมีการเชื่อมต่อกับFSDMMORGserverง่ายๆที่ใช้จัดให้มีวิวัฒนาการสภาพแวดล้อมแบบหนึ่งต่อหนึ่ง1ATCและ1เครื่องบินแบบหลายต่อหลายสภาพแวดล้อม***\n",
      "Same index: 984287 Value: 85 Rank: 0\n",
      "Sentence: the first step for setting up flight simulation in a massively-multiplayer online environment were taken with the creation of squawkbox and procontroller in the mid-1990s these two program were connected to fsd a simple flight simulator multiplayer server which allowed the evolution from a one-to-one one atc and one plane environment to a many-to-many environment *\n",
      "Minimum index: 984287 Value: 85\n",
      "Sentence: the first step for setting up flight simulation in a massively-multiplayer online environment were taken with the creation of squawkbox and procontroller in the mid-1990s these two program were connected to fsd a simple flight simulator multiplayer server which allowed the evolution from a one-to-one one atc and one plane environment to a many-to-many environment *\n",
      "========================================\n"
     ]
    },
    {
     "name": "stderr",
     "output_type": "stream",
     "text": [
      "\r",
      "199it [07:34,  3.09s/it]"
     ]
    },
    {
     "name": "stdout",
     "output_type": "stream",
     "text": [
      "Index ประโยคภาษาไทย: 526042\n",
      "ประโยค: ขอโทษนะฉันอาจจะสายละ*\n",
      "Same index: 526042 Value: 7 Rank: 163\n",
      "Sentence: eh sorry i would be late late\n",
      "Minimum index: 526399 Value: 5\n",
      "Sentence: okies confirm with u later later *\n",
      "========================================\n"
     ]
    },
    {
     "name": "stderr",
     "output_type": "stream",
     "text": [
      "\r",
      "200it [07:36,  2.73s/it]"
     ]
    },
    {
     "name": "stdout",
     "output_type": "stream",
     "text": [
      "Index ประโยคภาษาไทย: 516730\n",
      "ประโยค: สัญญากำหนดฐานเงินเดือนประจำปีของเขาที่14 ล้านดอลลาร์และเป้าหมายโบนัสของเขาคืออย่างน้อย1 ล้านดอลลาร์***\n",
      "Same index: 516730 Value: 14 Rank: 0\n",
      "Sentence: the contract set his annual base salary at 1.4 million and his target bonus at a minimum of 1 million * * *\n",
      "Minimum index: 516730 Value: 14\n",
      "Sentence: the contract set his annual base salary at 1.4 million and his target bonus at a minimum of 1 million * * *\n",
      "========================================\n"
     ]
    },
    {
     "name": "stderr",
     "output_type": "stream",
     "text": [
      "\r",
      "201it [07:37,  2.28s/it]"
     ]
    },
    {
     "name": "stdout",
     "output_type": "stream",
     "text": [
      "Index ประโยคภาษาไทย: 780286\n",
      "ประโยค: ฉันต้องการจะจองคิวนัดเพื่อเช็ครถของฉันค่ะ**\n",
      "Same index: 780286 Value: 10 Rank: 0\n",
      "Sentence: i need to make an appointment for my car to get checked * *\n",
      "Minimum index: 719209 Value: 10\n",
      "Sentence: i want to have a tune-up check up with my car * * *\n",
      "========================================\n"
     ]
    },
    {
     "name": "stderr",
     "output_type": "stream",
     "text": [
      "\r",
      "202it [07:39,  2.36s/it]"
     ]
    },
    {
     "name": "stdout",
     "output_type": "stream",
     "text": [
      "Index ประโยคภาษาไทย: 680253\n",
      "ประโยค: โอเคค่ะคอนเฟิร์มนะคะจองเป็นวันพรุ่งนี้ตอน4 โมงที่อินเทลลิเจนซ์ออโต้โซลูชั่นเช็ครถคอร์เว็ตของคุณซึ่งมีปัญหาเรื่องคลัทช์ลื่นนะคะถูกต้องมั้ยคะ***\n",
      "Same index: 680253 Value: 28 Rank: 758\n",
      "Sentence: ok just to confirm i have you down for a 4pm appointment tomorrow with intelligent auto solution to look at your corvette about a problem with the clutch is that correct * * * * * *\n",
      "Minimum index: 280621 Value: 22\n",
      "Sentence: there are other book that explain all sort of doggy thing better * *\n",
      "========================================\n"
     ]
    },
    {
     "name": "stderr",
     "output_type": "stream",
     "text": [
      "\r",
      "203it [07:42,  2.51s/it]"
     ]
    },
    {
     "name": "stdout",
     "output_type": "stream",
     "text": [
      "Index ประโยคภาษาไทย: 978297\n",
      "ประโยค: และยังรับรู้ได้ถึงนิวเดลีเมืองหลวงของประเทศอินเดียซึ่งอยู่ห่างออกมาจากจุดเหนือศูนย์เกิดแผ่นดินไหว1000 กิโลเมตรโดยที่นิวเดลียังสามารถเกิดการสั่นสะเทือนของอาคารและสำนักงานต่างๆได้อยู่\n",
      "Same index: 978297 Value: 34 Rank: 181\n",
      "Sentence: the impact of these tremor wa felt even 1,000 kilometre away in the indian capital new delhi where building shook and office worker evacuated * * * * *\n",
      "Minimum index: 698259 Value: 30\n",
      "Sentence: alright i have made the reservation for you have a nice day * *\n",
      "========================================\n"
     ]
    },
    {
     "name": "stderr",
     "output_type": "stream",
     "text": [
      "\r",
      "204it [07:44,  2.16s/it]"
     ]
    },
    {
     "name": "stdout",
     "output_type": "stream",
     "text": [
      "Index ประโยคภาษาไทย: 270571\n",
      "ประโยค: ข้อมูลที่ออนไลน์เมื่อซื้อผลิตภัณฑ์ดูเหมือนจะเป็นประโยชน์มากกว่า****\n",
      "Same index: 270571 Value: 12 Rank: 373\n",
      "Sentence: the information that wa on line when purchasing the product seemed like it would be more helpful * * * *\n",
      "Minimum index: 182416 Value: 9\n",
      "Sentence: looking forward to reading more by this author * * * * * *\n",
      "========================================\n"
     ]
    },
    {
     "name": "stderr",
     "output_type": "stream",
     "text": [
      "\r",
      "205it [07:45,  1.91s/it]"
     ]
    },
    {
     "name": "stdout",
     "output_type": "stream",
     "text": [
      "Index ประโยคภาษาไทย: 103120\n",
      "ประโยค: มันใส่ไปแล้วไม่พอดีกับกรอบด้านบนค่ะ****\n",
      "Same index: 103120 Value: 15 Rank: 598\n",
      "Sentence: it doe not fit well in between the top frame piece to form a snug fit * * * * *\n",
      "Minimum index: 504801 Value: 8\n",
      "Sentence: hanaud stretched out his hand and shook ricardo 's warmly * * * *\n",
      "========================================\n"
     ]
    },
    {
     "name": "stderr",
     "output_type": "stream",
     "text": [
      "\r",
      "206it [07:46,  1.71s/it]"
     ]
    },
    {
     "name": "stdout",
     "output_type": "stream",
     "text": [
      "Index ประโยคภาษาไทย: 482824\n",
      "ประโยค: ฉันจะไม่ลังเลถึงแม้จะเสียไป******\n",
      "Same index: 482824 Value: 7 Rank: 2\n",
      "Sentence: i 'm not going to falter despite losing * * * * * *\n",
      "Minimum index: 162219 Value: 6\n",
      "Sentence: do not read * * * *\n",
      "========================================\n"
     ]
    },
    {
     "name": "stderr",
     "output_type": "stream",
     "text": [
      "\r",
      "207it [07:47,  1.40s/it]"
     ]
    },
    {
     "name": "stdout",
     "output_type": "stream",
     "text": [
      "Index ประโยคภาษาไทย: 485354\n",
      "ประโยค: หญิงสูงไวไม่ใช้คำพูดอ้อมค้อม\n",
      "Same index: 485354 Value: 13 Rank: 249\n",
      "Sentence: the old lady did n't mince her word * * * * * *\n",
      "Minimum index: 569660 Value: 6\n",
      "Sentence: most audio compressor may not work well\n",
      "========================================\n"
     ]
    },
    {
     "name": "stderr",
     "output_type": "stream",
     "text": [
      "\r",
      "208it [07:48,  1.35s/it]"
     ]
    },
    {
     "name": "stdout",
     "output_type": "stream",
     "text": [
      "Index ประโยคภาษาไทย: 373336\n",
      "ประโยค: มันสร้างมาเพื่อฉากที่ไร้สาระและเนื้อเรื่องก็สั้นเกินไปเช่นกัน*\n",
      "Same index: 373336 Value: 10 Rank: 0\n",
      "Sentence: it made for ridiculous scene and the story also seemed too short * *\n",
      "Minimum index: 373336 Value: 10\n",
      "Sentence: it made for ridiculous scene and the story also seemed too short * *\n",
      "========================================\n"
     ]
    },
    {
     "name": "stderr",
     "output_type": "stream",
     "text": [
      "\r",
      "209it [07:49,  1.13s/it]"
     ]
    },
    {
     "name": "stdout",
     "output_type": "stream",
     "text": [
      "Index ประโยคภาษาไทย: 735717\n",
      "ประโยค: เวซูซิโอ255โคลัมบัสอะเวนูค่ะ\n",
      "Same index: 735717 Value: 7 Rank: 6\n",
      "Sentence: vesuvio 's 255 columbus avenue * * *\n",
      "Minimum index: 569543 Value: 6\n",
      "Sentence: weekend night market at thepprasit road pattaya * *\n",
      "========================================\n"
     ]
    },
    {
     "name": "stderr",
     "output_type": "stream",
     "text": [
      "\r",
      "210it [07:50,  1.14s/it]"
     ]
    },
    {
     "name": "stdout",
     "output_type": "stream",
     "text": [
      "Index ประโยคภาษาไทย: 735905\n",
      "ประโยค: เยี่ยมเลยค่ะจะจองให้เลยนะคะ******\n",
      "Same index: 735905 Value: 8 Rank: 5\n",
      "Sentence: great i 'll book those ticket for you * * * * * *\n",
      "Minimum index: 55386 Value: 7\n",
      "Sentence: did n't finish the book seemed too 'hollywood * * * * * *\n",
      "========================================\n"
     ]
    },
    {
     "name": "stderr",
     "output_type": "stream",
     "text": [
      "\r",
      "211it [07:52,  1.38s/it]"
     ]
    },
    {
     "name": "stdout",
     "output_type": "stream",
     "text": [
      "Index ประโยคภาษาไทย: 407173\n",
      "ประโยค: ฉันจะไปถามคําถามที่พวกเขาจะได้รับเพียงครั้งเดียวฉันต้องการประวัติศาสตร์มากขึ้นและศัพท์แสงทางการเมืองน้อยลง\n",
      "Same index: 407173 Value: 25 Rank: 712\n",
      "Sentence: i am going over the question a they are given only once i would really like more history and le political jargon * * * * * *\n",
      "Minimum index: 711102 Value: 18\n",
      "Sentence: ill take that one * * *\n",
      "========================================\n"
     ]
    },
    {
     "name": "stderr",
     "output_type": "stream",
     "text": [
      "\r",
      "212it [07:55,  1.89s/it]"
     ]
    },
    {
     "name": "stdout",
     "output_type": "stream",
     "text": [
      "Index ประโยคภาษาไทย: 771326\n",
      "ประโยค: รอบฉายรอบสุดท้ายที่ว่างคือเวลา3 ทุ่มครึ่งวันนี้ค่ะไม่มีรอบฉายหลัง4 ทุ่มจะให้ฉันซื้อตั๋ว2ใบสำหรับรอบฉายเวลา3 ทุ่มครึ่งแทนมั้ยคะ****\n",
      "Same index: 771326 Value: 29 Rank: 41\n",
      "Sentence: the last available showing for your requested preferances is at 9:30pm today there are no showing after 10pm should i purchase two ticket for 9:30 instead * *\n",
      "Minimum index: 418111 Value: 27\n",
      "Sentence: this is the book i wish i had not wasted my time reading *\n",
      "========================================\n"
     ]
    },
    {
     "name": "stderr",
     "output_type": "stream",
     "text": [
      "\r",
      "213it [07:57,  1.85s/it]"
     ]
    },
    {
     "name": "stdout",
     "output_type": "stream",
     "text": [
      "Index ประโยคภาษาไทย: 291492\n",
      "ประโยค: ส่วนใหญ่ของการมีประสิทธิผลในที่ทำงานคือการจดบันทึกในมือของคุณดังนั้นมันจึงมีประโยชน์จริงๆ****\n",
      "Same index: 291492 Value: 19 Rank: 583\n",
      "Sentence: a large part of being productive at work is making note in your hand so it 's really handy for that\n",
      "Minimum index: 392915 Value: 15\n",
      "Sentence: it is a good deal and it 's easy to use * * *\n",
      "========================================\n"
     ]
    },
    {
     "name": "stderr",
     "output_type": "stream",
     "text": [
      "\r",
      "214it [07:59,  2.13s/it]"
     ]
    },
    {
     "name": "stdout",
     "output_type": "stream",
     "text": [
      "Index ประโยคภาษาไทย: 7608\n",
      "ประโยค: สิงคโปร์เป็นพันธมิตรด้านกลาโหมกับสหรัฐอเมริกาซึ่งอนุญาตให้กองทหารสหรัฐฯใช้สถานที่และสิ่งก่อสร้างของสิงคโปร์อย่างครอบคลุมนอกจากนั้นสิงคโปร์ยังมีความสัมพันธ์ด้านกลาโหมกับอินโดนีเซียมาเลเซียอินเดียออสเตรเลียนิวซีแลนด์และสหราชอาณาจักร*\n",
      "Same index: 7608 Value: 28 Rank: 11\n",
      "Sentence: singapore ha a defense partnership with the united state which allows wider use of the city state s facility by the u.s. military it also ha defense tie with indonesia malaysia india australia new zealand and the united kingdom * * * * * *\n",
      "Minimum index: 211360 Value: 24\n",
      "Sentence: she also recommended visiting new york * *\n",
      "========================================\n"
     ]
    },
    {
     "name": "stderr",
     "output_type": "stream",
     "text": [
      "\r",
      "215it [08:00,  1.70s/it]"
     ]
    },
    {
     "name": "stdout",
     "output_type": "stream",
     "text": [
      "Index ประโยคภาษาไทย: 700257\n",
      "ประโยค: อีกสิบห้านาทีค่ะ***\n",
      "Same index: 700257 Value: 2 Rank: 0\n",
      "Sentence: 15 minute * * * * *\n",
      "Minimum index: 700257 Value: 2\n",
      "Sentence: 15 minute * * * * *\n",
      "========================================\n"
     ]
    },
    {
     "name": "stderr",
     "output_type": "stream",
     "text": [
      "\r",
      "216it [08:02,  1.72s/it]"
     ]
    },
    {
     "name": "stdout",
     "output_type": "stream",
     "text": [
      "Index ประโยคภาษาไทย: 420900\n",
      "ประโยค: ฉันมีปัญหาเดียวกันกับอะแดปเตอร์นี้ซื้อมาสองชิ้นพวกเขาจะไม่เปิดเครื่องหลังจากผ่านไปประมาณหนึ่งเดือน*\n",
      "Same index: 420900 Value: 19 Rank: 105\n",
      "Sentence: i have the same problem with this adapter purchased two of them they will not power up after about a month\n",
      "Minimum index: 491849 Value: 16\n",
      "Sentence: get up we 're going shopping *\n",
      "========================================\n"
     ]
    },
    {
     "name": "stderr",
     "output_type": "stream",
     "text": [
      "\r",
      "217it [08:02,  1.39s/it]"
     ]
    },
    {
     "name": "stdout",
     "output_type": "stream",
     "text": [
      "Index ประโยคภาษาไทย: 29608\n",
      "ประโยค: อัตราขยายตัวที่แทจ้ริงและอัตราขยายตัวของราคาสินคา้ภาคเกษตร ร้อยละ สาขาการผลิต 2551 2552 2553 อัตราขยายตัวที่แทจ้ริงภาคเกษตร 29 09 25 สาขาเกษตรกรรม การล่าสัตว์ และการป่าไม้ 26 08 30 การปลูกพืชผล 25 14 41 การเลี้ยงปศุสัตว์ 76 39 40 การบริการทางการเกษตร 22 32 52 การป่าไม้ 148 0857*****\n",
      "Same index: 29608 Value: 83 Rank: 958\n",
      "Sentence: however livestock grew by 4.0 whereas agricultural service expanded by 5.2 and fishing grew by 1.8 growth rate and implicit price deflator growth sector 2008 2009 2010 agricultural sector growth 2.9 -0.9 -2.5 agriculture hunting and forestry 2.6 -0.8 -3.0 crop 2.5 -1.4 -4.1 livestock 7.6 3.9 4.0 agricultural service -2.2 3.2 5.2 forestry -14.8 0.8 -5.7 fishery 5.5 -1.9 1.8 implicit price deflator growth 12.0 -1.0 25.4 agriculture hunting and forestry total production decreased by 3.0 kept contracting from 0.8 in previous year *\n",
      "Minimum index: 532580 Value: 2\n",
      "Sentence: i guess * * * * *\n",
      "========================================\n"
     ]
    },
    {
     "name": "stderr",
     "output_type": "stream",
     "text": [
      "\r",
      "218it [08:11,  3.49s/it]"
     ]
    },
    {
     "name": "stdout",
     "output_type": "stream",
     "text": [
      "Index ประโยคภาษาไทย: 28799\n",
      "ประโยค: 4ธปทเริ่มปรับใช๎สกุลเงินพร๎อมน้ําหนักใหมํในการคํานวณดัชนีคําเงินบาทNEERและดชันีคําเงินบาทที่แท๎จริงREERในเดือนมีนาคม 2557พร๎อมปรับปีฐานของคําดัชนีให๎สอดคล๎องกับปีที่ใช๎คํานวณน้ําหนักคือปี 2555เพื่อให๎สะท๎อนถึงโครงสร๎างทางการค๎าตามความเป็นจริงได๎ดียิ่งขึ้นค่าเงินบาทเคลื่อนไหวในทิศทางที่แข็งค่าขึ้นตั้งแตต่้นปี2557แต่ยงัคงอ่อนค่าเมื่อเทียบกับไตรมาสก่อนหน้าสำนักยุทธศาสตรแ์ละการวางแผนเศรษฐกิจมหภาค19 พฤษภาคม 2557*****\n",
      "Same index: 28799 Value: 87 Rank: 801\n",
      "Sentence: 4 the bot began using the new neer and reer in march 2013 the base year would also be changed to 2012 that the indicator could capture the true structure of trade in line with changing international trade dynamic thai baht appreciated against u dollar since the beginning of 2014 but depreciated from the previous quarter macroeconomic strategy and planning office may 19 , 2014 economic outlook nesdb 17 capital and financial account recorded a net outflow for the third consecutive quarter\n",
      "Minimum index: 373140 Value: 80\n",
      "Sentence: the sound quality in general ha improved dramatically these headphone are not quite a full bodied sounding the bass doe not produce a much sound but they do more than enough to make them worth considering even though they 're priced relatively highly * * * * * *\n",
      "========================================\n"
     ]
    },
    {
     "name": "stderr",
     "output_type": "stream",
     "text": [
      "\r",
      "219it [08:12,  2.82s/it]"
     ]
    },
    {
     "name": "stdout",
     "output_type": "stream",
     "text": [
      "Index ประโยคภาษาไทย: 143833\n",
      "ประโยค: ซื้อซองพวกนี้ให้แมวสามตัวในช่วงหลายปีที่ผ่านมาค่ะ\n",
      "Same index: 143833 Value: 13 Rank: 0\n",
      "Sentence: i have bought these bag for our three cat over the last several year\n",
      "Minimum index: 759875 Value: 13\n",
      "Sentence: let me check * * * *\n",
      "========================================\n"
     ]
    },
    {
     "name": "stderr",
     "output_type": "stream",
     "text": [
      "\r",
      "220it [08:13,  2.34s/it]"
     ]
    },
    {
     "name": "stdout",
     "output_type": "stream",
     "text": [
      "Index ประโยคภาษาไทย: 976501\n",
      "ประโยค: ประเทศสวีเดนในคศ 1976เหตุการณ์ที่เกิดขึ้นในคศ 1976ในประเทศสวีเดน****\n",
      "Same index: 976501 Value: 8 Rank: 0\n",
      "Sentence: 1976 in sweden event from the year 1976 in sweden * * * * *\n",
      "Minimum index: 977238 Value: 8\n",
      "Sentence: 2008 in argentina event in the year 2008 in argentina * * * *\n",
      "========================================\n"
     ]
    },
    {
     "name": "stderr",
     "output_type": "stream",
     "text": [
      "\r",
      "221it [08:14,  2.00s/it]"
     ]
    },
    {
     "name": "stdout",
     "output_type": "stream",
     "text": [
      "Index ประโยคภาษาไทย: 710920\n",
      "ประโยค: ได้เลยค่ะอยากกินอะไรดีคะ******\n",
      "Same index: 710920 Value: 8 Rank: 28\n",
      "Sentence: of course where would you like to eat * * * * * *\n",
      "Minimum index: 932612 Value: 6\n",
      "Sentence: round cutting board with handle zopa nt341 *\n",
      "========================================\n"
     ]
    },
    {
     "name": "stderr",
     "output_type": "stream",
     "text": [
      "\r",
      "222it [08:16,  1.76s/it]"
     ]
    },
    {
     "name": "stdout",
     "output_type": "stream",
     "text": [
      "Index ประโยคภาษาไทย: 839564\n",
      "ประโยค: ค่ะรานแซ็ดแอนวายเสิร์ฟเบียร์และไวน์หลากหลายค่ะ***\n",
      "Same index: 839564 Value: 10 Rank: 0\n",
      "Sentence: yes z & y restaurant ha a variety of beer and wine option * * *\n",
      "Minimum index: 680101 Value: 10\n",
      "Sentence: actually i do want whipped cream *\n",
      "========================================\n"
     ]
    },
    {
     "name": "stderr",
     "output_type": "stream",
     "text": [
      "\r",
      "223it [08:18,  1.97s/it]"
     ]
    },
    {
     "name": "stdout",
     "output_type": "stream",
     "text": [
      "Index ประโยคภาษาไทย: 196707\n",
      "ประโยค: ถ้าคุณต้องการที่ป้องกันจอแบบไม่สะท้อนแสงอย่าเสียเงินของคุณใช้ZaggหรือInvisibleShieldดีกว่าสิ่งที่ฉันเคยใช้เมื่อก่อน**\n",
      "Same index: 196707 Value: 25 Rank: 54\n",
      "Sentence: if you need an anti-glare screen protector do n't waste your money stick with zagg or invisible shield what i 've used in the past * * *\n",
      "Minimum index: 129682 Value: 23\n",
      "Sentence: and the blue led look really nice while in use * * * *\n",
      "========================================\n"
     ]
    },
    {
     "name": "stderr",
     "output_type": "stream",
     "text": [
      "\r",
      "224it [08:20,  1.92s/it]"
     ]
    },
    {
     "name": "stdout",
     "output_type": "stream",
     "text": [
      "Index ประโยคภาษาไทย: 472530\n",
      "ประโยค: เด็กชายของฉันชอบมันสองสามวันก่อนที่พวกเขาจะหมดความสนใจจากนั้นฉันก็กลับมาเล่นกับพวกเขาอีกครั้ง\n",
      "Same index: 472530 Value: 23 Rank: 741\n",
      "Sentence: my boy enjoyed it for a couple of day before they lost all interest then i came back and played with them again * * * * *\n",
      "Minimum index: 706817 Value: 19\n",
      "Sentence: would you like lowfat 2 or whole milk * * * * * *\n",
      "========================================\n"
     ]
    },
    {
     "name": "stderr",
     "output_type": "stream",
     "text": [
      "\r",
      "225it [08:21,  1.72s/it]"
     ]
    },
    {
     "name": "stdout",
     "output_type": "stream",
     "text": [
      "Index ประโยคภาษาไทย: 226712\n",
      "ประโยค: ฉันซื้อหนังสือเล่มนี้เป็นของขวัญจากรายการความปรารถนาของฉัน**\n",
      "Same index: 226712 Value: 11 Rank: 10\n",
      "Sentence: i bought this book a a gift off my wish list * * *\n",
      "Minimum index: 737334 Value: 10\n",
      "Sentence: got it in dallas correct * *\n",
      "========================================\n"
     ]
    },
    {
     "name": "stderr",
     "output_type": "stream",
     "text": [
      "\r",
      "226it [08:22,  1.56s/it]"
     ]
    },
    {
     "name": "stdout",
     "output_type": "stream",
     "text": [
      "Index ประโยคภาษาไทย: 63934\n",
      "ประโยค: พวกเขาเอาอันใหม่ให้ฉันแต่ก็ยังไม่ทำงาน***\n",
      "Same index: 63934 Value: 8 Rank: 0\n",
      "Sentence: they got me a new one but it 's still not working * *\n",
      "Minimum index: 63934 Value: 8\n",
      "Sentence: they got me a new one but it 's still not working * *\n",
      "========================================\n"
     ]
    },
    {
     "name": "stderr",
     "output_type": "stream",
     "text": [
      "\r",
      "227it [08:23,  1.28s/it]"
     ]
    },
    {
     "name": "stdout",
     "output_type": "stream",
     "text": [
      "Index ประโยคภาษาไทย: 597007\n",
      "ประโยค: ใกล้ซิซิลีนี ซิซิลีแลร์ Falcone Borsellino ซิซิลี Catania สถานี สถานีรถไฟปาแลร์โมซิซิลี ซิซิลี*****\n",
      "Same index: 597007 Value: 1 Rank: 0\n",
      "Sentence: near sicily trapani airport sicily palermo falcone borsellino airport sicily catania railway station sicily palermo railway station sicily * * * * *\n",
      "Minimum index: 597007 Value: 1\n",
      "Sentence: near sicily trapani airport sicily palermo falcone borsellino airport sicily catania railway station sicily palermo railway station sicily * * * * *\n",
      "========================================\n"
     ]
    },
    {
     "name": "stderr",
     "output_type": "stream",
     "text": [
      "\r",
      "228it [08:24,  1.24s/it]"
     ]
    },
    {
     "name": "stdout",
     "output_type": "stream",
     "text": [
      "Index ประโยคภาษาไทย: 511012\n",
      "ประโยค: ร็อบ โอนีลเจ้าหน้าที่ของยูนิฟีกล่าวว่าไม่ออมมือแล้ว*****\n",
      "Same index: 511012 Value: 7 Rank: 0\n",
      "Sentence: unifi official rob o'neill said the glove are off * * * * * *\n",
      "Minimum index: 511012 Value: 7\n",
      "Sentence: unifi official rob o'neill said the glove are off * * * * * *\n",
      "========================================\n"
     ]
    },
    {
     "name": "stderr",
     "output_type": "stream",
     "text": [
      "\r",
      "229it [08:26,  1.41s/it]"
     ]
    },
    {
     "name": "stdout",
     "output_type": "stream",
     "text": [
      "Index ประโยคภาษาไทย: 739122\n",
      "ประโยค: เยี่ยมเลยเรียบร้อยแล้วอย่าลืมเอารถไปทิ้งไว้ที่อู่ตอนแปดโมงครึ่งวันจันทร์ไหม***\n",
      "Same index: 739122 Value: 15 Rank: 0\n",
      "Sentence: alright all set please be sure to drop off your car before 8:30 on monday * * * * * *\n",
      "Minimum index: 719771 Value: 15\n",
      "Sentence: great have a nice day * *\n",
      "========================================\n"
     ]
    },
    {
     "name": "stderr",
     "output_type": "stream",
     "text": [
      "\r",
      "230it [08:27,  1.17s/it]"
     ]
    },
    {
     "name": "stdout",
     "output_type": "stream",
     "text": [
      "Index ประโยคภาษาไทย: 494811\n",
      "ประโยค: มีวิธีคือ****\n",
      "Same index: 494811 Value: 4 Rank: 36\n",
      "Sentence: there is a way * * *\n",
      "Minimum index: 239648 Value: 3\n",
      "Sentence: this game is garbage * * *\n",
      "========================================\n"
     ]
    },
    {
     "name": "stderr",
     "output_type": "stream",
     "text": [
      "\r",
      "231it [08:27,  1.02s/it]"
     ]
    },
    {
     "name": "stdout",
     "output_type": "stream",
     "text": [
      "Index ประโยคภาษาไทย: 643496\n",
      "ประโยค: รถของคุณมีปัญหาอะไรหรอคะ\n",
      "Same index: 643496 Value: 7 Rank: 0\n",
      "Sentence: what is the problem * * *\n",
      "Minimum index: 385034 Value: 7\n",
      "Sentence: the perfect size for many item *\n",
      "========================================\n"
     ]
    },
    {
     "name": "stderr",
     "output_type": "stream",
     "text": [
      "\r",
      "232it [08:29,  1.28s/it]"
     ]
    },
    {
     "name": "stdout",
     "output_type": "stream",
     "text": [
      "Index ประโยคภาษาไทย: 267448\n",
      "ประโยค: การปิดเครื่องจะไม่ช่วยและจริง ๆแล้วทำให้ด้านอื่นๆของคุณหันมาต่อต้านคุณ******\n",
      "Same index: 267448 Value: 14 Rank: 4\n",
      "Sentence: turning it off wo n't help and will actually make your other side turn against you * * * * *\n",
      "Minimum index: 793216 Value: 13\n",
      "Sentence: no problem have a great day *\n",
      "========================================\n"
     ]
    },
    {
     "name": "stderr",
     "output_type": "stream",
     "text": [
      "\r",
      "233it [08:30,  1.09s/it]"
     ]
    },
    {
     "name": "stdout",
     "output_type": "stream",
     "text": [
      "Index ประโยคภาษาไทย: 131552\n",
      "ประโยค: เรารักเครื่องทำกาแฟอันนี้*\n",
      "Same index: 131552 Value: 5 Rank: 0\n",
      "Sentence: we love this coffemaker * * *\n",
      "Minimum index: 402222 Value: 5\n",
      "Sentence: it doe not work very well *\n",
      "========================================\n"
     ]
    },
    {
     "name": "stderr",
     "output_type": "stream",
     "text": [
      "\r",
      "234it [08:30,  1.04it/s]"
     ]
    },
    {
     "name": "stdout",
     "output_type": "stream",
     "text": [
      "Index ประโยคภาษาไทย: 699942\n",
      "ประโยค: ขอบคุณมากค่ะฝันดีนะคะ**\n",
      "Same index: 699942 Value: 6 Rank: 129\n",
      "Sentence: thanks a lot have a good night\n",
      "Minimum index: 563214 Value: 4\n",
      "Sentence: thanks love love * * * *\n",
      "========================================\n"
     ]
    },
    {
     "name": "stderr",
     "output_type": "stream",
     "text": [
      "\r",
      "235it [08:33,  1.56s/it]"
     ]
    },
    {
     "name": "stdout",
     "output_type": "stream",
     "text": [
      "Index ประโยคภาษาไทย: 43972\n",
      "ประโยค: อย่างไรก็ตามที่ได้กล่าวไว้ว่าในนี่มีหลายอย่าง่ทำให้คุณสนใจและให้ข้อมูลกับคุณว่าโลกของเราได้เปลี่ยนแปลงไปอย่างไรตั้งแต่ยุคโบราณ****\n",
      "Same index: 43972 Value: 25 Rank: 0\n",
      "Sentence: however having said that there are several thing in it that will interest and inform you about how our world ha changed since ancient time * * *\n",
      "Minimum index: 43972 Value: 25\n",
      "Sentence: however having said that there are several thing in it that will interest and inform you about how our world ha changed since ancient time * * *\n",
      "========================================\n"
     ]
    },
    {
     "name": "stderr",
     "output_type": "stream",
     "text": [
      "\r",
      "236it [08:35,  1.66s/it]"
     ]
    },
    {
     "name": "stdout",
     "output_type": "stream",
     "text": [
      "Index ประโยคภาษาไทย: 310766\n",
      "ประโยค: เมื่อฉันเปิดกล่องทุกอย่างดูเหมือนจะไม่บุบสลายรวมทั้งสกรูทั้งหมดของฉันเพื่อประกอบ*****\n",
      "Same index: 310766 Value: 14 Rank: 0\n",
      "Sentence: when i opened up the box everything seemed to be intact including all of my screw for assembly * * *\n",
      "Minimum index: 299278 Value: 14\n",
      "Sentence: some of it seemed too coincidental but it all tied in together * *\n",
      "========================================\n"
     ]
    },
    {
     "name": "stderr",
     "output_type": "stream",
     "text": [
      "\r",
      "237it [08:37,  1.69s/it]"
     ]
    },
    {
     "name": "stdout",
     "output_type": "stream",
     "text": [
      "Index ประโยคภาษาไทย: 518210\n",
      "ประโยค: หุ้นที่มีผลการดำเนินงานดีที่สุดคือAltriaGroupIncซึ่งเพิ่มขึ้นมากกว่า27ปิดที่4231 ดอลลาร์ต่อหุ้น****\n",
      "Same index: 518210 Value: 17 Rank: 198\n",
      "Sentence: the best-performing stock wa altria group inc. which rose more than 27 percent to close at 42.31 a share * * * *\n",
      "Minimum index: 458754 Value: 15\n",
      "Sentence: i have tried different setting on my nikon * * * * * *\n",
      "========================================\n"
     ]
    },
    {
     "name": "stderr",
     "output_type": "stream",
     "text": [
      "\r",
      "238it [08:38,  1.54s/it]"
     ]
    },
    {
     "name": "stdout",
     "output_type": "stream",
     "text": [
      "Index ประโยคภาษาไทย: 356934\n",
      "ประโยค: มีความแตกต่างเล็กน้อยระหว่างกล้องที่มีแสงน้อยและไม่ใช้แฟลช*\n",
      "Same index: 356934 Value: 10 Rank: 0\n",
      "Sentence: there is little difference between a low light and non-flash camera * * *\n",
      "Minimum index: 356934 Value: 10\n",
      "Sentence: there is little difference between a low light and non-flash camera * * *\n",
      "========================================\n"
     ]
    },
    {
     "name": "stderr",
     "output_type": "stream",
     "text": [
      "\r",
      "239it [08:39,  1.27s/it]"
     ]
    },
    {
     "name": "stdout",
     "output_type": "stream",
     "text": [
      "Index ประโยคภาษาไทย: 182515\n",
      "ประโยค: ไม่ได้เกินออกมาสักมิลลิเมตรเดียว\n",
      "Same index: 182515 Value: 13 Rank: 233\n",
      "Sentence: not one millimeter out of place or anything else * * * * *\n",
      "Minimum index: 276670 Value: 6\n",
      "Sentence: not too great not that good *\n",
      "========================================\n"
     ]
    },
    {
     "name": "stderr",
     "output_type": "stream",
     "text": [
      "\r",
      "240it [08:44,  2.29s/it]"
     ]
    },
    {
     "name": "stdout",
     "output_type": "stream",
     "text": [
      "Index ประโยคภาษาไทย: 621090\n",
      "ประโยค: VeguetaลาและCanarioพิพิธภัณฑ์เป็นสถานที่สำหรับผู้ที่ต้องการมีวันหยุดมีวัฒนธรรมบริการรถเช่าเป็นเพียงวิธีที่ดีสุดเพื่อเยี่ยมชมสถานเหล่านี้และให้การพักผ่อนนอกจากนี้PalmitosParkMogán เดอโตและเมืองได้แก่บางอื่นๆจุดยอดนิยมในหมู่นักท่องเที่ยวและมีทัศนศึกษาและท่องเที่ยวที่มีการ****\n",
      "Same index: 621090 Value: 50 Rank: 150\n",
      "Sentence: la vegueta and the museo canario are the place for those people who like to have an cultural holiday car rental is simply the best way to visit these place and make the stay stress-free besides this palmitos park puerto de mogán and sioux city are some other popular spot among the tourist and there are plenty of excursion and boat trip that can be taken * *\n",
      "Minimum index: 415859 Value: 47\n",
      "Sentence: it is good to get the mind of someone from 50 year ago *\n",
      "========================================\n"
     ]
    },
    {
     "name": "stderr",
     "output_type": "stream",
     "text": [
      "\r",
      "241it [08:44,  1.81s/it]"
     ]
    },
    {
     "name": "stdout",
     "output_type": "stream",
     "text": [
      "Index ประโยคภาษาไทย: 846585\n",
      "ประโยค: ได้เลยอยากได้เครื่องดื่มอะไรคะ*\n",
      "Same index: 846585 Value: 7 Rank: 177\n",
      "Sentence: sure what drink are you looking for\n",
      "Minimum index: 493836 Value: 5\n",
      "Sentence: made in taiwan * * * *\n",
      "========================================\n"
     ]
    },
    {
     "name": "stderr",
     "output_type": "stream",
     "text": [
      "\r",
      "242it [08:46,  1.80s/it]"
     ]
    },
    {
     "name": "stdout",
     "output_type": "stream",
     "text": [
      "Index ประโยคภาษาไทย: 542403\n",
      "ประโยค: เพราะเธอแฟนสาวแก่ฉันเท่านั้นโอ้น่าเศร้านะเข้าใจละฉันไม่รู้อ่ะเธอซื้ออะไรเหรอ**\n",
      "Same index: 542403 Value: 22 Rank: 735\n",
      "Sentence: co u gf to me only mah lol oh t.t sob sob sob sia lah got itfair i dunno sia u buying wat * * * * *\n",
      "Minimum index: 123285 Value: 16\n",
      "Sentence: i enjoyed this and it wa a quick read for me * * *\n",
      "========================================\n"
     ]
    },
    {
     "name": "stderr",
     "output_type": "stream",
     "text": [
      "\r",
      "243it [08:47,  1.64s/it]"
     ]
    },
    {
     "name": "stdout",
     "output_type": "stream",
     "text": [
      "Index ประโยคภาษาไทย: 296875\n",
      "ประโยค: การแทรกแซงเหล่านี้มีประโยชน์เพียงใดที่ควรได้รับภายใต้รัฐบาลนี้***\n",
      "Same index: 296875 Value: 11 Rank: 24\n",
      "Sentence: how much good were these intervention supposed to have had under this government *\n",
      "Minimum index: 548903 Value: 10\n",
      "Sentence: do you have his number * *\n",
      "========================================\n"
     ]
    },
    {
     "name": "stderr",
     "output_type": "stream",
     "text": [
      "\r",
      "244it [08:49,  1.51s/it]"
     ]
    },
    {
     "name": "stdout",
     "output_type": "stream",
     "text": [
      "Index ประโยคภาษาไทย: 261231\n",
      "ประโยค: ฉันเพิ่งติดตั้งไฟสองดวงนี้บนเรือของฉัน***\n",
      "Same index: 261231 Value: 10 Rank: 0\n",
      "Sentence: i recently installed two of these light on my boat * * * *\n",
      "Minimum index: 536582 Value: 10\n",
      "Sentence: have fun attending class * * *\n",
      "========================================\n"
     ]
    },
    {
     "name": "stderr",
     "output_type": "stream",
     "text": [
      "\r",
      "245it [08:50,  1.39s/it]"
     ]
    },
    {
     "name": "stdout",
     "output_type": "stream",
     "text": [
      "Index ประโยคภาษาไทย: 378899\n",
      "ประโยค: สําหรับ2500ไม่ใช่การซื้อที่ประหยัด*****\n",
      "Same index: 378899 Value: 8 Rank: 1\n",
      "Sentence: for 25.00 it 's not an economical purchase * * * * * *\n",
      "Minimum index: 832535 Value: 7\n",
      "Sentence: i do not have a preference *\n",
      "========================================\n"
     ]
    },
    {
     "name": "stderr",
     "output_type": "stream",
     "text": [
      "\r",
      "246it [08:51,  1.34s/it]"
     ]
    },
    {
     "name": "stdout",
     "output_type": "stream",
     "text": [
      "Index ประโยคภาษาไทย: 200313\n",
      "ประโยค: เราซื้อปกอีกสีชมพูเพื่อการปกป้องเพิ่มเติมแต่ต้องการสไตล์และสีเดียวกัน\n",
      "Same index: 200313 Value: 16 Rank: 573\n",
      "Sentence: we did buy another cover in pink for more protection but wanted the same style color * * * * *\n",
      "Minimum index: 414101 Value: 12\n",
      "Sentence: it make you want to throw up\n",
      "========================================\n"
     ]
    },
    {
     "name": "stderr",
     "output_type": "stream",
     "text": [
      "\r",
      "247it [08:52,  1.29s/it]"
     ]
    },
    {
     "name": "stdout",
     "output_type": "stream",
     "text": [
      "Index ประโยคภาษาไทย: 442660\n",
      "ประโยค: ตัวละครหลักเป็นปัญหาเล็กน้อยสําหรับรสนิยมของฉัน*****\n",
      "Same index: 442660 Value: 12 Rank: 395\n",
      "Sentence: the main character is just a bit too much trouble for my taste *\n",
      "Minimum index: 560037 Value: 8\n",
      "Sentence: reset the thing * * * *\n",
      "========================================\n"
     ]
    },
    {
     "name": "stderr",
     "output_type": "stream",
     "text": [
      "\r",
      "248it [08:57,  2.27s/it]"
     ]
    },
    {
     "name": "stdout",
     "output_type": "stream",
     "text": [
      "Index ประโยคภาษาไทย: 973422\n",
      "ประโยค: เซอร์จอห์น คิงถูกแต่งตั้งให้เป็นประธานในการเตรียมพร้อมการแปรรูปกิจการไปเป็นบริษัทเอกชนในปีพศ 2524คิงได้ว่าจ้างโคลิน มาร์แชลมาเป็นประธานบริหารในปีพศ2526คิงเป็นบุคคลที่มีชื่อเสียงด้านการปรับเปลี่ยนสายการบินที่ขาดทุนมหาศาลให้เป็นสายการบินที่สามารถทำกำไรได้มากที่สุดของโลกได้***\n",
      "Same index: 973422 Value: 52 Rank: 515\n",
      "Sentence: in 1981 the airline wa instructed to prepare for privatisation by the conservative thatcher government sir john king later lord king wa appointed chairman charged with bringing the airline back into profitability while many other large airline struggled king wa credited with transforming british airway into one of the most profitable air carrier in the world * * *\n",
      "Minimum index: 303005 Value: 44\n",
      "Sentence: in one place there were spoiler which made me feel like a prude *\n",
      "========================================\n"
     ]
    },
    {
     "name": "stderr",
     "output_type": "stream",
     "text": [
      "\r",
      "249it [08:59,  2.32s/it]"
     ]
    },
    {
     "name": "stdout",
     "output_type": "stream",
     "text": [
      "Index ประโยคภาษาไทย: 826481\n",
      "ประโยค: อย่าลืมนะคะว่ามีค่าตรวจสอบ89ซึ่งสามารถเลือกได้นะคะว่าจะใช้ซ่อมอะไรได้ตามต้องการเลยค่ะ******\n",
      "Same index: 826481 Value: 28 Rank: 743\n",
      "Sentence: just to let you know there is a 89 service fee but it can be applied to the cost of repair if you choose to go with them\n",
      "Minimum index: 120425 Value: 17\n",
      "Sentence: they are easy enough to use and take care of * * * *\n",
      "========================================\n"
     ]
    },
    {
     "name": "stderr",
     "output_type": "stream",
     "text": [
      "\r",
      "250it [09:00,  2.01s/it]"
     ]
    },
    {
     "name": "stdout",
     "output_type": "stream",
     "text": [
      "Index ประโยคภาษาไทย: 166662\n",
      "ประโยค: ถ้าฉันไม่ได้เสียเงินซื้อมานะคงจะเผาทิ้งไปแล้ว**\n",
      "Same index: 166662 Value: 12 Rank: 108\n",
      "Sentence: if i had not paid for this book i would have burned it *\n",
      "Minimum index: 546902 Value: 9\n",
      "Sentence: i thought you have ring * *\n",
      "========================================\n"
     ]
    },
    {
     "name": "stderr",
     "output_type": "stream",
     "text": [
      "\r",
      "251it [09:01,  1.59s/it]"
     ]
    },
    {
     "name": "stdout",
     "output_type": "stream",
     "text": [
      "Index ประโยคภาษาไทย: 480828\n",
      "ประโยค: ทวีเดิลดีเริ่มอย่างรวดเร็ว***\n",
      "Same index: 480828 Value: 3 Rank: 0\n",
      "Sentence: tweedledee began instantly * * * *\n",
      "Minimum index: 138571 Value: 3\n",
      "Sentence: get it * * * * *\n",
      "========================================\n"
     ]
    },
    {
     "name": "stderr",
     "output_type": "stream",
     "text": [
      "\r",
      "252it [09:03,  1.66s/it]"
     ]
    },
    {
     "name": "stdout",
     "output_type": "stream",
     "text": [
      "Index ประโยคภาษาไทย: 327357\n",
      "ประโยค: ถ้าเรามีความต้องการหรืออะไรทํานองนี้จะสมบูรณ์แบบจริงๆแต่มันก็ไม่สามารถใช้ได้จริง**\n",
      "Same index: 327357 Value: 17 Rank: 1\n",
      "Sentence: if we had a need or something like this would be absolutely perfect but it 's just not practical * *\n",
      "Minimum index: 334309 Value: 16\n",
      "Sentence: i would have liked a little more suspense and not so many character *\n",
      "========================================\n"
     ]
    },
    {
     "name": "stderr",
     "output_type": "stream",
     "text": [
      "\r",
      "253it [09:05,  1.70s/it]"
     ]
    },
    {
     "name": "stdout",
     "output_type": "stream",
     "text": [
      "Index ประโยคภาษาไทย: 218578\n",
      "ประโยค: แต่เราพบว่ามันไม่มีอะไรนอกจากโฆษณาสำหรับหนังสือเล่มอื่นของผู้แต่ง*****\n",
      "Same index: 218578 Value: 14 Rank: 1\n",
      "Sentence: but we found it wa nothing but an advertisement for the author 's other book * * * * * *\n",
      "Minimum index: 88766 Value: 13\n",
      "Sentence: it doe not hold my interest a other book by her * * *\n",
      "========================================\n"
     ]
    },
    {
     "name": "stderr",
     "output_type": "stream",
     "text": [
      "\r",
      "254it [09:06,  1.74s/it]"
     ]
    },
    {
     "name": "stdout",
     "output_type": "stream",
     "text": [
      "Index ประโยคภาษาไทย: 255873\n",
      "ประโยค: ช่วยให้แมวของเราเธอเป็นผู้หญิงเมนคูนแท็บบี้สมดุลและมีสุขภาพดี****\n",
      "Same index: 255873 Value: 16 Rank: 14\n",
      "Sentence: keep our cat she 's a maine coon tabby female balanced healthy * *\n",
      "Minimum index: 532606 Value: 15\n",
      "Sentence: this pay is lakh * * *\n",
      "========================================\n"
     ]
    },
    {
     "name": "stderr",
     "output_type": "stream",
     "text": [
      "\r",
      "255it [09:08,  1.59s/it]"
     ]
    },
    {
     "name": "stdout",
     "output_type": "stream",
     "text": [
      "Index ประโยคภาษาไทย: 927727\n",
      "ประโยค: พรีม่าเทสท์บะหมี่กึ่งสำเร็จรูปรสปูแบบเผ็ด เส้นบะหมี่ที่เหนียวนุ่มผสมผสานได้อย่างลงตัวกับเครื่องเทศหลากหลายชนิดมีรสชาติที่ค่อนข้างเผ็ด*\n",
      "Same index: 927727 Value: 20 Rank: 716\n",
      "Sentence: prima taste spicy instant noodle flavor noodle that are soft blend perfectly with various spice ha a rather spicy taste taste\n",
      "Minimum index: 808994 Value: 11\n",
      "Sentence: great have a great day * *\n",
      "========================================\n"
     ]
    },
    {
     "name": "stderr",
     "output_type": "stream",
     "text": [
      "\r",
      "256it [09:08,  1.29s/it]"
     ]
    },
    {
     "name": "stdout",
     "output_type": "stream",
     "text": [
      "Index ประโยคภาษาไทย: 441914\n",
      "ประโยค: เรื่องราวดังกล่าวเป็นที่รู้จักทั่วทุกมุมโลก\n",
      "Same index: 441914 Value: 12 Rank: 282\n",
      "Sentence: the story wa kind of all over the place throughout * * * *\n",
      "Minimum index: 776867 Value: 6\n",
      "Sentence: cool and what about monsieur benjamin * *\n",
      "========================================\n"
     ]
    },
    {
     "name": "stderr",
     "output_type": "stream",
     "text": [
      "\r",
      "257it [09:11,  1.76s/it]"
     ]
    },
    {
     "name": "stdout",
     "output_type": "stream",
     "text": [
      "Index ประโยคภาษาไทย: 556892\n",
      "ประโยค: หัวเราะเธอจริงจังปะเนี่ยแล้วฉันอยากจะทำอย่างนั้นเหมือนกันได้ยังไงเล่าหัวเราะฉันเบลอแบบจากการช่วยโรบิน ซีโอห์กำจัดวิชาชีววิทยาทั้งสองระกว่างช่วงเปิดบ้านฮะฮ่า*\n",
      "Same index: 556892 Value: 31 Rank: 2\n",
      "Sentence: lol are you serious what hw is that i wan na do too lol i got a blueform for helping robin seoh clear up bio both during open house haha haha * * * *\n",
      "Minimum index: 58493 Value: 30\n",
      "Sentence: he need to come up with some other name like dude * * *\n",
      "========================================\n"
     ]
    },
    {
     "name": "stderr",
     "output_type": "stream",
     "text": [
      "\r",
      "258it [09:12,  1.59s/it]"
     ]
    },
    {
     "name": "stdout",
     "output_type": "stream",
     "text": [
      "Index ประโยคภาษาไทย: 975465\n",
      "ประโยค: สหรัฐอเมริกาในคศ 1904เหตุการณ์ที่เกิดขึ้นในคศ 1904ในสหรัฐอเมริกา****\n",
      "Same index: 975465 Value: 9 Rank: 1\n",
      "Sentence: 1904 in the united state event from the year 1904 in the united state * * *\n",
      "Minimum index: 982122 Value: 8\n",
      "Sentence: japan at the 1958 asian game * *\n",
      "========================================\n"
     ]
    },
    {
     "name": "stderr",
     "output_type": "stream",
     "text": [
      "\r",
      "259it [09:18,  2.93s/it]"
     ]
    },
    {
     "name": "stdout",
     "output_type": "stream",
     "text": [
      "Index ประโยคภาษาไทย: 621346\n",
      "ประโยค: รอเยล แกรนด์ วิลล่าที่พักพัทยาเขาพระตำหนักสระส่วนตัว4ห้องนอนให้เช่ารายวันมีจากกุซซี่พัทยาที่พักใกล้ทะเลพูลวิลล่ารายวัน4ห้องนอนที่พระตำหนัก8แขกผู้เข้าพัก4ห้องนอน4ห้องน้ำWiFiให้เช่าบ้านพัทยาสระว่าย น้ํา ส่วนตัวพระตำหนักรอเยล แกรนด์ วิลล่า4ห้องนอน6ห้องน้ำพักได้9ท่านพร้อมสระว่ายน้ำส่วนตัวใกล้ชายหาดเพียง600 เมตรฟรีอินเตอร์เน็ตไร้สายและทำบาร์บีคิวได้ราคาวันนี้2083aedดูรายละเอียด******\n",
      "Same index: 621346 Value: 53 Rank: 0\n",
      "Sentence: royale grand villa | 4 bed pool house on pratumnak hill pattaya stunning 4 bedroom pool villa 600 m from the beach at pratumnak hill central pattaya 8 guest 4 bedroom 4 bathroom wifi royale grand villa is large 4 bedroom pool villa with private gym just 600 m from the beach at pratumnak hill pattaya instant booking best online rate today price 2,083 aed view villa * * *\n",
      "Minimum index: 621346 Value: 53\n",
      "Sentence: royale grand villa | 4 bed pool house on pratumnak hill pattaya stunning 4 bedroom pool villa 600 m from the beach at pratumnak hill central pattaya 8 guest 4 bedroom 4 bathroom wifi royale grand villa is large 4 bedroom pool villa with private gym just 600 m from the beach at pratumnak hill pattaya instant booking best online rate today price 2,083 aed view villa * * *\n",
      "========================================\n"
     ]
    },
    {
     "name": "stderr",
     "output_type": "stream",
     "text": [
      "\r",
      "260it [09:20,  2.42s/it]"
     ]
    },
    {
     "name": "stdout",
     "output_type": "stream",
     "text": [
      "Index ประโยคภาษาไทย: 372098\n",
      "ประโยค: ไม่ใช่การป้องกันที่ดีที่สุดสําหรับโทรศัพท์ของคุณแต่ใช้งานได้ดี\n",
      "Same index: 372098 Value: 13 Rank: 1\n",
      "Sentence: it not the best protection to your phone but it work good * *\n",
      "Minimum index: 649049 Value: 12\n",
      "Sentence: no we 'll just do something else\n",
      "========================================\n"
     ]
    },
    {
     "name": "stderr",
     "output_type": "stream",
     "text": [
      "\r",
      "261it [09:20,  1.88s/it]"
     ]
    },
    {
     "name": "stdout",
     "output_type": "stream",
     "text": [
      "Index ประโยคภาษาไทย: 761694\n",
      "ประโยค: เป็นซอสมารีนาร่า ชีส กะเพรา มะเขือเทศสดโรยหน้าจ้ะ******\n",
      "Same index: 761694 Value: 14 Rank: 540\n",
      "Sentence: it come with our regular marinara sauce cheese basil and fresh tomato on top\n",
      "Minimum index: 813282 Value: 0\n",
      "Sentence: tino martinez * * * * * *\n",
      "========================================\n"
     ]
    },
    {
     "name": "stderr",
     "output_type": "stream",
     "text": [
      "\r",
      "262it [09:21,  1.70s/it]"
     ]
    },
    {
     "name": "stdout",
     "output_type": "stream",
     "text": [
      "Index ประโยคภาษาไทย: 807230\n",
      "ประโยค: ไม่มีปัญหาค่ะรับแบบไหนดีคะ******\n",
      "Same index: 807230 Value: 11 Rank: 374\n",
      "Sentence: that is not a problem what type of uber do you prefer * *\n",
      "Minimum index: 786388 Value: 6\n",
      "Sentence: no good job * * * *\n",
      "========================================\n"
     ]
    },
    {
     "name": "stderr",
     "output_type": "stream",
     "text": [
      "\r",
      "263it [09:23,  1.77s/it]"
     ]
    },
    {
     "name": "stdout",
     "output_type": "stream",
     "text": [
      "Index ประโยคภาษาไทย: 465674\n",
      "ประโยค: เราเตอร์ของฉันอยู่ห่างออกไปไม่ถึง30ฟุตแต่ก่อนหน้านั้นจะทําให้การเชื่อมต่อขาดหาย**\n",
      "Same index: 465674 Value: 18 Rank: 37\n",
      "Sentence: my router is le than 30 foot away but even before that it would sporadically lose connectivity * * * *\n",
      "Minimum index: 147590 Value: 16\n",
      "Sentence: this is a well made product *\n",
      "========================================\n"
     ]
    },
    {
     "name": "stderr",
     "output_type": "stream",
     "text": [
      "\r",
      "264it [09:25,  1.62s/it]"
     ]
    },
    {
     "name": "stdout",
     "output_type": "stream",
     "text": [
      "Index ประโยคภาษาไทย: 347619\n",
      "ประโยค: ไม่ใช่สิ่งที่ฉันคาดหวังแต่เป็นการอ่านที่รวดเร็ว***\n",
      "Same index: 347619 Value: 9 Rank: 0\n",
      "Sentence: not what i wa expecting but a quick read * * * * *\n",
      "Minimum index: 714759 Value: 9\n",
      "Sentence: no kidding i really can not make any risk * * * * *\n",
      "========================================\n"
     ]
    },
    {
     "name": "stderr",
     "output_type": "stream",
     "text": [
      "\r",
      "265it [09:25,  1.33s/it]"
     ]
    },
    {
     "name": "stdout",
     "output_type": "stream",
     "text": [
      "Index ประโยคภาษาไทย: 751197\n",
      "ประโยค: แอนนา โบเดนกับไรอันเฟลคกำกับค่ะ***\n",
      "Same index: 751197 Value: 4 Rank: 0\n",
      "Sentence: anna boden and ryan fleck are the director *\n",
      "Minimum index: 524296 Value: 4\n",
      "Sentence: i leaving at 8.45 * * *\n",
      "========================================\n"
     ]
    },
    {
     "name": "stderr",
     "output_type": "stream",
     "text": [
      "\r",
      "266it [09:28,  1.61s/it]"
     ]
    },
    {
     "name": "stdout",
     "output_type": "stream",
     "text": [
      "Index ประโยคภาษาไทย: 511157\n",
      "ประโยค: เธอเริ่มทานผลิตภัณฑ์เสริมอาหารเมื่อสองปีที่แล้วส่วนหนึ่งเพื่อป้องกันภาวะสมองเสื่อมที่ไม่รุนแรงซึ่งพ่อแม่ที่สูงอายุของเธอประสบ*****\n",
      "Same index: 511157 Value: 21 Rank: 0\n",
      "Sentence: she started taking supplement two year ago partly to stave off mild dementia that affect her elderly parent * * *\n",
      "Minimum index: 368697 Value: 21\n",
      "Sentence: this product doe not work for dog much le smaller dog * * *\n",
      "========================================\n"
     ]
    },
    {
     "name": "stderr",
     "output_type": "stream",
     "text": [
      "\r",
      "267it [09:29,  1.50s/it]"
     ]
    },
    {
     "name": "stdout",
     "output_type": "stream",
     "text": [
      "Index ประโยคภาษาไทย: 493537\n",
      "ประโยค: nเมื่อเขาอยู่ในโรงพยาบาลพยาบาลเอารูปถ่ายแขนเอ็กซเรย์ของเขา*\n",
      "Same index: 493537 Value: 12 Rank: 2\n",
      "Sentence: when he wa in hospital the nurse took an x-ray photograph of his arm\n",
      "Minimum index: 678780 Value: 11\n",
      "Sentence: what time are you looking to get this ride * * * * *\n",
      "========================================\n"
     ]
    },
    {
     "name": "stderr",
     "output_type": "stream",
     "text": [
      "\r",
      "268it [09:29,  1.25s/it]"
     ]
    },
    {
     "name": "stdout",
     "output_type": "stream",
     "text": [
      "Index ประโยคภาษาไทย: 925867\n",
      "ประโยค: ซองเอกสารA4ขาว60 ซองแพ็คONE*\n",
      "Same index: 925867 Value: 7 Rank: 195\n",
      "Sentence: plastic folder a4 white 60pack one one\n",
      "Minimum index: 747660 Value: 5\n",
      "Sentence: yes a medium is still good *\n",
      "========================================\n"
     ]
    },
    {
     "name": "stderr",
     "output_type": "stream",
     "text": [
      "\r",
      "269it [09:30,  1.07s/it]"
     ]
    },
    {
     "name": "stdout",
     "output_type": "stream",
     "text": [
      "Index ประโยคภาษาไทย: 674436\n",
      "ประโยค: โอเคเยี่ยมเลยค่ะสั่งเลยค่ะ\n",
      "Same index: 674436 Value: 13 Rank: 248\n",
      "Sentence: okay that sound good let 's do that * * * * * *\n",
      "Minimum index: 737356 Value: 6\n",
      "Sentence: ok have a nice day * *\n",
      "========================================\n"
     ]
    },
    {
     "name": "stderr",
     "output_type": "stream",
     "text": [
      "\r",
      "270it [09:32,  1.31s/it]"
     ]
    },
    {
     "name": "stdout",
     "output_type": "stream",
     "text": [
      "Index ประโยคภาษาไทย: 712510\n",
      "ประโยค: ร้านลาร์ตุสซีโอเคมั้ยคะฉันรู้ว่าคุณค่อนข้างละเอียดนะคุณคงหวังว่าให้ร้านดีพอ***\n",
      "Same index: 712510 Value: 21 Rank: 629\n",
      "Sentence: doe l'artusi sound good to you i know you 're a bit picky when it come to being fancy enough enough\n",
      "Minimum index: 307212 Value: 17\n",
      "Sentence: i know it wa very cheap and thats why the 3 star * *\n",
      "========================================\n"
     ]
    },
    {
     "name": "stderr",
     "output_type": "stream",
     "text": [
      "\r",
      "271it [09:33,  1.11s/it]"
     ]
    },
    {
     "name": "stdout",
     "output_type": "stream",
     "text": [
      "Index ประโยคภาษาไทย: 647130\n",
      "ประโยค: ขนาดไหนคะ****\n",
      "Same index: 647130 Value: 3 Rank: 0\n",
      "Sentence: what size * * * * *\n",
      "Minimum index: 936030 Value: 3\n",
      "Sentence: scotch opp tape * * * * * *\n",
      "========================================\n"
     ]
    },
    {
     "name": "stderr",
     "output_type": "stream",
     "text": [
      "\r",
      "272it [09:34,  1.13s/it]"
     ]
    },
    {
     "name": "stdout",
     "output_type": "stream",
     "text": [
      "Index ประโยคภาษาไทย: 225345\n",
      "ประโยค: พวกเขาเล่นได้ดีกับการเล่นปกติไม่มีการฉีกขาดหรือรั่ว*\n",
      "Same index: 225345 Value: 13 Rank: 61\n",
      "Sentence: they hold up well with normal play there ha n't been any tearing or leaking * * * * * *\n",
      "Minimum index: 311706 Value: 11\n",
      "Sentence: the pillow are comfortable and did not give u any issue * * *\n",
      "========================================\n"
     ]
    },
    {
     "name": "stderr",
     "output_type": "stream",
     "text": [
      "\r",
      "273it [09:36,  1.53s/it]"
     ]
    },
    {
     "name": "stdout",
     "output_type": "stream",
     "text": [
      "Index ประโยคภาษาไทย: 234503\n",
      "ประโยค: เรื่องราวกระโดดจากบุคคลหนึ่งไปอีกคนหนึ่งโดยมีการเตือนน้อยมากและอาจเป็นเรื่องจำเป็นสำหรับเรื่องนี้แต่มันทำให้การอ่านน่าเบื่อ\n",
      "Same index: 234503 Value: 25 Rank: 2\n",
      "Sentence: the story jump from one person to another with very little warning and this is probably necessary for the story but it make reading tedious * * *\n",
      "Minimum index: 673209 Value: 23\n",
      "Sentence: that sound good i will take that\n",
      "========================================\n"
     ]
    },
    {
     "name": "stderr",
     "output_type": "stream",
     "text": [
      "\r",
      "274it [09:37,  1.44s/it]"
     ]
    },
    {
     "name": "stdout",
     "output_type": "stream",
     "text": [
      "Index ประโยคภาษาไทย: 493090\n",
      "ประโยค: เขาได้ยืมเงอนจากธนาคารไปแล้ว******\n",
      "Same index: 493090 Value: 7 Rank: 0\n",
      "Sentence: already he had begun borrowing from the bank * * * * * *\n",
      "Minimum index: 794728 Value: 7\n",
      "Sentence: pull to the left * * *\n",
      "========================================\n"
     ]
    },
    {
     "name": "stderr",
     "output_type": "stream",
     "text": [
      "\r",
      "275it [09:38,  1.20s/it]"
     ]
    },
    {
     "name": "stdout",
     "output_type": "stream",
     "text": [
      "Index ประโยคภาษาไทย: 711056\n",
      "ประโยค: หักเงินจากบัตรเลยนะคะ*\n",
      "Same index: 711056 Value: 9 Rank: 309\n",
      "Sentence: the bill will be put on your card okay * * * * *\n",
      "Minimum index: 671560 Value: 5\n",
      "Sentence: normal cook is fine * * *\n",
      "========================================\n"
     ]
    },
    {
     "name": "stderr",
     "output_type": "stream",
     "text": [
      "\r",
      "276it [09:40,  1.36s/it]"
     ]
    },
    {
     "name": "stdout",
     "output_type": "stream",
     "text": [
      "Index ประโยคภาษาไทย: 128280\n",
      "ประโยค: มีแรงฉุดที่ดีในสภาพที่เปียกป้องกันได้ดีด้วยค่ะแต่ไม่เหมาะสำหรับการเดินระยะไกล**\n",
      "Same index: 128280 Value: 17 Rank: 0\n",
      "Sentence: they have excellent traction in wet condition they protect very well but is not meant for extended walking distance * *\n",
      "Minimum index: 473409 Value: 17\n",
      "Sentence: the sound is good but just be aware it 's not what you 're expecting * * * * * *\n",
      "========================================\n"
     ]
    },
    {
     "name": "stderr",
     "output_type": "stream",
     "text": [
      "\r",
      "277it [09:40,  1.12s/it]"
     ]
    },
    {
     "name": "stdout",
     "output_type": "stream",
     "text": [
      "Index ประโยคภาษาไทย: 920449\n",
      "ประโยค: แถมกระดานแพลนเนอร์แม่เหล็ก 43x585 ซม ONE PCWBK12317 SD*****\n",
      "Same index: 920449 Value: 2 Rank: 0\n",
      "Sentence: one pcwb-k1-2317 sd magnetic dry eraser calendar board * * * * * *\n",
      "Minimum index: 299019 Value: 2\n",
      "Sentence: highly recommend * * * * *\n",
      "========================================\n"
     ]
    },
    {
     "name": "stderr",
     "output_type": "stream",
     "text": [
      "\r",
      "278it [09:42,  1.31s/it]"
     ]
    },
    {
     "name": "stdout",
     "output_type": "stream",
     "text": [
      "Index ประโยคภาษาไทย: 464622\n",
      "ประโยค: ฉันซื้อของเล่นนี้ในร้านค้าและเราชอบมากซื้ออีกหนึ่งชิ้นเพื่อส่งมอบในช่วงคริสต์มาส**\n",
      "Same index: 464622 Value: 16 Rank: 0\n",
      "Sentence: i had purchased this toy in a store and we loved it bought another one to be delivered at christmas time\n",
      "Minimum index: 222661 Value: 16\n",
      "Sentence: i bought one in green to match my ipod * * * * *\n",
      "========================================\n"
     ]
    },
    {
     "name": "stderr",
     "output_type": "stream",
     "text": [
      "\r",
      "279it [09:44,  1.61s/it]"
     ]
    },
    {
     "name": "stdout",
     "output_type": "stream",
     "text": [
      "Index ประโยคภาษาไทย: 878499\n",
      "ประโยค: อย่าเพียงแค่ถ่ายภาพเพราะคุณสามารถสแกนภาพให้เป็นรูปดิจิทัลได้อย่างคมชัดด้วยระบบการตรวจจับขอบภาพอัตโนมัติการแก้ไขมุมมองและการหมุนอัจฉริยะ\n",
      "Same index: 878499 Value: 27 Rank: 54\n",
      "Sentence: don t just take a picture of a picture create enhanced digital scan with automatic edge detection perspective correction and smart rotation * * * * * *\n",
      "Minimum index: 354745 Value: 25\n",
      "Sentence: the picture is not the best but it doe have good detail * *\n",
      "========================================\n"
     ]
    },
    {
     "name": "stderr",
     "output_type": "stream",
     "text": [
      "\r",
      "280it [09:46,  1.69s/it]"
     ]
    },
    {
     "name": "stdout",
     "output_type": "stream",
     "text": [
      "Index ประโยคภาษาไทย: 265757\n",
      "ประโยค: คนนี้ยังคงโอเคแต่มันหายไปจากสิ่งที่หนังสือบางเล่มมีในหน้าเว็บของพวกเขา*\n",
      "Same index: 265757 Value: 16 Rank: 0\n",
      "Sentence: this one 's still ok but it is missing what some book had on their web page * * * *\n",
      "Minimum index: 265757 Value: 16\n",
      "Sentence: this one 's still ok but it is missing what some book had on their web page * * * *\n",
      "========================================\n"
     ]
    },
    {
     "name": "stderr",
     "output_type": "stream",
     "text": [
      "\r",
      "281it [09:48,  1.55s/it]"
     ]
    },
    {
     "name": "stdout",
     "output_type": "stream",
     "text": [
      "Index ประโยคภาษาไทย: 53571\n",
      "ประโยค: และอย่าบอกฉันทำสิ่งถูกพวกเขาต้องดูแลลูกค้า***\n",
      "Same index: 53571 Value: 8 Rank: 0\n",
      "Sentence: and dont tell me do thing right they should take care of customer *\n",
      "Minimum index: 53571 Value: 8\n",
      "Sentence: and dont tell me do thing right they should take care of customer *\n",
      "========================================\n"
     ]
    },
    {
     "name": "stderr",
     "output_type": "stream",
     "text": [
      "\r",
      "282it [09:48,  1.27s/it]"
     ]
    },
    {
     "name": "stdout",
     "output_type": "stream",
     "text": [
      "Index ประโยคภาษาไทย: 955443\n",
      "ประโยค: ตลับหมึกโทนเนอร์สีดำCanon337**\n",
      "Same index: 955443 Value: 5 Rank: 0\n",
      "Sentence: toner cartridge black canon 337 337 * * * *\n",
      "Minimum index: 526351 Value: 5\n",
      "Sentence: ha she moved out out * *\n",
      "========================================\n"
     ]
    },
    {
     "name": "stderr",
     "output_type": "stream",
     "text": [
      "\r",
      "283it [09:49,  1.09s/it]"
     ]
    },
    {
     "name": "stdout",
     "output_type": "stream",
     "text": [
      "Index ประโยคภาษาไทย: 394363\n",
      "ประโยค: พวกเขามาถึงในวันแรกที่คาดหวัง\n",
      "Same index: 394363 Value: 4 Rank: 0\n",
      "Sentence: they arrived on the earliest day expected\n",
      "Minimum index: 394363 Value: 4\n",
      "Sentence: they arrived on the earliest day expected\n",
      "========================================\n"
     ]
    },
    {
     "name": "stderr",
     "output_type": "stream",
     "text": [
      "\r",
      "284it [09:49,  1.06it/s]"
     ]
    },
    {
     "name": "stdout",
     "output_type": "stream",
     "text": [
      "Index ประโยคภาษาไทย: 654617\n",
      "ประโยค: ไม่ล่ะปกติ****\n",
      "Same index: 654617 Value: 4 Rank: 42\n",
      "Sentence: none just standard standard * * *\n",
      "Minimum index: 686402 Value: 2\n",
      "Sentence: no way * * * * *\n",
      "========================================\n"
     ]
    },
    {
     "name": "stderr",
     "output_type": "stream",
     "text": [
      "\r",
      "285it [09:51,  1.03s/it]"
     ]
    },
    {
     "name": "stdout",
     "output_type": "stream",
     "text": [
      "Index ประโยคภาษาไทย: 757600\n",
      "ประโยค: แบบไหนที่คนสั่งกันมากสุด******\n",
      "Same index: 757600 Value: 14 Rank: 488\n",
      "Sentence: which is the normal kind everyone get\n",
      "Minimum index: 694294 Value: 7\n",
      "Sentence: may i confirm your order now *\n",
      "========================================\n"
     ]
    },
    {
     "name": "stderr",
     "output_type": "stream",
     "text": [
      "\r",
      "286it [09:54,  1.80s/it]"
     ]
    },
    {
     "name": "stdout",
     "output_type": "stream",
     "text": [
      "Index ประโยคภาษาไทย: 108575\n",
      "ประโยค: สิ่งเดียวที่ฉันจะบ่นคือแบตเตอรี่อยู่ได้ไม่นานมากและมันง่ายสำหรับพวกเขาที่จะตื่นตอนกลางคืนถ้าไม่ได้เฝ้าแต่ฉันคิดว่าพวกมันราคาถูกกว่าเปลี่ยนหลอดไฟทั้งหมด*****\n",
      "Same index: 108575 Value: 35 Rank: 72\n",
      "Sentence: my only complaint would be the battery do n't last very long and it 's easy for them to get up during the night if not watched.but i guess they are cheaper than replacing all those darn bulb * * * *\n",
      "Minimum index: 180266 Value: 33\n",
      "Sentence: it is much cheaper than buying at walmart and it doe come with two in a pack * * * *\n",
      "========================================\n"
     ]
    },
    {
     "name": "stderr",
     "output_type": "stream",
     "text": [
      "\r",
      "287it [09:56,  1.82s/it]"
     ]
    },
    {
     "name": "stdout",
     "output_type": "stream",
     "text": [
      "Index ประโยคภาษาไทย: 69425\n",
      "ประโยค: แต่ไม่เลยนี่มันสายเชื่อมสำหรับกล้องยี่ห้ออื่นซึ่งผลิตออกมาต่างกับของฉัน****\n",
      "Same index: 69425 Value: 17 Rank: 25\n",
      "Sentence: but no this is the connector for some different brand of camera that 's made differently than mine * * *\n",
      "Minimum index: 332128 Value: 15\n",
      "Sentence: so do n't make the mistake i did * * * * * *\n",
      "========================================\n"
     ]
    },
    {
     "name": "stderr",
     "output_type": "stream",
     "text": [
      "\r",
      "288it [09:59,  2.01s/it]"
     ]
    },
    {
     "name": "stdout",
     "output_type": "stream",
     "text": [
      "Index ประโยคภาษาไทย: 957967\n",
      "ประโยค: ประเภทMANUALLENSสีBLACKระยะโฟกัส75MMรูรับแสงกว้างสุดF35 MM รูรับแสงแคบสุดF22 MM องค์ประกอบเลนส์5 GROUPE 6 SLICESจำนวนของม่านรับแสง6ระบบช่วยโฟกัสFOCUSRING**\n",
      "Same index: 957967 Value: 29 Rank: 804\n",
      "Sentence: type manual lens color black focus range 7.5 mm maximum aperture f3.5 mm super narrow aperture f22 mm lens element 5 groupe 6 slice number of light curtain 6 focusing system focus ring ring *\n",
      "Minimum index: 819264 Value: 23\n",
      "Sentence: i want a light roast * *\n",
      "========================================\n"
     ]
    },
    {
     "name": "stderr",
     "output_type": "stream",
     "text": [
      "\r",
      "289it [09:59,  1.59s/it]"
     ]
    },
    {
     "name": "stdout",
     "output_type": "stream",
     "text": [
      "Index ประโยคภาษาไทย: 711568\n",
      "ประโยค: มีที่อยู่มั้ยคะ***\n",
      "Same index: 711568 Value: 5 Rank: 88\n",
      "Sentence: do you have the address * *\n",
      "Minimum index: 504776 Value: 3\n",
      "Sentence: got any match * * * *\n",
      "========================================\n"
     ]
    },
    {
     "name": "stderr",
     "output_type": "stream",
     "text": [
      "\r",
      "290it [10:02,  1.81s/it]"
     ]
    },
    {
     "name": "stdout",
     "output_type": "stream",
     "text": [
      "Index ประโยคภาษาไทย: 600093\n",
      "ประโยค: นอกจากนี้ยังใช้คูปองและรหัสโปรโมชั่นหนังสือล่วงหน้าซื้อตั๋วของสายการบินเอทิฮัดในราคาที่ต่ำสำหรับการประหยัดเพิ่มขึ้นอีก******\n",
      "Same index: 600093 Value: 16 Rank: 0\n",
      "Sentence: also use coupon and promotional code book in advance buy etihad airway ticket at low price for even greater saving * *\n",
      "Minimum index: 600093 Value: 16\n",
      "Sentence: also use coupon and promotional code book in advance buy etihad airway ticket at low price for even greater saving * *\n",
      "========================================\n"
     ]
    },
    {
     "name": "stderr",
     "output_type": "stream",
     "text": [
      "\r",
      "291it [10:03,  1.82s/it]"
     ]
    },
    {
     "name": "stdout",
     "output_type": "stream",
     "text": [
      "Index ประโยคภาษาไทย: 424311\n",
      "ประโยค: หากคุณสามารถทําให้อุปกรณ์นี้ทํางานได้มันก็คุ้มค่าที่จะใช้******\n",
      "Same index: 424311 Value: 13 Rank: 0\n",
      "Sentence: if you can get this device to work right then it 's worth spending it * * * * * *\n",
      "Minimum index: 284762 Value: 13\n",
      "Sentence: a couple of the track did n't work * * * * * *\n",
      "========================================\n"
     ]
    },
    {
     "name": "stderr",
     "output_type": "stream",
     "text": [
      "\r",
      "292it [10:06,  2.21s/it]"
     ]
    },
    {
     "name": "stdout",
     "output_type": "stream",
     "text": [
      "Index ประโยคภาษาไทย: 439454\n",
      "ประโยค: มีบทไม่กี่บทที่จัดการเรื่องบางส่วนของพล็อตเรื่องแต่ส่วนใหญ่ดูเหมือนว่าผู้เขียนอยากจะทําทุกอย่างที่เธอเริ่มทําเพื่อที่จะได้รับข้อความของเธอ******\n",
      "Same index: 439454 Value: 28 Rank: 63\n",
      "Sentence: a few chapter did manage some semblance of plot but for the most part it seemed the writer just wanted to finish whatever page she had started on in order to get her message over with * * * * * *\n",
      "Minimum index: 594903 Value: 25\n",
      "Sentence: in this case the client would like to produce two kind of siew mai with one machine * * * *\n",
      "========================================\n"
     ]
    },
    {
     "name": "stderr",
     "output_type": "stream",
     "text": [
      "\r",
      "293it [10:08,  1.95s/it]"
     ]
    },
    {
     "name": "stdout",
     "output_type": "stream",
     "text": [
      "Index ประโยคภาษาไทย: 305043\n",
      "ประโยค: ตัวละครดีและดูเหมือนจะเป็นเพื่อนได้อย่างรวดเร็ว*****\n",
      "Same index: 305043 Value: 8 Rank: 0\n",
      "Sentence: the character were good and seemed to become friend very quickly * * *\n",
      "Minimum index: 321558 Value: 8\n",
      "Sentence: good company in usa bad china made product * * * * * *\n",
      "========================================\n"
     ]
    },
    {
     "name": "stderr",
     "output_type": "stream",
     "text": [
      "\r",
      "294it [10:08,  1.56s/it]"
     ]
    },
    {
     "name": "stdout",
     "output_type": "stream",
     "text": [
      "Index ประโยคภาษาไทย: 273310\n",
      "ประโยค: พวกเขาเพียงเลื่อนเข้าที่***\n",
      "Same index: 273310 Value: 5 Rank: 89\n",
      "Sentence: they simply slide right into place *\n",
      "Minimum index: 136586 Value: 3\n",
      "Sentence: just a expected * * * *\n",
      "========================================\n"
     ]
    },
    {
     "name": "stderr",
     "output_type": "stream",
     "text": [
      "\r",
      "295it [10:10,  1.66s/it]"
     ]
    },
    {
     "name": "stdout",
     "output_type": "stream",
     "text": [
      "Index ประโยคภาษาไทย: 518411\n",
      "ประโยค: ฉันรู้สึกเหมือนยกโลกออกจากบ่าของฉันนางแมคคอร์วี่กล่าวในการแถลงข่าวที่เมืองดัลลัส******\n",
      "Same index: 518411 Value: 17 Rank: 538\n",
      "Sentence: i feel like the weight of the world ha been lifted from my shoulder ms. mccorvey said at a downtown dallas news conference * * * * *\n",
      "Minimum index: 395814 Value: 12\n",
      "Sentence: we have always loved willie nelson * *\n",
      "========================================\n"
     ]
    },
    {
     "name": "stderr",
     "output_type": "stream",
     "text": [
      "\r",
      "296it [10:12,  1.53s/it]"
     ]
    },
    {
     "name": "stdout",
     "output_type": "stream",
     "text": [
      "Index ประโยคภาษาไทย: 574656\n",
      "ประโยค: ผู้เยี่ยมชมไซต์แบรนด์อุปกรณ์เชื่อมต่ออินเทอร์เน็ตรุ่นและระบบปฏิบัติการ****\n",
      "Same index: 574656 Value: 14 Rank: 474\n",
      "Sentence: site visitor internet connection device brand model and o o\n",
      "Minimum index: 580003 Value: 9\n",
      "Sentence: more visit the zappos clearance category to save up to 20 * * * *\n",
      "========================================\n"
     ]
    },
    {
     "name": "stderr",
     "output_type": "stream",
     "text": [
      "\r",
      "297it [10:18,  3.11s/it]"
     ]
    },
    {
     "name": "stdout",
     "output_type": "stream",
     "text": [
      "Index ประโยคภาษาไทย: 6987\n",
      "ประโยค: รายงานการสืบสวนของแอสโซซิเอทเต็ดเพรสที่ชนะรางวัลพูลิตเซอร์ในพศ 25582559ได้เปิดเผยการละเมิดสิทธิ์อย่างรุนแรงซึ่งส่งผลกระทบต่อแรงงานอพยพในอุตสาหกรรมการทำประมงและอาหารทะเลของประเทศไทยและช่วยเน้นความสนใจไปที่ปัญหานั้นเรื่องราวดังกล่าวช่วยปลดปล่อยชายที่ถูกกดขี่กว่า2000คนจากประเทศพม่ากัมพูชาลาวและไทยรวมถึงนำไปสู่การจับกุมผู้ต้องหากว่าสิบรายมีการแก้ไขกฎหมายของสหรัฐอเมริกาและกระตุ้นให้มีการฟ้องร้องดำเนินคดีเพื่อหาทางแก้ไข*****\n",
      "Same index: 6987 Value: 58 Rank: 0\n",
      "Sentence: a pulitzer prize-winning associated press ap investigation in 2015-16 uncovered severe right abuse affecting migrant worker in thailand s fishing and seafood industry and helped focus attention on the problem the story helped free more than 2,000 enslaved men from burma cambodia lao and thailand and led to more than a dozen arrest amended u.s. law and spurred lawsuit seeking redress * * * * *\n",
      "Minimum index: 6987 Value: 58\n",
      "Sentence: a pulitzer prize-winning associated press ap investigation in 2015-16 uncovered severe right abuse affecting migrant worker in thailand s fishing and seafood industry and helped focus attention on the problem the story helped free more than 2,000 enslaved men from burma cambodia lao and thailand and led to more than a dozen arrest amended u.s. law and spurred lawsuit seeking redress * * * * *\n",
      "========================================\n"
     ]
    },
    {
     "name": "stderr",
     "output_type": "stream",
     "text": [
      "\r",
      "298it [10:19,  2.37s/it]"
     ]
    },
    {
     "name": "stdout",
     "output_type": "stream",
     "text": [
      "Index ประโยคภาษาไทย: 790736\n",
      "ประโยค: 1920โอเคขอบคุณค่ะ***\n",
      "Same index: 790736 Value: 2 Rank: 0\n",
      "Sentence: 1920 okay thank you * * *\n",
      "Minimum index: 790736 Value: 2\n",
      "Sentence: 1920 okay thank you * * *\n",
      "========================================\n"
     ]
    },
    {
     "name": "stderr",
     "output_type": "stream",
     "text": [
      "\r",
      "299it [10:20,  1.86s/it]"
     ]
    },
    {
     "name": "stdout",
     "output_type": "stream",
     "text": [
      "Index ประโยคภาษาไทย: 705401\n",
      "ประโยค: เหรอแล้วมีรอบอื่นมั้ย*\n",
      "Same index: 705401 Value: 6 Rank: 8\n",
      "Sentence: is it are there any option *\n",
      "Minimum index: 330533 Value: 5\n",
      "Sentence: have only used once * * *\n",
      "========================================\n"
     ]
    },
    {
     "name": "stderr",
     "output_type": "stream",
     "text": [
      "\r",
      "300it [10:20,  1.49s/it]"
     ]
    },
    {
     "name": "stdout",
     "output_type": "stream",
     "text": [
      "Index ประโยคภาษาไทย: 338098\n",
      "ประโยค: ใช้เวลาน้อยกว่า15 นาที****\n",
      "Same index: 338098 Value: 5 Rank: 75\n",
      "Sentence: took le than 15 minute * *\n",
      "Minimum index: 841827 Value: 3\n",
      "Sentence: yes 6 pm * * * *\n",
      "========================================\n"
     ]
    },
    {
     "name": "stderr",
     "output_type": "stream",
     "text": [
      "\r",
      "301it [10:22,  1.42s/it]"
     ]
    },
    {
     "name": "stdout",
     "output_type": "stream",
     "text": [
      "Index ประโยคภาษาไทย: 386250\n",
      "ประโยค: ฉันจะซื้อทันทีเนื่องจากหนังสือของเขาอ่านได้ง่าย***\n",
      "Same index: 386250 Value: 10 Rank: 6\n",
      "Sentence: i 'd buy it right away since his book are easy light reading *\n",
      "Minimum index: 641052 Value: 9\n",
      "Sentence: that 's good let 's book one for say 7:30 * * * *\n",
      "========================================\n"
     ]
    },
    {
     "name": "stderr",
     "output_type": "stream",
     "text": [
      "\r",
      "302it [10:23,  1.37s/it]"
     ]
    },
    {
     "name": "stdout",
     "output_type": "stream",
     "text": [
      "Index ประโยคภาษาไทย: 307224\n",
      "ประโยค: มันเหมาะกับเตียงของฉันและอยู่ในสถานที่*****\n",
      "Same index: 307224 Value: 6 Rank: 0\n",
      "Sentence: it fit my bed well and stay in place * * * * *\n",
      "Minimum index: 307224 Value: 6\n",
      "Sentence: it fit my bed well and stay in place * * * * *\n",
      "========================================\n"
     ]
    },
    {
     "name": "stderr",
     "output_type": "stream",
     "text": [
      "\r",
      "303it [10:24,  1.34s/it]"
     ]
    },
    {
     "name": "stdout",
     "output_type": "stream",
     "text": [
      "Index ประโยคภาษาไทย: 252541\n",
      "ประโยค: มันหลุดออกมาตลอดเวลาเมื่อใส่ลงในกระเป๋าเสื้อหรือกระเป๋า***\n",
      "Same index: 252541 Value: 13 Rank: 448\n",
      "Sentence: it come off all the time when it 's put into any pocket or bag * * * * * *\n",
      "Minimum index: 296970 Value: 10\n",
      "Sentence: the sol do wear down quickly *\n",
      "========================================\n"
     ]
    },
    {
     "name": "stderr",
     "output_type": "stream",
     "text": [
      "\r",
      "304it [10:25,  1.14s/it]"
     ]
    },
    {
     "name": "stdout",
     "output_type": "stream",
     "text": [
      "Index ประโยคภาษาไทย: 789586\n",
      "ประโยค: มีทเลิฟเวอร์***\n",
      "Same index: 789586 Value: 4 Rank: 1\n",
      "Sentence: meat lover 's * * * *\n",
      "Minimum index: 626912 Value: 3\n",
      "Sentence: no problem enjoy enjoy * * *\n",
      "========================================\n"
     ]
    },
    {
     "name": "stderr",
     "output_type": "stream",
     "text": [
      "\r",
      "305it [10:28,  1.65s/it]"
     ]
    },
    {
     "name": "stdout",
     "output_type": "stream",
     "text": [
      "Index ประโยคภาษาไทย: 608485\n",
      "ประโยค: หลีกเลี่ยงการผิดพลาดในการนั่งอย่างรวดเร็วของคุณไปสู่ความรุ่งโรจน์ในนี้กระทำบรรจุEXTREMEMOTOXท้าทายการควบคุมลูกศรควบคุมMotoพื้นที่หยุดXCVBเทคนิค******\n",
      "Same index: 608485 Value: 23 Rank: 0\n",
      "Sentence: avoid to crash on your fast ride to glory in this action-packed extreme moto x challenge control arrow control moto space stop xcvb trick trick * * *\n",
      "Minimum index: 608485 Value: 23\n",
      "Sentence: avoid to crash on your fast ride to glory in this action-packed extreme moto x challenge control arrow control moto space stop xcvb trick trick * * *\n",
      "========================================\n"
     ]
    },
    {
     "name": "stderr",
     "output_type": "stream",
     "text": [
      "\r",
      "306it [10:28,  1.36s/it]"
     ]
    },
    {
     "name": "stdout",
     "output_type": "stream",
     "text": [
      "Index ประโยคภาษาไทย: 361307\n",
      "ประโยค: อายุ2 ปีของฉันชอบหนังสือเหล่านี้\n",
      "Same index: 361307 Value: 6 Rank: 0\n",
      "Sentence: my 2 year old love these book\n",
      "Minimum index: 778293 Value: 6\n",
      "Sentence: after 5:00 p.m. today * * * *\n",
      "========================================\n"
     ]
    },
    {
     "name": "stderr",
     "output_type": "stream",
     "text": [
      "\r",
      "307it [10:29,  1.14s/it]"
     ]
    },
    {
     "name": "stdout",
     "output_type": "stream",
     "text": [
      "Index ประโยคภาษาไทย: 749059\n",
      "ประโยค: งั้นจองเลยนะคะ***\n",
      "Same index: 749059 Value: 6 Rank: 128\n",
      "Sentence: great let me finish your booking *\n",
      "Minimum index: 96293 Value: 4\n",
      "Sentence: good phone work fine * * *\n",
      "========================================\n"
     ]
    },
    {
     "name": "stderr",
     "output_type": "stream",
     "text": [
      "\r",
      "308it [10:30,  1.00it/s]"
     ]
    },
    {
     "name": "stdout",
     "output_type": "stream",
     "text": [
      "Index ประโยคภาษาไทย: 474630\n",
      "ประโยค: แต่ตอนนี้มีสิ่งใหม่เกิดขึ้น**\n",
      "Same index: 474630 Value: 6 Rank: 122\n",
      "Sentence: but now there are new thing happening\n",
      "Minimum index: 55366 Value: 4\n",
      "Sentence: we gave ours away * * *\n",
      "========================================\n"
     ]
    },
    {
     "name": "stderr",
     "output_type": "stream",
     "text": [
      "\r",
      "309it [10:30,  1.13it/s]"
     ]
    },
    {
     "name": "stdout",
     "output_type": "stream",
     "text": [
      "Index ประโยคภาษาไทย: 515809\n",
      "ประโยค: เราไม่ต้องการแผนบรรเทาภาษีเล็กๆ น้อยๆ*\n",
      "Same index: 515809 Value: 9 Rank: 305\n",
      "Sentence: we do n't need a little bitty tax relief plan * * * *\n",
      "Minimum index: 446477 Value: 6\n",
      "Sentence: but that mean le heat capacity *\n",
      "========================================\n"
     ]
    },
    {
     "name": "stderr",
     "output_type": "stream",
     "text": [
      "\r",
      "310it [10:33,  1.31s/it]"
     ]
    },
    {
     "name": "stdout",
     "output_type": "stream",
     "text": [
      "Index ประโยคภาษาไทย: 595223\n",
      "ประโยค: ตอนนี้คุณสามารถจับคู่ตัวเรือนHermèsสุดคลาสสิกกับสายHermèsแบบใดก็ได้เพื่อสร้างสรรค์สไตล์อันเป็นเอกลักษณ์*****\n",
      "Same index: 595223 Value: 20 Rank: 0\n",
      "Sentence: now you can pair the classic hermès case with any hermès band to create a signature style * * * *\n",
      "Minimum index: 595223 Value: 20\n",
      "Sentence: now you can pair the classic hermès case with any hermès band to create a signature style * * * *\n",
      "========================================\n"
     ]
    },
    {
     "name": "stderr",
     "output_type": "stream",
     "text": [
      "\r",
      "311it [10:34,  1.29s/it]"
     ]
    },
    {
     "name": "stdout",
     "output_type": "stream",
     "text": [
      "Index ประโยคภาษาไทย: 828793\n",
      "ประโยค: มีรถลิฟต์นั่งส่วนตัวกับเอ็กซ์แอลนั่งได้กว้างเป็นพิเศษค่ะ*\n",
      "Same index: 828793 Value: 11 Rank: 0\n",
      "Sentence: there is lyft a personal ride and xl supersized ride * * * *\n",
      "Minimum index: 205368 Value: 11\n",
      "Sentence: the auto focus is very fast and accurate * * * * * *\n",
      "========================================\n"
     ]
    },
    {
     "name": "stderr",
     "output_type": "stream",
     "text": [
      "\r",
      "312it [10:36,  1.42s/it]"
     ]
    },
    {
     "name": "stdout",
     "output_type": "stream",
     "text": [
      "Index ประโยคภาษาไทย: 119595\n",
      "ประโยค: หลังจากลองใช้อแดปเตอร์หลายแบบกับเสาอากาศรับคลื่นวิทยุที่คล้ายกันทุกอย่างก็ทำงานได้ดี****\n",
      "Same index: 119595 Value: 16 Rank: 41\n",
      "Sentence: after trying to use a different type adapter on a similar radio antenna all worked fine * * * * *\n",
      "Minimum index: 756244 Value: 14\n",
      "Sentence: they have a showing at 8:00 will that work * * * * *\n",
      "========================================\n"
     ]
    },
    {
     "name": "stderr",
     "output_type": "stream",
     "text": [
      "\r",
      "313it [10:36,  1.19s/it]"
     ]
    },
    {
     "name": "stdout",
     "output_type": "stream",
     "text": [
      "Index ประโยคภาษาไทย: 811174\n",
      "ประโยค: ขอจองที่ได้ไหมคะ**\n",
      "Same index: 811174 Value: 5 Rank: 5\n",
      "Sentence: can i make a reservation please *\n",
      "Minimum index: 669834 Value: 4\n",
      "Sentence: ok hold one.moment.please * * * *\n",
      "========================================\n"
     ]
    },
    {
     "name": "stderr",
     "output_type": "stream",
     "text": [
      "\r",
      "314it [10:38,  1.38s/it]"
     ]
    },
    {
     "name": "stdout",
     "output_type": "stream",
     "text": [
      "Index ประโยคภาษาไทย: 209049\n",
      "ประโยค: เราซื้อสองสิ่งนี้เพื่อช่วยให้ระบบความบันเทิงขนาดใหญ่ของเราเย็นลง******\n",
      "Same index: 209049 Value: 11 Rank: 0\n",
      "Sentence: we bought two of these to help cool our large entertainment system * *\n",
      "Minimum index: 209049 Value: 11\n",
      "Sentence: we bought two of these to help cool our large entertainment system * *\n",
      "========================================\n"
     ]
    },
    {
     "name": "stderr",
     "output_type": "stream",
     "text": [
      "\r",
      "315it [10:39,  1.17s/it]"
     ]
    },
    {
     "name": "stdout",
     "output_type": "stream",
     "text": [
      "Index ประโยคภาษาไทย: 321851\n",
      "ประโยค: ฉันประทับใจคุณโคลเตอร์มาโดยตลอด****\n",
      "Same index: 321851 Value: 6 Rank: 130\n",
      "Sentence: i 've always been impressed by ms. coulter * * * * * *\n",
      "Minimum index: 821253 Value: 3\n",
      "Sentence: yes i am * * * *\n",
      "========================================\n"
     ]
    },
    {
     "name": "stderr",
     "output_type": "stream",
     "text": [
      "\r",
      "316it [10:39,  1.03s/it]"
     ]
    },
    {
     "name": "stdout",
     "output_type": "stream",
     "text": [
      "Index ประโยคภาษาไทย: 221541\n",
      "ประโยค: ด้วยเหตุนี้ฉันจึงให้3ดาว*\n",
      "Same index: 221541 Value: 5 Rank: 0\n",
      "Sentence: for that reason i 'm giving 3 star * * * * * *\n",
      "Minimum index: 221541 Value: 5\n",
      "Sentence: for that reason i 'm giving 3 star * * * * * *\n",
      "========================================\n"
     ]
    },
    {
     "name": "stderr",
     "output_type": "stream",
     "text": [
      "\r",
      "317it [10:40,  1.10it/s]"
     ]
    },
    {
     "name": "stdout",
     "output_type": "stream",
     "text": [
      "Index ประโยคภาษาไทย: 376708\n",
      "ประโยค: ไม่มีทางแก้ไขได้***\n",
      "Same index: 376708 Value: 7 Rank: 208\n",
      "Sentence: there is no way of fixing that\n",
      "Minimum index: 381100 Value: 3\n",
      "Sentence: not much text though * * *\n",
      "========================================\n"
     ]
    },
    {
     "name": "stderr",
     "output_type": "stream",
     "text": [
      "\r",
      "318it [10:41,  1.21it/s]"
     ]
    },
    {
     "name": "stdout",
     "output_type": "stream",
     "text": [
      "Index ประโยคภาษาไทย: 648951\n",
      "ประโยค: อยู่ถัดจากสนามริกลีย์เลย******\n",
      "Same index: 648951 Value: 7 Rank: 178\n",
      "Sentence: it is right next to wrigley field\n",
      "Minimum index: 878734 Value: 1\n",
      "Sentence: double sided tape askul 1625105 * * * * * *\n",
      "========================================\n"
     ]
    },
    {
     "name": "stderr",
     "output_type": "stream",
     "text": [
      "\r",
      "319it [10:41,  1.28it/s]"
     ]
    },
    {
     "name": "stdout",
     "output_type": "stream",
     "text": [
      "Index ประโยคภาษาไทย: 131809\n",
      "ประโยค: ฉันชอบที่มันดูดี**\n",
      "Same index: 131809 Value: 5 Rank: 3\n",
      "Sentence: i love the way it look *\n",
      "Minimum index: 727203 Value: 4\n",
      "Sentence: i like their sign * * *\n",
      "========================================\n"
     ]
    },
    {
     "name": "stderr",
     "output_type": "stream",
     "text": [
      "\r",
      "320it [10:50,  3.00s/it]"
     ]
    },
    {
     "name": "stdout",
     "output_type": "stream",
     "text": [
      "Index ประโยคภาษาไทย: 902872\n",
      "ประโยค: ให้คุณหนูๆสนุกไปกับประเป๋าเป้ KIPLINGรุ่นMunchinจากคอเลคชั่นGalaxyPartyสุดน่ารักใบนี้ที่มีดีไซน์ขนาดกะทัดรัดแต่เต็มไปด้วยเอกลักษณ์รวมถึงมีคุณสมบัติกันน้ำได้ยิ่งไปกว่านั้นกระเป๋าใบเล็กนี้ยังมาพร้อมพวงกุญแจลิงKiplingซึ่งมั่นใจได้ว่าจะทำให้พวกเขายิ้มได้ตลอดทั้งวันแน่นอนสายสะพายหลังสามารถปรับระดับได้มีหูหิ้วพวงกุญแจลิง Kipling ช่องซิปด้านหน้า 1 ช่องช่องกระเป๋าหลักปิดด้วยซิปโลโก้ Kipling กระเป๋ามีน้ำหนักเบา แข็งแรงทานทาน และเหมาะสำหรับหลากหลายโอกาสขนาด กว้าง X สูง X ลึก 19  165  215 ซม สี Star Swirlคำแนะนำในการดูแลรักษาห้ามซักทำความสะอาดด้วยการเช็ดเพียงอย่างเดียวห้ามรีดห้ามใช้สารฟอกขาวห้ามอบแห้งห้ามซักแห้งหมายเหตุสีของผลิตภัณฑ์ที่แสดงบนเว็บไซต์อาจมีความแตกต่างกันจากการตั้งค่าการแสดงผลของแต่ละหน้าจอ*\n",
      "Same index: 902872 Value: 112 Rank: 983\n",
      "Sentence: kipling s munchin is a fun and colourful mini backpack for kid designed to be strong and durable with a practical water repellent finish munchin is a cute compact kid backpack with plenty of room and a fun kipling monkey that s sure to make them smile all day long adjustable backpack strap top handle kipling furry monkey zipped front pocket zipped main compartment round kipling logo lightweight lasting and always practical dimension 19 16.5 21.5 cm color star swirl look after me do not wash wipe clean only do not iron do not bleach do not tumble dry do not dry clean please note colour of product may differ slightly from actual due to difference in monitor quality\n",
      "Minimum index: 43601 Value: 91\n",
      "Sentence: would have given 5 star if there were better quality picture * * *\n",
      "========================================\n"
     ]
    },
    {
     "name": "stderr",
     "output_type": "stream",
     "text": [
      "\r",
      "321it [10:52,  2.85s/it]"
     ]
    },
    {
     "name": "stdout",
     "output_type": "stream",
     "text": [
      "Index ประโยคภาษาไทย: 406214\n",
      "ประโยค: หนังสือเล่มนี้เรียบง่ายมากและฉันอ่านบทแรกๆสองบทแต่ฉันกลัวเกินกว่าจะลองใช้เทคนิคเพราะมันฟังดูอันตราย*\n",
      "Same index: 406214 Value: 22 Rank: 0\n",
      "Sentence: this book is very basic and i read the first couple of chapter but i 'm too scared to attempt the technique a it sound dangerous * *\n",
      "Minimum index: 406214 Value: 22\n",
      "Sentence: this book is very basic and i read the first couple of chapter but i 'm too scared to attempt the technique a it sound dangerous * *\n",
      "========================================\n"
     ]
    },
    {
     "name": "stderr",
     "output_type": "stream",
     "text": [
      "\r",
      "322it [10:54,  2.55s/it]"
     ]
    },
    {
     "name": "stdout",
     "output_type": "stream",
     "text": [
      "Index ประโยคภาษาไทย: 204486\n",
      "ประโยค: ตอนแรกก็ไม่ได้แย่เพราะกล้องของฉันทำงานปกติยกเว้นเมื่อไม่มีแบตเตอรี่*****\n",
      "Same index: 204486 Value: 20 Rank: 616\n",
      "Sentence: at first that wa n't bad since my camera seems to operate normally except when there is n't a battery around\n",
      "Minimum index: 79885 Value: 14\n",
      "Sentence: it get lukewarm in le than 3 hour not hot * * * *\n",
      "========================================\n"
     ]
    },
    {
     "name": "stderr",
     "output_type": "stream",
     "text": [
      "\r",
      "323it [11:00,  3.63s/it]"
     ]
    },
    {
     "name": "stdout",
     "output_type": "stream",
     "text": [
      "Index ประโยคภาษาไทย: 621556\n",
      "ประโยค: จุดที่สำคัญที่สุดสำหรับการพักผ่อนหย่อนใจของเราเราพัฒนาจะเป็นตัวเลือกใหม่ที่สวยงามและเหมาะกับเฟอร์นิเจอร์ที่สามารถเพิ่มพื้นที่ในขณะที่ให้ความสะดวกสบายและความสะดวกสบายนอกจากนี้เฟอร์นิเจอร์บนระเบียงของวิธีการเล็กๆน้อยๆของคุณควรแนวทางการออกแบบที่ได้รับการแต่งตั้งความสะดวกสบายสูงสุดสามารถให้เฟอร์นิเจอร์ระเบียงดังนั้นโซฟาขนาดเล็กหรือเก้าอี้พับขนาดเล็กทำให้การตกแต่งภายในที่ผ่อนคลายอย่างแท้จริงและที่บ้าน****\n",
      "Same index: 621556 Value: 68 Rank: 0\n",
      "Sentence: the most important point for our recreation we develop will be the selection of a new beautiful and suitable furniture that can maximize space while providing comfort and convenience in addition the furniture on the balcony of your little mean should approach the chosen design maximum comfort is able to give the balcony furniture so a small sofa or a small folding chair make the interior relaxed and truly home\n",
      "Minimum index: 682015 Value: 68\n",
      "Sentence: fine i have made the reservation and forwarding the information to your phone *\n",
      "========================================\n"
     ]
    },
    {
     "name": "stderr",
     "output_type": "stream",
     "text": [
      "\r",
      "324it [11:01,  2.90s/it]"
     ]
    },
    {
     "name": "stdout",
     "output_type": "stream",
     "text": [
      "Index ประโยคภาษาไทย: 711692\n",
      "ประโยค: ฉันถามว่าอยากดูหนังรอบฉายไหนดีคะ***\n",
      "Same index: 711692 Value: 11 Rank: 51\n",
      "Sentence: i 'm asking for which show time you want to go sir * *\n",
      "Minimum index: 434286 Value: 10\n",
      "Sentence: so disappointed right now * * *\n",
      "========================================\n"
     ]
    },
    {
     "name": "stderr",
     "output_type": "stream",
     "text": [
      "\r",
      "325it [11:02,  2.22s/it]"
     ]
    },
    {
     "name": "stdout",
     "output_type": "stream",
     "text": [
      "Index ประโยคภาษาไทย: 797336\n",
      "ประโยค: ได้ค่ะยินดีมากเลย**\n",
      "Same index: 797336 Value: 5 Rank: 4\n",
      "Sentence: alright appreciate that * * * *\n",
      "Minimum index: 130174 Value: 4\n",
      "Sentence: make wonderful frothy milk * * *\n",
      "========================================\n"
     ]
    },
    {
     "name": "stderr",
     "output_type": "stream",
     "text": [
      "\r",
      "326it [11:06,  2.78s/it]"
     ]
    },
    {
     "name": "stdout",
     "output_type": "stream",
     "text": [
      "Index ประโยคภาษาไทย: 100042\n",
      "ประโยค: ระดับการลับมีดของอุปกรณ์นี้ตั้งค่าเริ่มต้นเป็นแบบละเอียดซึ่งลับใบมีดทุกแบบให้คมได้ในเวลาประมาณ3035วินาทีแต่หลังจากนั้นต้องเปลี่ยนเป็นระดับสำหรับเหล็กเกรดดีหรือเกรดสแตนเลสเพราะการลับมีดจะทำได้ช้าลง**\n",
      "Same index: 100042 Value: 44 Rank: 15\n",
      "Sentence: this sharpener put an initial fine bevel on your blade which make everything sharper in about 30-35 second * * *\n",
      "Minimum index: 49266 Value: 42\n",
      "Sentence: the second book i thought would be better but still had some slow point\n",
      "========================================\n"
     ]
    },
    {
     "name": "stderr",
     "output_type": "stream",
     "text": [
      "\r",
      "327it [11:12,  3.85s/it]"
     ]
    },
    {
     "name": "stdout",
     "output_type": "stream",
     "text": [
      "Index ประโยคภาษาไทย: 848740\n",
      "ประโยค: นาฬิกาจากแบรนด์MishaliSpeciticationเที่ยงตรงคงทนด้วยระบบเครื่องMiyotaJapanQuartzสินค้าใหม่ของแท้100พร้อมประกันตัวเครื่อง1ปีเต็มสายสแตนเลสเกรดพรีเมียมสวมใส่สบายความกว้างหน้าปัดขนาด30mmความยาวสายนาฬิกา170mmความกว้างสาย10mmกันน้าได้ระดับ3ATMน้ำกระเซ็น ล้างมือได้การดูแลรักษาควรหลีกเลี่ยงการสัมผัสกับโลชั่นแอลกอฮอล์หรือฉีดพ่นน้ำหอมลงบนนาฬิกาและไม่ควรใส่อาบน้ำ******\n",
      "Same index: 848740 Value: 60 Rank: 0\n",
      "Sentence: japan quartz- new 100 and 1 year warrainty- case stanless steel- strap stanless steel- dial waith 30 mm- long strap 170 mm- wide strap 10 mm- waterproof 3 atm atm * * * * *\n",
      "Minimum index: 848740 Value: 60\n",
      "Sentence: japan quartz- new 100 and 1 year warrainty- case stanless steel- strap stanless steel- dial waith 30 mm- long strap 170 mm- wide strap 10 mm- waterproof 3 atm atm * * * * *\n",
      "========================================\n"
     ]
    },
    {
     "name": "stderr",
     "output_type": "stream",
     "text": [
      "\r",
      "328it [11:13,  2.89s/it]"
     ]
    },
    {
     "name": "stdout",
     "output_type": "stream",
     "text": [
      "Index ประโยคภาษาไทย: 379477\n",
      "ประโยค: ราคาถูกกว่ามากในระยะยาว*\n",
      "Same index: 379477 Value: 7 Rank: 198\n",
      "Sentence: so much cheaper in the long run\n",
      "Minimum index: 225789 Value: 4\n",
      "Sentence: buy something more durable * * *\n",
      "========================================\n"
     ]
    },
    {
     "name": "stderr",
     "output_type": "stream",
     "text": [
      "\r",
      "329it [11:15,  2.56s/it]"
     ]
    },
    {
     "name": "stdout",
     "output_type": "stream",
     "text": [
      "Index ประโยคภาษาไทย: 825981\n",
      "ประโยค: เหมือนว่าเด็กๆจะอยากกินพิซซ่าค่ะเลยอยากจะสั่งจากเบลล่าลูน่าสักหน่อย***\n",
      "Same index: 825981 Value: 19 Rank: 583\n",
      "Sentence: it seems that my kid are in the mood for pizza night so we want to order some from bella luna *\n",
      "Minimum index: 825822 Value: 15\n",
      "Sentence: yeah i need to order an uber please * * * * * *\n",
      "========================================\n"
     ]
    },
    {
     "name": "stderr",
     "output_type": "stream",
     "text": [
      "\r",
      "330it [11:17,  2.35s/it]"
     ]
    },
    {
     "name": "stdout",
     "output_type": "stream",
     "text": [
      "Index ประโยคภาษาไทย: 639619\n",
      "ประโยค: ได้ค่ะฉันใส่ที่ตั้งของอู่ลงไปในจีพีเอสเรียบร้อยแล้วค่ะจะไปถึงที่อู่ก่อนเที่ยงครึ่งค่ะ\n",
      "Same index: 639619 Value: 21 Rank: 159\n",
      "Sentence: ok i have added this address to the gps and will be there before 12:30 12:30 * * * * *\n",
      "Minimum index: 720904 Value: 19\n",
      "Sentence: well that make it even better *\n",
      "========================================\n"
     ]
    },
    {
     "name": "stderr",
     "output_type": "stream",
     "text": [
      "\r",
      "331it [11:18,  2.19s/it]"
     ]
    },
    {
     "name": "stdout",
     "output_type": "stream",
     "text": [
      "Index ประโยคภาษาไทย: 442192\n",
      "ประโยค: ใช้จ่ายเพิ่ม10หรือ20เหรียญและรับสิ่งที่คุณจะมีความสุขมากขึ้นด้วย******\n",
      "Same index: 442192 Value: 12 Rank: 0\n",
      "Sentence: spend the extra 10 or 20 buck and get something you 'll be more happy with * * * * *\n",
      "Minimum index: 442192 Value: 12\n",
      "Sentence: spend the extra 10 or 20 buck and get something you 'll be more happy with * * * * *\n",
      "========================================\n"
     ]
    },
    {
     "name": "stderr",
     "output_type": "stream",
     "text": [
      "\r",
      "332it [11:20,  1.91s/it]"
     ]
    },
    {
     "name": "stdout",
     "output_type": "stream",
     "text": [
      "Index ประโยคภาษาไทย: 766569\n",
      "ประโยค: เยี่ยมเดี๋ยวจะส่งใบเสร็จที่โทรศัพท์นะคะ******\n",
      "Same index: 766569 Value: 8 Rank: 9\n",
      "Sentence: great the receipt will be sent to your phone * * * * *\n",
      "Minimum index: 555216 Value: 7\n",
      "Sentence: they got rehearsal le * * *\n",
      "========================================\n"
     ]
    },
    {
     "name": "stderr",
     "output_type": "stream",
     "text": [
      "\r",
      "333it [11:23,  2.41s/it]"
     ]
    },
    {
     "name": "stdout",
     "output_type": "stream",
     "text": [
      "Index ประโยคภาษาไทย: 914393\n",
      "ประโยค: รองเท้าทำงานแบบสวมพื้นบางสไตล์Loafersตัดเย็บด้วยหนังFullGrainประกอบพื้นส้นแบนแบบCarshoesยาวถึงช่วงส้นเหมาะสำหรับใส่ขับรถรายละเอียดของขนาดป้ายดูแลรักษาผลิตภัณฑ์ทำความสะอาดด้วยผ้าหมาด*****\n",
      "Same index: 914393 Value: 38 Rank: 738\n",
      "Sentence: men sleek driver loafer black full grain leather elasticized inset at the ankle leather sock lining flat driving rubber outsole measurement carelabel clean with damp cloth cloth\n",
      "Minimum index: 174333 Value: 34\n",
      "Sentence: the story wa a little slow to get going but in the end it all worked out * * * *\n",
      "========================================\n"
     ]
    },
    {
     "name": "stderr",
     "output_type": "stream",
     "text": [
      "\r",
      "334it [11:24,  2.06s/it]"
     ]
    },
    {
     "name": "stdout",
     "output_type": "stream",
     "text": [
      "Index ประโยคภาษาไทย: 924621\n",
      "ประโยค: Patrickกลับมาที่แล็ปท็อปของตัวเองเพื่อทำงานในLogicProX**\n",
      "Same index: 924621 Value: 11 Rank: 0\n",
      "Sentence: patrick is back at his laptop working in logic pro x * * *\n",
      "Minimum index: 266272 Value: 11\n",
      "Sentence: i really liked this when it wa working * * * * * *\n",
      "========================================\n"
     ]
    },
    {
     "name": "stderr",
     "output_type": "stream",
     "text": [
      "\r",
      "335it [11:26,  1.82s/it]"
     ]
    },
    {
     "name": "stdout",
     "output_type": "stream",
     "text": [
      "Index ประโยคภาษาไทย: 580978\n",
      "ประโยค: หากเป็นกรณีนี้ตรวจสอบให้มั่นใจว่าคุณใช้เวอร์ชั่นล่าสุดแล้ว*\n",
      "Same index: 580978 Value: 10 Rank: 0\n",
      "Sentence: in this case please make sure you have it latest version * * *\n",
      "Minimum index: 580978 Value: 10\n",
      "Sentence: in this case please make sure you have it latest version * * *\n",
      "========================================\n"
     ]
    },
    {
     "name": "stderr",
     "output_type": "stream",
     "text": [
      "\r",
      "336it [11:27,  1.65s/it]"
     ]
    },
    {
     "name": "stdout",
     "output_type": "stream",
     "text": [
      "Index ประโยคภาษาไทย: 718951\n",
      "ประโยค: โอ้ ใส่แดชกลิ่นราสป์เบอร์รี่ด้วยค่ะเพิ่มความซู่ซ่าให้กับวันนี้*****\n",
      "Same index: 718951 Value: 13 Rank: 440\n",
      "Sentence: ooh let 's add a dash of raspberry in to spice thing up today\n",
      "Minimum index: 942094 Value: 8\n",
      "Sentence: step trash bin 11-liter keep in rw 9285 * * * * * *\n",
      "========================================\n"
     ]
    },
    {
     "name": "stderr",
     "output_type": "stream",
     "text": [
      "\r",
      "337it [11:28,  1.34s/it]"
     ]
    },
    {
     "name": "stdout",
     "output_type": "stream",
     "text": [
      "Index ประโยคภาษาไทย: 500749\n",
      "ประโยค: มนุษย์เอาชนะพวกมันไม่ได้หรอก\n",
      "Same index: 500749 Value: 6 Rank: 0\n",
      "Sentence: man could not conquer them * *\n",
      "Minimum index: 500749 Value: 6\n",
      "Sentence: man could not conquer them * *\n",
      "========================================\n"
     ]
    },
    {
     "name": "stderr",
     "output_type": "stream",
     "text": [
      "\r",
      "338it [11:28,  1.13s/it]"
     ]
    },
    {
     "name": "stdout",
     "output_type": "stream",
     "text": [
      "Index ประโยคภาษาไทย: 245868\n",
      "ประโยค: ผลิตภัณฑ์นี้เหมาะสำหรับเด็กๆ**\n",
      "Same index: 245868 Value: 7 Rank: 191\n",
      "Sentence: this product is great for the kid\n",
      "Minimum index: 481357 Value: 5\n",
      "Sentence: perhaps you 're right * * *\n",
      "========================================\n"
     ]
    },
    {
     "name": "stderr",
     "output_type": "stream",
     "text": [
      "\r",
      "339it [11:29,  1.17s/it]"
     ]
    },
    {
     "name": "stdout",
     "output_type": "stream",
     "text": [
      "Index ประโยคภาษาไทย: 425982\n",
      "ประโยค: สิ่งนี้แทนที่เครื่องพิมพ์HPallinoneเครื่องเก่าของฉัน****\n",
      "Same index: 425982 Value: 12 Rank: 372\n",
      "Sentence: this replaced my old hp all-in-one printer\n",
      "Minimum index: 633164 Value: 9\n",
      "Sentence: could we reserve some treat before we get there * * * * *\n",
      "========================================\n"
     ]
    },
    {
     "name": "stderr",
     "output_type": "stream",
     "text": [
      "\r",
      "340it [11:30,  1.01s/it]"
     ]
    },
    {
     "name": "stdout",
     "output_type": "stream",
     "text": [
      "Index ประโยคภาษาไทย: 396859\n",
      "ประโยค: ฉันรู้สึกเบื่อกับสิ่งนี้*\n",
      "Same index: 396859 Value: 5 Rank: 0\n",
      "Sentence: i 'm getting tired of this *\n",
      "Minimum index: 530467 Value: 5\n",
      "Sentence: ya had just now.onion roast * *\n",
      "========================================\n"
     ]
    },
    {
     "name": "stderr",
     "output_type": "stream",
     "text": [
      "\r",
      "341it [11:31,  1.07s/it]"
     ]
    },
    {
     "name": "stdout",
     "output_type": "stream",
     "text": [
      "Index ประโยคภาษาไทย: 125168\n",
      "ประโยค: ใช้นี้กับทริปจากDallasTXไปSanAntinioTxใช้งานดีค่ะ\n",
      "Same index: 125168 Value: 14 Rank: 56\n",
      "Sentence: i used this on a trip from dallas tx to san antonio tx * * * *\n",
      "Minimum index: 764717 Value: 12\n",
      "Sentence: have a good daay daay * *\n",
      "========================================\n"
     ]
    },
    {
     "name": "stderr",
     "output_type": "stream",
     "text": [
      "\r",
      "342it [11:33,  1.14s/it]"
     ]
    },
    {
     "name": "stdout",
     "output_type": "stream",
     "text": [
      "Index ประโยคภาษาไทย: 335724\n",
      "ประโยค: หนังสือเล่มนี้เขียนไม่ดีและอ่านยาก*****\n",
      "Same index: 335724 Value: 10 Rank: 291\n",
      "Sentence: the book is not well written and it 's hard to read * *\n",
      "Minimum index: 510657 Value: 7\n",
      "Sentence: bed beach and lawn are good for reading * * * * * *\n",
      "========================================\n"
     ]
    },
    {
     "name": "stderr",
     "output_type": "stream",
     "text": [
      "\r",
      "343it [11:37,  2.02s/it]"
     ]
    },
    {
     "name": "stdout",
     "output_type": "stream",
     "text": [
      "Index ประโยคภาษาไทย: 555\n",
      "ประโยค: การกระทำที่ก้าวร้าวของจีนในภูมิภาคซึ่งเป็นเส้นทางการค้าที่มีมูลค่ามากกว่า5 ล้านล้านดอลลาร์สหรัฐฯประมาณ175 ล้านล้านบาทต่อปีได้สร้างความโกรธเคืองต่อหลายๆประเทศในเอเชียตะวันออกเฉียงใต้รวมถึงเวียดนามและฟิลิปปินส์และประเทศอื่นๆที่มีผลประโยชน์ในการอ้างสิทธิเหนืออาณาเขตในทะเลจีนใต้**\n",
      "Same index: 555 Value: 39 Rank: 0\n",
      "Sentence: china s aggressive action in the region through which more than u.s. 5 trillion in trade flow each year have angered several southeast asian nation including vietnam and the philippine which among other nation stake rival claim to territory in the sea *\n",
      "Minimum index: 555 Value: 39\n",
      "Sentence: china s aggressive action in the region through which more than u.s. 5 trillion in trade flow each year have angered several southeast asian nation including vietnam and the philippine which among other nation stake rival claim to territory in the sea *\n",
      "========================================\n"
     ]
    },
    {
     "name": "stderr",
     "output_type": "stream",
     "text": [
      "\r",
      "344it [11:37,  1.61s/it]"
     ]
    },
    {
     "name": "stdout",
     "output_type": "stream",
     "text": [
      "Index ประโยคภาษาไทย: 411379\n",
      "ประโยค: ขออภัยที่ไม่ได้ทําเพื่อฉัน\n",
      "Same index: 411379 Value: 14 Rank: 324\n",
      "Sentence: sorry just did n't do it for me * * * * * *\n",
      "Minimum index: 743939 Value: 6\n",
      "Sentence: what why not * * * *\n",
      "========================================\n"
     ]
    },
    {
     "name": "stderr",
     "output_type": "stream",
     "text": [
      "\r",
      "345it [11:40,  2.00s/it]"
     ]
    },
    {
     "name": "stdout",
     "output_type": "stream",
     "text": [
      "Index ประโยคภาษาไทย: 985549\n",
      "ประโยค: ช้างศึก ช้างศึก คือช้างที่มนุษย์ฝึกปรือและควบคุมเพื่อการต่อสู้ช้างศึกใช้เป็นหลักในการบุกข้าศึกทำลายสิ่งกีดขวางของข้าศึกหรือสร้างความหวาดกลัวให้แก่ข้าศึกหน่วยทหารที่ขี่ช้างในการรบเรียกว่าหน่วยทหารช้างelephantry*\n",
      "Same index: 985549 Value: 33 Rank: 98\n",
      "Sentence: a war elephant is an elephant that is trained and guided by human for combat the war elephant 's main use wa to charge the enemy breaking their rank and instilling terror * * *\n",
      "Minimum index: 504254 Value: 31\n",
      "Sentence: are you a married man sir *\n",
      "========================================\n"
     ]
    },
    {
     "name": "stderr",
     "output_type": "stream",
     "text": [
      "\r",
      "346it [11:41,  1.76s/it]"
     ]
    },
    {
     "name": "stdout",
     "output_type": "stream",
     "text": [
      "Index ประโยคภาษาไทย: 680512\n",
      "ประโยค: ใกล้แค่ไหนคะฉันไม่ควรขับรถเลย*****\n",
      "Same index: 680512 Value: 8 Rank: 0\n",
      "Sentence: how close is it i really should n't drive this * * * *\n",
      "Minimum index: 260140 Value: 8\n",
      "Sentence: not good at all * * *\n",
      "========================================\n"
     ]
    },
    {
     "name": "stderr",
     "output_type": "stream",
     "text": [
      "\r",
      "347it [11:43,  1.76s/it]"
     ]
    },
    {
     "name": "stdout",
     "output_type": "stream",
     "text": [
      "Index ประโยคภาษาไทย: 454097\n",
      "ประโยค: นี่เป็นผลิตภัณฑ์ที่มีเพียงสิ่งเดียวเท่านั้นที่สามารถพูดได้ชื่อสากล******\n",
      "Same index: 454097 Value: 11 Rank: 0\n",
      "Sentence: this is a product that can only have one good thing to say the name universal * * * * *\n",
      "Minimum index: 454097 Value: 11\n",
      "Sentence: this is a product that can only have one good thing to say the name universal * * * * *\n",
      "========================================\n"
     ]
    },
    {
     "name": "stderr",
     "output_type": "stream",
     "text": [
      "\r",
      "348it [11:44,  1.43s/it]"
     ]
    },
    {
     "name": "stdout",
     "output_type": "stream",
     "text": [
      "Index ประโยคภาษาไทย: 552696\n",
      "ประโยค: ยืนยันเพื่อนของฉันจะตรวจสอบ*\n",
      "Same index: 552696 Value: 5 Rank: 0\n",
      "Sentence: confirm my friend check le le *\n",
      "Minimum index: 709733 Value: 5\n",
      "Sentence: confirm it please * * * *\n",
      "========================================\n"
     ]
    },
    {
     "name": "stderr",
     "output_type": "stream",
     "text": [
      "\r",
      "349it [11:48,  2.36s/it]"
     ]
    },
    {
     "name": "stdout",
     "output_type": "stream",
     "text": [
      "Index ประโยคภาษาไทย: 194221\n",
      "ประโยค: นี่เป็นหนังที่ดีและฉันนชอบเวอร์ชั่นนี้มากแต่คำวิจารณ์ของฉันคนที่ชอบเวอร์ชั่นต้นฉบับมากกว่าเกี่ยวกับหนังเรื่องนี้คือมันควรจะมีการจัดการกับฉากบางฉากที่ดูน่ากลัวที่ไม่เหมาะสมกับเด็กแต่โดยรวมแล้วมันก็น่าจะดีสำหรับผู้ใหญ่ที่ชื่นชอบความรุนแรง\n",
      "Same index: 194221 Value: 59 Rank: 917\n",
      "Sentence: this is a good movie and i really like this version.the only criticism that i have of it a someone who actually prefers the original film ha to do with some rather gruesome scene which are not quite suitable for young child but overall would be fine for any adult viewer except those looking for lot of violence * * * * *\n",
      "Minimum index: 222396 Value: 50\n",
      "Sentence: the only thing lacking is not having a volume control over sound but it 's more about convenience than sound quality\n",
      "========================================\n"
     ]
    },
    {
     "name": "stderr",
     "output_type": "stream",
     "text": [
      "\r",
      "350it [11:50,  2.01s/it]"
     ]
    },
    {
     "name": "stdout",
     "output_type": "stream",
     "text": [
      "Index ประโยคภาษาไทย: 755687\n",
      "ประโยค: เวลา4 โมง30ค่ะวันพุธที่13โอเคมั้ยคะ***\n",
      "Same index: 755687 Value: 10 Rank: 0\n",
      "Sentence: it 's 4:30 pm on wednesday the 13th is that ok * * *\n",
      "Minimum index: 765977 Value: 10\n",
      "Sentence: okay i have your appointment set for wednesday at 9am 9am * * *\n",
      "========================================\n"
     ]
    },
    {
     "name": "stderr",
     "output_type": "stream",
     "text": [
      "\r",
      "351it [11:50,  1.60s/it]"
     ]
    },
    {
     "name": "stdout",
     "output_type": "stream",
     "text": [
      "Index ประโยคภาษาไทย: 501274\n",
      "ประโยค: ไม่เร็วมากนัก***\n",
      "Same index: 501274 Value: 3 Rank: 0\n",
      "Sentence: not so fast * * * *\n",
      "Minimum index: 808451 Value: 3\n",
      "Sentence: no that is all * * *\n",
      "========================================\n"
     ]
    },
    {
     "name": "stderr",
     "output_type": "stream",
     "text": [
      "\r",
      "352it [11:51,  1.31s/it]"
     ]
    },
    {
     "name": "stdout",
     "output_type": "stream",
     "text": [
      "Index ประโยคภาษาไทย: 705888\n",
      "ประโยค: ไมค์โจนส์2813308004**\n",
      "Same index: 705888 Value: 5 Rank: 0\n",
      "Sentence: mike jones 281-330-8004 281-330-8004 * * * *\n",
      "Minimum index: 262164 Value: 5\n",
      "Sentence: you 'll like it * * *\n",
      "========================================\n"
     ]
    },
    {
     "name": "stderr",
     "output_type": "stream",
     "text": [
      "\r",
      "353it [11:55,  2.20s/it]"
     ]
    },
    {
     "name": "stdout",
     "output_type": "stream",
     "text": [
      "Index ประโยคภาษาไทย: 979039\n",
      "ประโยค: พิจารณาตัวอย่างต้นแบบของNbeccarianaและหมายเหตุถึงความแตกต่างที่สำคัญระหว่างNbeccarianaและNmirabilisเป็นการแสดงถึงว่ามันเป็นชนิดที่แตกต่างกันอย่างชัดเจนในหนังสือ Nepenthes of Sumatra and Peninsular Malaysia หม้อข้าวหม้อแกงลิงแห่งสุมาตราและเพนนิซูล่า มาเลเซีย ชาร์ลส์ คลาร์ก Charles Clarke เห็นด้วยที่ N beccariana แตกต่างจาก N mirabilis และ N sumatranaแต่หมายเหตุไว้ว่าถ้าNbeccarianaเป็นชนิดเดียวกับN longifolia จะทำให้ N longifolia กลายเป็นชื่อพ้องเฮเทอโรไทปิกของ N beccariana******\n",
      "Same index: 979039 Value: 73 Rank: 944\n",
      "Sentence: in 2000 jan schlauer and c. nepi examined the type specimen of n. beccariana and noted significant difference between it and n. mirabilis suggesting that it should be restored a a distinct specie in nepenthes of sumatra and peninsular malaysia charles clarke agreed that n. beccariana appears to be distinct from both n. mirabilis and n. sumatrana but noted that if n. beccariana is found to be conspecific with n. longifolia the latter taxon would become a heterotypic synonym of the former * * * * * *\n",
      "Minimum index: 438594 Value: 39\n",
      "Sentence: this make reading it a difficult or difficult a it should be * *\n",
      "========================================\n"
     ]
    },
    {
     "name": "stderr",
     "output_type": "stream",
     "text": [
      "\r",
      "354it [12:05,  4.63s/it]"
     ]
    },
    {
     "name": "stdout",
     "output_type": "stream",
     "text": [
      "Index ประโยคภาษาไทย: 862198\n",
      "ประโยค: ยกระดับความมั่นใจให้กับทุกย่างก้าวของคุณด้วยชุดกระโปรงแขนสั้นจากGILIตัดเย็บด้วยดีไซน์เรียบง่ายแต่โดดเด่นทรงกระโปรงยาวปลายแขนระบายมาพร้อมเอวแบบรูดเพื่อเพิ่มความสบายให้คุณสามารถสวมใส่ได้ทั้งวันทำงานหรือวันหยุดพักผ่อนพิเศษๆของคุณผลิตจากวัสดุคุณภาพดีสวมใส่สบายไม่ระคายผิวสีเขียวไซส์Mรอบอก3975นิ้วความยาว435นิ้วความยาวแขนเสื้อ5125นิ้วแขนเสื้อแขนสั้นความยาวยาววิธีดูแลรักษาซักเครื่องซักมือซักแห้งมาตรฐานไซส์USเพศผู้หญิงอายุผู้ใหญ่หมายเหตุสีของผลิตภัณฑ์ที่แสดงบนเว็บไซต์อาจมีความแตกต่างกันจากการตั้งค่าการแสดงผลสีของแต่ละหน้าจอ**\n",
      "Same index: 862198 Value: 103 Rank: 0\n",
      "Sentence: boost your confidence with this short sleeve dress with venting arm and drawstring waist from gili it simple elegant design is sure to make the center of attention where ever you go a perfect choice for your special day out made with high-quality material comfortable to wear color green size m bust 39.75 in length 43.5 in sleeve length 5.125 in sleeve level short sleeve length level maxi long care instruction machine wash hand wash dry clean only size standard u gender woman age adult caution in term of item color it may be slightly different from each monitor display and specification\n",
      "Minimum index: 862198 Value: 103\n",
      "Sentence: boost your confidence with this short sleeve dress with venting arm and drawstring waist from gili it simple elegant design is sure to make the center of attention where ever you go a perfect choice for your special day out made with high-quality material comfortable to wear color green size m bust 39.75 in length 43.5 in sleeve length 5.125 in sleeve level short sleeve length level maxi long care instruction machine wash hand wash dry clean only size standard u gender woman age adult caution in term of item color it may be slightly different from each monitor display and specification\n",
      "========================================\n"
     ]
    },
    {
     "name": "stderr",
     "output_type": "stream",
     "text": [
      "\r",
      "355it [12:11,  4.85s/it]"
     ]
    },
    {
     "name": "stdout",
     "output_type": "stream",
     "text": [
      "Index ประโยคภาษาไทย: 975231\n",
      "ประโยค: โดยได้รับการสนับสนุนจากต่างชาตินับตั้งแต่อังกฤษเข้าปกครองลังกามาเป็นเวลากว่า300 ปีจนได้รับอิสรภาพเมื่อพศ2491จากการที่พุทธศาสนาถูกรุกรานเป็นเวลาช้านานจากศาสนาคริสต์ทำให้ชาวลังกามีความมุ่งมานะที่จะฟื้นฟูพุทธศาสนาในลังกาอย่างจริงจังจนปัจจุบันประเทศศรีลังกาได้เป็นประเทศที่มีพระพุทธศาสนาเป็นศาสนาประจำชาติSectionอ้างอิง*****\n",
      "Same index: 975231 Value: 56 Rank: 234\n",
      "Sentence: sri lanka ha the longest continuous history of buddhism of any buddhist nation with the sangha having existed in a largely unbroken lineage since it introduction in the 3rd century bce during period of decline the sri lankan monastic lineage wa revived through contact with burma and thailand section :colonialism and christianity * * * * * *\n",
      "Minimum index: 809155 Value: 49\n",
      "Sentence: cool where do you want to make the appointment at * * * *\n",
      "========================================\n"
     ]
    },
    {
     "name": "stderr",
     "output_type": "stream",
     "text": [
      "\r",
      "356it [12:25,  7.72s/it]"
     ]
    },
    {
     "name": "stdout",
     "output_type": "stream",
     "text": [
      "Index ประโยคภาษาไทย: 953486\n",
      "ประโยค: รีดง่ายเรียบเร็วตอบโจทย์ชีวิตเร่งรีบในปัจจุบันนอกจากจะรีดง่ายแล้วเสื้อเชิ้ตแขนสั้นMARKSSPENCERยังมาพร้อมกับสีสันสดใสและตัดเย็บด้วยผ้าฝ้ายผสมผ้าลินินเบาสบายทำให้คุณดูสมาร์ทแต่ไม่อึดอัดเสื้อเชิ้ตแขนสั้นMARKSSPENCERลักษณะสินค้าเสื้อเชิ้ตแขนสั้นทรงRegularfitวิธีสวมใส่กระดุมหน้าลักษณะของแขนเสื้อแขนสั้นลักษณะของปกเสื้อคลาสสิกมาพร้อมกระเป๋าที่อกด้านซ้ายตัดเย็บด้วยผ้าฝ้ายคุณภาพดีวัสดุ55linen45cottonไซส์SสีTurquoiseคำแนะนำในการดูและรักษาสามารถซักเครื่องได้แม้ในน้ำอุณหภูมิ30องศาเซลเซียสและปั่นแห้งได้หมายเหตุสีของผลิตภัณฑ์ที่แสดงบนเว็บไซต์อาจมีความแตกต่างกันจากการตั้งค่าการแสดงผลสีของแต่ละหน้าจอONLYCENTRALONLINEEXCLUSIVEสีTurquoiseลายลายดอกไซส์SUKวัสดุลินินแขนเสื้อแขนสั้นหมายเหตุสีของผลิตภัณฑ์ที่แสดงบนเว็บไซต์อาจมีความแตกต่างกันจากการตั้งค่าการแสดงผลสีของแต่ละหน้าจอ\n",
      "Same index: 953486 Value: 145 Rank: 0\n",
      "Sentence: this handsome shirt blur the line between smart and comfortable style mark & spencer linen blend easy to iron floral shirt product shape shirt fit regular fit fastening button through sleeve length short sleeve collar type classic collar number of pocket one plan a cotton composition 55 linen 45 cotton size s colour turquoise care instruction machine washable even at 30º tumble dry please note colour of product may differ slightly from actual due to difference in monitor quality. only central onlin e exclusive color turquoise pattern floral size s uk material linen sleeve level short sleeve caution in term of item color it may be slightly different from each monitor display and specification * * * *\n",
      "Minimum index: 953486 Value: 145\n",
      "Sentence: this handsome shirt blur the line between smart and comfortable style mark & spencer linen blend easy to iron floral shirt product shape shirt fit regular fit fastening button through sleeve length short sleeve collar type classic collar number of pocket one plan a cotton composition 55 linen 45 cotton size s colour turquoise care instruction machine washable even at 30º tumble dry please note colour of product may differ slightly from actual due to difference in monitor quality. only central onlin e exclusive color turquoise pattern floral size s uk material linen sleeve level short sleeve caution in term of item color it may be slightly different from each monitor display and specification * * * *\n",
      "========================================\n"
     ]
    },
    {
     "name": "stderr",
     "output_type": "stream",
     "text": [
      "\r",
      "357it [12:27,  5.79s/it]"
     ]
    },
    {
     "name": "stdout",
     "output_type": "stream",
     "text": [
      "Index ประโยคภาษาไทย: 575105\n",
      "ประโยค: ยังสาวและหนังโป๊วิดีโอออนไลน์ว่าข้อความsmsไปpodrachit***\n",
      "Same index: 575105 Value: 7 Rank: 0\n",
      "Sentence: young and porn video online free sm to podrachit podrachit * * * *\n",
      "Minimum index: 575105 Value: 7\n",
      "Sentence: young and porn video online free sm to podrachit podrachit * * * *\n",
      "========================================\n"
     ]
    },
    {
     "name": "stderr",
     "output_type": "stream",
     "text": [
      "\r",
      "358it [12:28,  4.39s/it]"
     ]
    },
    {
     "name": "stdout",
     "output_type": "stream",
     "text": [
      "Index ประโยคภาษาไทย: 205694\n",
      "ประโยค: มันพอดีกับminiipadของฉันอย่างสมบูรณ์แบบ*****\n",
      "Same index: 205694 Value: 9 Rank: 2\n",
      "Sentence: it fit my ipad mini perfectly with minimal effort * * * * *\n",
      "Minimum index: 646407 Value: 8\n",
      "Sentence: i know i appreciate every thing you do * * * * * *\n",
      "========================================\n"
     ]
    },
    {
     "name": "stderr",
     "output_type": "stream",
     "text": [
      "\r",
      "359it [12:37,  5.82s/it]"
     ]
    },
    {
     "name": "stdout",
     "output_type": "stream",
     "text": [
      "Index ประโยคภาษาไทย: 990656\n",
      "ประโยค: กีฬาโอลิมปิกฤดูร้อน2016หรือชื่อที่เป็นทางการกีฬาโอลิมปิกครั้งที่31หรือเป็นที่รู้จักในชื่อรีโอ2016เป็นมหกรรมกีฬานานาชาติที่สำคัญในประเพณีโอลิมปิกซึ่งจัดในที่นครรีโอเดจาเนโรสหพันธ์สาธารณรัฐบราซิลจัดขึ้นระหว่างวันที่5ถึง21 สิงหาคม พศ 2559การแข่งขันครั้งนี้มีจำนวนนักกีฬามากกว่า10500คนจาก207คณะกรรมการโอลิมปิกแห่งชาติซึ่งครั้งนี้เป็นการแข่งขันโอลิมปิกฤดูร้อนครั้งแรกของประเทศคอซอวอและประเทศเซาท์ซูดาน กีฬารีโอ2016นั้นได้มีการชิงชัยทั้งหมด307เหรียญในกีฬาโอลิมปิกทั้งหมด28กีฬาอาทิกีฬารักบี้7คนและกีฬากอล์ฟซึ่งถูกบรรจุโดยคณะกรรมการโอลิมปิกสากลในพศ 2551กีฬาต่าง ๆในครั้งนี้จัดแข่งขันทั้งหมดใน33สนามในเมืองเจ้าภาพ\n",
      "Same index: 990656 Value: 98 Rank: 154\n",
      "Sentence: the 2016 summer olympics officially known a the game of the xxxi olympiad and commonly known a rio 2016 wa an international multi-sport event that wa held from 5 to 21 august 2016 in rio de janeiro brazil with preliminary event in some sport beginning on 3 august rio wa announced a the host city at the 121st ioc session in copenhagen denmark on 2 october 2009 more than 11,000 athlete from 205 national olympic committee took part including first-time entrant kosovo south sudan and the refugee olympic team\n",
      "Minimum index: 322139 Value: 93\n",
      "Sentence: they make an excellent liner though *\n",
      "========================================\n"
     ]
    },
    {
     "name": "stderr",
     "output_type": "stream",
     "text": [
      "\r",
      "360it [12:39,  4.65s/it]"
     ]
    },
    {
     "name": "stdout",
     "output_type": "stream",
     "text": [
      "Index ประโยคภาษาไทย: 550710\n",
      "ประโยค: ถ้วยจิตนาการผู้คนจะทำมันในวันพรุ่งนี้ติดต่อกายาน การัชชิงที่บอกพวกเขาว่าฉันบอกให้คุณติดต่อ****\n",
      "Same index: 550710 Value: 15 Rank: 2\n",
      "Sentence: imagine cup ppl will do it tomorrow contact gayan garusinghe on tell them that i told u to contact * *\n",
      "Minimum index: 706272 Value: 13\n",
      "Sentence: how do i pay you * *\n",
      "========================================\n"
     ]
    },
    {
     "name": "stderr",
     "output_type": "stream",
     "text": [
      "\r",
      "361it [12:40,  3.62s/it]"
     ]
    },
    {
     "name": "stdout",
     "output_type": "stream",
     "text": [
      "Index ประโยคภาษาไทย: 589712\n",
      "ประโยค: อาหารที่อุดมด้วยโพแทสเซียมซึ่งเตรียมสัตว์ปีกแปรรูปมีโพแทสเซียมมากที่สุด*\n",
      "Same index: 589712 Value: 11 Rank: 0\n",
      "Sentence: food rich in potassium which unprepared raw poultry ha the most potassium 187 *\n",
      "Minimum index: 589712 Value: 11\n",
      "Sentence: food rich in potassium which unprepared raw poultry ha the most potassium 187 *\n",
      "========================================\n"
     ]
    },
    {
     "name": "stderr",
     "output_type": "stream",
     "text": [
      "\r",
      "362it [12:44,  3.65s/it]"
     ]
    },
    {
     "name": "stdout",
     "output_type": "stream",
     "text": [
      "Index ประโยคภาษาไทย: 888106\n",
      "ประโยค: ความละเอียดในการพิมพ์600dpiความเร็วการพิมพ์ขาวดำ22แผ่นนาทีปริมาณการพิมพ์ที่แนะนำ1501500แผ่นเดือนรองรับงานพิมพ์สูงสุด10 000แผ่นเดือนช่องใส่กระดาษ 150 แผ่นการเชื่อมต่อ USB 20 หน่วยความจำมาตรฐาน 128 MB หมึกที่ใช้ CE217 A CF219 A รับประกัน 1 ปีหมึกที่สามารถใช้ร่วมกับเครื่องปริ้นเตอร์เลเซอร์ HP Laser Jet Pro M102a ผงหมึกโทนเนอร์ สีดำ HP 17 A CF217 A ดรัม สีดำ HP 19 A CF219A*\n",
      "Same index: 888106 Value: 53 Rank: 902\n",
      "Sentence: for only printing printing resolution 600 dpi printing speed 22 paper sheetsmin standard memory unit 128 m b connection usb 2.0 wireless apple air print paper tray 150 paper sheet compatible ink ce217 a cf219 a 1 year product warranty toner cartridge for hp laser jet pro m102a laser printer hp 17 a cf217 a toner cartridge black hp 19 a cf219 a drum black black * * *\n",
      "Minimum index: 315587 Value: 37\n",
      "Sentence: our previous scale which also had digital readout wa quite inaccurate * * *\n",
      "========================================\n"
     ]
    },
    {
     "name": "stderr",
     "output_type": "stream",
     "text": [
      "\r",
      "363it [12:44,  2.75s/it]"
     ]
    },
    {
     "name": "stdout",
     "output_type": "stream",
     "text": [
      "Index ประโยคภาษาไทย: 566835\n",
      "ประโยค: CASHIDOน้ำโอโซนคืออะไรบทนำ*\n",
      "Same index: 566835 Value: 7 Rank: 166\n",
      "Sentence: cashido what is ozonized water introduction introduction\n",
      "Minimum index: 780488 Value: 5\n",
      "Sentence: yes everything is good * * *\n",
      "========================================\n"
     ]
    },
    {
     "name": "stderr",
     "output_type": "stream",
     "text": [
      "\r",
      "364it [12:45,  2.11s/it]"
     ]
    },
    {
     "name": "stdout",
     "output_type": "stream",
     "text": [
      "Index ประโยคภาษาไทย: 675551\n",
      "ประโยค: คิดว่าไรอัน เรย์โนลส์น่าจะเล่นด้วยนะคะ\n",
      "Same index: 675551 Value: 6 Rank: 0\n",
      "Sentence: i think ryan reynold is in there too\n",
      "Minimum index: 675551 Value: 6\n",
      "Sentence: i think ryan reynold is in there too\n",
      "========================================\n"
     ]
    },
    {
     "name": "stderr",
     "output_type": "stream",
     "text": [
      "\r",
      "365it [12:46,  1.85s/it]"
     ]
    },
    {
     "name": "stdout",
     "output_type": "stream",
     "text": [
      "Index ประโยคภาษาไทย: 628901\n",
      "ประโยค: ขอราคาคร่าว ๆของรถแบบเอสยูวีหน่อยได้มั้ยคะ**\n",
      "Same index: 628901 Value: 11 Rank: 0\n",
      "Sentence: can you give me an approximate price if we take the suv * *\n",
      "Minimum index: 552982 Value: 11\n",
      "Sentence: worksheet 2c up till arene onlywhere got williamson * * * * * *\n",
      "========================================\n"
     ]
    },
    {
     "name": "stderr",
     "output_type": "stream",
     "text": [
      "\r",
      "366it [12:49,  2.02s/it]"
     ]
    },
    {
     "name": "stdout",
     "output_type": "stream",
     "text": [
      "Index ประโยคภาษาไทย: 3690\n",
      "ประโยค: นักวิทยาศาสตร์ค้นพบรอยเท้าไดโนเสาร์ที่อาจจะมีขนาดใหญ่ที่สุดในโลกที่วัดได้เกือบ17 เมตรในพื้นที่ห่างไกลบนชายฝั่งตะวันตกเฉียงเหนือของออสเตรเลีย*****\n",
      "Same index: 3690 Value: 22 Rank: 61\n",
      "Sentence: scientist have found what could be the world s largest dinosaur footprint measuring nearly 1.7 meter on a remote part of australia s northwestern coastline * * *\n",
      "Minimum index: 229465 Value: 20\n",
      "Sentence: could have been just an article *\n",
      "========================================\n"
     ]
    },
    {
     "name": "stderr",
     "output_type": "stream",
     "text": [
      "\r",
      "367it [12:49,  1.59s/it]"
     ]
    },
    {
     "name": "stdout",
     "output_type": "stream",
     "text": [
      "Index ประโยคภาษาไทย: 683880\n",
      "ประโยค: เอเอ็มซี เอ็มไพร์25ค่ะ****\n",
      "Same index: 683880 Value: 3 Rank: 3\n",
      "Sentence: amc empire 25 * * * *\n",
      "Minimum index: 889345 Value: 2\n",
      "Sentence: furradec gm1 grommet black * * * * * *\n",
      "========================================\n"
     ]
    },
    {
     "name": "stderr",
     "output_type": "stream",
     "text": [
      "\r",
      "368it [12:51,  1.67s/it]"
     ]
    },
    {
     "name": "stdout",
     "output_type": "stream",
     "text": [
      "Index ประโยคภาษาไทย: 145332\n",
      "ประโยค: ซื้อมาให้พ่อแม่เราแต่ละคนด้วยครับจะได้ไม่ล้มเวลาออกไปเดินข้างนอก****\n",
      "Same index: 145332 Value: 14 Rank: 0\n",
      "Sentence: we bought some for each of our parent so they would not trip during their power walk outside * * *\n",
      "Minimum index: 658352 Value: 14\n",
      "Sentence: absolutely let me access their online portal right now to make this appointment *\n",
      "========================================\n"
     ]
    },
    {
     "name": "stderr",
     "output_type": "stream",
     "text": [
      "\r",
      "369it [12:52,  1.54s/it]"
     ]
    },
    {
     "name": "stdout",
     "output_type": "stream",
     "text": [
      "Index ประโยคภาษาไทย: 548312\n",
      "ประโยค: ฮะฮะฮ่า อ้าวดูว่าวันธรรมดาหาผู้เล่นได้หรือไม่นะฮะฮะฮ่า\n",
      "Same index: 548312 Value: 13 Rank: 2\n",
      "Sentence: hahaha awww see weekday can find player anot hahaha hahaha * * * *\n",
      "Minimum index: 837918 Value: 12\n",
      "Sentence: then look for vice past 8:00 p.m\n",
      "========================================\n"
     ]
    },
    {
     "name": "stderr",
     "output_type": "stream",
     "text": [
      "\r",
      "370it [12:56,  2.13s/it]"
     ]
    },
    {
     "name": "stdout",
     "output_type": "stream",
     "text": [
      "Index ประโยคภาษาไทย: 430662\n",
      "ประโยค: ในขณะที่โนเวลล่าsอ่านเป็นเรื่องราวแบบสแตนด์อโลนพวกเขายังเป็นส่วนหนึ่งของซีรีย์ต่อเนื่องที่ไม่เพียงแต่เกี่ยวข้องกับการค้นหาของผู้ชายสําหรับนักฆ่าภรรยาที่ตายแล้วของเขาเท่านั้นแต่ยังมีเนื้อหาอื่นๆ\n",
      "Same index: 430662 Value: 40 Rank: 60\n",
      "Sentence: while the novella read a stand-alone story they are also part of an ongoing series that deal not only with a man 's search for his dead wife 's killer but many other theme relating to fatherhood family relationship * * *\n",
      "Minimum index: 131222 Value: 38\n",
      "Sentence: they make printing just about a clean a original hp one that came w system * * * * * *\n",
      "========================================\n"
     ]
    },
    {
     "name": "stderr",
     "output_type": "stream",
     "text": [
      "\r",
      "371it [13:08,  5.11s/it]"
     ]
    },
    {
     "name": "stdout",
     "output_type": "stream",
     "text": [
      "Index ประโยคภาษาไทย: 33516\n",
      "ประโยค: เศรษฐกิจไทยในปี2561มีแนวโน้มที่จะขยายตัวในเกณฑ์ดีและเร่งตัวขึ้นอย่างต่อเนื่องโดยได้รับปัจจัยสนับสนุนจากการขยายตัวเร่งขึ้นของเศรษฐกิจโลกการปรับตัวดีขึ้นของราคาสินค้าในตลาดโลกการดำเนินมาตรการเพื่อสนับสนุนการขยายตัวทางเศรษฐกิจของภาครัฐทั้งในด้านการใช้จ่ายและการลงทุนรวมทั้งการปรับตัวดีขึ้นของการลงทุนภาครัฐและภาคเอกชนและการปรับตัวดีขึ้นของฐานรายได้ของประชาชนในระบบเศรษฐกิจที่มีความชัดเจนและกระจายตัวมากขึ้นอย่างไรก็ตามการขยายตัวทางเศรษฐกิจในช่วงที่เหลือของปีมีแนวโน้มที่จะชะลอตัวลงอย่างช้าๆตามฐานการขยายตัวที่สูงขึ้นในขณะที่ระดับราคาสินค้าและอัตราดอกเบี้ยในตลาดโลกปรับตัวเข้าสู่ช่วงขาขึ้นและระบบเศรษฐกิจและการเงินโลกยังมีความเสี่ยงที่จะผันผวนตามทิศทางการดำเนินนโยบายการค้านโยบายการเงินและนโยบายด้านการต่างประเทศของประเทศสำคัญๆ*\n",
      "Same index: 33516 Value: 134 Rank: 155\n",
      "Sentence: in the remainder of the year 2018 the thai economy tends to continually improve given the current accelerating pace of global economic recovery and the increased world price of commodity government measure to support further economic expansion through government and private consumption expenditure improvement in investment condition of both private and public sector and the revitalized income condition nevertheless the year-on-year growth pace in the rest of the year 2018 tends to slow down due to the higher base in the latter half of 2017 while global commodity price and interest rate have continued their upward trend whereas world economy and global financial system would experience uncertain situation from the trade protection policy imposed by major advanced economy against their trade partner change in monetary stance globally and foreign policy from those world leading country * *\n",
      "Minimum index: 78256 Value: 128\n",
      "Sentence: it wa done like an episode of ally mcbeal in that they had to make thing up * * * *\n",
      "========================================\n"
     ]
    },
    {
     "name": "stderr",
     "output_type": "stream",
     "text": [
      "\r",
      "372it [13:10,  4.31s/it]"
     ]
    },
    {
     "name": "stdout",
     "output_type": "stream",
     "text": [
      "Index ประโยคภาษาไทย: 323339\n",
      "ประโยค: ตัวเลือกเดียวของฉันสําหรับการแก้ไขปัญหาคือไปที่เว็บไซต์ของพวกเขาซึ่งต้องการให้ฉันผ่านทุกขั้นตอนเพื่อให้คําแนะนํา***\n",
      "Same index: 323339 Value: 25 Rank: 325\n",
      "Sentence: my only option for troubleshooting wa going to their website which requires me to go through every step in order for them to give advice * * *\n",
      "Minimum index: 500195 Value: 22\n",
      "Sentence: let them be taken with the old woman to the depot * * *\n",
      "========================================\n"
     ]
    },
    {
     "name": "stderr",
     "output_type": "stream",
     "text": [
      "\r",
      "373it [13:13,  3.75s/it]"
     ]
    },
    {
     "name": "stdout",
     "output_type": "stream",
     "text": [
      "Index ประโยคภาษาไทย: 58460\n",
      "ประโยค: นี่ไม่ใช่สิ่งที่คุณต้องการซื้อนอกเหนือไปเสียจากว่ามันถูกมากๆหรือคุณจะไปพักผ่อนในที่ที่คุณต้องการมัน\n",
      "Same index: 58460 Value: 27 Rank: 158\n",
      "Sentence: this is not something you want to buy unless it 's really cheap or you 're just going on vacation where you 'll need it * * *\n",
      "Minimum index: 754264 Value: 24\n",
      "Sentence: wonderful glad to help take care *\n",
      "========================================\n"
     ]
    },
    {
     "name": "stderr",
     "output_type": "stream",
     "text": [
      "\r",
      "374it [13:15,  3.16s/it]"
     ]
    },
    {
     "name": "stdout",
     "output_type": "stream",
     "text": [
      "Index ประโยคภาษาไทย: 754810\n",
      "ประโยค: ขอโทษด้วยนะคะไม่มีที่ว่างแล้วน่ะค่ะเพราะตอนนี้เลย5 โมงเย็นมาแล้ว******\n",
      "Same index: 754810 Value: 14 Rank: 3\n",
      "Sentence: unfortunately not anymore since it 's already past 5pm * * * * *\n",
      "Minimum index: 696479 Value: 13\n",
      "Sentence: unfortunately they do not have high chair is that ok * * * *\n",
      "========================================\n"
     ]
    },
    {
     "name": "stderr",
     "output_type": "stream",
     "text": [
      "\r",
      "375it [13:16,  2.59s/it]"
     ]
    },
    {
     "name": "stdout",
     "output_type": "stream",
     "text": [
      "Index ประโยคภาษาไทย: 442368\n",
      "ประโยค: แรงดูดค่อนข้างแรงแต่เราต้องหยุดใช้หลังจากผ่านไประยะหนึ่ง*\n",
      "Same index: 442368 Value: 13 Rank: 121\n",
      "Sentence: the suction is pretty strong but we had to stop using it after a while * * * * * *\n",
      "Minimum index: 362754 Value: 10\n",
      "Sentence: hope they have bigger size * *\n",
      "========================================\n"
     ]
    },
    {
     "name": "stderr",
     "output_type": "stream",
     "text": [
      "\r",
      "376it [13:18,  2.34s/it]"
     ]
    },
    {
     "name": "stdout",
     "output_type": "stream",
     "text": [
      "Index ประโยคภาษาไทย: 75904\n",
      "ประโยค: มันเป็นการเสี่ยงเสมอว่าชั้นจะเพลิดเพลินกับอะไรบางอย่างโดยศิลปินเหล่านี้หรือไม่******\n",
      "Same index: 75904 Value: 19 Rank: 573\n",
      "Sentence: it 's always a toss-up whether or not i 'm going to enjoy something by either of these artist * *\n",
      "Minimum index: 444589 Value: 14\n",
      "Sentence: amazon quickly processed return which made returning a breeze * * * * *\n",
      "========================================\n"
     ]
    },
    {
     "name": "stderr",
     "output_type": "stream",
     "text": [
      "\r",
      "377it [13:19,  2.18s/it]"
     ]
    },
    {
     "name": "stdout",
     "output_type": "stream",
     "text": [
      "Index ประโยคภาษาไทย: 602235\n",
      "ประโยค: ในบางวันที่ชั้น 1ของอาคารจะจัดงานผลิตภัณฑ์ทางการเกษตรและการแนะนำท้องถิ่นด้วย*****\n",
      "Same index: 602235 Value: 22 Rank: 737\n",
      "Sentence: on certain day you may find a fair which introduces local area and their produce on the 1st floor of the building * * * * * *\n",
      "Minimum index: 116886 Value: 14\n",
      "Sentence: thanks amazon for refunding my money on this item * * * * *\n",
      "========================================\n"
     ]
    },
    {
     "name": "stderr",
     "output_type": "stream",
     "text": [
      "\r",
      "378it [13:20,  1.73s/it]"
     ]
    },
    {
     "name": "stdout",
     "output_type": "stream",
     "text": [
      "Index ประโยคภาษาไทย: 839274\n",
      "ประโยค: ขอให้มีวันที่ดีนะ**\n",
      "Same index: 839274 Value: 3 Rank: 0\n",
      "Sentence: have a good day * * *\n",
      "Minimum index: 839274 Value: 3\n",
      "Sentence: have a good day * * *\n",
      "========================================\n"
     ]
    },
    {
     "name": "stderr",
     "output_type": "stream",
     "text": [
      "\r",
      "379it [13:21,  1.40s/it]"
     ]
    },
    {
     "name": "stdout",
     "output_type": "stream",
     "text": [
      "Index ประโยคภาษาไทย: 724112\n",
      "ประโยค: โอเคค่ะขอบคุณนะคะ***\n",
      "Same index: 724112 Value: 2 Rank: 0\n",
      "Sentence: okay thanks * * * * *\n",
      "Minimum index: 724112 Value: 2\n",
      "Sentence: okay thanks * * * * *\n",
      "========================================\n"
     ]
    },
    {
     "name": "stderr",
     "output_type": "stream",
     "text": [
      "\r",
      "380it [13:21,  1.18s/it]"
     ]
    },
    {
     "name": "stdout",
     "output_type": "stream",
     "text": [
      "Index ประโยคภาษาไทย: 108381\n",
      "ประโยค: แมวของฉันชอบอาหารนี้*\n",
      "Same index: 108381 Value: 5 Rank: 0\n",
      "Sentence: my cat love this food * *\n",
      "Minimum index: 266386 Value: 5\n",
      "Sentence: love it.. it.. * * * *\n",
      "========================================\n"
     ]
    },
    {
     "name": "stderr",
     "output_type": "stream",
     "text": [
      "\r",
      "381it [13:24,  1.57s/it]"
     ]
    },
    {
     "name": "stdout",
     "output_type": "stream",
     "text": [
      "Index ประโยคภาษาไทย: 160911\n",
      "ประโยค: ตอนแรกน้ำจะเย็นตอนใช้ปั๊มใหม่หลังจากที่เปิดแล้วปิดใหม่มันเริ่มอุ่นตอนปิดหรือก่อนปิดหลังจากที่เปลี่ยนแล้วน้ำอุ่นทำงานดีเหมือนเดิม\n",
      "Same index: 160911 Value: 31 Rank: 807\n",
      "Sentence: the hot shower were running cold at first with this new pump but after turning on and off they started getting heated when we turned them off or even right before switching off * *\n",
      "Minimum index: 582593 Value: 24\n",
      "Sentence: hot new beach tent folding tent promotional gift lightweight easy folding tent tent *\n",
      "========================================\n"
     ]
    },
    {
     "name": "stderr",
     "output_type": "stream",
     "text": [
      "\r",
      "382it [13:24,  1.30s/it]"
     ]
    },
    {
     "name": "stdout",
     "output_type": "stream",
     "text": [
      "Index ประโยคภาษาไทย: 310512\n",
      "ประโยค: สั้นกว่าเล็กน้อยจะสมบูรณ์แบบ**\n",
      "Same index: 310512 Value: 6 Rank: 135\n",
      "Sentence: a little shorter would have been perfect\n",
      "Minimum index: 936029 Value: 5\n",
      "Sentence: scotch md-p macaron dispenser tape yellow * * * * * *\n",
      "========================================\n"
     ]
    },
    {
     "name": "stderr",
     "output_type": "stream",
     "text": [
      "\r",
      "383it [13:28,  1.84s/it]"
     ]
    },
    {
     "name": "stdout",
     "output_type": "stream",
     "text": [
      "Index ประโยคภาษาไทย: 304329\n",
      "ประโยค: เพิ่งหวังว่าจะไม่มีกลิ่นเมื่อเปิดแต่ก็แก้ไขได้อย่างง่ายดายโดยเพียงวางไว้ในหน้าต่างห้องนอนของฉันสองสามวันหลังจากเปิด******\n",
      "Same index: 304329 Value: 28 Rank: 114\n",
      "Sentence: just wish there wa no smell to it when opened but that wa easily solved by just placing inside my bedroom window for a couple day after opening\n",
      "Minimum index: 696480 Value: 26\n",
      "Sentence: no make one for via brazil then *\n",
      "========================================\n"
     ]
    },
    {
     "name": "stderr",
     "output_type": "stream",
     "text": [
      "\r",
      "384it [13:28,  1.48s/it]"
     ]
    },
    {
     "name": "stdout",
     "output_type": "stream",
     "text": [
      "Index ประโยคภาษาไทย: 194513\n",
      "ประโยค: ผลิตภัณฑ์ที่เยี่ยม****\n",
      "Same index: 194513 Value: 3 Rank: 1\n",
      "Sentence: great product * * * * *\n",
      "Minimum index: 529660 Value: 2\n",
      "Sentence: o see * * * * *\n",
      "========================================\n"
     ]
    },
    {
     "name": "stderr",
     "output_type": "stream",
     "text": [
      "\r",
      "385it [13:29,  1.41s/it]"
     ]
    },
    {
     "name": "stdout",
     "output_type": "stream",
     "text": [
      "Index ประโยคภาษาไทย: 450770\n",
      "ประโยค: ฉันดีใจมากที่พวกเขาหยิบหนังสือเล่มที่สองในซีรี่ส์นี้ออกมา*\n",
      "Same index: 450770 Value: 12 Rank: 0\n",
      "Sentence: i 'm so glad they put out the 2nd book to this series *\n",
      "Minimum index: 739330 Value: 12\n",
      "Sentence: ok let me book those ticket one moment * * * * * *\n",
      "========================================\n"
     ]
    },
    {
     "name": "stderr",
     "output_type": "stream",
     "text": [
      "\r",
      "386it [13:30,  1.18s/it]"
     ]
    },
    {
     "name": "stdout",
     "output_type": "stream",
     "text": [
      "Index ประโยคภาษาไทย: 421021\n",
      "ประโยค: ฉันติดมันแล้วทดสอบมัน*\n",
      "Same index: 421021 Value: 7 Rank: 207\n",
      "Sentence: i hooked up one and tested it\n",
      "Minimum index: 156248 Value: 5\n",
      "Sentence: make excellent drink * * * *\n",
      "========================================\n"
     ]
    },
    {
     "name": "stderr",
     "output_type": "stream",
     "text": [
      "\r",
      "387it [13:31,  1.18s/it]"
     ]
    },
    {
     "name": "stdout",
     "output_type": "stream",
     "text": [
      "Index ประโยคภาษาไทย: 754520\n",
      "ประโยค: คนขับที่อยู่ใกล่ที่สุดจะไปถถึงในอีก3 นาทีนะคะ***\n",
      "Same index: 754520 Value: 11 Rank: 38\n",
      "Sentence: the nearest driver can be there in 3 minute * * * * *\n",
      "Minimum index: 412094 Value: 9\n",
      "Sentence: perfect size and well made * *\n",
      "========================================\n"
     ]
    },
    {
     "name": "stderr",
     "output_type": "stream",
     "text": [
      "\r",
      "388it [13:34,  1.73s/it]"
     ]
    },
    {
     "name": "stdout",
     "output_type": "stream",
     "text": [
      "Index ประโยคภาษาไทย: 977240\n",
      "ประโยค: มีปัญหาสิ่งแวดล้อมในประเทศอินเดียหลายด้านทั้งมลพิษทางอากาศมลพิษทางน้ำขยะและมลพิษของสภาพแวดล้อมทางธรรมชาติต่างเป็นปัญหาที่ท้าทายทั้งหมดของประเทศอินเดียสถานการณ์เลวร้ายเหล่านี้เคยเกิดขึ้นระหว่างปีคศ 1947ไปจนถึง1995**\n",
      "Same index: 977240 Value: 30 Rank: 0\n",
      "Sentence: air pollution water pollution garbage domestically prohibited good and pollution of the natural environment are all challenge for india * *\n",
      "Minimum index: 977240 Value: 30\n",
      "Sentence: air pollution water pollution garbage domestically prohibited good and pollution of the natural environment are all challenge for india * *\n",
      "========================================\n"
     ]
    },
    {
     "name": "stderr",
     "output_type": "stream",
     "text": [
      "\r",
      "389it [13:36,  1.59s/it]"
     ]
    },
    {
     "name": "stdout",
     "output_type": "stream",
     "text": [
      "Index ประโยคภาษาไทย: 346574\n",
      "ประโยค: ฉันซื้อสิ่งนี้สําหรับห้องลูกชายอายุ5ขวบของฉัน*\n",
      "Same index: 346574 Value: 12 Rank: 2\n",
      "Sentence: i purchased this for my 5 yr old son 's room * * *\n",
      "Minimum index: 356950 Value: 11\n",
      "Sentence: i purchased this item for my son and he liked it * * *\n",
      "========================================\n"
     ]
    },
    {
     "name": "stderr",
     "output_type": "stream",
     "text": [
      "\r",
      "390it [13:37,  1.48s/it]"
     ]
    },
    {
     "name": "stdout",
     "output_type": "stream",
     "text": [
      "Index ประโยคภาษาไทย: 815287\n",
      "ประโยค: อยากให้ไปส่งที่เดอะเฮนรี่ฮัดสันส์ ที่นอร์ธ เวสต์ ออฟ เพรสลี่******\n",
      "Same index: 815287 Value: 9 Rank: 258\n",
      "Sentence: i need to be dropped off at the henry hudson 's on north west of presley * *\n",
      "Minimum index: 385275 Value: 7\n",
      "Sentence: it wa promptly returned to amazon *\n",
      "========================================\n"
     ]
    },
    {
     "name": "stderr",
     "output_type": "stream",
     "text": [
      "\r",
      "391it [13:44,  3.13s/it]"
     ]
    },
    {
     "name": "stdout",
     "output_type": "stream",
     "text": [
      "Index ประโยคภาษาไทย: 866379\n",
      "ประโยค: โลดแล่นไปกับกลิ่นหอมของดอกฟรีเซียแสนหวานด้วยแป้งฝุ่นทาตัวจากMARKSSPENCERที่มีเนื้อละเอียดพิเศษช่วยให้ผิวของคุณรู้สึกนุ่มนวลขึ้นแป้งฝุ่นทาตัว Freesia Silky Talcum Powder MARKS  SPENCER ส่วนประกอบ Talc parfum citronellol aqua glycerin freesia refracta freesia extract potassium sorbate sodium benzoateหมายเหตุสีของผลิตภัณฑ์ที่แสดงบนเว็บไซต์อาจมีความแตกต่างกันจากการตั้งค่าการแสดงผลของแต่ละหน้าจอกลิ่นFREESIAปริมาณสุทธิ200กรัมเนื้อผลิตภัณฑ์แป้งฝุ่นหมายเหตุสีของผลิตภัณฑ์ที่แสดงบนเว็บไซต์อาจมีความแตกต่างกันจากการตั้งค่าการแสดงผลสีของแต่ละหน้าจอ*****\n",
      "Same index: 866379 Value: 79 Rank: 487\n",
      "Sentence: capturing the fragrance of sweet freesia flower this ultra-fine talcum powder will leave your skin feeling smooth and silky soft mark spencer freesia silky talcum powder 200 g. ingredient talc parfum citronellol aqua glycerin freesia refracta freesia extract potassium sorbate sodium benzoate please note colour of product may differ slightly from actual due to difference in monitor quality. scent freesia net weightvolume 200 g formulation powder caution in term of item color it may be slightly different from each monitor display and specification * * * * *\n",
      "Minimum index: 315931 Value: 71\n",
      "Sentence: i have used this product over the year and found it very good on many thing * * * * *\n",
      "========================================\n"
     ]
    },
    {
     "name": "stderr",
     "output_type": "stream",
     "text": [
      "\r",
      "392it [13:53,  4.94s/it]"
     ]
    },
    {
     "name": "stdout",
     "output_type": "stream",
     "text": [
      "Index ประโยคภาษาไทย: 971940\n",
      "ประโยค: และหากสำเร็จจะสามารถฟื้นฟูแนวรบของกลุ่มกองทัพใต้ณจุดเดียวกับที่เคยยึดครองในช่วงฤดูหนาวคศ 19411942แม้ฝ่ายเยอรมันจะทราบว่ากำลังพลสนับสนุนของกองทัพแดงเคยหมดลงในช่วงฤดูร้อนคศ 1941และ1942ฝ่ายโซเวียตยังมีการจัดหากำลังพลเพิ่มโดยการเกณฑ์ทหารจากพื้นที่ซึ่งยึดคืนได้ด้วยแรงกดดันจากบรรดานายพลฮิตเลอร์จึงตกลงเข้าตีที่คูสค์โดยทราบเพียงเล็กน้อยว่าข่าวกรองของอับเวร์ต่อที่ตั้งของโซเวียตนั้นถูกบ่อนทำลายโดยการให้ข้อมูลผิดๆของสตัฟกาและการทัพต่อต้านข่าวกรอง****\n",
      "Same index: 971940 Value: 110 Rank: 975\n",
      "Sentence: a tension heightened in spring 1941 stalin desperately tried not to give hitler any provocation that berlin could use a an excuse for a german attack stalin refused to allow the military to go on the alert even a german troop gathered on the border and german reconnaissance plane overflew installation this refusal to take necessary action wa instrumental in the destruction of major portion of the red air force lined up on it airfield in the first day of the german-soviet war at the crisis of the war in the autumn of 1942 stalin made many concession to the army the government restored unitary command by removing the commissar from the chain of command *\n",
      "Minimum index: 339121 Value: 93\n",
      "Sentence: at one point though it made perfect sense * * * * * *\n",
      "========================================\n"
     ]
    },
    {
     "name": "stderr",
     "output_type": "stream",
     "text": [
      "\r",
      "393it [13:56,  4.34s/it]"
     ]
    },
    {
     "name": "stdout",
     "output_type": "stream",
     "text": [
      "Index ประโยคภาษาไทย: 403756\n",
      "ประโยค: ความกังวลหลักของฉันไม่ได้เกี่ยวกับหัวข้อนี้มากนักเมื่อฉันได้อ่านเกี่ยวกับชีวิตส่วนตัวของลินคอล์นซึ่งดูเหมือนจะหลงตัวเองเมื่อเปรียบเทียบกับแบบอย่างของเขา*****\n",
      "Same index: 403756 Value: 30 Rank: 267\n",
      "Sentence: my main concern lay not so much with this topic a i did reading about lincoln 's personal life that seems rather narcissistic compared the his role model\n",
      "Minimum index: 65790 Value: 26\n",
      "Sentence: many of u have come from such background even if our parent did not convert * * * * * *\n",
      "========================================\n"
     ]
    },
    {
     "name": "stderr",
     "output_type": "stream",
     "text": [
      "\r",
      "394it [13:59,  3.85s/it]"
     ]
    },
    {
     "name": "stdout",
     "output_type": "stream",
     "text": [
      "Index ประโยคภาษาไทย: 90830\n",
      "ประโยค: ลูกสาววัย4ขวบของฉันชอบสีแต่ฉันหวังว่าแกน่าจะเริ่มเล่นกับมันไวกว่านี้น่ะค่ะไม่ใช่แค่ในวันฝนตก******\n",
      "Same index: 90830 Value: 23 Rank: 0\n",
      "Sentence: my 4 yr old daughter love the color but i wa hoping she would start to play with it much earlier not just on rainy day * *\n",
      "Minimum index: 90830 Value: 23\n",
      "Sentence: my 4 yr old daughter love the color but i wa hoping she would start to play with it much earlier not just on rainy day * *\n",
      "========================================\n"
     ]
    },
    {
     "name": "stderr",
     "output_type": "stream",
     "text": [
      "\r",
      "395it [14:00,  3.05s/it]"
     ]
    },
    {
     "name": "stdout",
     "output_type": "stream",
     "text": [
      "Index ประโยคภาษาไทย: 933178\n",
      "ประโยค: ชุดสม็อคกันไฟฟ้าสถิตคอจีนฟ้าSizeSSM1****\n",
      "Same index: 933178 Value: 10 Rank: 4\n",
      "Sentence: s-sized smock cleanroom blue sm1 sm1 *\n",
      "Minimum index: 775011 Value: 9\n",
      "Sentence: have a good one * * *\n",
      "========================================\n"
     ]
    },
    {
     "name": "stderr",
     "output_type": "stream",
     "text": [
      "\r",
      "396it [14:03,  3.09s/it]"
     ]
    },
    {
     "name": "stdout",
     "output_type": "stream",
     "text": [
      "Index ประโยคภาษาไทย: 9717\n",
      "ประโยค: แม้ว่าข้อพิพาทยังคงดำเนินอยู่แต่รัฐมนตรีว่าการกระทรวงการต่างประเทศจีนยืนกรานว่าความตึงเครียดในทะเลจีนใต้ไม่ได้เพียงลดลงบ้างแต่ลดลงอย่างชัดเจนในช่วงปีที่ผ่านมารอยเตอร์รายงาน******\n",
      "Same index: 9717 Value: 23 Rank: 0\n",
      "Sentence: despite ongoing dispute the chinese foreign minister insisted that tension in the south china sea had not somewhat dropped but had distinctly dropped during the past year reuters reported *\n",
      "Minimum index: 9717 Value: 23\n",
      "Sentence: despite ongoing dispute the chinese foreign minister insisted that tension in the south china sea had not somewhat dropped but had distinctly dropped during the past year reuters reported *\n",
      "========================================\n"
     ]
    },
    {
     "name": "stderr",
     "output_type": "stream",
     "text": [
      "\r",
      "397it [14:04,  2.54s/it]"
     ]
    },
    {
     "name": "stdout",
     "output_type": "stream",
     "text": [
      "Index ประโยคภาษาไทย: 774299\n",
      "ประโยค: พิซซ่าถาดใหญ่2ถาด หน้ามีทเลิฟเวอร์และหน้าพริกเขียว หัวหอม ไส้กรอกหมูและชีสถูกต้องมั้ยคะ****\n",
      "Same index: 774299 Value: 14 Rank: 444\n",
      "Sentence: 2 large pizza one meetlovers and one green pepper onion and pork sausage right\n",
      "Minimum index: 772151 Value: 9\n",
      "Sentence: 940 sound good * * * *\n",
      "========================================\n"
     ]
    },
    {
     "name": "stderr",
     "output_type": "stream",
     "text": [
      "\r",
      "398it [14:05,  1.98s/it]"
     ]
    },
    {
     "name": "stdout",
     "output_type": "stream",
     "text": [
      "Index ประโยคภาษาไทย: 671671\n",
      "ประโยค: นั่นก็ถูก****\n",
      "Same index: 671671 Value: 2 Rank: 0\n",
      "Sentence: that 's right * * * *\n",
      "Minimum index: 753254 Value: 2\n",
      "Sentence: is this correct * * * *\n",
      "========================================\n"
     ]
    },
    {
     "name": "stderr",
     "output_type": "stream",
     "text": [
      "\r",
      "399it [14:06,  1.74s/it]"
     ]
    },
    {
     "name": "stdout",
     "output_type": "stream",
     "text": [
      "Index ประโยคภาษาไทย: 160195\n",
      "ประโยค: ฉันรักในความยาวของสิ่งเหล่านี้******\n",
      "Same index: 160195 Value: 6 Rank: 1\n",
      "Sentence: i love how long these are *\n",
      "Minimum index: 143918 Value: 5\n",
      "Sentence: i love this thing * * *\n",
      "========================================\n"
     ]
    },
    {
     "name": "stderr",
     "output_type": "stream",
     "text": [
      "\r",
      "400it [14:07,  1.59s/it]"
     ]
    },
    {
     "name": "stdout",
     "output_type": "stream",
     "text": [
      "Index ประโยคภาษาไทย: 587249\n",
      "ประโยค: ขายฟิลิปปินส์ท่องเที่ยวบันทึกต้อง45ด้วยบัตรเครดิตCitiของคุณน้อยลง**\n",
      "Same index: 587249 Value: 12 Rank: 9\n",
      "Sentence: philippine travel sale save up to 45 with your citi credit card le le * *\n",
      "Minimum index: 372917 Value: 11\n",
      "Sentence: great starter book but just start at his first book * * * *\n",
      "========================================\n"
     ]
    },
    {
     "name": "stderr",
     "output_type": "stream",
     "text": [
      "\r",
      "401it [14:08,  1.32s/it]"
     ]
    },
    {
     "name": "stdout",
     "output_type": "stream",
     "text": [
      "Index ประโยคภาษาไทย: 732946\n",
      "ประโยค: คุณคะให้เรียกรถพยาบาลมั้ยคะ*\n",
      "Same index: 732946 Value: 6 Rank: 1\n",
      "Sentence: sir should i call an ambulance *\n",
      "Minimum index: 670415 Value: 5\n",
      "Sentence: they offer almond coconut and soy *\n",
      "========================================\n"
     ]
    },
    {
     "name": "stderr",
     "output_type": "stream",
     "text": [
      "\r",
      "402it [14:09,  1.13s/it]"
     ]
    },
    {
     "name": "stdout",
     "output_type": "stream",
     "text": [
      "Index ประโยคภาษาไทย: 646400\n",
      "ประโยค: ค่ะพี่หนูจะจัดให้นะคะ\n",
      "Same index: 646400 Value: 7 Rank: 9\n",
      "Sentence: okay i 'll set it up *\n",
      "Minimum index: 163855 Value: 6\n",
      "Sentence: what else can you say about it\n",
      "========================================\n"
     ]
    },
    {
     "name": "stderr",
     "output_type": "stream",
     "text": [
      "\r",
      "403it [14:10,  1.32s/it]"
     ]
    },
    {
     "name": "stdout",
     "output_type": "stream",
     "text": [
      "Index ประโยคภาษาไทย: 255362\n",
      "ประโยค: ฉันเพิ่งซื้อมาในขนาดที่ใหญ่ที่สุดเพื่อลองกับแมวสองตัวของฉัน*****\n",
      "Same index: 255362 Value: 14 Rank: 0\n",
      "Sentence: i recently bought this in the largest size to try it out on my two cat * * * * *\n",
      "Minimum index: 387176 Value: 14\n",
      "Sentence: i bought this tv last year so it ha been only 2 week of use * * * * * *\n",
      "========================================\n"
     ]
    },
    {
     "name": "stderr",
     "output_type": "stream",
     "text": [
      "\r",
      "404it [14:11,  1.10s/it]"
     ]
    },
    {
     "name": "stdout",
     "output_type": "stream",
     "text": [
      "Index ประโยคภาษาไทย: 673297\n",
      "ประโยค: เอาชินาม่อนดอลเช่ค่ะ****\n",
      "Same index: 673297 Value: 4 Rank: 43\n",
      "Sentence: cinnamon dolce flavoring please * * *\n",
      "Minimum index: 696517 Value: 2\n",
      "Sentence: don ayers bmw bmw * * * *\n",
      "========================================\n"
     ]
    },
    {
     "name": "stderr",
     "output_type": "stream",
     "text": [
      "\r",
      "405it [14:12,  1.11s/it]"
     ]
    },
    {
     "name": "stdout",
     "output_type": "stream",
     "text": [
      "Index ประโยคภาษาไทย: 269100\n",
      "ประโยค: น่ารักและสบายมากแต่อย่าคาดหวังว่ามันจะอยู่ได้นาน*\n",
      "Same index: 269100 Value: 11 Rank: 1\n",
      "Sentence: very cute and comfortable but do n't expect them to last a long *\n",
      "Minimum index: 713963 Value: 10\n",
      "Sentence: nope sorry look like that spot is taken * * * * * *\n",
      "========================================\n"
     ]
    },
    {
     "name": "stderr",
     "output_type": "stream",
     "text": [
      "\r",
      "406it [14:14,  1.33s/it]"
     ]
    },
    {
     "name": "stdout",
     "output_type": "stream",
     "text": [
      "Index ประโยคภาษาไทย: 202765\n",
      "ประโยค: หลังจากอ่านหนังสือทั้งเจ็ดเล่มเสร็จสิ้นฉันคิดว่าถึงเวลาที่ต้องตรวจสอบความคิดเห็นอีกครั้ง*****\n",
      "Same index: 202765 Value: 11 Rank: 0\n",
      "Sentence: after finishing all seven book i thought it wa time to check the review again * * * * * *\n",
      "Minimum index: 202765 Value: 11\n",
      "Sentence: after finishing all seven book i thought it wa time to check the review again * * * * * *\n",
      "========================================\n"
     ]
    },
    {
     "name": "stderr",
     "output_type": "stream",
     "text": [
      "\r",
      "407it [14:19,  2.57s/it]"
     ]
    },
    {
     "name": "stdout",
     "output_type": "stream",
     "text": [
      "Index ประโยคภาษาไทย: 36523\n",
      "ประโยค: มาตรา 1195การประชุมใหญ่นั้นถ้าได้นัดเรียกหรือได้ประชุมกันหรือได้ลงมติฝ่าฝืนบทบัญญัติในลักษณะนี้ก็ดีหรือฝ่าฝืนข้อบังคับของบริษัทก็ดีเมื่อกรรมการหรือผู้ถือหุ้นคนหนึ่งคนใดร้องขึ้นแล้วให้ศาลเพิกถอนมติของที่ประชุมใหญ่อันผิดระเบียบนั้นเสียแต่ต้องร้องขอภายในกำหนดเดือนหนึ่งนับแต่วันลงมตินั้น*****\n",
      "Same index: 36523 Value: 63 Rank: 872\n",
      "Sentence: section 1195 if a general meeting ha been summoned or held or a resolution passed contrary to the provision of this title or contrary to the regulation of the company the court shall on application of any director or shareholder cancel any such resolution or any resolution passed at such irregular general meeting provided that the application is entered within one month after the date of resolution * * *\n",
      "Minimum index: 134045 Value: 52\n",
      "Sentence: my daughter had a different one that broke apart and i took care of this one but she still lost the plastic case * * * * *\n",
      "========================================\n"
     ]
    },
    {
     "name": "stderr",
     "output_type": "stream",
     "text": [
      "\r",
      "408it [14:21,  2.36s/it]"
     ]
    },
    {
     "name": "stdout",
     "output_type": "stream",
     "text": [
      "Index ประโยคภาษาไทย: 350148\n",
      "ประโยค: เรากําลังดูหนังสือและบทวิจารณ์มากมายก่อนที่เราจะไปซื้อThePrayerLife******\n",
      "Same index: 350148 Value: 15 Rank: 99\n",
      "Sentence: we were looking at many book and review before we even went into purchasing the prayer life * * * *\n",
      "Minimum index: 800838 Value: 13\n",
      "Sentence: do you have a time preference *\n",
      "========================================\n"
     ]
    },
    {
     "name": "stderr",
     "output_type": "stream",
     "text": [
      "\r",
      "409it [14:22,  1.84s/it]"
     ]
    },
    {
     "name": "stdout",
     "output_type": "stream",
     "text": [
      "Index ประโยคภาษาไทย: 132756\n",
      "ประโยค: แต่ขอบคุณอีกครั้งนะคะ***\n",
      "Same index: 132756 Value: 2 Rank: 0\n",
      "Sentence: but thanks again * * * *\n",
      "Minimum index: 132756 Value: 2\n",
      "Sentence: but thanks again * * * *\n",
      "========================================\n"
     ]
    },
    {
     "name": "stderr",
     "output_type": "stream",
     "text": [
      "\r",
      "410it [14:27,  2.95s/it]"
     ]
    },
    {
     "name": "stdout",
     "output_type": "stream",
     "text": [
      "Index ประโยคภาษาไทย: 994119\n",
      "ประโยค: Sectionหลังจักรวรรดิโรมันศิลปะที่พบหลักจากจักรวรรดิโรมันล่มเป็นศิลปะคริสเตียนแทบทั้งสิ้นหลังจากจักรวรรดิโรมันล่มสถาบันศาสนาคริสต์ก็เข้ามามีบทบาทและอำนาจแทนที่ซึ่งปัจจุบันคือสถาบันโรมันคาทอลิกผู้เป็นตัวจักรสำคัญในการสร้างศิลปะคริสเตียนทางออร์ทอดอกซ์ตะวันออกที่คอนสแตนติโนเปิลที่ยังมีความสงบกว่าภายใต้การปกครองของจักรวรรดิโรมันตะวันออกก็มีบทบาทสำคัญในการสร้างศิลปะคริสเตียนทางตะวันออก*****\n",
      "Same index: 994119 Value: 56 Rank: 105\n",
      "Sentence: while the western roman empire 's political structure essentially collapsed after the fall of rome it religious hierarchy what is today the modern-day roman catholic church commissioned and funded production of religious art imagery the orthodox church of constantinople which enjoyed greater stability within the surviving eastern empire wa key in commissioning imagery there and glorifying christianity * * * * *\n",
      "Minimum index: 490734 Value: 53\n",
      "Sentence: i do not see that anything is to be done * * * *\n",
      "========================================\n"
     ]
    },
    {
     "name": "stderr",
     "output_type": "stream",
     "text": [
      "\r",
      "411it [14:33,  3.78s/it]"
     ]
    },
    {
     "name": "stdout",
     "output_type": "stream",
     "text": [
      "Index ประโยคภาษาไทย: 890725\n",
      "ประโยค: เผยเสน่ห์ที่สมบูรณ์แบบสะท้อนรสนิยมที่มีระดับในตัวคุณด้วยน้ำหอมจากแบรนด์GUCCIGUCCIFloraGorgeousGardeniaที่ให้กลิ่นหอมสดชื่นเย้ายวนชวนหลงใหล อ่อนหวานผสมผสานความโรแมนติกกลายเป็นความหอมที่ยากจะลบเลือน100mlสินค้ามีอายุการใช้งาน5 ปีนับจากวันผลิตหมายเหตุสีของผลิตภัณฑ์ที่แสดงบนเว็บไซต์อาจมีความแตกต่างกันจากการตั้งค่าการแสดงผลของแต่ละหน้าจอ******\n",
      "Same index: 890725 Value: 152 Rank: 992\n",
      "Sentence: gucci flora gorgeous gardenia eau de toilette gorgeous gardenia is a paean to the lightness of the shrub s first blossom and the addictive richness of it in full bloom—the result is gorgeously feminine a sparkling prelude of succulent red berry and juicy pear give way to an opulent floral heart the plushness of gardenia petal is enhanced by the creamy warmth of frangipani flower underlain by the delectable aroma of patchouli and brown sugar the woman who chooses to wear this fragrance exudes a sultry sensuality that is both lush and enticing men are drawn to her a bee are to a blossoming flower the flora garden collection is a bouquet of scent inspired by the house s renowned flora pattern gucci creative director frida giannini explains with flora by gucci i wanted to express the loveliness of the flora woman charming romantic and optimistic. 100 ml the product last 5 year from the day of manufacture caution in term of item color it may be slightly different from each monitor display and specification\n",
      "Minimum index: 4191 Value: 60\n",
      "Sentence: the three men now in jail pleaded not guilty public prosecutor salauddin hawlader told reporter while the others who are on the run are to be tried in their absence * * * * * *\n",
      "========================================\n"
     ]
    },
    {
     "name": "stderr",
     "output_type": "stream",
     "text": [
      "\r",
      "412it [14:39,  4.44s/it]"
     ]
    },
    {
     "name": "stdout",
     "output_type": "stream",
     "text": [
      "Index ประโยคภาษาไทย: 622026\n",
      "ประโยค: ไดร์เวอร์เฮฟวี2เป็นเกมขับรถบรรทุกที่คุณต้องขับรถบรรทุกรถแทรกเตอร์ผ่านถนนในเมืองคับแคบและที่จอดรถการทำเครื่องหมายลงในที่จอดรถหลีกเลี่ยงการข้ามถนนที่อันตรายอุปสรรคต่างๆและการจราจรบนท้องถนนไม่เกิดความเสียหายรถของคุณและขับรถออกจากถนนเสร็จสิ้นภารกิจที่จอดรถทุกอย่างที่คุณจะได้รับจำนวนจำกัดของปุ่มลูกศรที่จะขับรถtimeUseจอดรถบรรทุกรถแทรกเตอร์เข้าไปในการทำเครื่องหมายที่จอดรถ*\n",
      "Same index: 622026 Value: 59 Rank: 0\n",
      "Sentence: heavy driver 2 is a truck driving game where you have to drive a tractor truck through strait city street and park it into marked parking space avoid dangerous road crossing various obstacle and traffic on the street do not damage your truck and drive off the road complete all parking mission quickly a you are given limited amount of time use arrow key to drive park the tractor truck into marked parking space * * *\n",
      "Minimum index: 622026 Value: 59\n",
      "Sentence: heavy driver 2 is a truck driving game where you have to drive a tractor truck through strait city street and park it into marked parking space avoid dangerous road crossing various obstacle and traffic on the street do not damage your truck and drive off the road complete all parking mission quickly a you are given limited amount of time use arrow key to drive park the tractor truck into marked parking space * * *\n",
      "========================================\n"
     ]
    },
    {
     "name": "stderr",
     "output_type": "stream",
     "text": [
      "\r",
      "413it [14:40,  3.30s/it]"
     ]
    },
    {
     "name": "stdout",
     "output_type": "stream",
     "text": [
      "Index ประโยคภาษาไทย: 356430\n",
      "ประโยค: ฉันชอบกลิ่นของผลิตภัณฑ์นี้*\n",
      "Same index: 356430 Value: 6 Rank: 9\n",
      "Sentence: i love the smell of this product\n",
      "Minimum index: 286729 Value: 5\n",
      "Sentence: i love my new toaster * *\n",
      "========================================\n"
     ]
    },
    {
     "name": "stderr",
     "output_type": "stream",
     "text": [
      "\r",
      "414it [14:41,  2.69s/it]"
     ]
    },
    {
     "name": "stdout",
     "output_type": "stream",
     "text": [
      "Index ประโยคภาษาไทย: 347672\n",
      "ประโยค: หลังจากนั้นเขาระบายสีประมาณครึ่งหนึ่งของมันและเรายังรอให้บางอย่างสมบูรณ์แบบ\n",
      "Same index: 347672 Value: 17 Rank: 571\n",
      "Sentence: after that he colored about half of it over and still we are waiting for some to be perfect * *\n",
      "Minimum index: 59423 Value: 13\n",
      "Sentence: so now i 'm stuck with it\n",
      "========================================\n"
     ]
    },
    {
     "name": "stderr",
     "output_type": "stream",
     "text": [
      "\r",
      "415it [14:45,  2.91s/it]"
     ]
    },
    {
     "name": "stdout",
     "output_type": "stream",
     "text": [
      "Index ประโยคภาษาไทย: 243375\n",
      "ประโยค: มันถูกเขียนโดยคนใหม่ในโลกแห่งการเขียนบล็อกที่เรียกว่าลอเรนเบิร์ชแต่ถ้านี่คือสิ่งที่MsBurchคิดว่ามีหน้าที่รับผิดชอบในการเขียนบล็อกเธอควรละอายใจเพราะแน่ใจว่าดูเหมือนจะไม่ถูกต้อง*\n",
      "Same index: 243375 Value: 32 Rank: 0\n",
      "Sentence: it wa written by someone new to the world of blogging called lauren burch but if this is who ms. burch think is responsible for blogging she should be ashamed because it sure doe not seem right * * * * * *\n",
      "Minimum index: 243375 Value: 32\n",
      "Sentence: it wa written by someone new to the world of blogging called lauren burch but if this is who ms. burch think is responsible for blogging she should be ashamed because it sure doe not seem right * * * * * *\n",
      "========================================\n"
     ]
    },
    {
     "name": "stderr",
     "output_type": "stream",
     "text": [
      "\r",
      "416it [14:45,  2.21s/it]"
     ]
    },
    {
     "name": "stdout",
     "output_type": "stream",
     "text": [
      "Index ประโยคภาษาไทย: 181172\n",
      "ประโยค: หนามากอีกด้วย****\n",
      "Same index: 181172 Value: 10 Rank: 376\n",
      "Sentence: it 's very thick a well i think that 's good * * *\n",
      "Minimum index: 680548 Value: 2\n",
      "Sentence: how much * * * * *\n",
      "========================================\n"
     ]
    },
    {
     "name": "stderr",
     "output_type": "stream",
     "text": [
      "\r",
      "417it [14:46,  1.92s/it]"
     ]
    },
    {
     "name": "stdout",
     "output_type": "stream",
     "text": [
      "Index ประโยคภาษาไทย: 369246\n",
      "ประโยค: หากสิ่งนั้นใช้งานได้ฉันจะเขียนบทวิจารณ์ของฉันที่นั่น**\n",
      "Same index: 369246 Value: 9 Rank: 0\n",
      "Sentence: if that stuff work then i 'll write my review on there * *\n",
      "Minimum index: 369246 Value: 9\n",
      "Sentence: if that stuff work then i 'll write my review on there * *\n",
      "========================================\n"
     ]
    },
    {
     "name": "stderr",
     "output_type": "stream",
     "text": [
      "\r",
      "418it [14:48,  1.89s/it]"
     ]
    },
    {
     "name": "stdout",
     "output_type": "stream",
     "text": [
      "Index ประโยคภาษาไทย: 522509\n",
      "ประโยค: คิดว่าพวกเราต้องรวบรวมพัสดุบางอย่างในวันที่17ถ้าเธอยังไม่ได้รับ******\n",
      "Same index: 522509 Value: 19 Rank: 573\n",
      "Sentence: thgt we have to collect some package on 17th if u haven received it\n",
      "Minimum index: 45233 Value: 14\n",
      "Sentence: this case is really pretty but not worth the plastic it take * *\n",
      "========================================\n"
     ]
    },
    {
     "name": "stderr",
     "output_type": "stream",
     "text": [
      "\r",
      "419it [14:49,  1.51s/it]"
     ]
    },
    {
     "name": "stdout",
     "output_type": "stream",
     "text": [
      "Index ประโยคภาษาไทย: 750600\n",
      "ประโยค: โอเคค่ะชอบร้านอาหารแบบไหนคะ\n",
      "Same index: 750600 Value: 11 Rank: 227\n",
      "Sentence: okay and what type of restaurant would you like * * * * *\n",
      "Minimum index: 782359 Value: 6\n",
      "Sentence: ok what is your full name *\n",
      "========================================\n"
     ]
    },
    {
     "name": "stderr",
     "output_type": "stream",
     "text": [
      "\r",
      "420it [14:50,  1.44s/it]"
     ]
    },
    {
     "name": "stdout",
     "output_type": "stream",
     "text": [
      "Index ประโยคภาษาไทย: 519774\n",
      "ประโยค: ชิปPentium4ของIntelในปัจจุบันมีแคชขนาด512กิโลไบต์**\n",
      "Same index: 519774 Value: 11 Rank: 0\n",
      "Sentence: intel 's current pentium 4 chip have 512k byte of cache * * *\n",
      "Minimum index: 505936 Value: 11\n",
      "Sentence: i wonder if they d give you milk in there * * * *\n",
      "========================================\n"
     ]
    },
    {
     "name": "stderr",
     "output_type": "stream",
     "text": [
      "\r",
      "421it [14:52,  1.57s/it]"
     ]
    },
    {
     "name": "stdout",
     "output_type": "stream",
     "text": [
      "Index ประโยคภาษาไทย: 150346\n",
      "ประโยค: และถ้าคุณไม่ต้องการให้กาแฟของคุณเย็นเอาเลยและใส่น้ำแข็งลงไปด้านบน******\n",
      "Same index: 150346 Value: 14 Rank: 1\n",
      "Sentence: and if you do n't want your coffee cold go ahead and put ice cube on top too * * *\n",
      "Minimum index: 465564 Value: 13\n",
      "Sentence: finally gave up on it * *\n",
      "========================================\n"
     ]
    },
    {
     "name": "stderr",
     "output_type": "stream",
     "text": [
      "\r",
      "422it [14:53,  1.29s/it]"
     ]
    },
    {
     "name": "stdout",
     "output_type": "stream",
     "text": [
      "Index ประโยคภาษาไทย: 843453\n",
      "ประโยค: ไม่มีปัญหาค่ะสวัสดีค่ะ**\n",
      "Same index: 843453 Value: 4 Rank: 0\n",
      "Sentence: no problem goodbye * * * *\n",
      "Minimum index: 807214 Value: 4\n",
      "Sentence: no problem take your time * *\n",
      "========================================\n"
     ]
    },
    {
     "name": "stderr",
     "output_type": "stream",
     "text": [
      "\r",
      "423it [14:53,  1.10s/it]"
     ]
    },
    {
     "name": "stdout",
     "output_type": "stream",
     "text": [
      "Index ประโยคภาษาไทย: 276151\n",
      "ประโยค: คำอธิบายไม่ได้ให้ข้อมูลเพียงพอ*\n",
      "Same index: 276151 Value: 7 Rank: 193\n",
      "Sentence: the description just did n't give enough information * * * * * *\n",
      "Minimum index: 679948 Value: 5\n",
      "Sentence: not really * * * * *\n",
      "========================================\n"
     ]
    },
    {
     "name": "stderr",
     "output_type": "stream",
     "text": [
      "\r",
      "424it [14:54,  1.03it/s]"
     ]
    },
    {
     "name": "stdout",
     "output_type": "stream",
     "text": [
      "Index ประโยคภาษาไทย: 632177\n",
      "ประโยค: ใช่ถูกต้องค่ะ****\n",
      "Same index: 632177 Value: 4 Rank: 50\n",
      "Sentence: yes that 's correct * * *\n",
      "Minimum index: 81967 Value: 3\n",
      "Sentence: very disappointed * * * * *\n",
      "========================================\n"
     ]
    },
    {
     "name": "stderr",
     "output_type": "stream",
     "text": [
      "\r",
      "425it [15:00,  2.53s/it]"
     ]
    },
    {
     "name": "stdout",
     "output_type": "stream",
     "text": [
      "Index ประโยคภาษาไทย: 23911\n",
      "ประโยค: 3การขยายตัวของการลงทุนภาคเอกชนยังมีข๎อจํากัดจาก1การอํอนคําของเงินเยนซึ่งทําให๎ต๎นทุนของการลงทุนในประเทศไทยในสายตานักลงทุนญี่ปุ่นเพิ่มสูงขึ้น2การชะลอการลงทุนเพื่อรอความชัดเจนของการลงทุนภายใต๎แผนบริหารจัดการทรัพยากรน้ําและแผนการลงทุนในด๎านโครงสร๎างพื้นฐานภายใต๎พระราชบัญญัติ ให๎อํำนาจกระทรวงการคลังกู๎เงินเพื่อการพัฒนาโครงสร๎างพื้นฐานดา๎นคมนาคมขนสํงของประเทศพศ3การชะลอการลงทุนเพื่อรอความชัดเจนของนโยบายการสํงเสริมภายใต๎***\n",
      "Same index: 23911 Value: 70 Rank: 8\n",
      "Sentence: 3 the expansion in private investment still faced with a number of risk a follows i the depreciation of the yen which make investment cost in thailand in japanese investor view higher ii the delay of investment to wait for the progress of key public investment project and iii the deferral of investment to wait for a new investment promotion policy * *\n",
      "Minimum index: 349823 Value: 68\n",
      "Sentence: bad thing the usb nano adapter doe not work * * * * *\n",
      "========================================\n"
     ]
    },
    {
     "name": "stderr",
     "output_type": "stream",
     "text": [
      "\r",
      "426it [15:11,  5.12s/it]"
     ]
    },
    {
     "name": "stdout",
     "output_type": "stream",
     "text": [
      "Index ประโยคภาษาไทย: 875384\n",
      "ประโยค: Crossแบรนด์ปากกาสุดคลาสสิคที่มีดีไซน์เป็นเอกลักษณ์เฉพาะตัวที่ใครหลายคนต่างหลงใหลด้วยความโดดเด่นพร้อมกับสไตล์ที่นำเทรนด์มาพร้อมกับหมึกที่ลื่นไหลอย่างไม่มีที่ติเพื่อประสบการณ์การเขียนที่เหนือกว่าCenturyIIcollectionนี้ถือเป็นหนึ่งในกลุ่มปากกาคลาสสิคที่เป็นเอกลักษณ์ของแบรนด์ครอสการประดับด้วยวัสดุอันเลอค่าบนตัวด้ามอันหรูหราด้วยแลคเกอร์ที่แวววาวเคลือบตัวด้ามทำให้CenturyIIควรค่าการเป็นปากกาในกลุ่มLuxury Writing Instrument Collection คุณสมบัติดัวด้ามสีโครม คลิปปากกาชุปทองคำ 23k ขนาด  64x170x43 น้ำหนัก021การรับประกันรับประกันเฉพาะกลไกตลอดอายุการใช้งานช้อปสินค้าคุณภาพจากที่คุณไว้วางใจด้วยราคาที่คุณชื่นชอบสินค้าได้รับการออกให้ได้มาตรฐานมีความทนทานคุ้มค่าต่อการใช้งานคุณสามารถเลือกซื้อสินค้าได้ตามไลฟ์สไตล์ที่คุณชื่นชอบและเหมาะสมกับการใช้งานที่หลากหลายตามความต้องการในราคาโดนใจได้ที่Powerbuy*****\n",
      "Same index: 875384 Value: 122 Rank: 156\n",
      "Sentence: cross generation later passionate fan remain loyal while trendsetters appreciate it authenticity come with specially formulated ink that flow flawlessly for a superior writing experience this century ii collection is considered one of the classic pen that are unique to the cross brand decorated with precious material on a luxurious handle with a shiny lacquer a handle making the century ii worthy of a pen in the luxury writing instrument collection feature chrome with 23 k gold-plated trim dimension 6.4x 17.0x 4.3 weight 0.21 warranty lifetime warranty mechanically only shop for best quality product from you trust with your favorite price the product ha been certified to be durable and you can shop for your favorite lifestyle at powerbuy * * * *\n",
      "Minimum index: 756356 Value: 116\n",
      "Sentence: we can get you a black suv if you want * * * *\n",
      "========================================\n"
     ]
    },
    {
     "name": "stderr",
     "output_type": "stream",
     "text": [
      "\r",
      "427it [15:12,  3.77s/it]"
     ]
    },
    {
     "name": "stdout",
     "output_type": "stream",
     "text": [
      "Index ประโยคภาษาไทย: 781957\n",
      "ประโยค: ได้เลยค่ะ9164474040ค่ะ\n",
      "Same index: 781957 Value: 7 Rank: 6\n",
      "Sentence: sure thing 916 447-4040 * * *\n",
      "Minimum index: 725427 Value: 6\n",
      "Sentence: let 's accept that one one *\n",
      "========================================\n"
     ]
    },
    {
     "name": "stderr",
     "output_type": "stream",
     "text": [
      "\r",
      "428it [15:18,  4.63s/it]"
     ]
    },
    {
     "name": "stdout",
     "output_type": "stream",
     "text": [
      "Index ประโยคภาษาไทย: 4398\n",
      "ประโยค: นายปีเตอร์สอธิบายว่านิวซีแลนด์มุ่งมั่นเปลี่ยนแปลงนโยบายต่างประเทศใหม่โดยนโยบายที่ชื่อแปซิฟิกรีเซ็ตเป็นการเปลี่ยนแปลงที่มุ่งเสริมสร้างความสัมพันธ์กับประเทศในหมู่เกาะแปซิฟิกเพื่อสนับสนุนทางเศรษฐกิจและเอกราชรวมถึงส่งเสริมประชาธิปไตยและสิทธิมนุษยชนนายปีเตอร์สกล่าวเสริมว่านโยบายนี้ยังเป็นการตอบสนองต่อสภาพแวดล้อมเชิงกลยุทธ์ที่มีการแข่งขันเพิ่มขึ้นในแปซิฟิกซึ่งรัฐบาลนิวซีแลนด์ร้องขอความร่วมมือจากออสเตรเลียสหภาพยุโรปฝรั่งเศสญี่ปุ่นสหราชอาณาจักรและสหรัฐอเมริกาเพื่อช่วยให้กลยุทธ์ดังกล่าวประสบความสำเร็จ*****\n",
      "Same index: 4398 Value: 67 Rank: 10\n",
      "Sentence: new zealand ha committed to a new shift in foreign policy he explained dubbed the “ pacific reset the shift aim to strengthen tie with pacific island nation to support their economy and independence and to promote democracy and human right it is also a response to the increasingly contested strategic environment in the pacific he added with his government calling for the cooperation of australia the european union france japan the united kingdom and the u.s. to help the strategy succeed\n",
      "Minimum index: 51637 Value: 65\n",
      "Sentence: it ha not had an excellent review but there were so many good review that i trusted the brand since we have purchased another hamilton beach item without any problem * * * * * *\n",
      "========================================\n"
     ]
    },
    {
     "name": "stderr",
     "output_type": "stream",
     "text": [
      "\r",
      "429it [15:20,  3.62s/it]"
     ]
    },
    {
     "name": "stdout",
     "output_type": "stream",
     "text": [
      "Index ประโยคภาษาไทย: 260389\n",
      "ประโยค: เหมาะสำหรับการเดินทางด้วยรถยนต์และตั้งแคมป์******\n",
      "Same index: 260389 Value: 6 Rank: 0\n",
      "Sentence: great for car trip and camping *\n",
      "Minimum index: 260389 Value: 6\n",
      "Sentence: great for car trip and camping *\n",
      "========================================\n"
     ]
    },
    {
     "name": "stderr",
     "output_type": "stream",
     "text": [
      "\r",
      "430it [15:20,  2.72s/it]"
     ]
    },
    {
     "name": "stdout",
     "output_type": "stream",
     "text": [
      "Index ประโยคภาษาไทย: 538999\n",
      "ประโยค: โอเคฉันมาคนเดียว***\n",
      "Same index: 538999 Value: 3 Rank: 0\n",
      "Sentence: ok i come alone.. alone.. * *\n",
      "Minimum index: 770137 Value: 3\n",
      "Sentence: ok the second pizza * * *\n",
      "========================================\n"
     ]
    },
    {
     "name": "stderr",
     "output_type": "stream",
     "text": [
      "\r",
      "431it [15:23,  2.77s/it]"
     ]
    },
    {
     "name": "stdout",
     "output_type": "stream",
     "text": [
      "Index ประโยคภาษาไทย: 425135\n",
      "ประโยค: รายการทํางานตามที่อธิบายไว้และราคาถูกแต่ฉันต้องส่งคืนเนื่องจากพีซีเครื่องใหม่ที่ใช้Windows2000ServicePack2SP2ไม่เห็นไดรฟ์นี้***\n",
      "Same index: 425135 Value: 26 Rank: 0\n",
      "Sentence: the item work a described and the price is right but i had to return it since a new pc with window 2000 service pack 2 sp 2 did not see this drive * * * *\n",
      "Minimum index: 425135 Value: 26\n",
      "Sentence: the item work a described and the price is right but i had to return it since a new pc with window 2000 service pack 2 sp 2 did not see this drive * * * *\n",
      "========================================\n"
     ]
    },
    {
     "name": "stderr",
     "output_type": "stream",
     "text": [
      "\r",
      "432it [15:24,  2.14s/it]"
     ]
    },
    {
     "name": "stdout",
     "output_type": "stream",
     "text": [
      "Index ประโยคภาษาไทย: 707122\n",
      "ประโยค: ถูกต้องดีนะคะค่าใช้จ่ายเท่าไหร่คะ*\n",
      "Same index: 707122 Value: 9 Rank: 305\n",
      "Sentence: that sound correct to me how much will it cost * * * *\n",
      "Minimum index: 178214 Value: 5\n",
      "Sentence: good description * * * * *\n",
      "========================================\n"
     ]
    },
    {
     "name": "stderr",
     "output_type": "stream",
     "text": [
      "\r",
      "433it [15:26,  2.01s/it]"
     ]
    },
    {
     "name": "stdout",
     "output_type": "stream",
     "text": [
      "Index ประโยคภาษาไทย: 210763\n",
      "ประโยค: ฉันชอบขนาดรูปร่างและความรู้สึกของกระทะนี้เมื่อคุณถือมันไว้ในมือของคุณ***\n",
      "Same index: 210763 Value: 13 Rank: 0\n",
      "Sentence: i like the size shape and feel of this pan when you hold it in your hand * * * *\n",
      "Minimum index: 210763 Value: 13\n",
      "Sentence: i like the size shape and feel of this pan when you hold it in your hand * * * *\n",
      "========================================\n"
     ]
    },
    {
     "name": "stderr",
     "output_type": "stream",
     "text": [
      "\r",
      "434it [15:27,  1.93s/it]"
     ]
    },
    {
     "name": "stdout",
     "output_type": "stream",
     "text": [
      "Index ประโยคภาษาไทย: 512109\n",
      "ประโยค: เธอกล่าวว่าชายอีกคนหนึ่ง อันโทเวน จอห์นสันอายุ19 ปีพยายามกลับเข้าไปแต่ควันเยอะเกินไป******\n",
      "Same index: 512109 Value: 15 Rank: 45\n",
      "Sentence: she said another man 19-year-old antowain johnson tried to go back in but the smoke would n't let him * * *\n",
      "Minimum index: 284884 Value: 14\n",
      "Sentence: but that is what you want in a good story * * * *\n",
      "========================================\n"
     ]
    },
    {
     "name": "stderr",
     "output_type": "stream",
     "text": [
      "\r",
      "435it [15:29,  1.91s/it]"
     ]
    },
    {
     "name": "stdout",
     "output_type": "stream",
     "text": [
      "Index ประโยคภาษาไทย: 972943\n",
      "ประโยค: ด้วยเหตุนี้การใช้คลื่นความถี่ไร้สายของISPส่วนใหญ่จะไม่มีใบอนุญาตเพราะใช้ความถี่สาธารณะ*****\n",
      "Same index: 972943 Value: 19 Rank: 595\n",
      "Sentence: because of this most wireless isp 's use unlicensed spectrum which is publicly shared\n",
      "Minimum index: 765973 Value: 13\n",
      "Sentence: can i have your name * *\n",
      "========================================\n"
     ]
    },
    {
     "name": "stderr",
     "output_type": "stream",
     "text": [
      "\r",
      "436it [15:30,  1.69s/it]"
     ]
    },
    {
     "name": "stdout",
     "output_type": "stream",
     "text": [
      "Index ประโยคภาษาไทย: 338703\n",
      "ประโยค: พวกเขาไม่สามารถใช้ในการใช้อุปกรณ์หน้าจอสัมผัสที่เกิดขึ้นจริง*\n",
      "Same index: 338703 Value: 12 Rank: 49\n",
      "Sentence: they just ca n't be used to using an actual touchscreen device * *\n",
      "Minimum index: 332150 Value: 10\n",
      "Sentence: just make sure you follow direction *\n",
      "========================================\n"
     ]
    },
    {
     "name": "stderr",
     "output_type": "stream",
     "text": [
      "\r",
      "437it [15:32,  1.75s/it]"
     ]
    },
    {
     "name": "stdout",
     "output_type": "stream",
     "text": [
      "Index ประโยคภาษาไทย: 486601\n",
      "ประโยค: เราทั้งสามคนจะรับประทานอาหารด้วยกันในช่วงต้นๆของเมืองและกลับมาที่นี่*****\n",
      "Same index: 486601 Value: 12 Rank: 0\n",
      "Sentence: we shall all three dine together early in town and return here * *\n",
      "Minimum index: 486601 Value: 12\n",
      "Sentence: we shall all three dine together early in town and return here * *\n",
      "========================================\n"
     ]
    },
    {
     "name": "stderr",
     "output_type": "stream",
     "text": [
      "\r",
      "438it [15:42,  4.12s/it]"
     ]
    },
    {
     "name": "stdout",
     "output_type": "stream",
     "text": [
      "Index ประโยคภาษาไทย: 944795\n",
      "ประโยค: THEBODYSHOPเปลี่ยนห้องน้ำของคุณให้กลายเป็นสปาโมร็อคโคด้วยดินเหนียวRhassoulที่อุดมด้วยมิเนอรัลซึ่งสาวโมร็อคโคนิยมใช้เพื่อคืนความกระชับให้ผิวกายรู้สึกยืดหยุ่นทันทีขณะซึมลงสู่ผิวTHEBODYSHOPผลิตภัณฑ์ดูแลผิวกายมีส่วนผสมของดินเหนียวRhassoulที่อุดมด้วยมิเนอรัลเพื่อความกระชับและรู้สึกยืดหยุ่นทันทีขณะซึมลงสู่ผิวใช้ปริมาณเล็กน้อยรอให้แห้งประมาณ10 นาทีจึงล้างออกด้วยน้ำเย็นเพื่อให้ผิวกายรู้สึกกระชับขึ้นสินค้ามีอายุ5 ปีนับจากวันผลิต200 mlหมายเหตุสีของผลิตภัณฑ์ที่แสดงบนเว็บไซต์อาจมีความแตกต่างกันจากการตั้งค่าการแสดงผลสีของแต่ละหน้าจอ******\n",
      "Same index: 944795 Value: 114 Rank: 873\n",
      "Sentence: the body shop rhassoul clay is treasured by moroccan woman for it skin firming power a this mineral-rich mask absorbs excess water and oil allowing skin to tighten and feel firmer a it dry use this toning mask a part of our revitalising ritual when you want your body and mind to feel re-energised firming clay body mask contour the body to leave skin looking and feeling more toned revitalises body and mind with rhassoul clay from the atlas mountain morocco 200 ml caution in term of item color it may be slightly different from each monitor display and specification\n",
      "Minimum index: 168886 Value: 103\n",
      "Sentence: it is obvious that someone who would go out in public looking a if they are having a bad day or feeling hopeless about thing would n't want to talk much about how miserable it wa in their life * * *\n",
      "========================================\n"
     ]
    },
    {
     "name": "stderr",
     "output_type": "stream",
     "text": [
      "\r",
      "439it [15:48,  4.74s/it]"
     ]
    },
    {
     "name": "stdout",
     "output_type": "stream",
     "text": [
      "Index ประโยคภาษาไทย: 880570\n",
      "ประโยค: มอบผิวสุขภาพดีดุอ่อนเยาว์ขึ้นด้วยน้ำมันกุหลาบจากERBออย์ที่ช่วยบำรุงผิวให้ผิวแลดูสุขภาพดีกว่าที่เคยกลิ่นหอมผ่อนคลายมีส่วนประกอบจากRoseHipoilEveeningPrimroseoilRoseAbsoluteวิธีการดูแลรักษาควรเก็บไว้ในที่ร่มห้ามโดนแดด75gหมายเหตุสีของผลิตภัณฑ์ที่แสดงบนเว็บไซต์อาจมีความแตกต่างกันจากการตั้งค่าการแสดงผลของแต่ละหน้าจอ****\n",
      "Same index: 880570 Value: 63 Rank: 15\n",
      "Sentence: erb wine & rose anti-aging hand serum rose hip oil delicately skine tone and healthy complexion the perfect remedy for a healthy younger-looking skin rose hip oileveening primrose oilrose absolute 75 g. note in term of item color it may be slightly different from each monitor display and specification * * * * * *\n",
      "Minimum index: 246017 Value: 62\n",
      "Sentence: however the character are not well developed enough to keep you interested from start to finish * * * * *\n",
      "========================================\n"
     ]
    },
    {
     "name": "stderr",
     "output_type": "stream",
     "text": [
      "\r",
      "440it [15:56,  5.66s/it]"
     ]
    },
    {
     "name": "stdout",
     "output_type": "stream",
     "text": [
      "Index ประโยคภาษาไทย: 951904\n",
      "ประโยค: เคลื่อนไหวอย่างเป็นธรรมชาติกับกางเกงวิ่งออกกำลังกายขาสั้นSupernovaTightsจากแบรนด์ADIDASผลิตจากวัสดุคุณภาพดีเนื้อผ้านุ่มสบายกระชับสัดส่วนและมาพร้อมกับเทคโนโลยีclimaliteคงความแห้งสบายตลอดวันให้แก่คุณสวมใส่กระชับสัดส่วนเนื้อผ้าสัมผัสนุ่มลื่นมอบเคลื่อนไหวได้เป็นธรรมชาติผลิตจากวัสดุรีไซเคิลโพลีเอสเตอร์79ผ้ายืด21เทคโนโลยีclimaliteคงความแห้งสบายตลอดวันให้แก่คุณหมายเหตุสีของผลิตภัณฑ์ที่แสดงบนเว็บไซต์อาจมีความแตกต่างกันจากการตั้งค่าการแสดงผลสีของแต่ละหน้าจอ*****\n",
      "Same index: 951904 Value: 82 Rank: 41\n",
      "Sentence: these short tights help keep you cool on warm-weather run stretchy moisture-wicking fabric sweep sweat away for dry comfort over any distance the fitted cut ha a second-skin feel fitted fit is one size us-s down from regular sizing for a tight feelhigh-rise back made from recycled polyester 79 elastane 21 sweat-wicking climalite fabric drawcord waist sweat-guard pocket caution in term of item color it may be slightly different from each monitor display and specification * *\n",
      "Minimum index: 671827 Value: 79\n",
      "Sentence: well your ready to go give them 10 minute so get ready * *\n",
      "========================================\n"
     ]
    },
    {
     "name": "stderr",
     "output_type": "stream",
     "text": [
      "\r",
      "441it [15:58,  4.65s/it]"
     ]
    },
    {
     "name": "stdout",
     "output_type": "stream",
     "text": [
      "Index ประโยคภาษาไทย: 220966\n",
      "ประโยค: อย่างไรก็ตามทุกคนที่ได้ศึกษาด้านจิตวิทยาในทุกระดับจะได้เรียนรู้เพิ่มเติมจากหนังสือเรียนที่ดีเช่นThe Mind PalaceโดยStephenPinker*****\n",
      "Same index: 220966 Value: 19 Rank: 1\n",
      "Sentence: however anyone who ha studied psychology at any level would learn more from a good textbook such a 'the mind palace by stephen pinker * * * * *\n",
      "Minimum index: 492183 Value: 18\n",
      "Sentence: so far he read in silence then he broke out again * * *\n",
      "========================================\n"
     ]
    },
    {
     "name": "stderr",
     "output_type": "stream",
     "text": [
      "\r",
      "442it [15:59,  3.45s/it]"
     ]
    },
    {
     "name": "stdout",
     "output_type": "stream",
     "text": [
      "Index ประโยคภาษาไทย: 185865\n",
      "ประโยค: ไม่อยากให้จบเลย**\n",
      "Same index: 185865 Value: 9 Rank: 330\n",
      "Sentence: i did n't want it to come to an end * * * *\n",
      "Minimum index: 400042 Value: 4\n",
      "Sentence: not too difficult for her * *\n",
      "========================================\n"
     ]
    },
    {
     "name": "stderr",
     "output_type": "stream",
     "text": [
      "\r",
      "443it [16:00,  2.61s/it]"
     ]
    },
    {
     "name": "stdout",
     "output_type": "stream",
     "text": [
      "Index ประโยคภาษาไทย: 754037\n",
      "ประโยค: ได้ค่ะต้องการตั๋วกี่ใบคะ\n",
      "Same index: 754037 Value: 14 Rank: 320\n",
      "Sentence: of course how many ticket are you looking for * * * * *\n",
      "Minimum index: 774233 Value: 6\n",
      "Sentence: have a good time * * *\n",
      "========================================\n"
     ]
    },
    {
     "name": "stderr",
     "output_type": "stream",
     "text": [
      "\r",
      "444it [16:01,  2.38s/it]"
     ]
    },
    {
     "name": "stdout",
     "output_type": "stream",
     "text": [
      "Index ประโยคภาษาไทย: 273158\n",
      "ประโยค: นอกจากนี้บางครั้งคุณอาจลองรถคันหนึ่งออกไปซักพักแล้วตัดสินใจว่าจะไม่ผ่านมันไป*\n",
      "Same index: 273158 Value: 17 Rank: 0\n",
      "Sentence: also sometimes you 'll try one car out for a while and then decide not to go back through it *\n",
      "Minimum index: 256151 Value: 17\n",
      "Sentence: the information is good a far a it go * * * * *\n",
      "========================================\n"
     ]
    },
    {
     "name": "stderr",
     "output_type": "stream",
     "text": [
      "\r",
      "445it [16:03,  2.04s/it]"
     ]
    },
    {
     "name": "stdout",
     "output_type": "stream",
     "text": [
      "Index ประโยคภาษาไทย: 494425\n",
      "ประโยค: ไม่มีใครรู้ว่าเกิดอะไรขึ้น******\n",
      "Same index: 494425 Value: 8 Rank: 32\n",
      "Sentence: the thing is nobody knew what wa happening * * * * * *\n",
      "Minimum index: 729302 Value: 6\n",
      "Sentence: no i have not not * *\n",
      "========================================\n"
     ]
    },
    {
     "name": "stderr",
     "output_type": "stream",
     "text": [
      "\r",
      "446it [16:14,  4.77s/it]"
     ]
    },
    {
     "name": "stdout",
     "output_type": "stream",
     "text": [
      "Index ประโยคภาษาไทย: 968385\n",
      "ประโยค: ทหารอาสาสมัครและความสามารถในการซื้อขายอาวุธยุทธภัฑฑ์ประเทศอื่นๆยังคงวางตัวเป็นกลางด้วยความเป็นกลางนี้ต้องเผชิญกับฝ่ายค้านอย่างรุนแรงจากกลุ่มปัญญาชนในสหรัฐอเมริกาและสหราชอาณาจักรและขอบเขตเล็กๆน้อยในประเทศยุโรปอื่นๆและลัทธิมาร์กซิสต์ทั่วโลกครั้งนี้ได้นำไปสู่การรวมตัวก่อตั้งกองพลน้อยนานาชาติจำนวนนับพันของชาวต่างชาติของทุกประเทศที่สมัครใจที่ต้องการจะเดินทางไปยังประเทศสเปนเพื่อช่วยเหลือฝ่ายสาธารณรัฐพวกเขาได้ตั้งใจปฏิบัติหน้าที่ที่ดีเพื่อขวัญกำลังใจแต่การทหารไม่ได้ให้ความสำคัญมากนักฝ่ายสนับสนุนสาธารณรัฐภายในสเปนนับตั้งแต่ผู้วางตัวเป็นกลางทางการเมืองที่สนับสนุนระบอบประชาธิปไตยเสรีนิยมของพวกนายทุนระดับปานกลางไปยังการปฏิวัติของพวกอนาธิปไตยที่คัดค้านสาธารณรัฐแต่ได้เข้าข้างฝ่ายต่อต้านกองกำลังก่อรัฐประหารพื้นฐานของพวกเขาส่วนใหญ่เป็นทางโลกและเมืองแต่ยังรวมถึงชาวนาที่ไร้ที่ดินและโดยเฉพาะอย่างยิ่งของความแข็งแกร่งในภูมิภาคอุตสาหกรรมเช่นแคว้นอัสตูเรียส ประเทศบาสก์ และแคว้นกาตาลุญญา\n",
      "Same index: 968385 Value: 123 Rank: 0\n",
      "Sentence: other country remained neutral this neutrality faced serious opposition from sympathizer in the united state and united kingdom and to a lesser extent in other european country and from marxist worldwide this led to formation of the international brigade thousand of foreigner of all nationality who voluntarily went to spain to aid the republic in the fight they meant a great deal to morale but militarily were not very significant the republic 's supporter within spain ranged from centrist who supported a moderately-capitalist liberal democracy to revolutionary anarchist who opposed the republic but sided with it against the coup force *\n",
      "Minimum index: 968385 Value: 123\n",
      "Sentence: other country remained neutral this neutrality faced serious opposition from sympathizer in the united state and united kingdom and to a lesser extent in other european country and from marxist worldwide this led to formation of the international brigade thousand of foreigner of all nationality who voluntarily went to spain to aid the republic in the fight they meant a great deal to morale but militarily were not very significant the republic 's supporter within spain ranged from centrist who supported a moderately-capitalist liberal democracy to revolutionary anarchist who opposed the republic but sided with it against the coup force *\n",
      "========================================\n"
     ]
    },
    {
     "name": "stderr",
     "output_type": "stream",
     "text": [
      "\r",
      "447it [16:15,  3.70s/it]"
     ]
    },
    {
     "name": "stdout",
     "output_type": "stream",
     "text": [
      "Index ประโยคภาษาไทย: 889704\n",
      "ประโยค: โต๊ะทำงานสีโอ๊คอ่อนเทาดำเฟอร์ราเดคST1475DA****\n",
      "Same index: 889704 Value: 14 Rank: 485\n",
      "Sentence: furradec st1475 da desk light oak+graphite oak+graphite\n",
      "Minimum index: 755031 Value: 9\n",
      "Sentence: great have a great weekend jack *\n",
      "========================================\n"
     ]
    },
    {
     "name": "stderr",
     "output_type": "stream",
     "text": [
      "\r",
      "448it [16:17,  3.33s/it]"
     ]
    },
    {
     "name": "stdout",
     "output_type": "stream",
     "text": [
      "Index ประโยคภาษาไทย: 545048\n",
      "ประโยค: เฮ้สุขสันต์วันปีใหม่จีนนะฉันไม่รู้นั่นคือเหตุผลว่าทำไมฉันถึงถามพวกเธอทุกคนในอีเมล******\n",
      "Same index: 545048 Value: 19 Rank: 0\n",
      "Sentence: hey happy cny i do n't know that 's why wa asking u all in email * * * * *\n",
      "Minimum index: 545048 Value: 19\n",
      "Sentence: hey happy cny i do n't know that 's why wa asking u all in email * * * * *\n",
      "========================================\n"
     ]
    },
    {
     "name": "stderr",
     "output_type": "stream",
     "text": [
      "\r",
      "449it [16:20,  3.21s/it]"
     ]
    },
    {
     "name": "stdout",
     "output_type": "stream",
     "text": [
      "Index ประโยคภาษาไทย: 63959\n",
      "ประโยค: ฉันรีวิวผลิตภัณฑ์นี้ไม่ได้เนื่องจากฉันไม่เคยได้ของอยู่แล้วตามเวลาที่คุณส่งก็จะรู้ว่าไม่ใช่สิ่งที่สั่งซื้อรวมทั้งไม่มีหมายเลขการติดตามฯลฯ**\n",
      "Same index: 63959 Value: 30 Rank: 49\n",
      "Sentence: i ca n't review this product a it wa never received by the time you send it you 'll know it 's not what you ordered plus there is no tracking number etc * *\n",
      "Minimum index: 416365 Value: 28\n",
      "Sentence: these will leak if not packed right or taken care of * * *\n",
      "========================================\n"
     ]
    },
    {
     "name": "stderr",
     "output_type": "stream",
     "text": [
      "\r",
      "450it [16:22,  2.62s/it]"
     ]
    },
    {
     "name": "stdout",
     "output_type": "stream",
     "text": [
      "Index ประโยคภาษาไทย: 637918\n",
      "ประโยค: ยังรับเป็นถาดใหญ่1ถาดเหมือนเดิมไหมคะ****\n",
      "Same index: 637918 Value: 9 Rank: 6\n",
      "Sentence: and you still want one large *\n",
      "Minimum index: 217124 Value: 8\n",
      "Sentence: it make me want to dance.. love it * * * * * *\n",
      "========================================\n"
     ]
    },
    {
     "name": "stderr",
     "output_type": "stream",
     "text": [
      "\r",
      "451it [16:22,  2.03s/it]"
     ]
    },
    {
     "name": "stdout",
     "output_type": "stream",
     "text": [
      "Index ประโยคภาษาไทย: 722529\n",
      "ประโยค: อาหารจะใช้เวลาประมาณกี่นาที*\n",
      "Same index: 722529 Value: 7 Rank: 185\n",
      "Sentence: what is the eta for the order\n",
      "Minimum index: 457318 Value: 4\n",
      "Sentence: the battery last about 8 hr *\n",
      "========================================\n"
     ]
    },
    {
     "name": "stderr",
     "output_type": "stream",
     "text": [
      "\r",
      "452it [16:24,  1.94s/it]"
     ]
    },
    {
     "name": "stdout",
     "output_type": "stream",
     "text": [
      "Index ประโยคภาษาไทย: 206843\n",
      "ประโยค: ฉันซื้อหนังสือเล่มนี้เพื่อเรียนรู้เพิ่มเติมเกี่ยวกับโรคที่ส่งผลต่อฉันในช่วง25 ปีที่ผ่านมา****\n",
      "Same index: 206843 Value: 16 Rank: 10\n",
      "Sentence: i bought this book to learn more about a disease that ha affected me over the past 25 year * *\n",
      "Minimum index: 82228 Value: 15\n",
      "Sentence: i bought this after reading review *\n",
      "========================================\n"
     ]
    },
    {
     "name": "stderr",
     "output_type": "stream",
     "text": [
      "\r",
      "453it [16:25,  1.73s/it]"
     ]
    },
    {
     "name": "stdout",
     "output_type": "stream",
     "text": [
      "Index ประโยคภาษาไทย: 806681\n",
      "ประโยค: ร้านอาเซียโกว่างอยู่ค่ะอยากได้เวลาไหนดีคะ******\n",
      "Same index: 806681 Value: 9 Rank: 248\n",
      "Sentence: yes asiago 's is available what time would you like * * * *\n",
      "Minimum index: 737444 Value: 7\n",
      "Sentence: would you like to hear more *\n",
      "========================================\n"
     ]
    },
    {
     "name": "stderr",
     "output_type": "stream",
     "text": [
      "\r",
      "454it [16:26,  1.58s/it]"
     ]
    },
    {
     "name": "stdout",
     "output_type": "stream",
     "text": [
      "Index ประโยคภาษาไทย: 155099\n",
      "ประโยค: ฉันจะไม่ลังเลที่จะซื้ออีกอันเลย*****\n",
      "Same index: 155099 Value: 6 Rank: 0\n",
      "Sentence: i would not hesitate to buy another one * * * * * *\n",
      "Minimum index: 155099 Value: 6\n",
      "Sentence: i would not hesitate to buy another one * * * * * *\n",
      "========================================\n"
     ]
    },
    {
     "name": "stderr",
     "output_type": "stream",
     "text": [
      "\r",
      "455it [16:27,  1.30s/it]"
     ]
    },
    {
     "name": "stdout",
     "output_type": "stream",
     "text": [
      "Index ประโยคภาษาไทย: 741210\n",
      "ประโยค: สำหรับกี่ท่านคะ***\n",
      "Same index: 741210 Value: 6 Rank: 125\n",
      "Sentence: okay and for how many people *\n",
      "Minimum index: 536602 Value: 4\n",
      "Sentence: oops.. auto correct.. suppose to be 'kk * * *\n",
      "========================================\n"
     ]
    },
    {
     "name": "stderr",
     "output_type": "stream",
     "text": [
      "\r",
      "456it [16:28,  1.11s/it]"
     ]
    },
    {
     "name": "stdout",
     "output_type": "stream",
     "text": [
      "Index ประโยคภาษาไทย: 359090\n",
      "ประโยค: มันมีประโยชน์มากเมื่อขับรถทางไกล*\n",
      "Same index: 359090 Value: 7 Rank: 187\n",
      "Sentence: it 's super useful when driving long distance * * * * * *\n",
      "Minimum index: 645906 Value: 5\n",
      "Sentence: how many people are going * *\n",
      "========================================\n"
     ]
    },
    {
     "name": "stderr",
     "output_type": "stream",
     "text": [
      "\r",
      "457it [16:30,  1.33s/it]"
     ]
    },
    {
     "name": "stdout",
     "output_type": "stream",
     "text": [
      "Index ประโยคภาษาไทย: 652657\n",
      "ประโยค: ฉันอยากได้ร้านที่ขั้นต่ำสี่ดาวและราคาอาหารไม่เกิน50ต่อคน******\n",
      "Same index: 652657 Value: 13 Rank: 0\n",
      "Sentence: i want a restaurant with at least 4 star and no more than 50 per person * * * * *\n",
      "Minimum index: 414133 Value: 13\n",
      "Sentence: my four year old grandson can not get enough * * * * *\n",
      "========================================\n"
     ]
    },
    {
     "name": "stderr",
     "output_type": "stream",
     "text": [
      "\r",
      "458it [16:30,  1.12s/it]"
     ]
    },
    {
     "name": "stdout",
     "output_type": "stream",
     "text": [
      "Index ประโยคภาษาไทย: 492760\n",
      "ประโยค: สำหรับฉันชั้นต้องให้อภัยอะไร*\n",
      "Same index: 492760 Value: 8 Rank: 244\n",
      "Sentence: a to me what had i to forgive * * * * * *\n",
      "Minimum index: 681996 Value: 6\n",
      "Sentence: please connect me with intelligent auto solution * *\n",
      "========================================\n"
     ]
    },
    {
     "name": "stderr",
     "output_type": "stream",
     "text": [
      "\r",
      "459it [16:32,  1.32s/it]"
     ]
    },
    {
     "name": "stdout",
     "output_type": "stream",
     "text": [
      "Index ประโยคภาษาไทย: 154489\n",
      "ประโยค: มีสิ่งนี้บนหลังคาของSUVของเราเพราะไม่ชอบแขวนของเปียกๆจากกรอบหน้าต่าง**\n",
      "Same index: 154489 Value: 16 Rank: 0\n",
      "Sentence: have had this on the roof of our suv since i do n't like hanging wet item from a window frame\n",
      "Minimum index: 237920 Value: 16\n",
      "Sentence: this little thing is amazing * *\n",
      "========================================\n"
     ]
    },
    {
     "name": "stderr",
     "output_type": "stream",
     "text": [
      "\r",
      "460it [16:37,  2.50s/it]"
     ]
    },
    {
     "name": "stdout",
     "output_type": "stream",
     "text": [
      "Index ประโยคภาษาไทย: 621369\n",
      "ประโยค: เห็นใน2011ธุรกิจFlixbussได้เปลี่ยนวิธีที่ผู้คนที่เดินทางในยุโรปด้วยเทคนิคเล็กน้อยที่คุณสามารถได้รับตั๋วรถบัสที่มีต้นทุนต่ำรหัสFlixBusโปรโมชั่นของเราในปัจจุบันสามารถใช้ได้สำหรับแต่ละคนและทุกคนที่ต้องการจะเดินทางไปกับFlixBusที่ค่าใช้จ่ายน้อยในร่องรอยคุณเป็นเพียงเกี่ยวกับการหาวิธีที่จะทำงานร่วมกับรหัสคูปอง Flixbusน้อยกว่า*\n",
      "Same index: 621369 Value: 58 Rank: 86\n",
      "Sentence: established in 2011 the flixbuss business ha shifted the way people traveling in europe with a few trick you can always receive a low-cost bus ticket our flixbus promo code are at present available for each and every person who want to travel with flixbus at the least cost in such trace you are just about to find out the way to work with flixbus coupon code le le *\n",
      "Minimum index: 301997 Value: 55\n",
      "Sentence: i still have n't got them both figured out but i 'm working on it * * * * * *\n",
      "========================================\n"
     ]
    },
    {
     "name": "stderr",
     "output_type": "stream",
     "text": [
      "\r",
      "461it [16:38,  1.94s/it]"
     ]
    },
    {
     "name": "stdout",
     "output_type": "stream",
     "text": [
      "Index ประโยคภาษาไทย: 745921\n",
      "ประโยค: เราเจออยู่2ร้านค่ะ*\n",
      "Same index: 745921 Value: 6 Rank: 17\n",
      "Sentence: i found two option for you *\n",
      "Minimum index: 294957 Value: 5\n",
      "Sentence: be aware of that * * *\n",
      "========================================\n"
     ]
    },
    {
     "name": "stderr",
     "output_type": "stream",
     "text": [
      "\r",
      "462it [16:44,  3.17s/it]"
     ]
    },
    {
     "name": "stdout",
     "output_type": "stream",
     "text": [
      "Index ประโยคภาษาไทย: 902576\n",
      "ประโยค: คีย์บอร์ดสำหรับคนรักการเล่นเกมที่มีปุ่มมาโคร6ปุ่มโซนปุ่มตั้งโปรแกรมเหนือปุ่มลูกศรมีปุ่มแบบกลไกที่ทนทานปุ่มกดมีอายุการใช้งานถึง50ล้านครั้งสามารถปรับความสว่างแบบจังหวะการหายใจและปรับความสว่างได้11ระดับมีการป้องกันอาการโกสต์ขั้นสูงสามารถกดพร้อมกันได้อีกด้วยประเภทGAMINGKEYBOARDสำหรับใส่PCMACNOTEBOOKวัสดุที่ใช้พลาสติกการรับประกันปี1******\n",
      "Same index: 902576 Value: 63 Rank: 338\n",
      "Sentence: keyboard for gaming lover there are 6 macro button a programmable zone button above the arrow key mechanically robust button button lifetime is 50 million time adjustable brightness for breathing and adjust the brightness 11 level can be pressed simultaneously shop for best quality product from you trust with your favorite price the product ha been certified to be durable and you can shop for your favorite lifestyle at powerbuy\n",
      "Minimum index: 130735 Value: 55\n",
      "Sentence: we do n't run all the time so i get about 25 hour out if the unit before i 'm having to recharge it * * * *\n",
      "========================================\n"
     ]
    },
    {
     "name": "stderr",
     "output_type": "stream",
     "text": [
      "\r",
      "463it [16:46,  2.96s/it]"
     ]
    },
    {
     "name": "stdout",
     "output_type": "stream",
     "text": [
      "Index ประโยคภาษาไทย: 110448\n",
      "ประโยค: หนังสือเล่มนี้อ่านได้ภายในครั้งเดียวค่ะคุณนายสมิธได้เขียนเรื่องที่ตราตรึงใจเกี่ยวกับความรักคำโกหกการหักหลังปริศนาและการแก้แค้นค่ะ\n",
      "Same index: 110448 Value: 26 Rank: 47\n",
      "Sentence: this book can be read on one sitting.ms smith ha written a compelling story about love lie betrayal murder mystery and revenge * * * * * *\n",
      "Minimum index: 339624 Value: 24\n",
      "Sentence: my other kid have one and they love it * * * * *\n",
      "========================================\n"
     ]
    },
    {
     "name": "stderr",
     "output_type": "stream",
     "text": [
      "\r",
      "464it [16:48,  2.62s/it]"
     ]
    },
    {
     "name": "stdout",
     "output_type": "stream",
     "text": [
      "Index ประโยคภาษาไทย: 936955\n",
      "ประโยค: ถ่ายภาพด่วน12 นาทีได้จอแสดงภาพLCD27230KDOTบันทึกภาพเป็นไฟล์JPEGขนาด1920x1920PIX**\n",
      "Same index: 936955 Value: 40 Rank: 857\n",
      "Sentence: shared with film instax square 62x 62 mm warranty year 1 others 1-2 minute photo shoot 2.7 230 k dot lcd monitor capture a 1920x 1920 pix jpeg image save the file a an 800x 800 x 15 fps animation li-ion built-in built-in * * * * * *\n",
      "Minimum index: 661512 Value: 17\n",
      "Sentence: make an appointment at intelligent auto solution * *\n",
      "========================================\n"
     ]
    },
    {
     "name": "stderr",
     "output_type": "stream",
     "text": [
      "\r",
      "465it [16:50,  2.35s/it]"
     ]
    },
    {
     "name": "stdout",
     "output_type": "stream",
     "text": [
      "Index ประโยคภาษาไทย: 741024\n",
      "ประโยค: รถแชร์นั่งได้แค่2คนค่ะเอาเป็นอูเบอร์เอ็กซ์แทนมั้ยคะ*****\n",
      "Same index: 741024 Value: 15 Rank: 53\n",
      "Sentence: a shared can only seat up to 2 passenger would you like to take an uberx * * * * *\n",
      "Minimum index: 554981 Value: 12\n",
      "Sentence: not ti sat got plan le p p * * * * * *\n",
      "========================================\n"
     ]
    },
    {
     "name": "stderr",
     "output_type": "stream",
     "text": [
      "\r",
      "466it [16:52,  2.20s/it]"
     ]
    },
    {
     "name": "stdout",
     "output_type": "stream",
     "text": [
      "Index ประโยคภาษาไทย: 91121\n",
      "ประโยค: ที่ทำกาแฟของบันน์ก็ใช้ได้นะคะถ้าคุณชอบกาแฟแรงๆ******\n",
      "Same index: 91121 Value: 12 Rank: 0\n",
      "Sentence: this coffee made by bunn is ok if you love strong brew * *\n",
      "Minimum index: 91121 Value: 12\n",
      "Sentence: this coffee made by bunn is ok if you love strong brew * *\n",
      "========================================\n"
     ]
    },
    {
     "name": "stderr",
     "output_type": "stream",
     "text": [
      "\r",
      "467it [16:54,  2.07s/it]"
     ]
    },
    {
     "name": "stdout",
     "output_type": "stream",
     "text": [
      "Index ประโยคภาษาไทย: 366693\n",
      "ประโยค: ฉันพบว่าการโต้แย้งของเขาน่าสนใจเป็นพิเศษโดยที่ดนตรีไม่มีที่ในด้านการศึกษา*****\n",
      "Same index: 366693 Value: 13 Rank: 0\n",
      "Sentence: i find especially interesting his contention that music ha no place in education *\n",
      "Minimum index: 366693 Value: 13\n",
      "Sentence: i find especially interesting his contention that music ha no place in education *\n",
      "========================================\n"
     ]
    },
    {
     "name": "stderr",
     "output_type": "stream",
     "text": [
      "\r",
      "468it [16:55,  1.84s/it]"
     ]
    },
    {
     "name": "stdout",
     "output_type": "stream",
     "text": [
      "Index ประโยคภาษาไทย: 114608\n",
      "ประโยค: ขนาดใหญ่กว่าที่ฉันคิดไว้ด้วยแต่เนื่องจากพวกเขาจะเติบโตไปด้วยกัน\n",
      "Same index: 114608 Value: 14 Rank: 9\n",
      "Sentence: they are a little bigger than i expected too * * * * *\n",
      "Minimum index: 401445 Value: 13\n",
      "Sentence: it is not even a novella a we purchased 2 full length book together\n",
      "========================================\n"
     ]
    },
    {
     "name": "stderr",
     "output_type": "stream",
     "text": [
      "\r",
      "469it [17:03,  3.72s/it]"
     ]
    },
    {
     "name": "stdout",
     "output_type": "stream",
     "text": [
      "Index ประโยคภาษาไทย: 956128\n",
      "ประโยค: สติกเกอร์เนื้อพลาสติกPVCโปร่งแสงป้องกันน้ำกันรอยขีดข่วนเนื้อกาวชนิดติดแน่นเหนียวไม่หลุดลอกง่ายแผ่นรองหลังกระดาษเคลือบซิลิโคนยึดกาวได้ดีช่วยยืดอายุของเอกสารให้ยาวนานยิ่งขึ้นเหมาะสำหรับเคลือบเอกสารเพื่อความสวยงามชนิดสติกเกอร์ใสโปร่งแสงสติกเกอร์หนา75แกรมแผ่นรองหลังหนา120แกรมขนาดสติกเกอร์กว้างxยาว210x297มมA4บรรจุ100 แผ่นแพ็ค1แพ็คคำแนะนำและข้อควรระวังไม่ควรนำไปติดบริเวณที่มีฝุ่นมากไม่ควรเก็บในที่มีความชื้นหรือความร้อนสูง****\n",
      "Same index: 956128 Value: 79 Rank: 0\n",
      "Sentence: transparent pvc sticker resist tearing strong adhesive provides firm adhesion without peeling off waterproof and scratch resistant help extend the life of the document ideal for document lamination for beautifulness sticker type clear transparent sticker thickness 75 gsm background thickness 120 gsm sticker size width x length 210 x 297 mm a4 contains 100 sheetspack number of item 1 pack suggestion and warning do not stick them on dusty area do not keep them in a place subject to moisture and heat * *\n",
      "Minimum index: 956128 Value: 79\n",
      "Sentence: transparent pvc sticker resist tearing strong adhesive provides firm adhesion without peeling off waterproof and scratch resistant help extend the life of the document ideal for document lamination for beautifulness sticker type clear transparent sticker thickness 75 gsm background thickness 120 gsm sticker size width x length 210 x 297 mm a4 contains 100 sheetspack number of item 1 pack suggestion and warning do not stick them on dusty area do not keep them in a place subject to moisture and heat * *\n",
      "========================================\n"
     ]
    },
    {
     "name": "stderr",
     "output_type": "stream",
     "text": [
      "\r",
      "470it [17:04,  2.96s/it]"
     ]
    },
    {
     "name": "stdout",
     "output_type": "stream",
     "text": [
      "Index ประโยคภาษาไทย: 96967\n",
      "ประโยค: อย่างไรก็ดีตั้งแต่ที่มันเป็นเม็ดๆและแบน*****\n",
      "Same index: 96967 Value: 8 Rank: 0\n",
      "Sentence: however since then they have gotten pilly and flat * * * * *\n",
      "Minimum index: 700439 Value: 8\n",
      "Sentence: are you ready * * * *\n",
      "========================================\n"
     ]
    },
    {
     "name": "stderr",
     "output_type": "stream",
     "text": [
      "\r",
      "471it [17:05,  2.26s/it]"
     ]
    },
    {
     "name": "stdout",
     "output_type": "stream",
     "text": [
      "Index ประโยคภาษาไทย: 644207\n",
      "ประโยค: ได้สิเอาอะไรอีกไหม*\n",
      "Same index: 644207 Value: 6 Rank: 11\n",
      "Sentence: sure anything else * * * *\n",
      "Minimum index: 664002 Value: 5\n",
      "Sentence: let get the 3d ticket ticket *\n",
      "========================================\n"
     ]
    },
    {
     "name": "stderr",
     "output_type": "stream",
     "text": [
      "\r",
      "472it [17:08,  2.51s/it]"
     ]
    },
    {
     "name": "stdout",
     "output_type": "stream",
     "text": [
      "Index ประโยคภาษาไทย: 870278\n",
      "ประโยค: สีBlackHotPinkโอกาสที่สวมใส่ลำลองเหมาะกับกิจกรรมทั่วไปไซส์8หมายเหตุสีของผลิตภัณฑ์ที่แสดงบนเว็บไซต์อาจมีความแตกต่างกันจากการตั้งค่าการแสดงผลสีของแต่ละหน้าจอ**\n",
      "Same index: 870278 Value: 26 Rank: 0\n",
      "Sentence: color black-hot pink occasion casual activity general size 8 caution in term of item color it may be slightly different from each monitor display and specification * *\n",
      "Minimum index: 870278 Value: 26\n",
      "Sentence: color black-hot pink occasion casual activity general size 8 caution in term of item color it may be slightly different from each monitor display and specification * *\n",
      "========================================\n"
     ]
    },
    {
     "name": "stderr",
     "output_type": "stream",
     "text": [
      "\r",
      "473it [17:25,  6.87s/it]"
     ]
    },
    {
     "name": "stdout",
     "output_type": "stream",
     "text": [
      "Index ประโยคภาษาไทย: 880299\n",
      "ประโยค: ELECTROLUXเตาอบไมโครเวฟแบบ5in1พร้อมฟังก์ชั่นทอด Air Cookใช้งานได้หลายฟังก์ชั่นทั้งไมโครเวฟอบย่างอบไอน้ำและทอดไร้น้ำมันเพื่อสุขภาพที่ดี14เมนูอัตโนมัติปรุงอาหารได้อเนกประสงค์เตาอบไมโครเวฟ5IN1พร้อมฟังก์ชั่นทอดด้วยAIRCOOKฟังก์ชั่นตั้งเวลาควบคุมระยะเวลาการปรุงอาหารเพื่อให้ได้ผลการปรุงอาหารที่ดีที่สุดโปรแกรมปรุงอาหารอัตโนมัติหลากหลายโปรแกรมปรุงอาหารแบบอัตโนมัติพร้อมใช้งานทุกครั้งเพียงกดปุ่มQUICKSTARTประหยัดเวลาเพียงกดปุ่มQuickStartเริ่มการทำงานได้รวดเร็วภายใน30วินาทีโปรแกรมอบด้วยหม้อไอน้ำด้วยอุปกรณ์เสริมหม้ออบไอน้ำที่ใช้ควบคู่กับโปรแกรมอบไอน้ำคุณสามารถนึ่งอาหารด้วยไอน้ำได้อย่างรวดเร็วและสมบูรณ์แบบทุกครั้งละลายน้ำแข็งเมื่อคุณต้องการเตรียมอาหารมื้อเย็นอย่างรวดเร็วฟังก์ชันAutoDefrostก็พร้อมจะช่วยให้คุณละลายเนื้อสัตว์แช่แข็งหรืออาหารทะเลแช่แข็งได้อย่างง่ายดายด้วยการคำนวณจากน้ำหนักและตั้งเวลาได้ความจุเตาอบ30ลิตรแหล่งกำลังไฟ220โวลต์กำลังไมโครเวฟ2200วัตต์กำลังย่าง1250วัตต์ขนาดสูงxกว้างxลึก294538436มมสีดำโรสโกลด์หมายเหตุสีของผลิตภัณฑ์ที่แสดงบนเว็บไซต์อาจมีความแตกต่างกันจากการตั้งค่าการแสดงผลของแต่ละหน้าจอ****\n",
      "Same index: 880299 Value: 178 Rank: 0\n",
      "Sentence: electrolux digital microwave ems3082 cr5 in 1 microwave with air cook function cooking time setting auto cooking program quick start within 30 second auto defrost function capacity 30 litre electric power 220 volt microwave power 2200 watt grill power 1250 watt dimension h x w x d 294 538 436 mm black-rose gold color caution in term of item color it may be slightly different from each monitor display and specification * * * *\n",
      "Minimum index: 93543 Value: 178\n",
      "Sentence: but this method take extra time so i use these smaller bag that just have handle * * * * *\n",
      "========================================\n"
     ]
    },
    {
     "name": "stderr",
     "output_type": "stream",
     "text": [
      "\r",
      "474it [17:26,  5.18s/it]"
     ]
    },
    {
     "name": "stdout",
     "output_type": "stream",
     "text": [
      "Index ประโยคภาษาไทย: 337282\n",
      "ประโยค: ในขณะที่มันยอดเยี่ยมที่เพลงได้ออกมีการบันทึกสดที่ดีกว่ามี\n",
      "Same index: 337282 Value: 17 Rank: 563\n",
      "Sentence: while it 's great that the music got released there are better live recording out there * * * * *\n",
      "Minimum index: 159850 Value: 11\n",
      "Sentence: thanks amazon for making american product available\n",
      "========================================\n"
     ]
    },
    {
     "name": "stderr",
     "output_type": "stream",
     "text": [
      "\r",
      "475it [17:27,  3.99s/it]"
     ]
    },
    {
     "name": "stdout",
     "output_type": "stream",
     "text": [
      "Index ประโยคภาษาไทย: 488372\n",
      "ประโยค: มันมีความเป็นไปได้นับไม่ถ้วนที่จะเรียงตารางหมากรุก******\n",
      "Same index: 488372 Value: 10 Rank: 326\n",
      "Sentence: there are countless possibility of arranging piece on a board of chess * *\n",
      "Minimum index: 696332 Value: 7\n",
      "Sentence: ok get me ticket to the 1:25 showing * * * * * *\n",
      "========================================\n"
     ]
    },
    {
     "name": "stderr",
     "output_type": "stream",
     "text": [
      "\r",
      "476it [17:41,  6.80s/it]"
     ]
    },
    {
     "name": "stdout",
     "output_type": "stream",
     "text": [
      "Index ประโยคภาษาไทย: 909876\n",
      "ประโยค: MOTHERSCORNผลิตภัณฑ์สำหรับเด็กผลิตจากข้าวโพด100ปลอดภัยปลอดสารพิษไม่ระคายเคืองต่อผิวหนังสามารถเข้าปากได้ไม่เป็นอันตรายต่อลูกน้องของคุณอย่างแน่นอนผลิตจากข้าวโพด100แข็งแรงทนทานปลอดภัยเหมาะสำหรับเด็กโตที่สามารถทานเองได้คล่องแล้วในวัยประมาณ25ขวบเหมาะสําหรับน้องๆที่ชอบรับประทานอาหารหลายๆอย่างพร้อมกันเพราะว่าถาดหลุมใบนี้มีขนาดใหญ่หลุมลึกสามารถใส่อาหารได้เยอะหลุมกลมใหญ่2หลุมสามารถนํามาใส่อาหารได้หลากหลายชนิดเช่นซุปอาหารจานหลักหรือของว่างสามารถใช่คู่กับถ้วยNewSoupBowlได้เป็นอย่างดีเพราะสามารถวางถ้วยลงบนหลุมล่างขวาได้อย่างพอดีสินค้าตัวนี้ไม่สามารถเข้าเตาไมโครเวฟและเครื่องนึ่งได้แต่สามารถลวกน้ำร้อนเพื่อฆ่าเชื้อได้สีเหลืองพบสินค้าเพิ่มเติมจากMOTHERSCORNคลิกสีของผลิตภัณฑ์ที่แสดงบนเว็บไซต์อาจมีความแตกต่างกันจากการตั้งค่าการแสดงผลของแต่ละหน้าจอ****\n",
      "Same index: 909876 Value: 149 Rank: 0\n",
      "Sentence: made form corn good green & safe suitable for toddler excellent for child who like option when eating it ha 2 bowl shaped space that can be used to hold varity of food such a soup main dish combo appetizer compatible with mother 's corn new soup bowl fit perfectly in the bottom right of this plate do not microwave or sterilized this product if you wish to sterilized rise with hot water note in term of item color it may be slightly different from each monitor display and specification * * * *\n",
      "Minimum index: 501892 Value: 149\n",
      "Sentence: she made use of a small plug-in in firefox * * * * *\n",
      "========================================\n"
     ]
    },
    {
     "name": "stderr",
     "output_type": "stream",
     "text": [
      "\r",
      "477it [17:42,  5.13s/it]"
     ]
    },
    {
     "name": "stdout",
     "output_type": "stream",
     "text": [
      "Index ประโยคภาษาไทย: 767086\n",
      "ประโยค: ค่ะมีอยู่อยากได้ร้อนหรือเย็นคะ******\n",
      "Same index: 767086 Value: 6 Rank: 0\n",
      "Sentence: yes that is always available hot or cold * * * * * *\n",
      "Minimum index: 767086 Value: 6\n",
      "Sentence: yes that is always available hot or cold * * * * * *\n",
      "========================================\n"
     ]
    },
    {
     "name": "stderr",
     "output_type": "stream",
     "text": [
      "\r",
      "478it [17:43,  3.77s/it]"
     ]
    },
    {
     "name": "stdout",
     "output_type": "stream",
     "text": [
      "Index ประโยคภาษาไทย: 827670\n",
      "ประโยค: เราสั่งจากร้านเบลล่าลูน่าถูกมั้ยคะ*\n",
      "Same index: 827670 Value: 6 Rank: 4\n",
      "Sentence: we 're ordering from bella luna right *\n",
      "Minimum index: 109167 Value: 5\n",
      "Sentence: the price wa right also * *\n",
      "========================================\n"
     ]
    },
    {
     "name": "stderr",
     "output_type": "stream",
     "text": [
      "\r",
      "479it [17:44,  3.17s/it]"
     ]
    },
    {
     "name": "stdout",
     "output_type": "stream",
     "text": [
      "Index ประโยคภาษาไทย: 394760\n",
      "ประโยค: ช่วงไร้สายของพีซีASUSEeeเหล่านี้แย่มากแย่กว่าเน็ตบุ๊กEeePCรุ่นเก่าที่ใช้GWireless****\n",
      "Same index: 394760 Value: 17 Rank: 50\n",
      "Sentence: the wireless range on these asus eee pc wa terrible worse than the old eeepc netbooks that use g wireless *\n",
      "Minimum index: 180127 Value: 15\n",
      "Sentence: however gave a strong insight into how big business work today * * *\n",
      "========================================\n"
     ]
    },
    {
     "name": "stderr",
     "output_type": "stream",
     "text": [
      "\r",
      "480it [17:45,  2.41s/it]"
     ]
    },
    {
     "name": "stdout",
     "output_type": "stream",
     "text": [
      "Index ประโยคภาษาไทย: 476433\n",
      "ประโยค: เสียเวลาทั้งหมด*****\n",
      "Same index: 476433 Value: 5 Rank: 89\n",
      "Sentence: total waste of time.. time.. * *\n",
      "Minimum index: 878724 Value: 2\n",
      "Sentence: double head screwdriver line color dlc6-100mm je tech je051664 * * * * * *\n",
      "========================================\n"
     ]
    },
    {
     "name": "stderr",
     "output_type": "stream",
     "text": [
      "\r",
      "481it [17:46,  2.04s/it]"
     ]
    },
    {
     "name": "stdout",
     "output_type": "stream",
     "text": [
      "Index ประโยคภาษาไทย: 274647\n",
      "ประโยค: ซื้อสิ่งนี้สำหรับสำนักงานที่ไม่ใหญ่พอ*****\n",
      "Same index: 274647 Value: 7 Rank: 0\n",
      "Sentence: bought this for an office that wa n't big enough * * * *\n",
      "Minimum index: 274647 Value: 7\n",
      "Sentence: bought this for an office that wa n't big enough * * * *\n",
      "========================================\n"
     ]
    },
    {
     "name": "stderr",
     "output_type": "stream",
     "text": [
      "\r",
      "482it [17:47,  1.79s/it]"
     ]
    },
    {
     "name": "stdout",
     "output_type": "stream",
     "text": [
      "Index ประโยคภาษาไทย: 251392\n",
      "ประโยค: ดูเหมือนง่ายพอที่จะดึงออกมาและนำไปวางหลังจากใช้แล้ว***\n",
      "Same index: 251392 Value: 12 Rank: 412\n",
      "Sentence: it seems easy enough to just pull it out and put away though after using it * * * * *\n",
      "Minimum index: 119020 Value: 9\n",
      "Sentence: very well made * * * *\n",
      "========================================\n"
     ]
    },
    {
     "name": "stderr",
     "output_type": "stream",
     "text": [
      "\r",
      "483it [17:49,  1.65s/it]"
     ]
    },
    {
     "name": "stdout",
     "output_type": "stream",
     "text": [
      "Index ประโยคภาษาไทย: 333098\n",
      "ประโยค: สรุปผู้เขียนมีความน่าสนใจเกี่ยวกับประวัติศาสตร์ตะวันตกและใหม่ของเท็กซัส***\n",
      "Same index: 333098 Value: 14 Rank: 474\n",
      "Sentence: all in all the author had an interesting take on the old and new west history of texas * * *\n",
      "Minimum index: 387080 Value: 10\n",
      "Sentence: i have bought one for my mother also * * * * * *\n",
      "========================================\n"
     ]
    },
    {
     "name": "stderr",
     "output_type": "stream",
     "text": [
      "\r",
      "484it [17:50,  1.53s/it]"
     ]
    },
    {
     "name": "stdout",
     "output_type": "stream",
     "text": [
      "Index ประโยคภาษาไทย: 575241\n",
      "ประโยค: วิดีโออยู่ในคุณภาพดีและไบเซ็กซ์ช่วงวีดีโออิสระ****\n",
      "Same index: 575241 Value: 7 Rank: 0\n",
      "Sentence: video is in good quality and bisexual video free free * * * *\n",
      "Minimum index: 575241 Value: 7\n",
      "Sentence: video is in good quality and bisexual video free free * * * *\n",
      "========================================\n"
     ]
    },
    {
     "name": "stderr",
     "output_type": "stream",
     "text": [
      "\r",
      "485it [17:51,  1.26s/it]"
     ]
    },
    {
     "name": "stdout",
     "output_type": "stream",
     "text": [
      "Index ประโยคภาษาไทย: 593082\n",
      "ประโยค: 2016ใหม่กลางแจ้งเก้าอี้พักผ่อน s ชายหาดพับแบบพกพา เก้าอี้ With waterproof เก้าอี้ on the couch***\n",
      "Same index: 593082 Value: 15 Rank: 590\n",
      "Sentence: 2016 new outdoor leisure chair s portable folding beach chair with waterproof chair on the couch couch * * * *\n",
      "Minimum index: 641025 Value: 4\n",
      "Sentence: 7:00pm 7:00pm * * * * *\n",
      "========================================\n"
     ]
    },
    {
     "name": "stderr",
     "output_type": "stream",
     "text": [
      "\r",
      "486it [17:52,  1.40s/it]"
     ]
    },
    {
     "name": "stdout",
     "output_type": "stream",
     "text": [
      "Index ประโยคภาษาไทย: 590103\n",
      "ประโยค: ตัวติดตั้งWindowsServicePackปรับปรุงภาษาที่ติดตั้งในโหมดภายในเท่านั้นไม่ใช่โหมดเร่งด่วน****\n",
      "Same index: 590103 Value: 14 Rank: 0\n",
      "Sentence: window service pack installer upgrade language installed in internal mode only not the express one one * * * * *\n",
      "Minimum index: 590103 Value: 14\n",
      "Sentence: window service pack installer upgrade language installed in internal mode only not the express one one * * * * *\n",
      "========================================\n"
     ]
    },
    {
     "name": "stderr",
     "output_type": "stream",
     "text": [
      "\r",
      "487it [18:01,  3.62s/it]"
     ]
    },
    {
     "name": "stdout",
     "output_type": "stream",
     "text": [
      "Index ประโยคภาษาไทย: 31499\n",
      "ประโยค: ประหยัดพลังงานในปริมาณขั้นต่ําตามที่รัฐกําหนดกิจกรรมหลักจัดตั้งคณะทํางานโดยมีผู้แทนหน่วยงานภาครัฐและภาคธุรกิจพลังงานรวมทั้งผู้แทนภาคเอกชนและผู้ทรงคุณวุฒิเพื่อกําหนดเกณฑ์การบังคับใช้EERSกับธุรกิจไฟฟ้าของรัฐคณะทํางานร่วมกันกําหนดปริมาณพลังงานที่ต้องประหยัดขั้นต่ําเช่นในรูปของร้อยละของยอดการผลิตหรือจําหน่ายเฉลี่ย3 ปีที่ผ่านมารวมทั้งกําหนดแนวทางการพิสูจน์ผลประหยัดอัตราคา่ปรับในกรณีที่ได้ต่ํากว่าเกณฑ์และอัตราค่าตอบแทนกรณีที่สูงกว่าเกณฑ์มาตรการการจัดทําข้อตกลงการอนุรักษ์พลังงานแบบสมัครใจvoluntaryagreementแผนงานการจัดทําข้อตกลงด้านการอนุรักษ์พลังงานแบบสมัครใจกับกลุ่มธุรกิจอุตสาหกรรม**\n",
      "Same index: 31499 Value: 106 Rank: 33\n",
      "Sentence: major activity appoint a working group comprising representative from energy-related government agency and the private sector and qualified person to determine the criterion of eers application to the state-owned electricity enterprise the working group is to jointly determine the minimum energy saving to be achieved e.g in a certain percentage of the average of the total generation or sale during the previous 3-year period together with the approach for energy saving verification a well a the rate of penalty for failure to meet the specified eers and the incentive rate for achievement greater than the specified eers *\n",
      "Minimum index: 608987 Value: 104\n",
      "Sentence: when traveling we advise to carry some euro to avoid any unwanted surprise at bologna airport there are money exchange office in order to change your local currency * *\n",
      "========================================\n"
     ]
    },
    {
     "name": "stderr",
     "output_type": "stream",
     "text": [
      "\r",
      "488it [18:02,  2.73s/it]"
     ]
    },
    {
     "name": "stdout",
     "output_type": "stream",
     "text": [
      "Index ประโยคภาษาไทย: 239120\n",
      "ประโยค: มันเป็นหนังสือที่แปลก**\n",
      "Same index: 239120 Value: 5 Rank: 18\n",
      "Sentence: it 's an odd book * *\n",
      "Minimum index: 758009 Value: 4\n",
      "Sentence: got it one moment * * *\n",
      "========================================\n"
     ]
    },
    {
     "name": "stderr",
     "output_type": "stream",
     "text": [
      "\r",
      "489it [18:02,  2.10s/it]"
     ]
    },
    {
     "name": "stdout",
     "output_type": "stream",
     "text": [
      "Index ประโยคภาษาไทย: 808547\n",
      "ประโยค: 6 โมง55ค่ะ****\n",
      "Same index: 808547 Value: 3 Rank: 0\n",
      "Sentence: six fifty five * * * *\n",
      "Minimum index: 729115 Value: 3\n",
      "Sentence: this is fine * * * *\n",
      "========================================\n"
     ]
    },
    {
     "name": "stderr",
     "output_type": "stream",
     "text": [
      "\r",
      "490it [18:03,  1.67s/it]"
     ]
    },
    {
     "name": "stdout",
     "output_type": "stream",
     "text": [
      "Index ประโยคภาษาไทย: 175685\n",
      "ประโยค: เป็นเรื่องที่ดีเขียนได้ดี**\n",
      "Same index: 175685 Value: 5 Rank: 2\n",
      "Sentence: it 's a good story * *\n",
      "Minimum index: 694623 Value: 4\n",
      "Sentence: yes just two * * * *\n",
      "========================================\n"
     ]
    },
    {
     "name": "stderr",
     "output_type": "stream",
     "text": [
      "\r",
      "491it [18:04,  1.52s/it]"
     ]
    },
    {
     "name": "stdout",
     "output_type": "stream",
     "text": [
      "Index ประโยคภาษาไทย: 226239\n",
      "ประโยค: มันไม่สะดวกสบายในการใช้งานแต่เลนส์Logitechไม่ใช่****\n",
      "Same index: 226239 Value: 11 Rank: 380\n",
      "Sentence: it 's not very comfortable to use but a logitech optical is not *\n",
      "Minimum index: 67157 Value: 8\n",
      "Sentence: color not right * * * *\n",
      "========================================\n"
     ]
    },
    {
     "name": "stderr",
     "output_type": "stream",
     "text": [
      "\r",
      "492it [18:06,  1.46s/it]"
     ]
    },
    {
     "name": "stdout",
     "output_type": "stream",
     "text": [
      "Index ประโยคภาษาไทย: 66235\n",
      "ประโยค: ส่งคืนไป2เซ็ตหลังจากที่สินค้าตกลงมาจากกล่อง*****\n",
      "Same index: 66235 Value: 13 Rank: 430\n",
      "Sentence: we had to return 2 set after the unit failed right out of box\n",
      "Minimum index: 194568 Value: 8\n",
      "Sentence: well put together too good leather a well * * * * * *\n",
      "========================================\n"
     ]
    },
    {
     "name": "stderr",
     "output_type": "stream",
     "text": [
      "\r",
      "493it [18:07,  1.38s/it]"
     ]
    },
    {
     "name": "stdout",
     "output_type": "stream",
     "text": [
      "Index ประโยคภาษาไทย: 178472\n",
      "ประโยค: เราแนะนำเล่มนี้เฉพาะกับคนที่จริงจังกับการปลูกมะเขือเทศค่ะ\n",
      "Same index: 178472 Value: 12 Rank: 0\n",
      "Sentence: i would recommend this only to someone serious about learning how to grow tomato\n",
      "Minimum index: 178472 Value: 12\n",
      "Sentence: i would recommend this only to someone serious about learning how to grow tomato\n",
      "========================================\n"
     ]
    },
    {
     "name": "stderr",
     "output_type": "stream",
     "text": [
      "\r",
      "494it [18:12,  2.42s/it]"
     ]
    },
    {
     "name": "stdout",
     "output_type": "stream",
     "text": [
      "Index ประโยคภาษาไทย: 910118\n",
      "ประโยค: ผลิตจากกระดาษหนา100แกรมทนทานและยืดหยุ่นสามารถมองเห็นแผ่นCDDVDที่อยู่ด้านในได้ป้องกันรอยขีดข่วนที่อาจทำให้แผ่นCDDVDเสียหายช่วยให้การจัดเก็บแผ่นCDDVDเป็นระเบียบเรียบร้อยสีขาวกระดาษหนา100แกรมขนาดสินค้ากว้างxยาว125x125 ซมบรรจุ50ซองแพ็คคำแนะนำและข้อควรระวังหลีกเลี่ยงเปลวไฟและความชื้น***\n",
      "Same index: 910118 Value: 50 Rank: 0\n",
      "Sentence: made of 100 gram thickness paper with durability and flexibility visible to see cddvd inside protects the cddvd from scratching help to arrange cddvd tidily colour white paper thickness 100 gram product size width x length 12.5 x 12.5 cm contains 500 pocketspack suggestion and warning keep avoid from flame and humidity humidity * * *\n",
      "Minimum index: 910118 Value: 50\n",
      "Sentence: made of 100 gram thickness paper with durability and flexibility visible to see cddvd inside protects the cddvd from scratching help to arrange cddvd tidily colour white paper thickness 100 gram product size width x length 12.5 x 12.5 cm contains 500 pocketspack suggestion and warning keep avoid from flame and humidity humidity * * *\n",
      "========================================\n"
     ]
    },
    {
     "name": "stderr",
     "output_type": "stream",
     "text": [
      "\r",
      "495it [18:12,  1.90s/it]"
     ]
    },
    {
     "name": "stdout",
     "output_type": "stream",
     "text": [
      "Index ประโยคภาษาไทย: 987462\n",
      "ประโยค: ประเทศเวเนซุเอลาในโอลิมปิกฤดูร้อน2004*****\n",
      "Same index: 987462 Value: 6 Rank: 113\n",
      "Sentence: venezuela at the 2004 summer olympics olympics\n",
      "Minimum index: 663614 Value: 2\n",
      "Sentence: where at * * * * *\n",
      "========================================\n"
     ]
    },
    {
     "name": "stderr",
     "output_type": "stream",
     "text": [
      "\r",
      "496it [18:13,  1.52s/it]"
     ]
    },
    {
     "name": "stdout",
     "output_type": "stream",
     "text": [
      "Index ประโยคภาษาไทย: 669700\n",
      "ประโยค: แน่นอนที่โรงหนังเอเอ็มซี ที่จัตุรัสบาร์ตัน ครีก ออสติน****\n",
      "Same index: 669700 Value: 8 Rank: 250\n",
      "Sentence: sure it would be amc movie at barton creek square austin * * * * *\n",
      "Minimum index: 721085 Value: 2\n",
      "Sentence: sure where at * * * *\n",
      "========================================\n"
     ]
    },
    {
     "name": "stderr",
     "output_type": "stream",
     "text": [
      "\r",
      "497it [18:22,  3.92s/it]"
     ]
    },
    {
     "name": "stdout",
     "output_type": "stream",
     "text": [
      "Index ประโยคภาษาไทย: 14454\n",
      "ประโยค: สภากาชาดไทยและกระทรวงการต่างประเทศได้ร่วมกันเป็นเจ้าภาพจัดงานปาฐกถาสมเด็จเจ้าฟ้ามหาจักรีสิรินธรมาตั้งแต่ปี๒๕๔๖และได้จัดต่อเนื่องกันมาทุก ๆ๒ปีโดยมีจุดมุ่งหมายเพื่อส่งเสริมความรู้ความเข้าใจเกี่ยวกับกฎหมายมนุษยธรรมระหว่างประเทศตลอดจนบทบาทและภารกิจของกาชาดสากลต่อสาธารณชนโดยเชิญผู้ทรงคุณวุฒิที่มีความรู้ความเชี่ยวชาญด้านกฎหมายมนุษยธรรมระหว่างประเทศมาเป็นผู้แสดงปาฐกถาตลอดจนให้ข้อคิดเห็นต่าง ๆในการปฏิบัติการด้านมนุษยธรรมระหว่างประเทศที่กำลังเป็นที่สนใจโดยมีผู้เข้าร่วมงานปาฐกถาฯได้แก่ผู้แทนส่วนราชการที่เกี่ยวข้องกับการให้ความช่วยเหลือด้านมนุษยธรรมของไทยคณะทูตานุทูต องค์การระหว่างประเทศองค์กรเอกชนสถาบันการศึกษานักวิชาการโรงเรียนทหารทั้ง๓เหล่าทัพโรงเรียนนายร้อยตำรวจและสื่อมวลชน***\n",
      "Same index: 14454 Value: 122 Rank: 980\n",
      "Sentence: the princess maha chakri sirindhorn lecture wa first launched by the thai red cross society and the ministry of foreign affair in 2003 since it inception seven lecture have been organized once every two year this lecture is organized for the purpose of disseminating knowledge on international humanitarian law and promoting greater education and research of issue related to international humanitarian law it is also a forum where qualified international expert can express their view and share their expertise including other consideration in order to promote greater understanding of international humanitarian law and it related issue among the general public especially those involved in humanitarian affair participant invited to attend comprise of member of the diplomatic corp public official representative from international organization and non-governmental organization university professor and student student from the royal thai army school and the royal police cadet academy including member of the medium * * * * * *\n",
      "Minimum index: 184407 Value: 94\n",
      "Sentence: a far a getting food inside you either need to be real strong and patient or do what another reviewer suggested use your hand over both side so that it 's not too tight *\n",
      "========================================\n"
     ]
    },
    {
     "name": "stderr",
     "output_type": "stream",
     "text": [
      "\r",
      "498it [18:24,  3.31s/it]"
     ]
    },
    {
     "name": "stdout",
     "output_type": "stream",
     "text": [
      "Index ประโยคภาษาไทย: 476466\n",
      "ประโยค: พล็อตนั้นตื้นมากและสิ่งทั้งหมดรู้สึกเหมือนเป็นการเลียนแบบหนึ่งในผลงานที่ยิ่งใหญ่ที่สุดของDavidLynch*\n",
      "Same index: 476466 Value: 18 Rank: 0\n",
      "Sentence: the plot is very shallow and the entire thing feel like a parody of one of david lynch 's greatest work *\n",
      "Minimum index: 749598 Value: 18\n",
      "Sentence: nope that 's all i needed *\n",
      "========================================\n"
     ]
    },
    {
     "name": "stderr",
     "output_type": "stream",
     "text": [
      "\r",
      "499it [18:25,  2.51s/it]"
     ]
    },
    {
     "name": "stdout",
     "output_type": "stream",
     "text": [
      "Index ประโยคภาษาไทย: 493252\n",
      "ประโยค: nค่าแรงกะกลางคืนให้อัตราการจ่ายเพิ่ม*****\n",
      "Same index: 493252 Value: 7 Rank: 185\n",
      "Sentence: the night shift men rate extra pay\n",
      "Minimum index: 168016 Value: 2\n",
      "Sentence: poor packing * * * * *\n",
      "========================================\n"
     ]
    },
    {
     "name": "stderr",
     "output_type": "stream",
     "text": [
      "\r",
      "500it [18:29,  2.85s/it]"
     ]
    },
    {
     "name": "stdout",
     "output_type": "stream",
     "text": [
      "Index ประโยคภาษาไทย: 761263\n",
      "ประโยค: สบายค่ะตอนนี้อยู่ในชิกาโกกับกลุ่มเพื่อนค่ะอยากให้มารับหน่อยตอนนี้เราอยู่ที่ร้านบิกโจนส์เรสเตอรองต์อยากไปที่พิพิธภัณฑ์เดอะชิคาโกสปอร์ตค่ะเลยอยากเรียกอูเบอร์หน่อยค่ะ******\n",
      "Same index: 761263 Value: 34 Rank: 100\n",
      "Sentence: no problem i 'm in chicago right now with a group and we need to be picked up we are at big jones restaurant and we want to go to the chicago sport museum and we need to order an uber * * * *\n",
      "Minimum index: 661544 Value: 32\n",
      "Sentence: i 'm calling to make an appointment for my car it need looked at and repaired * * * * *\n",
      "========================================\n"
     ]
    },
    {
     "name": "stderr",
     "output_type": "stream",
     "text": [
      "\r",
      "501it [18:30,  2.34s/it]"
     ]
    },
    {
     "name": "stdout",
     "output_type": "stream",
     "text": [
      "Index ประโยคภาษาไทย: 392737\n",
      "ประโยค: เพื่อเริ่มต้นมีเพียงไม่กี่สิ่งที่ฉันชอบเกี่ยวกับหนังสือเล่มนี้\n",
      "Same index: 392737 Value: 17 Rank: 582\n",
      "Sentence: so to start out there were only a handful of thing i liked about this book * * * * *\n",
      "Minimum index: 404724 Value: 11\n",
      "Sentence: just get it enjoy it * *\n",
      "========================================\n"
     ]
    },
    {
     "name": "stderr",
     "output_type": "stream",
     "text": [
      "\r",
      "502it [18:32,  2.34s/it]"
     ]
    },
    {
     "name": "stdout",
     "output_type": "stream",
     "text": [
      "Index ประโยคภาษาไทย: 1009\n",
      "ประโยค: การพัฒนาขีปนาวุธนำของเกาหลีใต้จำกัดพิสัยอยู่ที่800กิโลเมตรและน้ำหนักบรรทุกที่500กิโลกรัมภายใต้สนธิสัญญาทวิภาคีที่ได้รับการแก้ไขในปีพศ 2555***\n",
      "Same index: 1009 Value: 24 Rank: 35\n",
      "Sentence: south korea s development of it ballistic missile is limited to range of 800 kilometer and payload weight of 500 kilogram under a bilateral treaty revised in 2012 *\n",
      "Minimum index: 254236 Value: 22\n",
      "Sentence: i will be watching anxiously for her new release on october 28th * * *\n",
      "========================================\n"
     ]
    },
    {
     "name": "stderr",
     "output_type": "stream",
     "text": [
      "\r",
      "503it [18:33,  1.83s/it]"
     ]
    },
    {
     "name": "stdout",
     "output_type": "stream",
     "text": [
      "Index ประโยคภาษาไทย: 583247\n",
      "ประโยค: คลิกส่วนใดๆเหล่านี้เพื่อเข้าถึงแท็บ\n",
      "Same index: 583247 Value: 12 Rank: 251\n",
      "Sentence: click any of these part to access the driver card data tab * *\n",
      "Minimum index: 548872 Value: 7\n",
      "Sentence: hahahaaa go chalet lehhh * * *\n",
      "========================================\n"
     ]
    },
    {
     "name": "stderr",
     "output_type": "stream",
     "text": [
      "\r",
      "504it [18:33,  1.48s/it]"
     ]
    },
    {
     "name": "stdout",
     "output_type": "stream",
     "text": [
      "Index ประโยคภาษาไทย: 801039\n",
      "ประโยค: สวัสค่ะต้องการสั่งเครื่องดื่มสตาร์บัคส์ค่ะ\n",
      "Same index: 801039 Value: 11 Rank: 248\n",
      "Sentence: hi i need to order a starbucks beverage please * * * * *\n",
      "Minimum index: 735340 Value: 6\n",
      "Sentence: thanks for ordering ordering * * *\n",
      "========================================\n"
     ]
    },
    {
     "name": "stderr",
     "output_type": "stream",
     "text": [
      "\r",
      "505it [18:36,  1.75s/it]"
     ]
    },
    {
     "name": "stdout",
     "output_type": "stream",
     "text": [
      "Index ประโยคภาษาไทย: 778078\n",
      "ประโยค: อยากได้พิซซ่าไซส์กลาง3ถาดค่ะทุกถาดเป็นขอบกลูเตนฟรีถาดหนึ่งเป็นหน้าเว็จจีเลิฟเวอส์อีกสองถาดเป็นเปปเปอโรนี\n",
      "Same index: 778078 Value: 26 Rank: 33\n",
      "Sentence: yes i would like three medium pizza all gluten-free crust one veggie lover 's and two pepperoni * * * *\n",
      "Minimum index: 313064 Value: 24\n",
      "Sentence: if you are looking for something good but cute this is n't it *\n",
      "========================================\n"
     ]
    },
    {
     "name": "stderr",
     "output_type": "stream",
     "text": [
      "\r",
      "506it [18:39,  2.15s/it]"
     ]
    },
    {
     "name": "stdout",
     "output_type": "stream",
     "text": [
      "Index ประโยคภาษาไทย: 433195\n",
      "ประโยค: กรรไกรตัดเล็บมีขนาดกะทัดรัดและขนาดเล็กเหมาะสําหรับสุนัขตัวน้อยของฉันที่ไม่สนใจว่าจะต้องใช้กรรไกรตัดเล็บของเขาเลย******\n",
      "Same index: 433195 Value: 26 Rank: 0\n",
      "Sentence: the clipper are compact and the small is perfect for my little dog who doe n't mind getting his nail clipped at all * * * * *\n",
      "Minimum index: 479793 Value: 26\n",
      "Sentence: very absurd to be a little rambling is it not * * * *\n",
      "========================================\n"
     ]
    },
    {
     "name": "stderr",
     "output_type": "stream",
     "text": [
      "\r",
      "507it [18:41,  2.21s/it]"
     ]
    },
    {
     "name": "stdout",
     "output_type": "stream",
     "text": [
      "Index ประโยคภาษาไทย: 185397\n",
      "ประโยค: สามีฉันที่ไม่ค่อยจะชอบทำอะไรมากในการเตรียมอาหารคงจะใช้นี่ได้โดยไม่มีปัญหาอะไรค่ะ******\n",
      "Same index: 185397 Value: 21 Rank: 119\n",
      "Sentence: maybe my husband who never put much thought into putting meal together could have used it without too many problem *\n",
      "Minimum index: 101937 Value: 18\n",
      "Sentence: only work with wall anchor drywall i had no use for it * *\n",
      "========================================\n"
     ]
    },
    {
     "name": "stderr",
     "output_type": "stream",
     "text": [
      "\r",
      "508it [18:43,  2.10s/it]"
     ]
    },
    {
     "name": "stdout",
     "output_type": "stream",
     "text": [
      "Index ประโยคภาษาไทย: 517771\n",
      "ประโยค: อย่างไรก็ตามเราได้ตัดสินใจที่จะเลือกใช้เครื่องยนต์ของกลุ่มบริษัทยุโรปในฐานะทางออกที่ดีที่สุด****\n",
      "Same index: 517771 Value: 13 Rank: 0\n",
      "Sentence: however we have decided to opt for the european consortium 's engine a the best overall solution * * * *\n",
      "Minimum index: 517771 Value: 13\n",
      "Sentence: however we have decided to opt for the european consortium 's engine a the best overall solution * * * *\n",
      "========================================\n"
     ]
    },
    {
     "name": "stderr",
     "output_type": "stream",
     "text": [
      "\r",
      "509it [18:44,  1.83s/it]"
     ]
    },
    {
     "name": "stdout",
     "output_type": "stream",
     "text": [
      "Index ประโยคภาษาไทย: 294768\n",
      "ประโยค: มันไม่ได้ผลเลยสำหรับผมของฉัน******\n",
      "Same index: 294768 Value: 8 Rank: 8\n",
      "Sentence: it did n't work at all for my hair * * * * *\n",
      "Minimum index: 383067 Value: 7\n",
      "Sentence: had no trouble at all moving item around * * * * * *\n",
      "========================================\n"
     ]
    },
    {
     "name": "stderr",
     "output_type": "stream",
     "text": [
      "\r",
      "510it [18:46,  1.83s/it]"
     ]
    },
    {
     "name": "stdout",
     "output_type": "stream",
     "text": [
      "Index ประโยคภาษาไทย: 835891\n",
      "ประโยค: ค่ะต้องการรถไปรับจากวิลก์สแบร์ไปยังพิตส์ตันเพนซิลวาเนียค่ะ*****\n",
      "Same index: 835891 Value: 15 Rank: 57\n",
      "Sentence: yes i needed a ride from wilkes-barre to pittston pennsylvania * * * *\n",
      "Minimum index: 735500 Value: 12\n",
      "Sentence: great take care * * * *\n",
      "========================================\n"
     ]
    },
    {
     "name": "stderr",
     "output_type": "stream",
     "text": [
      "\r",
      "511it [18:48,  1.83s/it]"
     ]
    },
    {
     "name": "stdout",
     "output_type": "stream",
     "text": [
      "Index ประโยคภาษาไทย: 34814\n",
      "ประโยค: ๒ให้มีการบูรณาการฐานข้อมูลของหน่วยงานของรัฐทุกหน่วยงานเข้าด้วยกันเพื่อให้เป็น******\n",
      "Same index: 34814 Value: 16 Rank: 522\n",
      "Sentence: 2 integrating database of all state agency to provide a data system for for\n",
      "Minimum index: 63844 Value: 12\n",
      "Sentence: this could have been a good article but just an overview * * *\n",
      "========================================\n"
     ]
    },
    {
     "name": "stderr",
     "output_type": "stream",
     "text": [
      "\r",
      "512it [18:50,  1.81s/it]"
     ]
    },
    {
     "name": "stdout",
     "output_type": "stream",
     "text": [
      "Index ประโยคภาษาไทย: 109145\n",
      "ประโยค: นี่ราคาไม่แพงเลยค่ะราคาเยี่ยมประกอบได้ง่ายพอสมควรเลยมาถึงไวและใช้งานดีสำหรับฉันตั้งแต่นั้นมา\n",
      "Same index: 109145 Value: 19 Rank: 2\n",
      "Sentence: this wa very inexpensive had an excellent price wa relatively easy to assemble arrived quickly and ha served me well since\n",
      "Minimum index: 688902 Value: 18\n",
      "Sentence: no get me mountain dew instead *\n",
      "========================================\n"
     ]
    },
    {
     "name": "stderr",
     "output_type": "stream",
     "text": [
      "\r",
      "513it [18:51,  1.66s/it]"
     ]
    },
    {
     "name": "stdout",
     "output_type": "stream",
     "text": [
      "Index ประโยคภาษาไทย: 637299\n",
      "ประโยค: โอเคค่ะตั๋วหนังเรื่องกลาสสองใบจะส่งให้ในข้อความโทรศัพท์นะคะ\n",
      "Same index: 637299 Value: 18 Rank: 552\n",
      "Sentence: okay two ticket for glass are being sent to your mobile device a a text message message * * * *\n",
      "Minimum index: 715217 Value: 12\n",
      "Sentence: did you get the order message *\n",
      "========================================\n"
     ]
    },
    {
     "name": "stderr",
     "output_type": "stream",
     "text": [
      "\r",
      "514it [18:52,  1.54s/it]"
     ]
    },
    {
     "name": "stdout",
     "output_type": "stream",
     "text": [
      "Index ประโยคภาษาไทย: 257040\n",
      "ประโยค: ด้วยวิธีนี้เมื่อมีอะไรเกิดขึ้นเราก็จะได้รับการกระทำ**\n",
      "Same index: 257040 Value: 10 Rank: 0\n",
      "Sentence: this way when anything happened we finally get some form of action * *\n",
      "Minimum index: 360584 Value: 10\n",
      "Sentence: very simple a it get * *\n",
      "========================================\n"
     ]
    },
    {
     "name": "stderr",
     "output_type": "stream",
     "text": [
      "\r",
      "515it [18:55,  1.82s/it]"
     ]
    },
    {
     "name": "stdout",
     "output_type": "stream",
     "text": [
      "Index ประโยคภาษาไทย: 851325\n",
      "ประโยค: สีไม้ยาว 48สีหัวไส้ขนาด33มมเนื้อสีเนียนละเอียดให้สีสดชัดเจนติดทนนานไม่เปราะหักง่ายเวลาใช้งานฟรีกบเหลา1อันในกล่อง\n",
      "Same index: 851325 Value: 32 Rank: 813\n",
      "Sentence: 48-color long wooden color pencil set lead size 3.3 mm delicately smooth hue provides vibrant crisp and fade-resistant color hard-to-break feature during use included 1 pencil sharpener in the box box * * * *\n",
      "Minimum index: 267340 Value: 25\n",
      "Sentence: you would have a way easier time finding good quality stuff there * *\n",
      "========================================\n"
     ]
    },
    {
     "name": "stderr",
     "output_type": "stream",
     "text": [
      "\r",
      "516it [18:57,  1.83s/it]"
     ]
    },
    {
     "name": "stdout",
     "output_type": "stream",
     "text": [
      "Index ประโยคภาษาไทย: 484653\n",
      "ประโยค: ฉันมีการเล่นครั้งสุดท้ายที่เหลือเพื่อลองและนี่คือเกมที่คลาสสิกn*****\n",
      "Same index: 484653 Value: 16 Rank: 123\n",
      "Sentence: well i have one last play left to try and this one 's a classic * * * * * *\n",
      "Minimum index: 175326 Value: 13\n",
      "Sentence: have had one year and they have been making great meal * * *\n",
      "========================================\n"
     ]
    },
    {
     "name": "stderr",
     "output_type": "stream",
     "text": [
      "\r",
      "517it [18:58,  1.64s/it]"
     ]
    },
    {
     "name": "stdout",
     "output_type": "stream",
     "text": [
      "Index ประโยคภาษาไทย: 411127\n",
      "ประโยค: หลังจากล้างทําความสะอาดพวกเขารู้สึกบางในถุงมือทั้งคู่****\n",
      "Same index: 411127 Value: 10 Rank: 35\n",
      "Sentence: after one wash they felt thin on both pair of glove * * *\n",
      "Minimum index: 153658 Value: 9\n",
      "Sentence: but that 's just not going to happen * * * * * *\n",
      "========================================\n"
     ]
    },
    {
     "name": "stderr",
     "output_type": "stream",
     "text": [
      "\r",
      "518it [18:59,  1.52s/it]"
     ]
    },
    {
     "name": "stdout",
     "output_type": "stream",
     "text": [
      "Index ประโยคภาษาไทย: 485440\n",
      "ประโยค: สร้างวันที่19 เดือนมกราคม1917 ตอนนี้อนุสาวรีย์มีการเฉลิมฉลองครบรอบหนึ่งร้อยปี****\n",
      "Same index: 485440 Value: 9 Rank: 5\n",
      "Sentence: built january nineteenth nineteen-seventeen the monument is now celebrating it centennial * * * *\n",
      "Minimum index: 744117 Value: 8\n",
      "Sentence: do they have parking * * *\n",
      "========================================\n"
     ]
    },
    {
     "name": "stderr",
     "output_type": "stream",
     "text": [
      "\r",
      "519it [19:00,  1.25s/it]"
     ]
    },
    {
     "name": "stdout",
     "output_type": "stream",
     "text": [
      "Index ประโยคภาษาไทย: 293839\n",
      "ประโยค: สิ่งนี้ถูกโฆษณาว่าปลอดถั่วลิสง\n",
      "Same index: 293839 Value: 6 Rank: 0\n",
      "Sentence: this is advertised a being peanut free\n",
      "Minimum index: 451385 Value: 6\n",
      "Sentence: just the right amount * * *\n",
      "========================================\n"
     ]
    },
    {
     "name": "stderr",
     "output_type": "stream",
     "text": [
      "\r",
      "520it [19:01,  1.25s/it]"
     ]
    },
    {
     "name": "stdout",
     "output_type": "stream",
     "text": [
      "Index ประโยคภาษาไทย: 978118\n",
      "ประโยค: ประเทศสวีเดนในคศ 1968เหตุการณ์ที่เกิดขึ้นในคศ 1968ในประเทศสวีเดน****\n",
      "Same index: 978118 Value: 8 Rank: 0\n",
      "Sentence: 1968 in sweden event in the year 1968 in sweden * * * *\n",
      "Minimum index: 994285 Value: 8\n",
      "Sentence: 1873 in norway event in the year 1873 in norway * * * *\n",
      "========================================\n"
     ]
    },
    {
     "name": "stderr",
     "output_type": "stream",
     "text": [
      "\r",
      "521it [19:02,  1.07s/it]"
     ]
    },
    {
     "name": "stdout",
     "output_type": "stream",
     "text": [
      "Index ประโยคภาษาไทย: 216654\n",
      "ประโยค: ต้องมี*****\n",
      "Same index: 216654 Value: 2 Rank: 0\n",
      "Sentence: a must have * * * *\n",
      "Minimum index: 649382 Value: 2\n",
      "Sentence: kind milk * * * * *\n",
      "========================================\n"
     ]
    },
    {
     "name": "stderr",
     "output_type": "stream",
     "text": [
      "\r",
      "522it [19:02,  1.06it/s]"
     ]
    },
    {
     "name": "stdout",
     "output_type": "stream",
     "text": [
      "Index ประโยคภาษาไทย: 629354\n",
      "ประโยค: จะไปทานเมื่อไหร่คะ**\n",
      "Same index: 629354 Value: 5 Rank: 5\n",
      "Sentence: for when * * * * *\n",
      "Minimum index: 379646 Value: 4\n",
      "Sentence: a+ on all front * * *\n",
      "========================================\n"
     ]
    },
    {
     "name": "stderr",
     "output_type": "stream",
     "text": [
      "\r",
      "523it [19:08,  2.36s/it]"
     ]
    },
    {
     "name": "stdout",
     "output_type": "stream",
     "text": [
      "Index ประโยคภาษาไทย: 932387\n",
      "ประโยค: คีย์บอร์ดสำหรับคนรักการเล่นเกมที่มีปุ่มมาโคร6ปุ่มโซนปุ่มตั้งโปรแกรมเหนือปุ่มลูกศรมีปุ่มแบบกลไกที่ทนทานปุ่มกดมีอายุการใช้งานถึง50ล้านครั้งสามารถปรับความสว่างแบบจังหวะการหายใจและปรับความสว่างได้11ระดับมีการป้องกันอาการโกสต์ขั้นสูงสามารถกดพร้อมกันได้อีกด้วยประเภทGAMINGKEYBOARDสำหรับใส่MULTIADAPTERFORPCMACMOBILEANDAIRPLANEวัสดุที่ใช้พลาสติกการรับประกันปี1**\n",
      "Same index: 932387 Value: 115 Rank: 981\n",
      "Sentence: roccat keyboard for gaming lover there are 6 macro button a programmable zone button above the arrow key mechanically robust button button lifetime is 50 million time adjustable brightness for breathing and adjust the brightness 11 level can be pressed simultaneously product feature type gaming keyboard color black for input multi adapter for pc macmobile and airplane material used plastic warranty year 1 others 6 macro button programmable zone button over the arrow key mechanically durable keypad 50 million time adjustable brightness breath and brightness level 11 ha advanced ghost protection push simultaneously with unlimited blue switch button shop for best quality product from you trust with your favorite price the product ha been certified to be durable and you can shop for your favorite lifestyle at powerbuy * * * * *\n",
      "Minimum index: 246057 Value: 60\n",
      "Sentence: will not buy another item made by this * * * * * *\n",
      "========================================\n"
     ]
    },
    {
     "name": "stderr",
     "output_type": "stream",
     "text": [
      "\r",
      "524it [19:08,  1.84s/it]"
     ]
    },
    {
     "name": "stdout",
     "output_type": "stream",
     "text": [
      "Index ประโยคภาษาไทย: 725040\n",
      "ประโยค: อยากได้นมแบบไหนเป็นพิเศษมั้ยคะ\n",
      "Same index: 725040 Value: 13 Rank: 279\n",
      "Sentence: do you want a specific type of milk * * * * * *\n",
      "Minimum index: 819458 Value: 6\n",
      "Sentence: i really like japanese food * *\n",
      "========================================\n"
     ]
    },
    {
     "name": "stderr",
     "output_type": "stream",
     "text": [
      "\r",
      "525it [19:10,  1.64s/it]"
     ]
    },
    {
     "name": "stdout",
     "output_type": "stream",
     "text": [
      "Index ประโยคภาษาไทย: 237138\n",
      "ประโยค: ฉันมีปัญหาใหญ่กับAmazonที่ขายหนังสือมือสอง*****\n",
      "Same index: 237138 Value: 8 Rank: 1\n",
      "Sentence: i have a big problem with amazon selling used book * * * *\n",
      "Minimum index: 769516 Value: 7\n",
      "Sentence: that sound good book it * *\n",
      "========================================\n"
     ]
    },
    {
     "name": "stderr",
     "output_type": "stream",
     "text": [
      "\r",
      "526it [19:11,  1.53s/it]"
     ]
    },
    {
     "name": "stdout",
     "output_type": "stream",
     "text": [
      "Index ประโยคภาษาไทย: 662322\n",
      "ประโยค: เช่าเลยๆนี่เดี๋ยวฉันต้องใช้ไปทำงาน****\n",
      "Same index: 662322 Value: 10 Rank: 41\n",
      "Sentence: yes i 'm going to need to head to work afterwards * * *\n",
      "Minimum index: 149527 Value: 8\n",
      "Sentence: well made made * * * *\n",
      "========================================\n"
     ]
    },
    {
     "name": "stderr",
     "output_type": "stream",
     "text": [
      "\r",
      "527it [19:12,  1.44s/it]"
     ]
    },
    {
     "name": "stdout",
     "output_type": "stream",
     "text": [
      "Index ประโยคภาษาไทย: 386429\n",
      "ประโยค: อย่าซื้อเว้นแต่คุณต้องการต่อสู้กับมันทุกครั้งที่ใช้****\n",
      "Same index: 386429 Value: 12 Rank: 426\n",
      "Sentence: do n't buy unless you want to fight with it each time it 's used * * * * * *\n",
      "Minimum index: 653386 Value: 9\n",
      "Sentence: let me look give me a few minute minute * * * * *\n",
      "========================================\n"
     ]
    },
    {
     "name": "stderr",
     "output_type": "stream",
     "text": [
      "\r",
      "528it [19:26,  5.09s/it]"
     ]
    },
    {
     "name": "stdout",
     "output_type": "stream",
     "text": [
      "Index ประโยคภาษาไทย: 31995\n",
      "ประโยค: แผนพัฒนากำลังผลิตไฟฟ้าแผนอนุรักษ์พลังงานแผนพัฒนาพลังงานทดแทนและพลังงานทางเลือกแผนบริหารจัดการก๊าซธรรมชาติรวมถึงแผนบริหารจัดการน้ำมันเชื้อเพลิงซึ่งเป็นพลังงานชนิดที่มีสัดส่วนการใช้ที่สูงมากโดยเฉพาะในภาคขนส่งและเนื่องจากความต้องการใช้น้ำมันเชื้อเพลิงมีความเกี่ยวเนื่องและได้รับผลกระทบจากการดำเนินงานตามแผนพลังงานด้านอื่นๆจึงจำเป็นต้องมีการจัดทำแผนบริหารจัดการน้ำมันเชื้อเพลิงที่นำเอาแผนงานและนโยบายจากแผนพลังงานทุกแผนมาประกอบกันให้เห็นความเชื่อมโยงเพื่อให้การบริหารจัดการพลังงานมีประสิทธิภาพและประสานให้การดำเนินการตามแผนต่างๆมีความชัดเจนและมีเป้าหมายรวมกันเพื่อให้เกิดความสมดุลของการใช้พลังงานอย่างมีประสิทธิภาพและสามารถกำหนดทิศทางนโยบายการพัฒนาพลังงานได้อย่างเปน็รูปธรรมแผนบริหารจัดการน้ำมันเชื้อเพลิงของประเทศระยะยาวปีพศ 25582579มีวัตถุประสงคเ์พื่อใช้กำหนดทิศทางการบริหารจัดการด้านน้ำมันเชื้อเพลิงให้สอดคล้องกับเป้าหมายที่ระบุภายใต้แผนอื่นๆโดยเฉพาะแผนอนุรักษ์พลังงานและแผนพัฒนาพลังงานทดแทนและพลังงานทางเลือก**\n",
      "Same index: 31995 Value: 149 Rank: 235\n",
      "Sentence: background the ministry of energy ha set policy and national energy plan call thailand integrated energy blueprint tieb consist of power development plan pdp energy conservation development plan eedp alternative energy development plan aedp gas management plan gas plan and oil plan oil is consumed in very high a ratio compare to a total energy consumption each year especially in the transport sector and because the demand for fuel is consistent and ha been affected by the others implementation plan it ha to be a management plan to achieve a balance of energy efficiency and can determine the direction of energy policy with concrete *\n",
      "Minimum index: 145016 Value: 140\n",
      "Sentence: she never seemed to care when we were gone or they took u away from her * * * * *\n",
      "========================================\n"
     ]
    },
    {
     "name": "stderr",
     "output_type": "stream",
     "text": [
      "\r",
      "529it [19:26,  3.75s/it]"
     ]
    },
    {
     "name": "stdout",
     "output_type": "stream",
     "text": [
      "Index ประโยคภาษาไทย: 901865\n",
      "ประโยค: ปากกาเขียนซีดี2หัว คละสี คาสสินี่10420*\n",
      "Same index: 901865 Value: 5 Rank: 0\n",
      "Sentence: kassini 10420 cd marker marker * *\n",
      "Minimum index: 901865 Value: 5\n",
      "Sentence: kassini 10420 cd marker marker * *\n",
      "========================================\n"
     ]
    },
    {
     "name": "stderr",
     "output_type": "stream",
     "text": [
      "\r",
      "530it [19:27,  2.82s/it]"
     ]
    },
    {
     "name": "stdout",
     "output_type": "stream",
     "text": [
      "Index ประโยคภาษาไทย: 486026\n",
      "ประโยค: ฉันมีความต้องการ****\n",
      "Same index: 486026 Value: 4 Rank: 42\n",
      "Sentence: i take load of selfies * *\n",
      "Minimum index: 786351 Value: 1\n",
      "Sentence: take care * * * * *\n",
      "========================================\n"
     ]
    },
    {
     "name": "stderr",
     "output_type": "stream",
     "text": [
      "\r",
      "531it [19:29,  2.69s/it]"
     ]
    },
    {
     "name": "stdout",
     "output_type": "stream",
     "text": [
      "Index ประโยคภาษาไทย: 472468\n",
      "ประโยค: วันแรกที่ฉันใช้มันก็โอเคแต่หลังจากผ่านไป23 วันแผ่นยางปิดตัวลงมันก็ไม่ดี******\n",
      "Same index: 472468 Value: 19 Rank: 1\n",
      "Sentence: the first day i used it it wa okay but after a couple of day the rubber covering came off this is not good * * * *\n",
      "Minimum index: 436749 Value: 18\n",
      "Sentence: i have no complaint with that ..but it doe not work * * *\n",
      "========================================\n"
     ]
    },
    {
     "name": "stderr",
     "output_type": "stream",
     "text": [
      "\r",
      "532it [19:31,  2.25s/it]"
     ]
    },
    {
     "name": "stdout",
     "output_type": "stream",
     "text": [
      "Index ประโยคภาษาไทย: 205062\n",
      "ประโยค: ฉันพบว่าหนังสือเล่มนี้ค่อนข้างสับสนในตอนแรก****\n",
      "Same index: 205062 Value: 8 Rank: 0\n",
      "Sentence: i found this book a bit confusing at first * * * * *\n",
      "Minimum index: 205062 Value: 8\n",
      "Sentence: i found this book a bit confusing at first * * * * *\n",
      "========================================\n"
     ]
    },
    {
     "name": "stderr",
     "output_type": "stream",
     "text": [
      "\r",
      "533it [19:32,  2.13s/it]"
     ]
    },
    {
     "name": "stdout",
     "output_type": "stream",
     "text": [
      "Index ประโยคภาษาไทย: 661127\n",
      "ประโยค: ทางร้านยืนยันมาแล้วนะคะว่ามีโต๊ะสำหรับหกคนใกล้หน้าต่างสำหรับพรุ่งนี้ตอนหนึ่งทุ่มค่ะ**\n",
      "Same index: 661127 Value: 15 Rank: 0\n",
      "Sentence: they confirmed they have a table for six near the window for you tomorrow at 7 p.m * * * *\n",
      "Minimum index: 661127 Value: 15\n",
      "Sentence: they confirmed they have a table for six near the window for you tomorrow at 7 p.m * * * *\n",
      "========================================\n"
     ]
    },
    {
     "name": "stderr",
     "output_type": "stream",
     "text": [
      "\r",
      "534it [19:43,  4.51s/it]"
     ]
    },
    {
     "name": "stdout",
     "output_type": "stream",
     "text": [
      "Index ประโยคภาษาไทย: 880994\n",
      "ประโยค: EAGLECREEKถุงอเนกประสงค์สีน้ำเงินรุ่นPACK IT SPECTER CUBE EC041188153 กระเป่าบรรจุภัณฑ์ที่มีน้ำหนักเบา ประกอบด้วยวัสดุ 30 D SILNYLON RIPSTOPที่มีน้ำหนักสะสมน้อยเพื่อให้คุณสามารถจัดเสื้อผ้าหรือสิ่งของได้โดยไม่ต้องกังวลเรื่องน้ำหนักผ้านี้เป็นผ้าเดียวกับผ้าเต็นท์และเป้สะพายหลังที่มีน้ำหนักเบาจึงทนทานต่อการเปื้อนและทนต่อน้ำบรรจุสิ่งของก็ดีประเภทถุงอเนกประสงค์สีน้ำเงินใช้เพื่อจัดระเบียบภายในกระเป๋าวัสดุที่ใช้30DSILNYLONRIPSTOPขนาดความจุลิตร135อื่นๆมีซิปเพื่อขยายและลดขนาดเลือกซื้อสินค้าคุณภาพที่คุณเชื่อถือด้วยราคาที่คุณชื่นชอบผลิตภัณฑ์มาตรฐานคุณสามารถซื้อสินค้าสำหรับไลฟ์สไตล์ที่คุณชื่นชอบได้และเหมาะกับงานหลากหลายประเภทตามความต้องการในราคาที่เหมาะสมที่Powerbuy**\n",
      "Same index: 880994 Value: 101 Rank: 0\n",
      "Sentence: eagle creek are the front runner in lightweight packing organization the pack-it specter that weigh a little so that you can keep your clothing organized without worrying about weight this translucent fabric is the same fabric used for lightweight tent and backpack it is super-durable and stain and water-resistant.• type multipurpose bag• color blue• used to organize the bag.• material used 30 d silnylon ripstop• capacity liter 13.5• others zippered to extend and reduce size shop for quality product you trust with your favorite price standard product you can shop for your favorite lifestyle and suitable for a variety of application on demand at a reasonable price at powerbuy * * * *\n",
      "Minimum index: 880994 Value: 101\n",
      "Sentence: eagle creek are the front runner in lightweight packing organization the pack-it specter that weigh a little so that you can keep your clothing organized without worrying about weight this translucent fabric is the same fabric used for lightweight tent and backpack it is super-durable and stain and water-resistant.• type multipurpose bag• color blue• used to organize the bag.• material used 30 d silnylon ripstop• capacity liter 13.5• others zippered to extend and reduce size shop for quality product you trust with your favorite price standard product you can shop for your favorite lifestyle and suitable for a variety of application on demand at a reasonable price at powerbuy * * * *\n",
      "========================================\n"
     ]
    },
    {
     "name": "stderr",
     "output_type": "stream",
     "text": [
      "\r",
      "535it [19:44,  3.52s/it]"
     ]
    },
    {
     "name": "stdout",
     "output_type": "stream",
     "text": [
      "Index ประโยคภาษาไทย: 48819\n",
      "ประโยค: 00และคาดหวังจะได้สินค้าที่เหมาะสมนะ*****\n",
      "Same index: 48819 Value: 7 Rank: 0\n",
      "Sentence: 00 and expected to get a decent product * * * * * *\n",
      "Minimum index: 48819 Value: 7\n",
      "Sentence: 00 and expected to get a decent product * * * * * *\n",
      "========================================\n"
     ]
    },
    {
     "name": "stderr",
     "output_type": "stream",
     "text": [
      "\r",
      "536it [19:45,  2.84s/it]"
     ]
    },
    {
     "name": "stdout",
     "output_type": "stream",
     "text": [
      "Index ประโยคภาษาไทย: 368784\n",
      "ประโยค: ฉันมีของฉันเป็นเวลาหลายเดือนในขณะนี้โดยไม่มีปัญหา**\n",
      "Same index: 368784 Value: 10 Rank: 0\n",
      "Sentence: i 've had mine for several month now with no problem * * *\n",
      "Minimum index: 368784 Value: 10\n",
      "Sentence: i 've had mine for several month now with no problem * * *\n",
      "========================================\n"
     ]
    },
    {
     "name": "stderr",
     "output_type": "stream",
     "text": [
      "\r",
      "537it [19:46,  2.36s/it]"
     ]
    },
    {
     "name": "stdout",
     "output_type": "stream",
     "text": [
      "Index ประโยคภาษาไทย: 460976\n",
      "ประโยค: หลังจากใช้ของฉันแล้วคุณจะไม่ผิดที่ซื้อเตาย่างนี้*\n",
      "Same index: 460976 Value: 10 Rank: 0\n",
      "Sentence: after using mine you ca n't go wrong buying this grill * * *\n",
      "Minimum index: 460976 Value: 10\n",
      "Sentence: after using mine you ca n't go wrong buying this grill * * *\n",
      "========================================\n"
     ]
    },
    {
     "name": "stderr",
     "output_type": "stream",
     "text": [
      "\r",
      "538it [19:48,  2.23s/it]"
     ]
    },
    {
     "name": "stdout",
     "output_type": "stream",
     "text": [
      "Index ประโยคภาษาไทย: 524345\n",
      "ประโยค: เธอลองแล้วเหรอจะคุยกี่โมงละเพราะฉันนัดเอมิเลีย******\n",
      "Same index: 524345 Value: 15 Rank: 34\n",
      "Sentence: u tried it wat time e tok cz i meetin amelia * * *\n",
      "Minimum index: 43037 Value: 14\n",
      "Sentence: read a lot on the internet a far back a 2010 * * *\n",
      "========================================\n"
     ]
    },
    {
     "name": "stderr",
     "output_type": "stream",
     "text": [
      "\r",
      "539it [19:50,  2.11s/it]"
     ]
    },
    {
     "name": "stdout",
     "output_type": "stream",
     "text": [
      "Index ประโยคภาษาไทย: 62272\n",
      "ประโยค: ฉันซื้อของสิ่งนี้ด้วยหวังว่ามันจะแก้ปัญหาการซื้อที่กรองกระดาษจำนวนมาก****\n",
      "Same index: 62272 Value: 17 Rank: 88\n",
      "Sentence: i bought this one with the hope it will solve my problem of having to buy a large quantity of paper filter * * * * * *\n",
      "Minimum index: 647933 Value: 14\n",
      "Sentence: we have saturday open by 3:00 p.m *\n",
      "========================================\n"
     ]
    },
    {
     "name": "stderr",
     "output_type": "stream",
     "text": [
      "\r",
      "540it [19:52,  2.21s/it]"
     ]
    },
    {
     "name": "stdout",
     "output_type": "stream",
     "text": [
      "Index ประโยคภาษาไทย: 547722\n",
      "ประโยค: ฮะฮ่าฉันอยู่ที่ซัมเซ็ทกับเจเอ็มละตอนนี้แคลลี่จะมาร่วมกับพวกเราทีหลังมาข้างล่างหลังจากเรียนสิ*****\n",
      "Same index: 547722 Value: 22 Rank: 15\n",
      "Sentence: haha im at somerset with jm now cally joining u later come downafter school bah -d -d * * * *\n",
      "Minimum index: 454813 Value: 21\n",
      "Sentence: just the right amount of power *\n",
      "========================================\n"
     ]
    },
    {
     "name": "stderr",
     "output_type": "stream",
     "text": [
      "\r",
      "541it [19:54,  2.10s/it]"
     ]
    },
    {
     "name": "stdout",
     "output_type": "stream",
     "text": [
      "Index ประโยคภาษาไทย: 408091\n",
      "ประโยค: มันไม่ได้ทําดีมากแต่ก็คุ้มค่ากับราคาถ้าคุณไม่ต้องการใช้แบตเตอรี่มากนัก****\n",
      "Same index: 408091 Value: 19 Rank: 611\n",
      "Sentence: it is not very well made but wa worth the price if you do n't want to spend much on battery\n",
      "Minimum index: 323613 Value: 15\n",
      "Sentence: you will have some question before you get done reading this one * *\n",
      "========================================\n"
     ]
    },
    {
     "name": "stderr",
     "output_type": "stream",
     "text": [
      "\r",
      "542it [19:56,  2.00s/it]"
     ]
    },
    {
     "name": "stdout",
     "output_type": "stream",
     "text": [
      "Index ประโยคภาษาไทย: 110606\n",
      "ประโยค: และฉันสนุกกับการอ่านเล่มนี้เพราะการเขียนที่สนุกตัวละครแปลกๆและเนื้อเรื่องเต็มไปด้วยการต่อสู้ค่ะ*\n",
      "Same index: 110606 Value: 17 Rank: 0\n",
      "Sentence: and i enjoyed reading this one for it fun writing quirky character and action packed plot * * * * *\n",
      "Minimum index: 110606 Value: 17\n",
      "Sentence: and i enjoyed reading this one for it fun writing quirky character and action packed plot * * * * *\n",
      "========================================\n"
     ]
    },
    {
     "name": "stderr",
     "output_type": "stream",
     "text": [
      "\r",
      "543it [19:57,  1.57s/it]"
     ]
    },
    {
     "name": "stdout",
     "output_type": "stream",
     "text": [
      "Index ประโยคภาษาไทย: 822238\n",
      "ประโยค: เป็นรถซูบารุเอาท์แบ็ค2010ค่ะ\n",
      "Same index: 822238 Value: 7 Rank: 9\n",
      "Sentence: i have a 2010 subaru outback * *\n",
      "Minimum index: 164107 Value: 6\n",
      "Sentence: do not buy this product * *\n",
      "========================================\n"
     ]
    },
    {
     "name": "stderr",
     "output_type": "stream",
     "text": [
      "\r",
      "544it [20:00,  2.14s/it]"
     ]
    },
    {
     "name": "stdout",
     "output_type": "stream",
     "text": [
      "Index ประโยคภาษาไทย: 607435\n",
      "ประโยค: ฉันต้องกทำคั่นหน้าเว็บไซต์และฉันจะยังไปข้างหน้าที่เชื่อมโยงไปยังคนของของฉันเพื่อนที่ดีต่อกันดังนั้นพวกเขาเหมือนกัสามารถสนุกกับบล็อกของคุณน่ะ*****\n",
      "Same index: 607435 Value: 31 Rank: 0\n",
      "Sentence: i have bookmarked the website and i will also forward the link to a few of my good friend so they too can enjoy your blog * *\n",
      "Minimum index: 607435 Value: 31\n",
      "Sentence: i have bookmarked the website and i will also forward the link to a few of my good friend so they too can enjoy your blog * *\n",
      "========================================\n"
     ]
    },
    {
     "name": "stderr",
     "output_type": "stream",
     "text": [
      "\r",
      "545it [20:01,  1.87s/it]"
     ]
    },
    {
     "name": "stdout",
     "output_type": "stream",
     "text": [
      "Index ประโยคภาษาไทย: 197061\n",
      "ประโยค: ในฐานะผู้ใช้ใหม่ของผลิตภัณฑ์Neutrogenaมันทำงานได้ดีมาก***\n",
      "Same index: 197061 Value: 9 Rank: 0\n",
      "Sentence: a a new user of neutrogena product it worked very well * * *\n",
      "Minimum index: 197061 Value: 9\n",
      "Sentence: a a new user of neutrogena product it worked very well * * *\n",
      "========================================\n"
     ]
    },
    {
     "name": "stderr",
     "output_type": "stream",
     "text": [
      "\r",
      "546it [20:02,  1.50s/it]"
     ]
    },
    {
     "name": "stdout",
     "output_type": "stream",
     "text": [
      "Index ประโยคภาษาไทย: 627701\n",
      "ประโยค: เดอะ คามิโน เดล มาร์ค่ะ*****\n",
      "Same index: 627701 Value: 2 Rank: 0\n",
      "Sentence: the camino del mar store * * * * *\n",
      "Minimum index: 874522 Value: 2\n",
      "Sentence: correction tape 5 mm.x 6 m. horse h-945 * * * * * *\n",
      "========================================\n"
     ]
    },
    {
     "name": "stderr",
     "output_type": "stream",
     "text": [
      "\r",
      "547it [20:03,  1.44s/it]"
     ]
    },
    {
     "name": "stdout",
     "output_type": "stream",
     "text": [
      "Index ประโยคภาษาไทย: 329528\n",
      "ประโยค: คุณไม่ได้ยินอะไรเลยกับหูฟังเหล่านี้******\n",
      "Same index: 329528 Value: 8 Rank: 12\n",
      "Sentence: you do n't hear a thing with these headphone * * * * *\n",
      "Minimum index: 712848 Value: 7\n",
      "Sentence: got it i 'll be back *\n",
      "========================================\n"
     ]
    },
    {
     "name": "stderr",
     "output_type": "stream",
     "text": [
      "\r",
      "548it [20:05,  1.39s/it]"
     ]
    },
    {
     "name": "stdout",
     "output_type": "stream",
     "text": [
      "Index ประโยคภาษาไทย: 460237\n",
      "ประโยค: นี่เป็นหนังสือที่ดีแต่ฉันไม่ได้เรียนรู้อะไรเลย**\n",
      "Same index: 460237 Value: 10 Rank: 1\n",
      "Sentence: this is a good book but i did n't learn anything * * *\n",
      "Minimum index: 122670 Value: 9\n",
      "Sentence: this is a nice feature not found on other cover * * * *\n",
      "========================================\n"
     ]
    },
    {
     "name": "stderr",
     "output_type": "stream",
     "text": [
      "\r",
      "549it [20:06,  1.35s/it]"
     ]
    },
    {
     "name": "stdout",
     "output_type": "stream",
     "text": [
      "Index ประโยคภาษาไทย: 602423\n",
      "ประโยค: นอกจากนี้OWNDAYSยังเป็นผู้ดูแลการทำงานทุกขั้นตอนภายในร้านค้าปลีกแว่นตา***\n",
      "Same index: 602423 Value: 20 Rank: 708\n",
      "Sentence: furthermore owndays performs all of the process required for eyewear retail shop from distribution to sale all owndays glass are handmade\n",
      "Minimum index: 718859 Value: 10\n",
      "Sentence: did you want whipped cream * *\n",
      "========================================\n"
     ]
    },
    {
     "name": "stderr",
     "output_type": "stream",
     "text": [
      "\r",
      "550it [20:07,  1.30s/it]"
     ]
    },
    {
     "name": "stdout",
     "output_type": "stream",
     "text": [
      "Index ประโยคภาษาไทย: 230000\n",
      "ประโยค: ปัญหาของฉันที่นี่คือวิธีที่เราเรียนรู้อย่างรวดเร็วเกี่ยวกับเวลา*\n",
      "Same index: 230000 Value: 9 Rank: 0\n",
      "Sentence: my issue here is how quickly we learn about time * * * *\n",
      "Minimum index: 230000 Value: 9\n",
      "Sentence: my issue here is how quickly we learn about time * * * *\n",
      "========================================\n"
     ]
    },
    {
     "name": "stderr",
     "output_type": "stream",
     "text": [
      "\r",
      "551it [20:23,  5.75s/it]"
     ]
    },
    {
     "name": "stdout",
     "output_type": "stream",
     "text": [
      "Index ประโยคภาษาไทย: 864683\n",
      "ประโยค: CLINIQUEคลีนิกข์ผลิตภัณฑ์ดูแลผิวที่ได้รับการคิดค้นและพัฒนาจากแพทย์ผิวหนังผ่านการทดสอบการแพ้และปราศจากน้ำหอม100คลีนิกข์มีผลิตภัณฑ์ดูแลผิวหลากหลายสูตรที่เหมาะกับผิวแต่ละประเภทเหมาะสมกับทุกคนและสีสันของคลีนิกข์ยังปลอดภัยและเป็นมิตรกับผิวช่วยสร้างผิวสวยสุขภาพดีและเนรมิตให้ผิวดูงดงามอย่างเป็นธรรมชาติรองพื้นและคอนซีลเลอร์2in1สูตรเหลวเนื้อบางเบาที่มาพร้อมกับด้ามแปรงพิเศษสามารถปกปิดได้ยาวนานสามารถใช้เป็นรองพื้นเพื่อการเกลี่ยให้เรียบเนียนหรือใช้แต้มเป็นคอนซีลเลอร์เผยผิวสวยเนียนไร้ที่ติพร้อมมอบความรู้สึกบางเบาโดยไม่ก่อให้เกิดการอุดตันให้สีเมคอัพชัดเจนตลอดวันแม้สัมผัสความร้อนหรือเหงื่อเนื้อผลิตภัณฑ์มีเม็ดสีที่เข้มข้นสามารถมอบการปกปิดตามที่ต้องการเฉดสีอาจจะดูเข้มเมื่อแต้มลงบนผิวแต่เมื่อเกลี่ยให้เข้ากับผิวและรอให้แห้งเนื้อผลิตภัณฑ์จะผสานกันกับผิวและเผยผิวสวยเนียนอย่างเป็นธรรมชาติดูไร้ที่ติปริมาณสุทธิ30มลหมายเหตุสีของผลิตภัณฑ์ที่แสดงบนเว็บไซต์อาจมีความแตกต่างกันจากการตั้งค่าการแสดงผลสีของแต่ละหน้าจอ\n",
      "Same index: 864683 Value: 206 Rank: 994\n",
      "Sentence: clinique beyond perfecting foundation concealer spf 19pa++a foundation-and-concealer in one for a natural beyond perfected look that last all day lightweight moisturizing makeup cover thoroughly without clogging pore skin breathes comfortably colour stay true even through sweat and humidity due to the rich pigment level that enhances this flawless coverage makeup shade may appear deeper when first applied once blended completely and allowed to dry beyond perfecting makeup will melt into your skin for a beyond perfected flawless look a little go a long way net weightvolume 30 m l caution in term of item color it may be slightly different from each monitor display and specification clinique beyond perfecting foundation concealer spf 19pa++a foundation-and-concealer in one for a natural beyond perfected look that last all day lightweight moisturizing makeup cover thoroughly without clogging pore skin breathes comfortably colour stay true even through sweat and humidity due to the rich pigment level that enhances this flawless coverage makeup shade may appear deeper when first applied once blended completely and allowed to dry beyond perfecting makeup will melt into your skin for a beyond perfected flawless look a little go a long way net weightvolume 30 m l caution in term of item color it may be slightly different from each monitor display and specification * * * * * *\n",
      "Minimum index: 262635 Value: 180\n",
      "Sentence: it seemed to be more focused on making himself famous than giving some great advice * * * * * *\n",
      "========================================\n"
     ]
    },
    {
     "name": "stderr",
     "output_type": "stream",
     "text": [
      "\r",
      "552it [20:24,  4.22s/it]"
     ]
    },
    {
     "name": "stdout",
     "output_type": "stream",
     "text": [
      "Index ประโยคภาษาไทย: 188111\n",
      "ประโยค: นี่ก็เป็นอย่างที่มันเป็น\n",
      "Same index: 188111 Value: 6 Rank: 0\n",
      "Sentence: this is just what it is *\n",
      "Minimum index: 505884 Value: 6\n",
      "Sentence: i will be at the triathlon *\n",
      "========================================\n"
     ]
    },
    {
     "name": "stderr",
     "output_type": "stream",
     "text": [
      "\r",
      "553it [20:24,  3.15s/it]"
     ]
    },
    {
     "name": "stdout",
     "output_type": "stream",
     "text": [
      "Index ประโยคภาษาไทย: 283069\n",
      "ประโยค: เหมือนเทาและขาวมากขึ้น**\n",
      "Same index: 283069 Value: 4 Rank: 0\n",
      "Sentence: more like gray and white * *\n",
      "Minimum index: 283069 Value: 4\n",
      "Sentence: more like gray and white * *\n",
      "========================================\n"
     ]
    },
    {
     "name": "stderr",
     "output_type": "stream",
     "text": [
      "\r",
      "554it [20:25,  2.41s/it]"
     ]
    },
    {
     "name": "stdout",
     "output_type": "stream",
     "text": [
      "Index ประโยคภาษาไทย: 207683\n",
      "ประโยค: เหมาะสำหรับใช้ในบ้านและสวน*\n",
      "Same index: 207683 Value: 5 Rank: 0\n",
      "Sentence: great for home and garden use *\n",
      "Minimum index: 862521 Value: 5\n",
      "Sentence: boxjourney 1801014 paper bag 50pack 50pack *\n",
      "========================================\n"
     ]
    },
    {
     "name": "stderr",
     "output_type": "stream",
     "text": [
      "\r",
      "555it [20:26,  2.06s/it]"
     ]
    },
    {
     "name": "stdout",
     "output_type": "stream",
     "text": [
      "Index ประโยคภาษาไทย: 595985\n",
      "ประโยค: กลายเป็นอำนาจทางเศรษฐกิจที่สำคัญสามารถส่งออกปริมาณมากของอาหารและต่อมารวมทั้งทองแดง\n",
      "Same index: 595985 Value: 16 Rank: 556\n",
      "Sentence: egypt became a major economic power able to export huge quantity of food and later including copper * * * *\n",
      "Minimum index: 475468 Value: 13\n",
      "Sentence: plenty of room for all my gear\n",
      "========================================\n"
     ]
    },
    {
     "name": "stderr",
     "output_type": "stream",
     "text": [
      "\r",
      "556it [20:33,  3.37s/it]"
     ]
    },
    {
     "name": "stdout",
     "output_type": "stream",
     "text": [
      "Index ประโยคภาษาไทย: 990934\n",
      "ประโยค: ผลโดยอ้อมอื่นๆอาจรวมทั้งการเพิ่มนอร์เอพิเนฟรินเพิ่มระดับcyclicAMPในนิวรอนและเพิ่มระดับปัจจัยควบคุมregulatoryfactorเช่นBDNFBrainderivedneurotrophicfactorและCREBแต่เพราะไม่มีทฤษฎีทางชีววิทยาที่สมบูรณ์ของความผิดปกติทางอารมณ์จึงไม่มีสมมติฐานที่ยอมรับกันอย่างกว้างขวางว่าความเปลี่ยนแปลงเช่นนี้นำไปสู่ผลของSSRIsที่ทำให้อารมณ์ดีขึ้นและลดความวิตกกังวลได้อย่างไรSectionเภสัชพันธุศาสตร์**\n",
      "Same index: 990934 Value: 64 Rank: 30\n",
      "Sentence: other indirect effect may include increased norepinephrine output increased neuronal cyclic amp level and increased level of regulatory factor such a bdnf and creb owing to the lack of a widely accepted comprehensive theory of the biology of mood disorder there is no widely accepted theory of how these change lead to the mood-elevating and anti-anxiety effect of ssri section :sigma receptor ligand\n",
      "Minimum index: 440105 Value: 61\n",
      "Sentence: also this company make excellent television so they make great product * * *\n",
      "========================================\n"
     ]
    },
    {
     "name": "stderr",
     "output_type": "stream",
     "text": [
      "\r",
      "557it [20:35,  2.89s/it]"
     ]
    },
    {
     "name": "stdout",
     "output_type": "stream",
     "text": [
      "Index ประโยคภาษาไทย: 336765\n",
      "ประโยค: สิ่งนี้มุ่งเน้นไปที่มุมมองที่แตกต่างหลากหลายของผู้คนที่เกี่ยวข้องในสงครามโลกครั้งที่สองจากมุมมองครอบครัวหรือชุมชน*\n",
      "Same index: 336765 Value: 15 Rank: 0\n",
      "Sentence: this one focus on many different perspective of people involved in wwii from a family or community perspective * * *\n",
      "Minimum index: 336765 Value: 15\n",
      "Sentence: this one focus on many different perspective of people involved in wwii from a family or community perspective * * *\n",
      "========================================\n"
     ]
    },
    {
     "name": "stderr",
     "output_type": "stream",
     "text": [
      "\r",
      "558it [20:35,  2.23s/it]"
     ]
    },
    {
     "name": "stdout",
     "output_type": "stream",
     "text": [
      "Index ประโยคภาษาไทย: 982418\n",
      "ประโยค: ประเทศอาร์เจนตินาในโอลิมปิกฤดูหนาว1928*****\n",
      "Same index: 982418 Value: 6 Rank: 116\n",
      "Sentence: argentina at the 1928 winter olympics olympics\n",
      "Minimum index: 846184 Value: 1\n",
      "Sentence: cincinnati ohio * * * * *\n",
      "========================================\n"
     ]
    },
    {
     "name": "stderr",
     "output_type": "stream",
     "text": [
      "\r",
      "559it [20:36,  1.76s/it]"
     ]
    },
    {
     "name": "stdout",
     "output_type": "stream",
     "text": [
      "Index ประโยคภาษาไทย: 436825\n",
      "ประโยค: แต่มันสนุกมาก***\n",
      "Same index: 436825 Value: 5 Rank: 73\n",
      "Sentence: but it alot of fun * *\n",
      "Minimum index: 151126 Value: 3\n",
      "Sentence: he absolutely love them * * *\n",
      "========================================\n"
     ]
    },
    {
     "name": "stderr",
     "output_type": "stream",
     "text": [
      "\r",
      "560it [20:37,  1.43s/it]"
     ]
    },
    {
     "name": "stdout",
     "output_type": "stream",
     "text": [
      "Index ประโยคภาษาไทย: 553199\n",
      "ประโยค: เอามาทั้งหมด****\n",
      "Same index: 553199 Value: 2 Rank: 0\n",
      "Sentence: ya bring all * * * *\n",
      "Minimum index: 553199 Value: 2\n",
      "Sentence: ya bring all * * * *\n",
      "========================================\n"
     ]
    },
    {
     "name": "stderr",
     "output_type": "stream",
     "text": [
      "\r",
      "561it [20:37,  1.19s/it]"
     ]
    },
    {
     "name": "stdout",
     "output_type": "stream",
     "text": [
      "Index ประโยคภาษาไทย: 522921\n",
      "ประโยค: ใช่โฟล์เดอร์ เอ็กซ์เอฟใช่ไหม**\n",
      "Same index: 522921 Value: 5 Rank: 6\n",
      "Sentence: yup da xf folder rite * *\n",
      "Minimum index: 905787 Value: 4\n",
      "Sentence: lat krabang bangkok * * * * * *\n",
      "========================================\n"
     ]
    },
    {
     "name": "stderr",
     "output_type": "stream",
     "text": [
      "\r",
      "562it [20:41,  2.04s/it]"
     ]
    },
    {
     "name": "stdout",
     "output_type": "stream",
     "text": [
      "Index ประโยคภาษาไทย: 608668\n",
      "ประโยค: MuscleMaxXtremeเป็นการผสมผสานกันอย่างของส่วนผสมธรรมชาติที่สนับสนุนความแรงของกล้ามเนื้อและกลุ่มว่าคุณกำลังมองหานักกีฬาเพื่อเพิ่มประสิทธิภาพแข็งแรงของคุณหรือเพียงแค่ที่ต้องการเสียงร่างกายของคุณให้MuscleMaxXtremeน่าจะแก้****\n",
      "Same index: 608668 Value: 42 Rank: 4\n",
      "Sentence: whether you are an athlete looking to enhance your athletic performance or merely just wanting to tone your body musclemax xtreme is probably the solution for you * *\n",
      "Minimum index: 76186 Value: 41\n",
      "Sentence: this is probably the worst thing her publisher ha ever published * * *\n",
      "========================================\n"
     ]
    },
    {
     "name": "stderr",
     "output_type": "stream",
     "text": [
      "\r",
      "563it [20:43,  1.96s/it]"
     ]
    },
    {
     "name": "stdout",
     "output_type": "stream",
     "text": [
      "Index ประโยคภาษาไทย: 278747\n",
      "ประโยค: ดูเหมือนว่าเรื่องราวจะกระโดดไปรอบๆมากเกินไปและมันก็ไม่ติดกันมากนัก******\n",
      "Same index: 278747 Value: 15 Rank: 86\n",
      "Sentence: it seemed like the story jumped around too much and it wa n't very cohesive * * * * * *\n",
      "Minimum index: 272385 Value: 13\n",
      "Sentence: looking forward to finding out more about jack frost and his family * * *\n",
      "========================================\n"
     ]
    },
    {
     "name": "stderr",
     "output_type": "stream",
     "text": [
      "\r",
      "564it [20:45,  1.90s/it]"
     ]
    },
    {
     "name": "stdout",
     "output_type": "stream",
     "text": [
      "Index ประโยคภาษาไทย: 334301\n",
      "ประโยค: ไม่ทราบว่ามีเพียงสองตัวเลือกในAmazonสําหรับชุดเลโก้แต่ตอนนี้ไร้สาระทั้งหมด****\n",
      "Same index: 334301 Value: 16 Rank: 9\n",
      "Sentence: do n't know if there 's only two option now on amazon for lego set but this is totally ridiculous *\n",
      "Minimum index: 745523 Value: 15\n",
      "Sentence: first we have ii fornaio sacramento upmarket chain for italian dining including bread from an in-house bakery * * * * * *\n",
      "========================================\n"
     ]
    },
    {
     "name": "stderr",
     "output_type": "stream",
     "text": [
      "\r",
      "565it [20:45,  1.52s/it]"
     ]
    },
    {
     "name": "stdout",
     "output_type": "stream",
     "text": [
      "Index ประโยคภาษาไทย: 982124\n",
      "ประโยค: ประเทศอินเดียในเอเชียนเกมส์1954***\n",
      "Same index: 982124 Value: 6 Rank: 123\n",
      "Sentence: india at the 1954 asian game game\n",
      "Minimum index: 716828 Value: 4\n",
      "Sentence: no thank you you * * *\n",
      "========================================\n"
     ]
    },
    {
     "name": "stderr",
     "output_type": "stream",
     "text": [
      "\r",
      "566it [20:48,  1.78s/it]"
     ]
    },
    {
     "name": "stdout",
     "output_type": "stream",
     "text": [
      "Index ประโยคภาษาไทย: 436067\n",
      "ประโยค: ข้อเสียอย่างเดียวคือบางครั้งหลังจากการติดตั้งถ้าคุณเดินใกล้ฮอตสปอตwifiอื่นดูเหมือนว่าพวกเขาทําอย่างนั้นทุกอย่างช้าลงค่อนข้างมาก***\n",
      "Same index: 436067 Value: 22 Rank: 0\n",
      "Sentence: the only downside is sometimes after setup if you walk near another wifi hotspot seems like they all do that then everything slows down quite significantly * *\n",
      "Minimum index: 436067 Value: 22\n",
      "Sentence: the only downside is sometimes after setup if you walk near another wifi hotspot seems like they all do that then everything slows down quite significantly * *\n",
      "========================================\n"
     ]
    },
    {
     "name": "stderr",
     "output_type": "stream",
     "text": [
      "\r",
      "567it [20:49,  1.61s/it]"
     ]
    },
    {
     "name": "stdout",
     "output_type": "stream",
     "text": [
      "Index ประโยคภาษาไทย: 778942\n",
      "ประโยค: สวัสดีค่ะอยากหาร้านท้านอาหารกลางวันหน่อยค่ะ****\n",
      "Same index: 778942 Value: 8 Rank: 0\n",
      "Sentence: i would like to place to eat lunch today * * * * *\n",
      "Minimum index: 778942 Value: 8\n",
      "Sentence: i would like to place to eat lunch today * * * * *\n",
      "========================================\n"
     ]
    },
    {
     "name": "stderr",
     "output_type": "stream",
     "text": [
      "\r",
      "568it [20:51,  1.69s/it]"
     ]
    },
    {
     "name": "stdout",
     "output_type": "stream",
     "text": [
      "Index ประโยคภาษาไทย: 366285\n",
      "ประโยค: ฉันสั่งหนังสือเล่มนี้เกี่ยวกับคําแนะนําของเพื่อนที่จะใช้กับชั้นเรียนดนตรีเกรด6ของฉัน**\n",
      "Same index: 366285 Value: 17 Rank: 0\n",
      "Sentence: i ordered this book on the recommendation of a friend to be used with my 6th grade music class * *\n",
      "Minimum index: 145573 Value: 17\n",
      "Sentence: we love it also good at keeping thing warm * * * * *\n",
      "========================================\n"
     ]
    },
    {
     "name": "stderr",
     "output_type": "stream",
     "text": [
      "\r",
      "569it [21:02,  4.38s/it]"
     ]
    },
    {
     "name": "stdout",
     "output_type": "stream",
     "text": [
      "Index ประโยคภาษาไทย: 981887\n",
      "ประโยค: ประวัติศาสตร์ของศาสนาพุทธในกัมพูชายาวนานเกือบสองพันปีผ่านระยะเวลาของอาณาจักรต่างๆที่สืบทอดมาจากจักรวรรดิเขมรการเข้าสู่กัมพูชาเกิดได้สองเส้นทางคือรูปแบบดั้งเดิมของศาสนาพุทธที่ได้รับอิทธิพลของศาสนาฮินดูเข้าสู่อาณาจักรฟูนันโดยพ่อค้าที่นับถือศาสนาฮินดูในเวลาต่อมาศาสนาพุทธได้เข้าสู่กัมพูชาอีกทางหนึ่งในช่วงอาณาจักรพระนครโดยผ่านทางอาณาจักรมอญคือทวารวดีและหริภุญไชยในช่วงพันปีแรกของจักรวรรดิเขมรกัมพูชาปกครองด้วยระบบกษัตริย์แบบฮินดูและมีกษัตริย์ที่เป็นชาวพุทธเป็นบางครั้งเช่นพระเจ้าชัยวรมันที่1ของฟูนันและพระเจ้าสุริยวรมันที่1ศาสนาพุทธรูปแบบต่างๆดำรงอยู่อย่างสันติภายใต้การปกครองของกษัตริย์ที่นับถือศาสนาฮินดูและประเทศเพื่อนบ้านที่นับถือศาสนาพุทธนิกายเถรวาท****\n",
      "Same index: 981887 Value: 124 Rank: 280\n",
      "Sentence: the earliest form of buddhism along with hindu influence entered the funan kingdom with hindu merchant in later history a second stream of buddhism entered khmer culture during the angkor empire when cambodia absorbed the various buddhist tradition of the mon kingdom of dvaravati and haripunchai for the first thousand year of khmer history cambodia wa ruled by a series of hindu king with an occasional buddhist king such a jayavarman i of funan and suryvarman i\n",
      "Minimum index: 371654 Value: 116\n",
      "Sentence: if the end had been a bit different instead he got her pregnant i might be able to accept it or even feel ok letting my 15 year old read it * * * *\n",
      "========================================\n"
     ]
    },
    {
     "name": "stderr",
     "output_type": "stream",
     "text": [
      "\r",
      "570it [21:02,  3.26s/it]"
     ]
    },
    {
     "name": "stdout",
     "output_type": "stream",
     "text": [
      "Index ประโยคภาษาไทย: 106498\n",
      "ประโยค: โดยรวมแล้วใช้งานได้ดีมาก**\n",
      "Same index: 106498 Value: 3 Rank: 0\n",
      "Sentence: overall it work great * * *\n",
      "Minimum index: 106498 Value: 3\n",
      "Sentence: overall it work great * * *\n",
      "========================================\n"
     ]
    },
    {
     "name": "stderr",
     "output_type": "stream",
     "text": [
      "\r",
      "571it [21:05,  2.99s/it]"
     ]
    },
    {
     "name": "stdout",
     "output_type": "stream",
     "text": [
      "Index ประโยคภาษาไทย: 602828\n",
      "ประโยค: หากมีไฟล์ผู้ขับขี่มากกว่าหนึ่งไฟล์บนอุปกรณ์USBไฟล์ที่มีล าดับตัวอักษรลาดับแรกจะเป็นไฟล์แรกที่ถูกนาไปใช้เสมอ***\n",
      "Same index: 602828 Value: 23 Rank: 23\n",
      "Sentence: note if more than one driver file is present on the usb stick the first one in alphabetical order is always used * * * * * *\n",
      "Minimum index: 331905 Value: 22\n",
      "Sentence: i would not recommend it a your first study book * * * *\n",
      "========================================\n"
     ]
    },
    {
     "name": "stderr",
     "output_type": "stream",
     "text": [
      "\r",
      "572it [21:06,  2.63s/it]"
     ]
    },
    {
     "name": "stdout",
     "output_type": "stream",
     "text": [
      "Index ประโยคภาษาไทย: 972348\n",
      "ประโยค: สมาชิกในตระกูลอาจมีความเกี่ยวพันทางสายเลือดหรือผ่านการสมรสอาจมีญาติพี่น้องหรือบุคคลหลายรุ่นที่เข้าเกี่ยวข้อง\n",
      "Same index: 972348 Value: 20 Rank: 74\n",
      "Sentence: member may be related by blood or marriage often several generation or multiple sibling may be involved * * * *\n",
      "Minimum index: 667768 Value: 18\n",
      "Sentence: got it anything else for your pizza\n",
      "========================================\n"
     ]
    },
    {
     "name": "stderr",
     "output_type": "stream",
     "text": [
      "\r",
      "573it [21:07,  2.04s/it]"
     ]
    },
    {
     "name": "stdout",
     "output_type": "stream",
     "text": [
      "Index ประโยคภาษาไทย: 741419\n",
      "ประโยค: ต้องการเปลี่ยนอะไหล่สำรองของรถค่ะ\n",
      "Same index: 741419 Value: 11 Rank: 243\n",
      "Sentence: i need to change my car spare part * * * * * *\n",
      "Minimum index: 823869 Value: 6\n",
      "Sentence: you got it have a nice breakfast\n",
      "========================================\n"
     ]
    },
    {
     "name": "stderr",
     "output_type": "stream",
     "text": [
      "\r",
      "574it [21:08,  1.61s/it]"
     ]
    },
    {
     "name": "stdout",
     "output_type": "stream",
     "text": [
      "Index ประโยคภาษาไทย: 88709\n",
      "ประโยค: มันน่าผิดหวังมาก***\n",
      "Same index: 88709 Value: 4 Rank: 0\n",
      "Sentence: this wa just disappointing * * *\n",
      "Minimum index: 317450 Value: 4\n",
      "Sentence: this coffeemaker work great * * *\n",
      "========================================\n"
     ]
    },
    {
     "name": "stderr",
     "output_type": "stream",
     "text": [
      "\r",
      "575it [21:09,  1.65s/it]"
     ]
    },
    {
     "name": "stdout",
     "output_type": "stream",
     "text": [
      "Index ประโยคภาษาไทย: 269628\n",
      "ประโยค: ดูเหมือนว่าจะสนุกถ้ามีเพราะเรื่องราวนั้นสามารถบอกได้โดยไม่มีอะไรมากไปกว่าเรื่องเซ็กส์*\n",
      "Same index: 269628 Value: 21 Rank: 672\n",
      "Sentence: it seems like it would have been fun if there had been because that story could be told without much more than just sex * * * *\n",
      "Minimum index: 743538 Value: 16\n",
      "Sentence: have a great day * * *\n",
      "========================================\n"
     ]
    },
    {
     "name": "stderr",
     "output_type": "stream",
     "text": [
      "\r",
      "576it [21:11,  1.52s/it]"
     ]
    },
    {
     "name": "stdout",
     "output_type": "stream",
     "text": [
      "Index ประโยคภาษาไทย: 735895\n",
      "ประโยค: บนถนนหลวงช่วยบอกได้มั้ยคะว่าราคาเท่าไร****\n",
      "Same index: 735895 Value: 11 Rank: 378\n",
      "Sentence: on the boulevard could you tell me how much that 'll be * *\n",
      "Minimum index: 770122 Value: 9\n",
      "Sentence: got it doe anyone have any food allergy * * * * * *\n",
      "========================================\n"
     ]
    },
    {
     "name": "stderr",
     "output_type": "stream",
     "text": [
      "\r",
      "577it [21:11,  1.26s/it]"
     ]
    },
    {
     "name": "stdout",
     "output_type": "stream",
     "text": [
      "Index ประโยคภาษาไทย: 633756\n",
      "ประโยค: ขอเป็นสามมิติค่ะ**\n",
      "Same index: 633756 Value: 5 Rank: 10\n",
      "Sentence: i prefer 3d 3d * * *\n",
      "Minimum index: 371417 Value: 4\n",
      "Sentence: boy were we wrong * * *\n",
      "========================================\n"
     ]
    },
    {
     "name": "stderr",
     "output_type": "stream",
     "text": [
      "\r",
      "578it [21:12,  1.07s/it]"
     ]
    },
    {
     "name": "stdout",
     "output_type": "stream",
     "text": [
      "Index ประโยคภาษาไทย: 706563\n",
      "ประโยค: วันนี้อยากได้แบบร้อนค่ะ**\n",
      "Same index: 706563 Value: 7 Rank: 180\n",
      "Sentence: uhm i would like it hot today\n",
      "Minimum index: 685649 Value: 4\n",
      "Sentence: would you like anything else * *\n",
      "========================================\n"
     ]
    },
    {
     "name": "stderr",
     "output_type": "stream",
     "text": [
      "\r",
      "579it [21:13,  1.11s/it]"
     ]
    },
    {
     "name": "stdout",
     "output_type": "stream",
     "text": [
      "Index ประโยคภาษาไทย: 328671\n",
      "ประโยค: ฉันมีปัญหามากมายในการใช้สกูปอื่นเนื่องจากขนาดของมัน\n",
      "Same index: 328671 Value: 12 Rank: 0\n",
      "Sentence: i had so many problem using other scoop because of their size * *\n",
      "Minimum index: 328671 Value: 12\n",
      "Sentence: i had so many problem using other scoop because of their size * *\n",
      "========================================\n"
     ]
    },
    {
     "name": "stderr",
     "output_type": "stream",
     "text": [
      "\r",
      "580it [21:14,  1.13s/it]"
     ]
    },
    {
     "name": "stdout",
     "output_type": "stream",
     "text": [
      "Index ประโยคภาษาไทย: 789416\n",
      "ประโยค: ค่ะจริงๆแล้วก็หวังว่าจะเข้าไปได้วันนี้เลยตอนบ่าย3**\n",
      "Same index: 789416 Value: 17 Rank: 643\n",
      "Sentence: yeah you know i honestly i wa hoping i can come by today by 3:00 if not are there * *\n",
      "Minimum index: 982876 Value: 10\n",
      "Sentence: event in the year 1980 in greece *\n",
      "========================================\n"
     ]
    },
    {
     "name": "stderr",
     "output_type": "stream",
     "text": [
      "\r",
      "581it [21:15,  1.03it/s]"
     ]
    },
    {
     "name": "stdout",
     "output_type": "stream",
     "text": [
      "Index ประโยคภาษาไทย: 641601\n",
      "ประโยค: บลูบอร์อินน์ในมิดเวย์ยูทาห์ค่ะ****\n",
      "Same index: 641601 Value: 5 Rank: 88\n",
      "Sentence: the blue boar inn in midway ut * *\n",
      "Minimum index: 825422 Value: 3\n",
      "Sentence: have fun * * * * *\n",
      "========================================\n"
     ]
    },
    {
     "name": "stderr",
     "output_type": "stream",
     "text": [
      "\r",
      "582it [21:17,  1.21s/it]"
     ]
    },
    {
     "name": "stdout",
     "output_type": "stream",
     "text": [
      "Index ประโยคภาษาไทย: 249376\n",
      "ประโยค: และโดยวิธีถ้าคุณวางนิ้วไว้ข้างใต้คุณจะสามารถเห็นหน้าจอได้ดีขึ้นด้วยตัวป้องกันนี้*\n",
      "Same index: 249376 Value: 18 Rank: 1\n",
      "Sentence: and by the way if you put your finger under it you can see the screen better with this protector on\n",
      "Minimum index: 586893 Value: 17\n",
      "Sentence: you also have the grand prix race-tracks here where the championship are held *\n",
      "========================================\n"
     ]
    },
    {
     "name": "stderr",
     "output_type": "stream",
     "text": [
      "\r",
      "583it [21:20,  2.01s/it]"
     ]
    },
    {
     "name": "stdout",
     "output_type": "stream",
     "text": [
      "Index ประโยคภาษาไทย: 96067\n",
      "ประโยค: ฉันชอบหนังสือแค่สั้นๆมากกว่าเล่มนี้เหมือนเป็นเรื่องเดิมๆซ้ำไปซ้ำมาและเหมือนหนังสือทุกเล่มที่ตีพิมพ์แหละมันมีจุดที่ไวยากรณ์ผิดแต่อย่างน้อยก็เขียนมาได้ดีนะ******\n",
      "Same index: 96067 Value: 31 Rank: 0\n",
      "Sentence: and like all other book published there are grammatical errors.but at least is well written * * * * * *\n",
      "Minimum index: 96067 Value: 31\n",
      "Sentence: and like all other book published there are grammatical errors.but at least is well written * * * * * *\n",
      "========================================\n"
     ]
    },
    {
     "name": "stderr",
     "output_type": "stream",
     "text": [
      "\r",
      "584it [21:22,  1.77s/it]"
     ]
    },
    {
     "name": "stdout",
     "output_type": "stream",
     "text": [
      "Index ประโยคภาษาไทย: 498100\n",
      "ประโยค: วันแต่ละวันอันน้อยนิดคือสิ่งที่มากมายในหนึ่งปี****\n",
      "Same index: 498100 Value: 9 Rank: 0\n",
      "Sentence: a little each day is much in a year * * * * *\n",
      "Minimum index: 131113 Value: 9\n",
      "Sentence: we were thrilled * * * *\n",
      "========================================\n"
     ]
    },
    {
     "name": "stderr",
     "output_type": "stream",
     "text": [
      "\r",
      "585it [21:23,  1.60s/it]"
     ]
    },
    {
     "name": "stdout",
     "output_type": "stream",
     "text": [
      "Index ประโยคภาษาไทย: 471531\n",
      "ประโยค: ฉันซื้อมันเพื่อให้รถของฉันเย็น******\n",
      "Same index: 471531 Value: 7 Rank: 0\n",
      "Sentence: i bought it to keep my car cool * * * * * *\n",
      "Minimum index: 354540 Value: 7\n",
      "Sentence: received my glove today * * *\n",
      "========================================\n"
     ]
    },
    {
     "name": "stderr",
     "output_type": "stream",
     "text": [
      "\r",
      "586it [21:24,  1.50s/it]"
     ]
    },
    {
     "name": "stdout",
     "output_type": "stream",
     "text": [
      "Index ประโยคภาษาไทย: 70255\n",
      "ประโยค: แค่อย่าโฆษณาอะไรถ้าคุณไม่มีลูกค้า*****\n",
      "Same index: 70255 Value: 10 Rank: 301\n",
      "Sentence: just do n't advertise something when you have n't gotten any customer involved *\n",
      "Minimum index: 204956 Value: 8\n",
      "Sentence: it taste similar both way if not better * * * * * *\n",
      "========================================\n"
     ]
    },
    {
     "name": "stderr",
     "output_type": "stream",
     "text": [
      "\r",
      "587it [21:25,  1.41s/it]"
     ]
    },
    {
     "name": "stdout",
     "output_type": "stream",
     "text": [
      "Index ประโยคภาษาไทย: 126910\n",
      "ประโยค: ปัญหาเดียวก็คือข้อมือของฉันจะเจ็บถ้าไม่ใส่มันตลอดเวลา\n",
      "Same index: 126910 Value: 18 Rank: 576\n",
      "Sentence: the only problem ha been that my wrist becomes sore if it 's not worn all the time * * *\n",
      "Minimum index: 264955 Value: 12\n",
      "Sentence: this book had no plot * *\n",
      "========================================\n"
     ]
    },
    {
     "name": "stderr",
     "output_type": "stream",
     "text": [
      "\r",
      "588it [21:27,  1.54s/it]"
     ]
    },
    {
     "name": "stdout",
     "output_type": "stream",
     "text": [
      "Index ประโยคภาษาไทย: 476417\n",
      "ประโยค: มันดูดซับความชื้นออกจากผิวของฉันเพื่อป้องกันไม่ให้chafingขณะออกกําลังกายลู่วิ่ง**\n",
      "Same index: 476417 Value: 16 Rank: 0\n",
      "Sentence: it wick moisture away from my skin to prevent chafing while exercising treadmill *\n",
      "Minimum index: 476417 Value: 16\n",
      "Sentence: it wick moisture away from my skin to prevent chafing while exercising treadmill *\n",
      "========================================\n"
     ]
    },
    {
     "name": "stderr",
     "output_type": "stream",
     "text": [
      "\r",
      "589it [21:28,  1.42s/it]"
     ]
    },
    {
     "name": "stdout",
     "output_type": "stream",
     "text": [
      "Index ประโยคภาษาไทย: 471702\n",
      "ประโยค: มากหรือคําพูดในหนังสือเล่มนี้รู้สึกรีบเร่งและคิดไม่ดี\n",
      "Same index: 471702 Value: 13 Rank: 0\n",
      "Sentence: in a lot or word this book felt rushed and not well thought *\n",
      "Minimum index: 675855 Value: 13\n",
      "Sentence: what do you have have * *\n",
      "========================================\n"
     ]
    },
    {
     "name": "stderr",
     "output_type": "stream",
     "text": [
      "\r",
      "590it [21:29,  1.19s/it]"
     ]
    },
    {
     "name": "stdout",
     "output_type": "stream",
     "text": [
      "Index ประโยคภาษาไทย: 946908\n",
      "ประโยค: แผนกกงสุลของสถานเอกอัครราชทูตสหรัฐอเมริกาในกรุงเทพมหานครประกอบด้วยแผนกบริการสัญชาติอเมริกันและแผนกวีซ่า*\n",
      "Same index: 946908 Value: 15 Rank: 573\n",
      "Sentence: the consular section of the u.s. embassy in bangkok is made up of american citizen service and the visa section * * * *\n",
      "Minimum index: 931947 Value: 5\n",
      "Sentence: respiratory protection grey 3 m 6200 * * * * * *\n",
      "========================================\n"
     ]
    },
    {
     "name": "stderr",
     "output_type": "stream",
     "text": [
      "\r",
      "591it [21:31,  1.33s/it]"
     ]
    },
    {
     "name": "stdout",
     "output_type": "stream",
     "text": [
      "Index ประโยคภาษาไทย: 726282\n",
      "ประโยค: โอเคค่ะจะว่าอะไรมั้ยคะถ้าจะขอทราบข้อมูลรถของคุณหน่อย******\n",
      "Same index: 726282 Value: 20 Rank: 607\n",
      "Sentence: ok. hope you do n't mind if i take some information on your car\n",
      "Minimum index: 198925 Value: 14\n",
      "Sentence: this product worked fine when used with that car * * * * *\n",
      "========================================\n"
     ]
    },
    {
     "name": "stderr",
     "output_type": "stream",
     "text": [
      "\r",
      "592it [21:31,  1.12s/it]"
     ]
    },
    {
     "name": "stdout",
     "output_type": "stream",
     "text": [
      "Index ประโยคภาษาไทย: 510610\n",
      "ประโยค: ฉันก็เป็นนักโทษพอๆ กับคุณนั่นแหละ*\n",
      "Same index: 510610 Value: 7 Rank: 209\n",
      "Sentence: i 'm a much a prisoner a you * * * * * *\n",
      "Minimum index: 499824 Value: 5\n",
      "Sentence: ginger cake is my favourite * *\n",
      "========================================\n"
     ]
    },
    {
     "name": "stderr",
     "output_type": "stream",
     "text": [
      "\r",
      "593it [21:32,  1.12s/it]"
     ]
    },
    {
     "name": "stdout",
     "output_type": "stream",
     "text": [
      "Index ประโยคภาษาไทย: 98529\n",
      "ประโยค: ฉันชอบที่จะใช้เครื่องดูดฝุ่นแบบมือถือมากกว่าแบบนี้*****\n",
      "Same index: 98529 Value: 10 Rank: 317\n",
      "Sentence: i 'd rather use a hand held vacuum than deal with this * *\n",
      "Minimum index: 271084 Value: 7\n",
      "Sentence: it read like a rough draft *\n",
      "========================================\n"
     ]
    },
    {
     "name": "stderr",
     "output_type": "stream",
     "text": [
      "\r",
      "594it [21:34,  1.33s/it]"
     ]
    },
    {
     "name": "stdout",
     "output_type": "stream",
     "text": [
      "Index ประโยคภาษาไทย: 188331\n",
      "ประโยค: ในบรรจุภัณฑ์ไม่มีอะไรที่อยู่บนสินค้าก็ผิดหากพวกเขาส่งมันไป******\n",
      "Same index: 188331 Value: 12 Rank: 0\n",
      "Sentence: the address on product is wrong for them to send it to * *\n",
      "Minimum index: 710359 Value: 12\n",
      "Sentence: alright so i have an extra large italian six cheese for take out *\n",
      "========================================\n"
     ]
    },
    {
     "name": "stderr",
     "output_type": "stream",
     "text": [
      "\r",
      "595it [21:36,  1.49s/it]"
     ]
    },
    {
     "name": "stdout",
     "output_type": "stream",
     "text": [
      "Index ประโยคภาษาไทย: 683251\n",
      "ประโยค: เยี่ยมเป็นหนังที่ดีอลิตาเป็นหุ่นยนต์ที่เหมาะสมกับพลังการต่อสู้ที่เท่เธออายุมากกว่า300 ปีเลย*\n",
      "Same index: 683251 Value: 17 Rank: 0\n",
      "Sentence: awesome great movie alita is a decent cyborg with cool fighting power she over 300 year old * * * *\n",
      "Minimum index: 305865 Value: 17\n",
      "Sentence: it work well but is a little bulky with all your cd 's *\n",
      "========================================\n"
     ]
    },
    {
     "name": "stderr",
     "output_type": "stream",
     "text": [
      "\r",
      "596it [21:38,  1.63s/it]"
     ]
    },
    {
     "name": "stdout",
     "output_type": "stream",
     "text": [
      "Index ประโยคภาษาไทย: 398482\n",
      "ประโยค: ข้อร้องเรียนเดียวของฉันคือหนึ่งในใบมีดยากมากที่จะลบออกจากช่องของมัน***\n",
      "Same index: 398482 Value: 17 Rank: 7\n",
      "Sentence: my only complaint is one of the blade wa very difficult to remove from it 's slot * * * *\n",
      "Minimum index: 256258 Value: 16\n",
      "Sentence: this brand is consistently good no issue at all * * * * *\n",
      "========================================\n"
     ]
    },
    {
     "name": "stderr",
     "output_type": "stream",
     "text": [
      "\r",
      "597it [21:40,  1.71s/it]"
     ]
    },
    {
     "name": "stdout",
     "output_type": "stream",
     "text": [
      "Index ประโยคภาษาไทย: 687057\n",
      "ประโยค: ค่ะขอหน้าซูพรีมหนึ่งถาดเป็นแป้งกลูเตนฟรีค่ะขอบคุณที่คอยดูแลฉันนะคะ\n",
      "Same index: 687057 Value: 21 Rank: 306\n",
      "Sentence: yes please make one of the supreme gluten free thank you for looking out for me * * * * *\n",
      "Minimum index: 370708 Value: 19\n",
      "Sentence: it is not visible from where i 'm working nor doe anyone see it\n",
      "========================================\n"
     ]
    },
    {
     "name": "stderr",
     "output_type": "stream",
     "text": [
      "\r",
      "598it [21:44,  2.49s/it]"
     ]
    },
    {
     "name": "stdout",
     "output_type": "stream",
     "text": [
      "Index ประโยคภาษาไทย: 622809\n",
      "ประโยค: เฟรนช์โปลิเป็นประเทศสาธารณรัฐฝรั่งเศสต่างประเทศจะประกอบด้วยกลุ่มเกาะเรียกว่าเกาะPolynesianมีชื่อเสียงที่สุดของเกาะนี้คือตาฮิติ มีหมู่เกาะน้อย130มีสนามบิน50ในเฟรนช์กับFaaaสนามสนามเกาะโหลนเกาะ แอร์ตาฮิติเป็นสายประธานซึ่งยังเกาะทั้งหมดในฝรั่งเศสเมืองหลวงของเฟรนช์เป็นมั่นและอยู่ในตาฮิติ\n",
      "Same index: 622809 Value: 69 Rank: 930\n",
      "Sentence: the french polynesia is a french republic country overseas it comprises of a group of island called the polynesian island the most famous of these island is tahiti there are at least 130 island there are over 50 airport in french polynesia with faaa international airport being the lone international airport in the island air tahiti is the chief airline which fly to all the island in french polynesia the capital city of the french polynesia is papeete and is located in tahiti * * * * * *\n",
      "Minimum index: 835605 Value: 44\n",
      "Sentence: ok that 'll be at 6:50pm *\n",
      "========================================\n"
     ]
    },
    {
     "name": "stderr",
     "output_type": "stream",
     "text": [
      "\r",
      "599it [21:54,  4.58s/it]"
     ]
    },
    {
     "name": "stdout",
     "output_type": "stream",
     "text": [
      "Index ประโยคภาษาไทย: 899013\n",
      "ประโยค: หากสาวๆกำลังมองหาความสบายในยามค่ำคืนชุดนอนกระโปรงตัวนี้จากแบรนด์SWEETSENSATIONSคือหนึ่งในตัวเลือกที่คุณไม่ควรพลาดมาพร้อมลวดลายขนนกหวานๆน่ารักและดีไซน์ลายนกฟลามิงโก้คู่ที่กลางชุดช่วยเพิ่มความน่าถนุถนอมให้กับคุณแม้จะอยู่บ้านก็ตามชุดกระโปรงนอนผลิตจากผ้าฝ้าย100เนื้อผ้านุ่มสวมใส่สบายไซส์Lลายขนนกตรวจสอบไซส์Sizechartที่ลิ้งค์ด้านบนวิธีดูแลรักษาห้ามใช้สารฟอกขาวในการซักล้างพบสินค้าเพิ่มเติมจากSWEETSENSATIONSคลิกสีของผลิตภัณฑ์ที่แสดงบนเว็บไซต์อาจมีความแตกต่างกันจากการตั้งค่าการแสดงผลสีของแต่ละหน้าจอ*\n",
      "Same index: 899013 Value: 102 Rank: 0\n",
      "Sentence: if you 're looking for a comfortable nightwear this sleepwear dress from sweet sensation is the perfect match for you it come with a sweet feather-printed design and a couple of flamingo on the center of the sleepwear dress which will make you look sweet even at home sweet sensation sleepwear dress made of 100 cotton comfortable wear size l feather printed click on the link above for size chart care instruction do not use bleach or bleaching agent see more product from sweet sensation click specification\n",
      "Minimum index: 899013 Value: 102\n",
      "Sentence: if you 're looking for a comfortable nightwear this sleepwear dress from sweet sensation is the perfect match for you it come with a sweet feather-printed design and a couple of flamingo on the center of the sleepwear dress which will make you look sweet even at home sweet sensation sleepwear dress made of 100 cotton comfortable wear size l feather printed click on the link above for size chart care instruction do not use bleach or bleaching agent see more product from sweet sensation click specification\n",
      "========================================\n"
     ]
    },
    {
     "name": "stderr",
     "output_type": "stream",
     "text": [
      "\r",
      "600it [21:54,  3.40s/it]"
     ]
    },
    {
     "name": "stdout",
     "output_type": "stream",
     "text": [
      "Index ประโยคภาษาไทย: 324438\n",
      "ประโยค: ดังนั้นไม่มีใครสามารถตัดสินเธอ\n",
      "Same index: 324438 Value: 5 Rank: 0\n",
      "Sentence: so no one can judge her *\n",
      "Minimum index: 324438 Value: 5\n",
      "Sentence: so no one can judge her *\n",
      "========================================\n"
     ]
    },
    {
     "name": "stderr",
     "output_type": "stream",
     "text": [
      "\r",
      "601it [21:56,  2.75s/it]"
     ]
    },
    {
     "name": "stdout",
     "output_type": "stream",
     "text": [
      "Index ประโยคภาษาไทย: 345449\n",
      "ประโยค: เรามีชุดของสิ่งเหล่านี้มานานหลายปีและพวกเขากินเวลาตลอดไป\n",
      "Same index: 345449 Value: 13 Rank: 2\n",
      "Sentence: we had a set of these for year and they lasted forever * *\n",
      "Minimum index: 416001 Value: 12\n",
      "Sentence: some thing just are n't funny *\n",
      "========================================\n"
     ]
    },
    {
     "name": "stderr",
     "output_type": "stream",
     "text": [
      "\r",
      "602it [21:57,  2.30s/it]"
     ]
    },
    {
     "name": "stdout",
     "output_type": "stream",
     "text": [
      "Index ประโยคภาษาไทย: 77727\n",
      "ประโยค: เราซื้ออะแดปเตอร์นี้มาใช้กับเครื่องพิมพ์เฮชพีเลเซอร์เจ็ท1040วีแต่มันจ่ายไฟได้แค่250วัตต์***\n",
      "Same index: 77727 Value: 20 Rank: 704\n",
      "Sentence: i bought this adapter to use with an hp laserjet 1040v printer but unfortunately the power supply is only 250 w\n",
      "Minimum index: 684053 Value: 9\n",
      "Sentence: sure take your time * * *\n",
      "========================================\n"
     ]
    },
    {
     "name": "stderr",
     "output_type": "stream",
     "text": [
      "\r",
      "603it [21:58,  1.97s/it]"
     ]
    },
    {
     "name": "stdout",
     "output_type": "stream",
     "text": [
      "Index ประโยคภาษาไทย: 718990\n",
      "ประโยค: เอาเป็นเปปเปอโรนีกับเห็ดค่ะ******\n",
      "Same index: 718990 Value: 7 Rank: 1\n",
      "Sentence: let me get pepperoni & mushroom * * *\n",
      "Minimum index: 743296 Value: 6\n",
      "Sentence: got it and what size * *\n",
      "========================================\n"
     ]
    },
    {
     "name": "stderr",
     "output_type": "stream",
     "text": [
      "\r",
      "604it [21:59,  1.58s/it]"
     ]
    },
    {
     "name": "stdout",
     "output_type": "stream",
     "text": [
      "Index ประโยคภาษาไทย: 343557\n",
      "ประโยค: รุ่นแรกดูแข็งแกร่งมาก**\n",
      "Same index: 343557 Value: 4 Rank: 0\n",
      "Sentence: the first generation seems so sturdy *\n",
      "Minimum index: 276693 Value: 4\n",
      "Sentence: it cheap looking too * * *\n",
      "========================================\n"
     ]
    },
    {
     "name": "stderr",
     "output_type": "stream",
     "text": [
      "\r",
      "605it [22:05,  3.07s/it]"
     ]
    },
    {
     "name": "stdout",
     "output_type": "stream",
     "text": [
      "Index ประโยคภาษาไทย: 874318\n",
      "ประโยค: กระเป๋าเก็บความเย็น ดีไซน์สวยมีน้ำหนักเบาและขนาดกะทัดรัดจากแบรนด์COLEMANเป็นกระเป๋ารักษาอุณหภูมิที่ดีเยี่ยมสะดวกสบายในการการพกพาผลิตจากวัสดุคุณภาพดีใช้เก็บเครื่องดื่มและอาหารมาพร้อมสายสำหรับสะพายหรือถือขนาดก x ย x ส 165  212  18 ซมสีRainbowวิธีการเก็บรักษาไม่ควรเปิดบ่อยครั้งห้ามวางใกล้เปลวไฟหมายเหตุสีของผลิตภัณฑ์ที่แสดงบนเว็บไซต์อาจมีความแตกต่างกันจากการตั้งค่าการแสดงผลของแต่ละหน้าจอ******\n",
      "Same index: 874318 Value: 68 Rank: 94\n",
      "Sentence: cool design lightweight and compact design with cooler bag by coleman is an excellent temperature-resistant bag convenient to carry made from good quality material used to store drink and food come with a strap for carrying or carrying size a x w x h 16.5 21.2 18 cm rainbow color care instruction should not be opened frequently do not put near flame caution in term of item color it may be slightly different from each monitor display and specification * * * * *\n",
      "Minimum index: 910364 Value: 64\n",
      "Sentence: made of a grade plastic durable and robust arranges on the cup tidily 24 compartment tall glass rack colour blue number of item 1 pc * * *\n",
      "========================================\n"
     ]
    },
    {
     "name": "stderr",
     "output_type": "stream",
     "text": [
      "\r",
      "606it [22:06,  2.36s/it]"
     ]
    },
    {
     "name": "stdout",
     "output_type": "stream",
     "text": [
      "Index ประโยคภาษาไทย: 844172\n",
      "ประโยค: ทั้งหมด5133ค่ะ****\n",
      "Same index: 844172 Value: 5 Rank: 67\n",
      "Sentence: 51.33 will be your total * *\n",
      "Minimum index: 534594 Value: 3\n",
      "Sentence: eta * * * * * *\n",
      "========================================\n"
     ]
    },
    {
     "name": "stderr",
     "output_type": "stream",
     "text": [
      "\r",
      "607it [22:08,  2.18s/it]"
     ]
    },
    {
     "name": "stdout",
     "output_type": "stream",
     "text": [
      "Index ประโยคภาษาไทย: 333967\n",
      "ประโยค: มันพอดีมากยกเว้นกระเป๋าเล็กๆด้านข้างและไม่มีแผ่นปิดทับด้านบนที่ให้น้ําเข้า*\n",
      "Same index: 333967 Value: 18 Rank: 0\n",
      "Sentence: it fit great except for the small side pocket and it doe not have flap over the top that let water in * * * * * *\n",
      "Minimum index: 333967 Value: 18\n",
      "Sentence: it fit great except for the small side pocket and it doe not have flap over the top that let water in * * * * * *\n",
      "========================================\n"
     ]
    },
    {
     "name": "stderr",
     "output_type": "stream",
     "text": [
      "\r",
      "608it [22:09,  1.88s/it]"
     ]
    },
    {
     "name": "stdout",
     "output_type": "stream",
     "text": [
      "Index ประโยคภาษาไทย: 315417\n",
      "ประโยค: ฉันหวังว่าพวกเขาจะบันทึกเพลงด้วยกันต่อไป*****\n",
      "Same index: 315417 Value: 7 Rank: 0\n",
      "Sentence: i really hope they will continue to record music together * * * *\n",
      "Minimum index: 315417 Value: 7\n",
      "Sentence: i really hope they will continue to record music together * * * *\n",
      "========================================\n"
     ]
    },
    {
     "name": "stderr",
     "output_type": "stream",
     "text": [
      "\r",
      "609it [22:19,  4.51s/it]"
     ]
    },
    {
     "name": "stdout",
     "output_type": "stream",
     "text": [
      "Index ประโยคภาษาไทย: 923768\n",
      "ประโยค: พนักพิงและที่นั่งขึ้นโครงเหล็กหุ้มหนังสังเคราะห์PULeatherพนักพิงสูงรองรับช่วงลำคอและศีรษะที่วางแขนโครงเหล็กชุบโครเมียมหุ้มหนังสังเคราะห์ PU Leather ขาเหล็กชุบโครเมียม ล้อไนลอนคู่สีดำสามารถหมุนเก้าอี้ได้รอบตัวปรับระดับเก้าอี้ระบบGasLiftingปรับระดับความสูงของเก้าอี้ได้ระหว่าง110115 ซมผ่านการรับรองตามมาตรฐานของANSIBIFMAสหรัฐอเมริการองรับน้ำหนักได้สูงสุด113กกประสิทธิภาพที่แนะนำเพื่อความสะดวกสบายในการนั่งต่อวัน4 ชมสีดำขนาดสินค้ากว้างxลึกxสูง53x62x110115ซมตัวจำนวน1ตัวคำแนะนำและข้อควรระวังหลีกเลี่ยงของมีคมไม่ควรใช้งานผิดประเภทการรับประกันสินค้ารับประกันคุณภาพสินค้า1 ปีนับแต่วันที่ซื้อยกเว้นการสึกหรอตามปกติจากการใช้งานเช่นกรณีสีซีดจางและการยืดของวัสดุบางประเภท*\n",
      "Same index: 923768 Value: 116 Rank: 1\n",
      "Sentence: pu leather-upholstered steel backrest and seat construction for a soft touch high backrest support neck and head pu leather-upholstered chrome-plated steel armrest construction chrome-plated steel base with black nylon castor provides tiltability and 360 degree swivel rotation gas lifting system for seat height adjustment seat height adjustment 89-100 cm certified by ansibifma standard from u a maximum loading capacity 113 kg color black recommended chair performance for sitting comfort per day 4 hour product dimension width x depth x height 53 x 62 x 110-115 cm each number of item 1 each suggestion and warning do not expose to sharp object do not misuse product warranty 1-year warranty ( misuse is not covered by the warranty or a specified in term & condition )\n",
      "Minimum index: 911013 Value: 115\n",
      "Sentence: made of good quality durable pv c plastic should not keep in humid area ideal for inserting namebadge or the general card colour assorted colour card type horizontal product size width x length 9.5 x 5.5 cm.each contains 50 pcs.pack number of item 1 pack purchase order remark the product have been sold in assorted pattern and color up to the lot of manu manu * * * * *\n",
      "========================================\n"
     ]
    },
    {
     "name": "stderr",
     "output_type": "stream",
     "text": [
      "\r",
      "610it [22:20,  3.36s/it]"
     ]
    },
    {
     "name": "stdout",
     "output_type": "stream",
     "text": [
      "Index ประโยคภาษาไทย: 714193\n",
      "ประโยค: อยากได้อะไรเพิ่มไหม***\n",
      "Same index: 714193 Value: 7 Rank: 187\n",
      "Sentence: did you want anything else in it\n",
      "Minimum index: 677908 Value: 4\n",
      "Sentence: okay sound great great * * *\n",
      "========================================\n"
     ]
    },
    {
     "name": "stderr",
     "output_type": "stream",
     "text": [
      "\r",
      "611it [22:21,  2.54s/it]"
     ]
    },
    {
     "name": "stdout",
     "output_type": "stream",
     "text": [
      "Index ประโยคภาษาไทย: 573969\n",
      "ประโยค: ค้นหาปลายทางยอดนิยมเช่นโมร็อกโกจะคุ้มค่า\n",
      "Same index: 573969 Value: 13 Rank: 270\n",
      "Sentence: finding a popular destination like morocco is rewarding * * * * * *\n",
      "Minimum index: 330041 Value: 6\n",
      "Sentence: the finished product are beautiful * *\n",
      "========================================\n"
     ]
    },
    {
     "name": "stderr",
     "output_type": "stream",
     "text": [
      "\r",
      "612it [22:22,  2.16s/it]"
     ]
    },
    {
     "name": "stdout",
     "output_type": "stream",
     "text": [
      "Index ประโยคภาษาไทย: 440186\n",
      "ประโยค: จะซื้ออีกถ้าจําเป็นต้องเป็น******\n",
      "Same index: 440186 Value: 5 Rank: 0\n",
      "Sentence: would buy another if need be *\n",
      "Minimum index: 440186 Value: 5\n",
      "Sentence: would buy another if need be *\n",
      "========================================\n"
     ]
    },
    {
     "name": "stderr",
     "output_type": "stream",
     "text": [
      "\r",
      "613it [22:23,  1.71s/it]"
     ]
    },
    {
     "name": "stdout",
     "output_type": "stream",
     "text": [
      "Index ประโยคภาษาไทย: 698693\n",
      "ประโยค: มีแบบพูลอูเบอร์เอ็กซ์ เอ็กซ์แอล เอ็กซ์แอลเอสยูวีแบล็ก**\n",
      "Same index: 698693 Value: 9 Rank: 296\n",
      "Sentence: there 's pool uberx xl xl suv and black black * * * *\n",
      "Minimum index: 754134 Value: 4\n",
      "Sentence: have a great day bye * *\n",
      "========================================\n"
     ]
    },
    {
     "name": "stderr",
     "output_type": "stream",
     "text": [
      "\r",
      "614it [22:23,  1.39s/it]"
     ]
    },
    {
     "name": "stdout",
     "output_type": "stream",
     "text": [
      "Index ประโยคภาษาไทย: 776310\n",
      "ประโยค: ทั้งหมด72ดอลลาร์ค่ะ***\n",
      "Same index: 776310 Value: 5 Rank: 90\n",
      "Sentence: your total will be 72 dollar * *\n",
      "Minimum index: 659470 Value: 4\n",
      "Sentence: north end garage * * * *\n",
      "========================================\n"
     ]
    },
    {
     "name": "stderr",
     "output_type": "stream",
     "text": [
      "\r",
      "615it [22:26,  1.83s/it]"
     ]
    },
    {
     "name": "stdout",
     "output_type": "stream",
     "text": [
      "Index ประโยคภาษาไทย: 1072\n",
      "ประโยค: การระบายข้าวเป็นปัญหาที่น่าปวดหัวของรัฐบาลซึ่งอีกด้านหนึ่งก็พยายามจะเอาใจชาวนาที่เคยชินกับนโยบายจำนำข้าวและราคารับซื้อขั้นต่ำที่บางครั้งสูงกว่าราคาตลาดถึงสองเท่า\n",
      "Same index: 1072 Value: 33 Rank: 0\n",
      "Sentence: the disposal have been a headache for the government which is also trying to appease rice farmer accustomed to government subsidy and minimum price that were sometimes double the market rate * * * *\n",
      "Minimum index: 307365 Value: 33\n",
      "Sentence: and amazon prime is really convenient especially if your dog 's food cost more *\n",
      "========================================\n"
     ]
    },
    {
     "name": "stderr",
     "output_type": "stream",
     "text": [
      "\r",
      "616it [22:33,  3.30s/it]"
     ]
    },
    {
     "name": "stdout",
     "output_type": "stream",
     "text": [
      "Index ประโยคภาษาไทย: 995496\n",
      "ประโยค: เฟสที่1ของโครงการก๊าซคาร์บอนไดออกไซด์WeyburnMidaleในWeyburnSaskatchewanแคนาดาได้กำหนดว่าโอกาสของการรั่วไหลCOที่ถูกเก็บไว้จะไม่เกินร้อยละหนึ่งใน5000 ปีอย่างไรก็ตามในรายงานเดือนมกราคม 2011อ้างถึงหลักฐานของการรั่วไหลในผิวดินเหนือโครงการนั้นรายงานนี้ถูกโต้แย้งอย่างมากโดยโครงการจัดเก็บและการตรวจสอบCOของIEAGHGWeyburnMidaleที่ได้เผยแพร่บทวิเคราะห์แปดหน้าของการศึกษาที่อ้างว่ามันไม่ได้แสดงให้เห็นถึงหลักฐานของการรั่วไหลจากแหล่งเก็บ**\n",
      "Same index: 995496 Value: 66 Rank: 0\n",
      "Sentence: phase i of the weyburn-midale carbon dioxide project in weyburn saskatchewan canada ha determined that the likelihood of stored release is le than one percent in 5,000 year a january 2011 report however claimed evidence of leakage in land above that project this report wa strongly refuted by the ieaghg weyburn-midale monitoring and storage project which issued an eight-page analysis of the study claiming that it showed no evidence of leakage from the reservoir * * * * *\n",
      "Minimum index: 995496 Value: 66\n",
      "Sentence: phase i of the weyburn-midale carbon dioxide project in weyburn saskatchewan canada ha determined that the likelihood of stored release is le than one percent in 5,000 year a january 2011 report however claimed evidence of leakage in land above that project this report wa strongly refuted by the ieaghg weyburn-midale monitoring and storage project which issued an eight-page analysis of the study claiming that it showed no evidence of leakage from the reservoir * * * * *\n",
      "========================================\n"
     ]
    },
    {
     "name": "stderr",
     "output_type": "stream",
     "text": [
      "\r",
      "617it [22:41,  4.80s/it]"
     ]
    },
    {
     "name": "stdout",
     "output_type": "stream",
     "text": [
      "Index ประโยคภาษาไทย: 943364\n",
      "ประโยค: หม้อสุกี้ไฟฟ้า1300วัตต์รุ่นKW381EXPOความสุขในบ้านเริ่มต้นได้กับเมนูอาหารอร่อยMISAWAเจ้าของผลิตภัณฑ์เครื่องใช้ไฟฟ้าชั้นนำขอแนะนำหม้อสุกี้ไฟฟ้า1300วัตต์รุ่นKW381EXPOที่เหมาะกับทุกครอบครัวดีไซน์สวยปรับระดับความร้อนได้ตามความต้องการรับประกัน1ปีเต็มคุณสมบัติสินค้ากำลังไฟ1300วัตต์ปรับระดับความร้อนได้ตามความต้องการตัวBODYเคลือบผิวNONSTICKอาหารไม่ติดมีซึ้งนึ่งสำหรับอุ่นอาหารหลากหลายชนิดฝาปิดเป็นกระจกหม้อเห็นอาหารได้สะดวกกระทัดรัดสะดวกสบายต่อการใช้งานเคลื่อนย้ายทำอาหารประเภทต้มรับประกัน1 ปี**\n",
      "Same index: 943364 Value: 84 Rank: 0\n",
      "Sentence: sukiyaki electric pot kw381 expo enjoy the delicious home-made menu misawa a leading consumer electronics product electric kettle 1300 w model kw381 expo suitable for all family beautiful design adjustable heat required 1 year warranty product features• 1300 watt power• adjust the heat a required.• non-stick body cover• steamed for a variety of foods.• the glass lid is easy to see.• compact and easy to use.• cooking boiled• 1 year warranty warranty * * * * * *\n",
      "Minimum index: 943364 Value: 84\n",
      "Sentence: sukiyaki electric pot kw381 expo enjoy the delicious home-made menu misawa a leading consumer electronics product electric kettle 1300 w model kw381 expo suitable for all family beautiful design adjustable heat required 1 year warranty product features• 1300 watt power• adjust the heat a required.• non-stick body cover• steamed for a variety of foods.• the glass lid is easy to see.• compact and easy to use.• cooking boiled• 1 year warranty warranty * * * * * *\n",
      "========================================\n"
     ]
    },
    {
     "name": "stderr",
     "output_type": "stream",
     "text": [
      "\r",
      "618it [22:42,  3.74s/it]"
     ]
    },
    {
     "name": "stdout",
     "output_type": "stream",
     "text": [
      "Index ประโยคภาษาไทย: 974840\n",
      "ประโยค: นับตั้งแต่การเริ่มต้นของการปฏิวัติอุตสาหกรรมเป็นต้นมาความเข้มของปริมาณแก๊สเรือนกระจกได้เพิ่มขึ้น\n",
      "Same index: 974840 Value: 17 Rank: 569\n",
      "Sentence: since the beginning of the industrial revolution the concentration of most of the greenhouse gas have increased * * * *\n",
      "Minimum index: 335905 Value: 12\n",
      "Sentence: not really my thing * * *\n",
      "========================================\n"
     ]
    },
    {
     "name": "stderr",
     "output_type": "stream",
     "text": [
      "\r",
      "619it [22:45,  3.32s/it]"
     ]
    },
    {
     "name": "stdout",
     "output_type": "stream",
     "text": [
      "Index ประโยคภาษาไทย: 284223\n",
      "ประโยค: การแนะนำนั้นค่อนข้างสั้นเกินไปที่จะให้ภาพรวมที่ครอบคลุมมากการละเลยนี้ไม่ได้ยุ่งเกี่ยวกับความเพลิดเพลินของตัวเองมากนัก****\n",
      "Same index: 284223 Value: 22 Rank: 1\n",
      "Sentence: the introduction wa somewhat too brief to give a very comprehensive overview but this omission doe n't really interfere much with one 's enjoyment * * * *\n",
      "Minimum index: 387262 Value: 21\n",
      "Sentence: you just cant put too much thing in it * * * * *\n",
      "========================================\n"
     ]
    },
    {
     "name": "stderr",
     "output_type": "stream",
     "text": [
      "\r",
      "620it [22:45,  2.51s/it]"
     ]
    },
    {
     "name": "stdout",
     "output_type": "stream",
     "text": [
      "Index ประโยคภาษาไทย: 921092\n",
      "ประโยค: เก้าอี้สำนักงาน สีดำ ออฟฟิศอินเทรนCIA*****\n",
      "Same index: 921092 Value: 2 Rank: 1\n",
      "Sentence: office intrend cia office chair black * * * * * *\n",
      "Minimum index: 801773 Value: 1\n",
      "Sentence: joe cornish did * * * * *\n",
      "========================================\n"
     ]
    },
    {
     "name": "stderr",
     "output_type": "stream",
     "text": [
      "\r",
      "621it [22:50,  3.05s/it]"
     ]
    },
    {
     "name": "stdout",
     "output_type": "stream",
     "text": [
      "Index ประโยคภาษาไทย: 993229\n",
      "ประโยค: และสถาปนาเอมิเรตอิสลามอัฟกานิสถานรัฐบาลรัฐอิสลามได้ย้ายศูนย์กลางอำนาจไปที่ตอนเหนือของอัฟกานิสถานและรวมตัวในชื่อแนวร่วมอิสลามเพื่อการปลดปล่อยอัฟกานิสถานทำการสู้รบกับกลุ่มตอลิบานเรื่อยมาจนถึงคศ2001เมื่อรัฐบาลตอลิบานถูกล้มล้างและมีการสถาปนาสาธารณรัฐอิสลามอัฟกานิสถาน*\n",
      "Same index: 993229 Value: 45 Rank: 13\n",
      "Sentence: this aroused international outrage and brought the taliban regime on the brink of war with iran the northern alliance drove the taliban away in december 2001 following the united state invasion of afghanistan the islamic state of afghanistan wa succeeded by the interim transitional islamic state of afghanistan in 2002 * *\n",
      "Minimum index: 221864 Value: 43\n",
      "Sentence: this doe a great job of making ice tea * * * * *\n",
      "========================================\n"
     ]
    },
    {
     "name": "stderr",
     "output_type": "stream",
     "text": [
      "\r",
      "622it [22:50,  2.33s/it]"
     ]
    },
    {
     "name": "stdout",
     "output_type": "stream",
     "text": [
      "Index ประโยคภาษาไทย: 547924\n",
      "ประโยค: โอ้โอเคตอนนี้คุณอยู่ที่ไหน*\n",
      "Same index: 547924 Value: 5 Rank: 0\n",
      "Sentence: oh okay where re you now *\n",
      "Minimum index: 383040 Value: 5\n",
      "Sentence: love it in my living room *\n",
      "========================================\n"
     ]
    },
    {
     "name": "stderr",
     "output_type": "stream",
     "text": [
      "\r",
      "623it [22:52,  2.16s/it]"
     ]
    },
    {
     "name": "stdout",
     "output_type": "stream",
     "text": [
      "Index ประโยคภาษาไทย: 105568\n",
      "ประโยค: ฉันชอบเรื่องราวมากเมื่อเราสามารถพี่จะติดตามตัวละครในหนังสือเล่มนี้ได้*****\n",
      "Same index: 105568 Value: 15 Rank: 9\n",
      "Sentence: i really enjoyed the story when we were able to catch up with the character in this book * * *\n",
      "Minimum index: 192633 Value: 14\n",
      "Sentence: just finished reading this book in it entirety * * * * * *\n",
      "========================================\n"
     ]
    },
    {
     "name": "stderr",
     "output_type": "stream",
     "text": [
      "\r",
      "624it [22:55,  2.24s/it]"
     ]
    },
    {
     "name": "stdout",
     "output_type": "stream",
     "text": [
      "Index ประโยคภาษาไทย: 555291\n",
      "ประโยค: แต่ในกรณีของฉันฉันคิดว่าพวกเขาน่าจะรู้คือพวกเรานะดูเหมือนจะสามารถทำบ้าๆได้เท่านั้นในสัปดาห์สุดท้ายที่โฮสเทล\n",
      "Same index: 555291 Value: 27 Rank: 85\n",
      "Sentence: but in my case i think they kinda know is u lol look like can onlydo shitz on last week of hostel hostel * * * * *\n",
      "Minimum index: 423399 Value: 24\n",
      "Sentence: i found that this wa true even though my glass were made by oakley\n",
      "========================================\n"
     ]
    },
    {
     "name": "stderr",
     "output_type": "stream",
     "text": [
      "\r",
      "625it [23:08,  5.47s/it]"
     ]
    },
    {
     "name": "stdout",
     "output_type": "stream",
     "text": [
      "Index ประโยคภาษาไทย: 908843\n",
      "ประโยค: MARCOPOLOแว่นกันแดดรุ่นPL331C1กรอบแว่นและขาแว่นสีดำทรงสี่เหลี่ยมPolarizedLensesวัสดุแว่นตาผลิตจากAcetateและTitaniumซึ่งเป็นพลาสติกและโลหะอย่างดีมีความทนทานสูงมีน้ำหนักเบาใส่แล้วไม่ปวดขมับและไม่เป็นรอยตรงจมูกเวลาที่สวมใส่เป็นเวลานานวัสดุเลนส์ผลิตจากพอลิคาร์บอเนตซึ่งแข็งแรงและน้ำหนักเบามากหรือพลาสติกCR39ซึ่งเป็นวัสดุเลนส์ซึ่งแข็งที่มีสมบัติได้มาตรฐานทางแสงและสายตาวัสดุเลนส์ถนอมสายตาเป็นเลนส์Polarizeสามารถปรับแสงได้ตามความมืดและสว่างของแสงได้โดยอัตโนมัติรายละเอียดของขนาดเลนส์กว้าง55mmเลนส์สูง45mmขนาดแว่นวัดจากกรอบด้านซ้ายสุดถึงด้านขวาสุด140mmขาแว่นยาว135mmจมูกแว่นยาว10 mmป้ายดูแลรักษาผลิตภัณฑ์อย่าวางใกล้ความร้อนที่มากเกินไปสวมใส่ด้วยความระมัดระวัง\n",
      "Same index: 908843 Value: 134 Rank: 2\n",
      "Sentence: marcopolo sunglass model pl331 c1 shiny black frame and arm polarized lens measurement lens wide 55 mm lens height 45 mm measure from left frame to right frame about 140 mm arm length 135 mm noise bridge 10 mm carelabel do not near heat be wearing carefully carefully *\n",
      "Minimum index: 505735 Value: 131\n",
      "Sentence: his knife i made certain had skewered scudder to the floor * * *\n",
      "========================================\n"
     ]
    },
    {
     "name": "stderr",
     "output_type": "stream",
     "text": [
      "\r",
      "626it [23:08,  4.02s/it]"
     ]
    },
    {
     "name": "stdout",
     "output_type": "stream",
     "text": [
      "Index ประโยคภาษาไทย: 564310\n",
      "ประโยค: คนเยอะมากๆเลยละ*\n",
      "Same index: 564310 Value: 5 Rank: 0\n",
      "Sentence: many many many people people * *\n",
      "Minimum index: 498567 Value: 5\n",
      "Sentence: men strive but seldom get rich *\n",
      "========================================\n"
     ]
    },
    {
     "name": "stderr",
     "output_type": "stream",
     "text": [
      "\r",
      "627it [23:16,  5.10s/it]"
     ]
    },
    {
     "name": "stdout",
     "output_type": "stream",
     "text": [
      "Index ประโยคภาษาไทย: 31016\n",
      "ประโยค: นําโดยการขยายตัวเรํงขึ้นของเศรษฐกิจสหรัฐฯแม๎วําจะได๎รับผลกระทบจากสภาพอากาศที่หนาวเย็นในไตรมาสแรกขณะที่แนวโน๎มการฟื้นตัวอยํางแข็งแกรํงมากขึ้นของเศรษฐกิจยูโรโซนซึ่งเงื่อนไขทางเศรษฐกิจและการเงินปรับตัวดีขึ้นตามความคืบหน๎าของมาตรการปฏิรูปเศรษฐกิจและการดําเนินนโยบายการเงินผํอนคลายอยํางตํอเนื่อง ทั้งนี้แนวโน๎มการขยายตัวอยํางตํอเนื่องของเศรษฐกิจญี่ปุ่นซึ่งได๎รับปัจจัยสนับสนุนจากการดําเนินมาตรการกระตุ๎นเศรษฐกิจและการขยายปริมาณเงินในชํวงที่ผํานมาแม๎วําการขยายตัวทางเศรษฐกิจมีแนวโน๎มชะลอตวัตัวลงจากปีกํอนหน๎าเนื่องจากการปรับเพิม่ภาษกีารบริโภคก็ตาม***\n",
      "Same index: 31016 Value: 90 Rank: 863\n",
      "Sentence: the recovery will be driven mainly by the acceleration of the u economy after a slight slowdown in the first quarter due to the unusual harsh winter condition the euro zone economic recovery will also become more pronounced due to the improvement in overall economic and financial condition following progress of the economic reform package a well a the continued accommodative monetary policy the japanese economy continues to grow thanks to the stimulus policy and monetary easing despite that fact that the economy tends to slowdown from last year due to the consumption tax hike * * * * *\n",
      "Minimum index: 200903 Value: 83\n",
      "Sentence: i have read all of jilly cooper 's book but this wa just boring *\n",
      "========================================\n"
     ]
    },
    {
     "name": "stderr",
     "output_type": "stream",
     "text": [
      "\r",
      "628it [23:17,  3.77s/it]"
     ]
    },
    {
     "name": "stdout",
     "output_type": "stream",
     "text": [
      "Index ประโยคภาษาไทย: 75115\n",
      "ประโยค: ลองใส่แผ่นเอ บี ซี ดีหรืออี****\n",
      "Same index: 75115 Value: 9 Rank: 293\n",
      "Sentence: you put in disc a b c d or e * * * *\n",
      "Minimum index: 716868 Value: 3\n",
      "Sentence: nutmeg got it * * * *\n",
      "========================================\n"
     ]
    },
    {
     "name": "stderr",
     "output_type": "stream",
     "text": [
      "\r",
      "629it [23:17,  2.82s/it]"
     ]
    },
    {
     "name": "stdout",
     "output_type": "stream",
     "text": [
      "Index ประโยคภาษาไทย: 635873\n",
      "ประโยค: สนามกอล์ฟ เพจ เบลเชอร์ที่6666เซาธ์ ยูเนียน อเวนิว ทัลซา โอคลาโฮมา74132ค่ะ*\n",
      "Same index: 635873 Value: 8 Rank: 252\n",
      "Sentence: page belcher golf course at 6666 s union ave tulsa ok 74132 * * * * * *\n",
      "Minimum index: 501621 Value: 4\n",
      "Sentence: rob peter to pay paul * * *\n",
      "========================================\n"
     ]
    },
    {
     "name": "stderr",
     "output_type": "stream",
     "text": [
      "\r",
      "630it [23:18,  2.36s/it]"
     ]
    },
    {
     "name": "stdout",
     "output_type": "stream",
     "text": [
      "Index ประโยคภาษาไทย: 887172\n",
      "ประโยค: โพสต์อิทแฟล็ก047x17นิ้วโพสต์อิท683PLAID1S*\n",
      "Same index: 887172 Value: 13 Rank: 28\n",
      "Sentence: flag 0.47x 1.7 inch post-it 683-plaid1-s 683-plaid1-s\n",
      "Minimum index: 770133 Value: 12\n",
      "Sentence: ok. what 's the first one *\n",
      "========================================\n"
     ]
    },
    {
     "name": "stderr",
     "output_type": "stream",
     "text": [
      "\r",
      "631it [23:21,  2.36s/it]"
     ]
    },
    {
     "name": "stdout",
     "output_type": "stream",
     "text": [
      "Index ประโยคภาษาไทย: 259582\n",
      "ประโยค: เราได้รับเครื่องเป็นของขวัญวันคริสต์มาสและเมื่อภรรยาของฉันใช้มันน้อยกว่าหนึ่งชั่วโมงเราพบว่าคุณไม่สามารถเอากาแฟออกจริง ๆ**\n",
      "Same index: 259582 Value: 26 Rank: 325\n",
      "Sentence: we received the machine a a christmas present and when my wife used it for le than an hour we discovered that you can not actually remove any of the coffee * * * *\n",
      "Minimum index: 575651 Value: 22\n",
      "Sentence: what must we do to receive the holy spirit * * * * * *\n",
      "========================================\n"
     ]
    },
    {
     "name": "stderr",
     "output_type": "stream",
     "text": [
      "\r",
      "632it [23:21,  1.85s/it]"
     ]
    },
    {
     "name": "stdout",
     "output_type": "stream",
     "text": [
      "Index ประโยคภาษาไทย: 932844\n",
      "ประโยค: แก้วมัค 035 ลิตร ลายรถคลาสสิก รอยัล ปอร์ซเลนRN3431CC***\n",
      "Same index: 932844 Value: 8 Rank: 236\n",
      "Sentence: royal porcelain mug 0.35 l. classic car car * * * * * *\n",
      "Minimum index: 815168 Value: 4\n",
      "Sentence: s okay 960-925-8402 * * * *\n",
      "========================================\n"
     ]
    },
    {
     "name": "stderr",
     "output_type": "stream",
     "text": [
      "\r",
      "633it [23:23,  1.63s/it]"
     ]
    },
    {
     "name": "stdout",
     "output_type": "stream",
     "text": [
      "Index ประโยคภาษาไทย: 790000\n",
      "ประโยค: เยี่ยมเลยค่ะขอจ่ายให้ซักครู่นะคะ*****\n",
      "Same index: 790000 Value: 9 Rank: 2\n",
      "Sentence: wonderful one moment while i process the purchase * * * * * *\n",
      "Minimum index: 166533 Value: 7\n",
      "Sentence: i gave this one star * *\n",
      "========================================\n"
     ]
    },
    {
     "name": "stderr",
     "output_type": "stream",
     "text": [
      "\r",
      "634it [23:24,  1.53s/it]"
     ]
    },
    {
     "name": "stdout",
     "output_type": "stream",
     "text": [
      "Index ประโยคภาษาไทย: 430801\n",
      "ประโยค: และเธอแทบจะไม่มีคราบจุลินทรีย์ใดๆเลย****\n",
      "Same index: 430801 Value: 10 Rank: 51\n",
      "Sentence: and she hardly ha any plaque on her * * * * * *\n",
      "Minimum index: 340055 Value: 9\n",
      "Sentence: really nicely made * * * *\n",
      "========================================\n"
     ]
    },
    {
     "name": "stderr",
     "output_type": "stream",
     "text": [
      "\r",
      "635it [23:25,  1.43s/it]"
     ]
    },
    {
     "name": "stdout",
     "output_type": "stream",
     "text": [
      "Index ประโยคภาษาไทย: 381615\n",
      "ประโยค: ขนาดและคุณภาพเท่ากันกับที่ฉันซื้อในร้านค้าพอใจกับคุณภาพเป็นอย่างมาก\n",
      "Same index: 381615 Value: 15 Rank: 562\n",
      "Sentence: these are the same size and quality a what i have purchased in store so very pleased with quality * *\n",
      "Minimum index: 763937 Value: 13\n",
      "Sentence: i would like sausage and pepperoni *\n",
      "========================================\n"
     ]
    },
    {
     "name": "stderr",
     "output_type": "stream",
     "text": [
      "\r",
      "636it [23:26,  1.21s/it]"
     ]
    },
    {
     "name": "stdout",
     "output_type": "stream",
     "text": [
      "Index ประโยคภาษาไทย: 787116\n",
      "ประโยค: ชอบร้านไหนมั้ยคะ**\n",
      "Same index: 787116 Value: 6 Rank: 114\n",
      "Sentence: do u like one of these *\n",
      "Minimum index: 700923 Value: 4\n",
      "Sentence: which shop you prefer sir * *\n",
      "========================================\n"
     ]
    },
    {
     "name": "stderr",
     "output_type": "stream",
     "text": [
      "\r",
      "637it [23:29,  1.75s/it]"
     ]
    },
    {
     "name": "stdout",
     "output_type": "stream",
     "text": [
      "Index ประโยคภาษาไทย: 166026\n",
      "ประโยค: คอมพิวเตอร์ก็เริ่มหยุดทำงานตอนที่กำลังเซฟไฟล์จากไดร์ฟอื่นๆด้วยสายนี้เหมือนกับที่คนอื่นๆบอกไว้พอคุณเปิดเครื่องไปแล้ว******\n",
      "Same index: 166026 Value: 35 Rank: 767\n",
      "Sentence: after about 2 month though my computer began to crash when trying to save file from external drive with this cable\n",
      "Minimum index: 336892 Value: 26\n",
      "Sentence: only reason it getting 4 star instead of 5 is because i have n't carried it out on location * *\n",
      "========================================\n"
     ]
    },
    {
     "name": "stderr",
     "output_type": "stream",
     "text": [
      "\r",
      "638it [23:31,  1.82s/it]"
     ]
    },
    {
     "name": "stdout",
     "output_type": "stream",
     "text": [
      "Index ประโยคภาษาไทย: 269686\n",
      "ประโยค: ประการที่สองซอฟต์แวร์สำรองข้อมูลอัตโนมัติไม่สามารถใช้งานได้จริงทั้งหมดคุณสามารถเลือกไฟล์ก่อนที่จะรีสตาร์ทคอมพิวเตอร์*\n",
      "Same index: 269686 Value: 19 Rank: 26\n",
      "Sentence: second it auto backup software doe n't actually work at all all you can do it select file before restarting computer\n",
      "Minimum index: 196653 Value: 18\n",
      "Sentence: and by playing music i mean just walking around or moving your foot *\n",
      "========================================\n"
     ]
    },
    {
     "name": "stderr",
     "output_type": "stream",
     "text": [
      "\r",
      "639it [23:31,  1.47s/it]"
     ]
    },
    {
     "name": "stdout",
     "output_type": "stream",
     "text": [
      "Index ประโยคภาษาไทย: 215106\n",
      "ประโยค: ภาพไม่คมชัดแต่โดยรวมแล้วดีมาก\n",
      "Same index: 215106 Value: 11 Rank: 239\n",
      "Sentence: the picture is not quite a sharp but overall very nice * * *\n",
      "Minimum index: 166050 Value: 6\n",
      "Sentence: it not worth even reading * *\n",
      "========================================\n"
     ]
    },
    {
     "name": "stderr",
     "output_type": "stream",
     "text": [
      "\r",
      "640it [23:34,  1.72s/it]"
     ]
    },
    {
     "name": "stdout",
     "output_type": "stream",
     "text": [
      "Index ประโยคภาษาไทย: 96334\n",
      "ประโยค: แล้วมันจะอยู่ได้ไม่ยาวขนาดนี้ถ้าคุณใช้โปรแกรมอื่นๆเปิดเป็นเบื้องหลังหรือถ้านั่นคือการใช้ปกติของคุณอยู่แล้ว\n",
      "Same index: 96334 Value: 27 Rank: 262\n",
      "Sentence: it doe n't last a long if you 're using any program that have to run in background or if that 's just what your normal usage is\n",
      "Minimum index: 453287 Value: 24\n",
      "Sentence: the plot itself could have been good\n",
      "========================================\n"
     ]
    },
    {
     "name": "stderr",
     "output_type": "stream",
     "text": [
      "\r",
      "641it [23:36,  1.76s/it]"
     ]
    },
    {
     "name": "stdout",
     "output_type": "stream",
     "text": [
      "Index ประโยคภาษาไทย: 175252\n",
      "ประโยค: สำหรับใครที่ต้องการหนังสือเกี่ยวกับประวัติศาสตร์ของอาหารอินเดียนี่ก็อาจจะเป็นหนังสือที่น่าสนใจก็ได้***\n",
      "Same index: 175252 Value: 15 Rank: 0\n",
      "Sentence: to those who want a book on the history of indian food then this is indeed an interesting book * *\n",
      "Minimum index: 175252 Value: 15\n",
      "Sentence: to those who want a book on the history of indian food then this is indeed an interesting book * *\n",
      "========================================\n"
     ]
    },
    {
     "name": "stderr",
     "output_type": "stream",
     "text": [
      "\r",
      "642it [23:37,  1.61s/it]"
     ]
    },
    {
     "name": "stdout",
     "output_type": "stream",
     "text": [
      "Index ประโยคภาษาไทย: 653831\n",
      "ประโยค: จะไปที่ไหนและให้รับที่ไหนคะ******\n",
      "Same index: 653831 Value: 12 Rank: 397\n",
      "Sentence: where are you going and where do you want to be picked up *\n",
      "Minimum index: 794971 Value: 6\n",
      "Sentence: awesome take care * * * *\n",
      "========================================\n"
     ]
    },
    {
     "name": "stderr",
     "output_type": "stream",
     "text": [
      "\r",
      "643it [23:41,  2.36s/it]"
     ]
    },
    {
     "name": "stdout",
     "output_type": "stream",
     "text": [
      "Index ประโยคภาษาไทย: 987848\n",
      "ประโยค: มันเป็นไปได้ที่จะจ่ายกระแสไฟให้รถไฟโดยการเหนี่ยวนำไฟฟ้านี้จะช่วยให้การใช้แรงดันสูงฉนวนรางตัวนำระบบดังกล่าวได้รับการจดสิทธิบัตรใน1894โดยนิโคลาเทสลาสิทธิบัตรสหรัฐ514972ต้องใช้กระแสสลับความถี่สูงเทสลาไม่ได้ระบุความถี่******\n",
      "Same index: 987848 Value: 39 Rank: 4\n",
      "Sentence: this allows the use of a high-voltage insulated conductor rail such a system wa patented in 1894 by nikola tesla it requires the use of high-frequency alternating current *\n",
      "Minimum index: 106543 Value: 38\n",
      "Sentence: i 'm using the new canon s110 is taking photo * * * *\n",
      "========================================\n"
     ]
    },
    {
     "name": "stderr",
     "output_type": "stream",
     "text": [
      "\r",
      "644it [23:42,  2.02s/it]"
     ]
    },
    {
     "name": "stdout",
     "output_type": "stream",
     "text": [
      "Index ประโยคภาษาไทย: 116241\n",
      "ประโยค: เราซื้อมาหลายชิ้นแล้วในช่วงเวลาหลายปีมานี้**\n",
      "Same index: 116241 Value: 12 Rank: 37\n",
      "Sentence: we have bought many over the year\n",
      "Minimum index: 131094 Value: 11\n",
      "Sentence: will take care of three long haired dog by vacuumering * * * *\n",
      "========================================\n"
     ]
    },
    {
     "name": "stderr",
     "output_type": "stream",
     "text": [
      "\r",
      "645it [23:43,  1.60s/it]"
     ]
    },
    {
     "name": "stdout",
     "output_type": "stream",
     "text": [
      "Index ประโยคภาษาไทย: 113251\n",
      "ประโยค: เครื่องนี้มีหม้อขนาดใหญ่สองหม้อ\n",
      "Same index: 113251 Value: 13 Rank: 233\n",
      "Sentence: this one ha two large pot i think .it 's awesome * * *\n",
      "Minimum index: 549296 Value: 6\n",
      "Sentence: maybe can get lynette xd xd *\n",
      "========================================\n"
     ]
    },
    {
     "name": "stderr",
     "output_type": "stream",
     "text": [
      "\r",
      "646it [23:44,  1.48s/it]"
     ]
    },
    {
     "name": "stdout",
     "output_type": "stream",
     "text": [
      "Index ประโยคภาษาไทย: 509122\n",
      "ประโยค: เมื่อไหร่ที่พวกเราจะได้ฟังมากกว่านี้อีก*****\n",
      "Same index: 509122 Value: 7 Rank: 0\n",
      "Sentence: when are we to hear more of this * * * * * *\n",
      "Minimum index: 509122 Value: 7\n",
      "Sentence: when are we to hear more of this * * * * * *\n",
      "========================================\n"
     ]
    },
    {
     "name": "stderr",
     "output_type": "stream",
     "text": [
      "\r",
      "647it [23:45,  1.38s/it]"
     ]
    },
    {
     "name": "stdout",
     "output_type": "stream",
     "text": [
      "Index ประโยคภาษาไทย: 781325\n",
      "ประโยค: ใช่ค่ะร้านนี้ให้คุณค่ากับความสดและรสชาติดั้งเดิมของอาหาร*\n",
      "Same index: 781325 Value: 13 Rank: 11\n",
      "Sentence: yes they pride themselves on authenticity and traditionalism * * * * * *\n",
      "Minimum index: 754055 Value: 12\n",
      "Sentence: please give them mine bobby lee 5596837193 *\n",
      "========================================\n"
     ]
    },
    {
     "name": "stderr",
     "output_type": "stream",
     "text": [
      "\r",
      "648it [23:46,  1.18s/it]"
     ]
    },
    {
     "name": "stdout",
     "output_type": "stream",
     "text": [
      "Index ประโยคภาษาไทย: 526902\n",
      "ประโยค: วันจันทร์ตอนเย็นหรือวันอังคารตอนกลางวัน**\n",
      "Same index: 526902 Value: 4 Rank: 0\n",
      "Sentence: monday evening or tues afternoon * *\n",
      "Minimum index: 526902 Value: 4\n",
      "Sentence: monday evening or tues afternoon * *\n",
      "========================================\n"
     ]
    },
    {
     "name": "stderr",
     "output_type": "stream",
     "text": [
      "\r",
      "649it [24:09,  7.82s/it]"
     ]
    },
    {
     "name": "stdout",
     "output_type": "stream",
     "text": [
      "Index ประโยคภาษาไทย: 858318\n",
      "ประโยค: ประสิทธิภาพแปรงแต่งหน้าสำหรับบลัชออนปลายแปรงตัดเฉียงไล่ระดับเพื่อการเติมแต่งสีสันให้ผิวแก้มและปรับแต่งรูปหน้าสร้างมิติให้โดดเด่นได้ตามต้องการขนแปรงสังเคราะห์นุ่มแบบคลื่นนุ่มฟูกระจายเม็ดสีให้ฟุ้งนวลดูเป็นธรรมชาติสามารถใช้กดแตะเพื่อเพิ่มความชัดเจนของสีสันจากบางเบาสู่เข้มชัดโฉบเฉี่ยวแปรงแต่งหน้าจากซิสเล่ย์สร้างสรรค์ขึ้นจากการทำงานร่วมกับศิลปินRaphaëlราฟาเอลผู้เชี่ยวชาญศาตร์การออกแบบแปรงในระดับโลกนับจากปี1973เพื่อใช้ร่วมกับเมคอัพชั้นสูงของซิสเล่ย์โบนัสพิเศษแปรงแต่งหน้าทุกชิ้นสลักชื่อชนิดของแปรงลงบนด้านจับเพื่อเลือกหยิบใช้อย่างง่ายดายไม่ผิดพลาดbeyourownmakeupartistผลลัพธ์เพิ่มความสะดวกง่ายดายให้กับการแต่งหน้าด้วยปลายแปรงที่ออกแบบพิเศษให้เข้ากับความโค้งมนของรูปแก้มวิธีใช้แตะเนื้อบลัชออนโดยตรงจากตลับเคาะเบาะๆเพื่อกำจัดเนื้อฝุ่นส่วนเกินปัดไล้ลงบนโหนกแก้มขึ้นสู่ขมับเพื่อผลลัพธ์ผิวดูโกลว์เปล่งปราย แตะบลัชออนสีอ่อนที่มีประกายปัดเพิ่มในทิศทางวงกลามบางเบาบริเวณส่วนบนของโหนกแก้มทำความสะอาดแปรงอยู่เสมอด้วยน้ำสบู่หรือแชมพูสูตรอ่อนโยนล้างจนสะอาดบีบเบาๆให้หมาดน้ำโดยไม่บิดขนแปรงแล้วผึ่งลมให้แห้งสนิทเทคนิคจากเมคอัพอาร์ติสท์สามารถใช้ปัดสร้างกรอบหน้าให้คมชัดโดยปัดโทนสีเข้มลงบนแนวกรามหรือปัดสีอ่อนประกายลงบนจุดโค้งมนเพื่อเน้นให้โดดเด่นหมายเหตุสีของผลิตภัณฑ์ที่แสดงบนเว็บไซต์อาจมีความแตกต่างกันจากการตั้งค่าการแสดงผลของแต่ละหน้าจอ*****\n",
      "Same index: 858318 Value: 262 Rank: 326\n",
      "Sentence: benefit thanks to it angled and tapered shape the blush brush enables you to apply blush easily and precisely to enhance the cheekbone and sculpt the face it wavy and synthetic incomparably soft bristle were specifically designed and selected to provide buildable application of powder blush from delicate to more intense look for the development of these brush sisley ha worked with raphaël french master brushmaker since 1793 to offer make-up accessory that bring out the very best of our formula bonus the brush 's function is written on the handle no chance of using the wrong one beyourownmakeupartist result easy rapid and precise application for lifted cheekbone and a sculpted face application tip take the product directly from the compact if necessary tap to remove excess before delicately applying from the cheekbone up towards the temple re-apply for a more intense look for a healthy glow effect apply using light circular movement on the top of the cheekbone clean regularly and delicately with a mild soap or shampoo rinse thoroughly squeeze without twisting and leave to air dry flat make-up artist 's tip perfect for contouring it enables you to hollow the cheek with a darker shade and sculpt the jawline using the angled part of the brush starting from the middle of the face and blending outwards to highlight apply a pale and iridescent shade to the curved area of the face with the tip of the brush and blend using light circular movement caution in term of item color it may be slightly different from each monitor display and specification * * *\n",
      "Minimum index: 968901 Value: 251\n",
      "Sentence: however the bottom part of the stopper are primarily made of the above 3 typical material and newer version of wine stopper are made to expand in the wine glass to ensure a tighter seal some wine stopper can be vacuum-sealed with a hand pump to remove oxygen from the bottle thereby extending the life of the wine by several day after opening the bottle * * * * *\n",
      "========================================\n"
     ]
    },
    {
     "name": "stderr",
     "output_type": "stream",
     "text": [
      "\r",
      "650it [24:12,  6.21s/it]"
     ]
    },
    {
     "name": "stdout",
     "output_type": "stream",
     "text": [
      "Index ประโยคภาษาไทย: 43783\n",
      "ประโยค: ตัวอย่างเช่นฮิตเลอร์และพรรคของเขากำลังต่อสู้เพื่อหยุดรัสเซียจากการยึดเบอร์ลินซึ่งหมายความว่าพวกเขาจะต้องทำลายสตาลินกราด*****\n",
      "Same index: 43783 Value: 20 Rank: 0\n",
      "Sentence: for example hitler and his party are going into battle to stop the russian from taking berlin which will mean they must destroy stalingrad * * * *\n",
      "Minimum index: 43783 Value: 20\n",
      "Sentence: for example hitler and his party are going into battle to stop the russian from taking berlin which will mean they must destroy stalingrad * * * *\n",
      "========================================\n"
     ]
    },
    {
     "name": "stderr",
     "output_type": "stream",
     "text": [
      "\r",
      "651it [24:13,  4.71s/it]"
     ]
    },
    {
     "name": "stdout",
     "output_type": "stream",
     "text": [
      "Index ประโยคภาษาไทย: 287639\n",
      "ประโยค: ใช่มีคำถามหลายข้อเกี่ยวกับพระเจ้ามันเป็นอย่างไรที่นี่***\n",
      "Same index: 287639 Value: 10 Rank: 0\n",
      "Sentence: yes there were several question regarding godwhat it 's like here * * *\n",
      "Minimum index: 843869 Value: 10\n",
      "Sentence: and how many people are going *\n",
      "========================================\n"
     ]
    },
    {
     "name": "stderr",
     "output_type": "stream",
     "text": [
      "\r",
      "652it [24:14,  3.68s/it]"
     ]
    },
    {
     "name": "stdout",
     "output_type": "stream",
     "text": [
      "Index ประโยคภาษาไทย: 116637\n",
      "ประโยค: กล่องใส่แบตเตอรี่2ก้อนปิดไม่สนิทเท่าไร*****\n",
      "Same index: 116637 Value: 7 Rank: 0\n",
      "Sentence: the package for the two battery wa not sealed properly * * * *\n",
      "Minimum index: 116637 Value: 7\n",
      "Sentence: the package for the two battery wa not sealed properly * * * *\n",
      "========================================\n"
     ]
    },
    {
     "name": "stderr",
     "output_type": "stream",
     "text": [
      "\r",
      "653it [24:16,  3.25s/it]"
     ]
    },
    {
     "name": "stdout",
     "output_type": "stream",
     "text": [
      "Index ประโยคภาษาไทย: 606817\n",
      "ประโยค: ในช่วงฤดูร้อนอย่างต่อเนื่องเอาดอกไม้สีซีดจางหากมีความหลากหลายของรูปแบบการจัดดอกไม้แปรงแล้วตัดกิ่งไม้ที่พวกเขาจะเก็บไว้**\n",
      "Same index: 606817 Value: 24 Rank: 70\n",
      "Sentence: in the summer of constantly remove fading flower if a variety of floral form a brush then cut off a twig on which they are kept * *\n",
      "Minimum index: 338524 Value: 22\n",
      "Sentence: this book provided an interesting read but one that made me realize thing are n't always a they appear * *\n",
      "========================================\n"
     ]
    },
    {
     "name": "stderr",
     "output_type": "stream",
     "text": [
      "\r",
      "654it [24:19,  3.01s/it]"
     ]
    },
    {
     "name": "stdout",
     "output_type": "stream",
     "text": [
      "Index ประโยคภาษาไทย: 83873\n",
      "ประโยค: อย่างน้อยตัวปลั๊กก็เสียบเข้าเลยยังทำงานได้อยู่แต่ผิดหวังมากที่พวกเขาขายของจีนเก๊ให้ฉัน******\n",
      "Same index: 83873 Value: 21 Rank: 72\n",
      "Sentence: the plug did fit though so at least it worked.. but very disappointed that they sold me a chinese knockoff *\n",
      "Minimum index: 112291 Value: 19\n",
      "Sentence: it would have been even better if it wa n't so long * *\n",
      "========================================\n"
     ]
    },
    {
     "name": "stderr",
     "output_type": "stream",
     "text": [
      "\r",
      "655it [24:20,  2.48s/it]"
     ]
    },
    {
     "name": "stdout",
     "output_type": "stream",
     "text": [
      "Index ประโยคภาษาไทย: 556070\n",
      "ประโยค: อีเมลอะไรที่ฉันจะส่งขึ้นได้อ่ะ*****\n",
      "Same index: 556070 Value: 13 Rank: 453\n",
      "Sentence: which boarding email do i send to\n",
      "Minimum index: 524370 Value: 7\n",
      "Sentence: tomolo got activity again * * *\n",
      "========================================\n"
     ]
    },
    {
     "name": "stderr",
     "output_type": "stream",
     "text": [
      "\r",
      "656it [24:21,  2.10s/it]"
     ]
    },
    {
     "name": "stdout",
     "output_type": "stream",
     "text": [
      "Index ประโยคภาษาไทย: 301216\n",
      "ประโยค: ไม่มีอะไรที่คุ้มค่ากับการอ่านที่เหมาะสม****\n",
      "Same index: 301216 Value: 10 Rank: 33\n",
      "Sentence: nothing worth reading that make any sense either * * * * * *\n",
      "Minimum index: 535669 Value: 8\n",
      "Sentence: ok have fun fun * * *\n",
      "========================================\n"
     ]
    },
    {
     "name": "stderr",
     "output_type": "stream",
     "text": [
      "\r",
      "657it [24:22,  1.66s/it]"
     ]
    },
    {
     "name": "stdout",
     "output_type": "stream",
     "text": [
      "Index ประโยคภาษาไทย: 492613\n",
      "ประโยค: ภูเขามากมายบนโลกถูกตั้งชื่อว่าเซียร่าเนวาดา*\n",
      "Same index: 492613 Value: 6 Rank: 7\n",
      "Sentence: many mountain range on earth are named sierra nevada * * * * * *\n",
      "Minimum index: 92511 Value: 5\n",
      "Sentence: the price wa definitely right * *\n",
      "========================================\n"
     ]
    },
    {
     "name": "stderr",
     "output_type": "stream",
     "text": [
      "\r",
      "658it [24:23,  1.35s/it]"
     ]
    },
    {
     "name": "stdout",
     "output_type": "stream",
     "text": [
      "Index ประโยคภาษาไทย: 316271\n",
      "ประโยค: คุณควรใช้vistaเป็นไดรเวอร์เท่านั้น\n",
      "Same index: 316271 Value: 12 Rank: 269\n",
      "Sentence: you should only use vista a a driver * * * * * *\n",
      "Minimum index: 331836 Value: 6\n",
      "Sentence: you 're wasting your money * *\n",
      "========================================\n"
     ]
    },
    {
     "name": "stderr",
     "output_type": "stream",
     "text": [
      "\r",
      "659it [24:23,  1.13s/it]"
     ]
    },
    {
     "name": "stdout",
     "output_type": "stream",
     "text": [
      "Index ประโยคภาษาไทย: 691000\n",
      "ประโยค: โอเคค่ะไม่ใส่พริกหยวกเขียวนะคะ\n",
      "Same index: 691000 Value: 6 Rank: 0\n",
      "Sentence: okay no green pepper * * *\n",
      "Minimum index: 815204 Value: 6\n",
      "Sentence: okay i 'll choose the first choice\n",
      "========================================\n"
     ]
    },
    {
     "name": "stderr",
     "output_type": "stream",
     "text": [
      "\r",
      "660it [24:24,  1.01it/s]"
     ]
    },
    {
     "name": "stdout",
     "output_type": "stream",
     "text": [
      "Index ประโยคภาษาไทย: 673265\n",
      "ประโยค: ที่สตาร์บัคส์ตรงฟอร์ดสมิท**\n",
      "Same index: 673265 Value: 5 Rank: 1\n",
      "Sentence: at the starbucks at fort smith * *\n",
      "Minimum index: 738264 Value: 4\n",
      "Sentence: yes correct * * * * *\n",
      "========================================\n"
     ]
    },
    {
     "name": "stderr",
     "output_type": "stream",
     "text": [
      "\r",
      "661it [24:25,  1.07s/it]"
     ]
    },
    {
     "name": "stdout",
     "output_type": "stream",
     "text": [
      "Index ประโยคภาษาไทย: 473272\n",
      "ประโยค: ฉันไม่ได้มีปัญหาใดๆกับน้ํารั่วที่ฐานหรืออะไร*\n",
      "Same index: 473272 Value: 13 Rank: 62\n",
      "Sentence: i have n't had any problem with water leaking at the base or anything\n",
      "Minimum index: 671848 Value: 12\n",
      "Sentence: did you make the reservation for 6 people * * * * * *\n",
      "========================================\n"
     ]
    },
    {
     "name": "stderr",
     "output_type": "stream",
     "text": [
      "\r",
      "662it [24:26,  1.07it/s]"
     ]
    },
    {
     "name": "stdout",
     "output_type": "stream",
     "text": [
      "Index ประโยคภาษาไทย: 837067\n",
      "ประโยค: อยากได้พิซซ่าถาดเล็กสองถาดค่ะ\n",
      "Same index: 837067 Value: 7 Rank: 3\n",
      "Sentence: i 'd like two small pizza please\n",
      "Minimum index: 318859 Value: 6\n",
      "Sentence: i love how small this charger is\n",
      "========================================\n"
     ]
    },
    {
     "name": "stderr",
     "output_type": "stream",
     "text": [
      "\r",
      "663it [24:27,  1.01s/it]"
     ]
    },
    {
     "name": "stdout",
     "output_type": "stream",
     "text": [
      "Index ประโยคภาษาไทย: 428816\n",
      "ประโยค: อุปกรณ์เสริมที่ยอดเยี่ยมในราคาที่เหมาะสมไม่ต้องสงสัยเลย****\n",
      "Same index: 428816 Value: 10 Rank: 0\n",
      "Sentence: a great accessory at a modest price no doubt * * * * *\n",
      "Minimum index: 784400 Value: 10\n",
      "Sentence: the one closest to me * *\n",
      "========================================\n"
     ]
    },
    {
     "name": "stderr",
     "output_type": "stream",
     "text": [
      "\r",
      "664it [24:29,  1.27s/it]"
     ]
    },
    {
     "name": "stdout",
     "output_type": "stream",
     "text": [
      "Index ประโยคภาษาไทย: 884119\n",
      "ประโยค: ดูวิดีโอแนะนำเคล็ดลับต่างๆในการใช้คุณสมบัติการช่วยการเข้าถึงด้านการมองเห็นในwatchOS**\n",
      "Same index: 884119 Value: 20 Rank: 599\n",
      "Sentence: explore instructional video with tip on using the vision accessibility feature in watch o\n",
      "Minimum index: 357587 Value: 17\n",
      "Sentence: great for making home made bread dough too * * * * * *\n",
      "========================================\n"
     ]
    },
    {
     "name": "stderr",
     "output_type": "stream",
     "text": [
      "\r",
      "665it [24:29,  1.08s/it]"
     ]
    },
    {
     "name": "stdout",
     "output_type": "stream",
     "text": [
      "Index ประโยคภาษาไทย: 657894\n",
      "ประโยค: โอเคค่ะรับวิปครีมมั้ยคะ\n",
      "Same index: 657894 Value: 5 Rank: 0\n",
      "Sentence: okay do you want whipped cream *\n",
      "Minimum index: 657894 Value: 5\n",
      "Sentence: okay do you want whipped cream *\n",
      "========================================\n"
     ]
    },
    {
     "name": "stderr",
     "output_type": "stream",
     "text": [
      "\r",
      "666it [24:30,  1.05it/s]"
     ]
    },
    {
     "name": "stdout",
     "output_type": "stream",
     "text": [
      "Index ประโยคภาษาไทย: 304595\n",
      "ประโยค: ยังไม่ได้มาพร้อมกับอุปกรณ์ติดตั้งเลย\n",
      "Same index: 304595 Value: 13 Rank: 266\n",
      "Sentence: also doe not come with the mounting hardware at all * * * *\n",
      "Minimum index: 555069 Value: 6\n",
      "Sentence: i not sure going nt u going\n",
      "========================================\n"
     ]
    },
    {
     "name": "stderr",
     "output_type": "stream",
     "text": [
      "\r",
      "667it [24:32,  1.23s/it]"
     ]
    },
    {
     "name": "stdout",
     "output_type": "stream",
     "text": [
      "Index ประโยคภาษาไทย: 63587\n",
      "ประโยค: สินค้านี้ใช้งานไม่ได้อย่างที่พูดเลยค่ะและเป็นการเสียเงินเปล่าๆของครอบครัวเราเลย***\n",
      "Same index: 63587 Value: 18 Rank: 114\n",
      "Sentence: this product doe not do what it say and ha been a total waste of money for my family * *\n",
      "Minimum index: 442472 Value: 16\n",
      "Sentence: that may not have happened normally *\n",
      "========================================\n"
     ]
    },
    {
     "name": "stderr",
     "output_type": "stream",
     "text": [
      "\r",
      "668it [24:38,  2.76s/it]"
     ]
    },
    {
     "name": "stdout",
     "output_type": "stream",
     "text": [
      "Index ประโยคภาษาไทย: 932310\n",
      "ประโยค: กระเป๋าเป้สะพายหลังจากCARRYALLมาพร้อมกับดีไซน์สีสันที่สวยงามให้คุณจัดเก็บสัมภาระได้อย่างจุใจดูแลรักษาได้ง่ายเหมาะสำหรับเป็นเพื่อนคู่ใจทุกการเดินทางกระเป๋าเป้สะพายหลังCARRYALLรูปทรงดีไซน์สวยงามน่าใช้บรรจุของได้ปริมาณมากทำจากผ้าริปสต๊อปติดซิปYKKกันน้ำได้ขนาด12x185x75นิ้วสีน้ำตาลหมายเหตุสีของผลิตภัณฑ์ที่แสดงบนเว็บไซต์อาจมีความแตกต่างกันจากการตั้งค่าการแสดงผลของแต่ละหน้าจอ****\n",
      "Same index: 932310 Value: 72 Rank: 30\n",
      "Sentence: ripstop backpack ykk zipper water repellent dimension 12 x 18.5 x 7.5 inch color brown note in term of item color it may be slightly different from each monitor display and specification * * *\n",
      "Minimum index: 192545 Value: 70\n",
      "Sentence: my child ha severe adhd that make her have constant headshake but she is almost 3 * * * * *\n",
      "========================================\n"
     ]
    },
    {
     "name": "stderr",
     "output_type": "stream",
     "text": [
      "\r",
      "669it [24:42,  3.21s/it]"
     ]
    },
    {
     "name": "stdout",
     "output_type": "stream",
     "text": [
      "Index ประโยคภาษาไทย: 614026\n",
      "ประโยค: นี่เป็นโปรแกรมเล็กๆที่ดีที่ช่วยปกป้องคุณในขณะที่คุณท่องและรักษาความปลอดภัยเชื่อมต่อของคุณนอกจากนี้ยังเหมาะสำหรับผู้ใช้ที่ไม่ใช่ชาวอเมริกันชมรายการโทรทัศน์จากเว็บไซต์ถือว่าอย่างเคร่งครัดสำหรับการใช้งานของสหรัฐเท่านั้นเช่นHulu******\n",
      "Same index: 614026 Value: 41 Rank: 3\n",
      "Sentence: here s a great little program that protects you while your surfing and secures your connection it s also great for non-american user to watch tv program from site strictly deemed for u use only such a hulu * * * *\n",
      "Minimum index: 64096 Value: 40\n",
      "Sentence: this is a very thin book with poor information about the history of new zealand and australia * * * * *\n",
      "========================================\n"
     ]
    },
    {
     "name": "stderr",
     "output_type": "stream",
     "text": [
      "\r",
      "670it [24:44,  2.79s/it]"
     ]
    },
    {
     "name": "stdout",
     "output_type": "stream",
     "text": [
      "Index ประโยคภาษาไทย: 927000\n",
      "ประโยค: กำลังไฟโวลต์180ระบบกรองฝุ่นแบบแบบกล่องเก็บฝุ่นที่เก็บฝุ่นกล่องพลาสติกความจุฝุ่นลิตร04 รับประกันมอเตอร์ปี2 ขนาดเครื่องซม2520 x 12770 x 2110 น้ำหนักกิโลกรัม29******\n",
      "Same index: 927000 Value: 28 Rank: 810\n",
      "Sentence: power volt 18.0 dust filter system dust box type dust collector plastic box dust capacity liter 0.4 motor warranty year 2 dimension cm :25.20 x 127.70 x 21.10 weight kg 2.9 2.9 * * *\n",
      "Minimum index: 813384 Value: 13\n",
      "Sentence: alright then what 's the make and model * * * * * *\n",
      "========================================\n"
     ]
    },
    {
     "name": "stderr",
     "output_type": "stream",
     "text": [
      "\r",
      "671it [24:45,  2.15s/it]"
     ]
    },
    {
     "name": "stdout",
     "output_type": "stream",
     "text": [
      "Index ประโยคภาษาไทย: 946193\n",
      "ประโยค: กาต้มน้ำไฟฟ้า08ลิตรTefalBF812121\n",
      "Same index: 946193 Value: 7 Rank: 0\n",
      "Sentence: tefal bf812121 kettle 0.8 liter * * * * * *\n",
      "Minimum index: 759810 Value: 7\n",
      "Sentence: three people * * * * *\n",
      "========================================\n"
     ]
    },
    {
     "name": "stderr",
     "output_type": "stream",
     "text": [
      "\r",
      "672it [24:46,  1.89s/it]"
     ]
    },
    {
     "name": "stdout",
     "output_type": "stream",
     "text": [
      "Index ประโยคภาษาไทย: 214423\n",
      "ประโยค: พวกเขาเป็นเพียงแค่คนที่อาศัยอยู่ในบ้านของพวกเขา***\n",
      "Same index: 214423 Value: 8 Rank: 0\n",
      "Sentence: they are basically just people living in their house * * * * *\n",
      "Minimum index: 214423 Value: 8\n",
      "Sentence: they are basically just people living in their house * * * * *\n",
      "========================================\n"
     ]
    },
    {
     "name": "stderr",
     "output_type": "stream",
     "text": [
      "\r",
      "673it [24:48,  1.92s/it]"
     ]
    },
    {
     "name": "stdout",
     "output_type": "stream",
     "text": [
      "Index ประโยคภาษาไทย: 647768\n",
      "ประโยค: ร้านอาหารมีบริการจอดรถให้ค่ะและโรงจอดรถที่จ่ายเงินไว้แล้วรอบบริเวณค่ะ**\n",
      "Same index: 647768 Value: 18 Rank: 12\n",
      "Sentence: the restaurant offer valet service and there is paid parking garage around the area\n",
      "Minimum index: 45411 Value: 17\n",
      "Sentence: would have given one star if they shipped a advertised * * * *\n",
      "========================================\n"
     ]
    },
    {
     "name": "stderr",
     "output_type": "stream",
     "text": [
      "\r",
      "674it [24:49,  1.54s/it]"
     ]
    },
    {
     "name": "stdout",
     "output_type": "stream",
     "text": [
      "Index ประโยคภาษาไทย: 434321\n",
      "ประโยค: ดังนั้นถ้ามันดีเกินไปสําหรับบางคน\n",
      "Same index: 434321 Value: 12 Rank: 247\n",
      "Sentence: so if it too good for some people.. people.. * * * * *\n",
      "Minimum index: 419102 Value: 6\n",
      "Sentence: so i threw it away * *\n",
      "========================================\n"
     ]
    },
    {
     "name": "stderr",
     "output_type": "stream",
     "text": [
      "\r",
      "675it [24:50,  1.43s/it]"
     ]
    },
    {
     "name": "stdout",
     "output_type": "stream",
     "text": [
      "Index ประโยคภาษาไทย: 257969\n",
      "ประโยค: คำอธิบายหนังสือเล่มนี้สัญญาว่าจะสร้างความตื่นเต้นโรแมนติกและสัมผัสแห่งอาถรรพณ์\n",
      "Same index: 257969 Value: 13 Rank: 2\n",
      "Sentence: the book description promised excitement romance and a touch of the paranormal * *\n",
      "Minimum index: 524763 Value: 12\n",
      "Sentence: get up * * * * *\n",
      "========================================\n"
     ]
    },
    {
     "name": "stderr",
     "output_type": "stream",
     "text": [
      "\r",
      "676it [24:51,  1.20s/it]"
     ]
    },
    {
     "name": "stdout",
     "output_type": "stream",
     "text": [
      "Index ประโยคภาษาไทย: 192573\n",
      "ประโยค: ฉันมีความสุขกับมันมาก**\n",
      "Same index: 192573 Value: 5 Rank: 3\n",
      "Sentence: very happy with it * * *\n",
      "Minimum index: 294124 Value: 4\n",
      "Sentence: ca n't wait for more * *\n",
      "========================================\n"
     ]
    },
    {
     "name": "stderr",
     "output_type": "stream",
     "text": [
      "\r",
      "677it [24:53,  1.54s/it]"
     ]
    },
    {
     "name": "stdout",
     "output_type": "stream",
     "text": [
      "Index ประโยคภาษาไทย: 392660\n",
      "ประโยค: ฉันไม่สามารถแสดงความคิดเห็นเกี่ยวกับคุณภาพของรายการนี้ได้เพราะฉันมอบมันให้กับลูกสุนัขyorkieใหม่ของเรา******\n",
      "Same index: 392660 Value: 24 Rank: 652\n",
      "Sentence: i ca n't comment on the quality of this item a i 'm giving it away for our new yorkie puppy\n",
      "Minimum index: 405537 Value: 19\n",
      "Sentence: it is a bit pricey but you definitely get what you pay for *\n",
      "========================================\n"
     ]
    },
    {
     "name": "stderr",
     "output_type": "stream",
     "text": [
      "\r",
      "678it [24:59,  2.71s/it]"
     ]
    },
    {
     "name": "stdout",
     "output_type": "stream",
     "text": [
      "Index ประโยคภาษาไทย: 621137\n",
      "ประโยค: เสื้อผ้าร้านค้าบนอิสระต่างประเทศส่งและราคาต่ำRotitacomเป็นที่ต้องการของสาวๆทั่วโลกที่ต้องการที่จะซื้อเสื้อผ้าในราคาที่ดีที่สุดคุณภาพราคาต่ำจะประสบความสำเร็จเมื่อใช้ล้อคูปองRotitacomก่อนที่จะชำระเงินออนไลน์ด้านล่างเป็นรายการรหัสโปรโมชั่นที่ดีที่สุดสำหรับชุดblousesเอาชุดว่ายน้ำไปด้ก้นและoutewearที่สามารถใช้ในการสั่งซื้อทุกน้อยกว่ามากกว่า***\n",
      "Same index: 621137 Value: 52 Rank: 0\n",
      "Sentence: clothing store with free international shipping and low price rotita.com is preferred by girl around the world who want to buy clothes at the best price quality low price is achieved when using a rotita.com coupon wheel before checkout online below are a list of the best promo code for dress blouse bathing suit bottom and outewear that can be used every order le more more * * * *\n",
      "Minimum index: 621137 Value: 52\n",
      "Sentence: clothing store with free international shipping and low price rotita.com is preferred by girl around the world who want to buy clothes at the best price quality low price is achieved when using a rotita.com coupon wheel before checkout online below are a list of the best promo code for dress blouse bathing suit bottom and outewear that can be used every order le more more * * * *\n",
      "========================================\n"
     ]
    },
    {
     "name": "stderr",
     "output_type": "stream",
     "text": [
      "\r",
      "679it [25:09,  5.16s/it]"
     ]
    },
    {
     "name": "stdout",
     "output_type": "stream",
     "text": [
      "Index ประโยคภาษาไทย: 30019\n",
      "ประโยค: แม้ว่ากลไกตลาดสินเชื่อจะยังไม่ปรับตัวเข้าสู่ภาวะปกติและประสิทธิภาพของนโยบายดอกเบี้ยจะลดลงจากการลดลงของอัตราเงินเฟ้อแต่ธนาคารกลางประเทศสําคัญๆเช่นสหรัฐอเมริกากลุ่มประเทศยูโรญี่ปุ่นและสหราชอาณาจักรมีแนวโน้มที่จะดําเนินนโยบายการเงินในลักษณะของการปล่อยกู้ทางตรงCreditexpansionมากขึ้นโดยลําดับโดยมีวัตถุประสงค์เพื่อลดต้นทุนของสินเชื่อและเพิ่มขีดความสามารถของภาคครัวเรือนและธุรกิจในการเข้าถึงสินเชื่อรวมทั้งเพื่อลดความเสี่ยงด้านความมั่นคงของสถาบันการเงินและการให้กู้แก่รัฐบาลเพื่อสนับสนุนนโยบายขาดดุลทางการคลังและมาตรการกระตุ้นเศรษฐกิจiiiความร่วมมือในมาตรการกระตุ้นเศรษฐกิจทางการคลังของประเทศต่าง ๆอย่างเป็นวงกว้างซึ่งในปัจจุบันมูลค่าของมาตรการกระตุ้นเศรษฐกิจที่ประกาศโดยประเทศต่างๆ*\n",
      "Same index: 30019 Value: 121 Rank: 82\n",
      "Sentence: although fed cut it policy rate to a low a 0-0.25 percent credit market ha not yet improved adequately and counterparty risk remained high meanwhile the risk of deflation increased due to severe demand contraction and commodity price reduction in the world market under this circumstance fed turned it monetary policy to balance sheet expansion in order to reduce cost of funding and to increase credit accessibility of public and private sector a well a to extend credit to insolvency financial institution and to nationalize troubled financial institution * * *\n",
      "Minimum index: 5035 Value: 114\n",
      "Sentence: mattis in comment that appeared directed at china said the united state wanted to make sure that bigger nation did not impose their will on smaller nation * *\n",
      "========================================\n"
     ]
    },
    {
     "name": "stderr",
     "output_type": "stream",
     "text": [
      "\r",
      "680it [25:11,  3.98s/it]"
     ]
    },
    {
     "name": "stdout",
     "output_type": "stream",
     "text": [
      "Index ประโยคภาษาไทย: 509229\n",
      "ประโยค: เธอพูดอย่างสุภาพแต่จริงจังว่าคุณเป็นคนใจร้าย****\n",
      "Same index: 509229 Value: 10 Rank: 25\n",
      "Sentence: she said gently but very seriously you are not kind.\\ * * * *\n",
      "Minimum index: 493571 Value: 9\n",
      "Sentence: smoking is prohibited * * * *\n",
      "========================================\n"
     ]
    },
    {
     "name": "stderr",
     "output_type": "stream",
     "text": [
      "\r",
      "681it [25:17,  4.75s/it]"
     ]
    },
    {
     "name": "stdout",
     "output_type": "stream",
     "text": [
      "Index ประโยคภาษาไทย: 975741\n",
      "ประโยค: ต่อมาในงานประชุมจอมมหัศจรรย์The Amazing Meetingครั้งที่7จึงมีการประกาศว่าจะไม่ยกเลิกรางวัลและในวันที่30 กรกฎาคม 2552มูลนิธิจึงได้ปรับข้อมูลเว็บไซต์อย่างเป็นทางการประกาศว่ารางวัลจะดำเนินต่อไปและกล่าวว่าจะให้ข้อมูลในภายหลังเกี่ยวกับความเปลี่ยนแปลงของกฎระเบียบและวิธีการโดยทำเป็นการเล่นตลกในวันที่1 เมษายน 2551วันเมษาหน้าโง่นายแรนดี้แกล้งให้รางวัลกับนักมายากลอีกคนหนึ่งหลังจากที่ทดสอบความสามารถทางจิตวิญญาณของเขา**\n",
      "Same index: 975741 Value: 81 Rank: 956\n",
      "Sentence: however at the amaz ng meeting 7 it wa announced that the 1 million challenge prize would not expire in 2010 the foundation issued a formal update on it website on july 30 , 2009 announcing the challenge 's continuation and stated more information would be provided at a later date on any possible change to the requirement and procedure a an april fool 's prank on april 1 , 2008 at the mit medium lab randi pretended to award the prize to magician seth raphael after participating in a test of raphael 's psychic ability * * * * * *\n",
      "Minimum index: 723924 Value: 69\n",
      "Sentence: that 's fine do you have all the information you will need to make the appointment * * * * *\n",
      "========================================\n"
     ]
    },
    {
     "name": "stderr",
     "output_type": "stream",
     "text": [
      "\r",
      "682it [25:18,  3.53s/it]"
     ]
    },
    {
     "name": "stdout",
     "output_type": "stream",
     "text": [
      "Index ประโยคภาษาไทย: 607963\n",
      "ประโยค: รถเช่าสถานที่เป็นที่นิยมในประเทศรัฐสเปน อาลีกันเต ท่าอากาศยาน บาร์เซโลน่า ท่าอากาศยาน ชีโรนา ท่าอากาศยาน กราน ท่าอากาศยาน อิบิซา ท่าอากาศยาน มาดริด ท่าอากาศยาน มาลากา ท่าอากาศยาน มายอร์กา ท่าอากาศยาน เซบียา ท่าอากาศยาน เตเนรีเฟ ท่าอากาศยาน*\n",
      "Same index: 607963 Value: 6 Rank: 2\n",
      "Sentence: popular car rental location in spain alicante airport barcelona airport girona airport gran canaria airport ibiza airport madrid airport malaga airport mallorca airport seville airport tenerife airport *\n",
      "Minimum index: 779143 Value: 5\n",
      "Sentence: tyler perry * * * * * *\n",
      "========================================\n"
     ]
    },
    {
     "name": "stderr",
     "output_type": "stream",
     "text": [
      "\r",
      "683it [25:19,  2.83s/it]"
     ]
    },
    {
     "name": "stdout",
     "output_type": "stream",
     "text": [
      "Index ประโยคภาษาไทย: 370028\n",
      "ประโยค: คําอธิบายผลิตภัณฑ์นี้จําเป็นต้องได้รับการแก้ไข****\n",
      "Same index: 370028 Value: 12 Rank: 394\n",
      "Sentence: this product description need to be corrected\n",
      "Minimum index: 477875 Value: 8\n",
      "Sentence: i do n't have my watch *\n",
      "========================================\n"
     ]
    },
    {
     "name": "stderr",
     "output_type": "stream",
     "text": [
      "\r",
      "684it [25:20,  2.18s/it]"
     ]
    },
    {
     "name": "stdout",
     "output_type": "stream",
     "text": [
      "Index ประโยคภาษาไทย: 760721\n",
      "ประโยค: แล้วเวลาล่ะคะ***\n",
      "Same index: 760721 Value: 4 Rank: 2\n",
      "Sentence: what 's the eta * * *\n",
      "Minimum index: 672194 Value: 3\n",
      "Sentence: what time today * * * *\n",
      "========================================\n"
     ]
    },
    {
     "name": "stderr",
     "output_type": "stream",
     "text": [
      "\r",
      "685it [25:20,  1.72s/it]"
     ]
    },
    {
     "name": "stdout",
     "output_type": "stream",
     "text": [
      "Index ประโยคภาษาไทย: 348357\n",
      "ประโยค: คุณสามารถใช้สองสิ่งพร้อมกัน*\n",
      "Same index: 348357 Value: 4 Rank: 0\n",
      "Sentence: you can use two thing at once\n",
      "Minimum index: 348357 Value: 4\n",
      "Sentence: you can use two thing at once\n",
      "========================================\n"
     ]
    },
    {
     "name": "stderr",
     "output_type": "stream",
     "text": [
      "\r",
      "686it [25:22,  1.59s/it]"
     ]
    },
    {
     "name": "stdout",
     "output_type": "stream",
     "text": [
      "Index ประโยคภาษาไทย: 887720\n",
      "ประโยค: ลังฝาคู่พับได้341ลิตรน้ำเงินแอสคูล7940212******\n",
      "Same index: 887720 Value: 8 Rank: 12\n",
      "Sentence: folding container askul 7940212 7940212 * *\n",
      "Minimum index: 806362 Value: 6\n",
      "Sentence: anna boden and ryan fleck are the director *\n",
      "========================================\n"
     ]
    },
    {
     "name": "stderr",
     "output_type": "stream",
     "text": [
      "\r",
      "687it [25:23,  1.46s/it]"
     ]
    },
    {
     "name": "stdout",
     "output_type": "stream",
     "text": [
      "Index ประโยคภาษาไทย: 584863\n",
      "ประโยค: เป็นวิธีที่ดีในการทำให้คุณนึกถึงความคิดเห็นทางการเมืองของคุณ*\n",
      "Same index: 584863 Value: 12 Rank: 10\n",
      "Sentence: an excellent way to get you thinking about your political opinion * * *\n",
      "Minimum index: 768561 Value: 11\n",
      "Sentence: alright sound good i 'll get right on it * * * * *\n",
      "========================================\n"
     ]
    },
    {
     "name": "stderr",
     "output_type": "stream",
     "text": [
      "\r",
      "688it [25:25,  1.58s/it]"
     ]
    },
    {
     "name": "stdout",
     "output_type": "stream",
     "text": [
      "Index ประโยคภาษาไทย: 364548\n",
      "ประโยค: StarbucksFrenchRoastมีรสชาติที่ดีแต่เช่นเคยต้องให้เราทํามากกว่าหนึ่งถ้วยเมื่อเราดื่ม**\n",
      "Same index: 364548 Value: 16 Rank: 0\n",
      "Sentence: starbucks french roast ha great flavor but a always requires u to make more than one cup when we drink * * *\n",
      "Minimum index: 364548 Value: 16\n",
      "Sentence: starbucks french roast ha great flavor but a always requires u to make more than one cup when we drink * * *\n",
      "========================================\n"
     ]
    },
    {
     "name": "stderr",
     "output_type": "stream",
     "text": [
      "\r",
      "689it [25:25,  1.31s/it]"
     ]
    },
    {
     "name": "stdout",
     "output_type": "stream",
     "text": [
      "Index ประโยคภาษาไทย: 755757\n",
      "ประโยค: ค่ะเวลาและรายละเอียดเหมือนเดิมนะ*\n",
      "Same index: 755757 Value: 6 Rank: 1\n",
      "Sentence: sure same time and such also *\n",
      "Minimum index: 537933 Value: 5\n",
      "Sentence: yay north point lle lle * *\n",
      "========================================\n"
     ]
    },
    {
     "name": "stderr",
     "output_type": "stream",
     "text": [
      "\r",
      "690it [25:26,  1.11s/it]"
     ]
    },
    {
     "name": "stdout",
     "output_type": "stream",
     "text": [
      "Index ประโยคภาษาไทย: 697676\n",
      "ประโยค: อยากใส่น้ำแข็งด้วยมั้ย**\n",
      "Same index: 697676 Value: 7 Rank: 207\n",
      "Sentence: do you want to try that on ice * * * * * *\n",
      "Minimum index: 303882 Value: 4\n",
      "Sentence: it charge fairly quickly * * *\n",
      "========================================\n"
     ]
    },
    {
     "name": "stderr",
     "output_type": "stream",
     "text": [
      "\r",
      "691it [25:27,  1.04it/s]"
     ]
    },
    {
     "name": "stdout",
     "output_type": "stream",
     "text": [
      "Index ประโยคภาษาไทย: 876036\n",
      "ประโยค: น้ำยาซักผ้า3500มล พิงค์วิคตอเรีย ไดวา***\n",
      "Same index: 876036 Value: 4 Rank: 2\n",
      "Sentence: daiwa liquid detergen 3500ml pink victoria victoria * * *\n",
      "Minimum index: 798970 Value: 3\n",
      "Sentence: thank you caroline * * * *\n",
      "========================================\n"
     ]
    },
    {
     "name": "stderr",
     "output_type": "stream",
     "text": [
      "\r",
      "692it [25:28,  1.24s/it]"
     ]
    },
    {
     "name": "stdout",
     "output_type": "stream",
     "text": [
      "Index ประโยคภาษาไทย: 217643\n",
      "ประโยค: และเขาก็ไม่ควรที่จะใช้มันบนใบหน้าของเขาซึ่งจะอันตรายเกินไป*****\n",
      "Same index: 217643 Value: 15 Rank: 4\n",
      "Sentence: and he is n't supposed to use it on his face which would be too dangerous * * * * *\n",
      "Minimum index: 522892 Value: 14\n",
      "Sentence: m not sure too * * *\n",
      "========================================\n"
     ]
    },
    {
     "name": "stderr",
     "output_type": "stream",
     "text": [
      "\r",
      "693it [25:30,  1.24s/it]"
     ]
    },
    {
     "name": "stdout",
     "output_type": "stream",
     "text": [
      "Index ประโยคภาษาไทย: 243098\n",
      "ประโยค: ผลิตภัณฑ์นี้ไม่มีคำแนะนำในการเปิดแต่อธิบายได้ด้วยตัวเอง**\n",
      "Same index: 243098 Value: 13 Rank: 433\n",
      "Sentence: this product doe not come with instruction on how to open it but it pretty self explanatory * * * *\n",
      "Minimum index: 437584 Value: 10\n",
      "Sentence: fit well and hold up well *\n",
      "========================================\n"
     ]
    },
    {
     "name": "stderr",
     "output_type": "stream",
     "text": [
      "\r",
      "694it [25:31,  1.25s/it]"
     ]
    },
    {
     "name": "stdout",
     "output_type": "stream",
     "text": [
      "Index ประโยคภาษาไทย: 742130\n",
      "ประโยค: อืมเอาเป็นพิซซ่าถาดกลางถาดนึงใส่ผักโขมแล้วก็***\n",
      "Same index: 742130 Value: 12 Rank: 421\n",
      "Sentence: well we 'd love to have three medium pizza one with spinach and *\n",
      "Minimum index: 180670 Value: 9\n",
      "Sentence: i got exactly what i expected *\n",
      "========================================\n"
     ]
    },
    {
     "name": "stderr",
     "output_type": "stream",
     "text": [
      "\r",
      "695it [25:32,  1.26s/it]"
     ]
    },
    {
     "name": "stdout",
     "output_type": "stream",
     "text": [
      "Index ประโยคภาษาไทย: 448143\n",
      "ประโยค: มันใช้งานได้ดีกับXPหรือVistaอย่างที่ฉันคาดไว้**\n",
      "Same index: 448143 Value: 13 Rank: 456\n",
      "Sentence: this work just a well on xp or vista a i expected it to\n",
      "Minimum index: 55383 Value: 11\n",
      "Sentence: so i decided on this thing to give it a shot * * *\n",
      "========================================\n"
     ]
    },
    {
     "name": "stderr",
     "output_type": "stream",
     "text": [
      "\r",
      "696it [25:33,  1.06s/it]"
     ]
    },
    {
     "name": "stdout",
     "output_type": "stream",
     "text": [
      "Index ประโยคภาษาไทย: 561543\n",
      "ประโยค: ยิ้มเสมอ*****\n",
      "Same index: 561543 Value: 2 Rank: 0\n",
      "Sentence: smile always always * * * *\n",
      "Minimum index: 731192 Value: 2\n",
      "Sentence: okay good * * * * *\n",
      "========================================\n"
     ]
    },
    {
     "name": "stderr",
     "output_type": "stream",
     "text": [
      "\r",
      "697it [25:44,  3.97s/it]"
     ]
    },
    {
     "name": "stdout",
     "output_type": "stream",
     "text": [
      "Index ประโยคภาษาไทย: 900237\n",
      "ประโยค: ฟิล์มกันรอยInvisibleShieldรุ่นGlassVisionguardเป็นฟิล์มกันรอยคุณภาพสูงที่มาพร้อมเทคโนโลยีการผลิตที่ทันสมัยเหมาะสำหรับiPadช่วยปกป้องหน้าจอของคุณได้อย่างมั่นใจลดความเสี่ยงจากการแตกร้าวของหน้าจอในเหตุการณ์ที่ไม่คาดคิดผ่านการเคลือบด้วยเทคโนโลยีพิเศษทำให้สัมผัสหน้าจอได้ลื่นไหลคงความคมชัดและสดใสของหน้าจอเหมือนต้นฉบับเนื้อฟิล์มติดตั้งง่ายและเรียบสนิทไปกับหน้าจอประเภทสินค้าGlass Film วัสดุGlass Film สำหรับi Pad การรับประกันปีLimited Timeช้อปสินค้าคุณภาพจากที่คุณไว้วางใจด้วยราคาที่คุณชื่นชอบสินค้าได้รับการออกให้ได้มาตรฐานมีความทนทานคุ้มค่าต่อการใช้งานคุณสามารถเลือกซื้อสินค้าได้ตามไลฟ์สไตล์ที่คุณชื่นชอบและเหมาะสมกับการใช้งานที่หลากหลายตามความต้องการในราคาโดนใจได้ที่Powerbuy*****\n",
      "Same index: 900237 Value: 199 Rank: 995\n",
      "Sentence: invisible shield glass+ visionguard protective eyesafe® layer the eyesafe® technology in vision guard protects your eye from blue light which can contribute to digital eye strain by blocking harmful wavelength of light before they leave your screen vision guard is an easy choice for those who care about eye health industry-leading impact screen protection glass+ vision guard is chemically strengthened at the molecular level to preserve that glass-like feel of your screen it proprietary ion matrix™ technology provides the ultimate defense against drop ding and scratch advanced clarity glass+ vision guard is designed to work flawlessly with the enhanced optic of your device s screen it 100 clarity rating mean high-definition screen protection that s so clear you won t even know it s there preserve the true color of your screen glass+ vision guard protects your eye from harmful blue light while maintaining the superior color performance of your device display instead of removing blue entirely and distorting your screen color like some eye health solution vision guard ha been expertly engineered to maintain the brilliant look of your screen product type glass film material glass film for i pad warranty year limited time shop for the best quality product from your trust with your favorite price the product ha been certified to be durable and you can shop for your favorite lifestyle at powerbuy * * * * *\n",
      "Minimum index: 673955 Value: 103\n",
      "Sentence: will you be taking the car personally personally * * * * * *\n",
      "========================================\n"
     ]
    },
    {
     "name": "stderr",
     "output_type": "stream",
     "text": [
      "\r",
      "698it [25:46,  3.49s/it]"
     ]
    },
    {
     "name": "stdout",
     "output_type": "stream",
     "text": [
      "Index ประโยคภาษาไทย: 105215\n",
      "ประโยค: นี่ไม่ใช่ปัญหาเท่าไหร่เพราะบางครั้งที่คุณเปิดและปิดมันเป็นเวลา4หรือ5ครั้งหรือมากกว่านั้นมันอาจจะไม่จำเป็น***\n",
      "Same index: 105215 Value: 20 Rank: 0\n",
      "Sentence: this is n't much of an issue because by time you 've opened closed it 4 or 5 time or more it probably not needed * * *\n",
      "Minimum index: 105215 Value: 20\n",
      "Sentence: this is n't much of an issue because by time you 've opened closed it 4 or 5 time or more it probably not needed * * *\n",
      "========================================\n"
     ]
    },
    {
     "name": "stderr",
     "output_type": "stream",
     "text": [
      "\r",
      "699it [25:47,  2.64s/it]"
     ]
    },
    {
     "name": "stdout",
     "output_type": "stream",
     "text": [
      "Index ประโยคภาษาไทย: 101838\n",
      "ประโยค: ต้องใช้หลายๆอันพร้อมกัน*\n",
      "Same index: 101838 Value: 6 Rank: 6\n",
      "Sentence: you have to use several at one time * * * * * *\n",
      "Minimum index: 186745 Value: 5\n",
      "Sentence: do not buy this * * *\n",
      "========================================\n"
     ]
    },
    {
     "name": "stderr",
     "output_type": "stream",
     "text": [
      "\r",
      "700it [25:47,  2.04s/it]"
     ]
    },
    {
     "name": "stdout",
     "output_type": "stream",
     "text": [
      "Index ประโยคภาษาไทย: 552496\n",
      "ประโยค: หัวเราะเคเค พี่ชายพิงก์กี้*****\n",
      "Same index: 552496 Value: 5 Rank: 96\n",
      "Sentence: lols kk pinky bro bro * *\n",
      "Minimum index: 747737 Value: 1\n",
      "Sentence: sylvia brown * * * * * *\n",
      "========================================\n"
     ]
    },
    {
     "name": "stderr",
     "output_type": "stream",
     "text": [
      "\r",
      "701it [25:56,  4.12s/it]"
     ]
    },
    {
     "name": "stdout",
     "output_type": "stream",
     "text": [
      "Index ประโยคภาษาไทย: 30239\n",
      "ประโยค: ด้านผู้ประกอบการได้รับผลกระทบจากเหตุการณ์น้ําท่วมส่งผลให้การก่อสร้างชะลอตัวสะท้อนจากปริมาณที่อยู่อาศัยสร้างเสร็จจดทะเบียนในเขตกรุงเทพฯและปริมณฑลซึ่งลดลงร้อยละ 629ในไตรมาสนี้สาขาโรงแรมและภัตตาคารหดตัวร้อยละ 53จากที่ขยายตัวร้อยละ 102ในไตรมาสที่ผ่านมาเนื่องจากเหตุการณ์น้ําท่วมส่งผลให้มีนักท่องเที่ยวต่างชาติเดินทางเข้ามาประเทศไทยจํานวน44ล้านคนลดลงจากช่วงเดียวกันของปีก่อนร้อยละ 44ขณะที่อัตราการเข้าพักเฉลี่ยอยู่ที่ร้อยละ 557สูงกว่าช่วงเดียวกันของปีก่อนที่ร้อยละ 543ส่วนหนึ่งเพิ่มขึ้นจากการที่ผู้ประสบภัยน้ําท่วมเข้าพักตามโรงแรมต่างๆเป็นการชั่วคราวทั้งปี2554สาขาโรงแรมและภัตตาคารขยายตัวร้อยละ 74\n",
      "Same index: 30239 Value: 103 Rank: 308\n",
      "Sentence: the flooding crisis ha severely affected the construction in the real estate sector a reflected in the newly completed and registered housing in bangkok and vicinity declined by 62.9 percent hotel and restaurant in the fourth quarter contracted by 5.3 percent compared to the 10.2 percent growth in the previous quarter a a result of the 2011 flood the inbound tourist in this quarter recorded at 4.4 million person declined by 4.4 percent while the occupancy rate registered at 55.7 percent compared to 54.3 percent in the previous quarter * * * *\n",
      "Minimum index: 93194 Value: 98\n",
      "Sentence: he also had to take of all but one thing from what he made until lunch time before handing it back\n",
      "========================================\n"
     ]
    },
    {
     "name": "stderr",
     "output_type": "stream",
     "text": [
      "\r",
      "702it [25:58,  3.25s/it]"
     ]
    },
    {
     "name": "stdout",
     "output_type": "stream",
     "text": [
      "Index ประโยคภาษาไทย: 102498\n",
      "ประโยค: ดีมากจริงๆและสามารถคุมอุณหภูมิความร้อนพวกนั้นได้ด้วยค่ะ**\n",
      "Same index: 102498 Value: 14 Rank: 496\n",
      "Sentence: it is really good and it allows me to control the temperature heat etc\n",
      "Minimum index: 727067 Value: 11\n",
      "Sentence: great is there anything else i can get you tonight * * * *\n",
      "========================================\n"
     ]
    },
    {
     "name": "stderr",
     "output_type": "stream",
     "text": [
      "\r",
      "703it [26:00,  3.03s/it]"
     ]
    },
    {
     "name": "stdout",
     "output_type": "stream",
     "text": [
      "Index ประโยคภาษาไทย: 194200\n",
      "ประโยค: ฉันยังไม่เจอหูฟังไร้สายที่มีระยะสัญญาณที่ฉันต้องการมาก่อนจนมาเจอกันนี้ที่ใข้งานได้ดี*****\n",
      "Same index: 194200 Value: 23 Rank: 181\n",
      "Sentence: i have yet to find a wireless headset that really delivers the kind of range i need and this one fit well * * * * * *\n",
      "Minimum index: 113141 Value: 20\n",
      "Sentence: i saw the original movie when it first came out * * * *\n",
      "========================================\n"
     ]
    },
    {
     "name": "stderr",
     "output_type": "stream",
     "text": [
      "\r",
      "704it [26:01,  2.49s/it]"
     ]
    },
    {
     "name": "stdout",
     "output_type": "stream",
     "text": [
      "Index ประโยคภาษาไทย: 424362\n",
      "ประโยค: นอกจากนี้ช่วงบนเครือข่ายไร้สายแม้น้อยกว่า100ฟุตไม่เคยมีปัญหา***\n",
      "Same index: 424362 Value: 13 Rank: 438\n",
      "Sentence: also the range on wireless though le than 100ft ha never been an issue\n",
      "Minimum index: 114803 Value: 10\n",
      "Sentence: work very well and doe not cause breakout * * * * * *\n",
      "========================================\n"
     ]
    },
    {
     "name": "stderr",
     "output_type": "stream",
     "text": [
      "\r",
      "705it [26:02,  1.93s/it]"
     ]
    },
    {
     "name": "stdout",
     "output_type": "stream",
     "text": [
      "Index ประโยคภาษาไทย: 283967\n",
      "ประโยค: นี่เป็นภาพยนตร์ที่ให้ความบันเทิง*\n",
      "Same index: 283967 Value: 6 Rank: 26\n",
      "Sentence: this wa an entertaining movie * *\n",
      "Minimum index: 364596 Value: 5\n",
      "Sentence: they are no longer working correctly *\n",
      "========================================\n"
     ]
    },
    {
     "name": "stderr",
     "output_type": "stream",
     "text": [
      "\r",
      "706it [26:03,  1.56s/it]"
     ]
    },
    {
     "name": "stdout",
     "output_type": "stream",
     "text": [
      "Index ประโยคภาษาไทย: 798132\n",
      "ประโยค: ดีใจที่ได้คุยนะคะรักษาสุขภาพค่ะ\n",
      "Same index: 798132 Value: 12 Rank: 213\n",
      "Sentence: i 'm glad you came too take care * * * * * *\n",
      "Minimum index: 239809 Value: 6\n",
      "Sentence: i just got it today * *\n",
      "========================================\n"
     ]
    },
    {
     "name": "stderr",
     "output_type": "stream",
     "text": [
      "\r",
      "707it [26:05,  1.84s/it]"
     ]
    },
    {
     "name": "stdout",
     "output_type": "stream",
     "text": [
      "Index ประโยคภาษาไทย: 450348\n",
      "ประโยค: อย่างไรก็ตามเมื่อชุดปัจจุบันของฉันมีกําหนดทดแทนฉันซื้อมีดนี้โดยคิดว่าพวกเขาจะปรับปรุงตามปัญหาต้นเหล่านี้*****\n",
      "Same index: 450348 Value: 23 Rank: 185\n",
      "Sentence: however when my current set is due for replacement i bought this knife thinking they 'd improved upon these early issue\n",
      "Minimum index: 320703 Value: 20\n",
      "Sentence: we are then told thing that make u wonder what happened to jack in the real life * * * *\n",
      "========================================\n"
     ]
    },
    {
     "name": "stderr",
     "output_type": "stream",
     "text": [
      "\r",
      "708it [26:07,  1.81s/it]"
     ]
    },
    {
     "name": "stdout",
     "output_type": "stream",
     "text": [
      "Index ประโยคภาษาไทย: 369231\n",
      "ประโยค: เนื้อครีมมีรสชาติที่เหมาะสมกับการแต่งกลิ่นผลไม้ในปริมาณที่เหมาะสม******\n",
      "Same index: 369231 Value: 13 Rank: 0\n",
      "Sentence: very creamy texture in taste with just right amount of fruit flavoring * *\n",
      "Minimum index: 369231 Value: 13\n",
      "Sentence: very creamy texture in taste with just right amount of fruit flavoring * *\n",
      "========================================\n"
     ]
    },
    {
     "name": "stderr",
     "output_type": "stream",
     "text": [
      "\r",
      "709it [26:07,  1.45s/it]"
     ]
    },
    {
     "name": "stdout",
     "output_type": "stream",
     "text": [
      "Index ประโยคภาษาไทย: 693419\n",
      "ประโยค: โอเคได้เลยบาย***\n",
      "Same index: 693419 Value: 3 Rank: 0\n",
      "Sentence: okay i will bye * * *\n",
      "Minimum index: 786548 Value: 3\n",
      "Sentence: ok enjoy your coffee * * *\n",
      "========================================\n"
     ]
    },
    {
     "name": "stderr",
     "output_type": "stream",
     "text": [
      "\r",
      "710it [26:13,  2.69s/it]"
     ]
    },
    {
     "name": "stdout",
     "output_type": "stream",
     "text": [
      "Index ประโยคภาษาไทย: 621870\n",
      "ประโยค: น่าตื่นเต้นที่สุดที่วิหารมีการยอดธาตุจัดเฉพาะในอันดาลูเซียและก็ที่สร้างขึ้นระหว่างศตวรรษ 16วิหารมีซุ้มที่สร้างในสไตล์เรอเนสซองซ์ที่คนส่วนใหญ่พิจารณาเพื่อความสวยงามมากการเช่ารถยนต์จะเห็นได้ชัดช่วยจุดในทิศทางที่ถูกสำหรับนักท่องเที่ยวของเมืองได้เป็นสถานหนึ่งที่คุณไม่ควรพลาด*\n",
      "Same index: 621870 Value: 61 Rank: 384\n",
      "Sentence: most exciting is that the cathedral ha an elite fortified arrangement unique in andalusia and it wa most probably built during the 16th century the cathedral ha also a facade built in the renaissance style that most people consider to be very beautiful taking car rental will obviously help to point you in the right direction for your tour of the city but this is one location that you should not miss * * * * * *\n",
      "Minimum index: 122906 Value: 54\n",
      "Sentence: they got it * * * *\n",
      "========================================\n"
     ]
    },
    {
     "name": "stderr",
     "output_type": "stream",
     "text": [
      "\r",
      "711it [26:14,  2.09s/it]"
     ]
    },
    {
     "name": "stdout",
     "output_type": "stream",
     "text": [
      "Index ประโยคภาษาไทย: 936421\n",
      "ประโยค: ฉากกั้นห้องครึ่งกระจกขัดลาย Sebel HGF1120150******\n",
      "Same index: 936421 Value: 1 Rank: 0\n",
      "Sentence: sebel hgf1-120150 half frosted glass panel partition * * * * * *\n",
      "Minimum index: 815545 Value: 1\n",
      "Sentence: 6:00 * * * * * *\n",
      "========================================\n"
     ]
    },
    {
     "name": "stderr",
     "output_type": "stream",
     "text": [
      "\r",
      "712it [26:15,  1.84s/it]"
     ]
    },
    {
     "name": "stdout",
     "output_type": "stream",
     "text": [
      "Index ประโยคภาษาไทย: 421533\n",
      "ประโยค: ยอดเยี่ยมซื้อและใช้งานได้อย่างสมบูรณ์แบบสําหรับความต้องการของฉัน**\n",
      "Same index: 421533 Value: 9 Rank: 0\n",
      "Sentence: great buy and work perfectly for my need * * * * * *\n",
      "Minimum index: 421533 Value: 9\n",
      "Sentence: great buy and work perfectly for my need * * * * * *\n",
      "========================================\n"
     ]
    },
    {
     "name": "stderr",
     "output_type": "stream",
     "text": [
      "\r",
      "713it [26:16,  1.66s/it]"
     ]
    },
    {
     "name": "stdout",
     "output_type": "stream",
     "text": [
      "Index ประโยคภาษาไทย: 304488\n",
      "ประโยค: ดูเหมือนว่าทุก ๆหน้ามีคําพูดที่คล้ายกันอย่างน้อยสองคํา*\n",
      "Same index: 304488 Value: 13 Rank: 52\n",
      "Sentence: it seems like every other page had at least two similar quote * *\n",
      "Minimum index: 686750 Value: 11\n",
      "Sentence: your making my mouth water * *\n",
      "========================================\n"
     ]
    },
    {
     "name": "stderr",
     "output_type": "stream",
     "text": [
      "\r",
      "714it [26:19,  2.07s/it]"
     ]
    },
    {
     "name": "stdout",
     "output_type": "stream",
     "text": [
      "Index ประโยคภาษาไทย: 9239\n",
      "ประโยค: เมื่อเห็นการจราจรในเช้าวันจันทร์ที่รถราคลานตามกันไปแบบกันชนต่อกันชนบนถนนสายหลักในเมืองหลวงของฟิลิปปินส์นายรานิโล บาเนซคนขับรถแท็กซี่ก็ส่ายศีรษะอย่างหงุดหงิด***\n",
      "Same index: 9239 Value: 28 Rank: 0\n",
      "Sentence: looking out at bumper-to-bumper monday morning traffic crawling along the philippine capital s main avenue taxi driver ranilo banez shook his head in frustration * * * * *\n",
      "Minimum index: 9239 Value: 28\n",
      "Sentence: looking out at bumper-to-bumper monday morning traffic crawling along the philippine capital s main avenue taxi driver ranilo banez shook his head in frustration * * * * *\n",
      "========================================\n"
     ]
    },
    {
     "name": "stderr",
     "output_type": "stream",
     "text": [
      "\r",
      "715it [26:20,  1.66s/it]"
     ]
    },
    {
     "name": "stdout",
     "output_type": "stream",
     "text": [
      "Index ประโยคภาษาไทย: 400449\n",
      "ประโยค: ยิ่งไปกว่านั้นมันเกิดขึ้นในโรงเรียนประจํา**\n",
      "Same index: 400449 Value: 9 Rank: 278\n",
      "Sentence: even worse it take place in a boarding school * * * * *\n",
      "Minimum index: 249976 Value: 4\n",
      "Sentence: however overall work fine * * *\n",
      "========================================\n"
     ]
    },
    {
     "name": "stderr",
     "output_type": "stream",
     "text": [
      "\r",
      "716it [26:21,  1.53s/it]"
     ]
    },
    {
     "name": "stdout",
     "output_type": "stream",
     "text": [
      "Index ประโยคภาษาไทย: 429048\n",
      "ประโยค: ตัวละครเป็นที่ชื่นชอบและภาพยนตร์ที่ทําให้คุณสนใจพวกเขา****\n",
      "Same index: 429048 Value: 11 Rank: 344\n",
      "Sentence: the character are likable and the movie make you care about them * *\n",
      "Minimum index: 281316 Value: 9\n",
      "Sentence: i enjoyed the movie * * *\n",
      "========================================\n"
     ]
    },
    {
     "name": "stderr",
     "output_type": "stream",
     "text": [
      "\r",
      "717it [26:22,  1.43s/it]"
     ]
    },
    {
     "name": "stdout",
     "output_type": "stream",
     "text": [
      "Index ประโยคภาษาไทย: 729877\n",
      "ประโยค: อยากจะสั่งกาแฟจากสตาร์บัคส์หน่อยค่ะ******\n",
      "Same index: 729877 Value: 7 Rank: 0\n",
      "Sentence: i want to order some coffee from starbucks * * * * * *\n",
      "Minimum index: 661703 Value: 7\n",
      "Sentence: i need to order a pizza *\n",
      "========================================\n"
     ]
    },
    {
     "name": "stderr",
     "output_type": "stream",
     "text": [
      "\r",
      "718it [26:24,  1.37s/it]"
     ]
    },
    {
     "name": "stdout",
     "output_type": "stream",
     "text": [
      "Index ประโยคภาษาไทย: 915832\n",
      "ประโยค: ถังบิดน้ำสำหรับไม้ม็อบถูพื้น36ลิตรBEMANBMU01*\n",
      "Same index: 915832 Value: 12 Rank: 0\n",
      "Sentence: mop bucket 36 liter be-man bmu01 bmu01\n",
      "Minimum index: 569662 Value: 12\n",
      "Sentence: chinese wholesale retro candle sconce with base base * * * * * *\n",
      "========================================\n"
     ]
    },
    {
     "name": "stderr",
     "output_type": "stream",
     "text": [
      "\r",
      "719it [26:29,  2.52s/it]"
     ]
    },
    {
     "name": "stdout",
     "output_type": "stream",
     "text": [
      "Index ประโยคภาษาไทย: 946795\n",
      "ประโยค: เชิงเทียนฐานเหลี่ยมจากCENTRALHOMEใช้สำหรับตกแต่งบ้านของคุณได้อย่างยอดเยี่ยมและเพิ่มความหรูหราสะดุดตาให้กับบ้านของคุณเชิงเทียนแก้วฐานเหลี่ยมรูปทรงโดดเด่นที่ดูสวยแก้วใสสะท้อนเปลวเทียนให้แสงสวยและอบอุ่นผลิตจากวัสดุคุณภาพดีดีไซน์สวยงามONLYCENTRALสีโปร่งแสงความสูง50ซมหมายเหตุสีของผลิตภัณฑ์ที่แสดงบนเว็บไซต์อาจมีความแตกต่างกันจากการตั้งค่าการแสดงผลสีของแต่ละหน้าจอ\n",
      "Same index: 946795 Value: 59 Rank: 12\n",
      "Sentence: the central home circular candle holder is used for decorating your home square shape glass candle holder with outstanding shape that look beautiful clear glass reflecting candle flame give beautiful and warm light made from good quality material beautiful design only central color translucent height 50 cm caution in term of item color it may be slightly different from each monitor display and specification * * * * * *\n",
      "Minimum index: 355904 Value: 56\n",
      "Sentence: make your glass perfectly clear without streaking or getting spotted * * * *\n",
      "========================================\n"
     ]
    },
    {
     "name": "stderr",
     "output_type": "stream",
     "text": [
      "\r",
      "720it [26:30,  2.14s/it]"
     ]
    },
    {
     "name": "stdout",
     "output_type": "stream",
     "text": [
      "Index ประโยคภาษาไทย: 700894\n",
      "ประโยค: โอเคคุณจะสั่งจากร้านที่ใกล้คุณที่สุดไหมคะอยู่ที่ฟลอเรนส์ทาร์เกตค่ะ\n",
      "Same index: 700894 Value: 18 Rank: 582\n",
      "Sentence: ok do you want to order from the starbucks nearest to your location the one located at the florence target *\n",
      "Minimum index: 647866 Value: 12\n",
      "Sentence: okay i will call them again and order it with almond milk * *\n",
      "========================================\n"
     ]
    },
    {
     "name": "stderr",
     "output_type": "stream",
     "text": [
      "\r",
      "721it [26:38,  3.87s/it]"
     ]
    },
    {
     "name": "stdout",
     "output_type": "stream",
     "text": [
      "Index ประโยคภาษาไทย: 621763\n",
      "ประโยค: สิ่งที่น่าดึงดูดใจมากที่สุดคือสามารถสังเกตการใช้ชีวิตของเพนกวินและแมวน้ำจากแท๊งก์น้ำที่เหมือนเป็นสระน้ำในร่มได้ซึ่งเพนกวินกับแมวน้ำขี้เล่นแสนร่าเริงนั้นเป็นที่นิยมในหมู่เด็กๆเป็นอย่างมากแท๊งก์น้ำที่มีแมงกะพรุนส่องแสงก็เป็นอีกไฮไลท์หนึ่งนอกจากจะได้ชื่นชมสัตว์น่ารักและแปลกๆหลายชนิดแล้วก็ยังได้เรียนรู้การเติบโตอย่างรวดเร็วของพวกมันด้วยหากไปตอนกลางคืนสามารถสั่งค็อกเทลจากที่บาร์มาดื่มไปด้วยและเดินรอบๆเพื่อชมการจัดแสดงได้****\n",
      "Same index: 621763 Value: 87 Rank: 74\n",
      "Sentence: the main attraction is the indoor open-pool tank where you can watch penguin and fur seal go about their daily routine child love watching their playful antic the jellyfish tank are another highlight you will see a great variety of these cute critter and learn about how quickly they grow if you are visiting in the evening you can grab a cocktail at the bar to sip a you wander around * * * * * *\n",
      "Minimum index: 191913 Value: 83\n",
      "Sentence: i wish more had been said about how to overcome some of the difficulty that may arise while getting out this process * * * * * *\n",
      "========================================\n"
     ]
    },
    {
     "name": "stderr",
     "output_type": "stream",
     "text": [
      "\r",
      "722it [26:42,  3.96s/it]"
     ]
    },
    {
     "name": "stdout",
     "output_type": "stream",
     "text": [
      "Index ประโยคภาษาไทย: 907340\n",
      "ประโยค: ฟังเพลงเพลิดเพลินไปกับหูฟังพร้อมไมค์จากแบรนด์MINIMONOใช้สำหรับฟังเพลงขนาด35mmONLYCENTRALสีขาวประเภทมีสายหมายเหตุสีของผลิตภัณฑ์ที่แสดงบนเว็บไซต์อาจมีความแตกต่างกันจากการตั้งค่าการแสดงผลสีของแต่ละหน้าจอ****\n",
      "Same index: 907340 Value: 45 Rank: 407\n",
      "Sentence: listen to music and enjoy fullsize headphone by mini mono enjoy your listening experience with quality earphone from minimono3.5 mm plug only central color white type wired caution in term of item color it may be slightly different from each monitor display and specification * * * * *\n",
      "Minimum index: 232030 Value: 40\n",
      "Sentence: we have n't had any problem at all yet so i 'm giving 4 out of 5 star * * *\n",
      "========================================\n"
     ]
    },
    {
     "name": "stderr",
     "output_type": "stream",
     "text": [
      "\r",
      "723it [26:43,  3.15s/it]"
     ]
    },
    {
     "name": "stdout",
     "output_type": "stream",
     "text": [
      "Index ประโยคภาษาไทย: 212097\n",
      "ประโยค: มันทำให้ฉันสงสัยเกี่ยวกับชีวิตของพวกเขาหลังจากหนังสือ****\n",
      "Same index: 212097 Value: 8 Rank: 0\n",
      "Sentence: it left me wondering about their life after the book * * * *\n",
      "Minimum index: 212097 Value: 8\n",
      "Sentence: it left me wondering about their life after the book * * * *\n",
      "========================================\n"
     ]
    },
    {
     "name": "stderr",
     "output_type": "stream",
     "text": [
      "\r",
      "724it [26:44,  2.40s/it]"
     ]
    },
    {
     "name": "stdout",
     "output_type": "stream",
     "text": [
      "Index ประโยคภาษาไทย: 250634\n",
      "ประโยค: อยากจะแนะนำอย่างมาก**\n",
      "Same index: 250634 Value: 5 Rank: 2\n",
      "Sentence: would recommend highly * * * *\n",
      "Minimum index: 44015 Value: 4\n",
      "Sentence: like i said it junk * *\n",
      "========================================\n"
     ]
    },
    {
     "name": "stderr",
     "output_type": "stream",
     "text": [
      "\r",
      "725it [26:45,  2.05s/it]"
     ]
    },
    {
     "name": "stdout",
     "output_type": "stream",
     "text": [
      "Index ประโยคภาษาไทย: 809222\n",
      "ประโยค: เยี่ยมค่ะจองโต๊ะตอนหนึ่งทุ่มเรียบร้อยมีอะไรให้ช่วยอีกมั้ยคะ*\n",
      "Same index: 809222 Value: 13 Rank: 65\n",
      "Sentence: great i 've booked your table at 7pm did you need assistance with anything else * * * * * *\n",
      "Minimum index: 755778 Value: 11\n",
      "Sentence: ok i booked them anything else i can help you with * * *\n",
      "========================================\n"
     ]
    },
    {
     "name": "stderr",
     "output_type": "stream",
     "text": [
      "\r",
      "726it [26:47,  1.82s/it]"
     ]
    },
    {
     "name": "stdout",
     "output_type": "stream",
     "text": [
      "Index ประโยคภาษาไทย: 819410\n",
      "ประโยค: ไม่มีแค่นี้ล่ะขอบคุณมากที่ช่วย******\n",
      "Same index: 819410 Value: 7 Rank: 0\n",
      "Sentence: no that wa it thank you so much for your help * * *\n",
      "Minimum index: 641044 Value: 7\n",
      "Sentence: no tomorrow evening about 7 o'clock *\n",
      "========================================\n"
     ]
    },
    {
     "name": "stderr",
     "output_type": "stream",
     "text": [
      "\r",
      "727it [26:48,  1.62s/it]"
     ]
    },
    {
     "name": "stdout",
     "output_type": "stream",
     "text": [
      "Index ประโยคภาษาไทย: 633329\n",
      "ประโยค: สวัสดีค่ะฉันชื่อแซมมี่ ฮันท์จะโทรมาสั่งพิซซ่าแถวๆแฮร์ริสเบิร์กรัฐเพนซิลเวเนียค่ะ*\n",
      "Same index: 633329 Value: 17 Rank: 643\n",
      "Sentence: hello my name is sammy hunt and i 'm calling to order a pizza in the harrisburg pa. area * *\n",
      "Minimum index: 637636 Value: 10\n",
      "Sentence: okay i 'll call now * *\n",
      "========================================\n"
     ]
    },
    {
     "name": "stderr",
     "output_type": "stream",
     "text": [
      "\r",
      "728it [26:48,  1.34s/it]"
     ]
    },
    {
     "name": "stdout",
     "output_type": "stream",
     "text": [
      "Index ประโยคภาษาไทย: 237255\n",
      "ประโยค: หนังสือเล่มนี้อ่านไม่ดี*\n",
      "Same index: 237255 Value: 6 Rank: 13\n",
      "Sentence: this book wa not a good read\n",
      "Minimum index: 731192 Value: 5\n",
      "Sentence: okay good * * * * *\n",
      "========================================\n"
     ]
    },
    {
     "name": "stderr",
     "output_type": "stream",
     "text": [
      "\r",
      "729it [26:50,  1.50s/it]"
     ]
    },
    {
     "name": "stdout",
     "output_type": "stream",
     "text": [
      "Index ประโยคภาษาไทย: 545657\n",
      "ประโยค: เอ๊โอเคฉันยังไม่ได้บอกเพอร์ซี่เลยอ่ะเพิ่งนึกได้******\n",
      "Same index: 545657 Value: 14 Rank: 5\n",
      "Sentence: eh ok.lol i have n't tell percy yet.just rmb * * * * *\n",
      "Minimum index: 830444 Value: 12\n",
      "Sentence: okay that 's not showing til tomorrow is that okay * * * *\n",
      "========================================\n"
     ]
    },
    {
     "name": "stderr",
     "output_type": "stream",
     "text": [
      "\r",
      "730it [26:52,  1.56s/it]"
     ]
    },
    {
     "name": "stdout",
     "output_type": "stream",
     "text": [
      "Index ประโยคภาษาไทย: 813539\n",
      "ประโยค: ออสโซ่น่าจะมีแต่แฮร์ริสไม่มีค่ะแต่ร้านเสิร์ฟเบียร์กับไวน์นะคะ****\n",
      "Same index: 813539 Value: 16 Rank: 32\n",
      "Sentence: it look like osso ha a full bar and harris doe not however they do serve beer and wine * *\n",
      "Minimum index: 801638 Value: 14\n",
      "Sentence: they have to serve alcohol have a bar * * * * * *\n",
      "========================================\n"
     ]
    },
    {
     "name": "stderr",
     "output_type": "stream",
     "text": [
      "\r",
      "731it [26:53,  1.28s/it]"
     ]
    },
    {
     "name": "stdout",
     "output_type": "stream",
     "text": [
      "Index ประโยคภาษาไทย: 714067\n",
      "ประโยค: เฮ้ไมค์ นี่เดฟนะ******\n",
      "Same index: 714067 Value: 5 Rank: 94\n",
      "Sentence: hey mike it me dave * *\n",
      "Minimum index: 786493 Value: 1\n",
      "Sentence: colonie center * * * * * *\n",
      "========================================\n"
     ]
    },
    {
     "name": "stderr",
     "output_type": "stream",
     "text": [
      "\r",
      "732it [26:54,  1.45s/it]"
     ]
    },
    {
     "name": "stdout",
     "output_type": "stream",
     "text": [
      "Index ประโยคภาษาไทย: 194262\n",
      "ประโยค: ราคาของมันก็คุ้มค่าอยู่ถ้าคุณไม่ได้ต้องการใช้มันบ่อยนะ******\n",
      "Same index: 194262 Value: 16 Rank: 527\n",
      "Sentence: it 's worth the price though a long a you do n't need it terribly frequently * * * * *\n",
      "Minimum index: 503837 Value: 12\n",
      "Sentence: it would be impractical to manually read million of email * * * *\n",
      "========================================\n"
     ]
    },
    {
     "name": "stderr",
     "output_type": "stream",
     "text": [
      "\r",
      "733it [26:56,  1.53s/it]"
     ]
    },
    {
     "name": "stdout",
     "output_type": "stream",
     "text": [
      "Index ประโยคภาษาไทย: 427268\n",
      "ประโยค: คําอธิบายบอกว่าจะใช้สก๊อตช์เทปหรือคล้ายกันแต่เมื่อครอบครัวของเราลองมันก็ติดขัด\n",
      "Same index: 427268 Value: 20 Rank: 3\n",
      "Sentence: the description said to use scotch tape or similar but when our family tried it it jammed * * * *\n",
      "Minimum index: 293437 Value: 19\n",
      "Sentence: more time spent between alex and beth is needed\n",
      "========================================\n"
     ]
    },
    {
     "name": "stderr",
     "output_type": "stream",
     "text": [
      "\r",
      "734it [26:57,  1.40s/it]"
     ]
    },
    {
     "name": "stdout",
     "output_type": "stream",
     "text": [
      "Index ประโยคภาษาไทย: 637102\n",
      "ประโยค: ขอบคุณมากค่ะเจอกันตอนที่ไปถึงนะ******\n",
      "Same index: 637102 Value: 9 Rank: 251\n",
      "Sentence: thanks so much i 'll see you when i get there * * *\n",
      "Minimum index: 69675 Value: 7\n",
      "Sentence: i 'll contact amazon * * *\n",
      "========================================\n"
     ]
    },
    {
     "name": "stderr",
     "output_type": "stream",
     "text": [
      "\r",
      "735it [27:01,  2.06s/it]"
     ]
    },
    {
     "name": "stdout",
     "output_type": "stream",
     "text": [
      "Index ประโยคภาษาไทย: 196340\n",
      "ประโยค: ซึ่งของเหล่านี้ทำไม่ได้เลยของมาแบบแยกเป็น2ชิ้นมีสายข้างนอกที่สอดผ่านสำหรับการประกอบแต่ความสูงห่างกันมากไปเล็กน้อยเพราะมุมที่ตั้งทำให้เพิ่มขึ้นในแนวนอน*****\n",
      "Same index: 196340 Value: 36 Rank: 299\n",
      "Sentence: they come mounted in two piece with an outer tube that you thread through a well for assembly but there is too little height between them because of the angle they sit at to mount horizontally * * * * * *\n",
      "Minimum index: 69464 Value: 30\n",
      "Sentence: for the price..i did not get much use out of this book * *\n",
      "========================================\n"
     ]
    },
    {
     "name": "stderr",
     "output_type": "stream",
     "text": [
      "\r",
      "736it [27:04,  2.27s/it]"
     ]
    },
    {
     "name": "stdout",
     "output_type": "stream",
     "text": [
      "Index ประโยคภาษาไทย: 168239\n",
      "ประโยค: นี่เป็นหนังสือที่แย่ที่สุดเท่าที่ฉันเคยอ่านมาเลยค่ะมีเนื้อหาบางส่วนเกี่ยวกับธรรมชาติของมนุษย์และสังคมศาสตร์ที่น่าสนใจแต่ก็เขียนจากมุมมองทางสังคมวิทยาเท่านั้น****\n",
      "Same index: 168239 Value: 31 Rank: 298\n",
      "Sentence: this is the worst book i 've ever read on any subject.it ha some interesting information about human nature and sociology but it would only have been so from a sociological point of view *\n",
      "Minimum index: 160972 Value: 27\n",
      "Sentence: this is the worst product i have ever bought through amazon * * *\n",
      "========================================\n"
     ]
    },
    {
     "name": "stderr",
     "output_type": "stream",
     "text": [
      "\r",
      "737it [27:04,  1.80s/it]"
     ]
    },
    {
     "name": "stdout",
     "output_type": "stream",
     "text": [
      "Index ประโยคภาษาไทย: 539193\n",
      "ประโยค: ฉันอยู่ที่ชั้นล่างสุด**\n",
      "Same index: 539193 Value: 5 Rank: 6\n",
      "Sentence: am on the lowest level level *\n",
      "Minimum index: 508203 Value: 4\n",
      "Sentence: smoking is prohibited * * * *\n",
      "========================================\n"
     ]
    },
    {
     "name": "stderr",
     "output_type": "stream",
     "text": [
      "\r",
      "738it [27:06,  1.80s/it]"
     ]
    },
    {
     "name": "stdout",
     "output_type": "stream",
     "text": [
      "Index ประโยคภาษาไทย: 594296\n",
      "ประโยค: ยิ่งไปกว่านั้นตอนที่จริงจริงเก่าของคนได้รับการร้องขอสำหรับความลับของพวกเขาพวกเขาทั้งหมดให้ต่างออกเป็นคำตอบ*\n",
      "Same index: 594296 Value: 14 Rank: 0\n",
      "Sentence: furthermore when really really old people are asked for their secret they all give a different answer * * * *\n",
      "Minimum index: 594296 Value: 14\n",
      "Sentence: furthermore when really really old people are asked for their secret they all give a different answer * * * *\n",
      "========================================\n"
     ]
    },
    {
     "name": "stderr",
     "output_type": "stream",
     "text": [
      "\r",
      "739it [27:08,  1.80s/it]"
     ]
    },
    {
     "name": "stdout",
     "output_type": "stream",
     "text": [
      "Index ประโยคภาษาไทย: 240572\n",
      "ประโยค: ไมโครโฟนของหูฟังเหล่านี้ดูเหมือนจะสมบูรณ์แบบสำหรับการโทรด้วยSkypeหรือการแชทด้วยเสียง****\n",
      "Same index: 240572 Value: 17 Rank: 15\n",
      "Sentence: the mic on these headphone seems like it 'd be perfect for skype call or voice chat * * * *\n",
      "Minimum index: 258239 Value: 16\n",
      "Sentence: the vent are perfect with no obstruction to airflow * * * * *\n",
      "========================================\n"
     ]
    },
    {
     "name": "stderr",
     "output_type": "stream",
     "text": [
      "\r",
      "740it [27:09,  1.61s/it]"
     ]
    },
    {
     "name": "stdout",
     "output_type": "stream",
     "text": [
      "Index ประโยคภาษาไทย: 222397\n",
      "ประโยค: ฉันซื้อสิ่งเหล่านี้เพื่อแทนที่หูฟังKossที่ชำรุด****\n",
      "Same index: 222397 Value: 11 Rank: 353\n",
      "Sentence: i bought these to replace a pair of kos earphone that had broken *\n",
      "Minimum index: 383024 Value: 9\n",
      "Sentence: i purchased four of these to replace existing hepa filter * * * *\n",
      "========================================\n"
     ]
    },
    {
     "name": "stderr",
     "output_type": "stream",
     "text": [
      "\r",
      "741it [27:10,  1.47s/it]"
     ]
    },
    {
     "name": "stdout",
     "output_type": "stream",
     "text": [
      "Index ประโยคภาษาไทย: 201981\n",
      "ประโยค: เรามีความสุขกับเครื่องเล่นดีวีดีใหม่ของเรา******\n",
      "Same index: 201981 Value: 7 Rank: 0\n",
      "Sentence: we are happy with our new dvd player * * * * * *\n",
      "Minimum index: 201981 Value: 7\n",
      "Sentence: we are happy with our new dvd player * * * * * *\n",
      "========================================\n"
     ]
    },
    {
     "name": "stderr",
     "output_type": "stream",
     "text": [
      "\r",
      "742it [27:11,  1.39s/it]"
     ]
    },
    {
     "name": "stdout",
     "output_type": "stream",
     "text": [
      "Index ประโยคภาษาไทย: 193830\n",
      "ประโยค: เคสมันจะติดและไม่ค่อยง่ายเท่าไรที่จะให้เด็กเล็กๆใช้*\n",
      "Same index: 193830 Value: 10 Rank: 0\n",
      "Sentence: cover get stuck and not easy enough for little one to do * *\n",
      "Minimum index: 193830 Value: 10\n",
      "Sentence: cover get stuck and not easy enough for little one to do * *\n",
      "========================================\n"
     ]
    },
    {
     "name": "stderr",
     "output_type": "stream",
     "text": [
      "\r",
      "743it [27:12,  1.19s/it]"
     ]
    },
    {
     "name": "stdout",
     "output_type": "stream",
     "text": [
      "Index ประโยคภาษาไทย: 302152\n",
      "ประโยค: เขาชอบที่จะอยู่ข้างในเช่นกัน*\n",
      "Same index: 302152 Value: 3 Rank: 0\n",
      "Sentence: he loved being inside now too *\n",
      "Minimum index: 302152 Value: 3\n",
      "Sentence: he loved being inside now too *\n",
      "========================================\n"
     ]
    },
    {
     "name": "stderr",
     "output_type": "stream",
     "text": [
      "\r",
      "744it [27:13,  1.02s/it]"
     ]
    },
    {
     "name": "stdout",
     "output_type": "stream",
     "text": [
      "Index ประโยคภาษาไทย: 679760\n",
      "ประโยค: โอเคค่ะรับอะไรดีคะ*\n",
      "Same index: 679760 Value: 5 Rank: 2\n",
      "Sentence: okay what is your order * *\n",
      "Minimum index: 829690 Value: 4\n",
      "Sentence: ok they have showins at 7:25 and 10:25 tonight *\n",
      "========================================\n"
     ]
    },
    {
     "name": "stderr",
     "output_type": "stream",
     "text": [
      "\r",
      "745it [27:15,  1.41s/it]"
     ]
    },
    {
     "name": "stdout",
     "output_type": "stream",
     "text": [
      "Index ประโยคภาษาไทย: 675670\n",
      "ประโยค: สาขาใกล้ๆธนาคารอาหารชุมชนน่ะที่นั่นกำลังมีกิจกรรมเลยอยากจะบริจาคพิซซ่าเป็นมื้อเที่ยงให้คนงานที่นั่น******\n",
      "Same index: 675670 Value: 21 Rank: 45\n",
      "Sentence: that one near the food bank their having a special event so i 'm going to donate some pizza for the worker 's lunch * * * *\n",
      "Minimum index: 227332 Value: 20\n",
      "Sentence: so i guess i should have done more research * * * * *\n",
      "========================================\n"
     ]
    },
    {
     "name": "stderr",
     "output_type": "stream",
     "text": [
      "\r",
      "746it [27:17,  1.53s/it]"
     ]
    },
    {
     "name": "stdout",
     "output_type": "stream",
     "text": [
      "Index ประโยคภาษาไทย: 409542\n",
      "ประโยค: ประวัติย่อที่ไม่มีรูปภาพหรือภาพวาดมีข้อมูลน้อยมากเกี่ยวกับสิ่งอื่นนอกจากนี่สิ่งนั้น***\n",
      "Same index: 409542 Value: 17 Rank: 50\n",
      "Sentence: a short history without any picture or drawing very little information on anything other than thisthat * * * * *\n",
      "Minimum index: 204820 Value: 16\n",
      "Sentence: they made me feel like something had just changed * * * * *\n",
      "========================================\n"
     ]
    },
    {
     "name": "stderr",
     "output_type": "stream",
     "text": [
      "\r",
      "747it [27:18,  1.27s/it]"
     ]
    },
    {
     "name": "stdout",
     "output_type": "stream",
     "text": [
      "Index ประโยคภาษาไทย: 399923\n",
      "ประโยค: ราคาที่ดีสําหรับน้ํามันหอมระเหยขนาดใหญ่1ขวด****\n",
      "Same index: 399923 Value: 9 Rank: 293\n",
      "Sentence: a great price for a large bottle of essential oil * * * *\n",
      "Minimum index: 784160 Value: 2\n",
      "Sentence: one ticket * * * * *\n",
      "========================================\n"
     ]
    },
    {
     "name": "stderr",
     "output_type": "stream",
     "text": [
      "\r",
      "748it [27:19,  1.30s/it]"
     ]
    },
    {
     "name": "stdout",
     "output_type": "stream",
     "text": [
      "Index ประโยคภาษาไทย: 445431\n",
      "ประโยค: เราซื้อบางอย่างสําหรับงานวันเกิดอายุ4 สัปดาห์ด้วย****\n",
      "Same index: 445431 Value: 10 Rank: 22\n",
      "Sentence: we also purchased some for our 4 week old birthday party * * *\n",
      "Minimum index: 325665 Value: 9\n",
      "Sentence: bought these to use on plastic model airplane * * * * * *\n",
      "========================================\n"
     ]
    },
    {
     "name": "stderr",
     "output_type": "stream",
     "text": [
      "\r",
      "749it [27:21,  1.66s/it]"
     ]
    },
    {
     "name": "stdout",
     "output_type": "stream",
     "text": [
      "Index ประโยคภาษาไทย: 409331\n",
      "ประโยค: เหตุผลสําหรับ2ดาวแทนที่จะเป็น1ก็เพราะมีเนื้อเรื่องที่แตกต่างกัน3เรื่องเกิดขึ้นเพื่อที่จะอยู่ด้วยกันและรักษาความสนใจ****\n",
      "Same index: 409331 Value: 19 Rank: 0\n",
      "Sentence: the reason for 2 star instead of 1 is because there were 3 different story line going on that managed to stay together and keep interest * *\n",
      "Minimum index: 409331 Value: 19\n",
      "Sentence: the reason for 2 star instead of 1 is because there were 3 different story line going on that managed to stay together and keep interest * *\n",
      "========================================\n"
     ]
    },
    {
     "name": "stderr",
     "output_type": "stream",
     "text": [
      "\r",
      "750it [27:22,  1.37s/it]"
     ]
    },
    {
     "name": "stdout",
     "output_type": "stream",
     "text": [
      "Index ประโยคภาษาไทย: 625230\n",
      "ประโยค: ดูรอบกี่โมงดีคะ*\n",
      "Same index: 625230 Value: 9 Rank: 315\n",
      "Sentence: and when would you like to see the movie * * * * *\n",
      "Minimum index: 649333 Value: 5\n",
      "Sentence: yeah sure sound good good * *\n",
      "========================================\n"
     ]
    },
    {
     "name": "stderr",
     "output_type": "stream",
     "text": [
      "\r",
      "751it [27:24,  1.49s/it]"
     ]
    },
    {
     "name": "stdout",
     "output_type": "stream",
     "text": [
      "Index ประโยคภาษาไทย: 371517\n",
      "ประโยค: บวกหลังจากพยายามถอดด้านหลังซึ่งบอบบางมากอีกครั้งที่โทรศัพท์ของฉันหักออกเป็นสองส่วน****\n",
      "Same index: 371517 Value: 16 Rank: 5\n",
      "Sentence: plus after trying to take off the back which is very flimsy once more my phone snapped in two * *\n",
      "Minimum index: 508027 Value: 15\n",
      "Sentence: do you think you could get me one * * * * * *\n",
      "========================================\n"
     ]
    },
    {
     "name": "stderr",
     "output_type": "stream",
     "text": [
      "\r",
      "752it [27:26,  1.56s/it]"
     ]
    },
    {
     "name": "stdout",
     "output_type": "stream",
     "text": [
      "Index ประโยคภาษาไทย: 188695\n",
      "ประโยค: ซื้อโตชิบาไทรฟ์มาใหม่แล้วก็ตื่นเต้นมากที่ซื้อเคสป้องกันจากCaseology******\n",
      "Same index: 188695 Value: 14 Rank: 8\n",
      "Sentence: i bought a new toshiba thrive and wa so excited to purchase this protective case from caseology * * * * *\n",
      "Minimum index: 403732 Value: 13\n",
      "Sentence: bought another nikon work flawlessly * *\n",
      "========================================\n"
     ]
    },
    {
     "name": "stderr",
     "output_type": "stream",
     "text": [
      "\r",
      "753it [27:32,  2.94s/it]"
     ]
    },
    {
     "name": "stdout",
     "output_type": "stream",
     "text": [
      "Index ประโยคภาษาไทย: 892933\n",
      "ประโยค: ซองพลาสติก PVC ใสเนื้อหนาพิเศษเหนียวทนต่อการขูดขีดกันน้ำได้ซิปพลาสติกรูดเปิดปิดจากด้านบนหยิบใช้งานได้คล่องมือแถบขยายด้านข้างจัดเก็บเอกสารได้เพิ่มมากยิ่งขึ้นป้องกันเอกสารหรือสิ่งของอื่นๆร่วงหล่นหรือสูญหายใช้เก็บเอกสารอุปกรณ์สำนักงานหรือของใช้เบ็ดเตล็ดอื่นๆเหมาะสำหรับใส่เอกสารขนาดB5ขนาดสินค้ากว้างxยาว29x305 ซมจำนวน1ใบหมายเหตุการสั่งซื้อกรณีซื*\n",
      "Same index: 892933 Value: 66 Rank: 176\n",
      "Sentence: good quality pvc finish for water and scratch resistance expandable envelope for added storage easy to open and close with durable plastic zipper closure suitable for b5 document collection product size width x length 29 x 30.5 cm number of item 1 envelope purchase order remark purchase 1 pack amount 12 envelope pack pack * *\n",
      "Minimum index: 960239 Value: 62\n",
      "Sentence: vertical acrylic stand single page use for inserting the general message robust and durable ideal for a4 document colour clear product size width x length 21 x 29.7 inch number of item 1 pc *\n",
      "========================================\n"
     ]
    },
    {
     "name": "stderr",
     "output_type": "stream",
     "text": [
      "\r",
      "754it [27:33,  2.43s/it]"
     ]
    },
    {
     "name": "stdout",
     "output_type": "stream",
     "text": [
      "Index ประโยคภาษาไทย: 477087\n",
      "ประโยค: พวกเธอไม่ได้เป็นคนที่ขาล้าอ่อนแรงพวกเดียวนะ*\n",
      "Same index: 477087 Value: 12 Rank: 22\n",
      "Sentence: you 're not one of the weak-legged one you ai n't * * *\n",
      "Minimum index: 55323 Value: 11\n",
      "Sentence: the two thing make for an interesting reading * * * * * *\n",
      "========================================\n"
     ]
    },
    {
     "name": "stderr",
     "output_type": "stream",
     "text": [
      "\r",
      "755it [27:35,  2.26s/it]"
     ]
    },
    {
     "name": "stdout",
     "output_type": "stream",
     "text": [
      "Index ประโยคภาษาไทย: 60788\n",
      "ประโยค: ฉันซื้อสิ่งนี้เพราะว่าได้ข้อเสนอดีแต่มันไม่แม้แต่จะมีซัมซุงกาแล็กซี่แท็ป2 10ของฉันเลย*\n",
      "Same index: 60788 Value: 20 Rank: 213\n",
      "Sentence: i bought this because of a good deal but it did not even come close to fitting my samsung galaxy tab 2 10 * * * * * *\n",
      "Minimum index: 817341 Value: 17\n",
      "Sentence: got it what size * * *\n",
      "========================================\n"
     ]
    },
    {
     "name": "stderr",
     "output_type": "stream",
     "text": [
      "\r",
      "756it [27:36,  1.79s/it]"
     ]
    },
    {
     "name": "stdout",
     "output_type": "stream",
     "text": [
      "Index ประโยคภาษาไทย: 521375\n",
      "ประโยค: ฟูจิสึ เอส ซีรีย์ ไลฟ์บุ๊คดีไหม******\n",
      "Same index: 521375 Value: 6 Rank: 112\n",
      "Sentence: is fujitsu s series lifebook good *\n",
      "Minimum index: 931944 Value: 1\n",
      "Sentence: respiratory protection blue 3 m 6501 ql * * * * * *\n",
      "========================================\n"
     ]
    },
    {
     "name": "stderr",
     "output_type": "stream",
     "text": [
      "\r",
      "757it [27:37,  1.64s/it]"
     ]
    },
    {
     "name": "stdout",
     "output_type": "stream",
     "text": [
      "Index ประโยคภาษาไทย: 656805\n",
      "ประโยค: พวกเราต้องรีบไปงั้นเอาเป็นแบบนั้นก็ได้ค่ะ***\n",
      "Same index: 656805 Value: 12 Rank: 427\n",
      "Sentence: we want to be there soon so we 'll take that option * *\n",
      "Minimum index: 76845 Value: 8\n",
      "Sentence: it make for great comedy * *\n",
      "========================================\n"
     ]
    },
    {
     "name": "stderr",
     "output_type": "stream",
     "text": [
      "\r",
      "758it [27:38,  1.52s/it]"
     ]
    },
    {
     "name": "stdout",
     "output_type": "stream",
     "text": [
      "Index ประโยคภาษาไทย: 500112\n",
      "ประโยค: และฉันหวังว่าฉันจะไม่มีวันเจอแบบนั้น**\n",
      "Same index: 500112 Value: 11 Rank: 2\n",
      "Sentence: and i wish i 'd never met one * * * * * *\n",
      "Minimum index: 487498 Value: 10\n",
      "Sentence: but you should have seen her *\n",
      "========================================\n"
     ]
    },
    {
     "name": "stderr",
     "output_type": "stream",
     "text": [
      "\r",
      "759it [27:39,  1.44s/it]"
     ]
    },
    {
     "name": "stdout",
     "output_type": "stream",
     "text": [
      "Index ประโยคภาษาไทย: 803433\n",
      "ประโยค: ค่ะทั้งสองร้านมีลิสต์เครื่องดื่มไวน์ค่ะ******\n",
      "Same index: 803433 Value: 6 Rank: 0\n",
      "Sentence: yes both have wine list * *\n",
      "Minimum index: 803433 Value: 6\n",
      "Sentence: yes both have wine list * *\n",
      "========================================\n"
     ]
    },
    {
     "name": "stderr",
     "output_type": "stream",
     "text": [
      "\r",
      "760it [27:41,  1.55s/it]"
     ]
    },
    {
     "name": "stdout",
     "output_type": "stream",
     "text": [
      "Index ประโยคภาษาไทย: 100342\n",
      "ประโยค: อ่านจบได้ค่อนข้างเร็วแต่น่าจะไม่ใช่การใช้เวลาช่วงบ่ายที่ดีที่สุด******\n",
      "Same index: 100342 Value: 14 Rank: 7\n",
      "Sentence: it wa a pretty fast read but not the best way to spend an afternoon i guess * * * *\n",
      "Minimum index: 143251 Value: 12\n",
      "Sentence: these earring came fast in very good condition * * * * * *\n",
      "========================================\n"
     ]
    },
    {
     "name": "stderr",
     "output_type": "stream",
     "text": [
      "\r",
      "761it [27:42,  1.47s/it]"
     ]
    },
    {
     "name": "stdout",
     "output_type": "stream",
     "text": [
      "Index ประโยคภาษาไทย: 184387\n",
      "ประโยค: แต่นอกจากปัญหานี้ฉันก็พอใจกับตัวผลิตภัณฑ์****\n",
      "Same index: 184387 Value: 8 Rank: 0\n",
      "Sentence: other than that i am pleased with this product * * * * *\n",
      "Minimum index: 184387 Value: 8\n",
      "Sentence: other than that i am pleased with this product * * * * *\n",
      "========================================\n"
     ]
    },
    {
     "name": "stderr",
     "output_type": "stream",
     "text": [
      "\r",
      "762it [27:43,  1.22s/it]"
     ]
    },
    {
     "name": "stdout",
     "output_type": "stream",
     "text": [
      "Index ประโยคภาษาไทย: 814728\n",
      "ประโยค: 2010ซาบารุ เอ้าท์แบค*****\n",
      "Same index: 814728 Value: 2 Rank: 1\n",
      "Sentence: 2010 subaru outback * * * * *\n",
      "Minimum index: 761371 Value: 1\n",
      "Sentence: derrick gida * * * * * *\n",
      "========================================\n"
     ]
    },
    {
     "name": "stderr",
     "output_type": "stream",
     "text": [
      "\r",
      "763it [27:44,  1.03s/it]"
     ]
    },
    {
     "name": "stdout",
     "output_type": "stream",
     "text": [
      "Index ประโยคภาษาไทย: 698553\n",
      "ประโยค: ดีพดิช******\n",
      "Same index: 698553 Value: 2 Rank: 5\n",
      "Sentence: deep dish * * * * *\n",
      "Minimum index: 823653 Value: 1\n",
      "Sentence: 4751 state hwy n * * * * *\n",
      "========================================\n"
     ]
    },
    {
     "name": "stderr",
     "output_type": "stream",
     "text": [
      "\r",
      "764it [27:45,  1.26s/it]"
     ]
    },
    {
     "name": "stdout",
     "output_type": "stream",
     "text": [
      "Index ประโยคภาษาไทย: 293785\n",
      "ประโยค: มันดีจริงๆเพราะมันเปิดโดยอัตโนมัติซึ่งเป็นตัวแบ่งข้อตกลงน้อยกว่าการแจ้งเตือนต่ำเกินไป*****\n",
      "Same index: 293785 Value: 20 Rank: 615\n",
      "Sentence: it is really nice because it come on automatically which is much le of a deal breaker than having too low of an alarm * * * *\n",
      "Minimum index: 270590 Value: 15\n",
      "Sentence: the led will come on a soon a power is applied again * *\n",
      "========================================\n"
     ]
    },
    {
     "name": "stderr",
     "output_type": "stream",
     "text": [
      "\r",
      "765it [27:47,  1.27s/it]"
     ]
    },
    {
     "name": "stdout",
     "output_type": "stream",
     "text": [
      "Index ประโยคภาษาไทย: 224129\n",
      "ประโยค: พวกมันง่ายมากที่จะใส่ในรถบรรทุกไอศกรีม*****\n",
      "Same index: 224129 Value: 10 Rank: 278\n",
      "Sentence: they are super easy to put in an ice cream truck * * *\n",
      "Minimum index: 659476 Value: 8\n",
      "Sentence: how much will it cost * *\n",
      "========================================\n"
     ]
    },
    {
     "name": "stderr",
     "output_type": "stream",
     "text": [
      "\r",
      "766it [27:48,  1.24s/it]"
     ]
    },
    {
     "name": "stdout",
     "output_type": "stream",
     "text": [
      "Index ประโยคภาษาไทย: 533144\n",
      "ประโยค: มันเป็นความแตกต่างที่ใหญ่นะสู้กับทุกๆชั่วโมง****\n",
      "Same index: 533144 Value: 8 Rank: 0\n",
      "Sentence: it a big difference versus every hr hr * * * * * *\n",
      "Minimum index: 533144 Value: 8\n",
      "Sentence: it a big difference versus every hr hr * * * * * *\n",
      "========================================\n"
     ]
    },
    {
     "name": "stderr",
     "output_type": "stream",
     "text": [
      "\r",
      "767it [27:49,  1.24s/it]"
     ]
    },
    {
     "name": "stdout",
     "output_type": "stream",
     "text": [
      "Index ประโยคภาษาไทย: 379315\n",
      "ประโยค: สําหรับฉันมันไม่คุ้มกับการลบ1ดาว***\n",
      "Same index: 379315 Value: 7 Rank: 0\n",
      "Sentence: for me that 's not worth subtracting 1 star * * * * *\n",
      "Minimum index: 379315 Value: 7\n",
      "Sentence: for me that 's not worth subtracting 1 star * * * * *\n",
      "========================================\n"
     ]
    },
    {
     "name": "stderr",
     "output_type": "stream",
     "text": [
      "\r",
      "768it [27:50,  1.05s/it]"
     ]
    },
    {
     "name": "stdout",
     "output_type": "stream",
     "text": [
      "Index ประโยคภาษาไทย: 739645\n",
      "ประโยค: แล้วก็อยากได้อืมนม2**\n",
      "Same index: 739645 Value: 8 Rank: 266\n",
      "Sentence: also wanted yeah i want that to be 2 * * * * *\n",
      "Minimum index: 776519 Value: 4\n",
      "Sentence: is that 2 * * * *\n",
      "========================================\n"
     ]
    },
    {
     "name": "stderr",
     "output_type": "stream",
     "text": [
      "\r",
      "769it [27:51,  1.09s/it]"
     ]
    },
    {
     "name": "stdout",
     "output_type": "stream",
     "text": [
      "Index ประโยคภาษาไทย: 528099\n",
      "ประโยค: เฮ้ยี่จือเธอมาที่นี่ได้อย่างไรพวกเรานัดเจอกันตอน730ที่รถไฟใต้ดินออร์ชาร์ดนะ\n",
      "Same index: 528099 Value: 14 Rank: 46\n",
      "Sentence: hey yijue how are u getting there later we are meeting at 730 orchard mrt\n",
      "Minimum index: 551078 Value: 12\n",
      "Sentence: u wat time come back * *\n",
      "========================================\n"
     ]
    },
    {
     "name": "stderr",
     "output_type": "stream",
     "text": [
      "\r",
      "770it [27:52,  1.11s/it]"
     ]
    },
    {
     "name": "stdout",
     "output_type": "stream",
     "text": [
      "Index ประโยคภาษาไทย: 584040\n",
      "ประโยค: หน้านี้เป็นเรื่องเกี่ยวกับFocalpricecomรหัสโปรโมชั่นและข้อเสนอมีนาคม2020**\n",
      "Same index: 584040 Value: 12 Rank: 3\n",
      "Sentence: this page is about focalprice.com promo code and deal in march 2020 * * * *\n",
      "Minimum index: 567448 Value: 11\n",
      "Sentence: 32 discount code for order 700 *\n",
      "========================================\n"
     ]
    },
    {
     "name": "stderr",
     "output_type": "stream",
     "text": [
      "\r",
      "771it [27:53,  1.03it/s]"
     ]
    },
    {
     "name": "stdout",
     "output_type": "stream",
     "text": [
      "Index ประโยคภาษาไทย: 286263\n",
      "ประโยค: รอคอยที่จะได้ขนมปังชั้นยอด**\n",
      "Same index: 286263 Value: 7 Rank: 161\n",
      "Sentence: wa looking forward to some great bread\n",
      "Minimum index: 508213 Value: 4\n",
      "Sentence: everyone should have health insurance * *\n",
      "========================================\n"
     ]
    },
    {
     "name": "stderr",
     "output_type": "stream",
     "text": [
      "\r",
      "772it [27:54,  1.05s/it]"
     ]
    },
    {
     "name": "stdout",
     "output_type": "stream",
     "text": [
      "Index ประโยคภาษาไทย: 570517\n",
      "ประโยค: 30ออกDresslilyคูปอนรหัสสำหรับเดือนมกราคม*****\n",
      "Same index: 570517 Value: 12 Rank: 400\n",
      "Sentence: 30 off dresslily coupon code for january\n",
      "Minimum index: 150295 Value: 8\n",
      "Sentence: no issue here at all * *\n",
      "========================================\n"
     ]
    },
    {
     "name": "stderr",
     "output_type": "stream",
     "text": [
      "\r",
      "773it [27:55,  1.08it/s]"
     ]
    },
    {
     "name": "stdout",
     "output_type": "stream",
     "text": [
      "Index ประโยคภาษาไทย: 66736\n",
      "ประโยค: มันเหมือนเขียนโดยเด็กสาวมัธยมต้น*\n",
      "Same index: 66736 Value: 7 Rank: 169\n",
      "Sentence: it read like it written by middle school girl * * * * *\n",
      "Minimum index: 924318 Value: 5\n",
      "Sentence: paper cutting horse h-2116 h-2116 * *\n",
      "========================================\n"
     ]
    },
    {
     "name": "stderr",
     "output_type": "stream",
     "text": [
      "\r",
      "774it [27:55,  1.17it/s]"
     ]
    },
    {
     "name": "stdout",
     "output_type": "stream",
     "text": [
      "Index ประโยคภาษาไทย: 420938\n",
      "ประโยค: ภาพมืดมากอยู่เสมอ**\n",
      "Same index: 420938 Value: 5 Rank: 6\n",
      "Sentence: the picture wa always very dark *\n",
      "Minimum index: 151740 Value: 4\n",
      "Sentence: but it ha been remastered * *\n",
      "========================================\n"
     ]
    },
    {
     "name": "stderr",
     "output_type": "stream",
     "text": [
      "\r",
      "775it [27:57,  1.02it/s]"
     ]
    },
    {
     "name": "stdout",
     "output_type": "stream",
     "text": [
      "Index ประโยคภาษาไทย: 282906\n",
      "ประโยค: เธอยังคงพยายามอย่างอื่นเมื่อพวกเขาไม่ควรมี****\n",
      "Same index: 282906 Value: 10 Rank: 20\n",
      "Sentence: she kept putting out other thing when really they should n't have * *\n",
      "Minimum index: 192520 Value: 9\n",
      "Sentence: he even sleep with these around his neck some night * * * *\n",
      "========================================\n"
     ]
    },
    {
     "name": "stderr",
     "output_type": "stream",
     "text": [
      "\r",
      "776it [28:01,  1.88s/it]"
     ]
    },
    {
     "name": "stdout",
     "output_type": "stream",
     "text": [
      "Index ประโยคภาษาไทย: 166030\n",
      "ประโยค: ฉันส่งของชุดหนึ่งให้เธอทั้ง3ชิ้นและแก้วอีก2 แก้วถ้วย2ถ้วยจานและผ้าเช็ดปากสิ่งเดียวที่ขาดหายไปคือชุดจานที่เราเคยมีตอนนี่ที่เธอไม่ยอมกินอย่างอื่นแล้ว\n",
      "Same index: 166030 Value: 34 Rank: 0\n",
      "Sentence: i sent her one of these set all 3 piece plus 2 cup two bowl plate napkin * * * *\n",
      "Minimum index: 166030 Value: 34\n",
      "Sentence: i sent her one of these set all 3 piece plus 2 cup two bowl plate napkin * * * *\n",
      "========================================\n"
     ]
    },
    {
     "name": "stderr",
     "output_type": "stream",
     "text": [
      "\r",
      "777it [28:01,  1.51s/it]"
     ]
    },
    {
     "name": "stdout",
     "output_type": "stream",
     "text": [
      "Index ประโยคภาษาไทย: 797729\n",
      "ประโยค: คุณบอกว่าแก้วใหญ่ใช่มั้ยคะ\n",
      "Same index: 797729 Value: 7 Rank: 0\n",
      "Sentence: you said venti size * * *\n",
      "Minimum index: 686083 Value: 7\n",
      "Sentence: it will be for takeout * *\n",
      "========================================\n"
     ]
    },
    {
     "name": "stderr",
     "output_type": "stream",
     "text": [
      "\r",
      "778it [28:07,  2.88s/it]"
     ]
    },
    {
     "name": "stdout",
     "output_type": "stream",
     "text": [
      "Index ประโยคภาษาไทย: 5721\n",
      "ประโยค: ผู้คนบางส่วนกังวลว่าการเปลี่ยนกฎเกณฑ์เพื่ออนุญาตให้จักรพรรดิสละราชสมบัติอาจทำให้พระเจ้าแผ่นดินในอนาคตของญี่ปุ่นมีความเสี่ยงจากการถูกชักใยทางการเมืองสถานะขององค์พระจักรพรรดิเป็นเรื่องละเอียดอ่อนในญี่ปุ่นโดยพิจารณาจากประวัติศาสตร์ของสงครามในศตวรรษที่201 มกราคม พศ 2444  31 ธันวาคม พศ 2543ของญี่ปุ่นในพระนามของพระราชบิดาของสมเด็จพระจักรพรรดิอะกิฮิโตะคือสมเด็จพระจักรพรรดิฮิโรฮิโตะที่ทรงสิ้นพระชนม์เมื่อปีพศ2532******\n",
      "Same index: 5721 Value: 52 Rank: 0\n",
      "Sentence: some worried that changing the rule to allow any emperor to abdicate could put japan s future monarch at risk of political manipulation the status of the emperor is sensitive in japan given it 20th century history of war waged in the name of akihito s father hirohito who died in 1989 * * * * *\n",
      "Minimum index: 5721 Value: 52\n",
      "Sentence: some worried that changing the rule to allow any emperor to abdicate could put japan s future monarch at risk of political manipulation the status of the emperor is sensitive in japan given it 20th century history of war waged in the name of akihito s father hirohito who died in 1989 * * * * *\n",
      "========================================\n"
     ]
    },
    {
     "name": "stderr",
     "output_type": "stream",
     "text": [
      "\r",
      "779it [28:13,  3.63s/it]"
     ]
    },
    {
     "name": "stdout",
     "output_type": "stream",
     "text": [
      "Index ประโยคภาษาไทย: 617433\n",
      "ประโยค: หลังจากนี้เป็นที่นิยมมากและตอนนี้ผมไม่ได้ขึ้นอยู่ทั้งหมดในเกมที่แข่งขันเพราะผมสามารถที่จะแสดงการทำงานของตลาดที่ใบสมัครของฉันได้มีส่วนช่วยโน้มน้าวให้เพื่อน ๆและพี่ชายของฉันว่าฉันให้ยืมเงินบางส่วนเพื่อให้ฉันอีกครั้งจะสามารถเริ่มต้นสร้างโปรแกรมมืออาชีพที่มีคุณสมบัติใหม่ๆกับโปรแกรมใหม่ที่ในเดือนธันวาคมปี 2005***\n",
      "Same index: 617433 Value: 52 Rank: 0\n",
      "Sentence: the fact that i wa able to show the market where my application work helped persuade some friend and my brother that you lend me some money so i can once again begin to build a professional application with many new feature with the new programmer * * *\n",
      "Minimum index: 617433 Value: 52\n",
      "Sentence: the fact that i wa able to show the market where my application work helped persuade some friend and my brother that you lend me some money so i can once again begin to build a professional application with many new feature with the new programmer * * *\n",
      "========================================\n"
     ]
    },
    {
     "name": "stderr",
     "output_type": "stream",
     "text": [
      "\r",
      "780it [28:14,  2.90s/it]"
     ]
    },
    {
     "name": "stdout",
     "output_type": "stream",
     "text": [
      "Index ประโยคภาษาไทย: 637438\n",
      "ประโยค: เครื่องดื่มเสร็จแล้วสามารถมารับได้ในสิบนาทีนี้เลยนะคะ**\n",
      "Same index: 637438 Value: 16 Rank: 604\n",
      "Sentence: your order is complete and your espresso will be ready for pick up in 10 minute * * * * *\n",
      "Minimum index: 555921 Value: 10\n",
      "Sentence: can come fetch me liao * *\n",
      "========================================\n"
     ]
    },
    {
     "name": "stderr",
     "output_type": "stream",
     "text": [
      "\r",
      "781it [28:15,  2.41s/it]"
     ]
    },
    {
     "name": "stdout",
     "output_type": "stream",
     "text": [
      "Index ประโยคภาษาไทย: 158514\n",
      "ประโยค: ใช้กับไอแพดและไอโฟน5Sไดดัไม่มีที่ติค่ะ*****\n",
      "Same index: 158514 Value: 9 Rank: 1\n",
      "Sentence: work with the ipad and iphone 5 perfectly * * * * * *\n",
      "Minimum index: 834873 Value: 8\n",
      "Sentence: let 's pick the 9:30 please *\n",
      "========================================\n"
     ]
    },
    {
     "name": "stderr",
     "output_type": "stream",
     "text": [
      "\r",
      "782it [28:16,  2.03s/it]"
     ]
    },
    {
     "name": "stdout",
     "output_type": "stream",
     "text": [
      "Index ประโยคภาษาไทย: 225222\n",
      "ประโยค: บทสรุปนั้นดึงดูดความสนใจของฉันและเรื่องราวก็ดูน่าสนใจ***\n",
      "Same index: 225222 Value: 9 Rank: 0\n",
      "Sentence: the summary caught my attention and the storyline seemed intriguing * * * *\n",
      "Minimum index: 225222 Value: 9\n",
      "Sentence: the summary caught my attention and the storyline seemed intriguing * * * *\n",
      "========================================\n"
     ]
    },
    {
     "name": "stderr",
     "output_type": "stream",
     "text": [
      "\r",
      "783it [28:17,  1.77s/it]"
     ]
    },
    {
     "name": "stdout",
     "output_type": "stream",
     "text": [
      "Index ประโยคภาษาไทย: 495583\n",
      "ประโยค: ใครสามารถอ่านใจคุณทำได้Richardกลับมาแล้ว******\n",
      "Same index: 495583 Value: 9 Rank: 231\n",
      "Sentence: who can read the heart you can returned richard * * * * *\n",
      "Minimum index: 636937 Value: 8\n",
      "Sentence: is there anything else you want to add * * * * * *\n",
      "========================================\n"
     ]
    },
    {
     "name": "stderr",
     "output_type": "stream",
     "text": [
      "\r",
      "784it [28:23,  2.99s/it]"
     ]
    },
    {
     "name": "stdout",
     "output_type": "stream",
     "text": [
      "Index ประโยคภาษาไทย: 874440\n",
      "ประโยค: โทรศัพท์แบบไร้สายช่วยเพิ่มระยะทางการใช้งานได้มากกว่าปกติหน้าจอLCDขนาดใหญ่ถึง18นิ้วมองเห็นได้ชัดเจนแสดงหมายเลขเรียกเข้าCallerIDง่ายต่อการทราบว่าใครเป็นคู่สนทนาบันทึกหมายเลขโทรศัพท์ได้10หมายเลขรองรับจำนวนสายเรียกเข้าได้1สายหน่วยความจำสมุดโทรศัพท์100หมายเลขระบบตอบรับสามารถบันทึกข้อความได้18 นาทีระบบSpeakerPhoneช่วยให้สนทนาได้โดยไม่ต้องยกหูโทรศัพท์ปุ่มR\n",
      "Same index: 874440 Value: 67 Rank: 257\n",
      "Sentence: cordless telephone increase longer usage range big 1.8 inch lcd display monitor is visible to see show calling-in no caller id easy to know who is calling in 10 number redial memory unit support on single calling line 100 phonebook memory answering system is recordable the dialog up to 18 minute speaker phone system for hand free using redial button to repeat on the the * * * * *\n",
      "Minimum index: 770106 Value: 58\n",
      "Sentence: okay i will make note of that\n",
      "========================================\n"
     ]
    },
    {
     "name": "stderr",
     "output_type": "stream",
     "text": [
      "\r",
      "785it [28:24,  2.45s/it]"
     ]
    },
    {
     "name": "stdout",
     "output_type": "stream",
     "text": [
      "Index ประโยคภาษาไทย: 585760\n",
      "ประโยค: เท่าไหร่มันต้องสูญเสียค่าเช่ารถในการกรีซ*****\n",
      "Same index: 585760 Value: 12 Rank: 401\n",
      "Sentence: last year how much did it cost to rent a car in greece *\n",
      "Minimum index: 485382 Value: 9\n",
      "Sentence: he is the very picture of his father * * * * * *\n",
      "========================================\n"
     ]
    },
    {
     "name": "stderr",
     "output_type": "stream",
     "text": [
      "\r",
      "786it [28:26,  2.09s/it]"
     ]
    },
    {
     "name": "stdout",
     "output_type": "stream",
     "text": [
      "Index ประโยคภาษาไทย: 389229\n",
      "ประโยค: หนึ่งในการตรวจสอบโดยเฉพาะอย่างยิ่งถ้าคุณเป็นแฟนของคอเมดี้โรแมนติกและหรือสยองขวัญ\n",
      "Same index: 389229 Value: 18 Rank: 562\n",
      "Sentence: definitely one to check out especially if you 're a fan of romantic comedy andor horror * * * * *\n",
      "Minimum index: 190595 Value: 12\n",
      "Sentence: i 'm a big fan of michael koryta\n",
      "========================================\n"
     ]
    },
    {
     "name": "stderr",
     "output_type": "stream",
     "text": [
      "\r",
      "787it [28:27,  1.87s/it]"
     ]
    },
    {
     "name": "stdout",
     "output_type": "stream",
     "text": [
      "Index ประโยคภาษาไทย: 92137\n",
      "ประโยค: เรามีเครื่องดูดฝุ่นแบบเข็นตามด้วยค่ะ******\n",
      "Same index: 92137 Value: 7 Rank: 0\n",
      "Sentence: we have an upright vacuum too *\n",
      "Minimum index: 248065 Value: 7\n",
      "Sentence: he especially like it * * *\n",
      "========================================\n"
     ]
    },
    {
     "name": "stderr",
     "output_type": "stream",
     "text": [
      "\r",
      "788it [28:33,  3.06s/it]"
     ]
    },
    {
     "name": "stdout",
     "output_type": "stream",
     "text": [
      "Index ประโยคภาษาไทย: 853669\n",
      "ประโยค: สายไฟACPowerสำหรับเชื่อมต่อกับหน้าจอคอมพิวเตอร์ตัวสายและหัวเชื่อมต่อผลิตจากวัสดุที่มีความทนทานต่อการใช้งานสูงไส้ในของสายไฟทำจากทองแดงที่หนาถึง075sqmหัวต่อด้านรับต่อเข้ากับจอภาพเครื่องคอมพิวเตอร์หัวต่อด้านเสียบต่อเข้ากับเคสคอมพิวเตอร์CPUสเปคสินค้าประเภทACPowerความยาว3 เมตรชนิดหัวเชื่อมต่อUSรองรับการเชื่อมต่อจอมอนิเตอร์สำหรับคอมพิวเตอร์**\n",
      "Same index: 853669 Value: 62 Rank: 1\n",
      "Sentence: ac power cable for connection from cpu to monitor cable and connector tip are made from highly durable material 0.75 sqm thick copper wire for better conductivity the female connector plug directly into the monitor the male connector plug into cp u product specification type a c power length 3 meter connector tip u s compatible device monitor monitor * * * * * *\n",
      "Minimum index: 714184 Value: 61\n",
      "Sentence: wan na join * * * *\n",
      "========================================\n"
     ]
    },
    {
     "name": "stderr",
     "output_type": "stream",
     "text": [
      "\r",
      "789it [28:35,  2.87s/it]"
     ]
    },
    {
     "name": "stdout",
     "output_type": "stream",
     "text": [
      "Index ประโยคภาษาไทย: 512355\n",
      "ประโยค: เขากล่าวถึงช่องว่างในการสื่อสารไปจนถึงแพทย์รู้สึกดดันเรื่องเวลาผู้ป่วยบอกว่ารู้สึกไม่สบายใจที่จะคุยปัญหาทางการเงิน*****\n",
      "Same index: 512355 Value: 18 Rank: 0\n",
      "Sentence: he attributed some of the communication gap to doctor feeling pressed for time patient cited discomfort discussing financial issue * *\n",
      "Minimum index: 512355 Value: 18\n",
      "Sentence: he attributed some of the communication gap to doctor feeling pressed for time patient cited discomfort discussing financial issue * *\n",
      "========================================\n"
     ]
    },
    {
     "name": "stderr",
     "output_type": "stream",
     "text": [
      "\r",
      "790it [28:37,  2.41s/it]"
     ]
    },
    {
     "name": "stdout",
     "output_type": "stream",
     "text": [
      "Index ประโยคภาษาไทย: 465450\n",
      "ประโยค: มันโชคร้ายเพราะเมื่อมันได้ผลมันยอดเยี่ยมมาก*****\n",
      "Same index: 465450 Value: 8 Rank: 0\n",
      "Sentence: it 's unfortunate because when it work it great * * * * *\n",
      "Minimum index: 415851 Value: 8\n",
      "Sentence: when it work it 's terrific *\n",
      "========================================\n"
     ]
    },
    {
     "name": "stderr",
     "output_type": "stream",
     "text": [
      "\r",
      "791it [28:38,  2.06s/it]"
     ]
    },
    {
     "name": "stdout",
     "output_type": "stream",
     "text": [
      "Index ประโยคภาษาไทย: 585719\n",
      "ประโยค: เรามีส่วนลดสำหรับค่าเช่ารถการเช่ารถในเมืองใหญ่ๆของเมลเบิร์น\n",
      "Same index: 585719 Value: 12 Rank: 0\n",
      "Sentence: we offer discount car rental car hire in all major city of melbourne *\n",
      "Minimum index: 206267 Value: 12\n",
      "Sentence: i bought this machine a year ago\n",
      "========================================\n"
     ]
    },
    {
     "name": "stderr",
     "output_type": "stream",
     "text": [
      "\r",
      "792it [28:39,  1.63s/it]"
     ]
    },
    {
     "name": "stdout",
     "output_type": "stream",
     "text": [
      "Index ประโยคภาษาไทย: 542019\n",
      "ประโยค: หัวเราะที่เหลือยังไม่ถึงเหรอ\n",
      "Same index: 542019 Value: 6 Rank: 0\n",
      "Sentence: lol the rest have n't reached *\n",
      "Minimum index: 821629 Value: 6\n",
      "Sentence: let me get this started for you\n",
      "========================================\n"
     ]
    },
    {
     "name": "stderr",
     "output_type": "stream",
     "text": [
      "\r",
      "793it [28:40,  1.50s/it]"
     ]
    },
    {
     "name": "stdout",
     "output_type": "stream",
     "text": [
      "Index ประโยคภาษาไทย: 237880\n",
      "ประโยค: ผลิตภัณฑ์นี้เป็นสิ่งที่มันพูดและใช้งานได้ดี****\n",
      "Same index: 237880 Value: 8 Rank: 0\n",
      "Sentence: this product is exactly what it say and work great * * * *\n",
      "Minimum index: 237880 Value: 8\n",
      "Sentence: this product is exactly what it say and work great * * * *\n",
      "========================================\n"
     ]
    },
    {
     "name": "stderr",
     "output_type": "stream",
     "text": [
      "\r",
      "794it [28:42,  1.63s/it]"
     ]
    },
    {
     "name": "stdout",
     "output_type": "stream",
     "text": [
      "Index ประโยคภาษาไทย: 227844\n",
      "ประโยค: เป็นเพียงว่าถ้าเขียนโดยคนอื่นฉันจะแปลกใจว่าผู้คนสามารถให้พวกเขา5ดาว****\n",
      "Same index: 227844 Value: 14 Rank: 0\n",
      "Sentence: it 's just that if written by another person i 'd be surprised how people can give them 5 star *\n",
      "Minimum index: 227844 Value: 14\n",
      "Sentence: it 's just that if written by another person i 'd be surprised how people can give them 5 star *\n",
      "========================================\n"
     ]
    },
    {
     "name": "stderr",
     "output_type": "stream",
     "text": [
      "\r",
      "795it [28:42,  1.33s/it]"
     ]
    },
    {
     "name": "stdout",
     "output_type": "stream",
     "text": [
      "Index ประโยคภาษาไทย: 989269\n",
      "ประโยค: สหรัฐในโอลิมปิกฤดูหนาว1968**\n",
      "Same index: 989269 Value: 6 Rank: 120\n",
      "Sentence: united state at the 1968 winter olympics olympics\n",
      "Minimum index: 270180 Value: 4\n",
      "Sentence: wa he really dead * * *\n",
      "========================================\n"
     ]
    },
    {
     "name": "stderr",
     "output_type": "stream",
     "text": [
      "\r",
      "796it [28:44,  1.31s/it]"
     ]
    },
    {
     "name": "stdout",
     "output_type": "stream",
     "text": [
      "Index ประโยคภาษาไทย: 543974\n",
      "ประโยค: เธออาศัยอยู่ที่เออาร์ดี ซีซีเคเหมือนกันใช่ไหมอ่ะ******\n",
      "Same index: 543974 Value: 6 Rank: 0\n",
      "Sentence: u live ard cck also right *\n",
      "Minimum index: 543974 Value: 6\n",
      "Sentence: u live ard cck also right *\n",
      "========================================\n"
     ]
    },
    {
     "name": "stderr",
     "output_type": "stream",
     "text": [
      "\r",
      "797it [28:45,  1.29s/it]"
     ]
    },
    {
     "name": "stdout",
     "output_type": "stream",
     "text": [
      "Index ประโยคภาษาไทย: 667928\n",
      "ประโยค: โอเคค่ะขอใช้เป็นบัญชีทิคเก็ตเซอร์วิสนะคะ*****\n",
      "Same index: 667928 Value: 11 Rank: 356\n",
      "Sentence: ok please use my ticket service account\n",
      "Minimum index: 778419 Value: 6\n",
      "Sentence: do they both serve alcohol * *\n",
      "========================================\n"
     ]
    },
    {
     "name": "stderr",
     "output_type": "stream",
     "text": [
      "\r",
      "798it [28:49,  2.01s/it]"
     ]
    },
    {
     "name": "stdout",
     "output_type": "stream",
     "text": [
      "Index ประโยคภาษาไทย: 940298\n",
      "ประโยค: ระบบเสียงDOLBYSURROUNDProgressiveScanมีน้ำหนักกิโลกรัม1 ช่องต่อ Output  AV COXIAL ช่องต่อ USBสำหรับเล่นไฟล์เพลงและภาพยนตร์ระบบแปลงสัญญาณภาพ108MHz12bitSoundRetrieverเพิ่มคุณภาพเสียงสำหรับไฟล์บีบอัดขนาดเครื่องซม271x42x208****\n",
      "Same index: 940298 Value: 36 Rank: 2\n",
      "Sentence: sound system dolby surround progressive scan yes weight kg 1 output av coxial usb port for playing music and movie file 108 m hz 12bit video recorder sound retriever enhances sound quality for compressed file dimension cm 27.1x 4.2x 20.8 20.8 *\n",
      "Minimum index: 45678 Value: 35\n",
      "Sentence: like many other poster have stated the plot seems to drag on on *\n",
      "========================================\n"
     ]
    },
    {
     "name": "stderr",
     "output_type": "stream",
     "text": [
      "\r",
      "799it [28:49,  1.60s/it]"
     ]
    },
    {
     "name": "stdout",
     "output_type": "stream",
     "text": [
      "Index ประโยคภาษาไทย: 284726\n",
      "ประโยค: ข้อเสียเพียงอย่างเดียวคือการทำความสะอาด\n",
      "Same index: 284726 Value: 6 Rank: 0\n",
      "Sentence: the only downside is cleaning it *\n",
      "Minimum index: 116779 Value: 6\n",
      "Sentence: work just fine * * * *\n",
      "========================================\n"
     ]
    },
    {
     "name": "stderr",
     "output_type": "stream",
     "text": [
      "\r",
      "800it [28:50,  1.49s/it]"
     ]
    },
    {
     "name": "stdout",
     "output_type": "stream",
     "text": [
      "Index ประโยคภาษาไทย: 460280\n",
      "ประโยค: หน้าบางหน้าว่างเปล่าทําให้คุณคาดเดาได้******\n",
      "Same index: 460280 Value: 8 Rank: 3\n",
      "Sentence: some of the page are blank leaving you guessing * * * * *\n",
      "Minimum index: 422247 Value: 7\n",
      "Sentence: great for a gift * * *\n",
      "========================================\n"
     ]
    },
    {
     "name": "stderr",
     "output_type": "stream",
     "text": [
      "\r",
      "801it [28:51,  1.25s/it]"
     ]
    },
    {
     "name": "stdout",
     "output_type": "stream",
     "text": [
      "Index ประโยคภาษาไทย: 157090\n",
      "ประโยค: มีเพียงหนึ่งคำสำหรับผลิตภัณฑ์นี้\n",
      "Same index: 157090 Value: 10 Rank: 234\n",
      "Sentence: there is only one word for that product * * * * * *\n",
      "Minimum index: 170129 Value: 6\n",
      "Sentence: do n't bother buying this product *\n",
      "========================================\n"
     ]
    },
    {
     "name": "stderr",
     "output_type": "stream",
     "text": [
      "\r",
      "802it [28:52,  1.24s/it]"
     ]
    },
    {
     "name": "stdout",
     "output_type": "stream",
     "text": [
      "Index ประโยคภาษาไทย: 656552\n",
      "ประโยค: ทั้งหมดสิบห้าเหรียญแปดเซ็นต์ค่ะส่งใบเสร็จไปให้แล้วนะคะ**\n",
      "Same index: 656552 Value: 12 Rank: 75\n",
      "Sentence: it will be 15.08 sent to your cell is the receipt receipt * *\n",
      "Minimum index: 528540 Value: 10\n",
      "Sentence: ok. take care of yourself * *\n",
      "========================================\n"
     ]
    },
    {
     "name": "stderr",
     "output_type": "stream",
     "text": [
      "\r",
      "803it [28:54,  1.24s/it]"
     ]
    },
    {
     "name": "stdout",
     "output_type": "stream",
     "text": [
      "Index ประโยคภาษาไทย: 671442\n",
      "ประโยค: ไส้กรอกไก่ก็ได้แล้วมีชีสอะไรบ้าง******\n",
      "Same index: 671442 Value: 8 Rank: 14\n",
      "Sentence: chicken sausage is good what other cheese option are there * * * *\n",
      "Minimum index: 845894 Value: 7\n",
      "Sentence: okay do they accept large party *\n",
      "========================================\n"
     ]
    },
    {
     "name": "stderr",
     "output_type": "stream",
     "text": [
      "\r",
      "804it [28:54,  1.06s/it]"
     ]
    },
    {
     "name": "stdout",
     "output_type": "stream",
     "text": [
      "Index ประโยคภาษาไทย: 907541\n",
      "ประโยค: สินเชื่อบัตรเครดิต*****\n",
      "Same index: 907541 Value: 3 Rank: 19\n",
      "Sentence: loan credit card card * * *\n",
      "Minimum index: 792786 Value: 2\n",
      "Sentence: including myself * * * * *\n",
      "========================================\n"
     ]
    },
    {
     "name": "stderr",
     "output_type": "stream",
     "text": [
      "\r",
      "805it [28:58,  2.02s/it]"
     ]
    },
    {
     "name": "stdout",
     "output_type": "stream",
     "text": [
      "Index ประโยคภาษาไทย: 21022\n",
      "ประโยค: ของเงินเยนและเศรษฐกิจโลกที่เริ่มปรับตัวดีขึ้นการปรับตัวดีขึ้นของเศรษฐกิจส่งผลให้ความเชื่อมั่นภาคธุรกิจเพิ่มขึ้นสู่ระดับสูงสุดในรอบ6 ปีในขณะที่อัตราเงินเฟ้อปรับตัวเพิ่มขึ้นตามมาตรการปริมาณเงินรวมทั้งปีคาดว่าเศรษฐกิจญี่ปุ่นจะขยายตัวร้อยละ 17*****\n",
      "Same index: 21022 Value: 47 Rank: 762\n",
      "Sentence: healthier economic performance attributed to better business sentiment a reflected in the highest level of tankan business sentiment index since the 2008 crisis the inflation rate in the fourth quarter also increased a a result of continual monetary expansionary measure in all the japanese economy in 2013 expanded by 1.6 percent * * * * * *\n",
      "Minimum index: 175124 Value: 41\n",
      "Sentence: it work best when applied immediately before removal of anything sensitive that might be on your wall * * * *\n",
      "========================================\n"
     ]
    },
    {
     "name": "stderr",
     "output_type": "stream",
     "text": [
      "\r",
      "806it [29:05,  3.25s/it]"
     ]
    },
    {
     "name": "stdout",
     "output_type": "stream",
     "text": [
      "Index ประโยคภาษาไทย: 883973\n",
      "ประโยค: การ์ดบันทึกข้อมูลmicroSDHCClass4จากKingstonใช้เก็บไฟล์ภาพถ่ายวีดีโอMP3และอื่นๆในรูปแบบDigitalมีความเสถียรต่อการใช้งานอัตราการถ่ายโอนข้อมูลขั้นต่ำ4 MBวินาทีพื้นที่ความจุ32GBเก็บข้อมูลได้ต่อเนื่องและมีประสิทธิภาพมีสวิตช์ล็อกการเขียนทับข้อมูลในตัวเพื่อป้องกันข้อมูลสูญหายรองรับกับสมาร์ทโฟนกล้องและอุปกรณ์อื่นๆที่เข้ากันได้กับmicroSDHDมีหัวต่อแปลงจากการ์ดmicroSD**\n",
      "Same index: 883973 Value: 74 Rank: 291\n",
      "Sentence: expands the memory capacity for your compatible device like cell phone pd a digital camera music player and more store essential digital content such a high quality photo video music and more high-speed class rating class 4 4 mbsec minimum data transfer rate with 32 gb of storage the card ha room for thousand of photo and over an hour of full hd video security built built * * *\n",
      "Minimum index: 977729 Value: 67\n",
      "Sentence: the soviet union wa the host of the 1980 summer olympics held in and around moscow * * * * * *\n",
      "========================================\n"
     ]
    },
    {
     "name": "stderr",
     "output_type": "stream",
     "text": [
      "\r",
      "807it [29:06,  2.83s/it]"
     ]
    },
    {
     "name": "stdout",
     "output_type": "stream",
     "text": [
      "Index ประโยคภาษาไทย: 232290\n",
      "ประโยค: ชิ้นส่วนพลาสติกที่คุณเสียบเข้ากับด้านหลังของทีวีของคุณแตกออกเป็นครั้งแรกที่เราเสียบเข้ากับทีวีของเรา\n",
      "Same index: 232290 Value: 24 Rank: 718\n",
      "Sentence: the plastic piece you plug in to the back of your tv broke off first time we plugged it into our tv * * * * * *\n",
      "Minimum index: 280627 Value: 19\n",
      "Sentence: other than these thing though i loved it * * * * * *\n",
      "========================================\n"
     ]
    },
    {
     "name": "stderr",
     "output_type": "stream",
     "text": [
      "\r",
      "808it [29:10,  3.15s/it]"
     ]
    },
    {
     "name": "stdout",
     "output_type": "stream",
     "text": [
      "Index ประโยคภาษาไทย: 994197\n",
      "ประโยค: คำขวัญประจำชาติ Ordem e Progresso ความเป็นระเบียบและความก้าวหน้าซึ่งปรากฏในธงชาตินั้นได้รับแรงบันดาลใจจากคติพจน์ของโอกุสต์ กองต์AugusteComteนักปรัชญาปฏิฐานนิยมPositivismชาวฝรั่งเศสซึ่งมีอยู่ว่าLamour pour principe et lordre pour base le progrès pour butความรักคือหลักการและความมีระเบียบคือรากฐานส่วนความก้าวหน้าคือเป้าหมายคำขวัญนี้ได้มีการบรรจุไว้ในธงชาติ*****\n",
      "Same index: 994197 Value: 65 Rank: 935\n",
      "Sentence: a blue circle with white five-pointed star replaced the arm of the empire of brazil it position in the flag reflects the sky over the city of rio de janeiro on november 15 , 1889 the humanist motto ordem e progresso is derived from auguste comte 's motto of positivism l'amour pour principe et l'ordre pour base le progrès pour but love a a principle and order a the basis progress a the goal * *\n",
      "Minimum index: 149795 Value: 38\n",
      "Sentence: after a long search for an affordable portable sound system this wa by far the best one we were so excited to be able to get it *\n",
      "========================================\n"
     ]
    },
    {
     "name": "stderr",
     "output_type": "stream",
     "text": [
      "\r",
      "809it [29:13,  2.93s/it]"
     ]
    },
    {
     "name": "stdout",
     "output_type": "stream",
     "text": [
      "Index ประโยคภาษาไทย: 423837\n",
      "ประโยค: ฉันซื้อหนังสือเล่มนี้ด้วยความหวังว่าผู้เขียนจะกําจัดตัวละครที่น่ารําคาญที่ถูกเพิ่มเข้ามาก่อน*****\n",
      "Same index: 423837 Value: 18 Rank: 0\n",
      "Sentence: i bought this book in the hope the author will finally get rid of the annoying character who wa added early on * * * * * *\n",
      "Minimum index: 423837 Value: 18\n",
      "Sentence: i bought this book in the hope the author will finally get rid of the annoying character who wa added early on * * * * * *\n",
      "========================================\n"
     ]
    },
    {
     "name": "stderr",
     "output_type": "stream",
     "text": [
      "\r",
      "810it [29:14,  2.42s/it]"
     ]
    },
    {
     "name": "stdout",
     "output_type": "stream",
     "text": [
      "Index ประโยคภาษาไทย: 900263\n",
      "ประโยค: ผ้ารองรีดเคลีอยสารSILVERMETALLICพิเศษสะท้อนความร้อนทำให้ผ้าเรียบเร็วขึ้นและประหยัดไฟ\n",
      "Same index: 900263 Value: 15 Rank: 564\n",
      "Sentence: iron ironing board silver metallic special reflect heat make the fabric smooth faster and save energy energy * * * *\n",
      "Minimum index: 336129 Value: 12\n",
      "Sentence: update 3162013 finally got through it *\n",
      "========================================\n"
     ]
    },
    {
     "name": "stderr",
     "output_type": "stream",
     "text": [
      "\r",
      "811it [29:15,  2.08s/it]"
     ]
    },
    {
     "name": "stdout",
     "output_type": "stream",
     "text": [
      "Index ประโยคภาษาไทย: 173305\n",
      "ประโยค: มันมีช่องว่างมากเกินไปในกรอบเวลาที่ไม่ได้เขียนอย่างชัดเจน*\n",
      "Same index: 173305 Value: 12 Rank: 3\n",
      "Sentence: there are too many gap in time frame that is not written very clearly\n",
      "Minimum index: 633167 Value: 11\n",
      "Sentence: got it anything else * * *\n",
      "========================================\n"
     ]
    },
    {
     "name": "stderr",
     "output_type": "stream",
     "text": [
      "\r",
      "812it [29:18,  2.23s/it]"
     ]
    },
    {
     "name": "stdout",
     "output_type": "stream",
     "text": [
      "Index ประโยคภาษาไทย: 542097\n",
      "ประโยค: หัวเราะผมยาวก็ต้องต่อสู้กับสงครามละไม่ต้องซื้อชุดใหม่ละใช่ไหมอ่ะและเธอกังวลกับโทรศัพท์ที่ไม่มีกล้องใช่ไหม**\n",
      "Same index: 542097 Value: 23 Rank: 0\n",
      "Sentence: hahaha hair long also must fight war what do n't need to buy newuniform right and you gon na bother abt noncamera phone * * * * *\n",
      "Minimum index: 152704 Value: 23\n",
      "Sentence: my old monitor had line that needed adjusting and after using this one there are no line * * * *\n",
      "========================================\n"
     ]
    },
    {
     "name": "stderr",
     "output_type": "stream",
     "text": [
      "\r",
      "813it [29:19,  1.92s/it]"
     ]
    },
    {
     "name": "stdout",
     "output_type": "stream",
     "text": [
      "Index ประโยคภาษาไทย: 323345\n",
      "ประโยค: ประหยัดเงินของคุณอันนี้เสียเวลาและกระดาษ******\n",
      "Same index: 323345 Value: 9 Rank: 231\n",
      "Sentence: save your money this one is a waste of time and paper * *\n",
      "Minimum index: 382979 Value: 8\n",
      "Sentence: not so for this one * *\n",
      "========================================\n"
     ]
    },
    {
     "name": "stderr",
     "output_type": "stream",
     "text": [
      "\r",
      "814it [29:20,  1.53s/it]"
     ]
    },
    {
     "name": "stdout",
     "output_type": "stream",
     "text": [
      "Index ประโยคภาษาไทย: 496720\n",
      "ประโยค: ไม่มีอะไรที่จะช่วยมันได้\n",
      "Same index: 496720 Value: 7 Rank: 17\n",
      "Sentence: there is no help for it *\n",
      "Minimum index: 803050 Value: 6\n",
      "Sentence: hi how can i assist you *\n",
      "========================================\n"
     ]
    },
    {
     "name": "stderr",
     "output_type": "stream",
     "text": [
      "\r",
      "815it [29:21,  1.45s/it]"
     ]
    },
    {
     "name": "stdout",
     "output_type": "stream",
     "text": [
      "Index ประโยคภาษาไทย: 322213\n",
      "ประโยค: ฉันได้รับข้อมูลที่เป็นประโยชน์มากขึ้นในเว็บไซต์อินเทอร์เน็ตฟรีของฉัน**\n",
      "Same index: 322213 Value: 10 Rank: 0\n",
      "Sentence: i got more useful info on my free internet site * * * *\n",
      "Minimum index: 322213 Value: 10\n",
      "Sentence: i got more useful info on my free internet site * * * *\n",
      "========================================\n"
     ]
    },
    {
     "name": "stderr",
     "output_type": "stream",
     "text": [
      "\r",
      "816it [29:22,  1.37s/it]"
     ]
    },
    {
     "name": "stdout",
     "output_type": "stream",
     "text": [
      "Index ประโยคภาษาไทย: 269450\n",
      "ประโยค: นอกจากนี้การออกแบบยังถูออกไปราวกับว่ามีคนใช้น้ำยาทาเล็บใสทับ\n",
      "Same index: 269450 Value: 19 Rank: 565\n",
      "Sentence: in addition the design rubbed off a if someone had applied clear nail polish over it * * * * *\n",
      "Minimum index: 205627 Value: 11\n",
      "Sentence: it actually make them happy * *\n",
      "========================================\n"
     ]
    },
    {
     "name": "stderr",
     "output_type": "stream",
     "text": [
      "\r",
      "817it [29:23,  1.32s/it]"
     ]
    },
    {
     "name": "stdout",
     "output_type": "stream",
     "text": [
      "Index ประโยคภาษาไทย: 591628\n",
      "ประโยค: วิตามินซีในฟู้ดส์ซึ่งไม่ได้เตรียมตัวไว้ผักดิบมีวิตามินซีมากที่สุด*\n",
      "Same index: 591628 Value: 14 Rank: 509\n",
      "Sentence: vitamin c in food which unprepared raw food ha the most vitamin c 47\n",
      "Minimum index: 536582 Value: 11\n",
      "Sentence: have fun attending class * * *\n",
      "========================================\n"
     ]
    },
    {
     "name": "stderr",
     "output_type": "stream",
     "text": [
      "\r",
      "818it [29:24,  1.28s/it]"
     ]
    },
    {
     "name": "stdout",
     "output_type": "stream",
     "text": [
      "Index ประโยคภาษาไทย: 697756\n",
      "ประโยค: โอเคสนามบินนานาชาติโฮโนลูลูนะคะไปหาดไวกีกีใช่มั้ย*****\n",
      "Same index: 697756 Value: 9 Rank: 30\n",
      "Sentence: okay that 's honolulu international airport to waikiki beach correct * * * *\n",
      "Minimum index: 389171 Value: 8\n",
      "Sentence: i have a lot of trouble locating satellite * * * * * *\n",
      "========================================\n"
     ]
    },
    {
     "name": "stderr",
     "output_type": "stream",
     "text": [
      "\r",
      "819it [29:25,  1.10s/it]"
     ]
    },
    {
     "name": "stdout",
     "output_type": "stream",
     "text": [
      "Index ประโยคภาษาไทย: 647905\n",
      "ประโยค: จ้ะงั้นเอามะกอกดำ**\n",
      "Same index: 647905 Value: 4 Rank: 0\n",
      "Sentence: ok then black olive * * *\n",
      "Minimum index: 741601 Value: 4\n",
      "Sentence: i have a bmw * * *\n",
      "========================================\n"
     ]
    },
    {
     "name": "stderr",
     "output_type": "stream",
     "text": [
      "\r",
      "820it [29:26,  1.13s/it]"
     ]
    },
    {
     "name": "stdout",
     "output_type": "stream",
     "text": [
      "Index ประโยคภาษาไทย: 210840\n",
      "ประโยค: เมื่อใช้กับiphone4จะไม่ส่งเสียงดังพอ*****\n",
      "Same index: 210840 Value: 9 Rank: 32\n",
      "Sentence: when using with iphone 4 doe n't give loud enough sound * * *\n",
      "Minimum index: 631938 Value: 7\n",
      "Sentence: yes both are not working * *\n",
      "========================================\n"
     ]
    },
    {
     "name": "stderr",
     "output_type": "stream",
     "text": [
      "\r",
      "821it [29:34,  2.94s/it]"
     ]
    },
    {
     "name": "stdout",
     "output_type": "stream",
     "text": [
      "Index ประโยคภาษาไทย: 997054\n",
      "ประโยค: การสิ้นสุดของสงครามมาพร้อมกับการทำรัฐประหารปฏิวัติคาร์เนชั่นของเดือนเมษายนปี พศ 2517ส่งผลให้ในการอพยพของประชาชนโปรตุเกสหลายพันคนออกจากอาณานิคมเริ่มถึงบุคลากรทางทหารยุโรปแอฟริกาและเชื้อชาติผสมจากอาณานิคมและประเทศที่เพิ่งเป็นอิสระในแอฟริกาการอพยพครั้งนี้ได้รับการยกย่องว่าเป็นหนึ่งในการโยกย้ายที่เงียบสงบใหญ่ที่สุดในประวัติศาสตร์ของโลกซึ่งโปรตุเกสเป็นประเทศแรกที่สร้างอาณานิคมในทวีปแอฟริกาในเซวตาพศ1958และก็กลายเป็นประเทศสุดท้ายที่จะออกจากดินแดนในแอฟริกา\n",
      "Same index: 997054 Value: 82 Rank: 244\n",
      "Sentence: native black warrior were employed in africa by the portuguese colonial ruler since the 16th century portugal had employed regular native troop companhias indigenas in it colonial army since the early 19th century after 1961 with the beginning of the colonial war in it overseas territory portugal began to incorporate black portuguese african into integrated unit a part of the war effort in angola portuguese guinea and mozambique based on concept of multi-racialism and preservation of the empire * * *\n",
      "Minimum index: 708734 Value: 77\n",
      "Sentence: i 'm at the hollywood theatre on 4122 ne sandy blvd in portland oregon and i 'm trying to get to kachka on 960 se 11th ave ave * * *\n",
      "========================================\n"
     ]
    },
    {
     "name": "stderr",
     "output_type": "stream",
     "text": [
      "\r",
      "822it [29:34,  2.24s/it]"
     ]
    },
    {
     "name": "stdout",
     "output_type": "stream",
     "text": [
      "Index ประโยคภาษาไทย: 805210\n",
      "ประโยค: คิดว่าเป็นทเวนตี้ฟิฟส์ อเวนิวนะคะไม่แน่ใจค่ะ\n",
      "Same index: 805210 Value: 11 Rank: 239\n",
      "Sentence: i believe 25th avenue is what it 's on i 'm not entirely sure *\n",
      "Minimum index: 833544 Value: 6\n",
      "Sentence: which one is cheaper * * *\n",
      "========================================\n"
     ]
    },
    {
     "name": "stderr",
     "output_type": "stream",
     "text": [
      "\r",
      "823it [29:35,  1.94s/it]"
     ]
    },
    {
     "name": "stdout",
     "output_type": "stream",
     "text": [
      "Index ประโยคภาษาไทย: 105166\n",
      "ประโยค: แล้วเรื่องการใช้เทคนิคพิเศษมากเกินไปล่ะ******\n",
      "Same index: 105166 Value: 13 Rank: 447\n",
      "Sentence: how about it overuse of special effect\n",
      "Minimum index: 288778 Value: 7\n",
      "Sentence: make me giggle every time * *\n",
      "========================================\n"
     ]
    },
    {
     "name": "stderr",
     "output_type": "stream",
     "text": [
      "\r",
      "824it [29:37,  1.71s/it]"
     ]
    },
    {
     "name": "stdout",
     "output_type": "stream",
     "text": [
      "Index ประโยคภาษาไทย: 155366\n",
      "ประโยค: มันเป็นศิลปะในห้องครัวชิ้นที่เพอร์เฟคต์*****\n",
      "Same index: 155366 Value: 8 Rank: 0\n",
      "Sentence: perfect piece of kitchen art * *\n",
      "Minimum index: 233480 Value: 8\n",
      "Sentence: and do n't get me started with adorama * * * * * *\n",
      "========================================\n"
     ]
    },
    {
     "name": "stderr",
     "output_type": "stream",
     "text": [
      "\r",
      "825it [29:37,  1.39s/it]"
     ]
    },
    {
     "name": "stdout",
     "output_type": "stream",
     "text": [
      "Index ประโยคภาษาไทย: 226559\n",
      "ประโยค: ราคาในAmazonต่ำกว่าในร้านค้ามาก\n",
      "Same index: 226559 Value: 12 Rank: 244\n",
      "Sentence: the price on amazon is a lot lower than in store * * *\n",
      "Minimum index: 303570 Value: 6\n",
      "Sentence: price at amazon wa very reasonable *\n",
      "========================================\n"
     ]
    },
    {
     "name": "stderr",
     "output_type": "stream",
     "text": [
      "\r",
      "826it [29:38,  1.35s/it]"
     ]
    },
    {
     "name": "stdout",
     "output_type": "stream",
     "text": [
      "Index ประโยคภาษาไทย: 329433\n",
      "ประโยค: ฉันพยายามทุกอย่างเพื่อให้เรื่องนี้ดําเนินต่อไปและในที่สุดก็ยอมแพ้*\n",
      "Same index: 329433 Value: 14 Rank: 464\n",
      "Sentence: i 've tried everything to get this thing going again and finally gave up on it * * * * *\n",
      "Minimum index: 370810 Value: 12\n",
      "Sentence: we tried different outlet different cable *\n",
      "========================================\n"
     ]
    },
    {
     "name": "stderr",
     "output_type": "stream",
     "text": [
      "\r",
      "827it [29:40,  1.31s/it]"
     ]
    },
    {
     "name": "stdout",
     "output_type": "stream",
     "text": [
      "Index ประโยคภาษาไทย: 640229\n",
      "ประโยค: รถมีปัญหาอะไรที่ต้องซ่อมอีกมั้ยคะ*****\n",
      "Same index: 640229 Value: 13 Rank: 451\n",
      "Sentence: is there any other repair that need to be done on the car *\n",
      "Minimum index: 835584 Value: 9\n",
      "Sentence: please add sugar and honey * *\n",
      "========================================\n"
     ]
    },
    {
     "name": "stderr",
     "output_type": "stream",
     "text": [
      "\r",
      "828it [29:41,  1.45s/it]"
     ]
    },
    {
     "name": "stdout",
     "output_type": "stream",
     "text": [
      "Index ประโยคภาษาไทย: 181375\n",
      "ประโยค: โดยรวมๆแล้วเนื้อเรืองก็ถือว่าดีแต่ดูเหมือนจะมีการสื่อสารที่ผิดพลาดระหว่างคนกับหนังสือต้นฉบับ*\n",
      "Same index: 181375 Value: 20 Rank: 167\n",
      "Sentence: the overall story line wa good however there seemed to be a lot of miscommunication between people with whom the book originated * * * * * *\n",
      "Minimum index: 43313 Value: 17\n",
      "Sentence: i just could not make it through this book * * * * *\n",
      "========================================\n"
     ]
    },
    {
     "name": "stderr",
     "output_type": "stream",
     "text": [
      "\r",
      "829it [29:43,  1.40s/it]"
     ]
    },
    {
     "name": "stdout",
     "output_type": "stream",
     "text": [
      "Index ประโยคภาษาไทย: 40702\n",
      "ประโยค: หนังสือเล่มนี้สั้นไปแต่เรื่องราวก็น่าสนใจดี****\n",
      "Same index: 40702 Value: 13 Rank: 434\n",
      "Sentence: this book wa really short but interesting\n",
      "Minimum index: 337946 Value: 9\n",
      "Sentence: my family member have all been pleased with theirs * * * * *\n",
      "========================================\n"
     ]
    },
    {
     "name": "stderr",
     "output_type": "stream",
     "text": [
      "\r",
      "830it [29:58,  5.48s/it]"
     ]
    },
    {
     "name": "stdout",
     "output_type": "stream",
     "text": [
      "Index ประโยคภาษาไทย: 884971\n",
      "ประโยค: FITFLOPรองเท้าแตะผู้หญิงArtknitรุ่นQ84671เพิ่มความโดดเด่นให้เข้ากับลุคการแต่งตัวของคุณด้วยรองเท้าแตะผู้หญิงจากแบรนด์FITFLOPผลิตจากวัสดุคุณภาพดีเพื่อการใช้งานที่ยาวนานออกแบบมาให้กระชับรองรับสรีระของเท้าให้คุณสวมใส่ได้อย่างสบายเท้าตลอดทั้งวันรายละเอียดสินค้ารองเท้าแตะผู้หญิงดูดีอย่างลงตัวด้วยรูปทรงสวยที่โดดเด่นเป็นเอกลักษณ์ผลิตจากวัสดุคุณภาพดีมีความแข็งแรงและทนทานต่อการใช้งานด้วยเทคโนโลยีAnatomicushจึงให้ความรู้สึกผ่อนคลายนุ่มเบาสบายเท้าพื้นรองเท้ายืดหยุ่นสูงป้องกันการลื่นได้อย่างดีให้สัมผัสนุ่มสบายขณะสวมใส่ออกแบบมาให้กระชับรองรับสรีระของรูปเท้าสวมใส่ได้อย่างสบายตลอดทั้งวันสีฟ้ารุ่นQ84671ตารางเปรียบเทียบขนาดสินค้าหมายเหตุสินค้านี้ถูกจัดส่งโดยโรบินสันสาขาพระราม9ซึ่งอาจแยกส่งจากสินค้าชิ้นอื่นในออเดอร์เดียวกันสีของผลิตภัณฑ์ที่แสดงบนเว็บไซต์อาจมีความแตกต่างกันจากการตั้งค่าการแสดงผลของแต่ละหน้าจอ***\n",
      "Same index: 884971 Value: 148 Rank: 0\n",
      "Sentence: fitflop woman 's artknit cross slide sandal q84-671 go comfortable and casual with fitflop woman 's artknit cross slide sandal q84-671 made of quality material for long lasting performance and allows you to walk comfortably all day long product feature casual slide sandal for woman from fitflop made of premium material that is durable and long-lasting come with anatomicush technology that allows you to walk comfortably and light all day long slip-resistant and flexible outsole that make you comfortable all day long designed for the comfort of your foot and allows you enjoy your step everyday color s blue q84-671 size chart remark please note that the merchandise will be delivered from robinson rama 9 which may be separately delivered from other merchandise of the same order color of the product displayed on the website may vary according to color adjustment of each monitor monitor * * *\n",
      "Minimum index: 884971 Value: 148\n",
      "Sentence: fitflop woman 's artknit cross slide sandal q84-671 go comfortable and casual with fitflop woman 's artknit cross slide sandal q84-671 made of quality material for long lasting performance and allows you to walk comfortably all day long product feature casual slide sandal for woman from fitflop made of premium material that is durable and long-lasting come with anatomicush technology that allows you to walk comfortably and light all day long slip-resistant and flexible outsole that make you comfortable all day long designed for the comfort of your foot and allows you enjoy your step everyday color s blue q84-671 size chart remark please note that the merchandise will be delivered from robinson rama 9 which may be separately delivered from other merchandise of the same order color of the product displayed on the website may vary according to color adjustment of each monitor monitor * * *\n",
      "========================================\n"
     ]
    },
    {
     "name": "stderr",
     "output_type": "stream",
     "text": [
      "\r",
      "831it [29:59,  4.20s/it]"
     ]
    },
    {
     "name": "stdout",
     "output_type": "stream",
     "text": [
      "Index ประโยคภาษาไทย: 386359\n",
      "ประโยค: เธอใช้ถ้อยคําที่ซ้ําซากมากมายในการเขียน****\n",
      "Same index: 386359 Value: 9 Rank: 0\n",
      "Sentence: she used so many cliche in writing it * * * * * *\n",
      "Minimum index: 485414 Value: 9\n",
      "Sentence: do you know what kind of package it wa * * * * *\n",
      "========================================\n"
     ]
    },
    {
     "name": "stderr",
     "output_type": "stream",
     "text": [
      "\r",
      "832it [30:13,  7.28s/it]"
     ]
    },
    {
     "name": "stdout",
     "output_type": "stream",
     "text": [
      "Index ประโยคภาษาไทย: 885615\n",
      "ประโยค: FateEXTELLATheUmbralStarวีรบุรุษในตำนานรวมตัวกันเพื่อกำหนดชะตากรรมของโลกในเกมแอ็คชันการต่อสู้ในดินแดนดิจิตอลของSERAPHสงครามจอมเวทศักดิ์สิทธิ์สิ้นสุดลงแต่ผู้ครองแผ่นดินคนใหม่ต้องเผชิญกับความท้าทายและภัยคุกคามจากทุกด้านทำให้เกิดความขัดแย้งและพร้อมจะทำลายมันชื่อเรื่องประกอบด้วยตัวละครที่ชื่นชอบของแฟนตาซีHeroicSpiritsเรียกอีกชื่อว่าServantsเกิดใหม่จากประวัติศาสตร์มนุษย์และตำนานในฐานะคู่ต่อสู้และฝ่ายตรงข้ามตลอดหลายแคมเปญผู้เล่นสามารถเพลิดเพลินไปกับการเล่าเรื่องราวและภาพกราฟฟิคที่สวยงามตลอดจนเนื้อหาของเรื่องราวที่น่าประทับใจคุณสมบัติสินค้าประเภทแผ่นซอฟท์แวร์เกมแนวเกมACTIONสำหรับเล่นกับเครื่องPLAYSTATION4วัสดุที่ใช้BLURAYDISCอื่นๆแผ่นเกมส์เล่นได้เฉพาะเครื่องเล่นเกมส์PLAYSTATION4เท่านั้นแผ่นเกมผลิตในประเทศญี่ปุ่นแพ็คเกจผลิตจากประเทศฮ่องกงโปรดอ่านข้อมูลภาษาก่อนตัดสินใจซื้อพบกับสินค้าP10อบกับฟังก์ชั่นโดนๆที่ออกแบบมาเพื่อคุณและราคาสุดพิเศษที่คุณสามารถเป็นเจ้าของได้แล้ววันนี้ที่wwwpowerbuycoth****\n",
      "Same index: 885615 Value: 149 Rank: 0\n",
      "Sentence: fateextella the umbral star legendary hero gather to determine the fate of the world in this story-driven battlefield action game the famous fate series strike a path to a new stage with fateextella the umbral star a high-speed combat-oriented title in which player face off against enemy army the title feature fan-favorite character heroic spirit also called servant reborn from human history and mythology a both ally and opponent throughout the multiple campaign player can enjoy the deep and detailed storytelling the fate series is known for product features• type software games• game genre action• for playstation4• material used blu-ray disc• other playable disc only playstation4 player game disc manufactured in japan package made in hong kong please read the language before making a purchase * *\n",
      "Minimum index: 885615 Value: 149\n",
      "Sentence: fateextella the umbral star legendary hero gather to determine the fate of the world in this story-driven battlefield action game the famous fate series strike a path to a new stage with fateextella the umbral star a high-speed combat-oriented title in which player face off against enemy army the title feature fan-favorite character heroic spirit also called servant reborn from human history and mythology a both ally and opponent throughout the multiple campaign player can enjoy the deep and detailed storytelling the fate series is known for product features• type software games• game genre action• for playstation4• material used blu-ray disc• other playable disc only playstation4 player game disc manufactured in japan package made in hong kong please read the language before making a purchase * *\n",
      "========================================\n"
     ]
    },
    {
     "name": "stderr",
     "output_type": "stream",
     "text": [
      "\r",
      "833it [30:16,  5.95s/it]"
     ]
    },
    {
     "name": "stdout",
     "output_type": "stream",
     "text": [
      "Index ประโยคภาษาไทย: 269448\n",
      "ประโยค: นี่ไม่ใช่หนังสือที่ไม่ดีแต่มันค่อนข้างธรรมดาในแนวทางของมันส่วนใหญ่เขียนขึ้นสำหรับผู้ที่ต้องการเพิ่มพูนความรู้การขับขี่โดยไม่จำเป็นต้องมีพื้นฐานทางเทคนิคใดๆ****\n",
      "Same index: 269448 Value: 31 Rank: 333\n",
      "Sentence: this is n't a bad book but it 's pretty generic in it approach mostly written for those who are just looking to expand their driving knowledge without needing any technical background * * *\n",
      "Minimum index: 739861 Value: 26\n",
      "Sentence: sure no i 'll take the showing you suggested * * * * *\n",
      "========================================\n"
     ]
    },
    {
     "name": "stderr",
     "output_type": "stream",
     "text": [
      "\r",
      "834it [30:17,  4.54s/it]"
     ]
    },
    {
     "name": "stdout",
     "output_type": "stream",
     "text": [
      "Index ประโยคภาษาไทย: 302946\n",
      "ประโยค: ที่ถูกกล่าวว่าคนนี้เป็นเพียงเล็กน้อยในด้านที่แข็งแรง**\n",
      "Same index: 302946 Value: 11 Rank: 1\n",
      "Sentence: that being said this one wa a little on the sappy side * *\n",
      "Minimum index: 510484 Value: 10\n",
      "Sentence: the work of the tailor is seen on each side * * * *\n",
      "========================================\n"
     ]
    },
    {
     "name": "stderr",
     "output_type": "stream",
     "text": [
      "\r",
      "835it [30:19,  3.75s/it]"
     ]
    },
    {
     "name": "stdout",
     "output_type": "stream",
     "text": [
      "Index ประโยคภาษาไทย: 518507\n",
      "ประโยค: ความต้องการสินเชื่อที่แข็งแกร่งเพิ่มอันตรายที่เกี่ยวข้องกับการชะลอนโยบายแบบเข้มงวดที่เศรษฐกิจมหภาคทั่วไปต้องการ***\n",
      "Same index: 518507 Value: 20 Rank: 567\n",
      "Sentence: the strength of demand for credit increase the danger associated with delaying a tightening of policy that is called for on general macroeconomic ground * * * *\n",
      "Minimum index: 661676 Value: 16\n",
      "Sentence: okay no problem what kind of ride do you want * * * *\n",
      "========================================\n"
     ]
    },
    {
     "name": "stderr",
     "output_type": "stream",
     "text": [
      "\r",
      "836it [30:20,  2.82s/it]"
     ]
    },
    {
     "name": "stdout",
     "output_type": "stream",
     "text": [
      "Index ประโยคภาษาไทย: 537443\n",
      "ประโยค: ความหวานจะถึงในอีกส่งจูบ*\n",
      "Same index: 537443 Value: 5 Rank: 0\n",
      "Sentence: sweetness will reachat muacks muacks * *\n",
      "Minimum index: 200915 Value: 5\n",
      "Sentence: it really touch my heart * *\n",
      "========================================\n"
     ]
    },
    {
     "name": "stderr",
     "output_type": "stream",
     "text": [
      "\r",
      "837it [30:21,  2.16s/it]"
     ]
    },
    {
     "name": "stdout",
     "output_type": "stream",
     "text": [
      "Index ประโยคภาษาไทย: 236411\n",
      "ประโยค: เธอไม่เคยผิดหวัง***\n",
      "Same index: 236411 Value: 4 Rank: 5\n",
      "Sentence: she never disappoints * * * *\n",
      "Minimum index: 391218 Value: 3\n",
      "Sentence: definitely not purple * * * *\n",
      "========================================\n"
     ]
    },
    {
     "name": "stderr",
     "output_type": "stream",
     "text": [
      "\r",
      "838it [30:21,  1.70s/it]"
     ]
    },
    {
     "name": "stdout",
     "output_type": "stream",
     "text": [
      "Index ประโยคภาษาไทย: 146685\n",
      "ประโยค: โดยเฉพาะเมื่อเปรียบเทียบกับร้านค้า**\n",
      "Same index: 146685 Value: 7 Rank: 165\n",
      "Sentence: good price especially when compared to store\n",
      "Minimum index: 47111 Value: 5\n",
      "Sentence: the seller wa great * * *\n",
      "========================================\n"
     ]
    },
    {
     "name": "stderr",
     "output_type": "stream",
     "text": [
      "\r",
      "839it [30:22,  1.39s/it]"
     ]
    },
    {
     "name": "stdout",
     "output_type": "stream",
     "text": [
      "Index ประโยคภาษาไทย: 340812\n",
      "ประโยค: บอกพ่อแม่ว่าอย่าทําอย่างนั้น*\n",
      "Same index: 340812 Value: 6 Rank: 0\n",
      "Sentence: to tell parent do n't do that\n",
      "Minimum index: 548895 Value: 6\n",
      "Sentence: your house downstairs * * * *\n",
      "========================================\n"
     ]
    },
    {
     "name": "stderr",
     "output_type": "stream",
     "text": [
      "\r",
      "840it [30:23,  1.34s/it]"
     ]
    },
    {
     "name": "stdout",
     "output_type": "stream",
     "text": [
      "Index ประโยคภาษาไทย: 586855\n",
      "ประโยค: ช่วยเหลือมาริโอขับรถและเก็บเหรียญการควบคุมปุ่มลูกศรเพื่อย้าย***\n",
      "Same index: 586855 Value: 8 Rank: 0\n",
      "Sentence: help mario drive the tractor and collect coin control arrow key to move *\n",
      "Minimum index: 586855 Value: 8\n",
      "Sentence: help mario drive the tractor and collect coin control arrow key to move *\n",
      "========================================\n"
     ]
    },
    {
     "name": "stderr",
     "output_type": "stream",
     "text": [
      "\r",
      "841it [30:31,  3.25s/it]"
     ]
    },
    {
     "name": "stdout",
     "output_type": "stream",
     "text": [
      "Index ประโยคภาษาไทย: 938173\n",
      "ประโยค: ครีเอทลุคที่แสนดูดีให้กับวันทำงานของคุณหนุ่มๆด้วยเสื้อเชิ้ตแขนยาวจากแบรนด์G2000ที่พร้อมให้คุณจับมิกซ์แอนด์แมทช์เข้ากับกางเกงขายาวตัวโปรดสักตัวและแอคเซสเซอรี่สุดคลาสสิกอย่างนาฬิกาข้อมือเพื่อคอมพลีทลุคที่ดูดีได้ง่าย ๆโดยไม่ต้องพยายามทรงSmartFitเนื้อผ้าเป็นลายจุดFall2018Collectionสวมใส่สบายผลิตจากวัตถุดิบคุณภาพดีไซส์3สีดำหมายเหตุสีของผลิตภัณฑ์ที่แสดงบนเว็บไซต์อาจมีความแตกต่างกันจากการตั้งค่าการแสดงผลสีของแต่ละหน้าจอ******\n",
      "Same index: 938173 Value: 87 Rank: 5\n",
      "Sentence: simply complete your classy gentleman look with this long sleeve shirt from g2000 enhance your charming personality and always be instyle with this item that is also perfect for any occasion smart fit design dot textured fall 2018 collection made from good quality fabric comfortable to wear size 3 black caution in term of item color it may be slightly different from each monitor display and specification * * *\n",
      "Minimum index: 932748 Value: 84\n",
      "Sentence: rounded black lead pencil pencil lead made with modern technology hardly easily breakable alex amiley handle pattern with golden cap hardness h b contains 50 pcs.pack pcs.pack * *\n",
      "========================================\n"
     ]
    },
    {
     "name": "stderr",
     "output_type": "stream",
     "text": [
      "\r",
      "842it [30:33,  2.81s/it]"
     ]
    },
    {
     "name": "stdout",
     "output_type": "stream",
     "text": [
      "Index ประโยคภาษาไทย: 729467\n",
      "ประโยค: ขอโทษอีกครั้งนะคะที่โรงไม่มีรอบฉายเรื่องลิตเติลตอน6 โมงเหมือนกันค่ะ******\n",
      "Same index: 729467 Value: 19 Rank: 575\n",
      "Sentence: sorry again they do n't have a show for little at 6 o'clock either\n",
      "Minimum index: 348247 Value: 13\n",
      "Sentence: not all story need a happy ending either * * * * * *\n",
      "========================================\n"
     ]
    },
    {
     "name": "stderr",
     "output_type": "stream",
     "text": [
      "\r",
      "843it [30:36,  3.07s/it]"
     ]
    },
    {
     "name": "stdout",
     "output_type": "stream",
     "text": [
      "Index ประโยคภาษาไทย: 998900\n",
      "ประโยค: SectionUUCPในคศ 1979นักศึกษามหาวิทยาลัยดุกสองคนได้แก่ทอม ทรัสคอตต์และจิม เอลลิสได้เกิดความคิดที่จะใช้ภาษาเชลล์สคริปต์บอร์นอย่างง่าย ๆเพื่อส่งข่าวและข้อความผ่านสายอนุกรมกับมหาวิทยาลัยนอร์ทแคโรไลนา ณ แชเพิลฮิลล์ที่อยู่ใกล้กันหลังจากซอฟต์แวร์ดังกล่าวได้เผยแพร่สู่สาธารณะ\n",
      "Same index: 998900 Value: 36 Rank: 0\n",
      "Sentence: section :uucp and usenet in 1979 two student at duke university tom truscott and jim elli originated the idea of using bourne shell script to transfer news and message on a serial line uucp connection with nearby university of north carolina at chapel hill * * * * *\n",
      "Minimum index: 823331 Value: 36\n",
      "Sentence: ok. may i please have your name\n",
      "========================================\n"
     ]
    },
    {
     "name": "stderr",
     "output_type": "stream",
     "text": [
      "\r",
      "844it [30:37,  2.35s/it]"
     ]
    },
    {
     "name": "stdout",
     "output_type": "stream",
     "text": [
      "Index ประโยคภาษาไทย: 758884\n",
      "ประโยค: อยากได้พิซซ่าสำหรับประชุมน่ะค่ะ*\n",
      "Same index: 758884 Value: 7 Rank: 161\n",
      "Sentence: need a pizza for the meeting meeting\n",
      "Minimum index: 495624 Value: 6\n",
      "Sentence: yesterday evening 's paper he corrected *\n",
      "========================================\n"
     ]
    },
    {
     "name": "stderr",
     "output_type": "stream",
     "text": [
      "\r",
      "845it [30:39,  2.20s/it]"
     ]
    },
    {
     "name": "stdout",
     "output_type": "stream",
     "text": [
      "Index ประโยคภาษาไทย: 923782\n",
      "ประโยค: มีครบทุกงานช่างคล่องแคล่วทุกงานซ่อมด้วยPUMPKINคีมตัดพลาสติกผลิตจากเหล็กเกรดพิเศษ CrV steel ปากคีมมีความแข็งแรงถึง 6064 HRC แข็งแรงทนทานกว่าคีมทั่วไป ขนาด 6 นิ้ว  ข้อมูลทั่วไป   แบรนด์ PUMPKIN รุ่น 14871 ชนิด คีมตัดพลาสติกด้ามบาง สี ส้ม คุณสมบัติทั่วไป   ขนาด 6 นิ้วน้ำหนัก วัสดุ เหล็กเกรดพิเศษ CrV steel ประเภทหัวคีม  คีมตัดพลาสติก ความแข็งของปากคีม 6064 HRC คุณสมบัติเฉพาะ   ด้ามจับป้องกันไฟฟ้า   คุณสมบัติพิเศษ แข็งแรงทนทานกว่าคีมทั่วไป ****\n",
      "Same index: 923782 Value: 19 Rank: 556\n",
      "Sentence: pumpkin 6-in plastic cutting plier no 14870 orange made from cr-v steel stronger by 60-64 hrc cutting plier 6-in orange color * *\n",
      "Minimum index: 61689 Value: 15\n",
      "Sentence: it stopped working in 15 day *\n",
      "========================================\n"
     ]
    },
    {
     "name": "stderr",
     "output_type": "stream",
     "text": [
      "\r",
      "846it [30:40,  1.92s/it]"
     ]
    },
    {
     "name": "stdout",
     "output_type": "stream",
     "text": [
      "Index ประโยคภาษาไทย: 649315\n",
      "ประโยค: โอ้ไม่นะพี่อยากได้สำหรับวันเสาร์อาทิตย์นี้*****\n",
      "Same index: 649315 Value: 8 Rank: 0\n",
      "Sentence: oh shoot i want them for this weekend * * * * * *\n",
      "Minimum index: 649315 Value: 8\n",
      "Sentence: oh shoot i want them for this weekend * * * * * *\n",
      "========================================\n"
     ]
    },
    {
     "name": "stderr",
     "output_type": "stream",
     "text": [
      "\r",
      "847it [30:41,  1.70s/it]"
     ]
    },
    {
     "name": "stdout",
     "output_type": "stream",
     "text": [
      "Index ประโยคภาษาไทย: 796492\n",
      "ประโยค: อยากจะซ่อมให้เร็วที่สุดน่ะครับ******\n",
      "Same index: 796492 Value: 11 Rank: 365\n",
      "Sentence: i need i wa hoping to get it fixed a soon possible * *\n",
      "Minimum index: 190958 Value: 7\n",
      "Sentence: we paid 32 dollar two month ago *\n",
      "========================================\n"
     ]
    },
    {
     "name": "stderr",
     "output_type": "stream",
     "text": [
      "\r",
      "848it [30:43,  1.56s/it]"
     ]
    },
    {
     "name": "stdout",
     "output_type": "stream",
     "text": [
      "Index ประโยคภาษาไทย: 585759\n",
      "ประโยค: เท่าไหร่มันต้องสูญเสียค่าเช่ารถในการกรุงปราก*****\n",
      "Same index: 585759 Value: 12 Rank: 425\n",
      "Sentence: last year how much did it cost to rent a car in prague *\n",
      "Minimum index: 798878 Value: 8\n",
      "Sentence: it 's just dialing car ha bad juju * * * * * *\n",
      "========================================\n"
     ]
    },
    {
     "name": "stderr",
     "output_type": "stream",
     "text": [
      "\r",
      "849it [30:43,  1.28s/it]"
     ]
    },
    {
     "name": "stdout",
     "output_type": "stream",
     "text": [
      "Index ประโยคภาษาไทย: 661682\n",
      "ประโยค: เร็วที่สุดเลยคะ***\n",
      "Same index: 661682 Value: 5 Rank: 75\n",
      "Sentence: a soon a possible please * *\n",
      "Minimum index: 313368 Value: 4\n",
      "Sentence: i am very disappointed * * *\n",
      "========================================\n"
     ]
    },
    {
     "name": "stderr",
     "output_type": "stream",
     "text": [
      "\r",
      "850it [30:44,  1.09s/it]"
     ]
    },
    {
     "name": "stdout",
     "output_type": "stream",
     "text": [
      "Index ประโยคภาษาไทย: 203744\n",
      "ประโยค: ฉันรักตัวผสมKitchenaidของฉัน\n",
      "Same index: 203744 Value: 6 Rank: 0\n",
      "Sentence: i love my kitchenaid mixer * * *\n",
      "Minimum index: 567902 Value: 6\n",
      "Sentence: rating total number of rating 63 63\n",
      "========================================\n"
     ]
    },
    {
     "name": "stderr",
     "output_type": "stream",
     "text": [
      "\r",
      "851it [30:44,  1.04it/s]"
     ]
    },
    {
     "name": "stdout",
     "output_type": "stream",
     "text": [
      "Index ประโยคภาษาไทย: 188928\n",
      "ประโยค: แนะนำให้ลองเสี่ยงโชคที่อื่นเอานะ\n",
      "Same index: 188928 Value: 7 Rank: 0\n",
      "Sentence: i 'd suggest trying your luck elsewhere\n",
      "Minimum index: 163859 Value: 7\n",
      "Sentence: i lost interest half way through *\n",
      "========================================\n"
     ]
    },
    {
     "name": "stderr",
     "output_type": "stream",
     "text": [
      "\r",
      "852it [30:46,  1.03s/it]"
     ]
    },
    {
     "name": "stdout",
     "output_type": "stream",
     "text": [
      "Index ประโยคภาษาไทย: 260126\n",
      "ประโยค: ฉันมองหาสิ่งนี้ก่อนที่จะผ่านกระบวนการเคลื่อนไหวและพบสิ่งที่ขาด*\n",
      "Same index: 260126 Value: 13 Rank: 66\n",
      "Sentence: i wa looking this up before going through my process of moving and found thing lacking * * * * *\n",
      "Minimum index: 793473 Value: 11\n",
      "Sentence: sure thing good night * * *\n",
      "========================================\n"
     ]
    },
    {
     "name": "stderr",
     "output_type": "stream",
     "text": [
      "\r",
      "853it [30:47,  1.11s/it]"
     ]
    },
    {
     "name": "stdout",
     "output_type": "stream",
     "text": [
      "Index ประโยคภาษาไทย: 426406\n",
      "ประโยค: ในขณะที่รายการนี้มาตามที่แสดงแต่ก็ทํางานได้ไม่ดีเลย\n",
      "Same index: 426406 Value: 12 Rank: 0\n",
      "Sentence: while this item come a shown it doe not perform well at all *\n",
      "Minimum index: 641059 Value: 12\n",
      "Sentence: you 're welcome have a good dinner\n",
      "========================================\n"
     ]
    },
    {
     "name": "stderr",
     "output_type": "stream",
     "text": [
      "\r",
      "854it [30:49,  1.49s/it]"
     ]
    },
    {
     "name": "stdout",
     "output_type": "stream",
     "text": [
      "Index ประโยคภาษาไทย: 919682\n",
      "ประโยค: พัดลมสำหรับโน๊ตบุ๊คแบบ1ช่องสีดำผลิตจากพลาสติกระบายอากาศสำหรับโน๊ตบุ๊ค1ใบพัดต่อด้วยหัวUSBรับประกัน1 ปี******\n",
      "Same index: 919682 Value: 15 Rank: 0\n",
      "Sentence: notebook for 1 channel color black made of plastic ventilation for notebook 1 blade connected with usb head 1 year warranty warranty * * * * * *\n",
      "Minimum index: 919682 Value: 15\n",
      "Sentence: notebook for 1 channel color black made of plastic ventilation for notebook 1 blade connected with usb head 1 year warranty warranty * * * * * *\n",
      "========================================\n"
     ]
    },
    {
     "name": "stderr",
     "output_type": "stream",
     "text": [
      "\r",
      "855it [30:55,  2.86s/it]"
     ]
    },
    {
     "name": "stdout",
     "output_type": "stream",
     "text": [
      "Index ประโยคภาษาไทย: 911148\n",
      "ประโยค: ผลิตจากวัสดุคุณภาพดีสำหรับเป็นอะไหล่เครื่องเจาะมาเพ็ดเอ็กซ์เพิร์ต565000ในชุดประกอบด้วยอะไหล่จานรองหัวเจาะ10ชิ้นและคู่มือการใช้งานขนาดสินค้าเส้นผ่านศูนย์กลาง3 ซมชิ้นขนาดสินค้ารวมแพ็คกว้างxยาวxหนา105x19x075ซมแพ็คสินค้าบรรจุ10ชิ้นแพ็คจำนวน1แพ็คสินค้าประกอบด้วยจานรอง10จานการรับประกันสินค้าสินค้ารับประกัน5 ปีโดยมาเพ็ดฝ**\n",
      "Same index: 911148 Value: 53 Rank: 0\n",
      "Sentence: made of good quality material replacement punch head for maped expert 565000 hole punch come with 10 replacement punch disk and instruction manual diameter 3 cm pc package dimension width x length x thickness 10.5 x 19 x 0.75 cm. pack contains 10 pc pack number of item 1 pack the product consists of 10 punch disk product warranty 5-year warran warran *\n",
      "Minimum index: 911148 Value: 53\n",
      "Sentence: made of good quality material replacement punch head for maped expert 565000 hole punch come with 10 replacement punch disk and instruction manual diameter 3 cm pc package dimension width x length x thickness 10.5 x 19 x 0.75 cm. pack contains 10 pc pack number of item 1 pack the product consists of 10 punch disk product warranty 5-year warran warran *\n",
      "========================================\n"
     ]
    },
    {
     "name": "stderr",
     "output_type": "stream",
     "text": [
      "\r",
      "856it [30:56,  2.20s/it]"
     ]
    },
    {
     "name": "stdout",
     "output_type": "stream",
     "text": [
      "Index ประโยคภาษาไทย: 739288\n",
      "ประโยค: โอเคเดี๋ยวฉันจะสั่งให้ค่ะ\n",
      "Same index: 739288 Value: 12 Rank: 243\n",
      "Sentence: ok let me place that order for you you * * * * *\n",
      "Minimum index: 651569 Value: 6\n",
      "Sentence: okay i would like it outside outside\n",
      "========================================\n"
     ]
    },
    {
     "name": "stderr",
     "output_type": "stream",
     "text": [
      "\r",
      "857it [30:57,  1.92s/it]"
     ]
    },
    {
     "name": "stdout",
     "output_type": "stream",
     "text": [
      "Index ประโยคภาษาไทย: 347702\n",
      "ประโยค: ฉันเป็นแฟนตัวยงของJohnWayneมาตั้งแต่สมัยก่อนด้วยRepublicPictures*\n",
      "Same index: 347702 Value: 13 Rank: 56\n",
      "Sentence: i have been a fan of john wayne since the old day with republic picture\n",
      "Minimum index: 473121 Value: 12\n",
      "Sentence: i got this one at whole food but they stopped carrying them there *\n",
      "========================================\n"
     ]
    },
    {
     "name": "stderr",
     "output_type": "stream",
     "text": [
      "\r",
      "858it [31:07,  4.30s/it]"
     ]
    },
    {
     "name": "stdout",
     "output_type": "stream",
     "text": [
      "Index ประโยคภาษาไทย: 930530\n",
      "ประโยค: REPรีโมทสำหรับเครื่องปรับอากาศSharpรุ่นSH004รีโมทคุณภาำจากแบรนด์REPที่เหมาะสำหรับการควบคุมสั่งการเครื่องปรับอากาศของแบรนด์Sharpโดยเฉพาะใช้งานง่ายไม่ยุ่งยากสินค้ามีความทนทานสามารถทดทดรีโมทเครื่องเดิมของคุณที่พังเสียหายได้เป็นอย่างดีประเภทรีโมทแอร์ใช้กับเครื่องปรับอากาศSHARPสีขาววัสดุที่ใช้พลาสติกการรับประกันเดือน3ช้อปสินค้าคุณภาพที่คุณไว้วางใจ ด้วยราคาที่คุณชื่นชอบสินค้าได้รับการออกให้ได้มาตรฐานมีความทนทานคุ้มค่าต่อการใช้งานคุณสามารถเลือกซื้อสินค้าได้ตามไลฟ์สไตล์ที่คุณชื่นชอบและเหมาะสมกับการใช้งานที่หลากหลายตามความต้องการในราคาโดนใจได้ที่Powerbuyคำแนะนำโปรดตรวจสอบเทียบเคียงกับรีโมทเดิมก่อนการสั่งซื้อ******\n",
      "Same index: 930530 Value: 94 Rank: 0\n",
      "Sentence: rep remote for sharp air conditioning sh-004 high quality remote from the brand rep which is suitable for controlling the air condition of sharp brand especially easy to use hassle-free durable product can test your old remote device that is damaged a well type remote air conditioner used with sharp air conditioner color white material used plastic warranty month 3 shop for best quality product from your trust with your favorite price the product ha been certified to be durable and you can shop for your favorite lifestyle at powerbuy recommendation please check with the original remote before ordering ordering * * * * * *\n",
      "Minimum index: 930530 Value: 94\n",
      "Sentence: rep remote for sharp air conditioning sh-004 high quality remote from the brand rep which is suitable for controlling the air condition of sharp brand especially easy to use hassle-free durable product can test your old remote device that is damaged a well type remote air conditioner used with sharp air conditioner color white material used plastic warranty month 3 shop for best quality product from your trust with your favorite price the product ha been certified to be durable and you can shop for your favorite lifestyle at powerbuy recommendation please check with the original remote before ordering ordering * * * * * *\n",
      "========================================\n"
     ]
    },
    {
     "name": "stderr",
     "output_type": "stream",
     "text": [
      "\r",
      "859it [31:09,  3.41s/it]"
     ]
    },
    {
     "name": "stdout",
     "output_type": "stream",
     "text": [
      "Index ประโยคภาษาไทย: 836600\n",
      "ประโยค: โอเคค่ะได้ค่ะมีโรงหนังที่คิดไว้หรือยังคะ***\n",
      "Same index: 836600 Value: 9 Rank: 1\n",
      "Sentence: okay sure did you have a theater in mind * * * * *\n",
      "Minimum index: 667119 Value: 8\n",
      "Sentence: okay they have next tuesday available doe that work * * * * *\n",
      "========================================\n"
     ]
    },
    {
     "name": "stderr",
     "output_type": "stream",
     "text": [
      "\r",
      "860it [31:17,  4.92s/it]"
     ]
    },
    {
     "name": "stdout",
     "output_type": "stream",
     "text": [
      "Index ประโยคภาษาไทย: 885774\n",
      "ประโยค: รู้สึกสบายในทุกครั้งที่สวมใส่ด้วยกางเกงชั้นในจากแบรนด์JOCKEYUNDERWEARที่เพิ่มความมั่นใจให้แก่สาวๆได้ตลอดทั้งวันกางเกงในไร้ขอบใส่เรียบเนียนกระชับเพิ่มความมั่นใจผลิตจากผ้าไมโครไฟเบอร์และสแปนเด็กซ์สวมใส่สบายไม่ระคายเคืองไซส์LXLรอบเอว2931รอบอก3738สีเบจคำแนะนำในการดูแลรักษาห้ามใช้น้ำยากัดสีผ้าควรตากในที่ร่มลมโกรกหมายเหตุสีของผลิตภัณฑ์ที่แสดงบนเว็บไซต์อาจมีความแตกต่างกันจากการตั้งค่าการแสดงผลของแต่ละหน้าจอ**\n",
      "Same index: 885774 Value: 82 Rank: 1\n",
      "Sentence: feel comfortable every time you wear underwear with the brand jockey underwear added a girl confidence throughout the day hipster laser style no panty line promise smooth in coverage without constriction comfortable to wear 95 microfiber 5 spandex size lxl waist 29-31″hip 37-38″color beige care instruction no bleach should be dry in the air caution in term of item color it may be slightly different from each monitor display and specification * * * * * *\n",
      "Minimum index: 908165 Value: 80\n",
      "Sentence: low heel with ankle buckle come in 3 color comfortable to wear with adjustable ankle buckle low heel made from upper outsole fabric rubber comfortable to wear imported from china size 36 height 3 inch color beige caution in term of item color it may be slightly different from each monitor display and specification * *\n",
      "========================================\n"
     ]
    },
    {
     "name": "stderr",
     "output_type": "stream",
     "text": [
      "\r",
      "861it [31:18,  3.62s/it]"
     ]
    },
    {
     "name": "stdout",
     "output_type": "stream",
     "text": [
      "Index ประโยคภาษาไทย: 687332\n",
      "ประโยค: อยากได้ไซส์อะไรคะ***\n",
      "Same index: 687332 Value: 4 Rank: 0\n",
      "Sentence: what size are looking for * *\n",
      "Minimum index: 137248 Value: 4\n",
      "Sentence: also work fairly well * * *\n",
      "========================================\n"
     ]
    },
    {
     "name": "stderr",
     "output_type": "stream",
     "text": [
      "\r",
      "862it [31:18,  2.73s/it]"
     ]
    },
    {
     "name": "stdout",
     "output_type": "stream",
     "text": [
      "Index ประโยคภาษาไทย: 502437\n",
      "ประโยค: มันเป็นถ้อยคำที่สละสลวย**\n",
      "Same index: 502437 Value: 4 Rank: 0\n",
      "Sentence: that is a euphemism * * *\n",
      "Minimum index: 235819 Value: 4\n",
      "Sentence: quality is okay for price * *\n",
      "========================================\n"
     ]
    },
    {
     "name": "stderr",
     "output_type": "stream",
     "text": [
      "\r",
      "863it [31:19,  2.10s/it]"
     ]
    },
    {
     "name": "stdout",
     "output_type": "stream",
     "text": [
      "Index ประโยคภาษาไทย: 963038\n",
      "ประโยค: กล่องใส่แฟ้มแขวน มีฝาปิด เขียวอ่อน วินด์เซิฟ******\n",
      "Same index: 963038 Value: 9 Rank: 328\n",
      "Sentence: windsurf suspension file box with cap light green green * * * * *\n",
      "Minimum index: 878869 Value: 1\n",
      "Sentence: dr. srisuda chongsithiphol * * * * *\n",
      "========================================\n"
     ]
    },
    {
     "name": "stderr",
     "output_type": "stream",
     "text": [
      "\r",
      "864it [31:22,  2.54s/it]"
     ]
    },
    {
     "name": "stdout",
     "output_type": "stream",
     "text": [
      "Index ประโยคภาษาไทย: 907762\n",
      "ประโยค: เทปวัดที่ระยะยาวแบบตลับปิดเนื้อเทปใยแก้วเต็มความกว้าง13มมตัวหนังสือพิมพ์นูนด้วยเรซิ่นเพื่อป้องกันการเลือนหายสายเทปเคลือบีอกชั้นด้วยPVCใสเพื่อความคงทนขนาดสินค้ายาว10 เมตรจำนวน1ม้วน***\n",
      "Same index: 907762 Value: 37 Rank: 1\n",
      "Sentence: long range measuring rule reel 13 mm assemble fiberglass full of rope resin embossed letter protect from faded scale the measuring tape coated pv c for superior durability product length 10 m. number of item 1 reel reel * * * *\n",
      "Minimum index: 126385 Value: 36\n",
      "Sentence: one good book can keep me entertained well into day if it good *\n",
      "========================================\n"
     ]
    },
    {
     "name": "stderr",
     "output_type": "stream",
     "text": [
      "\r",
      "865it [31:23,  1.97s/it]"
     ]
    },
    {
     "name": "stdout",
     "output_type": "stream",
     "text": [
      "Index ประโยคภาษาไทย: 418884\n",
      "ประโยค: มันไม่ได้อ่านหนัก**\n",
      "Same index: 418884 Value: 4 Rank: 1\n",
      "Sentence: it 's not heavy reading * *\n",
      "Minimum index: 351241 Value: 3\n",
      "Sentence: very poorly made product * * *\n",
      "========================================\n"
     ]
    },
    {
     "name": "stderr",
     "output_type": "stream",
     "text": [
      "\r",
      "866it [31:30,  3.36s/it]"
     ]
    },
    {
     "name": "stdout",
     "output_type": "stream",
     "text": [
      "Index ประโยคภาษาไทย: 862152\n",
      "ประโยค: เก้าอี้สำนักงานระดับผู้บริหารพนักพิงและที่นั่งขึ้นโครงไม้บุฟองน้ำหุ้มหนังBondedLeatherเสริมLumbarSupportช่วยรองรับแผ่นหลังช่วงล่างตามหลักสรีรศาสตร์พนักพิงสูงรองรับช่วงลำคอและศีรษะที่วางแขนบุฟองน้ำหุ้มหนังBondedLeatherสามารถพับขึ้นได้ขาไนล่อนขึ้นรูปล้อไนล่อนคู่สีดำสามารถโยกเอนและหมุนได้รอบตัวปรับระดับเก้าอี้ระบบGasLiftingผ่านการรับรองตามมาตรฐานของANSIBIFMA\n",
      "Same index: 862152 Value: 70 Rank: 1\n",
      "Sentence: bonded leather sponge-padded wood backrest and seat construction lumbar support to ergonomically support lower back high backrest to support neck and head folding bonded leather-upholstered sponge-padded armrest steel base with black nylon castor provides tiltability and 360 degree swivel rotation gas lifting system for seat height adjustment certified by ansibifma standard f f * * *\n",
      "Minimum index: 87688 Value: 69\n",
      "Sentence: you have to manually hit a button that you hope turn out to be right before going into sleep mode *\n",
      "========================================\n"
     ]
    },
    {
     "name": "stderr",
     "output_type": "stream",
     "text": [
      "\r",
      "867it [31:30,  2.56s/it]"
     ]
    },
    {
     "name": "stdout",
     "output_type": "stream",
     "text": [
      "Index ประโยคภาษาไทย: 655729\n",
      "ประโยค: อูเบอร์หรือลิฟท์คะ**\n",
      "Same index: 655729 Value: 8 Rank: 258\n",
      "Sentence: would you like a uber or a lyft * * * * * *\n",
      "Minimum index: 534540 Value: 5\n",
      "Sentence: ok all set set * * *\n",
      "========================================\n"
     ]
    },
    {
     "name": "stderr",
     "output_type": "stream",
     "text": [
      "\r",
      "868it [31:32,  2.14s/it]"
     ]
    },
    {
     "name": "stdout",
     "output_type": "stream",
     "text": [
      "Index ประโยคภาษาไทย: 435103\n",
      "ประโยค: ฉันมีปัญหาเดียวกันกับทั้งสองหน่วยของฉัน******\n",
      "Same index: 435103 Value: 10 Rank: 310\n",
      "Sentence: i 'm having this same problem with both of my unit * * *\n",
      "Minimum index: 790657 Value: 7\n",
      "Sentence: how can i help * * *\n",
      "========================================\n"
     ]
    },
    {
     "name": "stderr",
     "output_type": "stream",
     "text": [
      "\r",
      "869it [31:33,  2.04s/it]"
     ]
    },
    {
     "name": "stdout",
     "output_type": "stream",
     "text": [
      "Index ประโยคภาษาไทย: 355699\n",
      "ประโยค: วิทยาศาสตร์ไม่จริงมากนักดังนั้นบางส่วนจึงดูไม่น่าเชื่อหรือเป็นที่รู้จักแต่มีการกระทํามากมาย**\n",
      "Same index: 355699 Value: 15 Rank: 0\n",
      "Sentence: not much real science so some part seemed unbelievable or far-fetched but there wa lot of action * * * *\n",
      "Minimum index: 355699 Value: 15\n",
      "Sentence: not much real science so some part seemed unbelievable or far-fetched but there wa lot of action * * * *\n",
      "========================================\n"
     ]
    },
    {
     "name": "stderr",
     "output_type": "stream",
     "text": [
      "\r",
      "870it [31:35,  1.80s/it]"
     ]
    },
    {
     "name": "stdout",
     "output_type": "stream",
     "text": [
      "Index ประโยคภาษาไทย: 77692\n",
      "ประโยค: เนื้อเรื่องจะช้าห่อยก่อนที่จะดีขึ้นและน่าสนใจ*****\n",
      "Same index: 77692 Value: 11 Rank: 339\n",
      "Sentence: this story is a bit slow going before getting better and more interesting *\n",
      "Minimum index: 160617 Value: 8\n",
      "Sentence: save up for something better * *\n",
      "========================================\n"
     ]
    },
    {
     "name": "stderr",
     "output_type": "stream",
     "text": [
      "\r",
      "871it [31:36,  1.65s/it]"
     ]
    },
    {
     "name": "stdout",
     "output_type": "stream",
     "text": [
      "Index ประโยคภาษาไทย: 214464\n",
      "ประโยค: แมวของฉันไปที่สระว่ายน้ำหนึ่งครั้ง******\n",
      "Same index: 214464 Value: 13 Rank: 416\n",
      "Sentence: my cat went in the pool once\n",
      "Minimum index: 434317 Value: 7\n",
      "Sentence: this will be our go out treat every time * * * * *\n",
      "========================================\n"
     ]
    },
    {
     "name": "stderr",
     "output_type": "stream",
     "text": [
      "\r",
      "872it [31:44,  3.51s/it]"
     ]
    },
    {
     "name": "stdout",
     "output_type": "stream",
     "text": [
      "Index ประโยคภาษาไทย: 944053\n",
      "ประโยค: คลายร้อนพร้อมกระโดดลงสระด้วยเสื้อว่ายน้ำผู้ชายARENAรุ่นAO7MJ1ดีไซน์สวยให้คุณเคลื่อนไหวได้อย่างอิสระและสบายตัวเนื้อผ้าNylon80และPolyurethane20เนื้อผ้ายืดได้2ทิศทางทั้งแนวขวางและแนวตั้งเนื้อผ้าเบาไม่อมน้ำแห้งเร็วเนื้อผ้าทนต่อสารคลอรีนกันเชื้อราสีดำไซส์Lหมายเหตุสีของผลิตภัณฑ์ที่แสดงบนเว็บไซต์อาจมีความแตกต่างกันจากการตั้งค่าการแสดงผลของแต่ละหน้าจอ***\n",
      "Same index: 944053 Value: 74 Rank: 0\n",
      "Sentence: swim session is coming enjoy to swimming with arena men 's rash guard ao7 mj1 made of nylon 80 and polyurethane 20 freedom to move 2-way stretchable durable quick-drying chlorine resistant color black size l note in term of item color it may be slightly different from each monitor display and specification * * * *\n",
      "Minimum index: 944053 Value: 74\n",
      "Sentence: swim session is coming enjoy to swimming with arena men 's rash guard ao7 mj1 made of nylon 80 and polyurethane 20 freedom to move 2-way stretchable durable quick-drying chlorine resistant color black size l note in term of item color it may be slightly different from each monitor display and specification * * * *\n",
      "========================================\n"
     ]
    },
    {
     "name": "stderr",
     "output_type": "stream",
     "text": [
      "\r",
      "873it [31:45,  2.99s/it]"
     ]
    },
    {
     "name": "stdout",
     "output_type": "stream",
     "text": [
      "Index ประโยคภาษาไทย: 799845\n",
      "ประโยค: สวัสดีค่ะเป็นยังไงบ้างคะรบกวนช่วยจองตั๋วดูหนังล่วงหน้าให้หน่อยได้ไหมคะ****\n",
      "Same index: 799845 Value: 17 Rank: 224\n",
      "Sentence: hey how are you doing can you help me get some movie ticket for something i want to see later *\n",
      "Minimum index: 68330 Value: 13\n",
      "Sentence: i got this a a christmas gift after reading other review * * *\n",
      "========================================\n"
     ]
    },
    {
     "name": "stderr",
     "output_type": "stream",
     "text": [
      "\r",
      "874it [31:47,  2.65s/it]"
     ]
    },
    {
     "name": "stdout",
     "output_type": "stream",
     "text": [
      "Index ประโยคภาษาไทย: 64273\n",
      "ประโยค: ถ้ากำลังมองหาเรื่องราวความรักที่สร้างแรงบันดาลใจล่ะก็อย่าไปเสียเงินกับเรื่องนี้*****\n",
      "Same index: 64273 Value: 16 Rank: 111\n",
      "Sentence: if you are looking for an inspirational love story do n't waste your money on this one * * * *\n",
      "Minimum index: 780396 Value: 14\n",
      "Sentence: do you have soy * * *\n",
      "========================================\n"
     ]
    },
    {
     "name": "stderr",
     "output_type": "stream",
     "text": [
      "\r",
      "875it [31:49,  2.42s/it]"
     ]
    },
    {
     "name": "stdout",
     "output_type": "stream",
     "text": [
      "Index ประโยคภาษาไทย: 146297\n",
      "ประโยค: จีพีเอสตัวเก่าของฉันพังและฉันไม่รู้ว่าอะไรอีกที่จะทำงานได้ดี*****\n",
      "Same index: 146297 Value: 18 Rank: 568\n",
      "Sentence: my old gps broke and i did n't know what else would work good\n",
      "Minimum index: 450117 Value: 14\n",
      "Sentence: ca n't wait to see how they all work out * * * *\n",
      "========================================\n"
     ]
    },
    {
     "name": "stderr",
     "output_type": "stream",
     "text": [
      "\r",
      "876it [31:50,  1.88s/it]"
     ]
    },
    {
     "name": "stdout",
     "output_type": "stream",
     "text": [
      "Index ประโยคภาษาไทย: 707786\n",
      "ประโยค: อยากไปดูเรื่องนี้ที่เมืองไหนล่ะ*\n",
      "Same index: 707786 Value: 10 Rank: 369\n",
      "Sentence: okay what city are you going to watch this movie * * * *\n",
      "Minimum index: 675982 Value: 5\n",
      "Sentence: in salem oregon * * * *\n",
      "========================================\n"
     ]
    },
    {
     "name": "stderr",
     "output_type": "stream",
     "text": [
      "\r",
      "877it [31:57,  3.59s/it]"
     ]
    },
    {
     "name": "stdout",
     "output_type": "stream",
     "text": [
      "Index ประโยคภาษาไทย: 9025\n",
      "ประโยค: เพื่อเป็นการแลกเปลี่ยนพลรบหลายพันนายของแนวร่วมปลดปล่อยอิสลามโมโรจะต้องวางอาวุธตามระยะเวลาที่กำหนดรัฐบาลฟิลิปปินส์จะยังคงกำลังทหารและตำรวจไว้ในพื้นที่นายเอบราฮิม มูรัด ผู้นำแนวร่วมปลดปล่อยอิสลามโมโรกล่าวว่าการก้าวไปสู่เขตปกครองตนเองจะส่งผลให้กลุ่มแบ่งแยกดินแดนที่แยกตัวออกไปกลับมาสู่กระบวนการทางการเมืองกลุ่มที่แยกตัวออกไปเหล่านี้ล้วนเป็นผลมาจากความไม่พอใจกับกระบวนการสันติภาพนายมูรัดกล่าวตามรายงานของรอยเตอร์เมื่อใดก็ตามที่บรรดากลุ่มเล็กๆไม่ยอมรับนักรบต่างประเทศอีกต่อไปนักรบเหล่านี้ก็จะไม่สามารถเข้ามายังฟิลิปปินส์ได้****\n",
      "Same index: 9025 Value: 82 Rank: 35\n",
      "Sentence: in return thousand of combatant from the moro islamic liberation front milf are expected to lay down their weapon in phase the philippine government will retain police and military force in the area ebrahim murad milf chairman said the move toward autonomy will bring splinter separatist group back into the political process all these splinter group are a result of the frustration with the peace process he said according to reuters the moment the small group no longer accept the foreign element they can no longer come to the philippine * * *\n",
      "Minimum index: 229726 Value: 79\n",
      "Sentence: the only reason that i kept this book wa because a few page fell out a soon a i began reading it * * * * * *\n",
      "========================================\n"
     ]
    },
    {
     "name": "stderr",
     "output_type": "stream",
     "text": [
      "\r",
      "878it [31:59,  2.87s/it]"
     ]
    },
    {
     "name": "stdout",
     "output_type": "stream",
     "text": [
      "Index ประโยคภาษาไทย: 684846\n",
      "ประโยค: สวัสดีค่ะน้องอยากสั่งกาแฟหน่อยค่ะ******\n",
      "Same index: 684846 Value: 9 Rank: 252\n",
      "Sentence: hello assistant i would like to place a coffee drink order * * *\n",
      "Minimum index: 823707 Value: 7\n",
      "Sentence: hi i 'd like to order a uber * * * * * *\n",
      "========================================\n"
     ]
    },
    {
     "name": "stderr",
     "output_type": "stream",
     "text": [
      "\r",
      "879it [31:59,  2.21s/it]"
     ]
    },
    {
     "name": "stdout",
     "output_type": "stream",
     "text": [
      "Index ประโยคภาษาไทย: 552395\n",
      "ประโยค: ว้าเอิ่มฉันช่วยเธอหานะ*\n",
      "Same index: 552395 Value: 6 Rank: 1\n",
      "Sentence: waa erm i help u find find\n",
      "Minimum index: 290484 Value: 5\n",
      "Sentence: please someone help me * * *\n",
      "========================================\n"
     ]
    },
    {
     "name": "stderr",
     "output_type": "stream",
     "text": [
      "\r",
      "880it [32:00,  1.74s/it]"
     ]
    },
    {
     "name": "stdout",
     "output_type": "stream",
     "text": [
      "Index ประโยคภาษาไทย: 679082\n",
      "ประโยค: ลองฮอร์นสเต็กเฮ้าส์ดีมั้ยคะ\n",
      "Same index: 679082 Value: 7 Rank: 6\n",
      "Sentence: how about longhorn steakhouse * * *\n",
      "Minimum index: 55946 Value: 6\n",
      "Sentence: the rest are just nice background music\n",
      "========================================\n"
     ]
    },
    {
     "name": "stderr",
     "output_type": "stream",
     "text": [
      "\r",
      "881it [32:01,  1.41s/it]"
     ]
    },
    {
     "name": "stdout",
     "output_type": "stream",
     "text": [
      "Index ประโยคภาษาไทย: 782181\n",
      "ประโยค: โอเคค่ะอยากทานอะไรดีคะ\n",
      "Same index: 782181 Value: 13 Rank: 272\n",
      "Sentence: got it and what were you interested in eating * * * * *\n",
      "Minimum index: 696333 Value: 6\n",
      "Sentence: ok how many ticket would you like\n",
      "========================================\n"
     ]
    },
    {
     "name": "stderr",
     "output_type": "stream",
     "text": [
      "\r",
      "882it [32:07,  2.93s/it]"
     ]
    },
    {
     "name": "stdout",
     "output_type": "stream",
     "text": [
      "Index ประโยคภาษาไทย: 986364\n",
      "ประโยค: ปัจจัยอื่นๆของสภาพภูมิอากาศจะเป็นแบบไดนามิกมากขึ้นเช่นการไหลเวียนของน้ำในมหาสมุทรทำให้น้ำในมหาสมุทรแอตแลนติกตอนเหนืออุ่นกว่าแอ่งมหาสมุทรอื่นๆอยู่5C9Fกระแสน้ำอื่นๆในมหาสมุทรจะกระจายความร้อนระหว่างแผ่นดินกับน้ำในระดับภูมิภาคมากกว่าความหนาแน่นและชนิดของพืชที่ปกคลุมจะมีผลต่อการดูดซึมความร้อนจากแสงอาทิตย์******\n",
      "Same index: 986364 Value: 62 Rank: 84\n",
      "Sentence: other climate determinant are more dynamic the thermohaline circulation of the ocean lead to a 5 °c 9 °f warming of the northern atlantic ocean compared to other ocean basin other ocean current redistribute heat between land and water on a more regional scale the density and type of vegetation coverage affect solar heat absorption water retention and rainfall on a regional level *\n",
      "Minimum index: 387158 Value: 60\n",
      "Sentence: one other thing that bugged me is how much more expensive their camera are than mine * * * * *\n",
      "========================================\n"
     ]
    },
    {
     "name": "stderr",
     "output_type": "stream",
     "text": [
      "\r",
      "883it [32:16,  4.63s/it]"
     ]
    },
    {
     "name": "stdout",
     "output_type": "stream",
     "text": [
      "Index ประโยคภาษาไทย: 852327\n",
      "ประโยค: ใส่ความเท่เปลี่ยนสไตล์ไปกับกับรองเท้าผ้าใบNEWBALANCEรุ่น300Courtที่ดีไซน์แบบคลาสสิคให้ความรู้สึกสบายยามสวมใส่ด้วยหนังกลับและผ้าตาข่ายในส่วนupperและMidsoleเทคโนโลยีRevliteที่จะทำให้คุณแฮปปี้ทุกครั้งที่สวมใส่ทำจากผ้าMeshและหนังกลับซึ่งระบายอากาศได้ดีและมีความทนทานน้ำหนักเบาสวมใส่ได้หลายโอกาสMidsoleมีนวัตกรรมRevliteให้ความนุ่มสบายมากขึ้นกว่าโฟมประเภทอื่นๆ30 Outsoleเป็นยางมีความยึดเกาะถนนได้ดีเยี่ยมสีเทาไซส์US10หมายเหตุสีของผลิตภัณฑ์ที่แสดงบนเว็บไซต์อาจมีความแตกต่างกันจากการตั้งค่าการแสดงผลของแต่ละหน้าจอ***\n",
      "Same index: 852327 Value: 109 Rank: 978\n",
      "Sentence: a court classic reinvented for everyday wear the new balance 300 feature a premium upper lightweight re vlite midsole cushioning and heritage-inspired detail that will keep you reaching for this sneaker day after day quality nb construction and unbeatable comfort mean unmatched durability for lasting wear the woman s 300 sneaker is meant to be your next everyday shoe premium material look good and are street-ready so you can sport this throwback style for all your adventure bootie construction rubber outsole suedemesh upper re vlite midsole offer ulta-lightweight cushioning support color grey size us10 note in term of item color it may be slightly different from each monitor display and specification *\n",
      "Minimum index: 342097 Value: 90\n",
      "Sentence: it made life in my sewing room much easier having a set of glove instead of buying individually * * *\n",
      "========================================\n"
     ]
    },
    {
     "name": "stderr",
     "output_type": "stream",
     "text": [
      "\r",
      "884it [32:16,  3.44s/it]"
     ]
    },
    {
     "name": "stdout",
     "output_type": "stream",
     "text": [
      "Index ประโยคภาษาไทย: 276017\n",
      "ประโยค: มันไม่ได้มาตามที่อธิบายไว้*\n",
      "Same index: 276017 Value: 7 Rank: 177\n",
      "Sentence: it did n't come in a described though * * * * * *\n",
      "Minimum index: 563506 Value: 5\n",
      "Sentence: oh no d= d= * * *\n",
      "========================================\n"
     ]
    },
    {
     "name": "stderr",
     "output_type": "stream",
     "text": [
      "\r",
      "885it [32:17,  2.59s/it]"
     ]
    },
    {
     "name": "stdout",
     "output_type": "stream",
     "text": [
      "Index ประโยคภาษาไทย: 647833\n",
      "ประโยค: ขอบคุณเช่นกันค่ะ****\n",
      "Same index: 647833 Value: 2 Rank: 0\n",
      "Sentence: thank you too * * * *\n",
      "Minimum index: 647833 Value: 2\n",
      "Sentence: thank you too * * * *\n",
      "========================================\n"
     ]
    },
    {
     "name": "stderr",
     "output_type": "stream",
     "text": [
      "\r",
      "886it [32:20,  2.73s/it]"
     ]
    },
    {
     "name": "stdout",
     "output_type": "stream",
     "text": [
      "Index ประโยคภาษาไทย: 866263\n",
      "ประโยค: ปากกาหัวเข็มแบบปลอกเส้นเล็กคมชัดให้รายละเอียดได้ดีสำหรับงานเขียนตัดเส้นระบายสีและสร้างสรรค์ผลงานศิลปะต่างๆหมึก12สีขนาดหัวปากกา04มมบรรจุ12ด้ามแพ็คจำนวน1แพ็ค*\n",
      "Same index: 866263 Value: 27 Rank: 0\n",
      "Sentence: capped fineliners provide detailed slim line ideal for highlighting line painting making artwork 12 color of ink point size 0.4 mm contains 12 pcs.pack number of item 1 pack pack * * * * *\n",
      "Minimum index: 866263 Value: 27\n",
      "Sentence: capped fineliners provide detailed slim line ideal for highlighting line painting making artwork 12 color of ink point size 0.4 mm contains 12 pcs.pack number of item 1 pack pack * * * * *\n",
      "========================================\n"
     ]
    },
    {
     "name": "stderr",
     "output_type": "stream",
     "text": [
      "\r",
      "887it [32:21,  2.29s/it]"
     ]
    },
    {
     "name": "stdout",
     "output_type": "stream",
     "text": [
      "Index ประโยคภาษาไทย: 644448\n",
      "ประโยค: โอเคขอฉันเช็คก่อนว่ามีโต๊ะว่างที่ร้านไหม**\n",
      "Same index: 644448 Value: 11 Rank: 2\n",
      "Sentence: ok let me see what 's available there there * * * * *\n",
      "Minimum index: 827962 Value: 10\n",
      "Sentence: ok and what problem are you having with it * * * * *\n",
      "========================================\n"
     ]
    },
    {
     "name": "stderr",
     "output_type": "stream",
     "text": [
      "\r",
      "888it [32:27,  3.26s/it]"
     ]
    },
    {
     "name": "stdout",
     "output_type": "stream",
     "text": [
      "Index ประโยคภาษาไทย: 621166\n",
      "ประโยค: ผ้าม่านที่บ้านทำงานในพื้นที่ดังกล่าวแคบไหลห้องแสงแดดมากดังนั้นการเลือกที่ดีที่สุดสำหรับห้องครัวขนาดเล็กโดยไม่คำนึงถึงรูปแบบที่มีผ้าม่านโปร่งแสงผ้าแสงธรรมดาที่แท้จริงจะเติมอากาศของห้องพักลืมเกี่ยวกับรูปแบบที่ซับซ้อนของข้ออ้างและรายละเอียดผ้าม่านlambrequinsม่านที่อุดมไปด้วยทั้งหมดนี้เป็นสิ่งที่สวยงามอย่างแน่นอนแต่ก็จะหมักหมมภายใน**\n",
      "Same index: 621166 Value: 56 Rank: 0\n",
      "Sentence: home curtain function in such a narrow space -flowing the room a much sunlight therefore the best choice for a small kitchen regardless of the style are the translucent curtain plain light fabric that will literally fill the air of the room forget about complex form of pretentiousness and detail curtain with lambrequin rich drapery all this is certainly beautiful but it will only pile interior * * * *\n",
      "Minimum index: 621166 Value: 56\n",
      "Sentence: home curtain function in such a narrow space -flowing the room a much sunlight therefore the best choice for a small kitchen regardless of the style are the translucent curtain plain light fabric that will literally fill the air of the room forget about complex form of pretentiousness and detail curtain with lambrequin rich drapery all this is certainly beautiful but it will only pile interior * * * *\n",
      "========================================\n"
     ]
    },
    {
     "name": "stderr",
     "output_type": "stream",
     "text": [
      "\r",
      "889it [32:27,  2.47s/it]"
     ]
    },
    {
     "name": "stdout",
     "output_type": "stream",
     "text": [
      "Index ประโยคภาษาไทย: 502321\n",
      "ประโยค: พลังงานแสงอาทิตย์เป็นเชื้อเพลิงให้รถยนต์ไฟฟ้า*\n",
      "Same index: 502321 Value: 5 Rank: 0\n",
      "Sentence: solar energy fueled the electric car *\n",
      "Minimum index: 811096 Value: 5\n",
      "Sentence: ok is bbq restaurant ok * *\n",
      "========================================\n"
     ]
    },
    {
     "name": "stderr",
     "output_type": "stream",
     "text": [
      "\r",
      "890it [32:29,  2.09s/it]"
     ]
    },
    {
     "name": "stdout",
     "output_type": "stream",
     "text": [
      "Index ประโยคภาษาไทย: 56359\n",
      "ประโยค: มันยากที่จะเข้าใจตัวแทนการบริการของพวกเขาอ่ะ****\n",
      "Same index: 56359 Value: 9 Rank: 0\n",
      "Sentence: it is very difficult to understand their service rep * * * * *\n",
      "Minimum index: 139381 Value: 9\n",
      "Sentence: probably had other factor * * *\n",
      "========================================\n"
     ]
    },
    {
     "name": "stderr",
     "output_type": "stream",
     "text": [
      "\r",
      "891it [32:29,  1.68s/it]"
     ]
    },
    {
     "name": "stdout",
     "output_type": "stream",
     "text": [
      "Index ประโยคภาษาไทย: 220626\n",
      "ประโยค: ผลิตภัณฑ์ทำงานได้ตามที่ตั้งใจไว้*\n",
      "Same index: 220626 Value: 5 Rank: 0\n",
      "Sentence: the product is working a intended *\n",
      "Minimum index: 299012 Value: 5\n",
      "Sentence: this story took off right away *\n",
      "========================================\n"
     ]
    },
    {
     "name": "stderr",
     "output_type": "stream",
     "text": [
      "\r",
      "892it [32:30,  1.38s/it]"
     ]
    },
    {
     "name": "stdout",
     "output_type": "stream",
     "text": [
      "Index ประโยคภาษาไทย: 470956\n",
      "ประโยค: ฉันแนะนําให้ดู**\n",
      "Same index: 470956 Value: 5 Rank: 0\n",
      "Sentence: i recommend seeing it * * *\n",
      "Minimum index: 301065 Value: 5\n",
      "Sentence: also ordered season 1 3 * *\n",
      "========================================\n"
     ]
    },
    {
     "name": "stderr",
     "output_type": "stream",
     "text": [
      "\r",
      "893it [32:31,  1.15s/it]"
     ]
    },
    {
     "name": "stdout",
     "output_type": "stream",
     "text": [
      "Index ประโยคภาษาไทย: 271415\n",
      "ประโยค: ทั้งสองส่วนช้ามากไม่สนุกเลย\n",
      "Same index: 271415 Value: 12 Rank: 259\n",
      "Sentence: both part are very slow not fun at all * * * * *\n",
      "Minimum index: 743842 Value: 6\n",
      "Sentence: okay thanks so much * * *\n",
      "========================================\n"
     ]
    },
    {
     "name": "stderr",
     "output_type": "stream",
     "text": [
      "\r",
      "894it [32:32,  1.17s/it]"
     ]
    },
    {
     "name": "stdout",
     "output_type": "stream",
     "text": [
      "Index ประโยคภาษาไทย: 658530\n",
      "ประโยค: รอบต่อไปที่ว่างคือสามทุ่ม15เลยใช่ไหม******\n",
      "Same index: 658530 Value: 8 Rank: 21\n",
      "Sentence: the next available time wa 9:15 *\n",
      "Minimum index: 299060 Value: 7\n",
      "Sentence: amazon is great on return however *\n",
      "========================================\n"
     ]
    },
    {
     "name": "stderr",
     "output_type": "stream",
     "text": [
      "\r",
      "895it [32:32,  1.02s/it]"
     ]
    },
    {
     "name": "stdout",
     "output_type": "stream",
     "text": [
      "Index ประโยคภาษาไทย: 723448\n",
      "ประโยค: จอนโจนส์ครับ8088899988ครับ\n",
      "Same index: 723448 Value: 6 Rank: 0\n",
      "Sentence: jon jones 808-889-9988 808-889-9988 * * *\n",
      "Minimum index: 723448 Value: 6\n",
      "Sentence: jon jones 808-889-9988 808-889-9988 * * *\n",
      "========================================\n"
     ]
    },
    {
     "name": "stderr",
     "output_type": "stream",
     "text": [
      "\r",
      "896it [32:34,  1.08s/it]"
     ]
    },
    {
     "name": "stdout",
     "output_type": "stream",
     "text": [
      "Index ประโยคภาษาไทย: 761010\n",
      "ประโยค: ค่ะขอเช็กดูก่อนว่าว่างมั้ยนะคะ******\n",
      "Same index: 761010 Value: 14 Rank: 457\n",
      "Sentence: ok great let me check the availability\n",
      "Minimum index: 803350 Value: 7\n",
      "Sentence: let me check in on that *\n",
      "========================================\n"
     ]
    },
    {
     "name": "stderr",
     "output_type": "stream",
     "text": [
      "\r",
      "897it [32:36,  1.48s/it]"
     ]
    },
    {
     "name": "stdout",
     "output_type": "stream",
     "text": [
      "Index ประโยคภาษาไทย: 604551\n",
      "ประโยค: เป้าหมายในการเดินของเรากับพระเยซูคือการรู้ว่าพระองค์เป็นผู้เลี้ยงที่ใกล้ชิดของเราเช่นเดียวกับที่พระองค์รู้จักพระบิดา**\n",
      "Same index: 604551 Value: 23 Rank: 0\n",
      "Sentence: the goal of our walk with jesus is to come to know him a our shepherd just a intimately a he know the father * * * *\n",
      "Minimum index: 604551 Value: 23\n",
      "Sentence: the goal of our walk with jesus is to come to know him a our shepherd just a intimately a he know the father * * * *\n",
      "========================================\n"
     ]
    },
    {
     "name": "stderr",
     "output_type": "stream",
     "text": [
      "\r",
      "898it [32:40,  2.13s/it]"
     ]
    },
    {
     "name": "stdout",
     "output_type": "stream",
     "text": [
      "Index ประโยคภาษาไทย: 1657\n",
      "ประโยค: ข้อตกลงความร่วมมือทางเศรษฐกิจระหว่างอินเดียและญี่ปุ่นนี้มีความพยายามที่จะส่งเสริมการพัฒนาทางสังคมและเศรษฐกิจของเอเชียและแอฟริกาอินเดียและญี่ปุ่นวางแผนที่จะสร้างโครงสร้างพื้นฐานและการเชื่อมต่อทางดิจิทัลในแอฟริกาผ่านความร่วมมือของทั้งสองประเทศ***\n",
      "Same index: 1657 Value: 32 Rank: 0\n",
      "Sentence: this economic cooperation agreement between india and japan strives to promote the socio-economic development of asia and africa the two nation plan to build infrastructure and digital connectivity in africa through their collaboration * *\n",
      "Minimum index: 1657 Value: 32\n",
      "Sentence: this economic cooperation agreement between india and japan strives to promote the socio-economic development of asia and africa the two nation plan to build infrastructure and digital connectivity in africa through their collaboration * *\n",
      "========================================\n"
     ]
    },
    {
     "name": "stderr",
     "output_type": "stream",
     "text": [
      "\r",
      "899it [32:40,  1.67s/it]"
     ]
    },
    {
     "name": "stdout",
     "output_type": "stream",
     "text": [
      "Index ประโยคภาษาไทย: 667266\n",
      "ประโยค: ไม่มีแต่ว่ามีร้านในใจ\n",
      "Same index: 667266 Value: 12 Rank: 262\n",
      "Sentence: no but i do have some restaurant in mind mind * * * *\n",
      "Minimum index: 735353 Value: 6\n",
      "Sentence: no i must come in today *\n",
      "========================================\n"
     ]
    },
    {
     "name": "stderr",
     "output_type": "stream",
     "text": [
      "\r",
      "900it [32:42,  1.53s/it]"
     ]
    },
    {
     "name": "stdout",
     "output_type": "stream",
     "text": [
      "Index ประโยคภาษาไทย: 817452\n",
      "ประโยค: รับทราบค่ะเป็นพิซซ่าไซส์กลางหน้ามีทเลิฟเวอส์ไม่เอาไส้กรอก ขอบหนา 1 ถาด และพิซซ่าไซส์กลางหน้าเปปเปอโรนีกับเห็ด ขอบหนา 1 ถาดนะคะ\n",
      "Same index: 817452 Value: 26 Rank: 768\n",
      "Sentence: got it so the order is 1 medium pizza meat lover no sausage and thick crust and 1 medium pizza with pepperoni and mushroom and thick crust *\n",
      "Minimum index: 485417 Value: 12\n",
      "Sentence: i do not make the rule unfortunately\n",
      "========================================\n"
     ]
    },
    {
     "name": "stderr",
     "output_type": "stream",
     "text": [
      "\r",
      "901it [32:47,  2.61s/it]"
     ]
    },
    {
     "name": "stdout",
     "output_type": "stream",
     "text": [
      "Index ประโยคภาษาไทย: 617861\n",
      "ประโยค: ความยืดหยุ่นนี้ถือเป็นหนึ่งในคุณสมบัติหลักของนาฬิกาพัฒนาการของYachtMasterIIถือเป็นความท้าทายด้านเทคโนโลยีโดยโปรแกรมสามารถทำการบันทึกได้อย่างไม่หยุดพักนอกจากนี้ทันทีที่ใช้ฟังก์ชันนับถอยหลังของนาฬิกาสามารถเลือกทำการซิงโครไนซ์เพื่อให้ตรงกับการเปลี่ยนแปลงตารางนับถอยหลังของการแข่งขันอย่างเป็นทางการได้ขณะที่ไม่หยุดนิ่ง*****\n",
      "Same index: 617861 Value: 54 Rank: 19\n",
      "Sentence: this flexibility is one of the major asset of the yacht-master ii it development wa a considerable technological challenge the programming can be mechanically memorised furthermore once the watch s countdown is launched it can be synchronised on the fly to match change in the official race countdown *\n",
      "Minimum index: 389223 Value: 52\n",
      "Sentence: everything had already worked out for her or so the storyline told me there just could n't have been any way they could get back together * *\n",
      "========================================\n"
     ]
    },
    {
     "name": "stderr",
     "output_type": "stream",
     "text": [
      "\r",
      "902it [32:49,  2.53s/it]"
     ]
    },
    {
     "name": "stdout",
     "output_type": "stream",
     "text": [
      "Index ประโยคภาษาไทย: 280726\n",
      "ประโยค: เมื่อเร็ว ๆ นี้ฉันย้ายไปยังสถานที่ที่ห้องน้ำและห้องนอนใหญ่มีปลั๊กไฟแต่ละอันต้องการเพียงสิ่งนี้ในห้องครัว******\n",
      "Same index: 280726 Value: 17 Rank: 0\n",
      "Sentence: i recently moved to a place where my toilet and master bedroom had one outlet each only needing this in the kitchen * * * * * *\n",
      "Minimum index: 280726 Value: 17\n",
      "Sentence: i recently moved to a place where my toilet and master bedroom had one outlet each only needing this in the kitchen * * * * * *\n",
      "========================================\n"
     ]
    },
    {
     "name": "stderr",
     "output_type": "stream",
     "text": [
      "\r",
      "903it [32:51,  2.31s/it]"
     ]
    },
    {
     "name": "stdout",
     "output_type": "stream",
     "text": [
      "Index ประโยคภาษาไทย: 820411\n",
      "ประโยค: ไม่ทราบว่าเบอร์ติดต่อที่ช่างสามารถติดต่อหาได้คือเบอร์อะไรคะ******\n",
      "Same index: 820411 Value: 15 Rank: 142\n",
      "Sentence: what wa a good phone number for the mechanic to reach you at *\n",
      "Minimum index: 540775 Value: 12\n",
      "Sentence: y u never make appointment * *\n",
      "========================================\n"
     ]
    },
    {
     "name": "stderr",
     "output_type": "stream",
     "text": [
      "\r",
      "904it [32:52,  1.97s/it]"
     ]
    },
    {
     "name": "stdout",
     "output_type": "stream",
     "text": [
      "Index ประโยคภาษาไทย: 648868\n",
      "ประโยค: เธอช่วยสั่งกาแฟจากสตาร์บัคส์ให้พี่ได้ไหม****\n",
      "Same index: 648868 Value: 10 Rank: 20\n",
      "Sentence: could you please order me some coffee from starbucks * * * * *\n",
      "Minimum index: 337962 Value: 9\n",
      "Sentence: just a others have written * *\n",
      "========================================\n"
     ]
    },
    {
     "name": "stderr",
     "output_type": "stream",
     "text": [
      "\r",
      "905it [33:00,  3.67s/it]"
     ]
    },
    {
     "name": "stdout",
     "output_type": "stream",
     "text": [
      "Index ประโยคภาษาไทย: 984928\n",
      "ประโยค: การแข่งขันเคมีโอลิมปิกระหว่างประเทศเริ่มต้นขึ้นครั้งแรกในเชโกสโลวาเกียเมื่อปีคศ 1968โดยมีเป้าหมายให้มีจำนวนประเทศที่เข้าร่วมการแข่งขันมากขึ้นจนกระทั่งและเปลี่ยนเป็นการแข่งขันระหว่างประเทศในที่สุดโดยแรกเริ่มเชกโกวาเกียได้ส่งคำเชิญไปยังประเทศที่มีระบอบการปกครองแบบสังคมนิยมยกเว้นโรมาเนียแต่ในเดือนพฤษภาคม คศ 1968ความสัมพันธ์ทางการเมืองระหว่างเชโกสโลวาเกียกับสหภาพโซเวียตย่ำแย่ลงทำให้มีเพียงโปแลนด์และฮังการีเท่านั้นที่ตอบรับและเข้าร่วมในการแข่งขันครั้งแรก*****\n",
      "Same index: 984928 Value: 77 Rank: 270\n",
      "Sentence: invitation were sent by the czechoslovak national committee to all warsaw pact country except romania due to political issue between romania and ussr however in may 1968 relation between czechoslovakia and the soviet union became so delicate that only poland and hungary participated in the first international competition the first international chemistry olympiad took place in prague between 18 and 21 june 1968 * * * * *\n",
      "Minimum index: 739471 Value: 68\n",
      "Sentence: got it when would you like to have your car checked * * *\n",
      "========================================\n"
     ]
    },
    {
     "name": "stderr",
     "output_type": "stream",
     "text": [
      "\r",
      "906it [33:01,  2.93s/it]"
     ]
    },
    {
     "name": "stdout",
     "output_type": "stream",
     "text": [
      "Index ประโยคภาษาไทย: 111907\n",
      "ประโยค: มันยากที่จะหากระทะขนาดนี้ราคาต่ำกว่า100แต่ฉันรู้สึกประหลาดใจ\n",
      "Same index: 111907 Value: 17 Rank: 574\n",
      "Sentence: it is hard to find a pan this size for under 100 but i wa pleasantly surprised * * * *\n",
      "Minimum index: 759577 Value: 13\n",
      "Sentence: size of the pizzia * * *\n",
      "========================================\n"
     ]
    },
    {
     "name": "stderr",
     "output_type": "stream",
     "text": [
      "\r",
      "907it [33:02,  2.25s/it]"
     ]
    },
    {
     "name": "stdout",
     "output_type": "stream",
     "text": [
      "Index ประโยคภาษาไทย: 253046\n",
      "ประโยค: ฉันซื้อรายการนี้เนื่องจากราคา*\n",
      "Same index: 253046 Value: 6 Rank: 11\n",
      "Sentence: i purchased this item due to the price * * * * * *\n",
      "Minimum index: 776231 Value: 5\n",
      "Sentence: alright let me summarize * * *\n",
      "========================================\n"
     ]
    },
    {
     "name": "stderr",
     "output_type": "stream",
     "text": [
      "\r",
      "908it [33:03,  1.94s/it]"
     ]
    },
    {
     "name": "stdout",
     "output_type": "stream",
     "text": [
      "Index ประโยคภาษาไทย: 428292\n",
      "ประโยค: มันสามารถใช้การเขียนและการแก้ไขเพิ่มเติมก่อนที่จะเผยแพร่อีกครั้ง***\n",
      "Same index: 428292 Value: 10 Rank: 0\n",
      "Sentence: it could actually use more writing and editing before publishing again * * *\n",
      "Minimum index: 548903 Value: 10\n",
      "Sentence: do you have his number * *\n",
      "========================================\n"
     ]
    },
    {
     "name": "stderr",
     "output_type": "stream",
     "text": [
      "\r",
      "909it [33:04,  1.73s/it]"
     ]
    },
    {
     "name": "stdout",
     "output_type": "stream",
     "text": [
      "Index ประโยคภาษาไทย: 413268\n",
      "ประโยค: ฉันซื้อจากร้านอินเทอร์เน็ตในประเทศจีนมานานหลายปีแล้ว**\n",
      "Same index: 413268 Value: 12 Rank: 42\n",
      "Sentence: i have purchased it through an internet store from one person in china for year * * * * * *\n",
      "Minimum index: 577599 Value: 11\n",
      "Sentence: we have received the refund from the driver a advised * * * *\n",
      "========================================\n"
     ]
    },
    {
     "name": "stderr",
     "output_type": "stream",
     "text": [
      "\r",
      "910it [33:06,  1.80s/it]"
     ]
    },
    {
     "name": "stdout",
     "output_type": "stream",
     "text": [
      "Index ประโยคภาษาไทย: 368152\n",
      "ประโยค: แม้ว่าจะดีเพราะแบตเตอรี่รู้สึกเหมือนถูกชาร์จแต่ถ้าเปิดกล้องแล้วไฟด้านหลังก็ยังสว่างอยู่**\n",
      "Same index: 368152 Value: 20 Rank: 613\n",
      "Sentence: it 's nice though because the battery feel like it 's charged but if your camera is turned on then the light in back seem still lit *\n",
      "Minimum index: 319940 Value: 17\n",
      "Sentence: just got it so we 'll see how durable it is but * *\n",
      "========================================\n"
     ]
    },
    {
     "name": "stderr",
     "output_type": "stream",
     "text": [
      "\r",
      "911it [33:09,  2.17s/it]"
     ]
    },
    {
     "name": "stdout",
     "output_type": "stream",
     "text": [
      "Index ประโยคภาษาไทย: 539636\n",
      "ประโยค: ฉันไม่รู้อ่ะไม่มีอะไรมากนะฉันคิดว่าพวกเราแค่อยากจะทำผ่านการนำเสนอโอเคฉันก็คิดอย่างนั้นเช่นกันพวกเราพึ่งปรึกษากันโอเคได้สิ**\n",
      "Same index: 539636 Value: 27 Rank: 0\n",
      "Sentence: i do n't know nothing much lah i think we just wan na run thru thepresentation okay i also think that we 'll just discus okay loh.can *\n",
      "Minimum index: 539636 Value: 27\n",
      "Sentence: i do n't know nothing much lah i think we just wan na run thru thepresentation okay i also think that we 'll just discus okay loh.can *\n",
      "========================================\n"
     ]
    },
    {
     "name": "stderr",
     "output_type": "stream",
     "text": [
      "\r",
      "912it [33:10,  1.71s/it]"
     ]
    },
    {
     "name": "stdout",
     "output_type": "stream",
     "text": [
      "Index ประโยคภาษาไทย: 995719\n",
      "ประโยค: ประเทศปานามาในแพนอเมริกันเกมส์*\n",
      "Same index: 995719 Value: 6 Rank: 0\n",
      "Sentence: panama at the pan american game * * *\n",
      "Minimum index: 245766 Value: 6\n",
      "Sentence: it is ok to read * *\n",
      "========================================\n"
     ]
    },
    {
     "name": "stderr",
     "output_type": "stream",
     "text": [
      "\r",
      "913it [33:13,  2.24s/it]"
     ]
    },
    {
     "name": "stdout",
     "output_type": "stream",
     "text": [
      "Index ประโยคภาษาไทย: 473141\n",
      "ประโยค: บางคนคิดว่านี่เป็นเพียงเรื่องราวเกี่ยวกับชายหนุ่มที่หล่อเหลาสองคนต่อสู้กับใครจะนอนกับใครแม้ว่าในความคิดของฉันมันมีส่วนเกี่ยวข้องกับเรื่องนั้นคนอื่นๆอ้างว่าไม่มีแผนการหรือการพัฒนาตัวละครฯลฯ*\n",
      "Same index: 473141 Value: 36 Rank: 0\n",
      "Sentence: some thought that this wa simply a story about two very handsome guy fighting over who would sleep with whom although in my opinion it ha little to do with that others claimed there were no plot or character development etc *\n",
      "Minimum index: 473141 Value: 36\n",
      "Sentence: some thought that this wa simply a story about two very handsome guy fighting over who would sleep with whom although in my opinion it ha little to do with that others claimed there were no plot or character development etc *\n",
      "========================================\n"
     ]
    },
    {
     "name": "stderr",
     "output_type": "stream",
     "text": [
      "\r",
      "914it [33:16,  2.48s/it]"
     ]
    },
    {
     "name": "stdout",
     "output_type": "stream",
     "text": [
      "Index ประโยคภาษาไทย: 232858\n",
      "ประโยค: บางทีความคาดหวังของฉันอาจสูงเกินไปฉันอาจต้องทบทวนคลาสสิกของจอห์นเกรย์และเจนออสเตนอีกมากแต่เท่าที่ฉันเป็นกังวลหนังสือเล่มนี้ไม่ได้ทำอะไรให้ฉันเลย*****\n",
      "Same index: 232858 Value: 29 Rank: 55\n",
      "Sentence: maybe my expectation were too high maybe i need to revisit some of john gray and jane austen classic more but a far a i wa concerned this book did not do anything for me * *\n",
      "Minimum index: 538806 Value: 27\n",
      "Sentence: in pgp you come in * *\n",
      "========================================\n"
     ]
    },
    {
     "name": "stderr",
     "output_type": "stream",
     "text": [
      "\r",
      "915it [33:19,  2.60s/it]"
     ]
    },
    {
     "name": "stdout",
     "output_type": "stream",
     "text": [
      "Index ประโยคภาษาไทย: 369051\n",
      "ประโยค: ฉันขอแนะนําให้ซื้อการ์ดหน่วยความจําความจุสูงพิเศษอย่างน้อยหนึ่งการ์ดแม้ว่าคุณจะต้องการมากกว่า2GBหากคุณต้องการถ่ายภาพจํานวนมาก******\n",
      "Same index: 369051 Value: 30 Rank: 708\n",
      "Sentence: i recommend buying at least one extra high capacity memory card although you will want more than 2gb if you 're really going to take lot of photo\n",
      "Minimum index: 311655 Value: 26\n",
      "Sentence: this unit put out some really good light but take a while to warm up * * * * * *\n",
      "========================================\n"
     ]
    },
    {
     "name": "stderr",
     "output_type": "stream",
     "text": [
      "\r",
      "916it [33:22,  2.65s/it]"
     ]
    },
    {
     "name": "stdout",
     "output_type": "stream",
     "text": [
      "Index ประโยคภาษาไทย: 985772\n",
      "ประโยค: Mtuberculosisถูกค้นพบครั้งแรกเมื่อ24 มีนาคม พศ2425โดยRobertKochซึ่งต่อมาได้รับรางวัลโนเบลสาขาสรีรวิทยาหรือการแพทย์สำหรับการค้นพบนีในพศ2448ซึ่งเรียกแบคทีเรียนี้ว่าKochsbacillus**\n",
      "Same index: 985772 Value: 37 Rank: 872\n",
      "Sentence: m. tuberculosis then known a the tubercle bacillus wa first described on 24 march 1882 by robert koch who subsequently received the nobel prize in physiology or medicine for this discovery in 1905 the bacterium is also known a koch 's bacillus * * *\n",
      "Minimum index: 199620 Value: 30\n",
      "Sentence: you can find better on itunes or pandora * * * * * *\n",
      "========================================\n"
     ]
    },
    {
     "name": "stderr",
     "output_type": "stream",
     "text": [
      "\r",
      "917it [33:24,  2.39s/it]"
     ]
    },
    {
     "name": "stdout",
     "output_type": "stream",
     "text": [
      "Index ประโยคภาษาไทย: 451823\n",
      "ประโยค: มันช่างแย่เหลือเกินโดยเฉพาะกับฉันที่รู้ว่ามันดีแค่ไหนเมื่อเพลงสด*****\n",
      "Same index: 451823 Value: 16 Rank: 29\n",
      "Sentence: it so awful especially to me knowing how good they used to be when the song were fresh * * *\n",
      "Minimum index: 352599 Value: 14\n",
      "Sentence: but it wa good to see something new * * * * * *\n",
      "========================================\n"
     ]
    },
    {
     "name": "stderr",
     "output_type": "stream",
     "text": [
      "\r",
      "918it [33:24,  1.88s/it]"
     ]
    },
    {
     "name": "stdout",
     "output_type": "stream",
     "text": [
      "Index ประโยคภาษาไทย: 227341\n",
      "ประโยค: อย่าเสียเงินอีกแล้วยืมจากห้องสมุด*\n",
      "Same index: 227341 Value: 7 Rank: 180\n",
      "Sentence: do n't waste any more money.. borrow from library * * * * *\n",
      "Minimum index: 487426 Value: 6\n",
      "Sentence: and how fast it come * *\n",
      "========================================\n"
     ]
    },
    {
     "name": "stderr",
     "output_type": "stream",
     "text": [
      "\r",
      "919it [33:25,  1.50s/it]"
     ]
    },
    {
     "name": "stdout",
     "output_type": "stream",
     "text": [
      "Index ประโยคภาษาไทย: 148657\n",
      "ประโยค: มันอาจจะถูกกว่าแต่ก็คุ้มค่า\n",
      "Same index: 148657 Value: 14 Rank: 248\n",
      "Sentence: it may have been cheaper but it wa worth it * * * *\n",
      "Minimum index: 497667 Value: 7\n",
      "Sentence: it had the shape of a prism\n",
      "========================================\n"
     ]
    },
    {
     "name": "stderr",
     "output_type": "stream",
     "text": [
      "\r",
      "920it [33:25,  1.24s/it]"
     ]
    },
    {
     "name": "stdout",
     "output_type": "stream",
     "text": [
      "Index ประโยคภาษาไทย: 380979\n",
      "ประโยค: หากคุณกําลังมองหาสิ่งที่ดีนี่ไม่ใช่ของคุณ*\n",
      "Same index: 380979 Value: 10 Rank: 374\n",
      "Sentence: if your looking for something good this is n't it * * * *\n",
      "Minimum index: 366637 Value: 5\n",
      "Sentence: do not get this * * *\n",
      "========================================\n"
     ]
    },
    {
     "name": "stderr",
     "output_type": "stream",
     "text": [
      "\r",
      "921it [33:27,  1.27s/it]"
     ]
    },
    {
     "name": "stdout",
     "output_type": "stream",
     "text": [
      "Index ประโยคภาษาไทย: 679150\n",
      "ประโยค: แย่มากเลยค่ะรถของฉันถอยหลังไม่ได้*****\n",
      "Same index: 679150 Value: 7 Rank: 0\n",
      "Sentence: awful my car will not go in reverse * * * * * *\n",
      "Minimum index: 679150 Value: 7\n",
      "Sentence: awful my car will not go in reverse * * * * * *\n",
      "========================================\n"
     ]
    },
    {
     "name": "stderr",
     "output_type": "stream",
     "text": [
      "\r",
      "922it [33:29,  1.43s/it]"
     ]
    },
    {
     "name": "stdout",
     "output_type": "stream",
     "text": [
      "Index ประโยคภาษาไทย: 830856\n",
      "ประโยค: ได้ค่ะทางอู่คิดค่าตรวจเช็ค89ราคานี้รวมค่าซ่อมแล้วถ้าตรวจเจอปัญหา**\n",
      "Same index: 830856 Value: 19 Rank: 70\n",
      "Sentence: got it the shop charge an 89 inspection fee that go towards repair if they discover any is that okay *\n",
      "Minimum index: 264466 Value: 16\n",
      "Sentence: at this price it the best deal out there * * * * *\n",
      "========================================\n"
     ]
    },
    {
     "name": "stderr",
     "output_type": "stream",
     "text": [
      "\r",
      "923it [33:30,  1.39s/it]"
     ]
    },
    {
     "name": "stdout",
     "output_type": "stream",
     "text": [
      "Index ประโยคภาษาไทย: 404554\n",
      "ประโยค: เรื่องราวที่ดีสามารถบอกได้ใน100หน้า*****\n",
      "Same index: 404554 Value: 7 Rank: 0\n",
      "Sentence: a good story could have been told in 100 page * * * *\n",
      "Minimum index: 688565 Value: 7\n",
      "Sentence: ok that sound good do they take reservation * * * * * *\n",
      "========================================\n"
     ]
    },
    {
     "name": "stderr",
     "output_type": "stream",
     "text": [
      "\r",
      "924it [33:33,  1.86s/it]"
     ]
    },
    {
     "name": "stdout",
     "output_type": "stream",
     "text": [
      "Index ประโยคภาษาไทย: 381532\n",
      "ประโยค: แรงดันน้ําเพียงอย่างเดียวที่เราสามารถทําได้คือประมาณ4หรือ5ปอนด์ต่อตารางนิ้วและใช้เวลาประมาณครึ่งชั่วโมงเพื่อลองฟองก่อนที่จะซื้อปั๊มนี้*****\n",
      "Same index: 381532 Value: 23 Rank: 0\n",
      "Sentence: the only water pressure we were able to get wa around 4 or 5 psi and it took u about a half hour just trying for bubble before we bought this pump * * *\n",
      "Minimum index: 381532 Value: 23\n",
      "Sentence: the only water pressure we were able to get wa around 4 or 5 psi and it took u about a half hour just trying for bubble before we bought this pump * * *\n",
      "========================================\n"
     ]
    },
    {
     "name": "stderr",
     "output_type": "stream",
     "text": [
      "\r",
      "925it [33:34,  1.49s/it]"
     ]
    },
    {
     "name": "stdout",
     "output_type": "stream",
     "text": [
      "Index ประโยคภาษาไทย: 822456\n",
      "ประโยค: ขอให้เป็นวันที่ดีนะคะสวัสดีค่ะ\n",
      "Same index: 822456 Value: 7 Rank: 26\n",
      "Sentence: have a great day goodbye goodbye *\n",
      "Minimum index: 718873 Value: 6\n",
      "Sentence: it is nissan altima * * * *\n",
      "========================================\n"
     ]
    },
    {
     "name": "stderr",
     "output_type": "stream",
     "text": [
      "\r",
      "926it [33:35,  1.62s/it]"
     ]
    },
    {
     "name": "stdout",
     "output_type": "stream",
     "text": [
      "Index ประโยคภาษาไทย: 195129\n",
      "ประโยค: เพลงส่วนใหญ่เป็นเพลงของลินดา อีเดอร์รวมถึงเพลงอื่นๆที่เป็นภาษาอังกฤษสำหรับวันคริสต์มาสด้วย****\n",
      "Same index: 195129 Value: 16 Rank: 57\n",
      "Sentence: most track are original composition by linda eder a well a several traditional carol in english * * * * * *\n",
      "Minimum index: 139234 Value: 14\n",
      "Sentence: the music is fantastic too highly recommended.. recommended.. * * * * * *\n",
      "========================================\n"
     ]
    },
    {
     "name": "stderr",
     "output_type": "stream",
     "text": [
      "\r",
      "927it [33:36,  1.33s/it]"
     ]
    },
    {
     "name": "stdout",
     "output_type": "stream",
     "text": [
      "Index ประโยคภาษาไทย: 720148\n",
      "ประโยค: ต้องการน้ำตาลมั้ยคะ***\n",
      "Same index: 720148 Value: 4 Rank: 0\n",
      "Sentence: do you want sugar * * *\n",
      "Minimum index: 106498 Value: 4\n",
      "Sentence: overall it work great * * *\n",
      "========================================\n"
     ]
    },
    {
     "name": "stderr",
     "output_type": "stream",
     "text": [
      "\r",
      "928it [33:37,  1.12s/it]"
     ]
    },
    {
     "name": "stdout",
     "output_type": "stream",
     "text": [
      "Index ประโยคภาษาไทย: 239510\n",
      "ประโยค: แมวของฉันก็พยายามเลีย*\n",
      "Same index: 239510 Value: 5 Rank: 0\n",
      "Sentence: my cat even tried licking it *\n",
      "Minimum index: 204073 Value: 5\n",
      "Sentence: this thing is n't worth 20 *\n",
      "========================================\n"
     ]
    },
    {
     "name": "stderr",
     "output_type": "stream",
     "text": [
      "\r",
      "929it [33:40,  1.67s/it]"
     ]
    },
    {
     "name": "stdout",
     "output_type": "stream",
     "text": [
      "Index ประโยคภาษาไทย: 976754\n",
      "ประโยค: นายหลิว ฉีประธานคณะกรรมการจัดการแข่งขันกล่าวต้อนรับและรายงานเป็นภาษาจีนกลางจากนั้นนายฌาค ร็อกก์ประธานคณะกรรมการโอลิมปิกสากลกล่าวต้อนรับนักกีฬาเจ้าหน้าที่และผู้ร่วมพิธีเปิดโดยชื่นชมการจัดการแข่งขันของจีน***\n",
      "Same index: 976754 Value: 33 Rank: 715\n",
      "Sentence: liu qi the head of the beijing olympic organising committee gave a speech in mandarin welcoming the athlete his excellency count rogge the president of the international olympic committee followed with a speech in english praising the chinese for their warm reception and effort * * * * * *\n",
      "Minimum index: 237809 Value: 27\n",
      "Sentence: this kit had everything necessary to make sure it went together well and all part worked well * * * *\n",
      "========================================\n"
     ]
    },
    {
     "name": "stderr",
     "output_type": "stream",
     "text": [
      "\r",
      "930it [33:42,  1.91s/it]"
     ]
    },
    {
     "name": "stdout",
     "output_type": "stream",
     "text": [
      "Index ประโยคภาษาไทย: 443622\n",
      "ประโยค: บริษัทส่งอีเมลแจ้งให้ฉันทราบว่าจําเป็นต้องเปลี่ยนเพราะเก่าเกินไปซึ่งพวกเขาไม่เคยพูดดังนั้นตอนนี้เรากลับมาสั่งซื้ออีกครั้ง**\n",
      "Same index: 443622 Value: 23 Rank: 1\n",
      "Sentence: the company sent me an email stating it needed to be changed because it wa too old which they never said so now we 're back for more order * * * * * *\n",
      "Minimum index: 46630 Value: 22\n",
      "Sentence: pretty much a described cheap construction and would never do again * * *\n",
      "========================================\n"
     ]
    },
    {
     "name": "stderr",
     "output_type": "stream",
     "text": [
      "\r",
      "931it [33:46,  2.60s/it]"
     ]
    },
    {
     "name": "stdout",
     "output_type": "stream",
     "text": [
      "Index ประโยคภาษาไทย: 850831\n",
      "ประโยค: กระติกน้ำร้อนความจุ33ลิตรแผ่นความร้อนอยู่ด้านล่างกระติกให้ความร้อนได้มากกว่าระบบWarmheaterช่วยให้น้ำร้อนอยู่เสมอสร้างจากวัสดุที่รับความร้อนได้สูงสุดถึง120องศาแผ่นยางภายในรักษาความร้อนได้ดีและความดันภายในจะช่วยให้น้ำไหลได้อย่างsmooth*\n",
      "Same index: 850831 Value: 41 Rank: 0\n",
      "Sentence: 3.3 liter capacity the heat pad is below the kettle for more heat warm water system keep the water warm made from heat-resistant material up to 120 degree the internal rubber sheet heat treatment and the internal pressure will help smooth flow\n",
      "Minimum index: 242185 Value: 41\n",
      "Sentence: we 've been having some trouble finding good coffee made with k-cups * *\n",
      "========================================\n"
     ]
    },
    {
     "name": "stderr",
     "output_type": "stream",
     "text": [
      "\r",
      "932it [33:48,  2.37s/it]"
     ]
    },
    {
     "name": "stdout",
     "output_type": "stream",
     "text": [
      "Index ประโยคภาษาไทย: 525816\n",
      "ประโยค: ตอนนี้ฉันอยู่ที่คิวเอ็น5งั้นฉันไปทำอันสุดท้ายก่อนนะ******\n",
      "Same index: 525816 Value: 11 Rank: 0\n",
      "Sentence: m on qn 5 now i go do e last one first then *\n",
      "Minimum index: 525816 Value: 11\n",
      "Sentence: m on qn 5 now i go do e last one first then *\n",
      "========================================\n"
     ]
    },
    {
     "name": "stderr",
     "output_type": "stream",
     "text": [
      "\r",
      "933it [33:49,  1.84s/it]"
     ]
    },
    {
     "name": "stdout",
     "output_type": "stream",
     "text": [
      "Index ประโยคภาษาไทย: 772228\n",
      "ประโยค: ขอคิดแปปนะ******\n",
      "Same index: 772228 Value: 6 Rank: 119\n",
      "Sentence: let me think for a second *\n",
      "Minimum index: 930156 Value: 1\n",
      "Sentence: quantum lollipop ball point pen * * * * * *\n",
      "========================================\n"
     ]
    },
    {
     "name": "stderr",
     "output_type": "stream",
     "text": [
      "\r",
      "934it [33:49,  1.48s/it]"
     ]
    },
    {
     "name": "stdout",
     "output_type": "stream",
     "text": [
      "Index ประโยคภาษาไทย: 341792\n",
      "ประโยค: รุ่งโรจน์ในการบริการลูกค้าของพวกเขา\n",
      "Same index: 341792 Value: 7 Rank: 1\n",
      "Sentence: kudos on their customer service * *\n",
      "Minimum index: 567853 Value: 6\n",
      "Sentence: magnitude 4.2 and one more thing thing\n",
      "========================================\n"
     ]
    },
    {
     "name": "stderr",
     "output_type": "stream",
     "text": [
      "\r",
      "935it [33:51,  1.40s/it]"
     ]
    },
    {
     "name": "stdout",
     "output_type": "stream",
     "text": [
      "Index ประโยคภาษาไทย: 206287\n",
      "ประโยค: ฉันสามารถคัดลอกไฟล์ขนาดใหญ่ประมาณ35MB50MB****\n",
      "Same index: 206287 Value: 9 Rank: 0\n",
      "Sentence: i wa able to copy about 35 mb-50mb of large file * * *\n",
      "Minimum index: 776352 Value: 9\n",
      "Sentence: the duration of your trip is 35 minute * * * * * *\n",
      "========================================\n"
     ]
    },
    {
     "name": "stderr",
     "output_type": "stream",
     "text": [
      "\r",
      "936it [33:52,  1.52s/it]"
     ]
    },
    {
     "name": "stdout",
     "output_type": "stream",
     "text": [
      "Index ประโยคภาษาไทย: 251536\n",
      "ประโยค: ฉันสามารถให้เป็นของขวัญได้แต่เพราะมันสั้นมากฉันตัดสินใจว่าฉันไม่ต้องการ*****\n",
      "Same index: 251536 Value: 16 Rank: 196\n",
      "Sentence: i could give this a gift but because it so short ive decided that i dont want to * * *\n",
      "Minimum index: 811109 Value: 14\n",
      "Sentence: okay can i get a name for the appointment * * * * *\n",
      "========================================\n"
     ]
    },
    {
     "name": "stderr",
     "output_type": "stream",
     "text": [
      "\r",
      "937it [33:54,  1.45s/it]"
     ]
    },
    {
     "name": "stdout",
     "output_type": "stream",
     "text": [
      "Index ประโยคภาษาไทย: 65154\n",
      "ประโยค: เขาชอบมากๆนะแต่ไม่คุ้มที่จะซื้อเลย***\n",
      "Same index: 65154 Value: 10 Rank: 0\n",
      "Sentence: he really loved it but this is definitely not worth buying * * *\n",
      "Minimum index: 311304 Value: 10\n",
      "Sentence: a must have song * * *\n",
      "========================================\n"
     ]
    },
    {
     "name": "stderr",
     "output_type": "stream",
     "text": [
      "\r",
      "938it [34:02,  3.35s/it]"
     ]
    },
    {
     "name": "stdout",
     "output_type": "stream",
     "text": [
      "Index ประโยคภาษาไทย: 908418\n",
      "ประโยค: แปรงทาลิปสติก316LipBrushจากMACแปรงทาลิปสติกให้ขนแปรงที่นุ่มเบาจับตัวแน่นพอดีใช้ทาเนื้อเมคอัพได้ง่ายขึ้นและให้ผลลัพท์ที่เนียนสวยแม่นยำและรวดเร็วทำให้ผลลัพธ์ในการทาที่ตรงจุดและสวยทุกรูปแบบที่คุณต้องการอย่างง่ายดายหมายเหตุสีของผลิตภัณฑ์ที่แสดงบนเว็บไซต์อาจมีความแตกต่างกันจากการตั้งค่าการแสดงผลของแต่ละหน้าจอหมายเหตุสีของผลิตภัณฑ์ที่แสดงบนเว็บไซต์อาจมีความแตกต่างกันจากการตั้งค่าการแสดงผลสีของแต่ละหน้าจอ**\n",
      "Same index: 908418 Value: 85 Rank: 199\n",
      "Sentence: mac 316 lip brush for controlled lipstick application that come with a metal cover this brush ha small flat firm fibre and a tapered tip mac professional brush are hand-sculpted and assembled using the finest quality material they feature wood handle and nickel-plated brass ferrule caution in term of item color it may be slightly different from each monitor display and specification *\n",
      "Minimum index: 833088 Value: 80\n",
      "Sentence: sure i inputed the issue you were having with your car a rough idle and slugging accelaration after a stop i gave you car information a 2017 acura nsx and your name and phone number they have u down for an appointment at 8:00 tomorrow morning * * * * * *\n",
      "========================================\n"
     ]
    },
    {
     "name": "stderr",
     "output_type": "stream",
     "text": [
      "\r",
      "939it [34:03,  2.90s/it]"
     ]
    },
    {
     "name": "stdout",
     "output_type": "stream",
     "text": [
      "Index ประโยคภาษาไทย: 364468\n",
      "ประโยค: มันไม่สมบูรณ์แบบแต่มันสอดคล้องกับสิ่งที่ฉันรอคอยมากที่สุดเท่าที่Eminemติดตาม*****\n",
      "Same index: 364468 Value: 21 Rank: 642\n",
      "Sentence: it 's not perfect but it 's definitely more in line with what i 've been waiting for a far a an eminem follow-up * * * *\n",
      "Minimum index: 776238 Value: 14\n",
      "Sentence: that 's perfect thank you so much for your help * * * *\n",
      "========================================\n"
     ]
    },
    {
     "name": "stderr",
     "output_type": "stream",
     "text": [
      "\r",
      "940it [34:05,  2.42s/it]"
     ]
    },
    {
     "name": "stdout",
     "output_type": "stream",
     "text": [
      "Index ประโยคภาษาไทย: 470823\n",
      "ประโยค: เจลเป็นลักษณะของภาพถ่ายและทําให้คุณจับมันได้**\n",
      "Same index: 470823 Value: 13 Rank: 443\n",
      "Sentence: the gel is exactly how it look in the photo and really make you hold onto it * * * *\n",
      "Minimum index: 875307 Value: 10\n",
      "Sentence: creating a clearer picture of parkinson s disease * * * * * *\n",
      "========================================\n"
     ]
    },
    {
     "name": "stderr",
     "output_type": "stream",
     "text": [
      "\r",
      "941it [34:06,  2.23s/it]"
     ]
    },
    {
     "name": "stdout",
     "output_type": "stream",
     "text": [
      "Index ประโยคภาษาไทย: 215098\n",
      "ประโยค: ในเวลานั้นซัมซุงนำข้อมูลบัตรเครดิตของฉันและปฏิเสธที่จะให้อุปกรณ์อื่นแก่ฉัน******\n",
      "Same index: 215098 Value: 14 Rank: 2\n",
      "Sentence: at that time samsung took my credit card information and refused to give me another device * * * * *\n",
      "Minimum index: 48234 Value: 13\n",
      "Sentence: get what you pay for * *\n",
      "========================================\n"
     ]
    },
    {
     "name": "stderr",
     "output_type": "stream",
     "text": [
      "\r",
      "942it [34:12,  3.29s/it]"
     ]
    },
    {
     "name": "stdout",
     "output_type": "stream",
     "text": [
      "Index ประโยคภาษาไทย: 622294\n",
      "ประโยค: พบสนามบินฟลอเรนซ์ในอิตาลียังได้อ้างถึงสนามบินนี้เป็นสนามบินPeretolaหรือสนามบินAmerigoจึงอยู่ระหว่างสนามบินหลักในทัสคานีซึ่งเป็นหนึ่งในโลกที่ดีที่สุดน่าเที่ยวมีประเมินฟลอเรนซ์สนามบินให้บริการผู้โดยสารอย่างน้อย15 ล้านทุกปีมีจำนวนค่อนข้างหนึ่งของสายการบินที่บินไปยังสนามบินฟลอเรนซ์รวมLufthansaอากาศประเทศฝรั่งเศสเที่ยวบินสหรัฐAlitaliaสวิสสหรัฐอเมริกาบิน KLMและอื่นๆอีกมากมาย*\n",
      "Same index: 622294 Value: 65 Rank: 66\n",
      "Sentence: florence airport is found in italy this airport is also referred to a peretola airport or the amerigo airport it is among the main airport in tuscany which is one of the world s best holiday destination florence airport is estimated to serve at least 1.5 million passenger every year there are quite a number of airline that fly to florence airport they include lufthansa air france united flight alitalia swiss u airway klm and many others\n",
      "Minimum index: 220659 Value: 62\n",
      "Sentence: the cover for this book is much different than the one shown on amazon or other retailer * * * *\n",
      "========================================\n"
     ]
    },
    {
     "name": "stderr",
     "output_type": "stream",
     "text": [
      "\r",
      "943it [34:14,  2.83s/it]"
     ]
    },
    {
     "name": "stdout",
     "output_type": "stream",
     "text": [
      "Index ประโยคภาษาไทย: 133049\n",
      "ประโยค: สีสวยดีจานทนทานและการทำความสะอาดง่ายสำหรับพวกเราที่ใช้ผงซักฟอกน้ำร้อนหรือนน้ำยาล้างจานกับจานค่ะ**\n",
      "Same index: 133049 Value: 25 Rank: 794\n",
      "Sentence: the color are nice the plate are sturdy and cleaning is simple for those of u who use powdered detergent hot water or dish soap right beside dish\n",
      "Minimum index: 178193 Value: 17\n",
      "Sentence: these are very small light weight to hold * * * * * *\n",
      "========================================\n"
     ]
    },
    {
     "name": "stderr",
     "output_type": "stream",
     "text": [
      "\r",
      "944it [34:15,  2.17s/it]"
     ]
    },
    {
     "name": "stdout",
     "output_type": "stream",
     "text": [
      "Index ประโยคภาษาไทย: 696953\n",
      "ประโยค: คาโตมีที่นั่งด้านนอกมั้ย*\n",
      "Same index: 696953 Value: 6 Rank: 12\n",
      "Sentence: doe kato provide outdoor seating * *\n",
      "Minimum index: 834244 Value: 4\n",
      "Sentence: okay got it * * * *\n",
      "========================================\n"
     ]
    },
    {
     "name": "stderr",
     "output_type": "stream",
     "text": [
      "\r",
      "945it [34:18,  2.43s/it]"
     ]
    },
    {
     "name": "stdout",
     "output_type": "stream",
     "text": [
      "Index ประโยคภาษาไทย: 448560\n",
      "ประโยค: พวกเขาดื่มจากมันแต่เมื่อฉันดึงมันออกมาจากปากของพวกเขาด้านบนไม่เปิดฉันต้องไปตกปลาบ้า ๆเพื่อดูว่าทําไมมันไม่ทํางาน*****\n",
      "Same index: 448560 Value: 23 Rank: 0\n",
      "Sentence: they drink from it but when i pull it out of their mouth the top doe not open i had to go crazy fishing around to see why it would n't work * * *\n",
      "Minimum index: 448560 Value: 23\n",
      "Sentence: they drink from it but when i pull it out of their mouth the top doe not open i had to go crazy fishing around to see why it would n't work * * *\n",
      "========================================\n"
     ]
    },
    {
     "name": "stderr",
     "output_type": "stream",
     "text": [
      "\r",
      "946it [34:18,  1.89s/it]"
     ]
    },
    {
     "name": "stdout",
     "output_type": "stream",
     "text": [
      "Index ประโยคภาษาไทย: 348685\n",
      "ประโยค: ฉันสั่งหลอดไฟสองหลอดนี้*\n",
      "Same index: 348685 Value: 5 Rank: 1\n",
      "Sentence: i ordered two of these bulb *\n",
      "Minimum index: 811559 Value: 4\n",
      "Sentence: i said 2 please * * *\n",
      "========================================\n"
     ]
    },
    {
     "name": "stderr",
     "output_type": "stream",
     "text": [
      "\r",
      "947it [34:19,  1.52s/it]"
     ]
    },
    {
     "name": "stdout",
     "output_type": "stream",
     "text": [
      "Index ประโยคภาษาไทย: 780187\n",
      "ประโยค: ตั๋วราคาเท่าไหร่คะ***\n",
      "Same index: 780187 Value: 6 Rank: 121\n",
      "Sentence: how much are the ticket ticket *\n",
      "Minimum index: 130509 Value: 3\n",
      "Sentence: good price and quality * * *\n",
      "========================================\n"
     ]
    },
    {
     "name": "stderr",
     "output_type": "stream",
     "text": [
      "\r",
      "948it [34:22,  1.97s/it]"
     ]
    },
    {
     "name": "stdout",
     "output_type": "stream",
     "text": [
      "Index ประโยคภาษาไทย: 847995\n",
      "ประโยค: ONLYCENTRALสีกรมท่าโอกาสที่สวมใส่ลำลองเหมาะกับกิจกรรมทั่วไปไซส์10หมายเหตุสีของผลิตภัณฑ์ที่แสดงบนเว็บไซต์อาจมีความแตกต่างกันจากการตั้งค่าการแสดงผลสีของแต่ละหน้าจอ*\n",
      "Same index: 847995 Value: 27 Rank: 0\n",
      "Sentence: only central color navy occasion casual activity general size 10 caution in term of item color it may be slightly different from each monitor display and specification *\n",
      "Minimum index: 847995 Value: 27\n",
      "Sentence: only central color navy occasion casual activity general size 10 caution in term of item color it may be slightly different from each monitor display and specification *\n",
      "========================================\n"
     ]
    },
    {
     "name": "stderr",
     "output_type": "stream",
     "text": [
      "\r",
      "949it [34:24,  1.90s/it]"
     ]
    },
    {
     "name": "stdout",
     "output_type": "stream",
     "text": [
      "Index ประโยคภาษาไทย: 85233\n",
      "ประโยค: หลังจากซื้อเอซุสโครมบุ๊คมาหวังว่าจะดูรูปตัวเองในนั้นได้*****\n",
      "Same index: 85233 Value: 15 Rank: 13\n",
      "Sentence: after buying an asus chromebook with the hope of being able to see my picture in it * * * * *\n",
      "Minimum index: 161403 Value: 13\n",
      "Sentence: i bought this book because of all the high rating it received * *\n",
      "========================================\n"
     ]
    },
    {
     "name": "stderr",
     "output_type": "stream",
     "text": [
      "\r",
      "950it [34:30,  3.31s/it]"
     ]
    },
    {
     "name": "stdout",
     "output_type": "stream",
     "text": [
      "Index ประโยคภาษาไทย: 916926\n",
      "ประโยค: ให้คุณพกบัตรพนักงานบัตรรถไฟฟ้าหรือบัตรสำคัญๆติดตัวไปได้ทุกที่ด้วยที่ใส่บัตรห้อยคอจากแบรนด์SANRIOมาพร้อมลายMyMelodyสุดน่ารักที่จะมาทำให้สาวกซานริโอต้องหลงรักลายMyMelodyสายห้อยคอสามารถปรับระดับได้ผลิตจากNylonขนาดยาวxสูง1182 ซมสีชมพูหมายเหตุสีของผลิตภัณฑ์ที่แสดงบนเว็บไซต์อาจมีความแตกต่างกันจากการตั้งค่าการแสดงผลของแต่ละหน้าจอ*\n",
      "Same index: 916926 Value: 73 Rank: 178\n",
      "Sentence: my melody character card holder with adjustable strap material nylon size l h 11 8.2 cm pink please note colour of product may differ slightly from actual due to difference in monitor quality * * * * *\n",
      "Minimum index: 42673 Value: 69\n",
      "Sentence: he take several other character who have had part in the original series and give them little development into new character making these one look one-dimensional with no dimension * * * * * *\n",
      "========================================\n"
     ]
    },
    {
     "name": "stderr",
     "output_type": "stream",
     "text": [
      "\r",
      "951it [34:31,  2.52s/it]"
     ]
    },
    {
     "name": "stdout",
     "output_type": "stream",
     "text": [
      "Index ประโยคภาษาไทย: 578721\n",
      "ประโยค: หนึ่งได้รับการสำรวจสถานต่าง ๆในวันหนึ่ง\n",
      "Same index: 578721 Value: 12 Rank: 258\n",
      "Sentence: one get to explore different place in only one day * * * *\n",
      "Minimum index: 445799 Value: 5\n",
      "Sentence: i have used it twice * *\n",
      "========================================\n"
     ]
    },
    {
     "name": "stderr",
     "output_type": "stream",
     "text": [
      "\r",
      "952it [34:32,  1.98s/it]"
     ]
    },
    {
     "name": "stdout",
     "output_type": "stream",
     "text": [
      "Index ประโยคภาษาไทย: 474552\n",
      "ประโยค: สวยมากและใช้งานได้ดี**\n",
      "Same index: 474552 Value: 5 Rank: 0\n",
      "Sentence: very pretty and functional * * *\n",
      "Minimum index: 147459 Value: 5\n",
      "Sentence: thanks guy * * * * *\n",
      "========================================\n"
     ]
    },
    {
     "name": "stderr",
     "output_type": "stream",
     "text": [
      "\r",
      "953it [34:33,  1.75s/it]"
     ]
    },
    {
     "name": "stdout",
     "output_type": "stream",
     "text": [
      "Index ประโยคภาษาไทย: 779582\n",
      "ประโยค: ฉันอยากใส่วนิลลาในลาเต้ค่ะ*****\n",
      "Same index: 779582 Value: 8 Rank: 0\n",
      "Sentence: yes i would like vanilla in the latte * * * * * *\n",
      "Minimum index: 630972 Value: 8\n",
      "Sentence: i want to book through intelligent auto solution *\n",
      "========================================\n"
     ]
    },
    {
     "name": "stderr",
     "output_type": "stream",
     "text": [
      "\r",
      "954it [34:37,  2.33s/it]"
     ]
    },
    {
     "name": "stdout",
     "output_type": "stream",
     "text": [
      "Index ประโยคภาษาไทย: 607940\n",
      "ประโยค: เจ้าหน้าที่ของที่นี่มีความรู้และทราบข้อมูลเป็นอย่างดีสามารถให้ข้อมูลล่าสุดเกี่ยวกับองค์กรท้องถิ่นของแต่ละที่หรือช่องทางการติดต่อและยังช่วยค้นหาศูนย์แนะนำการท่องเที่ยวที่มีความเกี่ยวข้องโดยตรงให้อีกด้วย******\n",
      "Same index: 607940 Value: 33 Rank: 0\n",
      "Sentence: knowledgeable and well-informed they can provide you with the latest information from each local government and the mean to contact or find more relevant tourist information center *\n",
      "Minimum index: 389231 Value: 33\n",
      "Sentence: this is definitely worth giving it a try * * * * * *\n",
      "========================================\n"
     ]
    },
    {
     "name": "stderr",
     "output_type": "stream",
     "text": [
      "\r",
      "955it [34:38,  2.00s/it]"
     ]
    },
    {
     "name": "stdout",
     "output_type": "stream",
     "text": [
      "Index ประโยคภาษาไทย: 573836\n",
      "ประโยค: 5สิ่งที่ควรทำก่อนมาญี่ปุ่น******\n",
      "Same index: 573836 Value: 6 Rank: 0\n",
      "Sentence: 5 thing to do prior to entering japan * * * * * *\n",
      "Minimum index: 397544 Value: 6\n",
      "Sentence: it ha yet to come * *\n",
      "========================================\n"
     ]
    },
    {
     "name": "stderr",
     "output_type": "stream",
     "text": [
      "\r",
      "956it [34:47,  4.11s/it]"
     ]
    },
    {
     "name": "stdout",
     "output_type": "stream",
     "text": [
      "Index ประโยคภาษาไทย: 857658\n",
      "ประโยค: เสน่ห์ที่น่ารักอย่างไม่น่าเชื่อเน้นสัดส่วนตรงช่วงเอวด้วยเข็มขัดไปในตัวด้วยชุดกระโปรงจากแบรนด์EXPRESSIONSดีไซน์เป็นCapSleeveแขนเสื้อที่สั้นกว่าปกติจะล้ำจากไหล่มาเล็กน้อยและเป็นคอปกเพิ่มความมั่นใจในตัวคุณONLYCENTRALสีน้ำตาลลายลายพิมพ์ไซส์Lรอบอก395นิ้วรอบเอว33นิ้วรอบสะโพก4725นิ้วความยาว425นิ้วความยาวแขนเสื้อ425นิ้ววัสดุใยสังเคราะห์มาตรฐานไซส์USเพศผู้หญิงอายุผู้ใหญ่หมายเหตุสีของผลิตภัณฑ์ที่แสดงบนเว็บไซต์อาจมีความแตกต่างกันจากการตั้งค่าการแสดงผลของแต่ละหน้าจอ**\n",
      "Same index: 857658 Value: 87 Rank: 0\n",
      "Sentence: attractive allurement to unbelievably emphasizes your shape of waist part with the belt for the dress from the expression brand name that appends to your confidant it ha a cap sleeve and collar designed only central color brown pattern print size l bust 39.5 in waist 33 in hip 47.25 in length 42.5 in sleeve length 4.25 in material polyester size standard u gender woman age adult caution in term of item color it may be slightly different from each monitor display and specification\n",
      "Minimum index: 857658 Value: 87\n",
      "Sentence: attractive allurement to unbelievably emphasizes your shape of waist part with the belt for the dress from the expression brand name that appends to your confidant it ha a cap sleeve and collar designed only central color brown pattern print size l bust 39.5 in waist 33 in hip 47.25 in length 42.5 in sleeve length 4.25 in material polyester size standard u gender woman age adult caution in term of item color it may be slightly different from each monitor display and specification\n",
      "========================================\n"
     ]
    },
    {
     "name": "stderr",
     "output_type": "stream",
     "text": [
      "\r",
      "957it [34:52,  4.44s/it]"
     ]
    },
    {
     "name": "stdout",
     "output_type": "stream",
     "text": [
      "Index ประโยคภาษาไทย: 857726\n",
      "ประโยค: น้ำแร่ธรรมชาติAuraน้ำแร่จากแหล่งน้ำธรรมชาติจากน้ำพุเย็น100เป็นน้ำบริสุทธิ์ตามธรรมชาติไม่ผ่านกระบวนการปรุงแต่งและกระบวนการทางเคมีมั่นใจได้ว่าสะอาดบริสุทธิ์และอุดมไปด้วยแร่ธาตุซิลิก้าOSAช่วยเพิ่มแร่ธาตุต่างๆที่จำเป็นต่อร่างกายบรรจุณแหล่งกำเนิดเหมาะสำหรับคนที่อยากสุขภาพดีจากภายในสู่ภายนอก*****\n",
      "Same index: 857726 Value: 63 Rank: 905\n",
      "Sentence: aura brand the natural mineral water is made from 100 cold fountain from the 2 700 ft. high peak mountain till gethering the most pure mineral water fulling with the mineral that benefit to the health especially silica osa found a few in normal food natural mineral water from natural 100 cold fountain water from the 2 700 ft. high peak mountain at mae rim district chiang mai province p\n",
      "Minimum index: 318426 Value: 52\n",
      "Sentence: no instruction hard to make sense for kid on how to use it *\n",
      "========================================\n"
     ]
    },
    {
     "name": "stderr",
     "output_type": "stream",
     "text": [
      "\r",
      "958it [34:55,  3.86s/it]"
     ]
    },
    {
     "name": "stdout",
     "output_type": "stream",
     "text": [
      "Index ประโยคภาษาไทย: 43544\n",
      "ประโยค: ดังนั้นตอนที่ฉันสงสัยโดยเฉพาะอย่างยิ่งผลิตภัณฑ์ที่มาในปริมาณน้อยๆดังนั้นการรักษาแต่ละครั้งแพงมากแต่เฮ้ฉันจะลองอีกครั้ง******\n",
      "Same index: 43544 Value: 21 Rank: 6\n",
      "Sentence: so while i 'm skeptical especially given that the product only come in small quantity so each treatment is really expensive but hey i will try again *\n",
      "Minimum index: 335953 Value: 20\n",
      "Sentence: you are left wondering so what *\n",
      "========================================\n"
     ]
    },
    {
     "name": "stderr",
     "output_type": "stream",
     "text": [
      "\r",
      "959it [34:56,  3.26s/it]"
     ]
    },
    {
     "name": "stdout",
     "output_type": "stream",
     "text": [
      "Index ประโยคภาษาไทย: 96528\n",
      "ประโยค: สามีของฉันกำลังมองหาอุปกรณ์ในครัวใหม่ๆเพิ่มและฉันก็เจอของพวกนี้***\n",
      "Same index: 96528 Value: 17 Rank: 1\n",
      "Sentence: my husband wa looking for some new kitchen utensil and i found these *\n",
      "Minimum index: 135127 Value: 16\n",
      "Sentence: that being said my younger cat ha never played with it * * *\n",
      "========================================\n"
     ]
    },
    {
     "name": "stderr",
     "output_type": "stream",
     "text": [
      "\r",
      "960it [34:58,  2.65s/it]"
     ]
    },
    {
     "name": "stdout",
     "output_type": "stream",
     "text": [
      "Index ประโยคภาษาไทย: 825355\n",
      "ประโยค: แล้วมีปัญหาอะไรถึงต้องเอารถซูบารุของคุณไปที่อู่คะ*\n",
      "Same index: 825355 Value: 14 Rank: 537\n",
      "Sentence: and why do u need to bring your subaru in to the shop shop\n",
      "Minimum index: 305266 Value: 11\n",
      "Sentence: make a good cup of coffee *\n",
      "========================================\n"
     ]
    },
    {
     "name": "stderr",
     "output_type": "stream",
     "text": [
      "\r",
      "961it [34:59,  2.24s/it]"
     ]
    },
    {
     "name": "stdout",
     "output_type": "stream",
     "text": [
      "Index ประโยคภาษาไทย: 877631\n",
      "ประโยค: โต๊ะทำงานตู้ลิ้นชักล้อเลื่อนเฟอร์ราเดคAX1575PSBBF*****\n",
      "Same index: 877631 Value: 9 Rank: 6\n",
      "Sentence: desk with pedestal furradec ax1575+ps+bbf * * * *\n",
      "Minimum index: 836116 Value: 8\n",
      "Sentence: my name is larry sander * * *\n",
      "========================================\n"
     ]
    },
    {
     "name": "stderr",
     "output_type": "stream",
     "text": [
      "\r",
      "962it [35:01,  2.08s/it]"
     ]
    },
    {
     "name": "stdout",
     "output_type": "stream",
     "text": [
      "Index ประโยคภาษาไทย: 14814\n",
      "ประโยค: อุตสาหกรรมอ่างเวียนจํากัด กากอ้อย306บริษัท น้ำตาลกุมภวาปี จํากัด กากอ้อย67บริษัท ไทยคาร์บอนแบล็ค จํากัด มหาชนWasteGas128บริษัทราชบุรีพลังงานจํากัด******\n",
      "Same index: 14814 Value: 14 Rank: 6\n",
      "Sentence: thai carbon blank public co. ltd waste gas 128 ratchaburi energy co. ltd *\n",
      "Minimum index: 635274 Value: 13\n",
      "Sentence: thanks very much bob when would you like the appointment for * * *\n",
      "========================================\n"
     ]
    },
    {
     "name": "stderr",
     "output_type": "stream",
     "text": [
      "\r",
      "963it [35:03,  2.15s/it]"
     ]
    },
    {
     "name": "stdout",
     "output_type": "stream",
     "text": [
      "Index ประโยคภาษาไทย: 54288\n",
      "ประโยค: ทำไมในบทที่13เอ็มม่ามีเหตุฉุกเฉินที่ทุกคนดูเหมือนจะรู้ตั้งแต่หนึ่งถึงสิบนาทีสังเกตว่าจะเกิดอะไรขึ้นต่อไปมาเลย*\n",
      "Same index: 54288 Value: 21 Rank: 0\n",
      "Sentence: how come in chapter 13 emma ha an emergency where everyone seems to know from one to ten minute notice what happens next come on * * * * *\n",
      "Minimum index: 54288 Value: 21\n",
      "Sentence: how come in chapter 13 emma ha an emergency where everyone seems to know from one to ten minute notice what happens next come on * * * * *\n",
      "========================================\n"
     ]
    },
    {
     "name": "stderr",
     "output_type": "stream",
     "text": [
      "\r",
      "964it [35:13,  4.66s/it]"
     ]
    },
    {
     "name": "stdout",
     "output_type": "stream",
     "text": [
      "Index ประโยคภาษาไทย: 918951\n",
      "ประโยค: เตาแม่เหล็กไฟฟ้าNICOLEช่วยให้การทำอาหารง่ายขึ้นเพียงแค่ปลายนิ้วจะเวลาไหนเมนูอะไรก็ง่ายสำหรับคุณดีไซน์เรียบหรูตัวเครื่องบางเฉียบออกแบบสำหรับตั้งโต๊ะควบคุมด้วยระบบสัมผัสกำลังไฟสูงสุด2000วัตต์แรงดันไฟฟ้า220240โวลต์ความถี่ 50 เฮิร์ตปรับระดับอุณหภูมิ10ระดับมีฟังก์ชั่นล็อคการทำงานประกอบอาหารประเภทผัดต้มทอดนึ่งได้ทุกเมนูใช้งานปลอดภัยตัดไฟเมื่อความร้อนเกินและตัดไฟเมื่อเปิดเตาแต่ไม่วางภาชนะมีเสียงเตือนเมื่อลืมปิดเตารับประกันสินค้า1 ปีขนาด370x290x35มมสีดำหมายเหตุสีของผลิตภัณฑ์ที่แสดงบนเว็บไซต์อาจมีความแตกต่างกันจากการตั้งค่าการแสดงผลสีของแต่ละหน้าจอ****\n",
      "Same index: 918951 Value: 110 Rank: 54\n",
      "Sentence: ni cole slim induction cooker ceramic induction cooker with touch panel led display power consumption max ) 2000w table top designed 10 level adjustable power automatic cookerware material suitability check overheat prevention suitable for menu hotpot stir-fry steam fry technical information power consumption max power 2000watt voltage 220-240v 50 hz product specification control touch control material quality ceramic glass cooktop display screen touch panel with led display power level 10 level temperature setting safty no pot detaction or no operation or overheat prevention warranty 1 year dimension 370 x 290 x 35 mm color black caution in term of item color it may be slightly different from each monitor display and specification * *\n",
      "Minimum index: 912290 Value: 105\n",
      "Sentence: made with a graded particle board table top is 25 mm thick side board is 16 mm thick coated with pv c edge coated with melamine make smooth water heat and scratch proof surface product dimension 80 x 40 x 160 cm product color ladinia-tikkabania ladinia-tikkabania * * *\n",
      "========================================\n"
     ]
    },
    {
     "name": "stderr",
     "output_type": "stream",
     "text": [
      "\r",
      "965it [35:15,  3.77s/it]"
     ]
    },
    {
     "name": "stdout",
     "output_type": "stream",
     "text": [
      "Index ประโยคภาษาไทย: 293836\n",
      "ประโยค: นางเอกคาร์ลีไม่เคยมีความสัมพันธ์ใดๆกับใครนอกจากเบธเพื่อนสนิทของเธอ****\n",
      "Same index: 293836 Value: 17 Rank: 100\n",
      "Sentence: the heroine carly never get into any kind of relationship with anyone other than her best friend beth * * *\n",
      "Minimum index: 449482 Value: 15\n",
      "Sentence: it did not hold my attention enough though but that 's me * *\n",
      "========================================\n"
     ]
    },
    {
     "name": "stderr",
     "output_type": "stream",
     "text": [
      "\r",
      "966it [35:17,  3.17s/it]"
     ]
    },
    {
     "name": "stdout",
     "output_type": "stream",
     "text": [
      "Index ประโยคภาษาไทย: 348281\n",
      "ประโยค: เขาใช้กล้องหลายครั้งในช่วงวันหยุดพักผ่อนแต่ก็ไม่ได้มีปัญหาอะไรกับมัน*****\n",
      "Same index: 348281 Value: 14 Rank: 0\n",
      "Sentence: he us the camera a lot on vacation but ha not had any real problem with it * * * *\n",
      "Minimum index: 348281 Value: 14\n",
      "Sentence: he us the camera a lot on vacation but ha not had any real problem with it * * * *\n",
      "========================================\n"
     ]
    },
    {
     "name": "stderr",
     "output_type": "stream",
     "text": [
      "\r",
      "967it [35:18,  2.59s/it]"
     ]
    },
    {
     "name": "stdout",
     "output_type": "stream",
     "text": [
      "Index ประโยคภาษาไทย: 171114\n",
      "ประโยค: พวกนี้คือโอเคแต่มันทำให้ผิวฉันแห้ง****\n",
      "Same index: 171114 Value: 7 Rank: 0\n",
      "Sentence: these are ok but leave my face dry * * * * * *\n",
      "Minimum index: 171114 Value: 7\n",
      "Sentence: these are ok but leave my face dry * * * * * *\n",
      "========================================\n"
     ]
    },
    {
     "name": "stderr",
     "output_type": "stream",
     "text": [
      "\r",
      "968it [35:20,  2.50s/it]"
     ]
    },
    {
     "name": "stdout",
     "output_type": "stream",
     "text": [
      "Index ประโยคภาษาไทย: 475320\n",
      "ประโยค: ฉันซื้อกล้องตัวนี้เนื่องจากโฆษณาว่ามีระดับความละเอียดสูงถึงล้านพิกเซลและเนื่องจากราคาสมเหตุสมผลมากฉันถึงแม้ว่าเฮ้ทําไมไม่****\n",
      "Same index: 475320 Value: 21 Rank: 0\n",
      "Sentence: i bought this camera a it wa advertised to have a high megapixel rating and since the price wa very reasonable i though hey why not * *\n",
      "Minimum index: 475320 Value: 21\n",
      "Sentence: i bought this camera a it wa advertised to have a high megapixel rating and since the price wa very reasonable i though hey why not * *\n",
      "========================================\n"
     ]
    },
    {
     "name": "stderr",
     "output_type": "stream",
     "text": [
      "\r",
      "969it [35:25,  3.20s/it]"
     ]
    },
    {
     "name": "stdout",
     "output_type": "stream",
     "text": [
      "Index ประโยคภาษาไทย: 20599\n",
      "ประโยค: ธนาคารกลางเกาหลีใต้ปรับลดอัตราดอกเบี้ยนโยบายลงร้อยละ 025ต่อปีเพื่อรองรับความเสี่ยงจากการชะลอตัวของเศรษฐกิจโลกและลดผลกระทบจากมาตรการผ่อนคลายทางการเงินของญี่ปุ่นธนาคารกลางเวียดนามปรับลดอัตราดอกเบี้ยนโยบายลงอีกร้อยละ 1ต่อปีเพื่อสนับสนุนการเติบโตของเศรษฐกิจที่มีแนวโน้มชะลอตัวส่งผลให้ณปัจจุบันอัตราดอกเบี้ยนโยบายของอินเดีย**\n",
      "Same index: 20599 Value: 51 Rank: 2\n",
      "Sentence: iv ) bank of korea lowered it policy rate by 0.25 percent to deal with risk of global economic slowdown and at the same time reduce the impact of the japan quantitative easing measure v ) state bank of vietnam cut it policy rate by 1.00 percent to support domestic economy * * * * *\n",
      "Minimum index: 325806 Value: 50\n",
      "Sentence: it explains many aspect of the japanese culture and how they view thing *\n",
      "========================================\n"
     ]
    },
    {
     "name": "stderr",
     "output_type": "stream",
     "text": [
      "\r",
      "970it [35:38,  6.15s/it]"
     ]
    },
    {
     "name": "stdout",
     "output_type": "stream",
     "text": [
      "Index ประโยคภาษาไทย: 903912\n",
      "ประโยค: ลาเนจคือผู้นำแห่งนวัตกรรมผลิตภัณฑ์คุชชั่นเริ่มด้วยLANEIGEBBCUSHIONจนเกิดการปฏิวัติกฎการเมคอัพของผู้หญิงทั่วโลกและด้วยนวัตกรรมและเทคโนโลยีที่ลาเนจพัฒนาอย่างไม่หยุดยั้งทำให้ลาเนจก้าวมาเป็นผู้นำของการสร้างมาตรฐานใหม่ของนวัตกรรมคุชชั่นอย่างแท้จริงผลิตภัณฑ์แป้งผสมรองพื้นในรูปแบบคุชชั่นชนิดตาข่ายมอบสัมผัสเรียบลื่นบางเบาดุจอากาศกับผลลัพธ์ผิวแมตต์แต่อุดมความชุ่มชื้นไม่ดูแห้งกร้านให้การปกปิดเนียนสนิทฟิตกับผิวเสมือนเป็นผิวใหม่ที่ดูสวยสมบูรณ์แบบกว่าเคยเพื่อตอบโจทย์ความแตกต่างของสีผิวที่หลากหลายLANEIGEPOWDERFITCUSHIONจึงมี5เฉดสีเพื่อตอบโจทย์ทุกความต้องการอย่างที่สุดสีNo13Ivory9gสินค้ามีอายุ5 ปีนับจากวันผลิตหมายเหตุสีของผลิตภัณฑ์ที่แสดงบนเว็บไซต์อาจมีความแตกต่างกันจากการตั้งค่าการแสดงผลของแต่ละหน้าจอ******\n",
      "Same index: 903912 Value: 141 Rank: 71\n",
      "Sentence: laneige powder fit cushion no 13 ivory cream to powder texture provides you a matt finishing with excellent coverage control sebum and absorbs sweat to create long-lasting fluffy and soft skin apply onto puff and gently dab on your cheek nose forehead and chin and from inside to outside along the skin texture shade no 13 ivory 9 g. this product last for 5 year since the manufacture date note in term of item color it may be slightly different from each monitor display and specification * * * * * *\n",
      "Minimum index: 918037 Value: 138\n",
      "Sentence: nu cover king size duvet cover help you sleep more tightly and comfortably every night nu cover king size duvet cover king duvet size 6 foot made of 100 cotton satin 340 thread 10 sq m. ellen print note color of the product shown on the website may differ due to the different display setting of each screen * * * * *\n",
      "========================================\n"
     ]
    },
    {
     "name": "stderr",
     "output_type": "stream",
     "text": [
      "\r",
      "971it [35:40,  4.84s/it]"
     ]
    },
    {
     "name": "stdout",
     "output_type": "stream",
     "text": [
      "Index ประโยคภาษาไทย: 534871\n",
      "ประโยค: หากเธอไม่ตอบฉันจะสมมติว่าเธอยังหลับอยู่และฉันจะเริ่มโทรแล้วนะ**\n",
      "Same index: 534871 Value: 17 Rank: 0\n",
      "Sentence: if you do n't respond imma assume you 're still asleep and imma start calling n shit shit * * *\n",
      "Minimum index: 534871 Value: 17\n",
      "Sentence: if you do n't respond imma assume you 're still asleep and imma start calling n shit shit * * *\n",
      "========================================\n"
     ]
    },
    {
     "name": "stderr",
     "output_type": "stream",
     "text": [
      "\r",
      "972it [35:42,  3.97s/it]"
     ]
    },
    {
     "name": "stdout",
     "output_type": "stream",
     "text": [
      "Index ประโยคภาษาไทย: 825673\n",
      "ประโยค: มีค่าตรวจสอบ89 ดอลลาร์นะคะจะคิดไปในค่าซ่อมเลยให้ดำเนินการต่อมั้ยคะ******\n",
      "Same index: 825673 Value: 18 Rank: 539\n",
      "Sentence: there is a 89 inspection fee which will be added to your total can i continue booking your appointment * *\n",
      "Minimum index: 496373 Value: 13\n",
      "Sentence: the mock turtle went on * *\n",
      "========================================\n"
     ]
    },
    {
     "name": "stderr",
     "output_type": "stream",
     "text": [
      "\r",
      "973it [35:43,  3.16s/it]"
     ]
    },
    {
     "name": "stdout",
     "output_type": "stream",
     "text": [
      "Index ประโยคภาษาไทย: 658560\n",
      "ประโยค: สวัสดีค่ะถูกแล้วค่ะรอบฉายที่เวอร์จิเนียซิตี้เป็นสี่โมงเย็นค่ะ*\n",
      "Same index: 658560 Value: 13 Rank: 70\n",
      "Sentence: yes hello thats correct virginia city show it at 4 pm pm * *\n",
      "Minimum index: 809107 Value: 11\n",
      "Sentence: correct and maybe 7:00 tonight * * *\n",
      "========================================\n"
     ]
    },
    {
     "name": "stderr",
     "output_type": "stream",
     "text": [
      "\r",
      "974it [35:45,  2.58s/it]"
     ]
    },
    {
     "name": "stdout",
     "output_type": "stream",
     "text": [
      "Index ประโยคภาษาไทย: 778908\n",
      "ประโยค: โอเคค่ะให้รถไปรับที่ไหนคะ******\n",
      "Same index: 778908 Value: 13 Rank: 466\n",
      "Sentence: ok sure and your pick up location\n",
      "Minimum index: 755744 Value: 6\n",
      "Sentence: alright go ahead * * * *\n",
      "========================================\n"
     ]
    },
    {
     "name": "stderr",
     "output_type": "stream",
     "text": [
      "\r",
      "975it [35:45,  1.99s/it]"
     ]
    },
    {
     "name": "stdout",
     "output_type": "stream",
     "text": [
      "Index ประโยคภาษาไทย: 234765\n",
      "ประโยค: ทำความสะอาดง่ายมาก****\n",
      "Same index: 234765 Value: 4 Rank: 51\n",
      "Sentence: so easy to clean up * *\n",
      "Minimum index: 485401 Value: 3\n",
      "Sentence: delete this file * * * *\n",
      "========================================\n"
     ]
    },
    {
     "name": "stderr",
     "output_type": "stream",
     "text": [
      "\r",
      "976it [35:46,  1.79s/it]"
     ]
    },
    {
     "name": "stdout",
     "output_type": "stream",
     "text": [
      "Index ประโยคภาษาไทย: 639058\n",
      "ประโยค: ตรงถนนเพิร์ลในสตรองวิลล์ค่ะ******\n",
      "Same index: 639058 Value: 8 Rank: 1\n",
      "Sentence: the one on pearl road in strongsville *\n",
      "Minimum index: 802485 Value: 7\n",
      "Sentence: correct 3 large pizza * * *\n",
      "========================================\n"
     ]
    },
    {
     "name": "stderr",
     "output_type": "stream",
     "text": [
      "\r",
      "977it [35:48,  1.60s/it]"
     ]
    },
    {
     "name": "stdout",
     "output_type": "stream",
     "text": [
      "Index ประโยคภาษาไทย: 505802\n",
      "ประโยค: ฉันจะไปที่ปราสาทของเธอได้อย่างไร*****\n",
      "Same index: 505802 Value: 13 Rank: 476\n",
      "Sentence: how can i get to her castle\n",
      "Minimum index: 395348 Value: 8\n",
      "Sentence: we have been unable to listen since 2006 * * * * * *\n",
      "========================================\n"
     ]
    },
    {
     "name": "stderr",
     "output_type": "stream",
     "text": [
      "\r",
      "978it [35:48,  1.31s/it]"
     ]
    },
    {
     "name": "stdout",
     "output_type": "stream",
     "text": [
      "Index ประโยคภาษาไทย: 476322\n",
      "ประโยค: คําสั่งซื้อผิดเมื่อไร***\n",
      "Same index: 476322 Value: 5 Rank: 73\n",
      "Sentence: when doe an order go wrong *\n",
      "Minimum index: 239645 Value: 4\n",
      "Sentence: he love this toy * * *\n",
      "========================================\n"
     ]
    },
    {
     "name": "stderr",
     "output_type": "stream",
     "text": [
      "\r",
      "979it [35:50,  1.48s/it]"
     ]
    },
    {
     "name": "stdout",
     "output_type": "stream",
     "text": [
      "Index ประโยคภาษาไทย: 334302\n",
      "ประโยค: เธอใช้เงิน240หรือมากกว่านั้นที่ToysRUsและTargetดังนั้นคุณสามารถจินตนาการได้ว่าเธออกหัก\n",
      "Same index: 334302 Value: 17 Rank: 0\n",
      "Sentence: she spent 240 or more dollar at toy r u and target so you can imagine how heartbroken she wa *\n",
      "Minimum index: 334302 Value: 17\n",
      "Sentence: she spent 240 or more dollar at toy r u and target so you can imagine how heartbroken she wa *\n",
      "========================================\n"
     ]
    },
    {
     "name": "stderr",
     "output_type": "stream",
     "text": [
      "\r",
      "980it [35:51,  1.24s/it]"
     ]
    },
    {
     "name": "stdout",
     "output_type": "stream",
     "text": [
      "Index ประโยคภาษาไทย: 310037\n",
      "ประโยค: ทั้งสามคนนั้นยอดเยี่ยมมาก*\n",
      "Same index: 310037 Value: 4 Rank: 0\n",
      "Sentence: all three are wonderful * * *\n",
      "Minimum index: 310037 Value: 4\n",
      "Sentence: all three are wonderful * * *\n",
      "========================================\n"
     ]
    },
    {
     "name": "stderr",
     "output_type": "stream",
     "text": [
      "\r",
      "981it [35:53,  1.43s/it]"
     ]
    },
    {
     "name": "stdout",
     "output_type": "stream",
     "text": [
      "Index ประโยคภาษาไทย: 365759\n",
      "ประโยค: พวกเขาทั้งสองดูเหมือนว่าพวกเขาจะถูกลบออกแต่ก็ไม่ได้สังเกตเห็นได้ชัดเจนมาก*****\n",
      "Same index: 365759 Value: 15 Rank: 12\n",
      "Sentence: they both seemed like they could be removed but were n't very noticeable *\n",
      "Minimum index: 61278 Value: 13\n",
      "Sentence: it seems the ingredient have changed *\n",
      "========================================\n"
     ]
    },
    {
     "name": "stderr",
     "output_type": "stream",
     "text": [
      "\r",
      "982it [35:54,  1.38s/it]"
     ]
    },
    {
     "name": "stdout",
     "output_type": "stream",
     "text": [
      "Index ประโยคภาษาไทย: 116805\n",
      "ประโยค: มันทำความสะอาดยากและมันมีชิ้นส่วนหลวมๆอยู่เยอะ***\n",
      "Same index: 116805 Value: 10 Rank: 1\n",
      "Sentence: it 's hard to clean up there are always loose piece * * *\n",
      "Minimum index: 64281 Value: 9\n",
      "Sentence: so far only 2 have failed on u * * * * * *\n",
      "========================================\n"
     ]
    },
    {
     "name": "stderr",
     "output_type": "stream",
     "text": [
      "\r",
      "983it [35:55,  1.15s/it]"
     ]
    },
    {
     "name": "stdout",
     "output_type": "stream",
     "text": [
      "Index ประโยคภาษาไทย: 161612\n",
      "ประโยค: ตอนแรกก็ไปได้ดีค่ะ**\n",
      "Same index: 161612 Value: 8 Rank: 256\n",
      "Sentence: at first it seemed like this wa great * * * * * *\n",
      "Minimum index: 109614 Value: 4\n",
      "Sentence: thankfully i had two * * *\n",
      "========================================\n"
     ]
    },
    {
     "name": "stderr",
     "output_type": "stream",
     "text": [
      "\r",
      "984it [35:56,  1.18s/it]"
     ]
    },
    {
     "name": "stdout",
     "output_type": "stream",
     "text": [
      "Index ประโยคภาษาไทย: 492330\n",
      "ประโยค: Telematicsเป็นเทคนิคในการติดตามกิจกรรมและประสิทธิภาพของรถยนต์***\n",
      "Same index: 492330 Value: 9 Rank: 0\n",
      "Sentence: telematics is a technique for tracking the activity and performance of a car *\n",
      "Minimum index: 492330 Value: 9\n",
      "Sentence: telematics is a technique for tracking the activity and performance of a car *\n",
      "========================================\n"
     ]
    },
    {
     "name": "stderr",
     "output_type": "stream",
     "text": [
      "\r",
      "985it [35:58,  1.37s/it]"
     ]
    },
    {
     "name": "stdout",
     "output_type": "stream",
     "text": [
      "Index ประโยคภาษาไทย: 350548\n",
      "ประโยค: ส่วนมากเกิดขึ้นในบทเดียวและไม่มีรายละเอียดใดๆยกเว้นเมื่อพวกเขาอ้างถึง*****\n",
      "Same index: 350548 Value: 17 Rank: 538\n",
      "Sentence: to much of it happens in one chapter and no detail are given except when they refer back to it *\n",
      "Minimum index: 487958 Value: 14\n",
      "Sentence: he gave her the cold shoulder *\n",
      "========================================\n"
     ]
    },
    {
     "name": "stderr",
     "output_type": "stream",
     "text": [
      "\r",
      "986it [35:59,  1.34s/it]"
     ]
    },
    {
     "name": "stdout",
     "output_type": "stream",
     "text": [
      "Index ประโยคภาษาไทย: 75256\n",
      "ประโยค: อย่าซื้อกล้องนิคอนจนกระทั่งเขาแก้ปัญหาเกี่ยวกับดีไซน์หรือการผลิตแล้ว**\n",
      "Same index: 75256 Value: 12 Rank: 42\n",
      "Sentence: do not buy any nikon camera until they fix their designmanufacturing issue * *\n",
      "Minimum index: 716810 Value: 11\n",
      "Sentence: let me check and get back to you in a minute * * *\n",
      "========================================\n"
     ]
    },
    {
     "name": "stderr",
     "output_type": "stream",
     "text": [
      "\r",
      "987it [36:00,  1.13s/it]"
     ]
    },
    {
     "name": "stdout",
     "output_type": "stream",
     "text": [
      "Index ประโยคภาษาไทย: 714674\n",
      "ประโยค: ดีค่ะขอบคุณที่ช่วยนะคะ*\n",
      "Same index: 714674 Value: 5 Rank: 1\n",
      "Sentence: sound good thank you for your help help * * * * * *\n",
      "Minimum index: 670436 Value: 4\n",
      "Sentence: right on thanks for your help *\n",
      "========================================\n"
     ]
    },
    {
     "name": "stderr",
     "output_type": "stream",
     "text": [
      "\r",
      "988it [36:01,  1.17s/it]"
     ]
    },
    {
     "name": "stdout",
     "output_type": "stream",
     "text": [
      "Index ประโยคภาษาไทย: 407974\n",
      "ประโยค: เราไม่เคยรู้สึกประทับใจกับภาพลักษณ์ของมัน*****\n",
      "Same index: 407974 Value: 8 Rank: 0\n",
      "Sentence: we were never that impressed with it 's image * * * * *\n",
      "Minimum index: 860214 Value: 8\n",
      "Sentence: basket no 828 block blue blue *\n",
      "========================================\n"
     ]
    },
    {
     "name": "stderr",
     "output_type": "stream",
     "text": [
      "\r",
      "989it [36:03,  1.38s/it]"
     ]
    },
    {
     "name": "stdout",
     "output_type": "stream",
     "text": [
      "Index ประโยคภาษาไทย: 106319\n",
      "ประโยค: เรามีพื้นที่ว่างด้านหลังเตาที่ต้องการจะใช้เป็นเตาอบเลยเอามาวางไว้ตรงนี้***\n",
      "Same index: 106319 Value: 14 Rank: 0\n",
      "Sentence: we had a space behind our stove that we wanted to use a an oven so placed this there * *\n",
      "Minimum index: 549711 Value: 14\n",
      "Sentence: cant make it for astro today *\n",
      "========================================\n"
     ]
    },
    {
     "name": "stderr",
     "output_type": "stream",
     "text": [
      "\r",
      "990it [36:05,  1.54s/it]"
     ]
    },
    {
     "name": "stdout",
     "output_type": "stream",
     "text": [
      "Index ประโยคภาษาไทย: 121495\n",
      "ประโยค: แต่ละเรื่องสามารถอ่านแยกกันได้หรือจะอ่านด้วยกันก็ได้ในช่วงบ่ายเลยเหมาะกับฉันค่ะ****\n",
      "Same index: 121495 Value: 14 Rank: 3\n",
      "Sentence: each novella can be read separately or together in an afternoon so it work for me * * * * *\n",
      "Minimum index: 149834 Value: 13\n",
      "Sentence: seems well made too * * *\n",
      "========================================\n"
     ]
    },
    {
     "name": "stderr",
     "output_type": "stream",
     "text": [
      "\r",
      "991it [36:05,  1.27s/it]"
     ]
    },
    {
     "name": "stdout",
     "output_type": "stream",
     "text": [
      "Index ประโยคภาษาไทย: 776345\n",
      "ประโยค: ค่ะต้องการให้ไปส่งที่ไหนคะ\n",
      "Same index: 776345 Value: 13 Rank: 287\n",
      "Sentence: ok and where would you like to be dropped off * * * *\n",
      "Minimum index: 430250 Value: 6\n",
      "Sentence: nice smooth feel in hand * *\n",
      "========================================\n"
     ]
    },
    {
     "name": "stderr",
     "output_type": "stream",
     "text": [
      "\r",
      "992it [36:06,  1.10s/it]"
     ]
    },
    {
     "name": "stdout",
     "output_type": "stream",
     "text": [
      "Index ประโยคภาษาไทย: 671291\n",
      "ประโยค: ช่วยบอกข้อมูลเพิ่มได้ไหม*\n",
      "Same index: 671291 Value: 6 Rank: 6\n",
      "Sentence: could you tell me more * *\n",
      "Minimum index: 501981 Value: 5\n",
      "Sentence: i gave you my promise * *\n",
      "========================================\n"
     ]
    },
    {
     "name": "stderr",
     "output_type": "stream",
     "text": [
      "\r",
      "993it [36:07,  1.15s/it]"
     ]
    },
    {
     "name": "stdout",
     "output_type": "stream",
     "text": [
      "Index ประโยคภาษาไทย: 834351\n",
      "ประโยค: ช่วยสะกดชื่อได้มั้ยคะคุณโด******\n",
      "Same index: 834351 Value: 9 Rank: 228\n",
      "Sentence: how do you spell your first name mister doe * * * * *\n",
      "Minimum index: 694362 Value: 6\n",
      "Sentence: make it non-fat non-fat * * *\n",
      "========================================\n"
     ]
    },
    {
     "name": "stderr",
     "output_type": "stream",
     "text": [
      "\r",
      "994it [36:08,  1.19s/it]"
     ]
    },
    {
     "name": "stdout",
     "output_type": "stream",
     "text": [
      "Index ประโยคภาษาไทย: 826435\n",
      "ประโยค: เข้าใจแล้วค่ะให้ไปรับที่ไหนคะ******\n",
      "Same index: 826435 Value: 8 Rank: 25\n",
      "Sentence: got it and what is your pickup location * * * * * *\n",
      "Minimum index: 41042 Value: 6\n",
      "Sentence: they have never worked * * *\n",
      "========================================\n"
     ]
    },
    {
     "name": "stderr",
     "output_type": "stream",
     "text": [
      "\r",
      "995it [36:13,  2.06s/it]"
     ]
    },
    {
     "name": "stdout",
     "output_type": "stream",
     "text": [
      "Index ประโยคภาษาไทย: 12292\n",
      "ประโยค: มีความท้าทายอย่างต่อเนื่องต่อความคิดเห็นเรื่องหนึ่งประเทศสองระบบและในตอนนี้สิ่งที่ทุกคนกลัวก็คือไม่เพียงแต่ฮ่องกงจะไม่เป็นประชาธิปไตยโดยสมบูรณ์แต่ในขณะนี้เรากำลังเห็นการโจมตีค่านิยมหลักของเรานายเช็งกล่าว******\n",
      "Same index: 12292 Value: 32 Rank: 0\n",
      "Sentence: there are constant challenge to the notion of one country two system and now the fear is that not only will hong kong not have full democracy we are now seeing an attack on our core value cheng said * * * *\n",
      "Minimum index: 12292 Value: 32\n",
      "Sentence: there are constant challenge to the notion of one country two system and now the fear is that not only will hong kong not have full democracy we are now seeing an attack on our core value cheng said * * * *\n",
      "========================================\n"
     ]
    },
    {
     "name": "stderr",
     "output_type": "stream",
     "text": [
      "\r",
      "996it [36:14,  1.98s/it]"
     ]
    },
    {
     "name": "stdout",
     "output_type": "stream",
     "text": [
      "Index ประโยคภาษาไทย: 743505\n",
      "ประโยค: คุณผู้ช่วยคะฉันอยากจะให้คุณช่วยจัดตารางนัดศูนย์ซ่อมรถให้หน่อย****\n",
      "Same index: 743505 Value: 15 Rank: 0\n",
      "Sentence: assistant can you schedule an auto repair appointment for my car car * *\n",
      "Minimum index: 743505 Value: 15\n",
      "Sentence: assistant can you schedule an auto repair appointment for my car car * *\n",
      "========================================\n"
     ]
    },
    {
     "name": "stderr",
     "output_type": "stream",
     "text": [
      "\r",
      "997it [36:15,  1.57s/it]"
     ]
    },
    {
     "name": "stdout",
     "output_type": "stream",
     "text": [
      "Index ประโยคภาษาไทย: 325449\n",
      "ประโยค: วิธีการเขียนนั้นทําให้ฉันหัวเราะ\n",
      "Same index: 325449 Value: 12 Rank: 233\n",
      "Sentence: the way that it wa written just made me laugh * * * *\n",
      "Minimum index: 300401 Value: 6\n",
      "Sentence: not worth what wa paid * *\n",
      "========================================\n"
     ]
    },
    {
     "name": "stderr",
     "output_type": "stream",
     "text": [
      "\r",
      "998it [36:18,  2.11s/it]"
     ]
    },
    {
     "name": "stdout",
     "output_type": "stream",
     "text": [
      "Index ประโยคภาษาไทย: 142627\n",
      "ประโยค: นี่เป็นอัลบั้มที่เยี่ยมยอดมากค่ะและเป็นความสำเร็จของTheRootsที่ทำอะไรได้ในระดับนี้กับเพลงที่มีส่วนรวมจากสมาชิกในครอบครัวบอกได้เลยค่ะว่าพวกเขาทำงานหนักจริงๆกับนี่***\n",
      "Same index: 142627 Value: 36 Rank: 82\n",
      "Sentence: this is really a fantastic album and it 's such an accomplishment for the root to get something on this level with every member of their family contributing track * * * * * *\n",
      "Minimum index: 192607 Value: 33\n",
      "Sentence: it make for great reading however it 's not all easy to follow *\n",
      "========================================\n"
     ]
    },
    {
     "name": "stderr",
     "output_type": "stream",
     "text": [
      "\r",
      "999it [36:20,  1.84s/it]"
     ]
    },
    {
     "name": "stdout",
     "output_type": "stream",
     "text": [
      "Index ประโยคภาษาไทย: 719150\n",
      "ประโยค: ฉันเจอภัตตาคารอาหารญี่ปุ่น4ที่เรท45ดาวขึ้นไปค่ะ**\n",
      "Same index: 719150 Value: 9 Rank: 0\n",
      "Sentence: i see four japanese restaurant rated 4.5 star and above * * * *\n",
      "Minimum index: 719150 Value: 9\n",
      "Sentence: i see four japanese restaurant rated 4.5 star and above * * * *\n",
      "========================================\n"
     ]
    },
    {
     "name": "stderr",
     "output_type": "stream",
     "text": [
      "1000it [36:32,  2.19s/it]"
     ]
    },
    {
     "name": "stdout",
     "output_type": "stream",
     "text": [
      "Index ประโยคภาษาไทย: 944478\n",
      "ประโยค: TEFALรุ่นGV4630เตารีดไอน้ำหม้อต้มแรงดันสูงขนาดกะทัดรัดนี้ไอน้ำเพิ่มขึ้นถึง3เท่าและแรงดันไอน้ำสูง42บาร์เพื่อให้ได้ผลลัพธ์ที่รวดเร็วและมีประสิทธิภาพคุ้มค่าเงินมาพร้อมกับขนาดกะทัดรัดโดยพื้นที่ฐานเครื่องลดลงเพื่อการใช้งานและการจัดเก็บที่ง่ายอีกทั้งยังติดตั้งเร็วด้วยความที่เป็นเตารีดไอน้ำแบบหม้อต้มที่ร้อนเร็วพร้อมให้ใช้งานภายใน4 นาทีอีกทั้งยังให้พลังไปน้ำระดับสูงเพื่อการรีดผ้าที่รวดเร็วและมีประสิทธิภาพยิ่งขึ้นแรงดันไอน้ำ 42 บาร์ พลังไอน้ำต่อเนื่อง 110 กรัมนาที แท้งค์น้ำจุ 07 ลิตร มีแผ่นทำความร้อน EASY GLIDING Ceramicหม้อต้มร้อนเร็วไอน้ำพร้อมใช้งานภายใน4 นาทีสามารถรีดผ้าแนวตั้งได้มีระบบทำความสะอาดตะกรันขนาดกะทัดรัดจัดเก็บสะดวกน้ำหนักเบามีไฟแสดงเมื่อไอน้ำหมดพบกับสินค้าคุณภาพได้อีกหลายรายการพร้อมให้คุณเลือกสินค้าที่ใช่สำหรับคุณในราคาสุดพิเศษได้แล้วที่เว็บไซต์Powerbuy****\n",
      "Same index: 944478 Value: 129 Rank: 0\n",
      "Sentence: tefal gv4630 this high-pressure steam boiler is compact steam up to 3 time and high pressure 4.2 bar for fast and efficient result come with a compact with reduced base space for easy usage and storage also installed fast with a hot steam boiler ready to use within 4 minute and also provide power to the high water steam pressure 4.2 bar continuous steam 110 g min water tank capacity 0.7 liter easy gliding ceramic heating boiler steam can be used within 4 minute there is a system to clean the slag compact lightweight and easy to carry find out more about tefal product ready for you to choose the right product for you special price then at the powerbuy website * * * * *\n",
      "Minimum index: 944478 Value: 129\n",
      "Sentence: tefal gv4630 this high-pressure steam boiler is compact steam up to 3 time and high pressure 4.2 bar for fast and efficient result come with a compact with reduced base space for easy usage and storage also installed fast with a hot steam boiler ready to use within 4 minute and also provide power to the high water steam pressure 4.2 bar continuous steam 110 g min water tank capacity 0.7 liter easy gliding ceramic heating boiler steam can be used within 4 minute there is a system to clean the slag compact lightweight and easy to carry find out more about tefal product ready for you to choose the right product for you special price then at the powerbuy website * * * * *\n",
      "========================================\n"
     ]
    },
    {
     "name": "stderr",
     "output_type": "stream",
     "text": [
      "\n"
     ]
    }
   ],
   "source": [
    "count, length = evaluate(1)"
   ]
  },
  {
   "cell_type": "code",
   "execution_count": 41,
   "metadata": {},
   "outputs": [],
   "source": [
    "sorted_tuples = sorted(count.items(), key=lambda item: item[0])\n",
    "sorted_count = {k: v for k, v in sorted_tuples}"
   ]
  },
  {
   "cell_type": "code",
   "execution_count": 42,
   "metadata": {},
   "outputs": [],
   "source": [
    "import matplotlib.pyplot as plt"
   ]
  },
  {
   "cell_type": "code",
   "execution_count": 43,
   "metadata": {},
   "outputs": [
    {
     "data": {
      "text/plain": [
       "Text(0, 0.5, 'Amount')"
      ]
     },
     "execution_count": 43,
     "metadata": {},
     "output_type": "execute_result"
    },
    {
     "data": {
      "image/png": "[encoded data removed]",
      "text/plain": [
       "<Figure size 432x288 with 1 Axes>"
      ]
     },
     "metadata": {
      "needs_background": "light"
     },
     "output_type": "display_data"
    }
   ],
   "source": [
    "plt.bar(list(sorted_count.keys())[0:20], list(sorted_count.values())[0:20])\n",
    "plt.xlabel('Rank')\n",
    "plt.ylabel('Amount')"
   ]
  },
  {
   "cell_type": "code",
   "execution_count": 44,
   "metadata": {},
   "outputs": [
    {
     "name": "stdout",
     "output_type": "stream",
     "text": [
      "Top1:     34.10 %\n",
      "Top2-5:   9.90 %\n",
      "Top5-10:  4.50 %\n",
      "Top11-20: 3.90 %\n"
     ]
    }
   ],
   "source": [
    "range0 = 0\n",
    "range1_4 = 0\n",
    "range5_9 = 0\n",
    "range10_19 = 0\n",
    "for i, v in list(sorted_count.items())[0:19]:\n",
    "    if i == 0:\n",
    "        range0 += v\n",
    "    elif i>=1 and i<=4:\n",
    "        range1_4 += v\n",
    "    elif i>=5 and i<=9:\n",
    "        range5_9 += v\n",
    "    else:\n",
    "        range10_19 += v\n",
    "        \n",
    "print(f\"Top1:     {(range0 / N)*100:.2f} %\")\n",
    "print(f\"Top2-5:   {(range1_4 / N)*100:.2f} %\")\n",
    "print(f\"Top5-10:  {(range5_9 / N)*100:.2f} %\")\n",
    "print(f\"Top11-20: {(range10_19 / N)*100:.2f} %\")"
   ]
  },
  {
   "cell_type": "code",
   "execution_count": null,
   "metadata": {},
   "outputs": [],
   "source": []
  }
 ],
 "metadata": {
  "kernelspec": {
   "display_name": "Python 3",
   "language": "python",
   "name": "python3"
  },
  "language_info": {
   "codemirror_mode": {
    "name": "ipython",
    "version": 3
   },
   "file_extension": ".py",
   "mimetype": "text/x-python",
   "name": "python",
   "nbconvert_exporter": "python",
   "pygments_lexer": "ipython3",
   "version": "3.7.6"
  }
 },
 "nbformat": 4,
 "nbformat_minor": 4
}
