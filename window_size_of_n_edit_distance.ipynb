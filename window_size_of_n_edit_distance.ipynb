{
 "cells": [
  {
   "cell_type": "markdown",
   "metadata": {},
   "source": [
    "# Import Library"
   ]
  },
  {
   "cell_type": "code",
   "execution_count": 1,
   "metadata": {},
   "outputs": [],
   "source": [
    "from tqdm import tqdm # library to show progress bar\n",
    "import pickle # library to load/dump binary file"
   ]
  },
  {
   "cell_type": "markdown",
   "metadata": {},
   "source": [
    "# Global Function"
   ]
  },
  {
   "cell_type": "code",
   "execution_count": 2,
   "metadata": {},
   "outputs": [],
   "source": [
    "def readFile(filePath):\n",
    "    f = open(filePath, \"rb\") #สั่งเปิดไฟล์\n",
    "    file = pickle.load(f) # load ไฟล์\n",
    "    f.close() #สั่งปิดไฟล์\n",
    "    \n",
    "    return file"
   ]
  },
  {
   "cell_type": "code",
   "execution_count": 3,
   "metadata": {},
   "outputs": [],
   "source": [
    "def printPath(path):\n",
    "    for i in path:\n",
    "        print(f\"{i['eng']:<40}{i['thai']:<40}{i['choice']:<20}\")"
   ]
  },
  {
   "cell_type": "markdown",
   "metadata": {},
   "source": [
    "# Import dictionary thai-english & english-thai"
   ]
  },
  {
   "cell_type": "code",
   "execution_count": 4,
   "metadata": {},
   "outputs": [],
   "source": [
    "thai_dic = readFile(\"./dictionary/thai_test_set_dictionary.pkl\") # อ่านไฟล์ thai dictionary\n",
    "eng_dic = readFile(\"./dictionary/eng_test_set_dictionary_new.pkl\") # อ่านไฟล์ english dictionary"
   ]
  },
  {
   "cell_type": "markdown",
   "metadata": {},
   "source": [
    "# Import sentences thai & english"
   ]
  },
  {
   "cell_type": "code",
   "execution_count": 5,
   "metadata": {},
   "outputs": [],
   "source": [
    "def readSentences(filePath, NER=False):\n",
    "\n",
    "    file = readFile(filePath)\n",
    "    \n",
    "    if NER: # case ที่ มี NER tag ในข้อมูลด้วย\n",
    "        sents = []\n",
    "        ners = []\n",
    "        for i in file:\n",
    "            sent = []\n",
    "            ner = []\n",
    "            for j in i:\n",
    "                sent.append(j[0])\n",
    "                ner.append(j[1])\n",
    "            sents.append(sent)\n",
    "            ners.append(ner)\n",
    "        return sents, ners\n",
    "    else: # case ที่ ไม่มี NER tag ในข้อมูลด้วย\n",
    "        return file"
   ]
  },
  {
   "cell_type": "markdown",
   "metadata": {},
   "source": [
    "# Edit distance"
   ]
  },
  {
   "cell_type": "markdown",
   "metadata": {},
   "source": [
    "### With NER case (case #1)"
   ]
  },
  {
   "cell_type": "code",
   "execution_count": 6,
   "metadata": {},
   "outputs": [],
   "source": [
    "def editDistDP_NER(eng_sentence, thai_sentence, eng_ner, thai_ner, findPath=False): \n",
    "    \n",
    "    # initial variable\n",
    "    m = len(eng_sentence)\n",
    "    n = len(thai_sentence)\n",
    "    dp = [[0 for x in range(n + 1)] for x in range(m + 1)] # Create a table to store results of subproblems\n",
    "    if findPath: # ถ้าอยากดู path\n",
    "        path = [['' for x in range(n + 1)] for x in range(m + 1)]\n",
    "    \n",
    "    # check empty sentence\n",
    "    if (not eng_sentence) or (not thai_sentence):\n",
    "        return 9999\n",
    "    \n",
    "    # local function\n",
    "    def PathFindding(m, n):\n",
    "        minimumPath = []\n",
    "        a, b = m, n\n",
    "        while a > 0 and b > 0:\n",
    "            minimumPath.insert(0, {'eng':eng_sentence[a-1], 'thai':thai_sentence[b-1], 'choice': path[a][b]})\n",
    "            choice = min(dp[a][b-1],        # Insert\n",
    "                        dp[a-1][b],         # Remove\n",
    "                        dp[a-1][b-1])       # Replace\n",
    "            if choice == dp[a][b-1]:\n",
    "                b = b-1\n",
    "            elif choice == dp[a-1][b]:\n",
    "                a = a-1\n",
    "            elif choice == dp[a-1][b-1]:\n",
    "                a = a-1\n",
    "                b = b-1\n",
    "            else:\n",
    "                a = a-1\n",
    "                b = b-1 \n",
    "        return minimumPath\n",
    "    \n",
    "    def scoring(i, j):\n",
    "        # initial variable\n",
    "        score = 0 # score ของความเหมือน (โดยยิ่งน้อยยิ่งเหมือน range = [0,1])\n",
    "        same_meaning = 0 # ตัวแปรเก็บจำนวนความเหมือนของความหมาย\n",
    "        num_thai_meaning = 0 # จำนวนความหมาย\n",
    "        num_english_meaning = 0 # จำนวนความหมาย\n",
    "        \n",
    "        # range_of_english\n",
    "#         # size = 2\n",
    "#         if (i==0 or j==0):\n",
    "#             return 0, False\n",
    "#         elif (i==1):\n",
    "#             window = range(1,4)\n",
    "#         elif (i==2):\n",
    "#             window = range(1,5)\n",
    "#         elif (i==(m-1)):\n",
    "#             window = range(m-3,m+1)\n",
    "#         elif (i==(m)):\n",
    "#             window = range(m-2,m+1)\n",
    "#         else:\n",
    "#             window = range(i-2, i+3)\n",
    "        # size = 3\n",
    "        if (i==0 or j==0):\n",
    "            return 0, False\n",
    "        elif (i==1):\n",
    "            window = range(1,5)\n",
    "        elif (i==2):\n",
    "            window = range(1,6)\n",
    "        elif (i==3):\n",
    "            window = range(1,7)\n",
    "        elif (i==(m-2)):\n",
    "            window = range(m-5,m+1)    \n",
    "        elif (i==(m-1)):\n",
    "            window = range(m-4,m+1)\n",
    "        elif (i==(m)):\n",
    "            window = range(m-3,m+1)\n",
    "        else:\n",
    "            window = range(i-3, i+4)\n",
    "#         # size = 4\n",
    "#         if (i==0 or j==0):\n",
    "#             return 0, False\n",
    "#         elif (i==1):\n",
    "#             window = range(1,6)\n",
    "#         elif (i==2):\n",
    "#             window = range(1,7)\n",
    "#         elif (i==3):\n",
    "#             window = range(1,8)\n",
    "#         elif (i==4):\n",
    "#             window = range(1,9)\n",
    "#         elif (i==(m-3)):\n",
    "#             window = range(m-7,m+1) \n",
    "#         elif (i==(m-2)):\n",
    "#             window = range(m-6,m+1)    \n",
    "#         elif (i==(m-1)):\n",
    "#             window = range(m-5,m+1)\n",
    "#         elif (i==(m)):\n",
    "#             window = range(m-4,m+1)\n",
    "#         else:\n",
    "#             window = range(i-4, i+5)\n",
    "        \n",
    "        copy_trick = False \n",
    "        copy = False\n",
    "        for eng_index in window:\n",
    "            # if a word have meaning in dictionary\n",
    "            try:\n",
    "                if (eng_index-1 > m-1):\n",
    "                    continue\n",
    "                # เก็บจำนวนความหมาย\n",
    "                num_english_meaning = len(eng_dic[eng_sentence[eng_index-1].lower()])\n",
    "                num_thai_meaning = len(thai_dic[thai_sentence[j-1]])\n",
    "\n",
    "                # ถ้ามีความหมายตรงกันหมดให้คะแนนเต็มไปเลย\n",
    "                if thai_dic[thai_sentence[j-1]] == eng_dic[eng_sentence[eng_index-1]]:\n",
    "                    score = 0\n",
    "                # ถ้าไม่เหมือนหมดจะหาจำนวนความหมายที่เหมือนแล้วนำไปคิดคะแนนต่อไป\n",
    "                else:\n",
    "                    for thai_meaning in thai_dic[thai_sentence[j-1]]:\n",
    "                        for eng_meaning in eng_dic[eng_sentence[eng_index-1].lower()]:\n",
    "                            if thai_meaning == eng_meaning:\n",
    "                                same_meaning += 1\n",
    "                                break\n",
    "\n",
    "                    # ช่วงคิดคะแนน\n",
    "                    # ไม่มีความหมายที่ตรงกันเลย\n",
    "                    if same_meaning == 0:\n",
    "                        if not copy_trick:\n",
    "                            score = 1\n",
    "                            copy = False\n",
    "                    # มีอย่างน้อย 1 ความหมายที่ตรงกัน\n",
    "                    else:\n",
    "                        if not copy_trick:\n",
    "                            score = 0\n",
    "                            copy = True\n",
    "                            copy_trig = True\n",
    "\n",
    "            # if a word doesn't have meaning in dictionary       \n",
    "            # Note: ตรงนี้อาจจะต้องปรับแก้\n",
    "            except:\n",
    "                try:\n",
    "                    if (eng_index-1 > m-1):\n",
    "                        continue\n",
    "                    if (eng_sentence[eng_index-1].lower()[-3:] == 'ing'):\n",
    "                        word = eng_sentence[eng_index-1].lower()[:-3]\n",
    "                    elif (eng_sentence[eng_index-1].lower()[-2:] == 'ed'):\n",
    "                        word = eng_sentence[eng_index-1].lower()[:-2]\n",
    "\n",
    "                    # เก็บจำนวนความหมาย\n",
    "                    num_english_meaning = len(eng_dic[word])\n",
    "                    num_thai_meaning = len(thai_dic[thai_sentence[j-1]])\n",
    "\n",
    "                    # ถ้ามีความหมายตรงกันหมดให้คะแนนเต็มไปเลย\n",
    "                    if thai_dic[thai_sentence[j-1]] == eng_dic[eng_sentence[eng_index-1]]:\n",
    "                        score = 0\n",
    "                    # ถ้าไม่เหมือนหมดจะหาจำนวนความหมายที่เหมือนแล้วนำไปคิดคะแนนต่อไป\n",
    "                    else:\n",
    "                        for thai_meaning in thai_dic[thai_sentence[j-1]]:\n",
    "                            for eng_meaning in eng_dic[word]:\n",
    "                                if thai_meaning == eng_meaning:\n",
    "                                    same_meaning += 1\n",
    "                                    break\n",
    "\n",
    "                        # ช่วงคิดคะแนน\n",
    "                        # ไม่มีความหมายที่ตรงกันเลย\n",
    "                        if same_meaning == 0:\n",
    "                            if not copy_trick:\n",
    "                                score = 1\n",
    "                                copy = False\n",
    "                        # มีอย่างน้อย 1 ความหมายที่ตรงกัน\n",
    "                        else:\n",
    "                            if not copy_trick:\n",
    "                                score = 0\n",
    "                                copy = True\n",
    "                                copy_trig = True\n",
    "                except:\n",
    "                    if (eng_index-1 > m-1):\n",
    "                        continue\n",
    "                    if (eng_ner[eng_index-1] == thai_ner[j-1]) and eng_ner[eng_index-1] != 'O' and thai_ner[j-1] != 'O':\n",
    "                        if not copy_trick:\n",
    "                            score = 0\n",
    "                            copy = True\n",
    "                            copy_trig = True\n",
    "                    else:\n",
    "                        if not copy_trick:\n",
    "                            score = 1\n",
    "                            copy = False\n",
    "                        \n",
    "                \n",
    "                \n",
    "        return score, copy # case แค่เหมือนตัวเดียวเอาเลย\n",
    "                \n",
    "    # Edit distance\n",
    "    for i in range(m + 1):\n",
    "        for j in range(n + 1):\n",
    " \n",
    "            # my score\n",
    "            score, copy_check = scoring(i, j)\n",
    "\n",
    "            # If first sentence is empty, only option is to\n",
    "            # insert all words of second sentence\n",
    "            if i == 0:\n",
    "                dp[i][j] = j   # Min. operations = j\n",
    " \n",
    "            # If second sentence is empty, only option is to\n",
    "            # remove all words of second sentence\n",
    "            elif j == 0:\n",
    "                dp[i][j] = i   # Min. operations = i\n",
    " \n",
    "            # If last word have same meaning, ignore last char\n",
    "            # and recur for remaining sentence\n",
    "            elif copy_check:\n",
    "                dp[i][j] = dp[i-1][j-1]\n",
    "                if findPath:\n",
    "                    path[i][j] = 'Copy'\n",
    " \n",
    "            # If last word are different meaning, consider all\n",
    "            # possibilities and find minimum\n",
    "            else:\n",
    "                choice = min(dp[i][j-1],        # Insert\n",
    "                             dp[i-1][j],        # Remove\n",
    "                             dp[i-1][j-1])      # Replace\n",
    "                dp[i][j] = score + choice\n",
    "                    \n",
    "                if findPath:\n",
    "                    if choice == dp[i][j-1]:\n",
    "                        path[i][j] = 'Insert'\n",
    "                    elif choice == dp[i-1][j]:\n",
    "                        path[i][j] = 'Remove'\n",
    "                    else:\n",
    "                        path[i][j] = 'Replace'\n",
    "                \n",
    "    if findPath:\n",
    "        return dp[m][n], PathFindding(m, n)\n",
    "    else:\n",
    "        return dp[m][n]"
   ]
  },
  {
   "cell_type": "markdown",
   "metadata": {},
   "source": [
    "# Main program"
   ]
  },
  {
   "cell_type": "code",
   "execution_count": 7,
   "metadata": {},
   "outputs": [],
   "source": [
    "read_ner = True"
   ]
  },
  {
   "cell_type": "code",
   "execution_count": 8,
   "metadata": {},
   "outputs": [],
   "source": [
    "thai_file_path = \"./data/thai_sent_NER.data\"\n",
    "if read_ner:\n",
    "    thai_sents, thai_ners = readSentences(thai_file_path, read_ner)\n",
    "else:\n",
    "    thai_sents = readSentences(thai_file_path, read_ner)"
   ]
  },
  {
   "cell_type": "code",
   "execution_count": 9,
   "metadata": {},
   "outputs": [
    {
     "data": {
      "text/plain": [
       "36"
      ]
     },
     "execution_count": 9,
     "metadata": {},
     "output_type": "execute_result"
    }
   ],
   "source": [
    "len(thai_sents[0])"
   ]
  },
  {
   "cell_type": "code",
   "execution_count": 9,
   "metadata": {},
   "outputs": [],
   "source": [
    "eng_file_path = \"./data/eng_sent_stanfordNER.data\"\n",
    "if read_ner:\n",
    "    eng_sents, eng_ners = readSentences(eng_file_path, read_ner)\n",
    "else:\n",
    "    eng_sents = readSentences(eng_file_path, read_ner)"
   ]
  },
  {
   "cell_type": "code",
   "execution_count": 10,
   "metadata": {},
   "outputs": [
    {
     "data": {
      "text/plain": [
       "30"
      ]
     },
     "execution_count": 10,
     "metadata": {},
     "output_type": "execute_result"
    }
   ],
   "source": [
    "num = 0\n",
    "alt_num = 0\n",
    "thai_sentence = thai_sents[num]\n",
    "thai_ner = thai_ners[num]\n",
    "eng_sentence = eng_sents[alt_num]\n",
    "eng_ner = eng_ners[alt_num]\n",
    "\n",
    "score, path =  editDistDP_NER(eng_sentence, thai_sentence, eng_ner, thai_ner, True)\n",
    "\n",
    "score"
   ]
  },
  {
   "cell_type": "code",
   "execution_count": 11,
   "metadata": {},
   "outputs": [
    {
     "name": "stdout",
     "output_type": "stream",
     "text": [
      "far                                     ซ้าย                                    Copy                \n",
      "left                                    สุด                                     Replace             \n",
      "left                                    นายติโต คาร์นาเวียน                     Copy                \n",
      "indonesian national police              ผู้บัญชาการ                             Replace             \n",
      "chief                                   ตำรวจแห่งชาติอินโดนีเซีย                Replace             \n",
      "tito karnavian                          ตำรวจแห่งชาติอินโดนีเซีย                Copy                \n",
      "from                                    จาก                                     Replace             \n",
      "from                                    ซ้าย                                    Copy                \n",
      "left                                    นายโรนัลด์ เดลา โรซา                    Copy                \n",
      "philippine national police              ผู้บัญชาการ                             Replace             \n",
      "chief                                   ตำรวจแห่งชาติฟิลิปปินส์                 Replace             \n",
      "ronald dela rosa                        และ                                     Replace             \n",
      "and                                     นายคาลิด อาบู บาการ์                    Replace             \n",
      "royal                                   ผู้บัญชาการ                             Replace             \n",
      "malaysian                               ตํารวจแห่งชาติมาเลเซีย                  Replace             \n",
      "police                                  ไขว้                                    Replace             \n",
      "inspector                               แขน                                     Replace             \n",
      "general                                 แขน                                     Copy                \n",
      "khalid abu bakar                        กัน                                     Replace             \n",
      "khalid abu bakar                        ก่อน                                    Copy                \n",
      "link                                    เริ่ม                                   Replace             \n",
      "arm                                     การประชุม                               Replace             \n",
      "before                                  ความมั่นคง                              Replace             \n",
      "the                                     ไตรภาคี                                 Replace             \n",
      "the                                     ใน                                      Insert              \n",
      "the                                     เมืองปาเซย์                             Copy                \n",
      "trilateral security meeting             ซึ่ง                                    Replace             \n",
      "in                                      อยู่                                    Replace             \n",
      "pasay                                   ทาง                                     Replace             \n",
      "city                                    ตะวันออกเฉียงใต้                        Copy                \n",
      "southeast                               ตะวันออกเฉียงใต้                        Copy                \n",
      "of                                      ตะวันออกเฉียงใต้                        Copy                \n",
      "manila                                  ของ                                     Replace             \n",
      "philippine                              กรุงมะนิลา                              Replace             \n",
      "in                                      ประเทศฟิลิปปินส์                        Replace             \n",
      "june 2017                               ใน                                      Replace             \n",
      "the                                     เดือน                                   Replace             \n",
      "associated                              มิถุนายน พศ 2560                        Replace             \n",
      "press                                   ดิแอสโซซิเอทเต็ด                        Replace             \n",
      "press                                   เพรส                                    Insert              \n"
     ]
    }
   ],
   "source": [
    "printPath(path)"
   ]
  },
  {
   "cell_type": "markdown",
   "metadata": {},
   "source": [
    "# Evaluate"
   ]
  },
  {
   "cell_type": "code",
   "execution_count": 12,
   "metadata": {},
   "outputs": [],
   "source": [
    "import random"
   ]
  },
  {
   "cell_type": "code",
   "execution_count": 13,
   "metadata": {},
   "outputs": [],
   "source": [
    "# กำหนด seed เพื่อสุ่ม 1000 ประโยคภาษาอังกฤษ\n",
    "N = 1000 # จำนวนประโยคภาษาไทยที่จะสุ่ม\n",
    "\n",
    "seed = [x for x in range(N)] \n",
    "\n",
    "random.seed(1999)\n",
    "thai_sents_sample = random.sample(range(len(thai_sents)), N)"
   ]
  },
  {
   "cell_type": "code",
   "execution_count": 14,
   "metadata": {},
   "outputs": [],
   "source": [
    "eng_sents_sample = []\n",
    "for i in range(N):\n",
    "    random.seed(i)\n",
    "    eng_index = random.sample(range(len(eng_sents)), 1000)\n",
    "    eng_index.append(thai_sents_sample[i])\n",
    "    eng_index = list(set(eng_index))\n",
    "    if len(eng_index) > 1000:\n",
    "        if eng_index[0] == thai_sents_sample[i]:\n",
    "            eng_index.pop(1)\n",
    "        else:\n",
    "            eng_index.pop(0)\n",
    "    eng_sents_sample.append(eng_index)"
   ]
  },
  {
   "cell_type": "code",
   "execution_count": 15,
   "metadata": {},
   "outputs": [
    {
     "data": {
      "text/plain": [
       "1000"
      ]
     },
     "execution_count": 15,
     "metadata": {},
     "output_type": "execute_result"
    }
   ],
   "source": [
    "# Check\n",
    "total = 0\n",
    "for i, j in zip(thai_sents_sample, eng_sents_sample):\n",
    "    if i in j:\n",
    "        total += 1\n",
    "total "
   ]
  },
  {
   "cell_type": "code",
   "execution_count": 16,
   "metadata": {},
   "outputs": [],
   "source": [
    "def evaluate(case=1):\n",
    "    count = {} # เอาไว้วัด acc\n",
    "    length = {}\n",
    "    for eng_index, thai_index in tqdm(zip(eng_sents_sample, thai_sents_sample)):\n",
    "        similarity = {}\n",
    "        key_min = ''\n",
    "        if case == 0:\n",
    "            for index in eng_index: # index = one of eng_index\n",
    "                similarity[index] = editDistDP(eng_sents[index],\n",
    "                                               thai_sents[thai_index],\n",
    "                                              )\n",
    "        elif case == 1:\n",
    "            for index in eng_index: # index = one of eng_index\n",
    "                similarity[index] = editDistDP_NER(eng_sents[index],\n",
    "                                                   thai_sents[thai_index],\n",
    "                                                   eng_ners[index],\n",
    "                                                   thai_ners[thai_index]\n",
    "                                                  )\n",
    "        elif case == 2:\n",
    "            for index in eng_index: # index = one of eng_index\n",
    "                similarity[index] = editDistDP_NP( eng_sents[index],\n",
    "                                                   thai_sents[thai_index],\n",
    "                                                   eng_ners[index],\n",
    "                                                   thai_ners[thai_index]\n",
    "                                                  )\n",
    "\n",
    "        sorted_tuples = sorted(similarity.items(), key=lambda item: item[1])\n",
    "        sorted_similarity = {}\n",
    "        prev = 0\n",
    "        rank = 0\n",
    "        for i, v in enumerate(sorted_tuples):\n",
    "            if v[1] != prev:\n",
    "                sorted_similarity[v[0]] = (i, v[1])\n",
    "                rank = i\n",
    "            else:\n",
    "                sorted_similarity[v[0]] = (rank, v[1])\n",
    "            prev = v[1]\n",
    "\n",
    "        if (sorted_similarity[thai_index][0] not in length) :\n",
    "            length[sorted_similarity[thai_index][0]] = [len(eng_sents[thai_index])]\n",
    "        else:\n",
    "            length[sorted_similarity[thai_index][0]].append(len(eng_sents[thai_index]))\n",
    "        print(\"Index ประโยคภาษาไทย: \" + str(thai_index))\n",
    "        print(\"ประโยค: \" + ''.join(thai_sents[thai_index]))\n",
    "\n",
    "        print(\"Same index: \" + str(thai_index) + \" Value: \" + str(sorted_similarity[thai_index][1]) + \" Rank: \" + str(sorted_similarity[thai_index][0]))\n",
    "        print(\"Sentence: \" + ' '.join(eng_sents[thai_index]))\n",
    "\n",
    "        print(\"Minimum index: \" + str(list(sorted_similarity)[0]) + \" Value: \" + str(sorted_similarity[list(sorted_similarity)[0]][1]))\n",
    "        print(\"Sentence: \" + ' '.join(eng_sents[list(sorted_similarity)[0]]))\n",
    "        print(\"========================================\")\n",
    "\n",
    "        pos = sorted_similarity[thai_index][0]\n",
    "        if pos in count:\n",
    "            count[pos] += 1\n",
    "        else:\n",
    "            count[pos] = 1\n",
    "    return count, length"
   ]
  },
  {
   "cell_type": "code",
   "execution_count": null,
   "metadata": {
    "scrolled": true
   },
   "outputs": [
    {
     "name": "stderr",
     "output_type": "stream",
     "text": [
      "1it [00:01,  1.46s/it]"
     ]
    },
    {
     "name": "stdout",
     "output_type": "stream",
     "text": [
      "Index ประโยคภาษาไทย: 122618\n",
      "ประโยค: จะแนะนำของนี่ค่ะ\n",
      "Same index: 122618 Value: 5 Rank: 0\n",
      "Sentence: i would recommend this item\n",
      "Minimum index: 636936 Value: 5\n",
      "Sentence: yes that should good\n",
      "========================================\n"
     ]
    },
    {
     "name": "stderr",
     "output_type": "stream",
     "text": [
      "\r",
      "2it [00:06,  2.54s/it]"
     ]
    },
    {
     "name": "stdout",
     "output_type": "stream",
     "text": [
      "Index ประโยคภาษาไทย: 371094\n",
      "ประโยค: คุณไม่มีทางเลือกหลังจากนั้นเว้นแต่คุณจะเป็นหนึ่งในศิลปินที่ไม่รู้จักที่ยิ่งใหญ่ที่มาพร้อมกับคุณ\n",
      "Same index: 371094 Value: 20 Rank: 709\n",
      "Sentence: you really have no choice after that unless it 's from one of those great unknown artist that come along and hook you\n",
      "Minimum index: 552998 Value: 16\n",
      "Sentence: i have no idea den he nid ask others lo lo\n",
      "========================================\n"
     ]
    },
    {
     "name": "stderr",
     "output_type": "stream",
     "text": [
      "\r",
      "3it [00:08,  2.34s/it]"
     ]
    },
    {
     "name": "stdout",
     "output_type": "stream",
     "text": [
      "Index ประโยคภาษาไทย: 149231\n",
      "ประโยค: ต้องซื้ออันใหม่เพราะลูกสาวเราอยากได้\n",
      "Same index: 149231 Value: 8 Rank: 36\n",
      "Sentence: had to get a new one because our daughter wanted it\n",
      "Minimum index: 175201 Value: 6\n",
      "Sentence: worth reading but nothing new or amazing\n",
      "========================================\n"
     ]
    },
    {
     "name": "stderr",
     "output_type": "stream",
     "text": [
      "\r",
      "4it [00:09,  2.01s/it]"
     ]
    },
    {
     "name": "stdout",
     "output_type": "stream",
     "text": [
      "Index ประโยคภาษาไทย: 760404\n",
      "ประโยค: ขอพิซซาสมีทเลิฟเวอร์ แล้วก็บรอคโคลีพิเศษชีสค่ะ\n",
      "Same index: 760404 Value: 11 Rank: 395\n",
      "Sentence: can i get a meat lover and a broccoli pizza with extra cheese\n",
      "Minimum index: 794932 Value: 4\n",
      "Sentence: gary shamblin\n",
      "========================================\n"
     ]
    },
    {
     "name": "stderr",
     "output_type": "stream",
     "text": [
      "\r",
      "5it [00:12,  2.31s/it]"
     ]
    },
    {
     "name": "stdout",
     "output_type": "stream",
     "text": [
      "Index ประโยคภาษาไทย: 593846\n",
      "ประโยค: การขนส่งสินค้าชีวภาพทางบกถูกห้ามในประเทศจีนประกาศณวันที่20 ธันวาคม 2562\n",
      "Same index: 593846 Value: 13 Rank: 488\n",
      "Sentence: biological commodity prohibited from transiting china on road posted on december 20 , 2019 created with sketch\n",
      "Minimum index: 647880 Value: 10\n",
      "Sentence: they do n't have an appointment available until thursday\n",
      "========================================\n"
     ]
    },
    {
     "name": "stderr",
     "output_type": "stream",
     "text": [
      "\r",
      "6it [00:15,  2.36s/it]"
     ]
    },
    {
     "name": "stdout",
     "output_type": "stream",
     "text": [
      "Index ประโยคภาษาไทย: 521957\n",
      "ประโยค: ได้ยังไงกันฝนยังตกอยู่อีกหรอ\n",
      "Same index: 521957 Value: 8 Rank: 9\n",
      "Sentence: how izzit still raining\n",
      "Minimum index: 285537 Value: 6\n",
      "Sentence: the package came in on time wa sealed\n",
      "========================================\n"
     ]
    },
    {
     "name": "stderr",
     "output_type": "stream",
     "text": [
      "\r",
      "7it [00:45, 10.67s/it]"
     ]
    },
    {
     "name": "stdout",
     "output_type": "stream",
     "text": [
      "Index ประโยคภาษาไทย: 967499\n",
      "ประโยค: ประเภทINEARสีBLACKอื่นๆพลังเสียงไดนามิกแบบไดรเวอร์คู่คมชัดโดยPOWERBEATS3WIRELESSเชื่อมต่อกับอุปกรณ์ด้วยCLASS1BLUETOOTHอิสระในการออกกำลังกายแบบไร้สายแบตเตอรี่ใช้งานได้นานสูงสุด12 ชมช่วยให้สามารถออกกำลังกายได้หลายกิจกรรมแบบไม่มีสะดุดเมื่อแบตเตอรี่ใกล้หมดคุณสมบัติFASTFUELจะทำให้การชาร์จเพียง5 นาทีสามารถฟังเพลงได้นานถึง1 ชั่วโมงคุณสมบัติการทนเหงื่อและน้ำช่วยรับมือกับการฝึกซ้อมที่หนักหน่วงได้เป็นอย่างดีขาคล้องหลังใบหูที่สามารถปรับให้กระชับแน่นพอดีช่วยเพิ่มความมั่นคงและความสบายในการสวมใส่ได้อย่างสูงสุดพลังเสียงไดนามิกประสิทธิภาพสูงที่จะผลักดันคุณให้ก้าวขึ้นไปอีกขั้นรับสายควบคุมเพลงและเปิดใช้งานSIRIได้ด้วยREMOTETALK\n",
      "Same index: 967499 Value: 102 Rank: 0\n",
      "Sentence: type in-ear• color black• others powerbeats3 wireless dual-mode dynamic sound driver connected to the device with the class 1 bluetooth wireless freedom for exercise up to 12 hour of battery life and many more the fast fuel feature 5 minute of charging time up to 1 hour of music sweat and water handle with a heavy workout a well the back of the ear can be adjusted to fit tight enough to enhance the stability and comfort of wearing the maximum high-performance dynamic sound that will push you to the next level get control of your music and activate siri with remote talk\n",
      "Minimum index: 967499 Value: 102\n",
      "Sentence: type in-ear• color black• others powerbeats3 wireless dual-mode dynamic sound driver connected to the device with the class 1 bluetooth wireless freedom for exercise up to 12 hour of battery life and many more the fast fuel feature 5 minute of charging time up to 1 hour of music sweat and water handle with a heavy workout a well the back of the ear can be adjusted to fit tight enough to enhance the stability and comfort of wearing the maximum high-performance dynamic sound that will push you to the next level get control of your music and activate siri with remote talk\n",
      "========================================\n"
     ]
    },
    {
     "name": "stderr",
     "output_type": "stream",
     "text": [
      "\r",
      "8it [00:50,  9.11s/it]"
     ]
    },
    {
     "name": "stdout",
     "output_type": "stream",
     "text": [
      "Index ประโยคภาษาไทย: 267660\n",
      "ประโยค: ในขณะที่คำอธิบายบางส่วนของเขาถูกดึงออกมาได้ดีพวกเขาก็กลายเป็นคนที่ซ้ำซากราวกับว่าเราเคยเห็นฉากเหล่านี้มาก่อน\n",
      "Same index: 267660 Value: 17 Rank: 0\n",
      "Sentence: while some of his description were well drawn out they also became very repetitive a if we had all seen these scene before\n",
      "Minimum index: 267660 Value: 17\n",
      "Sentence: while some of his description were well drawn out they also became very repetitive a if we had all seen these scene before\n",
      "========================================\n"
     ]
    },
    {
     "name": "stderr",
     "output_type": "stream",
     "text": [
      "\r",
      "9it [00:52,  7.02s/it]"
     ]
    },
    {
     "name": "stdout",
     "output_type": "stream",
     "text": [
      "Index ประโยคภาษาไทย: 653025\n",
      "ประโยค: มีอะไรให้ฉันช่วยอีกมั้ยคะ\n",
      "Same index: 653025 Value: 9 Rank: 309\n",
      "Sentence: is there anything else i can help you with\n",
      "Minimum index: 383825 Value: 6\n",
      "Sentence: definitely recommend giving this unit 5 star\n",
      "========================================\n"
     ]
    },
    {
     "name": "stderr",
     "output_type": "stream",
     "text": [
      "\r",
      "10it [00:55,  5.77s/it]"
     ]
    },
    {
     "name": "stdout",
     "output_type": "stream",
     "text": [
      "Index ประโยคภาษาไทย: 593451\n",
      "ประโยค: ลูกค้าของเราได้รับการจัดอันดับแอฟริกาใต้รถเช่าที่มีค่าเฉลี่ย\n",
      "Same index: 593451 Value: 13 Rank: 518\n",
      "Sentence: our customer rated south africa car rental with an average of 9.00 based on 8 rating\n",
      "Minimum index: 305322 Value: 9\n",
      "Sentence: however they have excellent return policy\n",
      "========================================\n"
     ]
    },
    {
     "name": "stderr",
     "output_type": "stream",
     "text": [
      "\r",
      "11it [01:00,  5.60s/it]"
     ]
    },
    {
     "name": "stdout",
     "output_type": "stream",
     "text": [
      "Index ประโยคภาษาไทย: 205918\n",
      "ประโยค: การออกแบบน่ารักเหมือนนรกโดยเฉพาะถ้าคุณรักแมวและไม่ใช่ของปลอมเหล่านั้นหรือเหมือนกับแมวที่แพงมากๆ\n",
      "Same index: 205918 Value: 18 Rank: 0\n",
      "Sentence: the design is cute a hell especially if you love cat and not one of those fake one or just like really nice expensive cat\n",
      "Minimum index: 205918 Value: 18\n",
      "Sentence: the design is cute a hell especially if you love cat and not one of those fake one or just like really nice expensive cat\n",
      "========================================\n"
     ]
    },
    {
     "name": "stderr",
     "output_type": "stream",
     "text": [
      "\r",
      "12it [01:04,  4.95s/it]"
     ]
    },
    {
     "name": "stdout",
     "output_type": "stream",
     "text": [
      "Index ประโยคภาษาไทย: 180055\n",
      "ประโยค: ด้วยเหตุผลเพียงอย่างเดียวฉันจะบอกว่าฉันซื้อหนังสือเล่มนี้\n",
      "Same index: 180055 Value: 10 Rank: 0\n",
      "Sentence: for that reason alone i 'd say buy this book\n",
      "Minimum index: 180055 Value: 10\n",
      "Sentence: for that reason alone i 'd say buy this book\n",
      "========================================\n"
     ]
    },
    {
     "name": "stderr",
     "output_type": "stream",
     "text": [
      "\r",
      "13it [01:11,  5.49s/it]"
     ]
    },
    {
     "name": "stdout",
     "output_type": "stream",
     "text": [
      "Index ประโยคภาษาไทย: 627273\n",
      "ประโยค: สั่งเครื่องดื่มจากสตาร์บัคส์สาขาเบย์วิวเรียบร้อยแล้วค่ะอีกเดี๋ยวไปรับได้เลยนะคะส่งใบเสร็จไปให้ทางโทรศัพท์ผ่านข้อความแล้วค่ะ\n",
      "Same index: 627273 Value: 25 Rank: 217\n",
      "Sentence: i placed your order at the bayview starbucks it will be ready for pick up shortly and the receipt ha been sent to your phone via text message message\n",
      "Minimum index: 287255 Value: 21\n",
      "Sentence: not even worth giving away at my christmas tree sale\n",
      "========================================\n"
     ]
    },
    {
     "name": "stderr",
     "output_type": "stream",
     "text": [
      "\r",
      "14it [01:13,  4.44s/it]"
     ]
    },
    {
     "name": "stdout",
     "output_type": "stream",
     "text": [
      "Index ประโยคภาษาไทย: 832146\n",
      "ประโยค: ได้ค่ะตั๋วผู้ใหญ่3ใบสักครู่นะคะ\n",
      "Same index: 832146 Value: 9 Rank: 309\n",
      "Sentence: got it i 'll get you 3 adult ticket one moment\n",
      "Minimum index: 647223 Value: 7\n",
      "Sentence: ok do they have bell pepper\n",
      "========================================\n"
     ]
    },
    {
     "name": "stderr",
     "output_type": "stream",
     "text": [
      "\r",
      "15it [01:15,  3.84s/it]"
     ]
    },
    {
     "name": "stdout",
     "output_type": "stream",
     "text": [
      "Index ประโยคภาษาไทย: 960337\n",
      "ประโยค: แฟ้มโชว์เอกสารA4เขียว40 ซองตราช้างN401\n",
      "Same index: 960337 Value: 9 Rank: 0\n",
      "Sentence: view binder a4 green 40 sheet elephant n401 n401\n",
      "Minimum index: 655428 Value: 9\n",
      "Sentence: make it a venti please\n",
      "========================================\n"
     ]
    },
    {
     "name": "stderr",
     "output_type": "stream",
     "text": [
      "\r",
      "16it [01:35,  8.67s/it]"
     ]
    },
    {
     "name": "stdout",
     "output_type": "stream",
     "text": [
      "Index ประโยคภาษาไทย: 876259\n",
      "ประโยค: ขับเคลื่อนทุกการเรียนรู้สนุกไปกับการเสริมสร้างจิตนาการด้วยDICKIETOYSรถแวนส์ที่มาให้คุณหนูๆได้เล่นอย่างสมจริงรถแวนส์SurferVanมาพร้อมสติ๊กเกอร์สำหรับให้คุณหนูๆตกแต่งรถประตูสามารถเปิดปิดได้มาในอัตราส่วน114ขนาด32 ซมกว้างxยาวxสูง4145  405 ซมเหมาะสำหรับเด็กอายุ35ปีหมายเหตุสีของผลิตภัณฑ์ที่แสดงบนเว็บไซต์อาจมีความแตกต่างกันจากการตั้งค่าการแสดงผลของแต่ละหน้าจอ\n",
      "Same index: 876259 Value: 71 Rank: 0\n",
      "Sentence: dickie toy surfer van friction-driven toy van opening door two removable surfboard sticker licence vw scale 01:14 size 32 cm width x length x height 41 45 40.5 cm recommended age 3 5 year caution in term of item color it may be slightly different from each monitor display and specification\n",
      "Minimum index: 876259 Value: 71\n",
      "Sentence: dickie toy surfer van friction-driven toy van opening door two removable surfboard sticker licence vw scale 01:14 size 32 cm width x length x height 41 45 40.5 cm recommended age 3 5 year caution in term of item color it may be slightly different from each monitor display and specification\n",
      "========================================\n"
     ]
    },
    {
     "name": "stderr",
     "output_type": "stream",
     "text": [
      "\r",
      "17it [01:36,  6.45s/it]"
     ]
    },
    {
     "name": "stdout",
     "output_type": "stream",
     "text": [
      "Index ประโยคภาษาไทย: 216581\n",
      "ประโยค: ฉันเป็นเจ้าของสุนัขสองตัว\n",
      "Same index: 216581 Value: 3 Rank: 0\n",
      "Sentence: i own two dog\n",
      "Minimum index: 216581 Value: 3\n",
      "Sentence: i own two dog\n",
      "========================================\n"
     ]
    },
    {
     "name": "stderr",
     "output_type": "stream",
     "text": [
      "\r",
      "18it [01:39,  5.28s/it]"
     ]
    },
    {
     "name": "stdout",
     "output_type": "stream",
     "text": [
      "Index ประโยคภาษาไทย: 677303\n",
      "ประโยค: ดูเหมือนว่าท่อน้ำมันจะย้อนกลับมาที่ตัวรถค่ะ\n",
      "Same index: 677303 Value: 9 Rank: 0\n",
      "Sentence: my car 's gas pipe seems to be redirecting back into the car\n",
      "Minimum index: 764395 Value: 9\n",
      "Sentence: intelligent auto solution solution\n",
      "========================================\n"
     ]
    },
    {
     "name": "stderr",
     "output_type": "stream",
     "text": [
      "\r",
      "19it [01:40,  4.02s/it]"
     ]
    },
    {
     "name": "stdout",
     "output_type": "stream",
     "text": [
      "Index ประโยคภาษาไทย: 888651\n",
      "ประโยค: ความถี่50Hzถึง60 Hz เฟสเดียว\n",
      "Same index: 888651 Value: 9 Rank: 309\n",
      "Sentence: frequency 50 hz to 60 hz single phase phase\n",
      "Minimum index: 106123 Value: 4\n",
      "Sentence: it make learning fun though\n",
      "========================================\n"
     ]
    },
    {
     "name": "stderr",
     "output_type": "stream",
     "text": [
      "\r",
      "20it [01:43,  3.80s/it]"
     ]
    },
    {
     "name": "stdout",
     "output_type": "stream",
     "text": [
      "Index ประโยคภาษาไทย: 49740\n",
      "ประโยค: อาจจะเป็นวันที่ดีฉันแน่ใจดีใจที่คุณได้รับชื่อของคุณกลับมาแล้ว\n",
      "Same index: 49740 Value: 12 Rank: 6\n",
      "Sentence: might be great one day i 'm sure glad u got your name back\n",
      "Minimum index: 77861 Value: 11\n",
      "Sentence: for instance do you know why god made man with no hand\n",
      "========================================\n"
     ]
    },
    {
     "name": "stderr",
     "output_type": "stream",
     "text": [
      "\r",
      "21it [01:44,  3.05s/it]"
     ]
    },
    {
     "name": "stdout",
     "output_type": "stream",
     "text": [
      "Index ประโยคภาษาไทย: 424159\n",
      "ประโยค: ข้างในมีกระเป๋ามากมาย\n",
      "Same index: 424159 Value: 1 Rank: 0\n",
      "Sentence: plenty of pocket inside\n",
      "Minimum index: 424159 Value: 1\n",
      "Sentence: plenty of pocket inside\n",
      "========================================\n"
     ]
    },
    {
     "name": "stderr",
     "output_type": "stream",
     "text": [
      "\r",
      "22it [01:47,  2.93s/it]"
     ]
    },
    {
     "name": "stdout",
     "output_type": "stream",
     "text": [
      "Index ประโยคภาษาไทย: 414751\n",
      "ประโยค: ทุกคนที่ใช้แท็บเล็ตมีความต้องการของรายการนี้\n",
      "Same index: 414751 Value: 9 Rank: 98\n",
      "Sentence: everyone that us a tablet ha need of this item\n",
      "Minimum index: 667118 Value: 6\n",
      "Sentence: i need to have my alignment checked checked\n",
      "========================================\n"
     ]
    },
    {
     "name": "stderr",
     "output_type": "stream",
     "text": [
      "\r",
      "23it [01:53,  3.80s/it]"
     ]
    },
    {
     "name": "stdout",
     "output_type": "stream",
     "text": [
      "Index ประโยคภาษาไทย: 98062\n",
      "ประโยค: จะแนะนำแน่นอนแต่ระวังด้วยใส่ของบนหัวของสัตว์เลี้ยงของคุณอย่างใกลเกินไปแล้วมันอาจจะคันมากๆเอาได้\n",
      "Same index: 98062 Value: 20 Rank: 1\n",
      "Sentence: would definitely recommend but be careful putting something on your pet 's head too close a it will get them very itchy\n",
      "Minimum index: 395520 Value: 19\n",
      "Sentence: this thing will charge any device that take 1 aaa battery\n",
      "========================================\n"
     ]
    },
    {
     "name": "stderr",
     "output_type": "stream",
     "text": [
      "\r",
      "24it [01:55,  3.44s/it]"
     ]
    },
    {
     "name": "stdout",
     "output_type": "stream",
     "text": [
      "Index ประโยคภาษาไทย: 649319\n",
      "ประโยค: โชคไม่ดีเลยค่ะวันอาทิตย์รอบยังคงเป็น6 โมงครึ่งและ3 ทุ่มค่ะ\n",
      "Same index: 649319 Value: 11 Rank: 166\n",
      "Sentence: unfortunately on sunday the showtime are still 6:30pm and 9:00pm 9:00pm\n",
      "Minimum index: 153742 Value: 9\n",
      "Sentence: they have comfortable grip while still being light weight\n",
      "========================================\n"
     ]
    },
    {
     "name": "stderr",
     "output_type": "stream",
     "text": [
      "\r",
      "25it [01:57,  2.80s/it]"
     ]
    },
    {
     "name": "stdout",
     "output_type": "stream",
     "text": [
      "Index ประโยคภาษาไทย: 55690\n",
      "ประโยค: มันแข็งแรงเกินไปสำหรับผู้หญิงโดยเฉลี่ย\n",
      "Same index: 55690 Value: 5 Rank: 0\n",
      "Sentence: it 's just too strong on an average woman\n",
      "Minimum index: 55690 Value: 5\n",
      "Sentence: it 's just too strong on an average woman\n",
      "========================================\n"
     ]
    },
    {
     "name": "stderr",
     "output_type": "stream",
     "text": [
      "\r",
      "26it [01:59,  2.57s/it]"
     ]
    },
    {
     "name": "stdout",
     "output_type": "stream",
     "text": [
      "Index ประโยคภาษาไทย: 154146\n",
      "ประโยค: สำหรับฉันมันรู้สึกเหมือน45ดาวมากกว่า\n",
      "Same index: 154146 Value: 7 Rank: 2\n",
      "Sentence: for me that mean more like 4.5 star actually\n",
      "Minimum index: 290906 Value: 6\n",
      "Sentence: but i found that it needed more\n",
      "========================================\n"
     ]
    },
    {
     "name": "stderr",
     "output_type": "stream",
     "text": [
      "\r",
      "27it [02:02,  2.78s/it]"
     ]
    },
    {
     "name": "stdout",
     "output_type": "stream",
     "text": [
      "Index ประโยคภาษาไทย: 774422\n",
      "ประโยค: ค่ะดีเลยค่ะมีรอบประมาณ1 ทุ่มหรือ2 ทุ่มมั้ยคะ\n",
      "Same index: 774422 Value: 11 Rank: 14\n",
      "Sentence: all right sound great is there a showing around 7:00 or 8:00\n",
      "Minimum index: 407564 Value: 10\n",
      "Sentence: they were packed well so did not scratch or chip\n",
      "========================================\n"
     ]
    },
    {
     "name": "stderr",
     "output_type": "stream",
     "text": [
      "\r",
      "28it [02:03,  2.31s/it]"
     ]
    },
    {
     "name": "stdout",
     "output_type": "stream",
     "text": [
      "Index ประโยคภาษาไทย: 294415\n",
      "ประโยค: ยินดีเป็นอย่างยิ่งทุกรอบ\n",
      "Same index: 294415 Value: 5 Rank: 26\n",
      "Sentence: very pleased all around\n",
      "Minimum index: 83124 Value: 3\n",
      "Sentence: this is a terrible case\n",
      "========================================\n"
     ]
    },
    {
     "name": "stderr",
     "output_type": "stream",
     "text": [
      "\r",
      "29it [02:09,  3.29s/it]"
     ]
    },
    {
     "name": "stdout",
     "output_type": "stream",
     "text": [
      "Index ประโยคภาษาไทย: 64404\n",
      "ประโยค: อย่างที่สามแพคเกจดูสวยมากเหมือนของฉันยกเว้นของฉันมี3แท่งที่พิมพ์อยู่ด้านหน้าแทน\n",
      "Same index: 64404 Value: 15 Rank: 1\n",
      "Sentence: third thing the package looked pretty much like mine except mine had 3 bar printed across the front instead of\n",
      "Minimum index: 72922 Value: 14\n",
      "Sentence: this thing seems like it wa rushed to be released\n",
      "========================================\n"
     ]
    },
    {
     "name": "stderr",
     "output_type": "stream",
     "text": [
      "\r",
      "30it [02:11,  3.08s/it]"
     ]
    },
    {
     "name": "stdout",
     "output_type": "stream",
     "text": [
      "Index ประโยคภาษาไทย: 743560\n",
      "ประโยค: ใช่แล้วมีร้านสตาร์บัคในตึกมันดีแบบนี้นี่แหละ\n",
      "Same index: 743560 Value: 9 Rank: 0\n",
      "Sentence: yes best thing about having a starbucks in your building\n",
      "Minimum index: 743560 Value: 9\n",
      "Sentence: yes best thing about having a starbucks in your building\n",
      "========================================\n"
     ]
    },
    {
     "name": "stderr",
     "output_type": "stream",
     "text": [
      "\r",
      "31it [02:12,  2.45s/it]"
     ]
    },
    {
     "name": "stdout",
     "output_type": "stream",
     "text": [
      "Index ประโยคภาษาไทย: 184626\n",
      "ประโยค: แต่ว่าสั้นไป\n",
      "Same index: 184626 Value: 3 Rank: 3\n",
      "Sentence: it 's too short\n",
      "Minimum index: 176413 Value: 2\n",
      "Sentence: read it\n",
      "========================================\n"
     ]
    },
    {
     "name": "stderr",
     "output_type": "stream",
     "text": [
      "\r",
      "32it [02:14,  2.22s/it]"
     ]
    },
    {
     "name": "stdout",
     "output_type": "stream",
     "text": [
      "Index ประโยคภาษาไทย: 383178\n",
      "ประโยค: มันไม่คุ้มที่จะคืนสิ่งเหล่านี้\n",
      "Same index: 383178 Value: 7 Rank: 23\n",
      "Sentence: it wa n't worth returning these\n",
      "Minimum index: 735255 Value: 6\n",
      "Sentence: no that should be enough\n",
      "========================================\n"
     ]
    },
    {
     "name": "stderr",
     "output_type": "stream",
     "text": [
      "\r",
      "33it [02:17,  2.47s/it]"
     ]
    },
    {
     "name": "stdout",
     "output_type": "stream",
     "text": [
      "Index ประโยคภาษาไทย: 540089\n",
      "ประโยค: 鏂板勾蹇箰锛涓囦簨濡傛剰锛韬綋寤哄悍锛鎭枩鍙戣储ขอให้เธอและครอบครัวมีความสุขในปีกระต่ายนะ\n",
      "Same index: 540089 Value: 10 Rank: 0\n",
      "Sentence: 鏂板勾蹇箰锛� 涓囦簨濡傛剰锛� 韬綋寤哄悍锛� 鎭枩鍙戣储 may you and family have a blessed rabbit year\n",
      "Minimum index: 540089 Value: 10\n",
      "Sentence: 鏂板勾蹇箰锛� 涓囦簨濡傛剰锛� 韬綋寤哄悍锛� 鎭枩鍙戣储 may you and family have a blessed rabbit year\n",
      "========================================\n"
     ]
    },
    {
     "name": "stderr",
     "output_type": "stream",
     "text": [
      "\r",
      "34it [02:19,  2.17s/it]"
     ]
    },
    {
     "name": "stdout",
     "output_type": "stream",
     "text": [
      "Index ประโยคภาษาไทย: 547527\n",
      "ประโยค: ฉันทีหลังไปถอนเจฟมีไหมอ่ะ\n",
      "Same index: 547527 Value: 5 Rank: 10\n",
      "Sentence: i later go withdraw eh jeff got\n",
      "Minimum index: 655428 Value: 4\n",
      "Sentence: make it a venti please\n",
      "========================================\n"
     ]
    },
    {
     "name": "stderr",
     "output_type": "stream",
     "text": [
      "\r",
      "35it [02:37,  7.07s/it]"
     ]
    },
    {
     "name": "stdout",
     "output_type": "stream",
     "text": [
      "Index ประโยคภาษาไทย: 912087\n",
      "ประโยค: ตู้เอกสาร5ชั้นผลิตจากพลาสติกหนาพิเศษทนทานสวยงามมีป้ายสำหรับเขียนเพื่อความสะดวกในการจัดเก็บให้เป็นหมวดหมู่ใช้เก็บและแยกประเภทของเอกสารเพื่อความสะดวกในการใช้งานชนิด5ชั้นสีโครงดำลิ้นชักดำขนาดลิ้นชักกว้างxยาวxสูง255x34x4ซมชั้นขนาดสินค้ากว้างxยาวxสูง261x345x275 ซมน้ำหนักสินค้า246กกจำนวน1ตู้\n",
      "Same index: 912087 Value: 59 Rank: 0\n",
      "Sentence: made of special durable thick plastic look hardly breakable index sticker for writing the file classification search into the file quickly ideal for collecting and classifying the document increase better convenience in use type 5 shelf colour black structure with black drawer product dimension width x length x height 26.1 x 34.5 x 27.5 cm product weight 2.46 kg number of item 1 cabinet cabinet\n",
      "Minimum index: 912087 Value: 59\n",
      "Sentence: made of special durable thick plastic look hardly breakable index sticker for writing the file classification search into the file quickly ideal for collecting and classifying the document increase better convenience in use type 5 shelf colour black structure with black drawer product dimension width x length x height 26.1 x 34.5 x 27.5 cm product weight 2.46 kg number of item 1 cabinet cabinet\n",
      "========================================\n"
     ]
    },
    {
     "name": "stderr",
     "output_type": "stream",
     "text": [
      "\r",
      "36it [02:40,  5.67s/it]"
     ]
    },
    {
     "name": "stdout",
     "output_type": "stream",
     "text": [
      "Index ประโยคภาษาไทย: 150621\n",
      "ประโยค: ภรรยาของฉันสั่งสิ่งนี้เมื่อเราเห็นมัน\n",
      "Same index: 150621 Value: 8 Rank: 0\n",
      "Sentence: my wife ordered this when we saw it\n",
      "Minimum index: 57369 Value: 8\n",
      "Sentence: the only thing positive about my experience is amazon\n",
      "========================================\n"
     ]
    },
    {
     "name": "stderr",
     "output_type": "stream",
     "text": [
      "\r",
      "37it [02:43,  4.88s/it]"
     ]
    },
    {
     "name": "stdout",
     "output_type": "stream",
     "text": [
      "Index ประโยคภาษาไทย: 906975\n",
      "ประโยค: หมึกสีดำอ่อนอ่อนขนาดปริมาณน้ำหมึก350มล ใช้กับพริ้นเตอร์ EpsonStylusPro7900 9900 78909890รับประกัน1 ปี\n",
      "Same index: 906975 Value: 17 Rank: 625\n",
      "Sentence: light light black ink cartridge capacity 350 ml compatible epson model stylus pro 7900 9900 7890 9890 waranty 1 year year\n",
      "Minimum index: 507426 Value: 10\n",
      "Sentence: there wa the emma louisa\n",
      "========================================\n"
     ]
    },
    {
     "name": "stderr",
     "output_type": "stream",
     "text": [
      "\r",
      "38it [02:50,  5.64s/it]"
     ]
    },
    {
     "name": "stdout",
     "output_type": "stream",
     "text": [
      "Index ประโยคภาษาไทย: 39839\n",
      "ประโยค: ฉันซื้อสิ่งนี้เพื่อใช้สำหรับเดล ลาทิทูด เอ็ม90ของฉันในทริปและขณะที่สินค้านั้นมีรูปร่างที่ดีมันหยุดทำงานหลังจาก3ใน10ของการใช้งาน\n",
      "Same index: 39839 Value: 23 Rank: 0\n",
      "Sentence: i bought this to use for my dell latitude m90 on a trip and while the product wa in great shape it stopped working after 3 of 10 us\n",
      "Minimum index: 39839 Value: 23\n",
      "Sentence: i bought this to use for my dell latitude m90 on a trip and while the product wa in great shape it stopped working after 3 of 10 us\n",
      "========================================\n"
     ]
    },
    {
     "name": "stderr",
     "output_type": "stream",
     "text": [
      "\r",
      "39it [02:53,  4.83s/it]"
     ]
    },
    {
     "name": "stdout",
     "output_type": "stream",
     "text": [
      "Index ประโยคภาษาไทย: 66688\n",
      "ประโยค: ขอร้องนะอย่าให้เรื่องนี้ทำให้คุณรู้สึกแย่เลย\n",
      "Same index: 66688 Value: 10 Rank: 36\n",
      "Sentence: so please do n't let this discourage you\n",
      "Minimum index: 387368 Value: 8\n",
      "Sentence: that being said it must have been defective\n",
      "========================================\n"
     ]
    },
    {
     "name": "stderr",
     "output_type": "stream",
     "text": [
      "\r",
      "40it [02:57,  4.57s/it]"
     ]
    },
    {
     "name": "stdout",
     "output_type": "stream",
     "text": [
      "Index ประโยคภาษาไทย: 563640\n",
      "ประโยค: ฮะฮะฮ๋าฉันเพิ่งเห็นสิ่งนั้นและคิดว่านั่นมันธรรมดาอ่ะหัวเราะ\n",
      "Same index: 563640 Value: 14 Rank: 1\n",
      "Sentence: hahaha i just saw that and thought that basically lol lol\n",
      "Minimum index: 62635 Value: 13\n",
      "Sentence: the quality is just too bad especially considering that neither picture ha an exclamation point\n",
      "========================================\n"
     ]
    },
    {
     "name": "stderr",
     "output_type": "stream",
     "text": [
      "\r",
      "41it [02:58,  3.56s/it]"
     ]
    },
    {
     "name": "stdout",
     "output_type": "stream",
     "text": [
      "Index ประโยคภาษาไทย: 551426\n",
      "ประโยค: ฮะฮ่าโอเคขอบคุณนะ\n",
      "Same index: 551426 Value: 3 Rank: 0\n",
      "Sentence: haha okay thanks thanks\n",
      "Minimum index: 551426 Value: 3\n",
      "Sentence: haha okay thanks thanks\n",
      "========================================\n"
     ]
    },
    {
     "name": "stderr",
     "output_type": "stream",
     "text": [
      "\r",
      "42it [03:03,  3.82s/it]"
     ]
    },
    {
     "name": "stdout",
     "output_type": "stream",
     "text": [
      "Index ประโยคภาษาไทย: 150635\n",
      "ประโยค: ถ้วยเหล่านี้มีความสวยงามน้ำหนักเบาทนทานการออกแบบที่ดีใส่ได้ตั้งแต่7ถึง9ออนซ์\n",
      "Same index: 150635 Value: 14 Rank: 0\n",
      "Sentence: these cup were absolutely beautiful light weight durable good design just right to hold from 7 till 9 oz\n",
      "Minimum index: 195260 Value: 14\n",
      "Sentence: it seems well made\n",
      "========================================\n"
     ]
    },
    {
     "name": "stderr",
     "output_type": "stream",
     "text": [
      "\r",
      "43it [03:08,  4.43s/it]"
     ]
    },
    {
     "name": "stdout",
     "output_type": "stream",
     "text": [
      "Index ประโยคภาษาไทย: 61617\n",
      "ประโยค: ฉันไม่เข้าใจว่าทำไมถึงมีคนออกแบบแบบนี้น่าขายหน้าอัปเดตฉันได้รู้ว่าหน่วยความจำUSBส่วนใหญ่ฉันใช้ได้\n",
      "Same index: 61617 Value: 24 Rank: 775\n",
      "Sentence: i do n't understand why someone would design something like this shame on them update i 've learned that most usb memory stick go in just fine for me\n",
      "Minimum index: 46228 Value: 16\n",
      "Sentence: not all issue may be experienced however\n",
      "========================================\n"
     ]
    },
    {
     "name": "stderr",
     "output_type": "stream",
     "text": [
      "\r",
      "44it [03:10,  3.57s/it]"
     ]
    },
    {
     "name": "stdout",
     "output_type": "stream",
     "text": [
      "Index ประโยคภาษาไทย: 248733\n",
      "ประโยค: ผลิตภัณฑ์ใช้งานได้ดีในราคาที่ดีมาก\n",
      "Same index: 248733 Value: 7 Rank: 6\n",
      "Sentence: the product work great for a very good price\n",
      "Minimum index: 90224 Value: 6\n",
      "Sentence: these bulb work a advertised\n",
      "========================================\n"
     ]
    },
    {
     "name": "stderr",
     "output_type": "stream",
     "text": [
      "\r",
      "45it [03:16,  4.20s/it]"
     ]
    },
    {
     "name": "stdout",
     "output_type": "stream",
     "text": [
      "Index ประโยคภาษาไทย: 604858\n",
      "ประโยค: นิวซีแลนด์มีพิพิธภัณฑ์เกียรติด้วยสำคัญเตปาป้าTongarewaรายละเอียดประวัติของประเทศนี้นอกเหนือจากพิพิธภัณฑ์และศูนย์ศิลปะหนึ่งสามารถเลือกชมสถานและชายหาด\n",
      "Same index: 604858 Value: 25 Rank: 247\n",
      "Sentence: museum new zealand ha a number of respectable museum with the foremost being te papa tongarewa that detail the history of this country\n",
      "Minimum index: 444468 Value: 22\n",
      "Sentence: i have n't seen this movie since i can remember\n",
      "========================================\n"
     ]
    },
    {
     "name": "stderr",
     "output_type": "stream",
     "text": [
      "\r",
      "46it [03:22,  4.88s/it]"
     ]
    },
    {
     "name": "stdout",
     "output_type": "stream",
     "text": [
      "Index ประโยคภาษาไทย: 863465\n",
      "ประโยค: BumperforiPhone55sสีดำสำหลับiPhone55sวัสดุพลาสติกswarovskielementsป้องกันรอยขีดข่วนรับประกันตลอดอายุการใช้งาน\n",
      "Same index: 863465 Value: 20 Rank: 0\n",
      "Sentence: bumper for i phone 5 5 black i phone 5 5 plastic material swarovski element anti scratch lifetime warranty warranty\n",
      "Minimum index: 863465 Value: 20\n",
      "Sentence: bumper for i phone 5 5 black i phone 5 5 plastic material swarovski element anti scratch lifetime warranty warranty\n",
      "========================================\n"
     ]
    },
    {
     "name": "stderr",
     "output_type": "stream",
     "text": [
      "\r",
      "47it [03:24,  3.98s/it]"
     ]
    },
    {
     "name": "stdout",
     "output_type": "stream",
     "text": [
      "Index ประโยคภาษาไทย: 281639\n",
      "ประโยค: ขออภัยฉันใช้เงินกับสิ่งนี้\n",
      "Same index: 281639 Value: 5 Rank: 0\n",
      "Sentence: sorry i spent money on this one\n",
      "Minimum index: 281639 Value: 5\n",
      "Sentence: sorry i spent money on this one\n",
      "========================================\n"
     ]
    },
    {
     "name": "stderr",
     "output_type": "stream",
     "text": [
      "\r",
      "48it [03:47,  9.57s/it]"
     ]
    },
    {
     "name": "stdout",
     "output_type": "stream",
     "text": [
      "Index ประโยคภาษาไทย: 26539\n",
      "ประโยค: ดังนั้นการฟื้นตัวของเศรษฐกิจโลกและการส่งออกที่มีแนวโน้มชัดเจนมากขึ้นในช่วงครึ่งปีหลังคาดว่าจะส่งผลให้อัตราการขยายตัวทางเศรษฐกิจเมื่อเทียบกับไตรมาสก่อนหน้าปรับตัวดีขึ้นตามลำดับ2การดำเนินการตามกรอบการรักษาเสถียรภาพเศรษฐกิจไทยในปี2556ที่คณะรัฐมนตรีได้ให้ความเห็นชอบเมื่อวันที่28 พฤษภาคม 2556และการดำเนินมาตรการสนับสนุนการขยายตัวทางเศรษฐกิจอย่างมีเสถียรภาพตามมติคณะรัฐมนตรีเมื่อวันที่6 สิงหาคม 2556ซึ่งจะช่วยสนับสนุนการขยายตัวเศรษฐกิจในครึ่งหลังของปี\n",
      "Same index: 26539 Value: 75 Rank: 0\n",
      "Sentence: with the clearer sign of global economic recovery thai economy in the second half is expected to improve from the first half of 2013 2 the implementation of economic stability framework for 2 0 1 3 approved by the cabinet on 28th may 2013 and economic stability stimulus measure approved by the cabinet on 6th august 2013 will be the key driver to support economic growth in the second half\n",
      "Minimum index: 26539 Value: 75\n",
      "Sentence: with the clearer sign of global economic recovery thai economy in the second half is expected to improve from the first half of 2013 2 the implementation of economic stability framework for 2 0 1 3 approved by the cabinet on 28th may 2013 and economic stability stimulus measure approved by the cabinet on 6th august 2013 will be the key driver to support economic growth in the second half\n",
      "========================================\n"
     ]
    },
    {
     "name": "stderr",
     "output_type": "stream",
     "text": [
      "\r",
      "49it [03:51,  8.00s/it]"
     ]
    },
    {
     "name": "stdout",
     "output_type": "stream",
     "text": [
      "Index ประโยคภาษาไทย: 552312\n",
      "ประโยค: ฉันได้แบบฟอร์มแล้วขอบคุณนะฉันจะออกไปเที่ยววันนี้และจะส่งไออาร์บีในวันพรุ่งนี้\n",
      "Same index: 552312 Value: 11 Rank: 0\n",
      "Sentence: i got your form thanks i 'm heading out for the day and willhave to submit the irb tomorrow\n",
      "Minimum index: 552312 Value: 11\n",
      "Sentence: i got your form thanks i 'm heading out for the day and willhave to submit the irb tomorrow\n",
      "========================================\n"
     ]
    },
    {
     "name": "stderr",
     "output_type": "stream",
     "text": [
      "\r",
      "50it [04:00,  8.38s/it]"
     ]
    },
    {
     "name": "stdout",
     "output_type": "stream",
     "text": [
      "Index ประโยคภาษาไทย: 453929\n",
      "ประโยค: หากไม่มีอะไรอื่นในหนึ่งปีมันจะคุ้มค่าแต่ความจริงที่ว่ามันไม่ทํางานเช่นกันมีรีวิวครั้งแรกของฉันดังนั้นหลังจากผ่านไประยะหนึ่งฉันต้องยอมรับฉันค่อนข้างผิดหวัง\n",
      "Same index: 453929 Value: 29 Rank: 2\n",
      "Sentence: if nothing else in one year it would have been worth it but the fact that it 's not working a well ha my first review so now after some time i got ta admit i 'm pretty disappointed\n",
      "Minimum index: 86174 Value: 28\n",
      "Sentence: they seem cheaply made not all part were there only one of the screw had been used\n",
      "========================================\n"
     ]
    },
    {
     "name": "stderr",
     "output_type": "stream",
     "text": [
      "\r",
      "51it [04:05,  7.35s/it]"
     ]
    },
    {
     "name": "stdout",
     "output_type": "stream",
     "text": [
      "Index ประโยคภาษาไทย: 317173\n",
      "ประโยค: หากคุณอยู่ห่างจากบ้านหรือถ้าคุณใช้โทรศัพท์ตลอดเวลาคุณจะต้องใช้มันแน่นอน\n",
      "Same index: 317173 Value: 16 Rank: 16\n",
      "Sentence: if you live away from home or if you 're always on the phone then you 'll definitely need it\n",
      "Minimum index: 121155 Value: 15\n",
      "Sentence: you are going to have fun\n",
      "========================================\n"
     ]
    },
    {
     "name": "stderr",
     "output_type": "stream",
     "text": [
      "\r",
      "52it [04:09,  6.17s/it]"
     ]
    },
    {
     "name": "stdout",
     "output_type": "stream",
     "text": [
      "Index ประโยคภาษาไทย: 777843\n",
      "ประโยค: โอเคค่ะร้านโซล ฟู้ด ซิตี้เวลา1 ทุ่มสำหรับ5ท่านไม่สามารถจองได้ค่ะ\n",
      "Same index: 777843 Value: 14 Rank: 562\n",
      "Sentence: ok. soul food city at 7pm for 5 people with indoor seating is not available\n",
      "Minimum index: 295000 Value: 11\n",
      "Sentence: did not have any instruction either\n",
      "========================================\n"
     ]
    },
    {
     "name": "stderr",
     "output_type": "stream",
     "text": [
      "\r",
      "53it [04:22,  8.20s/it]"
     ]
    },
    {
     "name": "stdout",
     "output_type": "stream",
     "text": [
      "Index ประโยคภาษาไทย: 882904\n",
      "ประโยค: สนุกและเพลิดเพลินกับการใช้งานชุดคลิ๊ปที่มาพร้อมลวดลายสุดโปรดที่ไม่เหมือนใครในคาแรคเตอร์จากแบรนด์SANRIOชุดคลิ๊ป3ชิ้นวัสดุพลาสติกความกว้าง15 ซมความสูง10 ซมความลึก1 ซมคาแรคเตอร์MyMelodyหมายเหตุสีของผลิตภัณฑ์ที่แสดงบนเว็บไซต์อาจมีความแตกต่างกันจากการตั้งค่าการแสดงผลของแต่ละหน้าจอ\n",
      "Same index: 882904 Value: 48 Rank: 0\n",
      "Sentence: enjoy to usability about clip ha designed one of the cartoon character to a favorite to unique from sanrio brand name three piece of costume d-cut clip material plastic width 15 cm height 10 cm depth 1 cm character my melody caution in term of item color it may be slightly different from each monitor display and specification\n",
      "Minimum index: 882904 Value: 48\n",
      "Sentence: enjoy to usability about clip ha designed one of the cartoon character to a favorite to unique from sanrio brand name three piece of costume d-cut clip material plastic width 15 cm height 10 cm depth 1 cm character my melody caution in term of item color it may be slightly different from each monitor display and specification\n",
      "========================================\n"
     ]
    },
    {
     "name": "stderr",
     "output_type": "stream",
     "text": [
      "\r",
      "54it [04:27,  7.48s/it]"
     ]
    },
    {
     "name": "stdout",
     "output_type": "stream",
     "text": [
      "Index ประโยคภาษาไทย: 36565\n",
      "ประโยค: มาตรา 1243บริษัทใหม่นี้ย่อมได้ไปทั้งสิทธิและความรับผิดบรรดามีอยู่แก่บริษัทเดิมอันได้มาควบเข้ากันนั้นทั้งสิ้น\n",
      "Same index: 36565 Value: 19 Rank: 0\n",
      "Sentence: section 1243 the new company is entitled to the right and subject to the liability of the amalgamated company\n",
      "Minimum index: 535552 Value: 19\n",
      "Sentence: mark work tomorrow he get out at 5 his work is by your house so he can meet u afterwards\n",
      "========================================\n"
     ]
    },
    {
     "name": "stderr",
     "output_type": "stream",
     "text": [
      "\r",
      "55it [04:30,  6.03s/it]"
     ]
    },
    {
     "name": "stdout",
     "output_type": "stream",
     "text": [
      "Index ประโยคภาษาไทย: 172983\n",
      "ประโยค: หนังสือน่ารักๆมีสูตรอาหารและคำแนะนำในเล่ม\n",
      "Same index: 172983 Value: 10 Rank: 55\n",
      "Sentence: this is a cute book with some interesting recipe and suggestion\n",
      "Minimum index: 98338 Value: 8\n",
      "Sentence: there is n't any give at all\n",
      "========================================\n"
     ]
    },
    {
     "name": "stderr",
     "output_type": "stream",
     "text": [
      "\r",
      "56it [04:34,  5.36s/it]"
     ]
    },
    {
     "name": "stdout",
     "output_type": "stream",
     "text": [
      "Index ประโยคภาษาไทย: 326973\n",
      "ประโยค: อย่างไรก็ตามหลังจากผ่านไปเพียงฤดูกาลเดียวการเคลือบผิวที่ชัดเจนของพวกเขาก็เริ่มปรากฏเป็นชิ้นใหญ่\n",
      "Same index: 326973 Value: 14 Rank: 0\n",
      "Sentence: however after just one season the clear coating on them started to come off in big chunk\n",
      "Minimum index: 326973 Value: 14\n",
      "Sentence: however after just one season the clear coating on them started to come off in big chunk\n",
      "========================================\n"
     ]
    },
    {
     "name": "stderr",
     "output_type": "stream",
     "text": [
      "\r",
      "57it [04:36,  4.52s/it]"
     ]
    },
    {
     "name": "stdout",
     "output_type": "stream",
     "text": [
      "Index ประโยคภาษาไทย: 53497\n",
      "ประโยค: แค่โทรศัพท์ธรรมดาไม่แน่ใจว่าฉันะพูดอะไรอีก\n",
      "Same index: 53497 Value: 10 Rank: 33\n",
      "Sentence: just a regular phone so not sure what more i can say\n",
      "Minimum index: 733343 Value: 9\n",
      "Sentence: oh awesome a table not a booth right\n",
      "========================================\n"
     ]
    },
    {
     "name": "stderr",
     "output_type": "stream",
     "text": [
      "\r",
      "58it [04:39,  4.07s/it]"
     ]
    },
    {
     "name": "stdout",
     "output_type": "stream",
     "text": [
      "Index ประโยคภาษาไทย: 129963\n",
      "ประโยค: ดึงความสนใจเขาและทำให้ฉันได้พักหายใจบ้าง\n",
      "Same index: 129963 Value: 8 Rank: 8\n",
      "Sentence: keep him occupied and give me peace of mind\n",
      "Minimum index: 567499 Value: 7\n",
      "Sentence: get 30 off order over 300\n",
      "========================================\n"
     ]
    },
    {
     "name": "stderr",
     "output_type": "stream",
     "text": [
      "\r",
      "59it [04:42,  3.55s/it]"
     ]
    },
    {
     "name": "stdout",
     "output_type": "stream",
     "text": [
      "Index ประโยคภาษาไทย: 801008\n",
      "ประโยค: โอเคค่ะแล้วเรื่องโฮล์มสแอนด์วัตสันล่ะคะ\n",
      "Same index: 801008 Value: 10 Rank: 23\n",
      "Sentence: okay how about holmes & watson\n",
      "Minimum index: 729157 Value: 9\n",
      "Sentence: okay how many\n",
      "========================================\n"
     ]
    },
    {
     "name": "stderr",
     "output_type": "stream",
     "text": [
      "\r",
      "60it [04:44,  3.05s/it]"
     ]
    },
    {
     "name": "stdout",
     "output_type": "stream",
     "text": [
      "Index ประโยคภาษาไทย: 498201\n",
      "ประโยค: ฉันขโมยอย่างเงียบในระหว่างการขับขี่\n",
      "Same index: 498201 Value: 5 Rank: 0\n",
      "Sentence: i stole quietly along the drive\n",
      "Minimum index: 498201 Value: 5\n",
      "Sentence: i stole quietly along the drive\n",
      "========================================\n"
     ]
    },
    {
     "name": "stderr",
     "output_type": "stream",
     "text": [
      "\r",
      "61it [04:46,  2.77s/it]"
     ]
    },
    {
     "name": "stdout",
     "output_type": "stream",
     "text": [
      "Index ประโยคภาษาไทย: 499313\n",
      "ประโยค: คำพูดเหล่านั้นเป็นสิ่งที่นักแสดงจะต้องจากไป\n",
      "Same index: 499313 Value: 9 Rank: 108\n",
      "Sentence: those word were the cue for the actor to leave\n",
      "Minimum index: 134462 Value: 7\n",
      "Sentence: this thing is a work horse\n",
      "========================================\n"
     ]
    },
    {
     "name": "stderr",
     "output_type": "stream",
     "text": [
      "\r",
      "62it [04:47,  2.39s/it]"
     ]
    },
    {
     "name": "stdout",
     "output_type": "stream",
     "text": [
      "Index ประโยคภาษาไทย: 625557\n",
      "ประโยค: เหมือนเดิมเขากำลังเตรียมกล่องพิซซ่าแล้ว\n",
      "Same index: 625557 Value: 7 Rank: 5\n",
      "Sentence: same time they are preparing the pizza box now\n",
      "Minimum index: 399521 Value: 6\n",
      "Sentence: the box must have been previously opened\n",
      "========================================\n"
     ]
    },
    {
     "name": "stderr",
     "output_type": "stream",
     "text": [
      "\r",
      "63it [04:48,  1.87s/it]"
     ]
    },
    {
     "name": "stdout",
     "output_type": "stream",
     "text": [
      "Index ประโยคภาษาไทย: 750256\n",
      "ประโยค: 3 ทุ่ม45ค่ะ\n",
      "Same index: 750256 Value: 3 Rank: 0\n",
      "Sentence: 9:45pm\n",
      "Minimum index: 722996 Value: 3\n",
      "Sentence: papa john 's\n",
      "========================================\n"
     ]
    },
    {
     "name": "stderr",
     "output_type": "stream",
     "text": [
      "\r",
      "64it [04:57,  3.91s/it]"
     ]
    },
    {
     "name": "stdout",
     "output_type": "stream",
     "text": [
      "Index ประโยคภาษาไทย: 613460\n",
      "ประโยค: สำหรับกิจกรรมกลางแจ้งอื่นๆไม่ควรพลาดสวนสัตว์ทามะในบริเวณใกล้เคียงกันนอกจากนั้นสวนสัตว์ในอำเภอฮิโนะทางทิศตะวันตกก็มีสัตว์จากทวีปเอเชียแอฟริกาและออสเตรเลียให้ชมท่ามกลางสภาพแวดล้อมทางธรรมชาติอีกด้วย\n",
      "Same index: 613460 Value: 30 Rank: 0\n",
      "Sentence: for additional outdoor fun consider a trip to nearby tama zoological park located further west in the town of hino this zoo showcase animal in their natural habitat with specie from asia africa and australia\n",
      "Minimum index: 613460 Value: 30\n",
      "Sentence: for additional outdoor fun consider a trip to nearby tama zoological park located further west in the town of hino this zoo showcase animal in their natural habitat with specie from asia africa and australia\n",
      "========================================\n"
     ]
    },
    {
     "name": "stderr",
     "output_type": "stream",
     "text": [
      "\r",
      "65it [05:05,  5.17s/it]"
     ]
    },
    {
     "name": "stdout",
     "output_type": "stream",
     "text": [
      "Index ประโยคภาษาไทย: 122434\n",
      "ประโยค: ใช้ลำโพงตัวนี้เล่นกับเครื่องเล่นmp3ที่ออฟฟิศจะได้ไม่ต้องใช้หูฟังคนละข้างของโต๊ะค่ะถ้าดังกว่านี้จะเพอร์เฟกต์เลยค่ะ\n",
      "Same index: 122434 Value: 28 Rank: 4\n",
      "Sentence: we used the speaker to play an mp3 player in our office so we could get away from a pair of headphone on each side of cubicle\n",
      "Minimum index: 125117 Value: 27\n",
      "Sentence: the speaker phone work very well on speakerphone but when using it a headphone people always have trouble hearing me\n",
      "========================================\n"
     ]
    },
    {
     "name": "stderr",
     "output_type": "stream",
     "text": [
      "\r",
      "66it [05:09,  4.86s/it]"
     ]
    },
    {
     "name": "stdout",
     "output_type": "stream",
     "text": [
      "Index ประโยคภาษาไทย: 371474\n",
      "ประโยค: มันสามารถยืนอยู่คนเดียวเป็นชิ้นสร้างแรงบันดาลใจแต่อย่างน้อยในบริบทนี้มันสั้น\n",
      "Same index: 371474 Value: 14 Rank: 4\n",
      "Sentence: it could stand alone a an inspirational piece but at least in this context it fall short\n",
      "Minimum index: 192824 Value: 13\n",
      "Sentence: it is n't an award-winning piece of work by any mean but it give good entertainment\n",
      "========================================\n"
     ]
    },
    {
     "name": "stderr",
     "output_type": "stream",
     "text": [
      "\r",
      "67it [05:10,  3.67s/it]"
     ]
    },
    {
     "name": "stdout",
     "output_type": "stream",
     "text": [
      "Index ประโยคภาษาไทย: 758070\n",
      "ประโยค: จ้ะเราพร้อมแล้ว\n",
      "Same index: 758070 Value: 4 Rank: 1\n",
      "Sentence: yeah we 're ready now\n",
      "Minimum index: 824025 Value: 3\n",
      "Sentence: actually ready right now\n",
      "========================================\n"
     ]
    },
    {
     "name": "stderr",
     "output_type": "stream",
     "text": [
      "\r",
      "68it [05:41, 12.10s/it]"
     ]
    },
    {
     "name": "stdout",
     "output_type": "stream",
     "text": [
      "Index ประโยคภาษาไทย: 14373\n",
      "ประโยค: เมื่อวันที่๑๑ มิย ๒๕๖๒นายณัฐพล ขันธหิรัญเอกอัครราชทูตณกรุงโดฮาเป็นเจ้าภาพจัดงานเลี้ยงอาหารค่ำเอกอัครราชทูตภูมิภาคเอเชียประจำรัฐกาตาร์ที่ห้องอาหารIsaanโรงแรมGrandHyattDohaโดยมีเอกอัครราชทูตและอุปทูตจากประเทศในภูมิภาคเอเชียที่มีถิ่นพำนักในกรุงโดฮาจำนวน๑๙ประเทศพร้อมด้วยคู่สมรสเข้าร่วมการจัดงานเลี้ยงดังกล่าวเป็นธรรมเนียมปฏิบัติของกลุ่มเอกอัครราชทูตภูมิภาคเอเชียประจำรัฐกาตาร์ที่จัดขึ้นเป็นประจำทุกเดือนโดยแต่ละประเทศผลัดเปลี่ยนหมุนเวียนกันเป็นเจ้าภาพโดยมีวัตถุประสงค์เพื่อเปิดโอกาสให้คณะทูตจากประเทศต่าง ๆในเอเชียได้พบปะหารือและแลกเปลี่ยนความเห็นในประเด็นที่มีความสนใจร่วมกันของภูมิภาคและสร้างเครือข่ายในการประสานงานระหว่างกันโดยสถานเอกอัครราชทูตณกรุงโดฮาได้มอบของที่ระลึกให้แก่ผู้เข้าร่วมงานโดยเป็นโอกาสในการเผยแพร่วัฒนธรรมอาหารไทย สินค้าไทยและการท่องเที่ยวไทยต่อคณะทูตต่างประเทศและคู่สมรสด้วย\n",
      "Same index: 14373 Value: 107 Rank: 0\n",
      "Sentence: on 11 june 2019 h.e mr. nathapol khantahiran ambassador of thailand to the state of qatar hosted the asian ambassador monthly dinner at isaan restaurant grand hyatt doha hotel the dinner wa attended by ambassador and charge d'affaires a.i from 19 asian country including spouse the dinner is a monthly event held by the group of asian ambassador in doha with each participating country rotating a a host the event serf a a forum to exchange view and information on topic of common interest in the region and create network among asian ambassador the royal thai embassy in doha also took this opportunity to promote thai food thai product and thai tourism to the participating ambassador and spouse\n",
      "Minimum index: 14373 Value: 107\n",
      "Sentence: on 11 june 2019 h.e mr. nathapol khantahiran ambassador of thailand to the state of qatar hosted the asian ambassador monthly dinner at isaan restaurant grand hyatt doha hotel the dinner wa attended by ambassador and charge d'affaires a.i from 19 asian country including spouse the dinner is a monthly event held by the group of asian ambassador in doha with each participating country rotating a a host the event serf a a forum to exchange view and information on topic of common interest in the region and create network among asian ambassador the royal thai embassy in doha also took this opportunity to promote thai food thai product and thai tourism to the participating ambassador and spouse\n",
      "========================================\n"
     ]
    },
    {
     "name": "stderr",
     "output_type": "stream",
     "text": [
      "\r",
      "69it [05:44,  9.25s/it]"
     ]
    },
    {
     "name": "stdout",
     "output_type": "stream",
     "text": [
      "Index ประโยคภาษาไทย: 385731\n",
      "ประโยค: การตั้งค่าค่อนข้างสมจริงLAตามที่เห็นอยู่ในปัจจุบัน\n",
      "Same index: 385731 Value: 9 Rank: 2\n",
      "Sentence: the setting is pretty realistic la a it 's currently seen\n",
      "Minimum index: 723075 Value: 8\n",
      "Sentence: what is your name and phone number\n",
      "========================================\n"
     ]
    },
    {
     "name": "stderr",
     "output_type": "stream",
     "text": [
      "\r",
      "70it [05:45,  6.91s/it]"
     ]
    },
    {
     "name": "stdout",
     "output_type": "stream",
     "text": [
      "Index ประโยคภาษาไทย: 539973\n",
      "ประโยค: เยอะเลยละได้ทั้งหมดหัวเราะ\n",
      "Same index: 539973 Value: 6 Rank: 21\n",
      "Sentence: alot lah got in total haha\n",
      "Minimum index: 221939 Value: 4\n",
      "Sentence: i wish they 'd come back\n",
      "========================================\n"
     ]
    },
    {
     "name": "stderr",
     "output_type": "stream",
     "text": [
      "\r",
      "71it [05:46,  5.06s/it]"
     ]
    },
    {
     "name": "stdout",
     "output_type": "stream",
     "text": [
      "Index ประโยคภาษาไทย: 771796\n",
      "ประโยค: 2 ทุ่มคืนนี้ค่ะ\n",
      "Same index: 771796 Value: 2 Rank: 0\n",
      "Sentence: eight this evening\n",
      "Minimum index: 845066 Value: 2\n",
      "Sentence: they close at 9pm tonight\n",
      "========================================\n"
     ]
    },
    {
     "name": "stderr",
     "output_type": "stream",
     "text": [
      "\r",
      "72it [05:50,  4.57s/it]"
     ]
    },
    {
     "name": "stdout",
     "output_type": "stream",
     "text": [
      "Index ประโยคภาษาไทย: 583704\n",
      "ประโยค: ข้อมูลนี้จะมีอยู่เป็นสาธารณะโดยเกี่ยวข้องกับโปรไฟล์ของคุณ\n",
      "Same index: 583704 Value: 9 Rank: 0\n",
      "Sentence: this information will also be publicly available in connection with your profile\n",
      "Minimum index: 583704 Value: 9\n",
      "Sentence: this information will also be publicly available in connection with your profile\n",
      "========================================\n"
     ]
    },
    {
     "name": "stderr",
     "output_type": "stream",
     "text": [
      "\r",
      "73it [06:00,  6.29s/it]"
     ]
    },
    {
     "name": "stdout",
     "output_type": "stream",
     "text": [
      "Index ประโยคภาษาไทย: 912458\n",
      "ประโยค: ผลิตจากไม้ParticleBoardเคลือบผิวด้วยMelamineท็อปโต๊ะหนา25มมขาเหล็กทำสีสีขาวสีขาวขนาดสินค้ากว้างxลึกxสูง100x60x75 ซมตัวน้ำหนัก10กกจำนวน1ตัว\n",
      "Same index: 912458 Value: 34 Rank: 0\n",
      "Sentence: made with particle board coated with melamine table top is 25 mm thick white steel leg product dimension width x depth x height 100 x 60 x 75 cm product color white product weight 10 kg number of item 1 pc\n",
      "Minimum index: 912458 Value: 34\n",
      "Sentence: made with particle board coated with melamine table top is 25 mm thick white steel leg product dimension width x depth x height 100 x 60 x 75 cm product color white product weight 10 kg number of item 1 pc\n",
      "========================================\n"
     ]
    },
    {
     "name": "stderr",
     "output_type": "stream",
     "text": [
      "\r",
      "74it [06:22, 11.06s/it]"
     ]
    },
    {
     "name": "stdout",
     "output_type": "stream",
     "text": [
      "Index ประโยคภาษาไทย: 852916\n",
      "ประโยค: รองเท้าลำลองแบบสวมที่ใส่ได้ทุกวันให้ความเบาสวมใส่สบายดีไซน์ลุคสปอร์ตอัปเปอร์ทำจากผ้าตาข่ายระบายอากาศได้ดีพื้นรองเท้าชั้นในและนอกซัพพอร์ทเท้าและรองรับการกระแทกได้ดีอัปเปอร์ทำจากผ้าตาข่ายและออกแบบทรงSocklikeออกแบบมาแบบสวมสวมง่ายใส่สบายน้ำหนักเบาและรองรับการกระแทกได้ดีไซส์US8สีชมพูหมายเหตุสีของผลิตภัณฑ์ที่แสดงบนเว็บไซต์อาจมีความแตกต่างกันจากการตั้งค่าการแสดงผลของแต่ละหน้าจอ\n",
      "Same index: 852916 Value: 87 Rank: 944\n",
      "Sentence: a new footwear collection combining lifestyle and wellness versatile active comfort style and flexibility with the you uplift by skechers® shoe designed to be worn soft woven mesh fabric and super flexible knit fabric upper in a slip on sporty walking and comfort athletic shoe with stitching detail comfort insole and midsole design feature high-rebound cushioning with responsive feedback soft woven mesh fabric and socklike knit fabric upper slip-on sporty casual walking and fitness sneaker design size us8 color pink note in term of item color it may be slightly different from each monitor display and specification\n",
      "Minimum index: 947895 Value: 73\n",
      "Sentence: the nike sportswear essential woman 's logo short sleeve top is made with soft lightweight fabric for lasting comfort made from soft fabric help you feel comfortable nike logo material polyester color blue size as-l note in term of item color it may be slightly different from each monitor display and specification\n",
      "========================================\n"
     ]
    },
    {
     "name": "stderr",
     "output_type": "stream",
     "text": [
      "\r",
      "75it [06:29,  9.68s/it]"
     ]
    },
    {
     "name": "stdout",
     "output_type": "stream",
     "text": [
      "Index ประโยคภาษาไทย: 147398\n",
      "ประโยค: มันดูไม่แย่ในแสงไฟแต่ฉันเห็นมันได้ชัดเจนในแสงไฟปกติว่ามันมีแสงที่ออกจากตัวเคลือบแปลกๆ\n",
      "Same index: 147398 Value: 25 Rank: 315\n",
      "Sentence: it 's not terribly obvious in some light but i can definitely see it with regular lighting that there is an odd sort of light coating around the bowl\n",
      "Minimum index: 807551 Value: 21\n",
      "Sentence: ok let me see when their next availability is\n",
      "========================================\n"
     ]
    },
    {
     "name": "stderr",
     "output_type": "stream",
     "text": [
      "\r",
      "76it [06:33,  8.16s/it]"
     ]
    },
    {
     "name": "stdout",
     "output_type": "stream",
     "text": [
      "Index ประโยคภาษาไทย: 861401\n",
      "ประโยค: หมึกสีดำ ใช้กับพริ้นเตอร์ ฟูจิซีร็อกซ์ Phaser4600N4620DNปริมาณการพิมพ์5บนกระดาษขนาดA4พริ้นเอกสารได้40000หน้า\n",
      "Same index: 861401 Value: 22 Rank: 742\n",
      "Sentence: black toner cartridge compatible fuji xerox model phaser 4600 n4620 dn page yield of 40 000 page at 5 percent coverage based on letter size paper paper\n",
      "Minimum index: 38946 Value: 19\n",
      "Sentence: it like they were made to be able to withstand a lot more moisture\n",
      "========================================\n"
     ]
    },
    {
     "name": "stderr",
     "output_type": "stream",
     "text": [
      "\r",
      "77it [06:35,  6.27s/it]"
     ]
    },
    {
     "name": "stdout",
     "output_type": "stream",
     "text": [
      "Index ประโยคภาษาไทย: 474700\n",
      "ประโยค: อีกสองคนได้รับความเสียหายอย่างชัดเจน\n",
      "Same index: 474700 Value: 6 Rank: 0\n",
      "Sentence: the other 2 are clearly damaged\n",
      "Minimum index: 706588 Value: 6\n",
      "Sentence: okay i have booked your ride\n",
      "========================================\n"
     ]
    },
    {
     "name": "stderr",
     "output_type": "stream",
     "text": [
      "\r",
      "78it [06:36,  4.63s/it]"
     ]
    },
    {
     "name": "stdout",
     "output_type": "stream",
     "text": [
      "Index ประโยคภาษาไทย: 843772\n",
      "ประโยค: ร้านไหนคะ\n",
      "Same index: 843772 Value: 3 Rank: 0\n",
      "Sentence: which one\n",
      "Minimum index: 129139 Value: 3\n",
      "Sentence: it arrived promptly\n",
      "========================================\n"
     ]
    },
    {
     "name": "stderr",
     "output_type": "stream",
     "text": [
      "\r",
      "79it [06:38,  3.88s/it]"
     ]
    },
    {
     "name": "stdout",
     "output_type": "stream",
     "text": [
      "Index ประโยคภาษาไทย: 278255\n",
      "ประโยค: คุณภาพการพิมพ์ก็ไม่ได้คุณภาพเหมือนกัน\n",
      "Same index: 278255 Value: 7 Rank: 8\n",
      "Sentence: the quality of printing wa n't top notch either\n",
      "Minimum index: 528519 Value: 6\n",
      "Sentence: ok i c got time a not\n",
      "========================================\n"
     ]
    },
    {
     "name": "stderr",
     "output_type": "stream",
     "text": [
      "\r",
      "80it [06:43,  4.18s/it]"
     ]
    },
    {
     "name": "stdout",
     "output_type": "stream",
     "text": [
      "Index ประโยคภาษาไทย: 311783\n",
      "ประโยค: พวกเขาไม่มีเหตุผลใดๆและคุณจะต้องย้อนกลับไปสองสามหน้าเพื่อคิดว่าเกิดอะไรขึ้น\n",
      "Same index: 311783 Value: 23 Rank: 766\n",
      "Sentence: they did n't make any sense and you would have to go back on a couple of page just to figure out what wa happening\n",
      "Minimum index: 661543 Value: 16\n",
      "Sentence: no that will do it have a good evening\n",
      "========================================\n"
     ]
    },
    {
     "name": "stderr",
     "output_type": "stream",
     "text": [
      "\r",
      "81it [06:46,  3.77s/it]"
     ]
    },
    {
     "name": "stdout",
     "output_type": "stream",
     "text": [
      "Index ประโยคภาษาไทย: 81797\n",
      "ประโยค: หนังสือนี้มีจุดที่ผิดและพิมพ์ผิดเต็มไปหมด\n",
      "Same index: 81797 Value: 9 Rank: 0\n",
      "Sentence: this book is full of error and misprint\n",
      "Minimum index: 59401 Value: 9\n",
      "Sentence: however the broilerbaking feature doe not toast well\n",
      "========================================\n"
     ]
    },
    {
     "name": "stderr",
     "output_type": "stream",
     "text": [
      "\r",
      "82it [06:50,  3.94s/it]"
     ]
    },
    {
     "name": "stdout",
     "output_type": "stream",
     "text": [
      "Index ประโยคภาษาไทย: 453837\n",
      "ประโยค: สิ่งที่พวกเขาเพิ่มคือแถบยางที่ผูกเงื่อนและคุณอาจซื้อของจากAmazonก็ได้\n",
      "Same index: 453837 Value: 16 Rank: 3\n",
      "Sentence: all they add is a rubber band to tie in a knot and you probably could have bought something from amazon too\n",
      "Minimum index: 285677 Value: 15\n",
      "Sentence: the handle are like this three horizontal strip down each side connected by two vertical strip\n",
      "========================================\n"
     ]
    },
    {
     "name": "stderr",
     "output_type": "stream",
     "text": [
      "\r",
      "83it [06:54,  3.80s/it]"
     ]
    },
    {
     "name": "stdout",
     "output_type": "stream",
     "text": [
      "Index ประโยคภาษาไทย: 980169\n",
      "ประโยค: นอกจากนี้ยังมีชาวไทยอยู่อีกราว5060คนอาศัยอยู่ในมุมไบ Sectionนักเรียน นักศึกษา\n",
      "Same index: 980169 Value: 12 Rank: 70\n",
      "Sentence: there are also about 50 to 60 thai residing in mumbai section :international student\n",
      "Minimum index: 477710 Value: 10\n",
      "Sentence: let 's not dwell on the negative\n",
      "========================================\n"
     ]
    },
    {
     "name": "stderr",
     "output_type": "stream",
     "text": [
      "\r",
      "84it [06:55,  3.26s/it]"
     ]
    },
    {
     "name": "stdout",
     "output_type": "stream",
     "text": [
      "Index ประโยคภาษาไทย: 156976\n",
      "ประโยค: ฉันพอใจกับการซื้อในครั้งนี้มาก\n",
      "Same index: 156976 Value: 7 Rank: 2\n",
      "Sentence: i am completely satisfied with this purchase\n",
      "Minimum index: 380143 Value: 6\n",
      "Sentence: do n't get yourself into it too much\n",
      "========================================\n"
     ]
    },
    {
     "name": "stderr",
     "output_type": "stream",
     "text": [
      "\r",
      "85it [06:56,  2.55s/it]"
     ]
    },
    {
     "name": "stdout",
     "output_type": "stream",
     "text": [
      "Index ประโยคภาษาไทย: 743643\n",
      "ประโยค: คุณยุ่งอยู่มั้ย\n",
      "Same index: 743643 Value: 3 Rank: 1\n",
      "Sentence: you busy\n",
      "Minimum index: 687174 Value: 2\n",
      "Sentence: who is michael symon\n",
      "========================================\n"
     ]
    },
    {
     "name": "stderr",
     "output_type": "stream",
     "text": [
      "\r",
      "86it [07:00,  2.87s/it]"
     ]
    },
    {
     "name": "stdout",
     "output_type": "stream",
     "text": [
      "Index ประโยคภาษาไทย: 221065\n",
      "ประโยค: มีรุ่นอื่นออกมีซึ่งมีวิธีจับพลาสติกที่ทนทานกว่า\n",
      "Same index: 221065 Value: 8 Rank: 0\n",
      "Sentence: there are other model out there which have way more sturdy plastic handle\n",
      "Minimum index: 221065 Value: 8\n",
      "Sentence: there are other model out there which have way more sturdy plastic handle\n",
      "========================================\n"
     ]
    },
    {
     "name": "stderr",
     "output_type": "stream",
     "text": [
      "\r",
      "87it [07:53, 18.00s/it]"
     ]
    },
    {
     "name": "stdout",
     "output_type": "stream",
     "text": [
      "Index ประโยคภาษาไทย: 864646\n",
      "ประโยค: โชว์ทักษะอย่างเหนือชั้นควบคุมบอลได้ดั่งใจด้วยรองเท้าฟุตบอลรุ่นTiempoLegend7ProFGจากNIKEหนึ่งในรุ่นคลาสสิคตลอดกาลมาพร้อมกับเทคโนโลยีใหม่ที่ผสมผสานเส้นใยแบบFlyknitรวมเข้ากับหนังจิงโจ้ระดับพรีเมี่ยมให้คุณได้พบกับความยืดหยุ่นและสัมผัสที่เหนือชั้นกว่าที่เคยรหัสสินค้าAH7241077สีดำอัปเปอร์เลือกใช้หนังจิงโจ้หุ้มFlyknitเพื่อการสัมผัสลูกฟุตบอลอย่างไม่มีใครเทียบซับในFitmeshช่วยคงสภาพรูปทรงของรองเท้าช่วยให้หนังไม่ยืดออกเมื่อผ่านการใช้งานเป็นเวลานานโครงสร้างFlyknitที่ลิ้นรองเท้าและส้นเท้าเพื่อความกระชับและพอดีราวกับผิวชั้นที่2พร้อมความยืดหยุ่นและการรองรับในบริเวณที่คุณต้องการมากที่สุดHyperstabilityแผ่นรองไนลอนแบบอัดขึ้นรูปพร้อมส่วนหุ้มชั้นนอกจากวัสดุPebaxช่วยเพิ่มการทรงตัวให้รองเท้าสตั๊ดพร้อมทั้งลดน้ำหนักล็อคกระชับด้วยFlywireเชือกเบาและแข็งแรงพิเศษโอบรับส่วนกลางเท้าพร้อมทั้งผสานอยู่ในเชือกรองเท้าเพื่อการล็อคกระชับเมื่อคุณเปลี่ยนทิศและวิ่งเต็มฝีเท้าเทคโนโลยีNIKEGRIPช่วยไม่ให้เท้าของคุณเลื่อนหลุดจากรองเท้าสตั๊ดแผ่นรองพื้นรองเท้าแบบกว้างบางลดแรงกระแทกปุ่มสตั๊ดสำหรับพื้นสนามทั่วไปFGเพื่อใช้บนพื้นสนามหญ้าสั้นที่เปียกแฉะเล็กน้อย\n",
      "Same index: 864646 Value: 193 Rank: 0\n",
      "Sentence: classic touch locked down fit men s nike legend 7 pro fg firm-ground football boot combine the classic touch of kangaroo leather with a knit heel and the durable fit of an internal mesh liner that prevents overstretching a the leather season model ah7241-077 color black flyknit constructed heel and tongue add breathability stretch and support where you need it most premium kangaroo leather with interior quilting provides cushioned touch flywire cable integrate with the lace to lock down the foot stability pod inside the collar cup your ankle for support molded sockliner reduces stud pressure and enhances comfort hyperstability plate provides lightweight traction sockliner for low-profile cushioning firm-ground fg cleat for use on slightly wet short-grass field field\n",
      "Minimum index: 864646 Value: 193\n",
      "Sentence: classic touch locked down fit men s nike legend 7 pro fg firm-ground football boot combine the classic touch of kangaroo leather with a knit heel and the durable fit of an internal mesh liner that prevents overstretching a the leather season model ah7241-077 color black flyknit constructed heel and tongue add breathability stretch and support where you need it most premium kangaroo leather with interior quilting provides cushioned touch flywire cable integrate with the lace to lock down the foot stability pod inside the collar cup your ankle for support molded sockliner reduces stud pressure and enhances comfort hyperstability plate provides lightweight traction sockliner for low-profile cushioning firm-ground fg cleat for use on slightly wet short-grass field field\n",
      "========================================\n"
     ]
    },
    {
     "name": "stderr",
     "output_type": "stream",
     "text": [
      "\r",
      "88it [07:56, 13.38s/it]"
     ]
    },
    {
     "name": "stdout",
     "output_type": "stream",
     "text": [
      "Index ประโยคภาษาไทย: 294105\n",
      "ประโยค: สามีของฉันก็ลองทำดูเขาก็โอเค\n",
      "Same index: 294105 Value: 8 Rank: 0\n",
      "Sentence: my husband also tried it his wa fine\n",
      "Minimum index: 669791 Value: 8\n",
      "Sentence: alright what need done\n",
      "========================================\n"
     ]
    },
    {
     "name": "stderr",
     "output_type": "stream",
     "text": [
      "\r",
      "89it [07:58, 10.00s/it]"
     ]
    },
    {
     "name": "stdout",
     "output_type": "stream",
     "text": [
      "Index ประโยคภาษาไทย: 653007\n",
      "ประโยค: นี่ผู้ช่วยฉันต้องการจองมื้อเที่ยงหน่อย\n",
      "Same index: 653007 Value: 6 Rank: 0\n",
      "Sentence: hey assistant i need a lunch reservation\n",
      "Minimum index: 653007 Value: 6\n",
      "Sentence: hey assistant i need a lunch reservation\n",
      "========================================\n"
     ]
    },
    {
     "name": "stderr",
     "output_type": "stream",
     "text": [
      "\r",
      "90it [08:03,  8.42s/it]"
     ]
    },
    {
     "name": "stdout",
     "output_type": "stream",
     "text": [
      "Index ประโยคภาษาไทย: 639615\n",
      "ประโยค: แย่แล้วค่ะพวกเขาไม่ว่างตอน11 โมง 45 นาทีแล้วฉันจองตอนเที่ยงไว้ให้แล้วนะคะขอโทษด้วยนะคะ\n",
      "Same index: 639615 Value: 22 Rank: 725\n",
      "Sentence: well they do not have the 11:45 open now but i had them put you at 12 noon sorry about all the change mam\n",
      "Minimum index: 391333 Value: 17\n",
      "Sentence: most people may not spend time figuring out what each chapter offer\n",
      "========================================\n"
     ]
    },
    {
     "name": "stderr",
     "output_type": "stream",
     "text": [
      "\r",
      "91it [08:21, 11.40s/it]"
     ]
    },
    {
     "name": "stdout",
     "output_type": "stream",
     "text": [
      "Index ประโยคภาษาไทย: 961579\n",
      "ประโยค: ชะล้างคราบมันกลิ่นคาวคราบอาหารบนภาชนะได้หมดจดโดยไม่ทิ้งสารเคมีตกค้างได้ด้วยน้ำยาล้างจานกลิ่นซิตรัสจากแบรนด์PIPPERSTANDARDกลิ่นหอมจากน้ำมันหอมระเหยธรรมชาติผ่านการทดสอบการระคายเคืองไม่ทำให้มือแห้งย่อยสลายได้ตามธรรมชาติสีเขียวความกว้าง10 ซมความสูง16 ซมความลึก6 ซมน้ำหนักก ก1136หมายเหตุสีของผลิตภัณฑ์ที่แสดงบนเว็บไซต์อาจมีความแตกต่างกันจากการตั้งค่าการแสดงผลสีของแต่ละหน้าจอ\n",
      "Same index: 961579 Value: 88 Rank: 966\n",
      "Sentence: wash the stain fishy smell food stain on dish with dish washing liquid citrus scent by pipper standard cut through grease and grime with pineapple enzyme for a sparkling natural clean with pi pper standard dish wash liquid it non-irritation certification mean that our dish wash liquid wo n't dry out your hand or make them itchy or stripped one wash will leave your dish spot free color green width 10 cm height 16 cm depth 6 cm weight kg 1.136 caution in term of item color it may be slightly different from each monitor display and specification\n",
      "Minimum index: 602954 Value: 65\n",
      "Sentence: his sacrifice and your mercy have not only given me hope but they have given me confidence to face whatever lie ahead today\n",
      "========================================\n"
     ]
    },
    {
     "name": "stderr",
     "output_type": "stream",
     "text": [
      "\r",
      "92it [08:23,  8.60s/it]"
     ]
    },
    {
     "name": "stdout",
     "output_type": "stream",
     "text": [
      "Index ประโยคภาษาไทย: 223147\n",
      "ประโยค: ไม่สามารถแม้แต่จะได้ยินสิ่งที่พวกเขาร้องเพลง\n",
      "Same index: 223147 Value: 7 Rank: 0\n",
      "Sentence: could n't even hear what they were singing\n",
      "Minimum index: 223147 Value: 7\n",
      "Sentence: could n't even hear what they were singing\n",
      "========================================\n"
     ]
    },
    {
     "name": "stderr",
     "output_type": "stream",
     "text": [
      "\r",
      "93it [08:25,  6.44s/it]"
     ]
    },
    {
     "name": "stdout",
     "output_type": "stream",
     "text": [
      "Index ประโยคภาษาไทย: 698989\n",
      "ประโยค: เพิ่มรสอะไรไหมคะ\n",
      "Same index: 698989 Value: 4 Rank: 0\n",
      "Sentence: would you like any added flavor\n",
      "Minimum index: 841766 Value: 4\n",
      "Sentence: can i add whipped cream\n",
      "========================================\n"
     ]
    },
    {
     "name": "stderr",
     "output_type": "stream",
     "text": [
      "\r",
      "94it [08:27,  5.22s/it]"
     ]
    },
    {
     "name": "stdout",
     "output_type": "stream",
     "text": [
      "Index ประโยคภาษาไทย: 488657\n",
      "ประโยค: เขาเอามันออกจากหัวไม่ได้เลย\n",
      "Same index: 488657 Value: 6 Rank: 3\n",
      "Sentence: he can not get it out of his head\n",
      "Minimum index: 408318 Value: 5\n",
      "Sentence: they had no weapon at all\n",
      "========================================\n"
     ]
    },
    {
     "name": "stderr",
     "output_type": "stream",
     "text": [
      "\r",
      "95it [08:30,  4.67s/it]"
     ]
    },
    {
     "name": "stdout",
     "output_type": "stream",
     "text": [
      "Index ประโยคภาษาไทย: 220811\n",
      "ประโยค: เขาต้องการให้ฉันทุกเช้าเมื่อเขาลุกขึ้นสำหรับวันที่เขาอ่าน\n",
      "Same index: 220811 Value: 12 Rank: 2\n",
      "Sentence: he want me every morning when he get up for his day of reading\n",
      "Minimum index: 576260 Value: 11\n",
      "Sentence: clever grip phone holder car accessory universal car mount mount\n",
      "========================================\n"
     ]
    },
    {
     "name": "stderr",
     "output_type": "stream",
     "text": [
      "\r",
      "96it [09:04, 13.42s/it]"
     ]
    },
    {
     "name": "stdout",
     "output_type": "stream",
     "text": [
      "Index ประโยคภาษาไทย: 883510\n",
      "ประโยค: มอบความสบายให้แก่เท้าของคุณในทุก ๆวันด้วยรองเท้าลำลองSKECHERSรุ่นGowalk4Exceedอัปเปอร์ทำจากผ้าตาข่ายที่ยืดขยายได้ตามรูปเท้าและระบายอากาศได้ดีพร้อมเทคโนโลยีGogaMaxบริเวณพื้นรองเท้าด้านในที่ให้ความนุ่มเด้งและสัมผัสที่สบายในทุกก้าวเดินUpperทำจากผ้าตาข่ายและผ้าถักยืดหยุ่นได้ตามรูปเท้าเทคโนโลยี5GENที่ช่วยรองรับแรงกระแทกได้อย่างดีเยี่ยมพื้นรองเท้าเทคโนโลยีGogaPillarsพื้นรองเท้าด้านในเทคโนโลยีGogaMaxโฉมใหม่มอบความนุ่มเด้งน้ำหนักเบาพื้นรองเท้าใช้Bamboolinedเพื่อแอนตี้แบคทีเรียและป้องกันการเกิดกลิ่นอันไม่พึงประสงค์สวมใส่สบายสีกรมท่าขาวไซส์US10หมายเหตุสีของผลิตภัณฑ์ที่แสดงบนเว็บไซต์อาจมีความแตกต่างกันจากการตั้งค่าการแสดงผลของแต่ละหน้าจอ\n",
      "Same index: 883510 Value: 129 Rank: 28\n",
      "Sentence: every day is a choice choose greatness with the skechers g owalk 4™ exceed feature innovative 5 gen® midsole design and an advanced knit fabric upper with new skechers goga max® insole for the most advanced walking experience ever innovative and highly responsive 5 gen® midsole cushioning mesh upper engineered to naturally expand with your foot while you walk nearly seamless construction for comfortable fit bamboo lined footbed for anti bacterial odor control goga pillars® on outsole evolved into a more streamlined design new skechers goga max® insole for next generation cushioning and support color navy-white size us10 note in term of item color it may be slightly different from each monitor display and specification\n",
      "Minimum index: 860229 Value: 125\n",
      "Sentence: bath mat from esquire for your clean and convenience made of premium cotton that will gentle softness and well-absorbing bath mat avenue esquire for cleaning and wiping thick fabric good absorbing made from cotton 100 dimension 20 30 inch 42.5 70 cm color brown caution in term of item color it may be slightly different from each monitor display and specification\n",
      "========================================\n"
     ]
    },
    {
     "name": "stderr",
     "output_type": "stream",
     "text": [
      "\r",
      "97it [09:07, 10.35s/it]"
     ]
    },
    {
     "name": "stdout",
     "output_type": "stream",
     "text": [
      "Index ประโยคภาษาไทย: 80611\n",
      "ประโยค: นอกจากนี้มันไม่จำเป็นต้องมีเรื่องเพศซึ่งก็ไม่ค่อยจะสมบูรณ์เท่าไหร่ก็ได้\n",
      "Same index: 80611 Value: 12 Rank: 0\n",
      "Sentence: in addition it could do without all the sex which wa also lacking\n",
      "Minimum index: 327862 Value: 12\n",
      "Sentence: not totally impressed\n",
      "========================================\n"
     ]
    },
    {
     "name": "stderr",
     "output_type": "stream",
     "text": [
      "\r",
      "98it [09:14,  9.38s/it]"
     ]
    },
    {
     "name": "stdout",
     "output_type": "stream",
     "text": [
      "Index ประโยคภาษาไทย: 512975\n",
      "ประโยค: ทั้งผู้ก่อกบฏและกองกำลังของรัฐบาลรวมถึงผู้ภักดีต่อเทย์เลอร์ถูกกล่าวหาว่าปล้นสะดมหมู่บ้านในชนบทของไลบีเรียแม้จะมีข้อตกลงสันติภาพก็ตาม\n",
      "Same index: 512975 Value: 22 Rank: 0\n",
      "Sentence: both rebel and government force including those loyald to taylor have been accused of pillaging village in liberia 's countryside despite a peace deal\n",
      "Minimum index: 557372 Value: 22\n",
      "Sentence: lol but they do n't have your billing address right haha i finishedle have you all the best too\n",
      "========================================\n"
     ]
    },
    {
     "name": "stderr",
     "output_type": "stream",
     "text": [
      "\r",
      "99it [09:24,  9.39s/it]"
     ]
    },
    {
     "name": "stdout",
     "output_type": "stream",
     "text": [
      "Index ประโยคภาษาไทย: 314192\n",
      "ประโยค: ปัญหาสองอย่างที่ฉันมีคือ1บางครั้งเมื่อชั่งน้ําหนักเป็นกรัมมันบอกว่า00กรัมและไม่เปลี่ยนแปลงดังนั้นคุณจึงมีหนึ่งกรัมตรงนั้นไม่มีทางรู้ว่ามันปิดหรือไม่\n",
      "Same index: 314192 Value: 26 Rank: 0\n",
      "Sentence: the two issue i am having are 1 sometimes when weighing in gram it say 0.0 g and doe n't change so you just have one gram right there no way of knowing if it off or not\n",
      "Minimum index: 314192 Value: 26\n",
      "Sentence: the two issue i am having are 1 sometimes when weighing in gram it say 0.0 g and doe n't change so you just have one gram right there no way of knowing if it off or not\n",
      "========================================\n"
     ]
    },
    {
     "name": "stderr",
     "output_type": "stream",
     "text": [
      "\r",
      "100it [09:26,  7.25s/it]"
     ]
    },
    {
     "name": "stdout",
     "output_type": "stream",
     "text": [
      "Index ประโยคภาษาไทย: 581236\n",
      "ประโยค: เก้าอี้เดิมในสไตล์อาร์ตเดโคในกรอบกระจก\n",
      "Same index: 581236 Value: 7 Rank: 0\n",
      "Sentence: the original chair in art deco style in the mirror frame frame\n",
      "Minimum index: 581236 Value: 7\n",
      "Sentence: the original chair in art deco style in the mirror frame frame\n",
      "========================================\n"
     ]
    },
    {
     "name": "stderr",
     "output_type": "stream",
     "text": [
      "\r",
      "101it [09:28,  5.63s/it]"
     ]
    },
    {
     "name": "stdout",
     "output_type": "stream",
     "text": [
      "Index ประโยคภาษาไทย: 306015\n",
      "ประโยค: คุณควรซื้อถ้าคุณมีอารมณ์ขัน\n",
      "Same index: 306015 Value: 8 Rank: 300\n",
      "Sentence: you should buy one if you have a sense of humor\n",
      "Minimum index: 811074 Value: 5\n",
      "Sentence: did i get that right\n",
      "========================================\n"
     ]
    },
    {
     "name": "stderr",
     "output_type": "stream",
     "text": [
      "\r",
      "102it [09:45,  9.18s/it]"
     ]
    },
    {
     "name": "stdout",
     "output_type": "stream",
     "text": [
      "Index ประโยคภาษาไทย: 891543\n",
      "ประโยค: รองเท้าวิ่งCUSHStreetRunพร้อมซัพพอร์ทการเร่งสปีดตลอดเส้นทางรองรับแรงกระแทกอย่างนุ่มนวลตอบสนองแต่ละก้าวอย่างมีประสิทธิภาพรูปแบบไซส์ของสินค้าUSอัปเปอร์เป็นผ้าตาข่ายและวัสดุสังเคราะห์โครงสร้างแบบบูทมอบความกระชับเท้าเทคโนโลยีCushทำให้รองเท้ามีน้ำหนักเบาพร้อมรองรับแรงกระแทกอย่างมีประสิทธิภาพพื้นรองเท้าด้านนอกทำจากยางที่ทนทานและยึดเกาะได้ดีรหัสสินค้าMSTRNLS1สีขาวมาตรฐานไซส์US\n",
      "Same index: 891543 Value: 69 Rank: 265\n",
      "Sentence: get ready to hit the pavement in the cush+ street run the mesh upper keep the fit breathable while cush+ midsole foam offer unparalleled softness underfoot plus the rubber outsole feature rubber pod for unbeatable traction on urban terrain size system u mesh and synthetic upper bootie construction for a snug feel cush+ technology midsole for superior comfort and shock absorption durable traction rubber outsole model mstrnls1 color white size standard u u\n",
      "Minimum index: 113401 Value: 63\n",
      "Sentence: the only thing that doe n't make perfect sense why they made this item so big\n",
      "========================================\n"
     ]
    },
    {
     "name": "stderr",
     "output_type": "stream",
     "text": [
      "\r",
      "103it [09:57,  9.96s/it]"
     ]
    },
    {
     "name": "stdout",
     "output_type": "stream",
     "text": [
      "Index ประโยคภาษาไทย: 853811\n",
      "ประโยค: ADIDASCreatorผลิตจากผ้าฝ้ายออกแบบด้วยทรงหลวมพอดีเพื่อให้เกิดความนุ่มสบายขณะสวมใส่ดีไซน์คอกลมดูคลาสสิคพร้อมเติมความเท่ด้วยกราฟฟิคที่ด้านหลังรหัสสินค้าDV3060สีดำผ้าฝ้าย100ทรงหลวมพอดีด้านหน้าตกแต่งโลโก้ADIDASพร้อมลายกราฟฟิคที่ด้านหลัง\n",
      "Same index: 853811 Value: 41 Rank: 0\n",
      "Sentence: adidas creator made of cotton fabric with regular fit to provides soft and comfortable ribbed crewneck for classic style while insert cool design graphic at back model dv3060 color black 100 cotton regular fit adidas badge of sport on front and screen printed graphic at back back\n",
      "Minimum index: 853811 Value: 41\n",
      "Sentence: adidas creator made of cotton fabric with regular fit to provides soft and comfortable ribbed crewneck for classic style while insert cool design graphic at back model dv3060 color black 100 cotton regular fit adidas badge of sport on front and screen printed graphic at back back\n",
      "========================================\n"
     ]
    },
    {
     "name": "stderr",
     "output_type": "stream",
     "text": [
      "\r",
      "104it [10:08, 10.07s/it]"
     ]
    },
    {
     "name": "stdout",
     "output_type": "stream",
     "text": [
      "Index ประโยคภาษาไทย: 611894\n",
      "ประโยค: ไฟล์Cookieจะถูกเก็บไว้ในเว็บบราวเซอร์ของคุณทำให้เว็บไซต์นี้และบุคคลที่สามสามารถจดจำคุณได้และทำให้คุณมาเยี่ยมชมเว็บไซต์ในครั้งถัดไปได้ง่ายยิ่งขึ้นรวมถึงทำให้เว็บไซต์นี้เป็นประโยชน์กับคุณมากยิ่งขึ้นด้วย\n",
      "Same index: 611894 Value: 35 Rank: 1\n",
      "Sentence: a cookie file is stored in your web browser and allows the service or a third-party to recognize you and make your next visit easier and the service more useful to you\n",
      "Minimum index: 209410 Value: 34\n",
      "Sentence: it stink i hated itthe only thing that worked well in the hill were the music score by paul williams you have to see this\n",
      "========================================\n"
     ]
    },
    {
     "name": "stderr",
     "output_type": "stream",
     "text": [
      "\r",
      "105it [10:11,  7.99s/it]"
     ]
    },
    {
     "name": "stdout",
     "output_type": "stream",
     "text": [
      "Index ประโยคภาษาไทย: 135882\n",
      "ประโยค: เพลงใหม่ของวงนี้มีจังหวะดีและทำนองไพเราะ\n",
      "Same index: 135882 Value: 10 Rank: 7\n",
      "Sentence: the new song by this group ha a nice beat and an upbeat melody\n",
      "Minimum index: 221439 Value: 9\n",
      "Sentence: excellent music a well\n",
      "========================================\n"
     ]
    },
    {
     "name": "stderr",
     "output_type": "stream",
     "text": [
      "\r",
      "106it [10:19,  8.04s/it]"
     ]
    },
    {
     "name": "stdout",
     "output_type": "stream",
     "text": [
      "Index ประโยคภาษาไทย: 614799\n",
      "ประโยค: Samosaมักจะหมายถึงประเภทของขนมอบหรือทอดที่อัดแน่นด้วยไส้เผ็ดและทำเป็นรูปสามเหลี่ยมหรือรูปร่างtetrahedralที่ไม่ซ้ำกันสามารถทำหน้าที่เป็นอาหารจานหลักของว่างหรืออาหารริมถนน\n",
      "Same index: 614799 Value: 31 Rank: 92\n",
      "Sentence: about samosa samosa usually refers to a type of baked or deep-fried pastry that 's stuffed with savory filling and made into triangular or a unique tetrahedral shape can be served a a main course snack or street food\n",
      "Minimum index: 780963 Value: 28\n",
      "Sentence: sure what kind of food do you like\n",
      "========================================\n"
     ]
    },
    {
     "name": "stderr",
     "output_type": "stream",
     "text": [
      "\r",
      "107it [10:23,  6.74s/it]"
     ]
    },
    {
     "name": "stdout",
     "output_type": "stream",
     "text": [
      "Index ประโยคภาษาไทย: 350134\n",
      "ประโยค: และในที่สุดเนื่องจากไม่มีรีวิวใดๆสิ่งนี้จึงจําเป็นต้องมี\n",
      "Same index: 350134 Value: 12 Rank: 0\n",
      "Sentence: and finally since there were no review this need one\n",
      "Minimum index: 372999 Value: 12\n",
      "Sentence: i have not even had it a month\n",
      "========================================\n"
     ]
    },
    {
     "name": "stderr",
     "output_type": "stream",
     "text": [
      "\r",
      "108it [10:24,  5.12s/it]"
     ]
    },
    {
     "name": "stdout",
     "output_type": "stream",
     "text": [
      "Index ประโยคภาษาไทย: 300375\n",
      "ประโยค: ใช้งานได้แต่ดูแปลก ๆ\n",
      "Same index: 300375 Value: 3 Rank: 0\n",
      "Sentence: work but look weird\n",
      "Minimum index: 300375 Value: 3\n",
      "Sentence: work but look weird\n",
      "========================================\n"
     ]
    },
    {
     "name": "stderr",
     "output_type": "stream",
     "text": [
      "\r",
      "109it [10:27,  4.46s/it]"
     ]
    },
    {
     "name": "stdout",
     "output_type": "stream",
     "text": [
      "Index ประโยคภาษาไทย: 242191\n",
      "ประโยค: พวกเขาอาจจะเก่าไปหน่อยแต่พวกเขาก็ค่อนข้างดีเสมอ\n",
      "Same index: 242191 Value: 11 Rank: 108\n",
      "Sentence: they may be a bit dated but they have always been pretty good\n",
      "Minimum index: 90180 Value: 9\n",
      "Sentence: great concept just wish it wa made with better plastic\n",
      "========================================\n"
     ]
    },
    {
     "name": "stderr",
     "output_type": "stream",
     "text": [
      "\r",
      "110it [10:45,  8.55s/it]"
     ]
    },
    {
     "name": "stdout",
     "output_type": "stream",
     "text": [
      "Index ประโยคภาษาไทย: 882947\n",
      "ประโยค: สนุกกับการขีดเขียนด้วยปากกาลายสุดน่ารักจากSANRIOแต่งแต้มตัวการ์ตูนตัวโปรดของคุณลงบนตัวปากกา สีสันสดใส แฟนคลับ Sanrio ห้ามพลาดปากกาลูกลื่น The Little Twin Stars Candy สำหรับขีดเขียนด้ามจับถนัดมือเขียนง่ายปุ่มกดด้านบนเป็นรูปCandymascotผลิตจากวัสดุABSคุณภาพดีดีไซน์น่ารักหมึกสีดำขนาดกว้างxยาวxสูง35213ซมสีชมพูหมายเหตุสีของผลิตภัณฑ์ที่แสดงอาจจะแตกต่างกันเนื่องจากรูปภาพที่แสดงและการกำหนดค่าการแสดงผลของแต่ละหน้าจอ\n",
      "Same index: 882947 Value: 56 Rank: 0\n",
      "Sentence: enjoy writing more than ever with this sanrio pen which is adorably designed with little twin star sanrio ballpoint pen little twin star candy design for writing easy to use with a candy shaped mascot made of high quality ab adorably designed ink color black size 3.5 2 13 cm color pink caution color of the product shown on the website may be different due to the different display setting of each screen\n",
      "Minimum index: 882947 Value: 56\n",
      "Sentence: enjoy writing more than ever with this sanrio pen which is adorably designed with little twin star sanrio ballpoint pen little twin star candy design for writing easy to use with a candy shaped mascot made of high quality ab adorably designed ink color black size 3.5 2 13 cm color pink caution color of the product shown on the website may be different due to the different display setting of each screen\n",
      "========================================\n"
     ]
    },
    {
     "name": "stderr",
     "output_type": "stream",
     "text": [
      "\r",
      "111it [11:02, 11.00s/it]"
     ]
    },
    {
     "name": "stdout",
     "output_type": "stream",
     "text": [
      "Index ประโยคภาษาไทย: 854054\n",
      "ประโยค: ออกกำลังกายสบายๆไปกับกางเกงADIDASSpeedbreakerHypeIconด้วยคุณสมบัติพิเศษช่วยดูดซับเหงื่อจึงรู้สึกแห้งสบายไม่เหนอะหนะโพลีเอสเตอร์91และอีลาสเตน9เทคโนโลยีClimaliteช่วยดูดซับเหงื่อกระเป๋าด้านข้างเอวยางยืดแบบเรียบพร้อมเชือกผูกหมายเหตุสีของผลิตภัณฑ์ที่แสดงบนเว็บไซต์อาจมีความแตกต่างกันจากการตั้งค่าการแสดงผลสีของแต่ละหน้าจอ\n",
      "Same index: 854054 Value: 59 Rank: 0\n",
      "Sentence: adidas speedbreaker hype icon keep you in comfort all time manage your perspirartion with climalite technology so you can training without gooey 91 polyester and 9 elastane single jersey climalite technology help to sweat wicking side slip-in pocket drawcord on flat-knit elastic waist caution in term of item color it may be slightly different from each monitor display and specification\n",
      "Minimum index: 854054 Value: 59\n",
      "Sentence: adidas speedbreaker hype icon keep you in comfort all time manage your perspirartion with climalite technology so you can training without gooey 91 polyester and 9 elastane single jersey climalite technology help to sweat wicking side slip-in pocket drawcord on flat-knit elastic waist caution in term of item color it may be slightly different from each monitor display and specification\n",
      "========================================\n"
     ]
    },
    {
     "name": "stderr",
     "output_type": "stream",
     "text": [
      "\r",
      "112it [11:03,  8.25s/it]"
     ]
    },
    {
     "name": "stdout",
     "output_type": "stream",
     "text": [
      "Index ประโยคภาษาไทย: 798082\n",
      "ประโยค: โอเคค่ะงั้นเป็นน้ำมันรั่วนะคะ\n",
      "Same index: 798082 Value: 3 Rank: 0\n",
      "Sentence: ok would that be oil leaking\n",
      "Minimum index: 798082 Value: 3\n",
      "Sentence: ok would that be oil leaking\n",
      "========================================\n"
     ]
    },
    {
     "name": "stderr",
     "output_type": "stream",
     "text": [
      "\r",
      "113it [11:06,  6.52s/it]"
     ]
    },
    {
     "name": "stdout",
     "output_type": "stream",
     "text": [
      "Index ประโยคภาษาไทย: 360831\n",
      "ประโยค: แล้วคุณจะไม่ได้ดูหนังสือเล่มนี้อีกเลย\n",
      "Same index: 360831 Value: 10 Rank: 84\n",
      "Sentence: then you 'll never look at this book again\n",
      "Minimum index: 654143 Value: 8\n",
      "Sentence: no problem have a great day\n",
      "========================================\n"
     ]
    },
    {
     "name": "stderr",
     "output_type": "stream",
     "text": [
      "\r",
      "114it [11:09,  5.56s/it]"
     ]
    },
    {
     "name": "stdout",
     "output_type": "stream",
     "text": [
      "Index ประโยคภาษาไทย: 587048\n",
      "ประโยค: 3เลือกรถอย่างน้อย1คันที่คุณต้องการกาหนดบัตรบริษัท\n",
      "Same index: 587048 Value: 11 Rank: 0\n",
      "Sentence: select one or several vehicle that you wish to assign a company card\n",
      "Minimum index: 587048 Value: 11\n",
      "Sentence: select one or several vehicle that you wish to assign a company card\n",
      "========================================\n"
     ]
    },
    {
     "name": "stderr",
     "output_type": "stream",
     "text": [
      "\r",
      "115it [11:16,  6.05s/it]"
     ]
    },
    {
     "name": "stdout",
     "output_type": "stream",
     "text": [
      "Index ประโยคภาษาไทย: 51855\n",
      "ประโยค: เมื่อฉันวางเคสนี้บนIPadของฉันมันเหมือนกับการยืนเป็นแผ่นกระดาษและเมื่อคุณพยายามที่จะย้ายIpadมือของคุณก็จะฉีกขาด\n",
      "Same index: 51855 Value: 24 Rank: 0\n",
      "Sentence: when i put this case on my ipad it wa like standing a sheet of paper and when you tried to move the ipad your hand were going to tear up\n",
      "Minimum index: 51855 Value: 24\n",
      "Sentence: when i put this case on my ipad it wa like standing a sheet of paper and when you tried to move the ipad your hand were going to tear up\n",
      "========================================\n"
     ]
    },
    {
     "name": "stderr",
     "output_type": "stream",
     "text": [
      "\r",
      "116it [11:20,  5.23s/it]"
     ]
    },
    {
     "name": "stdout",
     "output_type": "stream",
     "text": [
      "Index ประโยคภาษาไทย: 694084\n",
      "ประโยค: โอเค ดูเหมือนร้านเพดาเลอร์ผับที่ถนนตรงข้ามเดอะฟอร์ดมีโต๊ะปราศจากสารก่อภูมิแพ้ว่างให้คุณสี่คนวันเสาร์นี้ตอนหกโมง\n",
      "Same index: 694084 Value: 28 Rank: 783\n",
      "Sentence: okay it look like pedaler 's pub across the street from the forge can seat your party of four on saturday at 6pm with an allergy free table table\n",
      "Minimum index: 737342 Value: 10\n",
      "Sentence: ok i got john jay phone number 243-865-2143 correct\n",
      "========================================\n"
     ]
    },
    {
     "name": "stderr",
     "output_type": "stream",
     "text": [
      "\r",
      "117it [11:26,  5.59s/it]"
     ]
    },
    {
     "name": "stdout",
     "output_type": "stream",
     "text": [
      "Index ประโยคภาษาไทย: 39710\n",
      "ประโยค: ครั้งแรกมันยากเจ็บปวดแม้ในบางครั้งพยายามกลืนชิ้นเล็กๆที่พวกเราเติบโตขึ้นมาเมื่อบรรพบุรุษของเราทำงานในโรงงานหรือเหมืองถ่านหิน\n",
      "Same index: 39710 Value: 18 Rank: 0\n",
      "Sentence: first it 's hard even painful at time -trying to swallow those little bit with which we all grew up when our father worked in mill or coal mine\n",
      "Minimum index: 39710 Value: 18\n",
      "Sentence: first it 's hard even painful at time -trying to swallow those little bit with which we all grew up when our father worked in mill or coal mine\n",
      "========================================\n"
     ]
    },
    {
     "name": "stderr",
     "output_type": "stream",
     "text": [
      "\r",
      "118it [11:27,  4.23s/it]"
     ]
    },
    {
     "name": "stdout",
     "output_type": "stream",
     "text": [
      "Index ประโยคภาษาไทย: 805048\n",
      "ประโยค: ฮ่าฮ่าโอเคค่ะ\n",
      "Same index: 805048 Value: 4 Rank: 8\n",
      "Sentence: haha great\n",
      "Minimum index: 965285 Value: 3\n",
      "Sentence: zingular irene zr-1001 office chair blue\n",
      "========================================\n"
     ]
    },
    {
     "name": "stderr",
     "output_type": "stream",
     "text": [
      "\r",
      "119it [11:34,  4.89s/it]"
     ]
    },
    {
     "name": "stdout",
     "output_type": "stream",
     "text": [
      "Index ประโยคภาษาไทย: 311106\n",
      "ประโยค: ในฐานะที่เป็นคนที่ชอบนอนหลับด้วยแสงไฟในขณะที่ฉันนอนหลับและชอบเสียงของเสียงสีขาวในตอนกลางคืนที่นี่ยอดเยี่ยมมาก\n",
      "Same index: 311106 Value: 19 Rank: 0\n",
      "Sentence: a someone who prefers to sleep with a light on while i sleep and like the sound of white noise at night this is great\n",
      "Minimum index: 311106 Value: 19\n",
      "Sentence: a someone who prefers to sleep with a light on while i sleep and like the sound of white noise at night this is great\n",
      "========================================\n"
     ]
    },
    {
     "name": "stderr",
     "output_type": "stream",
     "text": [
      "\r",
      "120it [11:35,  3.72s/it]"
     ]
    },
    {
     "name": "stdout",
     "output_type": "stream",
     "text": [
      "Index ประโยคภาษาไทย: 287422\n",
      "ประโยค: มันอาจจะเลวร้ายลง\n",
      "Same index: 287422 Value: 4 Rank: 2\n",
      "Sentence: it could have been worse\n",
      "Minimum index: 545246 Value: 3\n",
      "Sentence: today no meeting rite\n",
      "========================================\n"
     ]
    },
    {
     "name": "stderr",
     "output_type": "stream",
     "text": [
      "\r",
      "121it [11:40,  4.16s/it]"
     ]
    },
    {
     "name": "stdout",
     "output_type": "stream",
     "text": [
      "Index ประโยคภาษาไทย: 396765\n",
      "ประโยค: ดังนั้นโปรดระวังที่จะทําตามคําแนะนําพวกเขาหมายความว่ามันอัพเดท112213 สุนัขของฉันตอนนี้เป็นลูกสุนัข\n",
      "Same index: 396765 Value: 17 Rank: 0\n",
      "Sentence: so be careful to follow direction they mean it update 112213 .my dog is a puppy now\n",
      "Minimum index: 396765 Value: 17\n",
      "Sentence: so be careful to follow direction they mean it update 112213 .my dog is a puppy now\n",
      "========================================\n"
     ]
    },
    {
     "name": "stderr",
     "output_type": "stream",
     "text": [
      "\r",
      "122it [11:44,  4.22s/it]"
     ]
    },
    {
     "name": "stdout",
     "output_type": "stream",
     "text": [
      "Index ประโยคภาษาไทย: 155589\n",
      "ประโยค: ไม่แน่ใจว่าวิธีนี้จะเห็นผลไหมแต่กับส่วนใหญ่ฉันคิดว่ามันคุ้มเลย\n",
      "Same index: 155589 Value: 15 Rank: 0\n",
      "Sentence: not sure how effective this treatment is but for the most part i think it 's worth it\n",
      "Minimum index: 155589 Value: 15\n",
      "Sentence: not sure how effective this treatment is but for the most part i think it 's worth it\n",
      "========================================\n"
     ]
    },
    {
     "name": "stderr",
     "output_type": "stream",
     "text": [
      "\r",
      "123it [11:50,  4.72s/it]"
     ]
    },
    {
     "name": "stdout",
     "output_type": "stream",
     "text": [
      "Index ประโยคภาษาไทย: 612279\n",
      "ประโยค: แผ่นหมุนฟรีถ้ามีคนพยายามเปิดล็อคด้วยเครื่องมือหรือกระทะพวกเขาสามารถเปิดแผ่นดิสก์หมุนได้ฟรี\n",
      "Same index: 612279 Value: 23 Rank: 786\n",
      "Sentence: high security free turn disc if someone try to open the lock by a tool or a pan they can only turn the free turn disc but could n't break the cylinder\n",
      "Minimum index: 319922 Value: 17\n",
      "Sentence: we use it just before getting up\n",
      "========================================\n"
     ]
    },
    {
     "name": "stderr",
     "output_type": "stream",
     "text": [
      "\r",
      "124it [11:52,  3.79s/it]"
     ]
    },
    {
     "name": "stdout",
     "output_type": "stream",
     "text": [
      "Index ประโยคภาษาไทย: 659645\n",
      "ประโยค: ค่ะมีอะไรอีกไหมคะ\n",
      "Same index: 659645 Value: 6 Rank: 20\n",
      "Sentence: sure anything else\n",
      "Minimum index: 766048 Value: 5\n",
      "Sentence: ok i can get pineapple instead\n",
      "========================================\n"
     ]
    },
    {
     "name": "stderr",
     "output_type": "stream",
     "text": [
      "\r",
      "125it [11:53,  3.04s/it]"
     ]
    },
    {
     "name": "stdout",
     "output_type": "stream",
     "text": [
      "Index ประโยคภาษาไทย: 703924\n",
      "ประโยค: ได้สิไปทัน\n",
      "Same index: 703924 Value: 4 Rank: 11\n",
      "Sentence: yes i can\n",
      "Minimum index: 115392 Value: 2\n",
      "Sentence: good reading\n",
      "========================================\n"
     ]
    },
    {
     "name": "stderr",
     "output_type": "stream",
     "text": [
      "\r",
      "126it [12:02,  4.74s/it]"
     ]
    },
    {
     "name": "stdout",
     "output_type": "stream",
     "text": [
      "Index ประโยคภาษาไทย: 847918\n",
      "ประโยค: ONLYCENTRALสีเทาโอกาสที่สวมใส่ลำลองทำงานเหมาะกับกิจกรรมทั่วไปไซส์8USFemaleหมายเหตุสีของผลิตภัณฑ์ที่แสดงบนเว็บไซต์อาจมีความแตกต่างกันจากการตั้งค่าการแสดงผลสีของแต่ละหน้าจอ\n",
      "Same index: 847918 Value: 27 Rank: 0\n",
      "Sentence: only central color grey occasion casual workwear activity general size 8 us-female caution in term of item color it may be slightly different from each monitor display and specification\n",
      "Minimum index: 847918 Value: 27\n",
      "Sentence: only central color grey occasion casual workwear activity general size 8 us-female caution in term of item color it may be slightly different from each monitor display and specification\n",
      "========================================\n"
     ]
    },
    {
     "name": "stderr",
     "output_type": "stream",
     "text": [
      "\r",
      "127it [12:04,  4.07s/it]"
     ]
    },
    {
     "name": "stdout",
     "output_type": "stream",
     "text": [
      "Index ประโยคภาษาไทย: 738699\n",
      "ประโยค: ฮัลโหลฉันอยากสั่งคาราเมลบูเล่ลาเต้แบบกลับบ้านหน่อยนะ\n",
      "Same index: 738699 Value: 9 Rank: 2\n",
      "Sentence: hello i would like to order a caramel brulée latte for pick up\n",
      "Minimum index: 686995 Value: 8\n",
      "Sentence: i would like a iced cinnamon shortbread latte latte\n",
      "========================================\n"
     ]
    },
    {
     "name": "stderr",
     "output_type": "stream",
     "text": [
      "\r",
      "128it [12:08,  3.94s/it]"
     ]
    },
    {
     "name": "stdout",
     "output_type": "stream",
     "text": [
      "Index ประโยคภาษาไทย: 519438\n",
      "ประโยค: กระทรวงต่างประเทศของจีนกล่าวว่าเราหวังว่าทุกฝ่ายจะพยายามต่อไปและดำเนินการเจรจาต่อไป\n",
      "Same index: 519438 Value: 18 Rank: 634\n",
      "Sentence: china 's foreign ministry said we hope all party will continue to make effort and continue the process of dialogue\n",
      "Minimum index: 93698 Value: 13\n",
      "Sentence: there were definitely some thing that went unanswered at time\n",
      "========================================\n"
     ]
    },
    {
     "name": "stderr",
     "output_type": "stream",
     "text": [
      "\r",
      "129it [12:11,  3.74s/it]"
     ]
    },
    {
     "name": "stdout",
     "output_type": "stream",
     "text": [
      "Index ประโยคภาษาไทย: 144452\n",
      "ประโยค: ใช้ง่ายมากๆแค่อยากตัดสายให้สั้นไป\n",
      "Same index: 144452 Value: 12 Rank: 500\n",
      "Sentence: very easy to use just do n't cut the cord too short it will kink it\n",
      "Minimum index: 466543 Value: 7\n",
      "Sentence: why do you want so many word to submit these review\n",
      "========================================\n"
     ]
    },
    {
     "name": "stderr",
     "output_type": "stream",
     "text": [
      "\r",
      "130it [12:16,  4.21s/it]"
     ]
    },
    {
     "name": "stdout",
     "output_type": "stream",
     "text": [
      "Index ประโยคภาษาไทย: 387521\n",
      "ประโยค: ทุกคนในครอบครัวของฉันรักมันและฉันดีใจที่ได้รับใช้พวกเขาเป็นทางเลือกสําหรับลูกชายของฉัน\n",
      "Same index: 387521 Value: 17 Rank: 0\n",
      "Sentence: my whole family love it i 'm glad to serve them a an alternative for my son\n",
      "Minimum index: 387521 Value: 17\n",
      "Sentence: my whole family love it i 'm glad to serve them a an alternative for my son\n",
      "========================================\n"
     ]
    },
    {
     "name": "stderr",
     "output_type": "stream",
     "text": [
      "\r",
      "131it [12:21,  4.40s/it]"
     ]
    },
    {
     "name": "stdout",
     "output_type": "stream",
     "text": [
      "Index ประโยคภาษาไทย: 535550\n",
      "ประโยค: ใช่ฉันจินตนาการว่าเขาจะอ่อนโยนจริงๆไม่เหมือนหมอคนอื่นที่รักษาคนไข้ของพวกเขาเหมือนไก่\n",
      "Same index: 535550 Value: 14 Rank: 0\n",
      "Sentence: yeah i imagine he would be really gentle unlike the other doc who treat their patient like turkey\n",
      "Minimum index: 535550 Value: 14\n",
      "Sentence: yeah i imagine he would be really gentle unlike the other doc who treat their patient like turkey\n",
      "========================================\n"
     ]
    },
    {
     "name": "stderr",
     "output_type": "stream",
     "text": [
      "\r",
      "132it [12:27,  4.65s/it]"
     ]
    },
    {
     "name": "stdout",
     "output_type": "stream",
     "text": [
      "Index ประโยคภาษาไทย: 218503\n",
      "ประโยค: มันมีอะไรมากมายเกี่ยวกับแมวและสุนัขซึ่งไม่ใช่สิ่งที่ฉันตั้งใจจะได้เมื่อซื้อ\n",
      "Same index: 218503 Value: 15 Rank: 2\n",
      "Sentence: it ha a lot about cat and dog which wa n't what i intended to get when i bought it\n",
      "Minimum index: 696759 Value: 14\n",
      "Sentence: no worry shelley take your time\n",
      "========================================\n"
     ]
    },
    {
     "name": "stderr",
     "output_type": "stream",
     "text": [
      "\r",
      "133it [12:29,  4.07s/it]"
     ]
    },
    {
     "name": "stdout",
     "output_type": "stream",
     "text": [
      "Index ประโยคภาษาไทย: 470421\n",
      "ประโยค: ผลิตภัณฑ์นี้เป็นสิ่งที่ฉันคาดว่าจะได้รับ\n",
      "Same index: 470421 Value: 8 Rank: 0\n",
      "Sentence: this product wa exactly what i expected to receive\n",
      "Minimum index: 483519 Value: 8\n",
      "Sentence: my grippers are made of stainless steel\n",
      "========================================\n"
     ]
    },
    {
     "name": "stderr",
     "output_type": "stream",
     "text": [
      "\r",
      "134it [12:37,  5.15s/it]"
     ]
    },
    {
     "name": "stdout",
     "output_type": "stream",
     "text": [
      "Index ประโยคภาษาไทย: 27155\n",
      "ประโยค: 3สถานการณ์ภัยแล้งยังเป็นปัจจัยเสี่ยงสําคัญต่อการขยายตัวของการผลิตในภาคเกษตรซึ่งอาจส่งผลกระทบต่อรายได้เกษตรกรการบริโภคภาคเอกชนและการขยายตัวทางเศรษฐกิจโดยภาพรวม YoY 2556 GDP Negative เกษตร Negative อุตสาหกรรม Negative ก่อสร้าง Neutral ค้าส่งค้าปลีก Positive โรงแรมและภัตตาคาร Negative ขนส่งและสื่อสาร Positive การเงิน Positive GDE Negative\n",
      "Same index: 27155 Value: 42 Rank: 867\n",
      "Sentence: moreover the fluctuation in exchange rate should be monitored closely a it could delay the business and economic decision yoy 2013 gdp negative agriculture negative manufacturing negative construction neutral wholesale positive hotel and restaurant negative transportation and communication positive banking positive gde negative consumption positive investment positive export negative import positive 3 ) drought remains a downside risk towards the agricultural production this can affect the farm income private consumption and overall economic growth\n",
      "Minimum index: 538676 Value: 27\n",
      "Sentence: just leaving chromepet.. what you doing take a walk.. weather is super\n",
      "========================================\n"
     ]
    },
    {
     "name": "stderr",
     "output_type": "stream",
     "text": [
      "\r",
      "135it [12:38,  3.87s/it]"
     ]
    },
    {
     "name": "stdout",
     "output_type": "stream",
     "text": [
      "Index ประโยคภาษาไทย: 941167\n",
      "ประโยค: รูปีศรีลังกาLKR\n",
      "Same index: 941167 Value: 4 Rank: 44\n",
      "Sentence: sri lanka rupee lkr\n",
      "Minimum index: 626704 Value: 3\n",
      "Sentence: okay awesome\n",
      "========================================\n"
     ]
    },
    {
     "name": "stderr",
     "output_type": "stream",
     "text": [
      "\r",
      "136it [12:42,  3.94s/it]"
     ]
    },
    {
     "name": "stdout",
     "output_type": "stream",
     "text": [
      "Index ประโยคภาษาไทย: 522778\n",
      "ประโยค: ฉันกำลังไปแต่ลืมเอาใบคะแนนมาละหวังว่าวันนี้คงยังไม่เสร็จกันนะ\n",
      "Same index: 522778 Value: 16 Rank: 8\n",
      "Sentence: m goin but forgot to bring e marking sheet hopefully wont finish today\n",
      "Minimum index: 78506 Value: 15\n",
      "Sentence: i have many memory that can not be recovered\n",
      "========================================\n"
     ]
    },
    {
     "name": "stderr",
     "output_type": "stream",
     "text": [
      "\r",
      "137it [12:43,  3.23s/it]"
     ]
    },
    {
     "name": "stdout",
     "output_type": "stream",
     "text": [
      "Index ประโยคภาษาไทย: 798845\n",
      "ประโยค: มีอะไรเพิ่มเติมเป็นพิเศษมั้ยคะ\n",
      "Same index: 798845 Value: 5 Rank: 0\n",
      "Sentence: any other special instruction\n",
      "Minimum index: 798845 Value: 5\n",
      "Sentence: any other special instruction\n",
      "========================================\n"
     ]
    },
    {
     "name": "stderr",
     "output_type": "stream",
     "text": [
      "\r",
      "138it [12:57,  6.35s/it]"
     ]
    },
    {
     "name": "stdout",
     "output_type": "stream",
     "text": [
      "Index ประโยคภาษาไทย: 917795\n",
      "ประโยค: เสื้อยืดจากNIKEสามารถใช้ได้เป็นทั้งชุดลำลองหรือชุดออกกำลังกายตัวเสื้อผลิตจากผ้าคอตตอนบริสุทธิ์เพื่อความสบายตลอดวันและใช้งานทนทานยาวนานแขนสั้นผลิตจากคอตตอน100สกรีนลายบอลลูนไซส์ Lสีขาวหมายเหตุสีของผลิตภัณฑ์ที่แสดงบนเว็บไซต์อาจมีความแตกต่างกันจากการตั้งค่าการแสดงผลสีของแต่ละหน้าจอ\n",
      "Same index: 917795 Value: 52 Rank: 170\n",
      "Sentence: nike men s t-shirt is a comfortable classic perfect for everyday wear it combine a crew-neck design with short sleeve for a nonrestrictive fit 100 cotton short sleeve air baloon graphic in screenprint and wide yarn stitch embroidery size l white caution in term of item color it may be slightly different from each monitor display and specification\n",
      "Minimum index: 733771 Value: 47\n",
      "Sentence: sure i know they make those fresh fresh\n",
      "========================================\n"
     ]
    },
    {
     "name": "stderr",
     "output_type": "stream",
     "text": [
      "\r",
      "139it [12:58,  4.70s/it]"
     ]
    },
    {
     "name": "stdout",
     "output_type": "stream",
     "text": [
      "Index ประโยคภาษาไทย: 700872\n",
      "ประโยค: ถูกแล้วค่ะ\n",
      "Same index: 700872 Value: 3 Rank: 0\n",
      "Sentence: yes that is correct\n",
      "Minimum index: 815297 Value: 3\n",
      "Sentence: 6:30pm\n",
      "========================================\n"
     ]
    },
    {
     "name": "stderr",
     "output_type": "stream",
     "text": [
      "\r",
      "140it [13:01,  4.28s/it]"
     ]
    },
    {
     "name": "stdout",
     "output_type": "stream",
     "text": [
      "Index ประโยคภาษาไทย: 110483\n",
      "ประโยค: แค่อยากให้ไม่ยืดมากขนาดนั้นจนตอนนี้หลวมแล้วค่ะ\n",
      "Same index: 110483 Value: 9 Rank: 0\n",
      "Sentence: only wish they had n't stretched out so much that they 're now loose\n",
      "Minimum index: 110483 Value: 9\n",
      "Sentence: only wish they had n't stretched out so much that they 're now loose\n",
      "========================================\n"
     ]
    },
    {
     "name": "stderr",
     "output_type": "stream",
     "text": [
      "\r",
      "141it [13:03,  3.63s/it]"
     ]
    },
    {
     "name": "stdout",
     "output_type": "stream",
     "text": [
      "Index ประโยคภาษาไทย: 83495\n",
      "ประโยค: ฉันใช้เราเตอร์ไร้สายเบลกิ้นอายุการใช้งานประมาณ35 ปี\n",
      "Same index: 83495 Value: 13 Rank: 559\n",
      "Sentence: i have been using belkin wireless router ranging in age from three to five year\n",
      "Minimum index: 707366 Value: 7\n",
      "Sentence: thanks can you take it in thursday morning\n",
      "========================================\n"
     ]
    },
    {
     "name": "stderr",
     "output_type": "stream",
     "text": [
      "\r",
      "142it [13:14,  5.84s/it]"
     ]
    },
    {
     "name": "stdout",
     "output_type": "stream",
     "text": [
      "Index ประโยคภาษาไทย: 20676\n",
      "ประโยค: สัดส่วนของตําแหน่งงานว่างทั้งประเทศต่อผู้สมัครงานใหม่เท่ากับ07ทรงตัวเมื่อเทียบกับไตรมาสก่อนหน้าแสดงให้เห็นว่าสถานการณ์ตึงตัวของตลาดแรงงานปรับตัวดีขึ้นเมื่อเทียบกับช่วงไตรมาสแรกและไตรมาสสองที่มีสัดส่วนร้อยละ 10และ08ตามลําดับ\n",
      "Same index: 20676 Value: 46 Rank: 497\n",
      "Sentence: the unemployment rate wa at 0.6 percent the ratio of vacancy over new registered application wa at 0.7 remained stable compared to the prior quarter this reflects an improvement of tension in labor market compared to the first and the second quarter which recorded at 1.0 and 0.8 percent consecutively\n",
      "Minimum index: 410491 Value: 41\n",
      "Sentence: most of the product that say they are organic have chemical put into it\n",
      "========================================\n"
     ]
    },
    {
     "name": "stderr",
     "output_type": "stream",
     "text": [
      "\r",
      "143it [13:17,  4.84s/it]"
     ]
    },
    {
     "name": "stdout",
     "output_type": "stream",
     "text": [
      "Index ประโยคภาษาไทย: 751288\n",
      "ประโยค: ค่ะดาราคนไหนแสดงเรื่องนี้เหรอคะ\n",
      "Same index: 751288 Value: 9 Rank: 33\n",
      "Sentence: yeah it is in the movie\n",
      "Minimum index: 264206 Value: 8\n",
      "Sentence: do yourself a favor and skip this book\n",
      "========================================\n"
     ]
    },
    {
     "name": "stderr",
     "output_type": "stream",
     "text": [
      "\r",
      "144it [13:26,  6.14s/it]"
     ]
    },
    {
     "name": "stdout",
     "output_type": "stream",
     "text": [
      "Index ประโยคภาษาไทย: 939300\n",
      "ประโยค: ปากกาลูกลื่นแบบปลอกเส้นเล็กเขียนลื่นหมึกไหลสม่ำเสมอมีคลิปหนีบเพิ่มความสะดวกในการพกพาด้ามลายริ้วจับกระชับมือหมึกสีดำขนาดหัวปากกา05มมบรรจุ6ด้ามแพ็ค\n",
      "Same index: 939300 Value: 28 Rank: 0\n",
      "Sentence: small writing line smooth writing and continuous flowing ink stripe handle fitted to the hand point type 0.5 mm black ink contained 6 pcs.pack\n",
      "Minimum index: 939300 Value: 28\n",
      "Sentence: small writing line smooth writing and continuous flowing ink stripe handle fitted to the hand point type 0.5 mm black ink contained 6 pcs.pack\n",
      "========================================\n"
     ]
    },
    {
     "name": "stderr",
     "output_type": "stream",
     "text": [
      "\r",
      "145it [13:28,  5.00s/it]"
     ]
    },
    {
     "name": "stdout",
     "output_type": "stream",
     "text": [
      "Index ประโยคภาษาไทย: 256513\n",
      "ประโยค: 3 เดือนแล้วตั้งแต่เรามีสิ่งเหล่านี้และทุกอย่างทำงานได้ดี\n",
      "Same index: 256513 Value: 14 Rank: 559\n",
      "Sentence: it 's been 3 month now since we 've had these and everything is working fine\n",
      "Minimum index: 370842 Value: 9\n",
      "Sentence: well from what we 've got this should work a advertised\n",
      "========================================\n"
     ]
    },
    {
     "name": "stderr",
     "output_type": "stream",
     "text": [
      "\r",
      "146it [13:37,  6.12s/it]"
     ]
    },
    {
     "name": "stdout",
     "output_type": "stream",
     "text": [
      "Index ประโยคภาษาไทย: 177053\n",
      "ประโยค: ผู้รีวิวคนนึงพูดว่าเธออ่านมันไม่จบสิ่งที่เธอได้จากหนังสือเล่มนี้ทั้งหมดเลยคือที่ว่าคนทุกคนบนโลกควรทำตัวดีกับคนอื่นขนาดไหนค่ะ\n",
      "Same index: 177053 Value: 29 Rank: 0\n",
      "Sentence: one reviewer said they could n't finish it that all she took away from the book wa how great everyone on earth should treat each other\n",
      "Minimum index: 276494 Value: 29\n",
      "Sentence: you do n't have many way of obtaining information about book when you buy them they are usually in great condition no writing or highlighting inside\n",
      "========================================\n"
     ]
    },
    {
     "name": "stderr",
     "output_type": "stream",
     "text": [
      "\r",
      "147it [13:40,  5.24s/it]"
     ]
    },
    {
     "name": "stdout",
     "output_type": "stream",
     "text": [
      "Index ประโยคภาษาไทย: 394432\n",
      "ประโยค: แต่มันจะเข้าไปในสถานที่ที่คุณไม่สามารถไปได้\n",
      "Same index: 394432 Value: 12 Rank: 112\n",
      "Sentence: but it really get into those place that you ca n't get to\n",
      "Minimum index: 796692 Value: 10\n",
      "Sentence: ok and what problem are you having with your car\n",
      "========================================\n"
     ]
    },
    {
     "name": "stderr",
     "output_type": "stream",
     "text": [
      "\r",
      "148it [13:44,  4.76s/it]"
     ]
    },
    {
     "name": "stdout",
     "output_type": "stream",
     "text": [
      "Index ประโยคภาษาไทย: 258955\n",
      "ประโยค: คุณต้องเข้าถึงให้ได้นานเพื่อที่จะได้สิ่งของเล็กๆน้อยๆจากก้นกระทะ\n",
      "Same index: 258955 Value: 13 Rank: 1\n",
      "Sentence: you need to have a long reach to be able to get even small stuff from bottom of pan\n",
      "Minimum index: 570212 Value: 12\n",
      "Sentence: feature table selection for a small kitchen kitchen\n",
      "========================================\n"
     ]
    },
    {
     "name": "stderr",
     "output_type": "stream",
     "text": [
      "\r",
      "149it [13:45,  3.76s/it]"
     ]
    },
    {
     "name": "stdout",
     "output_type": "stream",
     "text": [
      "Index ประโยคภาษาไทย: 566133\n",
      "ประโยค: สิ่งที่คาดหวังในเซนต์Barth\n",
      "Same index: 566133 Value: 6 Rank: 3\n",
      "Sentence: what to expect in st. barth\n",
      "Minimum index: 477789 Value: 5\n",
      "Sentence: i ca n't wait for summer\n",
      "========================================\n"
     ]
    },
    {
     "name": "stderr",
     "output_type": "stream",
     "text": [
      "\r",
      "150it [13:48,  3.36s/it]"
     ]
    },
    {
     "name": "stdout",
     "output_type": "stream",
     "text": [
      "Index ประโยคภาษาไทย: 347545\n",
      "ประโยค: แต่สําหรับตอนนี้พวกเขายังอุ่นหูอยู่\n",
      "Same index: 347545 Value: 6 Rank: 0\n",
      "Sentence: but for now they keep their ear warm\n",
      "Minimum index: 347545 Value: 6\n",
      "Sentence: but for now they keep their ear warm\n",
      "========================================\n"
     ]
    },
    {
     "name": "stderr",
     "output_type": "stream",
     "text": [
      "\r",
      "151it [13:56,  4.88s/it]"
     ]
    },
    {
     "name": "stdout",
     "output_type": "stream",
     "text": [
      "Index ประโยคภาษาไทย: 144619\n",
      "ประโยค: ข้อด้อยเดียวที่เจอคือถ้าเปิดทิ้งไว้บนตู้เย็นนานๆอาจจะหดและเปิดยากค่ะยกเว้นว่าเปิดไว้แล้วอย่างนั้นแล้วก็ยังไม่แน่ใจว่าทำไมรี่ลดจาก999\n",
      "Same index: 144619 Value: 52 Rank: 900\n",
      "Sentence: the only drawback that i 've found is if you leave them on top of your fridge for long period they may shrink and become more difficult to open unless it 's opened.that said i 'm still not sure why these came down from 9.99 a month ago so i 'll be very interested just which flavor becomes available at amazon\n",
      "Minimum index: 336592 Value: 29\n",
      "Sentence: my husband thought we were crazy and so he gave up within three session\n",
      "========================================\n"
     ]
    },
    {
     "name": "stderr",
     "output_type": "stream",
     "text": [
      "\r",
      "152it [13:58,  3.90s/it]"
     ]
    },
    {
     "name": "stdout",
     "output_type": "stream",
     "text": [
      "Index ประโยคภาษาไทย: 105644\n",
      "ประโยค: มันพรากความสนุกของฉันไป\n",
      "Same index: 105644 Value: 5 Rank: 0\n",
      "Sentence: it took away from my enjoyment\n",
      "Minimum index: 231555 Value: 5\n",
      "Sentence: this book start out promisingly\n",
      "========================================\n"
     ]
    },
    {
     "name": "stderr",
     "output_type": "stream",
     "text": [
      "\r",
      "153it [14:01,  3.69s/it]"
     ]
    },
    {
     "name": "stdout",
     "output_type": "stream",
     "text": [
      "Index ประโยคภาษาไทย: 914601\n",
      "ประโยค: หน้าปัดนาฬิกาเมริเดียนแสดงอุณหภูมิสภาพอากาศดัชนีรังสีUVฝนและลม\n",
      "Same index: 914601 Value: 8 Rank: 0\n",
      "Sentence: meridian watch face with weather temperature uv index rain wind wind\n",
      "Minimum index: 914601 Value: 8\n",
      "Sentence: meridian watch face with weather temperature uv index rain wind wind\n",
      "========================================\n"
     ]
    },
    {
     "name": "stderr",
     "output_type": "stream",
     "text": [
      "\r",
      "154it [14:03,  3.19s/it]"
     ]
    },
    {
     "name": "stdout",
     "output_type": "stream",
     "text": [
      "Index ประโยคภาษาไทย: 683004\n",
      "ประโยค: ดิฉันช่วยคุณได้ค่ะอยู่เมืองไหนคะ\n",
      "Same index: 683004 Value: 7 Rank: 87\n",
      "Sentence: i can help you what city\n",
      "Minimum index: 148956 Value: 4\n",
      "Sentence: it is made in china\n",
      "========================================\n"
     ]
    },
    {
     "name": "stderr",
     "output_type": "stream",
     "text": [
      "\r",
      "155it [14:09,  4.16s/it]"
     ]
    },
    {
     "name": "stdout",
     "output_type": "stream",
     "text": [
      "Index ประโยคภาษาไทย: 43573\n",
      "ประโยค: หนังสือเล่มนี้เป็นความพยายามที่จะช่วยผู้หญิงที่มีวัยเด็กที่น่ากลัวมากและตอนนี้ต้องการความสุขที่สิ้นสุดที่พวกเราหลายคนต้องการ\n",
      "Same index: 43573 Value: 16 Rank: 0\n",
      "Sentence: this book is an attempt to help those woman who have had a really horrific childhood and now want the happy ending many of u want\n",
      "Minimum index: 43573 Value: 16\n",
      "Sentence: this book is an attempt to help those woman who have had a really horrific childhood and now want the happy ending many of u want\n",
      "========================================\n"
     ]
    },
    {
     "name": "stderr",
     "output_type": "stream",
     "text": [
      "\r",
      "156it [14:10,  3.16s/it]"
     ]
    },
    {
     "name": "stdout",
     "output_type": "stream",
     "text": [
      "Index ประโยคภาษาไทย: 750504\n",
      "ประโยค: ทั้งหมด3920ค่ะ\n",
      "Same index: 750504 Value: 5 Rank: 71\n",
      "Sentence: 39.20 will be your total\n",
      "Minimum index: 553162 Value: 3\n",
      "Sentence: bbq at mac\n",
      "========================================\n"
     ]
    },
    {
     "name": "stderr",
     "output_type": "stream",
     "text": [
      "\r",
      "157it [14:12,  2.79s/it]"
     ]
    },
    {
     "name": "stdout",
     "output_type": "stream",
     "text": [
      "Index ประโยคภาษาไทย: 211075\n",
      "ประโยค: ฉันซื้อหนังสือเล่มนี้เพราะราคาถูก\n",
      "Same index: 211075 Value: 7 Rank: 1\n",
      "Sentence: i bought this book because of the low price\n",
      "Minimum index: 493405 Value: 6\n",
      "Sentence: in general people have difficulty estimating risk correctly\n",
      "========================================\n"
     ]
    },
    {
     "name": "stderr",
     "output_type": "stream",
     "text": [
      "\r",
      "158it [14:19,  4.02s/it]"
     ]
    },
    {
     "name": "stdout",
     "output_type": "stream",
     "text": [
      "Index ประโยคภาษาไทย: 217861\n",
      "ประโยค: ฉันยังไม่ได้สัมผัสกับเรื่องราวทั้งหมดในนวนิยายเรื่องนี้แต่ฉันพบว่ามันขาดไปเมื่อเทียบกับนวนิยายเรื่องแรกของเธอ\n",
      "Same index: 217861 Value: 19 Rank: 0\n",
      "Sentence: i have not yet been exposed to the full story in this novel but i found it lacking compared with her first novel\n",
      "Minimum index: 217861 Value: 19\n",
      "Sentence: i have not yet been exposed to the full story in this novel but i found it lacking compared with her first novel\n",
      "========================================\n"
     ]
    },
    {
     "name": "stderr",
     "output_type": "stream",
     "text": [
      "\r",
      "159it [14:28,  5.44s/it]"
     ]
    },
    {
     "name": "stdout",
     "output_type": "stream",
     "text": [
      "Index ประโยคภาษาไทย: 871755\n",
      "ประโยค: สีPlumMixโอกาสที่สวมใส่ลำลองเหมาะกับกิจกรรมทั่วไปไซส์16หมายเหตุสีของผลิตภัณฑ์ที่แสดงบนเว็บไซต์อาจมีความแตกต่างกันจากการตั้งค่าการแสดงผลสีของแต่ละหน้าจอ\n",
      "Same index: 871755 Value: 25 Rank: 0\n",
      "Sentence: color plum mix occasion casual activity general size 16 caution in term of item color it may be slightly different from each monitor display and specification\n",
      "Minimum index: 871755 Value: 25\n",
      "Sentence: color plum mix occasion casual activity general size 16 caution in term of item color it may be slightly different from each monitor display and specification\n",
      "========================================\n"
     ]
    },
    {
     "name": "stderr",
     "output_type": "stream",
     "text": [
      "\r",
      "160it [14:30,  4.51s/it]"
     ]
    },
    {
     "name": "stdout",
     "output_type": "stream",
     "text": [
      "Index ประโยคภาษาไทย: 525628\n",
      "ประโยค: เอ๊ฉันไม่รู้สิต้องถามซูฮุย\n",
      "Same index: 525628 Value: 9 Rank: 39\n",
      "Sentence: eh i dunno must ask xuhui\n",
      "Minimum index: 784476 Value: 7\n",
      "Sentence: no i need to be seen today\n",
      "========================================\n"
     ]
    },
    {
     "name": "stderr",
     "output_type": "stream",
     "text": [
      "\r",
      "161it [14:34,  4.16s/it]"
     ]
    },
    {
     "name": "stdout",
     "output_type": "stream",
     "text": [
      "Index ประโยคภาษาไทย: 797378\n",
      "ประโยค: บางทีอาจเบาเสียงลงหน่อยจะได้ยินเสียงฉันชัดขึ้นค่ะ\n",
      "Same index: 797378 Value: 11 Rank: 4\n",
      "Sentence: maybe turn down the volume to help me hear you better\n",
      "Minimum index: 653679 Value: 9\n",
      "Sentence: perfect thanks got ta go bye\n",
      "========================================\n"
     ]
    },
    {
     "name": "stderr",
     "output_type": "stream",
     "text": [
      "\r",
      "162it [14:38,  4.23s/it]"
     ]
    },
    {
     "name": "stdout",
     "output_type": "stream",
     "text": [
      "Index ประโยคภาษาไทย: 373716\n",
      "ประโยค: อย่างไรก็ตามคุณวู้ดเวิร์ดทําให้ฉันรู้สึกไม่พอใจและไม่มีทางออกจริง\n",
      "Same index: 373716 Value: 10 Rank: 0\n",
      "Sentence: however mr. woodward left me feeling just a unsatisfied and with no real way out\n",
      "Minimum index: 373716 Value: 10\n",
      "Sentence: however mr. woodward left me feeling just a unsatisfied and with no real way out\n",
      "========================================\n"
     ]
    },
    {
     "name": "stderr",
     "output_type": "stream",
     "text": [
      "\r",
      "163it [14:40,  3.67s/it]"
     ]
    },
    {
     "name": "stdout",
     "output_type": "stream",
     "text": [
      "Index ประโยคภาษาไทย: 374858\n",
      "ประโยค: คุณอาจต้องใช้แว่นขยายเพื่ออ่านสิ่งนี้\n",
      "Same index: 374858 Value: 8 Rank: 15\n",
      "Sentence: you may need a magnifying glass to read this\n",
      "Minimum index: 811121 Value: 7\n",
      "Sentence: have a great day\n",
      "========================================\n"
     ]
    },
    {
     "name": "stderr",
     "output_type": "stream",
     "text": [
      "\r",
      "164it [14:44,  3.72s/it]"
     ]
    },
    {
     "name": "stdout",
     "output_type": "stream",
     "text": [
      "Index ประโยคภาษาไทย: 270593\n",
      "ประโยค: ถ้าลูกชายของฉันต้องการเอาของฉันพวกเขาทั้งคู่ก็ออกไปข้างนอก\n",
      "Same index: 270593 Value: 10 Rank: 0\n",
      "Sentence: if my son want to take mine they are both going out\n",
      "Minimum index: 270593 Value: 10\n",
      "Sentence: if my son want to take mine they are both going out\n",
      "========================================\n"
     ]
    },
    {
     "name": "stderr",
     "output_type": "stream",
     "text": [
      "\r",
      "165it [14:54,  5.50s/it]"
     ]
    },
    {
     "name": "stdout",
     "output_type": "stream",
     "text": [
      "Index ประโยคภาษาไทย: 38190\n",
      "ประโยค: ถ้าคณะกรรมการของสมาคมไม่เรียกประชุมภายในระยะเวลาตามวรรคสามสมาชิกที่เป็นผู้ร้องขอให้เรียกประชุมหรือสมาชิกอื่นรวมกันมีจำนวนไม่น้อยกว่าจำนวนสมาชิกที่กำหนดตามวรรคสองจะเรียกประชุมเองก็ได้\n",
      "Same index: 38190 Value: 35 Rank: 0\n",
      "Sentence: if the meeting is not summoned within the period of time under paragraph three the member who have made the requisition for summoning such extraordinary meeting or other member of not le that the number set forth in paragraph to may summon the meeting by themselves\n",
      "Minimum index: 38190 Value: 35\n",
      "Sentence: if the meeting is not summoned within the period of time under paragraph three the member who have made the requisition for summoning such extraordinary meeting or other member of not le that the number set forth in paragraph to may summon the meeting by themselves\n",
      "========================================\n"
     ]
    },
    {
     "name": "stderr",
     "output_type": "stream",
     "text": [
      "\r",
      "166it [14:55,  4.20s/it]"
     ]
    },
    {
     "name": "stdout",
     "output_type": "stream",
     "text": [
      "Index ประโยคภาษาไทย: 896683\n",
      "ประโยค: โต๊ะบาร์สูง ท็อปโต๊ะเคลือบผิว Melamine ขาเหล็กชุบโครเมียม สีขาว ขนาด 80x80x110 ซมจำนวน1ตัว\n",
      "Same index: 896683 Value: 24 Rank: 748\n",
      "Sentence: high bar table table top coated melamine chromium coated steel leg product dimension 80 x 80 x 110 cm product color white number of item 1 pc\n",
      "Minimum index: 547384 Value: 3\n",
      "Sentence: basket i knew it\n",
      "========================================\n"
     ]
    },
    {
     "name": "stderr",
     "output_type": "stream",
     "text": [
      "\r",
      "167it [14:57,  3.70s/it]"
     ]
    },
    {
     "name": "stdout",
     "output_type": "stream",
     "text": [
      "Index ประโยคภาษาไทย: 490818\n",
      "ประโยค: ฉันรู้สึกเสียใจอย่างแท้จริงสำหรับเหตุการณ์ที่เกิดขึ้น\n",
      "Same index: 490818 Value: 8 Rank: 1\n",
      "Sentence: i genuinely am sorry for what happened\n",
      "Minimum index: 437053 Value: 7\n",
      "Sentence: love the look and feel of this phone case\n",
      "========================================\n"
     ]
    },
    {
     "name": "stderr",
     "output_type": "stream",
     "text": [
      "\r",
      "168it [14:59,  3.14s/it]"
     ]
    },
    {
     "name": "stdout",
     "output_type": "stream",
     "text": [
      "Index ประโยคภาษาไทย: 413947\n",
      "ประโยค: ฉันไม่ชอบรายการทีวีประเภทนี้\n",
      "Same index: 413947 Value: 6 Rank: 0\n",
      "Sentence: i do n't love these kind of tv show\n",
      "Minimum index: 389188 Value: 6\n",
      "Sentence: for those that did not beware\n",
      "========================================\n"
     ]
    },
    {
     "name": "stderr",
     "output_type": "stream",
     "text": [
      "\r",
      "169it [15:02,  2.92s/it]"
     ]
    },
    {
     "name": "stdout",
     "output_type": "stream",
     "text": [
      "Index ประโยคภาษาไทย: 655689\n",
      "ประโยค: ได้ยินว่าที่นั่นสุดยอดมากจะไปจากไหน\n",
      "Same index: 655689 Value: 10 Rank: 371\n",
      "Sentence: i heard that place is amazing where are you heading from\n",
      "Minimum index: 493051 Value: 7\n",
      "Sentence: all right get on with it\n",
      "========================================\n"
     ]
    },
    {
     "name": "stderr",
     "output_type": "stream",
     "text": [
      "\r",
      "170it [16:11, 22.81s/it]"
     ]
    },
    {
     "name": "stdout",
     "output_type": "stream",
     "text": [
      "Index ประโยคภาษาไทย: 878046\n",
      "ประโยค: ส้อมจิ้มเนื้อจากZWILLINGอุปกรณ์เครื่องใช้ภายในครัวที่คุณมั่นใจทุกการใช้งานทนทานด้วยวัสดุคุณภาพสูงหลากหลายเครื่องไม้เครื่องมือที่ควรมีไว้ติดครัวแต่ละชิ้นเหมาะกับการใช้งานในครัวได้อย่างถูกต้องมีการดีไซน์โดยนักดีไซน์เนอร์ชาวอิตาลีซึ่งมีการดีไซน์ที่เด่นในเรื่องฟังก์ชั่นการใช้งานและมีดีไซน์ที่สวยงามผลิตจากสแตนเลสสตีล1810เกรดพรีเมี่ยมและซิลิโคนที่เป็นฟู้ดเกรดมือจับซาตินที่โดดเด่นและมีความเงางามมือจับสามารถแขวนได้ง่ายต่อการจัดเก็บสามารถใช้กับเครื่องล้างจานได้การรับประกันสินค้าผลิตภัณฑ์ประเภทมีดอื่นๆบริษัทสวิลลิ่งมีการรับประกันสินค้าในกรณีที่สินค้ามีข้อบกพร่องที่เกิดจากตัววัสดุและหรือเกิดจากการผลิตเท่านั้นการรับประกันไม่ครอบคลุมถึงผลิตภัณฑ์ที่ทำจากไม้ทุกชนิดรวมถึงด้ามมีดผลิตภัณฑ์ที่ทำจากพลาสติกหรือซิลิโคนทุกชนิดรวมถึงกรรไกรตัดเล็บและตะหลิวซิลิโคนความเสียหายของผลิตภัณฑ์ที่เกิดจากการใช้งานอย่างผิดวัตถุประสงค์ผลิตภัณฑ์ประเภทเครื่องครัวผลิตภัณฑ์ประเภทเครื่องครัวมีการรับประกันตลอดอายุการใช้งานเมื่อสินค้าใช้งานอย่างถูกต้องตามคำแนะนำการรับประกันไม่ครอบคลุมดังนี้กรณีที่เกิดจากการใช้งานผิดวัตถุประสงค์หรือเกิดอุบัติเหตุรวมทั้งการใช้ความร้อนสูงหรือต่ำเกินไปการใช้อุปกรณ์การทำอาหารที่ไม่ได้เหมาะกับเครื่องครัวเช่นพลาสติกเป็นต้นรอยขีดข่วนที่เกิดขึ้นจากการใช้งานทั้งภายในหรือภายนอกของผลิตภัณฑ์ที่ไม่ถือว่าเป็นข้อบกพร่องการผลิตระยะเวลาในการตรวจสอบสินค้าคือ4 6 อาทิตย์สินค้าจะได้รับการซ่อมแซมหรือเปลี่ยนใหม่ด้วยสินค้าประเภทเดียวกันหรือใกล้เคียงกันเท่านั้นทั้งนี้ขึ้นอยู่กับดุลยพินิจของบริษัทสีเงินประเทศเจ้าของแบรนด์Germanyหมายเหตุสีของผลิตภัณฑ์ที่แสดงบนเว็บไซต์อาจมีความแตกต่างกันจากการตั้งค่าการแสดงผลสีของแต่ละหน้าจอ\n",
      "Same index: 878046 Value: 237 Rank: 0\n",
      "Sentence: dipping fork from zwilling kitchen appliance that you are confident in every use durable with high quality material variety of woodwork tool that should be placed in the kitchen each tool provides the right solution for every kitchen task minimalist italian design is equally elegant and functional made from premium corrosion resistant 1810 stainless steel and food-safe silicone distinctive satin finish handle with mirror polished function part handle have convenient hanging loop for easy storage dishwasher safe warranty knife and other you will be pleased to know that all of our product are fully guaranteed against defect in material and or craftsmanship the warranty doe not cover wood product including wood handle knife a wood is a natural element and thus can not be guaranteed plastic silicone product including plastic nail clipper and silicone spatula can not be guaranteed any damage resulting from use other than the intended purpose of the item cookware full lifetime warrantyzwilling cookware ha a lifetime warranty against manufacturer s defect when used accordingly with our care instruction the warranty doe not cover the consequence of improper use or accident including overheating dropping the use of unapproved utensil scratch to the inside or outside of the product are not considered production defect please allow 4-6 week for the inspection process and return delivery of your item color silver brand owner germany caution in term of item color it may be slightly different from each monitor display and specification\n",
      "Minimum index: 878046 Value: 237\n",
      "Sentence: dipping fork from zwilling kitchen appliance that you are confident in every use durable with high quality material variety of woodwork tool that should be placed in the kitchen each tool provides the right solution for every kitchen task minimalist italian design is equally elegant and functional made from premium corrosion resistant 1810 stainless steel and food-safe silicone distinctive satin finish handle with mirror polished function part handle have convenient hanging loop for easy storage dishwasher safe warranty knife and other you will be pleased to know that all of our product are fully guaranteed against defect in material and or craftsmanship the warranty doe not cover wood product including wood handle knife a wood is a natural element and thus can not be guaranteed plastic silicone product including plastic nail clipper and silicone spatula can not be guaranteed any damage resulting from use other than the intended purpose of the item cookware full lifetime warrantyzwilling cookware ha a lifetime warranty against manufacturer s defect when used accordingly with our care instruction the warranty doe not cover the consequence of improper use or accident including overheating dropping the use of unapproved utensil scratch to the inside or outside of the product are not considered production defect please allow 4-6 week for the inspection process and return delivery of your item color silver brand owner germany caution in term of item color it may be slightly different from each monitor display and specification\n",
      "========================================\n"
     ]
    },
    {
     "name": "stderr",
     "output_type": "stream",
     "text": [
      "\r",
      "171it [16:13, 16.49s/it]"
     ]
    },
    {
     "name": "stdout",
     "output_type": "stream",
     "text": [
      "Index ประโยคภาษาไทย: 810818\n",
      "ประโยค: ได้เลยเดี๋ยวจัดการให้นะคะ\n",
      "Same index: 810818 Value: 6 Rank: 29\n",
      "Sentence: sure let me see what i can do\n",
      "Minimum index: 490814 Value: 4\n",
      "Sentence: i gave her a look\n",
      "========================================\n"
     ]
    },
    {
     "name": "stderr",
     "output_type": "stream",
     "text": [
      "\r",
      "172it [16:14, 11.94s/it]"
     ]
    },
    {
     "name": "stdout",
     "output_type": "stream",
     "text": [
      "Index ประโยคภาษาไทย: 477468\n",
      "ประโยค: เธอยืนพิงเสาอยู่\n",
      "Same index: 477468 Value: 5 Rank: 21\n",
      "Sentence: she pressed herself against the pillar\n",
      "Minimum index: 821288 Value: 4\n",
      "Sentence: that is perfect\n",
      "========================================\n"
     ]
    },
    {
     "name": "stderr",
     "output_type": "stream",
     "text": [
      "\r",
      "173it [16:23, 11.19s/it]"
     ]
    },
    {
     "name": "stdout",
     "output_type": "stream",
     "text": [
      "Index ประโยคภาษาไทย: 12622\n",
      "ประโยค: อย่างไรก็ตามการเคลื่อนไหวในครั้งนี้ยังมีความสำคัญเชิงยุทธศาสตร์ในวงกว้างยิ่งขึ้นเมื่อเทียบกับการเคลื่อนไหวด้านอื่นๆนายปรเมศวรันเขียนยกตัวอย่างเช่นกิจกรรมด้านกลาโหมระหว่างรัฐบาลสหรัฐฯและรัฐบาลเวียดนามได้เพิ่มขึ้นในหลายปีให้หลังมานี้\n",
      "Same index: 12622 Value: 30 Rank: 0\n",
      "Sentence: but the development also carry broader strategic significance when viewed alongside other development a well parameswaran wrote for example defense-related activity between washington and hanoi have increased in recent year\n",
      "Minimum index: 12622 Value: 30\n",
      "Sentence: but the development also carry broader strategic significance when viewed alongside other development a well parameswaran wrote for example defense-related activity between washington and hanoi have increased in recent year\n",
      "========================================\n"
     ]
    },
    {
     "name": "stderr",
     "output_type": "stream",
     "text": [
      "\r",
      "174it [16:27,  8.78s/it]"
     ]
    },
    {
     "name": "stdout",
     "output_type": "stream",
     "text": [
      "Index ประโยคภาษาไทย: 529796\n",
      "ประโยค: ที่รักดูแลตัวเองนะฉันพึ่งถึงบ้านละรักเธอมากนะ\n",
      "Same index: 529796 Value: 10 Rank: 0\n",
      "Sentence: dear take care i am just reaching home.love u a lot\n",
      "Minimum index: 160087 Value: 10\n",
      "Sentence: you 'll love it\n",
      "========================================\n"
     ]
    },
    {
     "name": "stderr",
     "output_type": "stream",
     "text": [
      "\r",
      "175it [16:27,  6.33s/it]"
     ]
    },
    {
     "name": "stdout",
     "output_type": "stream",
     "text": [
      "Index ประโยคภาษาไทย: 806905\n",
      "ประโยค: ทั้งหมด4458 เหรียญนะคะ\n",
      "Same index: 806905 Value: 5 Rank: 61\n",
      "Sentence: the total is 44.58 44.58\n",
      "Minimum index: 796927 Value: 2\n",
      "Sentence: some starbucks\n",
      "========================================\n"
     ]
    },
    {
     "name": "stderr",
     "output_type": "stream",
     "text": [
      "\r",
      "176it [16:30,  5.40s/it]"
     ]
    },
    {
     "name": "stdout",
     "output_type": "stream",
     "text": [
      "Index ประโยคภาษาไทย: 168962\n",
      "ประโยค: ฉันซื้อเจ้านี่มาเพราะรีวิวเพ้อเจ้อหลายๆรีวิวบนอะเมซอน\n",
      "Same index: 168962 Value: 12 Rank: 2\n",
      "Sentence: i bought this because of the rave review on amazon\n",
      "Minimum index: 139389 Value: 11\n",
      "Sentence: we have a new pup that came from the pound\n",
      "========================================\n"
     ]
    },
    {
     "name": "stderr",
     "output_type": "stream",
     "text": [
      "\r",
      "177it [16:57, 11.83s/it]"
     ]
    },
    {
     "name": "stdout",
     "output_type": "stream",
     "text": [
      "Index ประโยคภาษาไทย: 851942\n",
      "ประโยค: ลิปสติกที่เพิ่มดีกรีความชัดของเนื้อสีด้วยเนื้อสัมผัสแบบซาตินที่ให้ความนุ่มเนียนไปกับเรียวปากให้สีจริงและชัดด้วยพิกเม้นท์ของสีที่แน่นที่สุดMACลิปสติกรุ่นLiptensity สีน้ำตาล Clouds In My Coffee 36 g012 OZ สี Clouds In My Coffeeขนาด36กรัม012ออนซ์เนื้อซาตินเม็ดสีแน่นชัดหมายเหตุสีของผลิตภัณฑ์ที่แสดงบนเว็บไซต์อาจมีความแตกต่างกันจากการตั้งค่าการแสดงผลสีของแต่ละหน้าจอสีCloudsInMyCoffeeปริมาณสุทธิ36กรัมFinishLookซาตินหมายเหตุสีของผลิตภัณฑ์ที่แสดงบนเว็บไซต์อาจมีความแตกต่างกันจากการตั้งค่าการแสดงผลสีของแต่ละหน้าจอ\n",
      "Same index: 851942 Value: 93 Rank: 6\n",
      "Sentence: a lipstick with enhanced amount of pigment for extreme colour intensity mac lipstick liptensity brown cloud in my coffee net weight 3.6 g0.12 oz finish look satin pigmented satin finish caution in term of item color it may be slightly different from each monitor display and specification\n",
      "Minimum index: 906358 Value: 91\n",
      "Sentence: let this cute hello kitty sweater from sanrio complete your kid s winter fun time it is made with 100 cotton very warm and comfy sweater character hello kitty winter 18 collection made with 100 cotton comfortable to wear size 110 bust 75 cm sleeve length 45 cm color red care instruction do not use bleach caution in term of item color it may be slightly different from each monitor display and specification\n",
      "========================================\n"
     ]
    },
    {
     "name": "stderr",
     "output_type": "stream",
     "text": [
      "\r",
      "178it [16:59,  8.92s/it]"
     ]
    },
    {
     "name": "stdout",
     "output_type": "stream",
     "text": [
      "Index ประโยคภาษาไทย: 662107\n",
      "ประโยค: โอเคค่ะจะดูตอนบ่ายหรือตอนเย็นคะ\n",
      "Same index: 662107 Value: 6 Rank: 0\n",
      "Sentence: ok now do you want afternoon or evening time\n",
      "Minimum index: 662107 Value: 6\n",
      "Sentence: ok now do you want afternoon or evening time\n",
      "========================================\n"
     ]
    },
    {
     "name": "stderr",
     "output_type": "stream",
     "text": [
      "\r",
      "179it [17:01,  6.77s/it]"
     ]
    },
    {
     "name": "stdout",
     "output_type": "stream",
     "text": [
      "Index ประโยคภาษาไทย: 567443\n",
      "ประโยค: 30ส่วนลดกับเรื่องนี้Airbnbคูปอง\n",
      "Same index: 567443 Value: 5 Rank: 0\n",
      "Sentence: 30 discount with this airbnb coupon coupon\n",
      "Minimum index: 567443 Value: 5\n",
      "Sentence: 30 discount with this airbnb coupon coupon\n",
      "========================================\n"
     ]
    },
    {
     "name": "stderr",
     "output_type": "stream",
     "text": [
      "\r",
      "180it [17:04,  5.54s/it]"
     ]
    },
    {
     "name": "stdout",
     "output_type": "stream",
     "text": [
      "Index ประโยคภาษาไทย: 259121\n",
      "ประโยค: ข้อตกลงที่ดีที่สุดที่คุณจะพบทางออนไลน์\n",
      "Same index: 259121 Value: 7 Rank: 0\n",
      "Sentence: the best deal you 'll find online\n",
      "Minimum index: 259121 Value: 7\n",
      "Sentence: the best deal you 'll find online\n",
      "========================================\n"
     ]
    },
    {
     "name": "stderr",
     "output_type": "stream",
     "text": [
      "\r",
      "181it [17:08,  5.13s/it]"
     ]
    },
    {
     "name": "stdout",
     "output_type": "stream",
     "text": [
      "Index ประโยคภาษาไทย: 14926\n",
      "ประโยค: 3มาตรการด้านรถสนับส นุ น ใ ห้ ใ ช้ NGVเฉพาะในกลุ่มรถโดยสารสาธารณะและรถบรรทุก\n",
      "Same index: 14926 Value: 13 Rank: 0\n",
      "Sentence: car measure encourage the use of ngv in the bus and truck\n",
      "Minimum index: 14926 Value: 13\n",
      "Sentence: car measure encourage the use of ngv in the bus and truck\n",
      "========================================\n"
     ]
    },
    {
     "name": "stderr",
     "output_type": "stream",
     "text": [
      "\r",
      "182it [17:35, 11.59s/it]"
     ]
    },
    {
     "name": "stdout",
     "output_type": "stream",
     "text": [
      "Index ประโยคภาษาไทย: 862235\n",
      "ประโยค: เติมเต็มวันทำงานของคุณด้วยชุดเดรสแขนกุดจากแบรนด์NEXTPHASEด้วยดีไซน์ผูกโบว์น่ารักๆด้านข้างแต่งคอวีมาพร้อมการตัดเย็บอย่างประณีตดูดีอยู่เสมอนับเป็นอีกไอเทมที่สาวๆไม่ควรพลาดตัดเย็บจาก88POLYESTER12POLYURETHANEONLYCENTRALสีขาวไซส์Lรอบอก39นิ้วรอบเอว34นิ้วความยาว505นิ้ววัสดุใยสังเคราะห์แขนเสื้อแขนกุดวิธีดูแลรักษาซักมือมาตรฐานไซส์USFemaleเพศผู้หญิงอายุผู้ใหญ่หมายเหตุสีของผลิตภัณฑ์ที่แสดงบนเว็บไซต์อาจมีความแตกต่างกันจากการตั้งค่าการแสดงผลสีของแต่ละหน้าจอ\n",
      "Same index: 862235 Value: 83 Rank: 0\n",
      "Sentence: boost your confidence by wearing this dress from next phase with it sleeveless design this is the perfect dress for your classic look comfortable to wear suitable for multiple occasion only central color white size l bust 39 in waist 34 in length 50.5 in material polyester sleeve level sleeveless care instruction hand wash size standard us-female gender woman age adult caution in term of item color it may be slightly different from each monitor display and specification\n",
      "Minimum index: 862235 Value: 83\n",
      "Sentence: boost your confidence by wearing this dress from next phase with it sleeveless design this is the perfect dress for your classic look comfortable to wear suitable for multiple occasion only central color white size l bust 39 in waist 34 in length 50.5 in material polyester sleeve level sleeveless care instruction hand wash size standard us-female gender woman age adult caution in term of item color it may be slightly different from each monitor display and specification\n",
      "========================================\n"
     ]
    },
    {
     "name": "stderr",
     "output_type": "stream",
     "text": [
      "\r",
      "183it [17:36,  8.55s/it]"
     ]
    },
    {
     "name": "stdout",
     "output_type": "stream",
     "text": [
      "Index ประโยคภาษาไทย: 496193\n",
      "ประโยค: คุณได้กลิ่นอะไรเหม็นๆมั้ย\n",
      "Same index: 496193 Value: 5 Rank: 0\n",
      "Sentence: can you smell a really horrible odour\n",
      "Minimum index: 496193 Value: 5\n",
      "Sentence: can you smell a really horrible odour\n",
      "========================================\n"
     ]
    },
    {
     "name": "stderr",
     "output_type": "stream",
     "text": [
      "\r",
      "184it [17:39,  6.84s/it]"
     ]
    },
    {
     "name": "stdout",
     "output_type": "stream",
     "text": [
      "Index ประโยคภาษาไทย: 496367\n",
      "ประโยค: ระบบย่อยอาหารของเขาดูแตกต่างนั้นทำให้ดูน่าเลื่อมใส\n",
      "Same index: 496367 Value: 11 Rank: 109\n",
      "Sentence: his digestion is impaired which is highly respectable\n",
      "Minimum index: 391432 Value: 8\n",
      "Sentence: i 'm an advanced amateur photographer looking to get started\n",
      "========================================\n"
     ]
    },
    {
     "name": "stderr",
     "output_type": "stream",
     "text": [
      "\r",
      "185it [17:42,  5.61s/it]"
     ]
    },
    {
     "name": "stdout",
     "output_type": "stream",
     "text": [
      "Index ประโยคภาษาไทย: 183636\n",
      "ประโยค: มีอะไหล่สำรองให้ซื้อนะแต่เครื่องรับประกันแค่9 เดือน\n",
      "Same index: 183636 Value: 9 Rank: 1\n",
      "Sentence: they have replacement part available but the warranty last only 9 month\n",
      "Minimum index: 273571 Value: 8\n",
      "Sentence: this could have been expanded into much better\n",
      "========================================\n"
     ]
    },
    {
     "name": "stderr",
     "output_type": "stream",
     "text": [
      "\r",
      "186it [17:44,  4.61s/it]"
     ]
    },
    {
     "name": "stdout",
     "output_type": "stream",
     "text": [
      "Index ประโยคภาษาไทย: 287867\n",
      "ประโยค: ให้แน่ใจว่าคุณมีที่ว่างสำหรับสิ่งนี้\n",
      "Same index: 287867 Value: 7 Rank: 0\n",
      "Sentence: be sure you have space for this\n",
      "Minimum index: 501819 Value: 7\n",
      "Sentence: she had said the wrong thing\n",
      "========================================\n"
     ]
    },
    {
     "name": "stderr",
     "output_type": "stream",
     "text": [
      "\r",
      "187it [17:50,  4.92s/it]"
     ]
    },
    {
     "name": "stdout",
     "output_type": "stream",
     "text": [
      "Index ประโยคภาษาไทย: 386974\n",
      "ประโยค: เพลงบางเพลงลวงที่ฉันเคยได้ยินมาก่อนเพลงอื่นๆที่คุณอาจไม่เคยได้ยินแต่ก็โอเค\n",
      "Same index: 386974 Value: 16 Rank: 0\n",
      "Sentence: the song were catchy some that i had heard before others you might have not heard but that 's ok\n",
      "Minimum index: 386974 Value: 16\n",
      "Sentence: the song were catchy some that i had heard before others you might have not heard but that 's ok\n",
      "========================================\n"
     ]
    },
    {
     "name": "stderr",
     "output_type": "stream",
     "text": [
      "\r",
      "188it [17:53,  4.35s/it]"
     ]
    },
    {
     "name": "stdout",
     "output_type": "stream",
     "text": [
      "Index ประโยคภาษาไทย: 282917\n",
      "ประโยค: มันไม่ใช่ความผิดของพวกเขาเนื่องจากมีการปกปิดอยู่มากมาย\n",
      "Same index: 282917 Value: 12 Rank: 167\n",
      "Sentence: it 's no fault to them since there were already many cover out there\n",
      "Minimum index: 451882 Value: 9\n",
      "Sentence: this app ha lot of hidden object\n",
      "========================================\n"
     ]
    },
    {
     "name": "stderr",
     "output_type": "stream",
     "text": [
      "\r",
      "189it [17:55,  3.70s/it]"
     ]
    },
    {
     "name": "stdout",
     "output_type": "stream",
     "text": [
      "Index ประโยคภาษาไทย: 424869\n",
      "ประโยค: เมื่อเราถอดโทรศัพท์ลูกสาวของเธอออกมา\n",
      "Same index: 424869 Value: 9 Rank: 318\n",
      "Sentence: when we took off my daughter phone she dropped it\n",
      "Minimum index: 840220 Value: 6\n",
      "Sentence: what is your phone number\n",
      "========================================\n"
     ]
    },
    {
     "name": "stderr",
     "output_type": "stream",
     "text": [
      "\r",
      "190it [17:58,  3.60s/it]"
     ]
    },
    {
     "name": "stdout",
     "output_type": "stream",
     "text": [
      "Index ประโยคภาษาไทย: 441374\n",
      "ประโยค: แต่หลังจากนั้นไม่นานตัวส่งสัญญาณUSBก็เริ่มล้มเหลวโดยไม่มีเหตุผลที่ชัดเจน\n",
      "Same index: 441374 Value: 11 Rank: 0\n",
      "Sentence: but then after some time the usb transmitter started failing for no apparent reason\n",
      "Minimum index: 441374 Value: 11\n",
      "Sentence: but then after some time the usb transmitter started failing for no apparent reason\n",
      "========================================\n"
     ]
    },
    {
     "name": "stderr",
     "output_type": "stream",
     "text": [
      "\r",
      "191it [18:43, 15.89s/it]"
     ]
    },
    {
     "name": "stdout",
     "output_type": "stream",
     "text": [
      "Index ประโยคภาษาไทย: 885612\n",
      "ประโยค: การชาร์จแบบไร้สายที่เร็วที่สุดด้วยที่ชาร์จไร้สายBelkinรุ่นF7U050JAWHTการชาร์จไร้สายที่เร็วที่สุดสำหรับอุปกรณ์ที่ใช้งานQiของคุณได้มาถึงแล้วBOOSTUPBoldWirelessChargingPadให้พลังชาร์จ10วัตต์เพื่อการชาร์จที่เร็วที่สุดและให้การชาร์จแบบไร้สายที่ดีที่สุดสำหรับiPhone8และรุ่นที่ใหม่กว่าได้แก่iPhoneXSXSMaxและXRSamsungLGSonyและอุปกรณ์อื่นๆที่เปิดใช้งานQiคุณสมบัติประเภทที่ชาร์จไร้สายวัสดุของสายพลาสติกสำหรับชาร์จอุปกรณ์ที่รองรับเทคโนโลยีWIRELESSCHARGERความยาวสายเมตร15กำลังไฟวัตต์10ข้อมูลการถ่ายโอนรองรับรองรับFASTCHARGEรองรับสีWHITEรับประกันปี2ช้อปสินค้าคุณภาพจากที่คุณไว้วางใจด้วยราคาที่คุณชื่นชอบสินค้าได้รับการออกให้ได้มาตรฐานมีความทนทานคุ้มค่าต่อการใช้งานคุณสามารถเลือกซื้อสินค้าได้ตามไลฟ์สไตล์ที่คุณชื่นชอบและเหมาะสมกับการใช้งานที่หลากหลายตามความต้องการในราคาโดนใจได้ที่Powerbuy\n",
      "Same index: 885612 Value: 129 Rank: 0\n",
      "Sentence: fastest wireless charging belkin wireless charger model f7 u050 jawht the fastest wireless charging for your qi-enabled device ha arrived boost up bold wireless charging pad provides 10-watt charging power for fastest charging and the best wireless charging for i phone 8 and later is the i phone x x max and xr samsung lg sony and other qi-enabled device product feature type wireless charger material of plastic plastic for charge device that support wireless charger technology line length meter 1.5 power supply watt 10 transfer data support fast charge support color white warranty year 2 shop for best quality product from your trust with your favorite price the product ha been certified to be durable and you can shop for your favorite lifestyle at powerbuy powerbuy\n",
      "Minimum index: 885612 Value: 129\n",
      "Sentence: fastest wireless charging belkin wireless charger model f7 u050 jawht the fastest wireless charging for your qi-enabled device ha arrived boost up bold wireless charging pad provides 10-watt charging power for fastest charging and the best wireless charging for i phone 8 and later is the i phone x x max and xr samsung lg sony and other qi-enabled device product feature type wireless charger material of plastic plastic for charge device that support wireless charger technology line length meter 1.5 power supply watt 10 transfer data support fast charge support color white warranty year 2 shop for best quality product from your trust with your favorite price the product ha been certified to be durable and you can shop for your favorite lifestyle at powerbuy powerbuy\n",
      "========================================\n"
     ]
    },
    {
     "name": "stderr",
     "output_type": "stream",
     "text": [
      "\r",
      "192it [18:43, 11.28s/it]"
     ]
    },
    {
     "name": "stdout",
     "output_type": "stream",
     "text": [
      "Index ประโยคภาษาไทย: 977276\n",
      "ประโยค: ประเทศเบลเยียมในโอลิมปิกฤดูร้อน2004\n",
      "Same index: 977276 Value: 7 Rank: 174\n",
      "Sentence: belgium at the 2004 summer olympics olympics\n",
      "Minimum index: 776988 Value: 1\n",
      "Sentence: allentown pennsylvania\n",
      "========================================\n"
     ]
    },
    {
     "name": "stderr",
     "output_type": "stream",
     "text": [
      "\r",
      "193it [18:52, 10.57s/it]"
     ]
    },
    {
     "name": "stdout",
     "output_type": "stream",
     "text": [
      "Index ประโยคภาษาไทย: 607247\n",
      "ประโยค: ทำให้ผู้คนมาเป็นสิ่งหนึ่งที่ไม่vBETทำให้ผู้คนที่เข้าพักเป็นหนึ่งvBETสนับสนุนชุมชนหลายภาษาดังนั้นตอนนี้คุณจะได้รับเป็นคนที่ผู้ใช้ที่ไม่ใช้ภาษาเริ่มต้นของคุณฟอรั่ม\n",
      "Same index: 607247 Value: 22 Rank: 0\n",
      "Sentence: making people stay is another one vbet support multi language community so now you will get a user people who do n't use your forum default language\n",
      "Minimum index: 607247 Value: 22\n",
      "Sentence: making people stay is another one vbet support multi language community so now you will get a user people who do n't use your forum default language\n",
      "========================================\n"
     ]
    },
    {
     "name": "stderr",
     "output_type": "stream",
     "text": [
      "\r",
      "194it [18:58,  9.11s/it]"
     ]
    },
    {
     "name": "stdout",
     "output_type": "stream",
     "text": [
      "Index ประโยคภาษาไทย: 331029\n",
      "ประโยค: ข้อร้องเรียนเพียงอย่างเดียวของฉันคือคุณไม่สามารถปิดเสียงของคุณเพื่อพูดด้วยเสียงปกติแต่ควรมีเสียงคอมพิวเตอร์\n",
      "Same index: 331029 Value: 18 Rank: 0\n",
      "Sentence: my only complaint is you can not turn off your voice to speak in a normal voice but rather have a computerized voice\n",
      "Minimum index: 331029 Value: 18\n",
      "Sentence: my only complaint is you can not turn off your voice to speak in a normal voice but rather have a computerized voice\n",
      "========================================\n"
     ]
    },
    {
     "name": "stderr",
     "output_type": "stream",
     "text": [
      "\r",
      "195it [19:03,  7.95s/it]"
     ]
    },
    {
     "name": "stdout",
     "output_type": "stream",
     "text": [
      "Index ประโยคภาษาไทย: 65677\n",
      "ประโยค: ซื้อมาจากอเมซอนเมื่อเดือนมกราค่ะแล้วมาพังเอาวันนี้ก็ดูไม่มีอะไรผิดปกตินะคะ\n",
      "Same index: 65677 Value: 21 Rank: 127\n",
      "Sentence: i bought this from amazon in january and it broke down on me today\n",
      "Minimum index: 397450 Value: 18\n",
      "Sentence: the new feature have all been implemented and work a intended however they have not made it into the other version\n",
      "========================================\n"
     ]
    },
    {
     "name": "stderr",
     "output_type": "stream",
     "text": [
      "\r",
      "196it [19:06,  6.51s/it]"
     ]
    },
    {
     "name": "stdout",
     "output_type": "stream",
     "text": [
      "Index ประโยคภาษาไทย: 116770\n",
      "ประโยค: ฉันมีกระเป๋านี้มา3 ปีแล้วและมันก็ยังทนดี\n",
      "Same index: 116770 Value: 12 Rank: 64\n",
      "Sentence: i have had this bag for three year and it 's still going strong\n",
      "Minimum index: 325724 Value: 10\n",
      "Sentence: this little paperback guide contains a decent amount of information\n",
      "========================================\n"
     ]
    },
    {
     "name": "stderr",
     "output_type": "stream",
     "text": [
      "\r",
      "197it [19:09,  5.31s/it]"
     ]
    },
    {
     "name": "stdout",
     "output_type": "stream",
     "text": [
      "Index ประโยคภาษาไทย: 90182\n",
      "ประโยค: แคดดี้นี้ไม่พอดีกับครัวเล็กๆของฉัน\n",
      "Same index: 90182 Value: 9 Rank: 1\n",
      "Sentence: the caddy did n't fit in my tiny kitchen\n",
      "Minimum index: 224092 Value: 8\n",
      "Sentence: too small did not meet my expectation\n",
      "========================================\n"
     ]
    },
    {
     "name": "stderr",
     "output_type": "stream",
     "text": [
      "\r",
      "198it [19:33, 10.97s/it]"
     ]
    },
    {
     "name": "stdout",
     "output_type": "stream",
     "text": [
      "Index ประโยคภาษาไทย: 984287\n",
      "ประโยค: ขั้นตอนแรกสำหรับการตั้งค่าเครื่องบินจำลองให้ผู้เล่นหลายคนเข้ามาเล่นในเวลาเดียวกันและเสมือนอยู่ในโลกเดียวกันโดยผ่านระบบเครือข่ายคอมพิวเตอร์ขนาดใหญ่และผู้เล่นแต่ละคนจะสวมบทบาทเป็นตัวละครตัวหนึ่งในโลกนั้นด้วยMMORGได้ดำเนินการโดยJason กรูมส์ James WillanJoeJureckaและMartyBochaneในกลางปี1990เมื่อพวกเขาสร้างโปรแกรมSquawkBoxMicrosoftFlightSimulator51pluginและProControllerจราจรอากาศควบคุมเรดาร์หน้าจอจำลองทั้งสองโปรแกรมมีการเชื่อมต่อกับFSDMMORGserverง่ายๆที่ใช้จัดให้มีวิวัฒนาการสภาพแวดล้อมแบบหนึ่งต่อหนึ่ง1ATCและ1เครื่องบินแบบหลายต่อหลายสภาพแวดล้อม\n",
      "Same index: 984287 Value: 83 Rank: 1\n",
      "Sentence: the first step for setting up flight simulation in a massively-multiplayer online environment were taken with the creation of squawkbox and procontroller in the mid-1990s these two program were connected to fsd a simple flight simulator multiplayer server which allowed the evolution from a one-to-one one atc and one plane environment to a many-to-many environment\n",
      "Minimum index: 813957 Value: 82\n",
      "Sentence: yes i am looking for a good crab sushi roll and also i want to make sure that they have miso soup on the menu i 'd also like some crab rangoon\n",
      "========================================\n"
     ]
    },
    {
     "name": "stderr",
     "output_type": "stream",
     "text": [
      "\r",
      "199it [19:35,  8.15s/it]"
     ]
    },
    {
     "name": "stdout",
     "output_type": "stream",
     "text": [
      "Index ประโยคภาษาไทย: 526042\n",
      "ประโยค: ขอโทษนะฉันอาจจะสายละ\n",
      "Same index: 526042 Value: 6 Rank: 1\n",
      "Sentence: eh sorry i would be late late\n",
      "Minimum index: 526399 Value: 5\n",
      "Sentence: okies confirm with u later later\n",
      "========================================\n"
     ]
    },
    {
     "name": "stderr",
     "output_type": "stream",
     "text": [
      "\r",
      "200it [19:39,  7.13s/it]"
     ]
    },
    {
     "name": "stdout",
     "output_type": "stream",
     "text": [
      "Index ประโยคภาษาไทย: 516730\n",
      "ประโยค: สัญญากำหนดฐานเงินเดือนประจำปีของเขาที่14 ล้านดอลลาร์และเป้าหมายโบนัสของเขาคืออย่างน้อย1 ล้านดอลลาร์\n",
      "Same index: 516730 Value: 14 Rank: 0\n",
      "Sentence: the contract set his annual base salary at 1.4 million and his target bonus at a minimum of 1 million\n",
      "Minimum index: 516730 Value: 14\n",
      "Sentence: the contract set his annual base salary at 1.4 million and his target bonus at a minimum of 1 million\n",
      "========================================\n"
     ]
    },
    {
     "name": "stderr",
     "output_type": "stream",
     "text": [
      "\r",
      "201it [19:42,  5.86s/it]"
     ]
    },
    {
     "name": "stdout",
     "output_type": "stream",
     "text": [
      "Index ประโยคภาษาไทย: 780286\n",
      "ประโยค: ฉันต้องการจะจองคิวนัดเพื่อเช็ครถของฉันค่ะ\n",
      "Same index: 780286 Value: 10 Rank: 1\n",
      "Sentence: i need to make an appointment for my car to get checked\n",
      "Minimum index: 719209 Value: 9\n",
      "Sentence: i want to have a tune-up check up with my car\n",
      "========================================\n"
     ]
    },
    {
     "name": "stderr",
     "output_type": "stream",
     "text": [
      "\r",
      "202it [19:49,  6.00s/it]"
     ]
    },
    {
     "name": "stdout",
     "output_type": "stream",
     "text": [
      "Index ประโยคภาษาไทย: 680253\n",
      "ประโยค: โอเคค่ะคอนเฟิร์มนะคะจองเป็นวันพรุ่งนี้ตอน4 โมงที่อินเทลลิเจนซ์ออโต้โซลูชั่นเช็ครถคอร์เว็ตของคุณซึ่งมีปัญหาเรื่องคลัทช์ลื่นนะคะถูกต้องมั้ยคะ\n",
      "Same index: 680253 Value: 26 Rank: 789\n",
      "Sentence: ok just to confirm i have you down for a 4pm appointment tomorrow with intelligent auto solution to look at your corvette about a problem with the clutch is that correct\n",
      "Minimum index: 280621 Value: 21\n",
      "Sentence: there are other book that explain all sort of doggy thing better\n",
      "========================================\n"
     ]
    },
    {
     "name": "stderr",
     "output_type": "stream",
     "text": [
      "\r",
      "203it [19:57,  6.72s/it]"
     ]
    },
    {
     "name": "stdout",
     "output_type": "stream",
     "text": [
      "Index ประโยคภาษาไทย: 978297\n",
      "ประโยค: และยังรับรู้ได้ถึงนิวเดลีเมืองหลวงของประเทศอินเดียซึ่งอยู่ห่างออกมาจากจุดเหนือศูนย์เกิดแผ่นดินไหว1000 กิโลเมตรโดยที่นิวเดลียังสามารถเกิดการสั่นสะเทือนของอาคารและสำนักงานต่างๆได้อยู่\n",
      "Same index: 978297 Value: 31 Rank: 16\n",
      "Sentence: the impact of these tremor wa felt even 1,000 kilometre away in the indian capital new delhi where building shook and office worker evacuated\n",
      "Minimum index: 482340 Value: 29\n",
      "Sentence: they had been carelessly left unbolted\n",
      "========================================\n"
     ]
    },
    {
     "name": "stderr",
     "output_type": "stream",
     "text": [
      "\r",
      "204it [20:00,  5.47s/it]"
     ]
    },
    {
     "name": "stdout",
     "output_type": "stream",
     "text": [
      "Index ประโยคภาษาไทย: 270571\n",
      "ประโยค: ข้อมูลที่ออนไลน์เมื่อซื้อผลิตภัณฑ์ดูเหมือนจะเป็นประโยชน์มากกว่า\n",
      "Same index: 270571 Value: 12 Rank: 443\n",
      "Sentence: the information that wa on line when purchasing the product seemed like it would be more helpful\n",
      "Minimum index: 186707 Value: 8\n",
      "Sentence: it 's a well constructed product however\n",
      "========================================\n"
     ]
    },
    {
     "name": "stderr",
     "output_type": "stream",
     "text": [
      "\r",
      "205it [20:02,  4.56s/it]"
     ]
    },
    {
     "name": "stdout",
     "output_type": "stream",
     "text": [
      "Index ประโยคภาษาไทย: 103120\n",
      "ประโยค: มันใส่ไปแล้วไม่พอดีกับกรอบด้านบนค่ะ\n",
      "Same index: 103120 Value: 13 Rank: 534\n",
      "Sentence: it doe not fit well in between the top frame piece to form a snug fit\n",
      "Minimum index: 201513 Value: 8\n",
      "Sentence: by then i had already read this book\n",
      "========================================\n"
     ]
    },
    {
     "name": "stderr",
     "output_type": "stream",
     "text": [
      "\r",
      "206it [20:04,  3.84s/it]"
     ]
    },
    {
     "name": "stdout",
     "output_type": "stream",
     "text": [
      "Index ประโยคภาษาไทย: 482824\n",
      "ประโยค: ฉันจะไม่ลังเลถึงแม้จะเสียไป\n",
      "Same index: 482824 Value: 5 Rank: 0\n",
      "Sentence: i 'm not going to falter despite losing\n",
      "Minimum index: 482824 Value: 5\n",
      "Sentence: i 'm not going to falter despite losing\n",
      "========================================\n"
     ]
    },
    {
     "name": "stderr",
     "output_type": "stream",
     "text": [
      "\r",
      "207it [20:06,  3.31s/it]"
     ]
    },
    {
     "name": "stdout",
     "output_type": "stream",
     "text": [
      "Index ประโยคภาษาไทย: 485354\n",
      "ประโยค: หญิงสูงไวไม่ใช้คำพูดอ้อมค้อม\n",
      "Same index: 485354 Value: 6 Rank: 1\n",
      "Sentence: the old lady did n't mince her word\n",
      "Minimum index: 569660 Value: 5\n",
      "Sentence: most audio compressor may not work well\n",
      "========================================\n"
     ]
    },
    {
     "name": "stderr",
     "output_type": "stream",
     "text": [
      "\r",
      "208it [20:09,  3.30s/it]"
     ]
    },
    {
     "name": "stdout",
     "output_type": "stream",
     "text": [
      "Index ประโยคภาษาไทย: 373336\n",
      "ประโยค: มันสร้างมาเพื่อฉากที่ไร้สาระและเนื้อเรื่องก็สั้นเกินไปเช่นกัน\n",
      "Same index: 373336 Value: 8 Rank: 0\n",
      "Sentence: it made for ridiculous scene and the story also seemed too short\n",
      "Minimum index: 373336 Value: 8\n",
      "Sentence: it made for ridiculous scene and the story also seemed too short\n",
      "========================================\n"
     ]
    },
    {
     "name": "stderr",
     "output_type": "stream",
     "text": [
      "\r",
      "209it [20:11,  2.81s/it]"
     ]
    },
    {
     "name": "stdout",
     "output_type": "stream",
     "text": [
      "Index ประโยคภาษาไทย: 735717\n",
      "ประโยค: เวซูซิโอ255โคลัมบัสอะเวนูค่ะ\n",
      "Same index: 735717 Value: 7 Rank: 5\n",
      "Sentence: vesuvio 's 255 columbus avenue\n",
      "Minimum index: 940320 Value: 6\n",
      "Sentence: southern region industrial estate songkhla\n",
      "========================================\n"
     ]
    },
    {
     "name": "stderr",
     "output_type": "stream",
     "text": [
      "\r",
      "210it [20:13,  2.56s/it]"
     ]
    },
    {
     "name": "stdout",
     "output_type": "stream",
     "text": [
      "Index ประโยคภาษาไทย: 735905\n",
      "ประโยค: เยี่ยมเลยค่ะจะจองให้เลยนะคะ\n",
      "Same index: 735905 Value: 8 Rank: 18\n",
      "Sentence: great i 'll book those ticket for you\n",
      "Minimum index: 438321 Value: 7\n",
      "Sentence: i saved a lot of money\n",
      "========================================\n"
     ]
    },
    {
     "name": "stderr",
     "output_type": "stream",
     "text": [
      "\r",
      "211it [20:19,  3.45s/it]"
     ]
    },
    {
     "name": "stdout",
     "output_type": "stream",
     "text": [
      "Index ประโยคภาษาไทย: 407173\n",
      "ประโยค: ฉันจะไปถามคําถามที่พวกเขาจะได้รับเพียงครั้งเดียวฉันต้องการประวัติศาสตร์มากขึ้นและศัพท์แสงทางการเมืองน้อยลง\n",
      "Same index: 407173 Value: 19 Rank: 19\n",
      "Sentence: i am going over the question a they are given only once i would really like more history and le political jargon\n",
      "Minimum index: 305566 Value: 17\n",
      "Sentence: but not recommended a required reading\n",
      "========================================\n"
     ]
    },
    {
     "name": "stderr",
     "output_type": "stream",
     "text": [
      "\r",
      "212it [20:26,  4.77s/it]"
     ]
    },
    {
     "name": "stdout",
     "output_type": "stream",
     "text": [
      "Index ประโยคภาษาไทย: 771326\n",
      "ประโยค: รอบฉายรอบสุดท้ายที่ว่างคือเวลา3 ทุ่มครึ่งวันนี้ค่ะไม่มีรอบฉายหลัง4 ทุ่มจะให้ฉันซื้อตั๋ว2ใบสำหรับรอบฉายเวลา3 ทุ่มครึ่งแทนมั้ยคะ\n",
      "Same index: 771326 Value: 25 Rank: 0\n",
      "Sentence: the last available showing for your requested preferances is at 9:30pm today there are no showing after 10pm should i purchase two ticket for 9:30 instead\n",
      "Minimum index: 771326 Value: 25\n",
      "Sentence: the last available showing for your requested preferances is at 9:30pm today there are no showing after 10pm should i purchase two ticket for 9:30 instead\n",
      "========================================\n"
     ]
    },
    {
     "name": "stderr",
     "output_type": "stream",
     "text": [
      "\r",
      "213it [20:30,  4.51s/it]"
     ]
    },
    {
     "name": "stdout",
     "output_type": "stream",
     "text": [
      "Index ประโยคภาษาไทย: 291492\n",
      "ประโยค: ส่วนใหญ่ของการมีประสิทธิผลในที่ทำงานคือการจดบันทึกในมือของคุณดังนั้นมันจึงมีประโยชน์จริงๆ\n",
      "Same index: 291492 Value: 17 Rank: 181\n",
      "Sentence: a large part of being productive at work is making note in your hand so it 's really handy for that\n",
      "Minimum index: 274729 Value: 15\n",
      "Sentence: it would have been nice if the amazon page had listed these other thing about the product\n",
      "========================================\n"
     ]
    },
    {
     "name": "stderr",
     "output_type": "stream",
     "text": [
      "\r",
      "214it [20:38,  5.42s/it]"
     ]
    },
    {
     "name": "stdout",
     "output_type": "stream",
     "text": [
      "Index ประโยคภาษาไทย: 7608\n",
      "ประโยค: สิงคโปร์เป็นพันธมิตรด้านกลาโหมกับสหรัฐอเมริกาซึ่งอนุญาตให้กองทหารสหรัฐฯใช้สถานที่และสิ่งก่อสร้างของสิงคโปร์อย่างครอบคลุมนอกจากนั้นสิงคโปร์ยังมีความสัมพันธ์ด้านกลาโหมกับอินโดนีเซียมาเลเซียอินเดียออสเตรเลียนิวซีแลนด์และสหราชอาณาจักร\n",
      "Same index: 7608 Value: 29 Rank: 0\n",
      "Sentence: singapore ha a defense partnership with the united state which allows wider use of the city state s facility by the u.s. military it also ha defense tie with indonesia malaysia india australia new zealand and the united kingdom\n",
      "Minimum index: 975566 Value: 29\n",
      "Sentence: 1860 in the united state event from the year 1860 in the united state\n",
      "========================================\n"
     ]
    },
    {
     "name": "stderr",
     "output_type": "stream",
     "text": [
      "\r",
      "215it [20:39,  4.12s/it]"
     ]
    },
    {
     "name": "stdout",
     "output_type": "stream",
     "text": [
      "Index ประโยคภาษาไทย: 700257\n",
      "ประโยค: อีกสิบห้านาทีค่ะ\n",
      "Same index: 700257 Value: 3 Rank: 0\n",
      "Sentence: 15 minute\n",
      "Minimum index: 700257 Value: 3\n",
      "Sentence: 15 minute\n",
      "========================================\n"
     ]
    },
    {
     "name": "stderr",
     "output_type": "stream",
     "text": [
      "\r",
      "216it [20:44,  4.40s/it]"
     ]
    },
    {
     "name": "stdout",
     "output_type": "stream",
     "text": [
      "Index ประโยคภาษาไทย: 420900\n",
      "ประโยค: ฉันมีปัญหาเดียวกันกับอะแดปเตอร์นี้ซื้อมาสองชิ้นพวกเขาจะไม่เปิดเครื่องหลังจากผ่านไปประมาณหนึ่งเดือน\n",
      "Same index: 420900 Value: 16 Rank: 3\n",
      "Sentence: i have the same problem with this adapter purchased two of them they will not power up after about a month\n",
      "Minimum index: 523490 Value: 14\n",
      "Sentence: but i tonight can not go back late got something on on\n",
      "========================================\n"
     ]
    },
    {
     "name": "stderr",
     "output_type": "stream",
     "text": [
      "\r",
      "217it [20:45,  3.21s/it]"
     ]
    },
    {
     "name": "stdout",
     "output_type": "stream",
     "text": [
      "Index ประโยคภาษาไทย: 29608\n",
      "ประโยค: อัตราขยายตัวที่แทจ้ริงและอัตราขยายตัวของราคาสินคา้ภาคเกษตร ร้อยละ สาขาการผลิต 2551 2552 2553 อัตราขยายตัวที่แทจ้ริงภาคเกษตร 29 09 25 สาขาเกษตรกรรม การล่าสัตว์ และการป่าไม้ 26 08 30 การปลูกพืชผล 25 14 41 การเลี้ยงปศุสัตว์ 76 39 40 การบริการทางการเกษตร 22 32 52 การป่าไม้ 148 0857\n",
      "Same index: 29608 Value: 83 Rank: 958\n",
      "Sentence: however livestock grew by 4.0 whereas agricultural service expanded by 5.2 and fishing grew by 1.8 growth rate and implicit price deflator growth sector 2008 2009 2010 agricultural sector growth 2.9 -0.9 -2.5 agriculture hunting and forestry 2.6 -0.8 -3.0 crop 2.5 -1.4 -4.1 livestock 7.6 3.9 4.0 agricultural service -2.2 3.2 5.2 forestry -14.8 0.8 -5.7 fishery 5.5 -1.9 1.8 implicit price deflator growth 12.0 -1.0 25.4 agriculture hunting and forestry total production decreased by 3.0 kept contracting from 0.8 in previous year\n",
      "Minimum index: 532580 Value: 2\n",
      "Sentence: i guess\n",
      "========================================\n"
     ]
    },
    {
     "name": "stderr",
     "output_type": "stream",
     "text": [
      "\r",
      "218it [21:09,  9.45s/it]"
     ]
    },
    {
     "name": "stdout",
     "output_type": "stream",
     "text": [
      "Index ประโยคภาษาไทย: 28799\n",
      "ประโยค: 4ธปทเริ่มปรับใช๎สกุลเงินพร๎อมน้ําหนักใหมํในการคํานวณดัชนีคําเงินบาทNEERและดชันีคําเงินบาทที่แท๎จริงREERในเดือนมีนาคม 2557พร๎อมปรับปีฐานของคําดัชนีให๎สอดคล๎องกับปีที่ใช๎คํานวณน้ําหนักคือปี 2555เพื่อให๎สะท๎อนถึงโครงสร๎างทางการค๎าตามความเป็นจริงได๎ดียิ่งขึ้นค่าเงินบาทเคลื่อนไหวในทิศทางที่แข็งค่าขึ้นตั้งแตต่้นปี2557แต่ยงัคงอ่อนค่าเมื่อเทียบกับไตรมาสก่อนหน้าสำนักยุทธศาสตรแ์ละการวางแผนเศรษฐกิจมหภาค19 พฤษภาคม 2557\n",
      "Same index: 28799 Value: 83 Rank: 71\n",
      "Sentence: 4 the bot began using the new neer and reer in march 2013 the base year would also be changed to 2012 that the indicator could capture the true structure of trade in line with changing international trade dynamic thai baht appreciated against u dollar since the beginning of 2014 but depreciated from the previous quarter macroeconomic strategy and planning office may 19 , 2014 economic outlook nesdb 17 capital and financial account recorded a net outflow for the third consecutive quarter\n",
      "Minimum index: 373140 Value: 80\n",
      "Sentence: the sound quality in general ha improved dramatically these headphone are not quite a full bodied sounding the bass doe not produce a much sound but they do more than enough to make them worth considering even though they 're priced relatively highly\n",
      "========================================\n"
     ]
    },
    {
     "name": "stderr",
     "output_type": "stream",
     "text": [
      "\r",
      "219it [21:12,  7.76s/it]"
     ]
    },
    {
     "name": "stdout",
     "output_type": "stream",
     "text": [
      "Index ประโยคภาษาไทย: 143833\n",
      "ประโยค: ซื้อซองพวกนี้ให้แมวสามตัวในช่วงหลายปีที่ผ่านมาค่ะ\n",
      "Same index: 143833 Value: 11 Rank: 0\n",
      "Sentence: i have bought these bag for our three cat over the last several year\n",
      "Minimum index: 143833 Value: 11\n",
      "Sentence: i have bought these bag for our three cat over the last several year\n",
      "========================================\n"
     ]
    },
    {
     "name": "stderr",
     "output_type": "stream",
     "text": [
      "\r",
      "220it [21:15,  6.20s/it]"
     ]
    },
    {
     "name": "stdout",
     "output_type": "stream",
     "text": [
      "Index ประโยคภาษาไทย: 976501\n",
      "ประโยค: ประเทศสวีเดนในคศ 1976เหตุการณ์ที่เกิดขึ้นในคศ 1976ในประเทศสวีเดน\n",
      "Same index: 976501 Value: 9 Rank: 2\n",
      "Sentence: 1976 in sweden event from the year 1976 in sweden\n",
      "Minimum index: 968859 Value: 8\n",
      "Sentence: event in the year 1994 in israel\n",
      "========================================\n"
     ]
    },
    {
     "name": "stderr",
     "output_type": "stream",
     "text": [
      "\r",
      "221it [21:17,  5.01s/it]"
     ]
    },
    {
     "name": "stdout",
     "output_type": "stream",
     "text": [
      "Index ประโยคภาษาไทย: 710920\n",
      "ประโยค: ได้เลยค่ะอยากกินอะไรดีคะ\n",
      "Same index: 710920 Value: 7 Rank: 8\n",
      "Sentence: of course where would you like to eat\n",
      "Minimum index: 66426 Value: 5\n",
      "Sentence: the dialogue just read like crap\n",
      "========================================\n"
     ]
    },
    {
     "name": "stderr",
     "output_type": "stream",
     "text": [
      "\r",
      "222it [21:20,  4.26s/it]"
     ]
    },
    {
     "name": "stdout",
     "output_type": "stream",
     "text": [
      "Index ประโยคภาษาไทย: 839564\n",
      "ประโยค: ค่ะรานแซ็ดแอนวายเสิร์ฟเบียร์และไวน์หลากหลายค่ะ\n",
      "Same index: 839564 Value: 10 Rank: 0\n",
      "Sentence: yes z & y restaurant ha a variety of beer and wine option\n",
      "Minimum index: 843886 Value: 10\n",
      "Sentence: great what vehicle do u have tom\n",
      "========================================\n"
     ]
    },
    {
     "name": "stderr",
     "output_type": "stream",
     "text": [
      "\r",
      "223it [21:26,  5.01s/it]"
     ]
    },
    {
     "name": "stdout",
     "output_type": "stream",
     "text": [
      "Index ประโยคภาษาไทย: 196707\n",
      "ประโยค: ถ้าคุณต้องการที่ป้องกันจอแบบไม่สะท้อนแสงอย่าเสียเงินของคุณใช้ZaggหรือInvisibleShieldดีกว่าสิ่งที่ฉันเคยใช้เมื่อก่อน\n",
      "Same index: 196707 Value: 22 Rank: 0\n",
      "Sentence: if you need an anti-glare screen protector do n't waste your money stick with zagg or invisible shield what i 've used in the past\n",
      "Minimum index: 675909 Value: 22\n",
      "Sentence: great you want to order a grande caffè latte what kind of milk would you like to have in it\n",
      "========================================\n"
     ]
    },
    {
     "name": "stderr",
     "output_type": "stream",
     "text": [
      "\r",
      "224it [21:31,  4.99s/it]"
     ]
    },
    {
     "name": "stdout",
     "output_type": "stream",
     "text": [
      "Index ประโยคภาษาไทย: 472530\n",
      "ประโยค: เด็กชายของฉันชอบมันสองสามวันก่อนที่พวกเขาจะหมดความสนใจจากนั้นฉันก็กลับมาเล่นกับพวกเขาอีกครั้ง\n",
      "Same index: 472530 Value: 17 Rank: 0\n",
      "Sentence: my boy enjoyed it for a couple of day before they lost all interest then i came back and played with them again\n",
      "Minimum index: 472530 Value: 17\n",
      "Sentence: my boy enjoyed it for a couple of day before they lost all interest then i came back and played with them again\n",
      "========================================\n"
     ]
    },
    {
     "name": "stderr",
     "output_type": "stream",
     "text": [
      "\r",
      "225it [21:34,  4.38s/it]"
     ]
    },
    {
     "name": "stdout",
     "output_type": "stream",
     "text": [
      "Index ประโยคภาษาไทย: 226712\n",
      "ประโยค: ฉันซื้อหนังสือเล่มนี้เป็นของขวัญจากรายการความปรารถนาของฉัน\n",
      "Same index: 226712 Value: 9 Rank: 0\n",
      "Sentence: i bought this book a a gift off my wish list\n",
      "Minimum index: 842956 Value: 9\n",
      "Sentence: did you want to book this\n",
      "========================================\n"
     ]
    },
    {
     "name": "stderr",
     "output_type": "stream",
     "text": [
      "\r",
      "226it [21:37,  3.86s/it]"
     ]
    },
    {
     "name": "stdout",
     "output_type": "stream",
     "text": [
      "Index ประโยคภาษาไทย: 63934\n",
      "ประโยค: พวกเขาเอาอันใหม่ให้ฉันแต่ก็ยังไม่ทำงาน\n",
      "Same index: 63934 Value: 8 Rank: 0\n",
      "Sentence: they got me a new one but it 's still not working\n",
      "Minimum index: 63934 Value: 8\n",
      "Sentence: they got me a new one but it 's still not working\n",
      "========================================\n"
     ]
    },
    {
     "name": "stderr",
     "output_type": "stream",
     "text": [
      "\r",
      "227it [21:37,  2.84s/it]"
     ]
    },
    {
     "name": "stdout",
     "output_type": "stream",
     "text": [
      "Index ประโยคภาษาไทย: 597007\n",
      "ประโยค: ใกล้ซิซิลีนี ซิซิลีแลร์ Falcone Borsellino ซิซิลี Catania สถานี สถานีรถไฟปาแลร์โมซิซิลี ซิซิลี\n",
      "Same index: 597007 Value: 2 Rank: 1\n",
      "Sentence: near sicily trapani airport sicily palermo falcone borsellino airport sicily catania railway station sicily palermo railway station sicily\n",
      "Minimum index: 781853 Value: 1\n",
      "Sentence: jim miller\n",
      "========================================\n"
     ]
    },
    {
     "name": "stderr",
     "output_type": "stream",
     "text": [
      "\r",
      "228it [21:39,  2.56s/it]"
     ]
    },
    {
     "name": "stdout",
     "output_type": "stream",
     "text": [
      "Index ประโยคภาษาไทย: 511012\n",
      "ประโยค: ร็อบ โอนีลเจ้าหน้าที่ของยูนิฟีกล่าวว่าไม่ออมมือแล้ว\n",
      "Same index: 511012 Value: 8 Rank: 0\n",
      "Sentence: unifi official rob o'neill said the glove are off\n",
      "Minimum index: 475205 Value: 8\n",
      "Sentence: there is no romance except in name only\n",
      "========================================\n"
     ]
    },
    {
     "name": "stderr",
     "output_type": "stream",
     "text": [
      "\r",
      "229it [21:44,  3.13s/it]"
     ]
    },
    {
     "name": "stdout",
     "output_type": "stream",
     "text": [
      "Index ประโยคภาษาไทย: 739122\n",
      "ประโยค: เยี่ยมเลยเรียบร้อยแล้วอย่าลืมเอารถไปทิ้งไว้ที่อู่ตอนแปดโมงครึ่งวันจันทร์ไหม\n",
      "Same index: 739122 Value: 15 Rank: 1\n",
      "Sentence: alright all set please be sure to drop off your car before 8:30 on monday\n",
      "Minimum index: 66317 Value: 14\n",
      "Sentence: if you want real rock get the car or led zeppelin\n",
      "========================================\n"
     ]
    },
    {
     "name": "stderr",
     "output_type": "stream",
     "text": [
      "\r",
      "230it [21:45,  2.44s/it]"
     ]
    },
    {
     "name": "stdout",
     "output_type": "stream",
     "text": [
      "Index ประโยคภาษาไทย: 494811\n",
      "ประโยค: มีวิธีคือ\n",
      "Same index: 494811 Value: 2 Rank: 0\n",
      "Sentence: there is a way\n",
      "Minimum index: 494811 Value: 2\n",
      "Sentence: there is a way\n",
      "========================================\n"
     ]
    },
    {
     "name": "stderr",
     "output_type": "stream",
     "text": [
      "\r",
      "231it [21:46,  2.24s/it]"
     ]
    },
    {
     "name": "stdout",
     "output_type": "stream",
     "text": [
      "Index ประโยคภาษาไทย: 643496\n",
      "ประโยค: รถของคุณมีปัญหาอะไรหรอคะ\n",
      "Same index: 643496 Value: 7 Rank: 3\n",
      "Sentence: what is the problem\n",
      "Minimum index: 565457 Value: 6\n",
      "Sentence: fact about car rental in budapest\n",
      "========================================\n"
     ]
    },
    {
     "name": "stderr",
     "output_type": "stream",
     "text": [
      "\r",
      "232it [21:50,  2.75s/it]"
     ]
    },
    {
     "name": "stdout",
     "output_type": "stream",
     "text": [
      "Index ประโยคภาษาไทย: 267448\n",
      "ประโยค: การปิดเครื่องจะไม่ช่วยและจริง ๆแล้วทำให้ด้านอื่นๆของคุณหันมาต่อต้านคุณ\n",
      "Same index: 267448 Value: 13 Rank: 0\n",
      "Sentence: turning it off wo n't help and will actually make your other side turn against you\n",
      "Minimum index: 81951 Value: 13\n",
      "Sentence: do not buy this\n",
      "========================================\n"
     ]
    },
    {
     "name": "stderr",
     "output_type": "stream",
     "text": [
      "\r",
      "233it [21:52,  2.38s/it]"
     ]
    },
    {
     "name": "stdout",
     "output_type": "stream",
     "text": [
      "Index ประโยคภาษาไทย: 131552\n",
      "ประโยค: เรารักเครื่องทำกาแฟอันนี้\n",
      "Same index: 131552 Value: 6 Rank: 20\n",
      "Sentence: we love this coffemaker\n",
      "Minimum index: 118940 Value: 5\n",
      "Sentence: my daughter loved it\n",
      "========================================\n"
     ]
    },
    {
     "name": "stderr",
     "output_type": "stream",
     "text": [
      "\r",
      "234it [21:53,  2.05s/it]"
     ]
    },
    {
     "name": "stdout",
     "output_type": "stream",
     "text": [
      "Index ประโยคภาษาไทย: 699942\n",
      "ประโยค: ขอบคุณมากค่ะฝันดีนะคะ\n",
      "Same index: 699942 Value: 6 Rank: 130\n",
      "Sentence: thanks a lot have a good night\n",
      "Minimum index: 661309 Value: 3\n",
      "Sentence: perfect thanks so much\n",
      "========================================\n"
     ]
    },
    {
     "name": "stderr",
     "output_type": "stream",
     "text": [
      "\r",
      "235it [22:01,  3.81s/it]"
     ]
    },
    {
     "name": "stdout",
     "output_type": "stream",
     "text": [
      "Index ประโยคภาษาไทย: 43972\n",
      "ประโยค: อย่างไรก็ตามที่ได้กล่าวไว้ว่าในนี่มีหลายอย่าง่ทำให้คุณสนใจและให้ข้อมูลกับคุณว่าโลกของเราได้เปลี่ยนแปลงไปอย่างไรตั้งแต่ยุคโบราณ\n",
      "Same index: 43972 Value: 24 Rank: 0\n",
      "Sentence: however having said that there are several thing in it that will interest and inform you about how our world ha changed since ancient time\n",
      "Minimum index: 43972 Value: 24\n",
      "Sentence: however having said that there are several thing in it that will interest and inform you about how our world ha changed since ancient time\n",
      "========================================\n"
     ]
    },
    {
     "name": "stderr",
     "output_type": "stream",
     "text": [
      "\r",
      "236it [22:05,  3.96s/it]"
     ]
    },
    {
     "name": "stdout",
     "output_type": "stream",
     "text": [
      "Index ประโยคภาษาไทย: 310766\n",
      "ประโยค: เมื่อฉันเปิดกล่องทุกอย่างดูเหมือนจะไม่บุบสลายรวมทั้งสกรูทั้งหมดของฉันเพื่อประกอบ\n",
      "Same index: 310766 Value: 14 Rank: 0\n",
      "Sentence: when i opened up the box everything seemed to be intact including all of my screw for assembly\n",
      "Minimum index: 299278 Value: 14\n",
      "Sentence: some of it seemed too coincidental but it all tied in together\n",
      "========================================\n"
     ]
    },
    {
     "name": "stderr",
     "output_type": "stream",
     "text": [
      "\r",
      "237it [22:09,  4.00s/it]"
     ]
    },
    {
     "name": "stdout",
     "output_type": "stream",
     "text": [
      "Index ประโยคภาษาไทย: 518210\n",
      "ประโยค: หุ้นที่มีผลการดำเนินงานดีที่สุดคือAltriaGroupIncซึ่งเพิ่มขึ้นมากกว่า27ปิดที่4231 ดอลลาร์ต่อหุ้น\n",
      "Same index: 518210 Value: 15 Rank: 2\n",
      "Sentence: the best-performing stock wa altria group inc. which rose more than 27 percent to close at 42.31 a share\n",
      "Minimum index: 360631 Value: 14\n",
      "Sentence: these also get stained pretty easily and can not be cleaned up well\n",
      "========================================\n"
     ]
    },
    {
     "name": "stderr",
     "output_type": "stream",
     "text": [
      "\r",
      "238it [22:13,  3.83s/it]"
     ]
    },
    {
     "name": "stdout",
     "output_type": "stream",
     "text": [
      "Index ประโยคภาษาไทย: 356934\n",
      "ประโยค: มีความแตกต่างเล็กน้อยระหว่างกล้องที่มีแสงน้อยและไม่ใช้แฟลช\n",
      "Same index: 356934 Value: 10 Rank: 3\n",
      "Sentence: there is little difference between a low light and non-flash camera\n",
      "Minimum index: 793216 Value: 9\n",
      "Sentence: no problem have a great day\n",
      "========================================\n"
     ]
    },
    {
     "name": "stderr",
     "output_type": "stream",
     "text": [
      "\r",
      "239it [22:15,  3.19s/it]"
     ]
    },
    {
     "name": "stdout",
     "output_type": "stream",
     "text": [
      "Index ประโยคภาษาไทย: 182515\n",
      "ประโยค: ไม่ได้เกินออกมาสักมิลลิเมตรเดียว\n",
      "Same index: 182515 Value: 8 Rank: 240\n",
      "Sentence: not one millimeter out of place or anything else\n",
      "Minimum index: 276670 Value: 5\n",
      "Sentence: not too great not that good\n",
      "========================================\n"
     ]
    },
    {
     "name": "stderr",
     "output_type": "stream",
     "text": [
      "\r",
      "240it [22:28,  6.20s/it]"
     ]
    },
    {
     "name": "stdout",
     "output_type": "stream",
     "text": [
      "Index ประโยคภาษาไทย: 621090\n",
      "ประโยค: VeguetaลาและCanarioพิพิธภัณฑ์เป็นสถานที่สำหรับผู้ที่ต้องการมีวันหยุดมีวัฒนธรรมบริการรถเช่าเป็นเพียงวิธีที่ดีสุดเพื่อเยี่ยมชมสถานเหล่านี้และให้การพักผ่อนนอกจากนี้PalmitosParkMogán เดอโตและเมืองได้แก่บางอื่นๆจุดยอดนิยมในหมู่นักท่องเที่ยวและมีทัศนศึกษาและท่องเที่ยวที่มีการ\n",
      "Same index: 621090 Value: 45 Rank: 0\n",
      "Sentence: la vegueta and the museo canario are the place for those people who like to have an cultural holiday car rental is simply the best way to visit these place and make the stay stress-free besides this palmitos park puerto de mogán and sioux city are some other popular spot among the tourist and there are plenty of excursion and boat trip that can be taken\n",
      "Minimum index: 303456 Value: 45\n",
      "Sentence: the section are presented well but the organization or the topic heading make searching difficult andor repetitive\n",
      "========================================\n"
     ]
    },
    {
     "name": "stderr",
     "output_type": "stream",
     "text": [
      "\r",
      "241it [22:29,  4.85s/it]"
     ]
    },
    {
     "name": "stdout",
     "output_type": "stream",
     "text": [
      "Index ประโยคภาษาไทย: 846585\n",
      "ประโยค: ได้เลยอยากได้เครื่องดื่มอะไรคะ\n",
      "Same index: 846585 Value: 7 Rank: 184\n",
      "Sentence: sure what drink are you looking for\n",
      "Minimum index: 157733 Value: 5\n",
      "Sentence: the price make it even better\n",
      "========================================\n"
     ]
    },
    {
     "name": "stderr",
     "output_type": "stream",
     "text": [
      "\r",
      "242it [22:34,  4.79s/it]"
     ]
    },
    {
     "name": "stdout",
     "output_type": "stream",
     "text": [
      "Index ประโยคภาษาไทย: 542403\n",
      "ประโยค: เพราะเธอแฟนสาวแก่ฉันเท่านั้นโอ้น่าเศร้านะเข้าใจละฉันไม่รู้อ่ะเธอซื้ออะไรเหรอ\n",
      "Same index: 542403 Value: 21 Rank: 723\n",
      "Sentence: co u gf to me only mah lol oh t.t sob sob sob sia lah got itfair i dunno sia u buying wat\n",
      "Minimum index: 289690 Value: 15\n",
      "Sentence: great story easy read just loved it\n",
      "========================================\n"
     ]
    },
    {
     "name": "stderr",
     "output_type": "stream",
     "text": [
      "\r",
      "243it [22:37,  4.24s/it]"
     ]
    },
    {
     "name": "stdout",
     "output_type": "stream",
     "text": [
      "Index ประโยคภาษาไทย: 296875\n",
      "ประโยค: การแทรกแซงเหล่านี้มีประโยชน์เพียงใดที่ควรได้รับภายใต้รัฐบาลนี้\n",
      "Same index: 296875 Value: 11 Rank: 57\n",
      "Sentence: how much good were these intervention supposed to have had under this government\n",
      "Minimum index: 696339 Value: 10\n",
      "Sentence: ok i 've got your ticket near the back\n",
      "========================================\n"
     ]
    },
    {
     "name": "stderr",
     "output_type": "stream",
     "text": [
      "\r",
      "244it [22:40,  3.85s/it]"
     ]
    },
    {
     "name": "stdout",
     "output_type": "stream",
     "text": [
      "Index ประโยคภาษาไทย: 261231\n",
      "ประโยค: ฉันเพิ่งติดตั้งไฟสองดวงนี้บนเรือของฉัน\n",
      "Same index: 261231 Value: 9 Rank: 0\n",
      "Sentence: i recently installed two of these light on my boat\n",
      "Minimum index: 573948 Value: 9\n",
      "Sentence: additionally we accept article about web design\n",
      "========================================\n"
     ]
    },
    {
     "name": "stderr",
     "output_type": "stream",
     "text": [
      "\r",
      "245it [22:42,  3.31s/it]"
     ]
    },
    {
     "name": "stdout",
     "output_type": "stream",
     "text": [
      "Index ประโยคภาษาไทย: 378899\n",
      "ประโยค: สําหรับ2500ไม่ใช่การซื้อที่ประหยัด\n",
      "Same index: 378899 Value: 7 Rank: 0\n",
      "Sentence: for 25.00 it 's not an economical purchase\n",
      "Minimum index: 378899 Value: 7\n",
      "Sentence: for 25.00 it 's not an economical purchase\n",
      "========================================\n"
     ]
    },
    {
     "name": "stderr",
     "output_type": "stream",
     "text": [
      "\r",
      "246it [22:45,  3.33s/it]"
     ]
    },
    {
     "name": "stdout",
     "output_type": "stream",
     "text": [
      "Index ประโยคภาษาไทย: 200313\n",
      "ประโยค: เราซื้อปกอีกสีชมพูเพื่อการปกป้องเพิ่มเติมแต่ต้องการสไตล์และสีเดียวกัน\n",
      "Same index: 200313 Value: 8 Rank: 0\n",
      "Sentence: we did buy another cover in pink for more protection but wanted the same style color\n",
      "Minimum index: 200313 Value: 8\n",
      "Sentence: we did buy another cover in pink for more protection but wanted the same style color\n",
      "========================================\n"
     ]
    },
    {
     "name": "stderr",
     "output_type": "stream",
     "text": [
      "\r",
      "247it [22:48,  2.97s/it]"
     ]
    },
    {
     "name": "stdout",
     "output_type": "stream",
     "text": [
      "Index ประโยคภาษาไทย: 442660\n",
      "ประโยค: ตัวละครหลักเป็นปัญหาเล็กน้อยสําหรับรสนิยมของฉัน\n",
      "Same index: 442660 Value: 12 Rank: 456\n",
      "Sentence: the main character is just a bit too much trouble for my taste\n",
      "Minimum index: 274765 Value: 8\n",
      "Sentence: the character are annoying and the plot boring\n",
      "========================================\n"
     ]
    },
    {
     "name": "stderr",
     "output_type": "stream",
     "text": [
      "\r",
      "248it [23:00,  5.90s/it]"
     ]
    },
    {
     "name": "stdout",
     "output_type": "stream",
     "text": [
      "Index ประโยคภาษาไทย: 973422\n",
      "ประโยค: เซอร์จอห์น คิงถูกแต่งตั้งให้เป็นประธานในการเตรียมพร้อมการแปรรูปกิจการไปเป็นบริษัทเอกชนในปีพศ 2524คิงได้ว่าจ้างโคลิน มาร์แชลมาเป็นประธานบริหารในปีพศ2526คิงเป็นบุคคลที่มีชื่อเสียงด้านการปรับเปลี่ยนสายการบินที่ขาดทุนมหาศาลให้เป็นสายการบินที่สามารถทำกำไรได้มากที่สุดของโลกได้\n",
      "Same index: 973422 Value: 50 Rank: 393\n",
      "Sentence: in 1981 the airline wa instructed to prepare for privatisation by the conservative thatcher government sir john king later lord king wa appointed chairman charged with bringing the airline back into profitability while many other large airline struggled king wa credited with transforming british airway into one of the most profitable air carrier in the world\n",
      "Minimum index: 367262 Value: 44\n",
      "Sentence: the story moved quickly although i wa getting a bit tired of the use of a single character to make some dramatic event more dramatic\n",
      "========================================\n"
     ]
    },
    {
     "name": "stderr",
     "output_type": "stream",
     "text": [
      "\r",
      "249it [23:06,  5.84s/it]"
     ]
    },
    {
     "name": "stdout",
     "output_type": "stream",
     "text": [
      "Index ประโยคภาษาไทย: 826481\n",
      "ประโยค: อย่าลืมนะคะว่ามีค่าตรวจสอบ89ซึ่งสามารถเลือกได้นะคะว่าจะใช้ซ่อมอะไรได้ตามต้องการเลยค่ะ\n",
      "Same index: 826481 Value: 26 Rank: 793\n",
      "Sentence: just to let you know there is a 89 service fee but it can be applied to the cost of repair if you choose to go with them\n",
      "Minimum index: 745085 Value: 17\n",
      "Sentence: are they currently open or available to take more order\n",
      "========================================\n"
     ]
    },
    {
     "name": "stderr",
     "output_type": "stream",
     "text": [
      "\r",
      "250it [23:09,  5.13s/it]"
     ]
    },
    {
     "name": "stdout",
     "output_type": "stream",
     "text": [
      "Index ประโยคภาษาไทย: 166662\n",
      "ประโยค: ถ้าฉันไม่ได้เสียเงินซื้อมานะคงจะเผาทิ้งไปแล้ว\n",
      "Same index: 166662 Value: 9 Rank: 2\n",
      "Sentence: if i had not paid for this book i would have burned it\n",
      "Minimum index: 471370 Value: 8\n",
      "Sentence: but overall not an amazing read\n",
      "========================================\n"
     ]
    },
    {
     "name": "stderr",
     "output_type": "stream",
     "text": [
      "\r",
      "251it [23:10,  3.87s/it]"
     ]
    },
    {
     "name": "stdout",
     "output_type": "stream",
     "text": [
      "Index ประโยคภาษาไทย: 480828\n",
      "ประโยค: ทวีเดิลดีเริ่มอย่างรวดเร็ว\n",
      "Same index: 480828 Value: 4 Rank: 3\n",
      "Sentence: tweedledee began instantly\n",
      "Minimum index: 492181 Value: 3\n",
      "Sentence: so have you bertie\n",
      "========================================\n"
     ]
    },
    {
     "name": "stderr",
     "output_type": "stream",
     "text": [
      "\r",
      "252it [23:15,  4.10s/it]"
     ]
    },
    {
     "name": "stdout",
     "output_type": "stream",
     "text": [
      "Index ประโยคภาษาไทย: 327357\n",
      "ประโยค: ถ้าเรามีความต้องการหรืออะไรทํานองนี้จะสมบูรณ์แบบจริงๆแต่มันก็ไม่สามารถใช้ได้จริง\n",
      "Same index: 327357 Value: 15 Rank: 0\n",
      "Sentence: if we had a need or something like this would be absolutely perfect but it 's just not practical\n",
      "Minimum index: 327357 Value: 15\n",
      "Sentence: if we had a need or something like this would be absolutely perfect but it 's just not practical\n",
      "========================================\n"
     ]
    },
    {
     "name": "stderr",
     "output_type": "stream",
     "text": [
      "\r",
      "253it [23:19,  4.03s/it]"
     ]
    },
    {
     "name": "stdout",
     "output_type": "stream",
     "text": [
      "Index ประโยคภาษาไทย: 218578\n",
      "ประโยค: แต่เราพบว่ามันไม่มีอะไรนอกจากโฆษณาสำหรับหนังสือเล่มอื่นของผู้แต่ง\n",
      "Same index: 218578 Value: 13 Rank: 0\n",
      "Sentence: but we found it wa nothing but an advertisement for the author 's other book\n",
      "Minimum index: 365057 Value: 13\n",
      "Sentence: this book wa not what i had in mind\n",
      "========================================\n"
     ]
    },
    {
     "name": "stderr",
     "output_type": "stream",
     "text": [
      "\r",
      "254it [23:24,  4.23s/it]"
     ]
    },
    {
     "name": "stdout",
     "output_type": "stream",
     "text": [
      "Index ประโยคภาษาไทย: 255873\n",
      "ประโยค: ช่วยให้แมวของเราเธอเป็นผู้หญิงเมนคูนแท็บบี้สมดุลและมีสุขภาพดี\n",
      "Same index: 255873 Value: 16 Rank: 65\n",
      "Sentence: keep our cat she 's a maine coon tabby female balanced healthy\n",
      "Minimum index: 727556 Value: 14\n",
      "Sentence: your appointment is scheduled have a nice day\n",
      "========================================\n"
     ]
    },
    {
     "name": "stderr",
     "output_type": "stream",
     "text": [
      "\r",
      "255it [23:27,  3.93s/it]"
     ]
    },
    {
     "name": "stdout",
     "output_type": "stream",
     "text": [
      "Index ประโยคภาษาไทย: 927727\n",
      "ประโยค: พรีม่าเทสท์บะหมี่กึ่งสำเร็จรูปรสปูแบบเผ็ด เส้นบะหมี่ที่เหนียวนุ่มผสมผสานได้อย่างลงตัวกับเครื่องเทศหลากหลายชนิดมีรสชาติที่ค่อนข้างเผ็ด\n",
      "Same index: 927727 Value: 18 Rank: 673\n",
      "Sentence: prima taste spicy instant noodle flavor noodle that are soft blend perfectly with various spice ha a rather spicy taste taste\n",
      "Minimum index: 351722 Value: 10\n",
      "Sentence: others said theirs could get too hot\n",
      "========================================\n"
     ]
    },
    {
     "name": "stderr",
     "output_type": "stream",
     "text": [
      "\r",
      "256it [23:28,  3.21s/it]"
     ]
    },
    {
     "name": "stdout",
     "output_type": "stream",
     "text": [
      "Index ประโยคภาษาไทย: 441914\n",
      "ประโยค: เรื่องราวดังกล่าวเป็นที่รู้จักทั่วทุกมุมโลก\n",
      "Same index: 441914 Value: 8 Rank: 285\n",
      "Sentence: the story wa kind of all over the place throughout\n",
      "Minimum index: 833600 Value: 6\n",
      "Sentence: ok what about another place\n",
      "========================================\n"
     ]
    },
    {
     "name": "stderr",
     "output_type": "stream",
     "text": [
      "\r",
      "257it [23:36,  4.58s/it]"
     ]
    },
    {
     "name": "stdout",
     "output_type": "stream",
     "text": [
      "Index ประโยคภาษาไทย: 556892\n",
      "ประโยค: หัวเราะเธอจริงจังปะเนี่ยแล้วฉันอยากจะทำอย่างนั้นเหมือนกันได้ยังไงเล่าหัวเราะฉันเบลอแบบจากการช่วยโรบิน ซีโอห์กำจัดวิชาชีววิทยาทั้งสองระกว่างช่วงเปิดบ้านฮะฮ่า\n",
      "Same index: 556892 Value: 31 Rank: 12\n",
      "Sentence: lol are you serious what hw is that i wan na do too lol i got a blueform for helping robin seoh clear up bio both during open house haha haha\n",
      "Minimum index: 168367 Value: 29\n",
      "Sentence: it 's kind of like making popcorn at home with hot water only add salt sugar or oil\n",
      "========================================\n"
     ]
    },
    {
     "name": "stderr",
     "output_type": "stream",
     "text": [
      "\r",
      "258it [23:39,  3.96s/it]"
     ]
    },
    {
     "name": "stdout",
     "output_type": "stream",
     "text": [
      "Index ประโยคภาษาไทย: 975465\n",
      "ประโยค: สหรัฐอเมริกาในคศ 1904เหตุการณ์ที่เกิดขึ้นในคศ 1904ในสหรัฐอเมริกา\n",
      "Same index: 975465 Value: 9 Rank: 4\n",
      "Sentence: 1904 in the united state event from the year 1904 in the united state\n",
      "Minimum index: 565382 Value: 8\n",
      "Sentence: the capital of cyprus nicosia\n",
      "========================================\n"
     ]
    },
    {
     "name": "stderr",
     "output_type": "stream",
     "text": [
      "\r",
      "259it [23:54,  7.41s/it]"
     ]
    },
    {
     "name": "stdout",
     "output_type": "stream",
     "text": [
      "Index ประโยคภาษาไทย: 621346\n",
      "ประโยค: รอเยล แกรนด์ วิลล่าที่พักพัทยาเขาพระตำหนักสระส่วนตัว4ห้องนอนให้เช่ารายวันมีจากกุซซี่พัทยาที่พักใกล้ทะเลพูลวิลล่ารายวัน4ห้องนอนที่พระตำหนัก8แขกผู้เข้าพัก4ห้องนอน4ห้องน้ำWiFiให้เช่าบ้านพัทยาสระว่าย น้ํา ส่วนตัวพระตำหนักรอเยล แกรนด์ วิลล่า4ห้องนอน6ห้องน้ำพักได้9ท่านพร้อมสระว่ายน้ำส่วนตัวใกล้ชายหาดเพียง600 เมตรฟรีอินเตอร์เน็ตไร้สายและทำบาร์บีคิวได้ราคาวันนี้2083aedดูรายละเอียด\n",
      "Same index: 621346 Value: 53 Rank: 0\n",
      "Sentence: royale grand villa | 4 bed pool house on pratumnak hill pattaya stunning 4 bedroom pool villa 600 m from the beach at pratumnak hill central pattaya 8 guest 4 bedroom 4 bathroom wifi royale grand villa is large 4 bedroom pool villa with private gym just 600 m from the beach at pratumnak hill pattaya instant booking best online rate today price 2,083 aed view villa\n",
      "Minimum index: 621346 Value: 53\n",
      "Sentence: royale grand villa | 4 bed pool house on pratumnak hill pattaya stunning 4 bedroom pool villa 600 m from the beach at pratumnak hill central pattaya 8 guest 4 bedroom 4 bathroom wifi royale grand villa is large 4 bedroom pool villa with private gym just 600 m from the beach at pratumnak hill pattaya instant booking best online rate today price 2,083 aed view villa\n",
      "========================================\n"
     ]
    },
    {
     "name": "stderr",
     "output_type": "stream",
     "text": [
      "\r",
      "260it [23:58,  6.25s/it]"
     ]
    },
    {
     "name": "stdout",
     "output_type": "stream",
     "text": [
      "Index ประโยคภาษาไทย: 372098\n",
      "ประโยค: ไม่ใช่การป้องกันที่ดีที่สุดสําหรับโทรศัพท์ของคุณแต่ใช้งานได้ดี\n",
      "Same index: 372098 Value: 10 Rank: 0\n",
      "Sentence: it not the best protection to your phone but it work good\n",
      "Minimum index: 372098 Value: 10\n",
      "Sentence: it not the best protection to your phone but it work good\n",
      "========================================\n"
     ]
    },
    {
     "name": "stderr",
     "output_type": "stream",
     "text": [
      "\r",
      "261it [23:58,  4.45s/it]"
     ]
    },
    {
     "name": "stdout",
     "output_type": "stream",
     "text": [
      "Index ประโยคภาษาไทย: 761694\n",
      "ประโยค: เป็นซอสมารีนาร่า ชีส กะเพรา มะเขือเทศสดโรยหน้าจ้ะ\n",
      "Same index: 761694 Value: 14 Rank: 540\n",
      "Sentence: it come with our regular marinara sauce cheese basil and fresh tomato on top\n",
      "Minimum index: 813282 Value: 0\n",
      "Sentence: tino martinez\n",
      "========================================\n"
     ]
    },
    {
     "name": "stderr",
     "output_type": "stream",
     "text": [
      "\r",
      "262it [24:00,  3.85s/it]"
     ]
    },
    {
     "name": "stdout",
     "output_type": "stream",
     "text": [
      "Index ประโยคภาษาไทย: 807230\n",
      "ประโยค: ไม่มีปัญหาค่ะรับแบบไหนดีคะ\n",
      "Same index: 807230 Value: 11 Rank: 449\n",
      "Sentence: that is not a problem what type of uber do you prefer\n",
      "Minimum index: 77907 Value: 6\n",
      "Sentence: would not recommend purchasing this\n",
      "========================================\n"
     ]
    },
    {
     "name": "stderr",
     "output_type": "stream",
     "text": [
      "\r",
      "263it [24:05,  4.22s/it]"
     ]
    },
    {
     "name": "stdout",
     "output_type": "stream",
     "text": [
      "Index ประโยคภาษาไทย: 465674\n",
      "ประโยค: เราเตอร์ของฉันอยู่ห่างออกไปไม่ถึง30ฟุตแต่ก่อนหน้านั้นจะทําให้การเชื่อมต่อขาดหาย\n",
      "Same index: 465674 Value: 15 Rank: 0\n",
      "Sentence: my router is le than 30 foot away but even before that it would sporadically lose connectivity\n",
      "Minimum index: 147590 Value: 15\n",
      "Sentence: this is a well made product\n",
      "========================================\n"
     ]
    },
    {
     "name": "stderr",
     "output_type": "stream",
     "text": [
      "\r",
      "264it [24:08,  3.74s/it]"
     ]
    },
    {
     "name": "stdout",
     "output_type": "stream",
     "text": [
      "Index ประโยคภาษาไทย: 347619\n",
      "ประโยค: ไม่ใช่สิ่งที่ฉันคาดหวังแต่เป็นการอ่านที่รวดเร็ว\n",
      "Same index: 347619 Value: 8 Rank: 0\n",
      "Sentence: not what i wa expecting but a quick read\n",
      "Minimum index: 347619 Value: 8\n",
      "Sentence: not what i wa expecting but a quick read\n",
      "========================================\n"
     ]
    },
    {
     "name": "stderr",
     "output_type": "stream",
     "text": [
      "\r",
      "265it [24:09,  2.92s/it]"
     ]
    },
    {
     "name": "stdout",
     "output_type": "stream",
     "text": [
      "Index ประโยคภาษาไทย: 751197\n",
      "ประโยค: แอนนา โบเดนกับไรอันเฟลคกำกับค่ะ\n",
      "Same index: 751197 Value: 6 Rank: 121\n",
      "Sentence: anna boden and ryan fleck are the director\n",
      "Minimum index: 502294 Value: 3\n",
      "Sentence: so have you bertie\n",
      "========================================\n"
     ]
    },
    {
     "name": "stderr",
     "output_type": "stream",
     "text": [
      "\r",
      "266it [24:14,  3.67s/it]"
     ]
    },
    {
     "name": "stdout",
     "output_type": "stream",
     "text": [
      "Index ประโยคภาษาไทย: 511157\n",
      "ประโยค: เธอเริ่มทานผลิตภัณฑ์เสริมอาหารเมื่อสองปีที่แล้วส่วนหนึ่งเพื่อป้องกันภาวะสมองเสื่อมที่ไม่รุนแรงซึ่งพ่อแม่ที่สูงอายุของเธอประสบ\n",
      "Same index: 511157 Value: 21 Rank: 0\n",
      "Sentence: she started taking supplement two year ago partly to stave off mild dementia that affect her elderly parent\n",
      "Minimum index: 368697 Value: 21\n",
      "Sentence: this product doe not work for dog much le smaller dog\n",
      "========================================\n"
     ]
    },
    {
     "name": "stderr",
     "output_type": "stream",
     "text": [
      "\r",
      "267it [24:18,  3.48s/it]"
     ]
    },
    {
     "name": "stdout",
     "output_type": "stream",
     "text": [
      "Index ประโยคภาษาไทย: 493537\n",
      "ประโยค: nเมื่อเขาอยู่ในโรงพยาบาลพยาบาลเอารูปถ่ายแขนเอ็กซเรย์ของเขา\n",
      "Same index: 493537 Value: 11 Rank: 0\n",
      "Sentence: when he wa in hospital the nurse took an x-ray photograph of his arm\n",
      "Minimum index: 96517 Value: 11\n",
      "Sentence: they are comfortable and the lens allow for easy reading\n",
      "========================================\n"
     ]
    },
    {
     "name": "stderr",
     "output_type": "stream",
     "text": [
      "\r",
      "268it [24:19,  2.83s/it]"
     ]
    },
    {
     "name": "stdout",
     "output_type": "stream",
     "text": [
      "Index ประโยคภาษาไทย: 925867\n",
      "ประโยค: ซองเอกสารA4ขาว60 ซองแพ็คONE\n",
      "Same index: 925867 Value: 7 Rank: 203\n",
      "Sentence: plastic folder a4 white 60pack one one\n",
      "Minimum index: 747660 Value: 5\n",
      "Sentence: yes a medium is still good\n",
      "========================================\n"
     ]
    },
    {
     "name": "stderr",
     "output_type": "stream",
     "text": [
      "\r",
      "269it [24:21,  2.51s/it]"
     ]
    },
    {
     "name": "stdout",
     "output_type": "stream",
     "text": [
      "Index ประโยคภาษาไทย: 674436\n",
      "ประโยค: โอเคเยี่ยมเลยค่ะสั่งเลยค่ะ\n",
      "Same index: 674436 Value: 7 Rank: 23\n",
      "Sentence: okay that sound good let 's do that\n",
      "Minimum index: 561712 Value: 5\n",
      "Sentence: call me tomorrow tomorrow\n",
      "========================================\n"
     ]
    },
    {
     "name": "stderr",
     "output_type": "stream",
     "text": [
      "\r",
      "270it [24:25,  3.16s/it]"
     ]
    },
    {
     "name": "stdout",
     "output_type": "stream",
     "text": [
      "Index ประโยคภาษาไทย: 712510\n",
      "ประโยค: ร้านลาร์ตุสซีโอเคมั้ยคะฉันรู้ว่าคุณค่อนข้างละเอียดนะคุณคงหวังว่าให้ร้านดีพอ\n",
      "Same index: 712510 Value: 20 Rank: 698\n",
      "Sentence: doe l'artusi sound good to you i know you 're a bit picky when it come to being fancy enough enough\n",
      "Minimum index: 591022 Value: 16\n",
      "Sentence: glad receive 25 micron nylon filter bag and 1micron pp filter bag good service\n",
      "========================================\n"
     ]
    },
    {
     "name": "stderr",
     "output_type": "stream",
     "text": [
      "\r",
      "271it [24:26,  2.45s/it]"
     ]
    },
    {
     "name": "stdout",
     "output_type": "stream",
     "text": [
      "Index ประโยคภาษาไทย: 647130\n",
      "ประโยค: ขนาดไหนคะ\n",
      "Same index: 647130 Value: 2 Rank: 0\n",
      "Sentence: what size\n",
      "Minimum index: 647130 Value: 2\n",
      "Sentence: what size\n",
      "========================================\n"
     ]
    },
    {
     "name": "stderr",
     "output_type": "stream",
     "text": [
      "\r",
      "272it [24:29,  2.67s/it]"
     ]
    },
    {
     "name": "stdout",
     "output_type": "stream",
     "text": [
      "Index ประโยคภาษาไทย: 225345\n",
      "ประโยค: พวกเขาเล่นได้ดีกับการเล่นปกติไม่มีการฉีกขาดหรือรั่ว\n",
      "Same index: 225345 Value: 11 Rank: 1\n",
      "Sentence: they hold up well with normal play there ha n't been any tearing or leaking\n",
      "Minimum index: 985420 Value: 10\n",
      "Sentence: at 16 he helped run one of his father 's cinema\n",
      "========================================\n"
     ]
    },
    {
     "name": "stderr",
     "output_type": "stream",
     "text": [
      "\r",
      "273it [24:37,  4.05s/it]"
     ]
    },
    {
     "name": "stdout",
     "output_type": "stream",
     "text": [
      "Index ประโยคภาษาไทย: 234503\n",
      "ประโยค: เรื่องราวกระโดดจากบุคคลหนึ่งไปอีกคนหนึ่งโดยมีการเตือนน้อยมากและอาจเป็นเรื่องจำเป็นสำหรับเรื่องนี้แต่มันทำให้การอ่านน่าเบื่อ\n",
      "Same index: 234503 Value: 18 Rank: 0\n",
      "Sentence: the story jump from one person to another with very little warning and this is probably necessary for the story but it make reading tedious\n",
      "Minimum index: 234503 Value: 18\n",
      "Sentence: the story jump from one person to another with very little warning and this is probably necessary for the story but it make reading tedious\n",
      "========================================\n"
     ]
    },
    {
     "name": "stderr",
     "output_type": "stream",
     "text": [
      "\r",
      "274it [24:39,  3.46s/it]"
     ]
    },
    {
     "name": "stdout",
     "output_type": "stream",
     "text": [
      "Index ประโยคภาษาไทย: 493090\n",
      "ประโยค: เขาได้ยืมเงอนจากธนาคารไปแล้ว\n",
      "Same index: 493090 Value: 5 Rank: 0\n",
      "Sentence: already he had begun borrowing from the bank\n",
      "Minimum index: 493090 Value: 5\n",
      "Sentence: already he had begun borrowing from the bank\n",
      "========================================\n"
     ]
    },
    {
     "name": "stderr",
     "output_type": "stream",
     "text": [
      "\r",
      "275it [24:40,  2.87s/it]"
     ]
    },
    {
     "name": "stdout",
     "output_type": "stream",
     "text": [
      "Index ประโยคภาษาไทย: 711056\n",
      "ประโยค: หักเงินจากบัตรเลยนะคะ\n",
      "Same index: 711056 Value: 9 Rank: 311\n",
      "Sentence: the bill will be put on your card okay\n",
      "Minimum index: 544893 Value: 5\n",
      "Sentence: dar i go toilet first first\n",
      "========================================\n"
     ]
    },
    {
     "name": "stderr",
     "output_type": "stream",
     "text": [
      "\r",
      "276it [24:45,  3.41s/it]"
     ]
    },
    {
     "name": "stdout",
     "output_type": "stream",
     "text": [
      "Index ประโยคภาษาไทย: 128280\n",
      "ประโยค: มีแรงฉุดที่ดีในสภาพที่เปียกป้องกันได้ดีด้วยค่ะแต่ไม่เหมาะสำหรับการเดินระยะไกล\n",
      "Same index: 128280 Value: 14 Rank: 0\n",
      "Sentence: they have excellent traction in wet condition they protect very well but is not meant for extended walking distance\n",
      "Minimum index: 128280 Value: 14\n",
      "Sentence: they have excellent traction in wet condition they protect very well but is not meant for extended walking distance\n",
      "========================================\n"
     ]
    },
    {
     "name": "stderr",
     "output_type": "stream",
     "text": [
      "\r",
      "277it [24:45,  2.52s/it]"
     ]
    },
    {
     "name": "stdout",
     "output_type": "stream",
     "text": [
      "Index ประโยคภาษาไทย: 920449\n",
      "ประโยค: แถมกระดานแพลนเนอร์แม่เหล็ก 43x585 ซม ONE PCWBK12317 SD\n",
      "Same index: 920449 Value: 2 Rank: 0\n",
      "Sentence: one pcwb-k1-2317 sd magnetic dry eraser calendar board\n",
      "Minimum index: 299019 Value: 2\n",
      "Sentence: highly recommend\n",
      "========================================\n"
     ]
    },
    {
     "name": "stderr",
     "output_type": "stream",
     "text": [
      "\r",
      "278it [24:50,  3.07s/it]"
     ]
    },
    {
     "name": "stdout",
     "output_type": "stream",
     "text": [
      "Index ประโยคภาษาไทย: 464622\n",
      "ประโยค: ฉันซื้อของเล่นนี้ในร้านค้าและเราชอบมากซื้ออีกหนึ่งชิ้นเพื่อส่งมอบในช่วงคริสต์มาส\n",
      "Same index: 464622 Value: 16 Rank: 1\n",
      "Sentence: i had purchased this toy in a store and we loved it bought another one to be delivered at christmas time\n",
      "Minimum index: 199148 Value: 15\n",
      "Sentence: like many others i purchased this book after reading the excellent review on amazon\n",
      "========================================\n"
     ]
    },
    {
     "name": "stderr",
     "output_type": "stream",
     "text": [
      "\r",
      "279it [24:56,  4.09s/it]"
     ]
    },
    {
     "name": "stdout",
     "output_type": "stream",
     "text": [
      "Index ประโยคภาษาไทย: 878499\n",
      "ประโยค: อย่าเพียงแค่ถ่ายภาพเพราะคุณสามารถสแกนภาพให้เป็นรูปดิจิทัลได้อย่างคมชัดด้วยระบบการตรวจจับขอบภาพอัตโนมัติการแก้ไขมุมมองและการหมุนอัจฉริยะ\n",
      "Same index: 878499 Value: 23 Rank: 0\n",
      "Sentence: don t just take a picture of a picture create enhanced digital scan with automatic edge detection perspective correction and smart rotation\n",
      "Minimum index: 878499 Value: 23\n",
      "Sentence: don t just take a picture of a picture create enhanced digital scan with automatic edge detection perspective correction and smart rotation\n",
      "========================================\n"
     ]
    },
    {
     "name": "stderr",
     "output_type": "stream",
     "text": [
      "\r",
      "280it [25:01,  4.45s/it]"
     ]
    },
    {
     "name": "stdout",
     "output_type": "stream",
     "text": [
      "Index ประโยคภาษาไทย: 265757\n",
      "ประโยค: คนนี้ยังคงโอเคแต่มันหายไปจากสิ่งที่หนังสือบางเล่มมีในหน้าเว็บของพวกเขา\n",
      "Same index: 265757 Value: 13 Rank: 0\n",
      "Sentence: this one 's still ok but it is missing what some book had on their web page\n",
      "Minimum index: 265757 Value: 13\n",
      "Sentence: this one 's still ok but it is missing what some book had on their web page\n",
      "========================================\n"
     ]
    },
    {
     "name": "stderr",
     "output_type": "stream",
     "text": [
      "\r",
      "281it [25:04,  3.99s/it]"
     ]
    },
    {
     "name": "stdout",
     "output_type": "stream",
     "text": [
      "Index ประโยคภาษาไทย: 53571\n",
      "ประโยค: และอย่าบอกฉันทำสิ่งถูกพวกเขาต้องดูแลลูกค้า\n",
      "Same index: 53571 Value: 6 Rank: 0\n",
      "Sentence: and dont tell me do thing right they should take care of customer\n",
      "Minimum index: 53571 Value: 6\n",
      "Sentence: and dont tell me do thing right they should take care of customer\n",
      "========================================\n"
     ]
    },
    {
     "name": "stderr",
     "output_type": "stream",
     "text": [
      "\r",
      "282it [25:06,  3.20s/it]"
     ]
    },
    {
     "name": "stdout",
     "output_type": "stream",
     "text": [
      "Index ประโยคภาษาไทย: 955443\n",
      "ประโยค: ตลับหมึกโทนเนอร์สีดำCanon337\n",
      "Same index: 955443 Value: 5 Rank: 1\n",
      "Sentence: toner cartridge black canon 337 337\n",
      "Minimum index: 330977 Value: 4\n",
      "Sentence: sincerely john lee hill\n",
      "========================================\n"
     ]
    },
    {
     "name": "stderr",
     "output_type": "stream",
     "text": [
      "\r",
      "283it [25:07,  2.78s/it]"
     ]
    },
    {
     "name": "stdout",
     "output_type": "stream",
     "text": [
      "Index ประโยคภาษาไทย: 394363\n",
      "ประโยค: พวกเขามาถึงในวันแรกที่คาดหวัง\n",
      "Same index: 394363 Value: 3 Rank: 0\n",
      "Sentence: they arrived on the earliest day expected\n",
      "Minimum index: 394363 Value: 3\n",
      "Sentence: they arrived on the earliest day expected\n",
      "========================================\n"
     ]
    },
    {
     "name": "stderr",
     "output_type": "stream",
     "text": [
      "\r",
      "284it [25:08,  2.16s/it]"
     ]
    },
    {
     "name": "stdout",
     "output_type": "stream",
     "text": [
      "Index ประโยคภาษาไทย: 654617\n",
      "ประโยค: ไม่ล่ะปกติ\n",
      "Same index: 654617 Value: 4 Rank: 43\n",
      "Sentence: none just standard standard\n",
      "Minimum index: 686402 Value: 2\n",
      "Sentence: no way\n",
      "========================================\n"
     ]
    },
    {
     "name": "stderr",
     "output_type": "stream",
     "text": [
      "\r",
      "285it [25:10,  2.15s/it]"
     ]
    },
    {
     "name": "stdout",
     "output_type": "stream",
     "text": [
      "Index ประโยคภาษาไทย: 757600\n",
      "ประโยค: แบบไหนที่คนสั่งกันมากสุด\n",
      "Same index: 757600 Value: 8 Rank: 20\n",
      "Sentence: which is the normal kind everyone get\n",
      "Minimum index: 694294 Value: 7\n",
      "Sentence: may i confirm your order now\n",
      "========================================\n"
     ]
    },
    {
     "name": "stderr",
     "output_type": "stream",
     "text": [
      "\r",
      "286it [25:20,  4.29s/it]"
     ]
    },
    {
     "name": "stdout",
     "output_type": "stream",
     "text": [
      "Index ประโยคภาษาไทย: 108575\n",
      "ประโยค: สิ่งเดียวที่ฉันจะบ่นคือแบตเตอรี่อยู่ได้ไม่นานมากและมันง่ายสำหรับพวกเขาที่จะตื่นตอนกลางคืนถ้าไม่ได้เฝ้าแต่ฉันคิดว่าพวกมันราคาถูกกว่าเปลี่ยนหลอดไฟทั้งหมด\n",
      "Same index: 108575 Value: 29 Rank: 0\n",
      "Sentence: my only complaint would be the battery do n't last very long and it 's easy for them to get up during the night if not watched.but i guess they are cheaper than replacing all those darn bulb\n",
      "Minimum index: 108575 Value: 29\n",
      "Sentence: my only complaint would be the battery do n't last very long and it 's easy for them to get up during the night if not watched.but i guess they are cheaper than replacing all those darn bulb\n",
      "========================================\n"
     ]
    },
    {
     "name": "stderr",
     "output_type": "stream",
     "text": [
      "\r",
      "287it [25:24,  4.28s/it]"
     ]
    },
    {
     "name": "stdout",
     "output_type": "stream",
     "text": [
      "Index ประโยคภาษาไทย: 69425\n",
      "ประโยค: แต่ไม่เลยนี่มันสายเชื่อมสำหรับกล้องยี่ห้ออื่นซึ่งผลิตออกมาต่างกับของฉัน\n",
      "Same index: 69425 Value: 16 Rank: 14\n",
      "Sentence: but no this is the connector for some different brand of camera that 's made differently than mine\n",
      "Minimum index: 332128 Value: 15\n",
      "Sentence: so do n't make the mistake i did\n",
      "========================================\n"
     ]
    }
   ],
   "source": [
    "count, length = evaluate(1)"
   ]
  },
  {
   "cell_type": "code",
   "execution_count": 12,
   "metadata": {},
   "outputs": [
    {
     "data": {
      "text/plain": [
       "9"
      ]
     },
     "execution_count": 12,
     "metadata": {},
     "output_type": "execute_result"
    }
   ],
   "source": [
    "num = 743560               \n",
    "alt_num = 743560                           \n",
    "thai_sentence = thai_sents[num]\n",
    "thai_ner = thai_ners[num]\n",
    "eng_sentence = eng_sents[num]\n",
    "eng_ner = eng_ners[num]\n",
    "\n",
    "score, path =  editDistDP_NER(eng_sentence, thai_sentence, eng_ner, thai_ner, True)\n",
    "\n",
    "score"
   ]
  },
  {
   "cell_type": "code",
   "execution_count": 13,
   "metadata": {},
   "outputs": [
    {
     "name": "stdout",
     "output_type": "stream",
     "text": [
      "yes                                     ใช่                                     Replace             \n",
      "best                                    แล้ว                                    Replace             \n",
      "best                                    มี                                      Copy                \n",
      "thing                                   มี                                      Copy                \n",
      "about                                   ร้าน                                    Replace             \n",
      "having                                  สตาร์                                   Replace             \n",
      "a                                       บัค                                     Replace             \n",
      "starbucks                               ใน                                      Replace             \n",
      "starbucks                               ตึก                                     Copy                \n",
      "in                                      ตึก                                     Copy                \n",
      "your                                    มันดี                                   Replace             \n",
      "building                                แบบนี้                                  Replace             \n",
      "building                                นี่แหละ                                 Insert              \n"
     ]
    }
   ],
   "source": [
    "printPath(path)"
   ]
  },
  {
   "cell_type": "code",
   "execution_count": null,
   "metadata": {},
   "outputs": [],
   "source": [
    "sorted_tuples = sorted(count.items(), key=lambda item: item[0])\n",
    "sorted_count = {k: v for k, v in sorted_tuples}"
   ]
  },
  {
   "cell_type": "code",
   "execution_count": null,
   "metadata": {},
   "outputs": [],
   "source": [
    "import matplotlib.pyplot as plt"
   ]
  },
  {
   "cell_type": "code",
   "execution_count": null,
   "metadata": {},
   "outputs": [],
   "source": [
    "plt.bar(list(sorted_count.keys())[0:20], list(sorted_count.values())[0:20])\n",
    "plt.xlabel('Rank')\n",
    "plt.ylabel('Amount')"
   ]
  },
  {
   "cell_type": "code",
   "execution_count": null,
   "metadata": {},
   "outputs": [],
   "source": [
    "range0 = 0\n",
    "range1_4 = 0\n",
    "range5_9 = 0\n",
    "range10_19 = 0\n",
    "for i, v in list(sorted_count.items())[0:19]:\n",
    "    if i == 0:\n",
    "        range0 += v\n",
    "    elif i>=1 and i<=4:\n",
    "        range1_4 += v\n",
    "    elif i>=5 and i<=9:\n",
    "        range5_9 += v\n",
    "    else:\n",
    "        range10_19 += v\n",
    "        \n",
    "print(f\"Top1:     {(range0 / N)*100:.2f} %\")\n",
    "print(f\"Top2-5:   {(range1_4 / N)*100:.2f} %\")\n",
    "print(f\"Top5-10:  {(range5_9 / N)*100:.2f} %\")\n",
    "print(f\"Top11-20: {(range10_19 / N)*100:.2f} %\")"
   ]
  },
  {
   "cell_type": "code",
   "execution_count": 28,
   "metadata": {},
   "outputs": [
    {
     "name": "stdout",
     "output_type": "stream",
     "text": [
      "0 [5, 103, 23, 25, 10, 9, 51, 4, 13, 4, 9, 10, 13, 65, 8, 28, 4, 19, 20, 7, 64, 19, 58, 19, 17, 6, 1, 35, 107, 1, 12, 41, 6, 2, 8, 13, 119, 8, 7, 8, 6, 13, 24, 38, 11, 47, 10, 4, 67, 57, 6, 13, 31, 29, 25, 17, 18, 29, 17, 18, 9, 4, 4, 14, 24, 26, 8, 6, 11, 26, 23, 26, 15, 12, 46, 9, 241, 30, 11, 9, 7, 7, 12, 78, 7, 7, 20, 14, 122, 27, 23, 18, 8, 12, 26, 36, 2, 14, 11, 25, 23, 11, 12, 8, 4, 16, 25, 18, 61, 10, 8, 16, 19, 15, 46, 12, 17, 9, 18, 14, 2, 25, 8, 19, 1, 22, 17, 13, 7, 38, 5, 19, 58, 13, 9, 25, 7, 17, 10, 12, 26, 70, 30, 7, 21, 11, 11, 7, 6, 41, 10, 16, 6, 58, 11, 3, 3, 98, 108, 10, 7, 7, 3, 18, 39, 4, 2, 5, 7, 28, 2, 13, 28, 26, 27, 3, 6, 6, 16, 15, 3, 74, 7, 36, 12, 14, 11, 3, 4, 61, 115, 77, 6, 31, 17, 12, 23, 20, 97, 7, 33, 8, 16, 8, 21, 69, 22, 12, 13, 82, 9, 26, 59, 16, 12, 87, 8, 6, 10, 10, 16, 97, 5, 3, 5, 14, 53, 20, 27, 9, 23, 20, 17, 21, 12, 15, 11, 7, 3, 10, 5, 9, 17, 108, 8, 11, 11, 16, 26, 11, 9, 10, 6, 5, 6, 17, 63, 18, 3, 26, 15, 26, 19, 4, 17, 8, 4, 12, 21, 15, 9, 8, 13, 13, 14, 17, 17, 16, 84, 6, 12, 6, 79, 22, 10, 112, 6, 31, 65, 71, 24, 1, 23, 41, 5, 19, 21, 19, 27, 7, 8, 5, 24, 10, 26, 8, 4, 7, 14, 6, 19, 38, 1, 9, 14, 12, 21, 66, 7, 7, 11, 6, 16, 25, 5, 21, 12, 4, 1, 8, 12, 23, 8, 7, 64, 10, 7, 19, 17, 34, 17, 17, 8, 12, 6, 24, 16, 26, 19, 16, 5, 9, 8, 9, 10, 7, 6, 17, 51, 46, 10, 65, 6, 57, 19, 9, 13, 6, 10, 20, 6, 41, 6, 8, 10, 22, 22, 17, 14, 23, 10, 4, 5, 7, 144, 8, 124, 12, 7, 7, 13, 67, 37, 8, 13, 22, 62, 92, 71, 4, 38, 5, 53, 17, 7, 52, 17, 14, 88, 3, 30, 66, 6, 9, 6, 4, 9, 4, 7, 24, 33, 22, 9, 11, 4, 41, 28, 9, 8, 10, 32, 15, 4, 6, 29, 42, 13, 5, 11, 16, 32, 6, 27, 8, 8, 84, 27, 13, 23, 17, 8, 26, 44, 18, 5, 7, 20, 4, 11, 13, 19, 16, 38, 29, 10, 121]\n",
      "709 [23]\n",
      "36 [11, 8, 88, 5]\n",
      "395 [13]\n",
      "488 [14]\n",
      "9 [4, 7, 14]\n",
      "309 [9, 11, 9, 11]\n",
      "518 [15, 17]\n",
      "217 [29, 8]\n",
      "6 [14, 9, 44, 8, 8, 8, 17, 7, 32, 9]\n",
      "98 [10]\n",
      "1 [22, 20, 11, 5, 2, 32, 19, 9, 7, 12, 9, 55, 7, 12, 8, 2, 15, 15, 21, 3, 10, 9, 19, 6, 13, 16, 6, 19, 16, 14, 24, 2, 9, 77, 7, 11, 8, 8, 5, 2, 9, 8, 7, 9, 6, 7, 7, 27, 18, 77, 5, 6, 12, 5, 12]\n",
      "166 [11, 7]\n",
      "2 [9, 39, 11, 7, 14, 5, 13, 20, 10, 9, 17, 13, 5, 12, 9, 15, 43, 10, 11, 6, 14, 6, 4, 4, 9, 4, 13, 14, 27, 6, 6]\n",
      "14 [12, 18, 16, 4]\n",
      "26 [4, 8, 8]\n",
      "3 [4, 22, 9, 5, 21, 4, 11, 3, 15, 16, 7, 131, 18, 18, 75, 9, 7, 62, 20]\n",
      "23 [6, 4, 8, 8, 33, 85]\n",
      "10 [7, 4, 6, 3, 5, 7, 18]\n",
      "625 [17, 21]\n",
      "775 [29]\n",
      "247 [20]\n",
      "16 [20, 23, 32]\n",
      "562 [15]\n",
      "55 [11, 5, 13]\n",
      "33 [12, 6]\n",
      "8 [9, 9, 2, 13, 8, 7, 19]\n",
      "108 [10, 13, 12]\n",
      "5 [9, 4, 11, 16, 6, 9, 9, 14, 48, 13, 9]\n",
      "4 [27, 17, 11, 11, 3, 10, 13, 12, 11, 97, 17, 21, 20, 6, 18, 7, 9, 4, 71, 2, 5, 17, 3, 12]\n",
      "21 [6, 6, 28, 44]\n",
      "944 [97]\n",
      "315 [29]\n",
      "742 [22]\n",
      "766 [25]\n",
      "70 [14]\n",
      "725 [24]\n",
      "966 [98]\n",
      "28 [113, 3, 4]\n",
      "300 [11, 11]\n",
      "265 [72]\n",
      "7 [14, 25, 22, 18, 12, 3, 3, 14, 13, 4]\n",
      "92 [39]\n",
      "84 [9]\n",
      "783 [29]\n",
      "786 [32]\n",
      "20 [3, 4, 7, 6, 4, 3]\n",
      "11 [3, 20, 8, 71]\n",
      "634 [20, 23, 19]\n",
      "500 [16]\n",
      "867 [44]\n",
      "44 [4, 4]\n",
      "170 [55]\n",
      "559 [15, 16]\n",
      "497 [49]\n",
      "112 [13, 6]\n",
      "900 [61]\n",
      "87 [6, 10, 31]\n",
      "71 [5, 77]\n",
      "39 [6]\n",
      "15 [9, 12, 6, 11]\n",
      "748 [27]\n",
      "371 [11]\n",
      "29 [8, 16]\n",
      "61 [5, 22]\n",
      "109 [8, 15]\n",
      "167 [14]\n",
      "318 [10]\n",
      "174 [7, 70, 7]\n",
      "127 [14]\n",
      "64 [14, 17]\n",
      "789 [29]\n",
      "443 [17]\n",
      "534 [16]\n",
      "18 [8, 7, 12]\n",
      "19 [22, 4]\n",
      "181 [21]\n",
      "958 [83]\n",
      "130 [7, 8]\n",
      "240 [9]\n",
      "184 [7]\n",
      "723 [23]\n",
      "57 [13]\n",
      "456 [13]\n",
      "393 [53]\n",
      "793 [28]\n",
      "65 [12, 9]\n",
      "673 [21]\n",
      "285 [10]\n",
      "12 [31, 18, 16, 84, 16, 11, 110]\n",
      "540 [14]\n",
      "449 [12]\n",
      "121 [6]\n",
      "203 [7]\n",
      "698 [21]\n",
      "311 [9]\n",
      "43 [4, 11]\n",
      "258 [34, 67, 8]\n",
      "45 [36]\n",
      "89 [6]\n",
      "75 [5, 6, 5, 12, 5]\n",
      "505 [15]\n",
      "305 [10]\n",
      "168 [7, 98]\n",
      "178 [7]\n",
      "980 [119]\n",
      "34 [9]\n",
      "452 [14]\n",
      "264 [8]\n",
      "32 [32]\n",
      "945 [78]\n",
      "222 [50]\n",
      "905 [60]\n",
      "105 [25]\n",
      "149 [25]\n",
      "609 [19]\n",
      "737 [22]\n",
      "63 [33, 7]\n",
      "86 [9]\n",
      "340 [12, 10]\n",
      "141 [79]\n",
      "974 [111]\n",
      "22 [6]\n",
      "445 [14]\n",
      "24 [12, 8, 54]\n",
      "917 [67]\n",
      "41 [51]\n",
      "992 [161]\n",
      "575 [19]\n",
      "376 [11]\n",
      "81 [5]\n",
      "193 [10]\n",
      "46 [14, 40, 10]\n",
      "278 [10, 9]\n",
      "317 [9, 11]\n",
      "188 [7, 7]\n",
      "323 [10]\n",
      "125 [6]\n",
      "189 [8]\n",
      "31 [6, 22, 4]\n",
      "863 [43]\n",
      "37 [16]\n",
      "100 [9]\n",
      "107 [20, 4]\n",
      "90 [5, 5, 5]\n",
      "134 [16]\n",
      "54 [18]\n",
      "590 [17]\n",
      "441 [13]\n",
      "444 [14]\n",
      "249 [9, 9]\n",
      "978 [134, 111]\n",
      "187 [7, 7]\n",
      "194 [38]\n",
      "366 [12]\n",
      "35 [17, 20, 11]\n",
      "25 [9]\n",
      "51 [10, 11]\n",
      "119 [17, 6]\n",
      "399 [31]\n",
      "13 [2, 16, 13]\n",
      "981 [128]\n",
      "284 [8]\n",
      "491 [15]\n",
      "60 [11]\n",
      "169 [22]\n",
      "708 [21]\n",
      "768 [204, 28]\n",
      "329 [24]\n",
      "460 [12]\n",
      "623 [19]\n",
      "47 [5]\n",
      "349 [13]\n",
      "589 [18]\n",
      "573 [17]\n",
      "227 [8]\n",
      "384 [12]\n",
      "912 [78]\n",
      "681 [21, 19]\n",
      "68 [5, 16]\n",
      "301 [10]\n",
      "85 [17]\n",
      "953 [93]\n",
      "293 [10]\n",
      "254 [8]\n",
      "236 [8]\n",
      "88 [8, 10]\n",
      "224 [21]\n",
      "242 [11, 11]\n",
      "468 [13]\n",
      "17 [8, 263]\n",
      "799 [32]\n",
      "954 [85]\n",
      "146 [8]\n",
      "176 [13]\n",
      "516 [14]\n",
      "995 [205]\n",
      "180 [8]\n",
      "95 [5]\n",
      "131 [87]\n",
      "76 [14]\n",
      "448 [14]\n",
      "281 [9]\n",
      "645 [20]\n",
      "52 [11, 5]\n",
      "622 [19]\n",
      "94 [5]\n",
      "30 [16, 20]\n",
      "171 [36]\n",
      "296 [10, 27]\n",
      "59 [11]\n",
      "270 [22]\n",
      "219 [12]\n",
      "675 [24]\n",
      "172 [9]\n",
      "571 [16]\n",
      "297 [9]\n",
      "148 [12]\n",
      "891 [50]\n",
      "935 [68]\n",
      "308 [12]\n",
      "62 [10, 6]\n",
      "408 [11]\n",
      "261 [74]\n",
      "375 [13]\n",
      "462 [13]\n",
      "97 [24]\n",
      "161 [7]\n",
      "381 [12]\n",
      "251 [9]\n",
      "72 [5, 8]\n",
      "328 [9]\n",
      "388 [13]\n",
      "101 [20]\n",
      "370 [10]\n",
      "183 [8]\n",
      "53 [6]\n",
      "802 [27]\n",
      "195 [58]\n",
      "512 [15]\n",
      "859 [39]\n",
      "354 [10]\n",
      "374 [10]\n",
      "566 [36]\n",
      "58 [18]\n",
      "69 [62, 7]\n",
      "719 [24]\n",
      "207 [17]\n",
      "122 [6]\n",
      "111 [30]\n",
      "279 [10]\n",
      "628 [63]\n",
      "579 [14]\n",
      "259 [8]\n",
      "298 [10]\n",
      "233 [10]\n"
     ]
    }
   ],
   "source": [
    "avg_lenght = {}\n",
    "for i, v in length.items():\n",
    "    avg_lenght[i] = sum(v) / len"
   ]
  },
  {
   "cell_type": "code",
   "execution_count": null,
   "metadata": {},
   "outputs": [],
   "source": []
  }
 ],
 "metadata": {
  "kernelspec": {
   "display_name": "Python 3",
   "language": "python",
   "name": "python3"
  },
  "language_info": {
   "codemirror_mode": {
    "name": "ipython",
    "version": 3
   },
   "file_extension": ".py",
   "mimetype": "text/x-python",
   "name": "python",
   "nbconvert_exporter": "python",
   "pygments_lexer": "ipython3",
   "version": "3.7.6"
  }
 },
 "nbformat": 4,
 "nbformat_minor": 4
}
